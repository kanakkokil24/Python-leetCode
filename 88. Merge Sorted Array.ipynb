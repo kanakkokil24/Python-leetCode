{
 "cells": [
  {
   "cell_type": "markdown",
   "id": "b814ddbb",
   "metadata": {},
   "source": [
    "# 88. Merge Sorted Array\n",
    "\n",
    "You are given two integer arrays nums1 and nums2, sorted in non-decreasing order, and two integers m and n, representing the number of elements in nums1 and nums2 respectively.\n",
    "\n",
    "Merge nums1 and nums2 into a single array sorted in non-decreasing order.\n",
    "\n",
    "The final sorted array should not be returned by the function, but instead be stored inside the array nums1. To accommodate this, nums1 has a length of m + n, where the first m elements denote the elements that should be merged, and the last n elements are set to 0 and should be ignored. nums2 has a length of n.\n",
    "\n",
    " \n",
    "\n",
    "### Example 1:\n",
    "\n",
    "Input: nums1 = [1,2,3,0,0,0], m = 3, nums2 = [2,5,6], n = 3<br>\n",
    "Output: [1,2,2,3,5,6]<br>\n",
    "Explanation: The arrays we are merging are [1,2,3] and [2,5,6].<br>\n",
    "The result of the merge is [1,2,2,3,5,6] with the underlined elements coming from nums1.<br>\n",
    "\n",
    "### Example 2:\n",
    "\n",
    "Input: nums1 = [1], m = 1, nums2 = [], n = 0<br>\n",
    "Output: [1]<br>\n",
    "Explanation: The arrays we are merging are [1] and [].<br>\n",
    "The result of the merge is [1].<br>\n",
    "\n",
    "### Example 3:\n",
    "\n",
    "Input: nums1 = [0], m = 0, nums2 = [1], n = 1<br>\n",
    "Output: [1]<br>\n",
    "Explanation: The arrays we are merging are [] and [1].<br>\n",
    "The result of the merge is [1].<br>\n",
    "Note that because m = 0, there are no elements in nums1. The 0 is only there to ensure the merge result can fit in nums1.<br>\n",
    " \n",
    "\n",
    "### Constraints:\n",
    "\n",
    "nums1.length == m + n<br>\n",
    "nums2.length == n<br>\n",
    "0 <= m, n <= 200<br>\n",
    "1 <= m + n <= 200<br>\n",
    "-109 <= nums1[i], nums2[j] <= 109<br>\n",
    " \n",
    "\n",
    "Follow up: Can you come up with an algorithm that runs in O(m + n) time?"
   ]
  },
  {
   "cell_type": "code",
   "execution_count": 10,
   "id": "ecac193a",
   "metadata": {},
   "outputs": [
    {
     "data": {
      "text/plain": [
       "[1, 2, 2, 3, 5, 6]"
      ]
     },
     "execution_count": 10,
     "metadata": {},
     "output_type": "execute_result"
    }
   ],
   "source": [
    "nums1 = [1,2,3,0,0,0]\n",
    "m = 3\n",
    "nums2 = [2,5,6]\n",
    "n = 3\n",
    "j = 0\n",
    "for i in range(m+n):\n",
    "    if i >= m:\n",
    "        nums1.pop(i)\n",
    "        nums1.insert(i,nums2[j])\n",
    "        j = j+1\n",
    "nums1.sort()\n",
    "nums1"
   ]
  },
  {
   "cell_type": "code",
   "execution_count": null,
   "id": "a8fc8109",
   "metadata": {},
   "outputs": [],
   "source": []
  }
 ],
 "metadata": {
  "kernelspec": {
   "display_name": "Python 3 (ipykernel)",
   "language": "python",
   "name": "python3"
  },
  "language_info": {
   "codemirror_mode": {
    "name": "ipython",
    "version": 3
   },
   "file_extension": ".py",
   "mimetype": "text/x-python",
   "name": "python",
   "nbconvert_exporter": "python",
   "pygments_lexer": "ipython3",
   "version": "3.7.6"
  },
  "toc": {
   "base_numbering": 1,
   "nav_menu": {},
   "number_sections": true,
   "sideBar": true,
   "skip_h1_title": false,
   "title_cell": "Table of Contents",
   "title_sidebar": "Contents",
   "toc_cell": false,
   "toc_position": {},
   "toc_section_display": true,
   "toc_window_display": false
  },
  "varInspector": {
   "cols": {
    "lenName": 16,
    "lenType": 16,
    "lenVar": 40
   },
   "kernels_config": {
    "python": {
     "delete_cmd_postfix": "",
     "delete_cmd_prefix": "del ",
     "library": "var_list.py",
     "varRefreshCmd": "print(var_dic_list())"
    },
    "r": {
     "delete_cmd_postfix": ") ",
     "delete_cmd_prefix": "rm(",
     "library": "var_list.r",
     "varRefreshCmd": "cat(var_dic_list()) "
    }
   },
   "types_to_exclude": [
    "module",
    "function",
    "builtin_function_or_method",
    "instance",
    "_Feature"
   ],
   "window_display": false
  }
 },
 "nbformat": 4,
 "nbformat_minor": 5
}
