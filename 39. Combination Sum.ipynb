{
 "cells": [
  {
   "cell_type": "markdown",
   "id": "81cdd952",
   "metadata": {},
   "source": [
    "# 39. Combination Sum\n",
    "\n",
    "Given an array of distinct integers candidates and a target integer target, return a list of all unique combinations of candidates where the chosen numbers sum to target. You may return the combinations in any order.\n",
    "\n",
    "The same number may be chosen from candidates an unlimited number of times. Two combinations are unique if the frequency of at least one of the chosen numbers is different.\n",
    "\n",
    "It is guaranteed that the number of unique combinations that sum up to target is less than 150 combinations for the given input.\n",
    "\n",
    " \n",
    "\n",
    "### Example 1:\n",
    "\n",
    "Input: candidates = [2,3,6,7], target = 7<br>\n",
    "Output: [[2,2,3],[7]]<br>\n",
    "Explanation:<br>\n",
    "2 and 3 are candidates, and 2 + 2 + 3 = 7. Note that 2 can be used multiple times.<br>\n",
    "7 is a candidate, and 7 = 7.<br>\n",
    "These are the only two combinations.<br>\n",
    "### Example 2:\n",
    "\n",
    "Input: candidates = [2,3,5], target = 8<br>\n",
    "Output: [[2,2,2,2],[2,3,3],[3,5]]<br>\n",
    "### Example 3:\n",
    "\n",
    "Input: candidates = [2], target = 1<br>\n",
    "Output: []<br>\n",
    " \n",
    "\n",
    "### Constraints:\n",
    "\n",
    "1 <= candidates.length <= 30<br>\n",
    "1 <= candidates[i] <= 200<br>\n",
    "All elements of candidates are distinct.<br>\n",
    "1 <= target <= 500<br>"
   ]
  },
  {
   "cell_type": "code",
   "execution_count": 24,
   "id": "cb9a07f7",
   "metadata": {},
   "outputs": [
    {
     "name": "stdout",
     "output_type": "stream",
     "text": [
      "i : 0\n",
      "candidates[i]: 2\n",
      "comb : [2]\n",
      "sum1 : 2\n",
      "comb : if []\n",
      "[]\n"
     ]
    }
   ],
   "source": [
    "candidates = [2,3,6,7]\n",
    "target = 7\n",
    "candidates = [2,3,5]\n",
    "target = 8\n",
    "candidates = [2]\n",
    "target = 1\n",
    "\n",
    "sum1 = 0\n",
    "res = []\n",
    "candidates.sort()\n",
    "def backtrack(comb,sum1):\n",
    "    \n",
    "    if sum1 == target:\n",
    "        val = comb.copy()\n",
    "        val.sort()\n",
    "        if val not in res:\n",
    "            res.append(comb.copy())\n",
    "        return\n",
    "    elif sum1 > target:\n",
    "        return\n",
    "    \n",
    "    for i in range(len(candidates)):\n",
    "        \n",
    "        print(\"i : {}\".format(i))\n",
    "        print(\"candidates[i]: {}\".format(candidates[i]))\n",
    "        \n",
    "        comb.append(candidates[i])\n",
    "        \n",
    "        print(\"comb : {}\".format(comb))\n",
    "        \n",
    "        sum1 = sum(comb)\n",
    "        \n",
    "        print(\"sum1 : {}\".format(sum1))\n",
    "       \n",
    "        \n",
    "        backtrack(comb,sum1)\n",
    "        if (sum1>target):\n",
    "            comb.pop()\n",
    "            print(\"comb : if {}\".format(comb))\n",
    "            break\n",
    "        comb.pop()\n",
    "       \n",
    "        \n",
    "        \n",
    "backtrack([],sum1)\n",
    "print(res)\n",
    "        "
   ]
  },
  {
   "cell_type": "code",
   "execution_count": null,
   "id": "6d57938d",
   "metadata": {},
   "outputs": [],
   "source": []
  }
 ],
 "metadata": {
  "kernelspec": {
   "display_name": "Python 3 (ipykernel)",
   "language": "python",
   "name": "python3"
  },
  "language_info": {
   "codemirror_mode": {
    "name": "ipython",
    "version": 3
   },
   "file_extension": ".py",
   "mimetype": "text/x-python",
   "name": "python",
   "nbconvert_exporter": "python",
   "pygments_lexer": "ipython3",
   "version": "3.7.6"
  },
  "toc": {
   "base_numbering": 1,
   "nav_menu": {},
   "number_sections": true,
   "sideBar": true,
   "skip_h1_title": false,
   "title_cell": "Table of Contents",
   "title_sidebar": "Contents",
   "toc_cell": false,
   "toc_position": {},
   "toc_section_display": true,
   "toc_window_display": false
  },
  "varInspector": {
   "cols": {
    "lenName": 16,
    "lenType": 16,
    "lenVar": 40
   },
   "kernels_config": {
    "python": {
     "delete_cmd_postfix": "",
     "delete_cmd_prefix": "del ",
     "library": "var_list.py",
     "varRefreshCmd": "print(var_dic_list())"
    },
    "r": {
     "delete_cmd_postfix": ") ",
     "delete_cmd_prefix": "rm(",
     "library": "var_list.r",
     "varRefreshCmd": "cat(var_dic_list()) "
    }
   },
   "types_to_exclude": [
    "module",
    "function",
    "builtin_function_or_method",
    "instance",
    "_Feature"
   ],
   "window_display": false
  }
 },
 "nbformat": 4,
 "nbformat_minor": 5
}
