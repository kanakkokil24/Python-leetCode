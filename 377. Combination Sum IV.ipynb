{
 "cells": [
  {
   "cell_type": "markdown",
   "id": "ed584ef6",
   "metadata": {},
   "source": [
    "# 377. Combination Sum IV\n",
    "\n",
    "Given an array of distinct integers nums and a target integer target, return the number of possible combinations that add up to target.\n",
    "\n",
    "The test cases are generated so that the answer can fit in a 32-bit integer.\n",
    "\n",
    " \n",
    "\n",
    "### Example 1:\n",
    "\n",
    "Input: nums = [1,2,3], target = 4<br>\n",
    "Output: 7<br>\n",
    "Explanation:<br>\n",
    "The possible combination ways are:<br>\n",
    "(1, 1, 1, 1)<br>\n",
    "(1, 1, 2)<br>\n",
    "(1, 2, 1)<br>\n",
    "(1, 3)<br>\n",
    "(2, 1, 1)<br>\n",
    "(2, 2)<br>\n",
    "(3, 1)<br>\n",
    "Note that different sequences are counted as different combinations.<br>\n",
    "### Example 2:\n",
    "\n",
    "Input: nums = [9], target = 3<br>\n",
    "Output: 0<br>\n",
    " \n",
    "\n",
    "### Constraints:\n",
    "\n",
    "1 <= nums.length <= 200<br>\n",
    "1 <= nums[i] <= 1000<br>\n",
    "All the elements of nums are unique.<br>\n",
    "1 <= target <= 1000<br>\n",
    " \n",
    "\n",
    "Follow up: What if negative numbers are allowed in the given array? How does it change the problem? What limitation we need to add to the question to allow negative numbers?"
   ]
  },
  {
   "cell_type": "code",
   "execution_count": 7,
   "id": "04ba06d2",
   "metadata": {},
   "outputs": [
    {
     "name": "stdout",
     "output_type": "stream",
     "text": [
      "7\n"
     ]
    }
   ],
   "source": [
    "nums = [1,2,3]\n",
    "target = 4\n",
    "\n",
    "res = []\n",
    "\n",
    "count = 0\n",
    "nums.sort()\n",
    "def backtrack(start,sum1,comb):\n",
    "    if sum1==target:\n",
    "        res.append(comb.copy())\n",
    "        #count = count+1\n",
    "        return\n",
    "    elif sum1 > target:\n",
    "        return\n",
    "    \n",
    "    for i in range(len(nums)):\n",
    "        comb.append(nums[i])\n",
    "        sum1 = sum(comb)\n",
    "        backtrack(i,sum1,comb)\n",
    "        if sum1>=target:\n",
    "            comb.pop()\n",
    "            break\n",
    "        comb.pop()\n",
    "        \n",
    "backtrack(0,0,[])\n",
    "print(len(res))"
   ]
  },
  {
   "cell_type": "code",
   "execution_count": 10,
   "id": "b669f942",
   "metadata": {},
   "outputs": [
    {
     "data": {
      "text/plain": [
       "0"
      ]
     },
     "execution_count": 10,
     "metadata": {},
     "output_type": "execute_result"
    }
   ],
   "source": [
    "nums = [1,2,3]\n",
    "target = 4\n",
    "\n",
    "nums = [9]\n",
    "target = 3\n",
    "\n",
    "dp={0:1}\n",
    "\n",
    "for i in range(1,target+1):\n",
    "    dp[i]=0\n",
    "    for n in nums:\n",
    "        if n <= i:\n",
    "            dp[i]= dp[i]+dp[i-n]\n",
    "dp[target]"
   ]
  },
  {
   "cell_type": "code",
   "execution_count": null,
   "id": "024e761c",
   "metadata": {},
   "outputs": [],
   "source": []
  }
 ],
 "metadata": {
  "kernelspec": {
   "display_name": "Python 3 (ipykernel)",
   "language": "python",
   "name": "python3"
  },
  "language_info": {
   "codemirror_mode": {
    "name": "ipython",
    "version": 3
   },
   "file_extension": ".py",
   "mimetype": "text/x-python",
   "name": "python",
   "nbconvert_exporter": "python",
   "pygments_lexer": "ipython3",
   "version": "3.7.6"
  },
  "toc": {
   "base_numbering": 1,
   "nav_menu": {},
   "number_sections": true,
   "sideBar": true,
   "skip_h1_title": false,
   "title_cell": "Table of Contents",
   "title_sidebar": "Contents",
   "toc_cell": false,
   "toc_position": {},
   "toc_section_display": true,
   "toc_window_display": false
  },
  "varInspector": {
   "cols": {
    "lenName": 16,
    "lenType": 16,
    "lenVar": 40
   },
   "kernels_config": {
    "python": {
     "delete_cmd_postfix": "",
     "delete_cmd_prefix": "del ",
     "library": "var_list.py",
     "varRefreshCmd": "print(var_dic_list())"
    },
    "r": {
     "delete_cmd_postfix": ") ",
     "delete_cmd_prefix": "rm(",
     "library": "var_list.r",
     "varRefreshCmd": "cat(var_dic_list()) "
    }
   },
   "types_to_exclude": [
    "module",
    "function",
    "builtin_function_or_method",
    "instance",
    "_Feature"
   ],
   "window_display": false
  }
 },
 "nbformat": 4,
 "nbformat_minor": 5
}
