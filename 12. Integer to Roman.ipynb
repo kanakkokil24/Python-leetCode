{
 "cells": [
  {
   "cell_type": "markdown",
   "id": "6645fab2",
   "metadata": {},
   "source": [
    "# 12. Integer to Roman\n",
    "\n",
    "Roman numerals are represented by seven different symbols: I, V, X, L, C, D and M.\n",
    "\n",
    "Symbol       Value<br>\n",
    "I             1<br>\n",
    "V             5<br>\n",
    "X             10<br>\n",
    "L             50<br>\n",
    "C             100<br>\n",
    "D             500<br>\n",
    "M             1000<br>\n",
    "For example, 2 is written as II in Roman numeral, just two one's added together. 12 is written as XII, which is simply X + II. The number 27 is written as XXVII, which is XX + V + II.<br>\n",
    "\n",
    "Roman numerals are usually written largest to smallest from left to right. However, the numeral for four is not IIII. Instead, the number four is written as IV. Because the one is before the five we subtract it making four. The same principle applies to the number nine, which is written as IX. There are six instances where subtraction is used:<br>\n",
    "\n",
    "I can be placed before V (5) and X (10) to make 4 and 9. <br>\n",
    "X can be placed before L (50) and C (100) to make 40 and 90. <br>\n",
    "C can be placed before D (500) and M (1000) to make 400 and 900.<br>\n",
    "Given an integer, convert it to a roman numeral.<br>\n",
    "\n",
    " \n",
    "\n",
    "### Example 1:\n",
    "\n",
    "Input: num = 3<br>\n",
    "Output: \"III\"<br>\n",
    "Explanation: 3 is represented as 3 ones.<br>\n",
    "### Example 2:\n",
    "\n",
    "Input: num = 58<br>\n",
    "Output: \"LVIII\"<br>\n",
    "Explanation: L = 50, V = 5, III = 3.<br>\n",
    "### Example 3:\n",
    "\n",
    "Input: num = 1994<br>\n",
    "Output: \"MCMXCIV\"<br>\n",
    "Explanation: M = 1000, CM = 900, XC = 90 and IV = 4.<br>\n",
    " \n",
    "\n",
    "### Constraints:\n",
    "\n",
    "1 <= num <= 3999"
   ]
  },
  {
   "cell_type": "code",
   "execution_count": 34,
   "id": "8e3fa547",
   "metadata": {},
   "outputs": [
    {
     "name": "stdout",
     "output_type": "stream",
     "text": [
      "XXVIII\n"
     ]
    }
   ],
   "source": [
    "num = 28\n",
    "\n",
    "dict1 = [['I',1],['IV',4],['V',5], ['IX',9],['X',10],['XL',40],['L',50],['XC',90],\\\n",
    "         ['C',100],['CD',400],['D',500],['CM',900],['M',1000]]\n",
    "\n",
    "res = \"\"\n",
    "for rom,val in reversed(dict1):\n",
    "    if num // val > 0:\n",
    "        res = res + rom*(num // val)\n",
    "        num = num%val\n",
    "print(res)    "
   ]
  },
  {
   "cell_type": "code",
   "execution_count": 30,
   "id": "023c0d08",
   "metadata": {},
   "outputs": [
    {
     "data": {
      "text/plain": [
       "3"
      ]
     },
     "execution_count": 30,
     "metadata": {},
     "output_type": "execute_result"
    }
   ],
   "source": [
    "23%10"
   ]
  },
  {
   "cell_type": "code",
   "execution_count": null,
   "id": "abcc7b32",
   "metadata": {},
   "outputs": [],
   "source": []
  }
 ],
 "metadata": {
  "kernelspec": {
   "display_name": "Python 3 (ipykernel)",
   "language": "python",
   "name": "python3"
  },
  "language_info": {
   "codemirror_mode": {
    "name": "ipython",
    "version": 3
   },
   "file_extension": ".py",
   "mimetype": "text/x-python",
   "name": "python",
   "nbconvert_exporter": "python",
   "pygments_lexer": "ipython3",
   "version": "3.7.6"
  },
  "toc": {
   "base_numbering": 1,
   "nav_menu": {},
   "number_sections": true,
   "sideBar": true,
   "skip_h1_title": false,
   "title_cell": "Table of Contents",
   "title_sidebar": "Contents",
   "toc_cell": false,
   "toc_position": {},
   "toc_section_display": true,
   "toc_window_display": false
  },
  "varInspector": {
   "cols": {
    "lenName": 16,
    "lenType": 16,
    "lenVar": 40
   },
   "kernels_config": {
    "python": {
     "delete_cmd_postfix": "",
     "delete_cmd_prefix": "del ",
     "library": "var_list.py",
     "varRefreshCmd": "print(var_dic_list())"
    },
    "r": {
     "delete_cmd_postfix": ") ",
     "delete_cmd_prefix": "rm(",
     "library": "var_list.r",
     "varRefreshCmd": "cat(var_dic_list()) "
    }
   },
   "types_to_exclude": [
    "module",
    "function",
    "builtin_function_or_method",
    "instance",
    "_Feature"
   ],
   "window_display": false
  }
 },
 "nbformat": 4,
 "nbformat_minor": 5
}
