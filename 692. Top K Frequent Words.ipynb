{
 "cells": [
  {
   "cell_type": "markdown",
   "id": "a5d32710",
   "metadata": {},
   "source": [
    "# 692. Top K Frequent Words\n",
    "\n",
    "Given an array of strings words and an integer k, return the k most frequent strings.\n",
    "\n",
    "Return the answer sorted by the frequency from highest to lowest. Sort the words with the same frequency by their lexicographical order.\n",
    "\n",
    " \n",
    "\n",
    "### Example 1:\n",
    "\n",
    "Input: words = [\"i\",\"love\",\"leetcode\",\"i\",\"love\",\"coding\"], k = 2<br>\n",
    "Output: [\"i\",\"love\"]<br>\n",
    "Explanation: \"i\" and \"love\" are the two most frequent words.<br>\n",
    "Note that \"i\" comes before \"love\" due to a lower alphabetical order.<br>\n",
    "\n",
    "### Example 2:\n",
    "\n",
    "Input: words = [\"the\",\"day\",\"is\",\"sunny\",\"the\",\"the\",\"the\",\"sunny\",\"is\",\"is\"], k = 4<br>\n",
    "Output: [\"the\",\"is\",\"sunny\",\"day\"]<br>\n",
    "Explanation: \"the\", \"is\", \"sunny\" and \"day\" are the four most frequent words, with the number of occurrence being 4, 3, 2 and 1 respectively.<br>\n",
    " \n",
    "\n",
    "### Constraints:\n",
    "\n",
    "1 <= words.length <= 500<br>\n",
    "1 <= words[i] <= 10<br>\n",
    "words[i] consists of lowercase English letters.<br>\n",
    "k is in the range [1, The number of unique words[i]]<br>"
   ]
  },
  {
   "cell_type": "code",
   "execution_count": 12,
   "id": "591d2283",
   "metadata": {},
   "outputs": [
    {
     "name": "stdout",
     "output_type": "stream",
     "text": [
      "['the', 'is', 'sunny', 'day']\n"
     ]
    }
   ],
   "source": [
    "words = [\"love\",\"leetcode\",\"i\",\"i\",\"love\",\"coding\"]\n",
    "k = 2\n",
    "\n",
    "words = [\"the\",\"day\",\"is\",\"sunny\",\"the\",\"the\",\"the\",\"sunny\",\"is\",\"is\"]\n",
    "k = 4\n",
    "\n",
    "words.sort()\n",
    "\n",
    "dict1 = dict()\n",
    "for word in words:\n",
    "    dict1[word]=words.count(word)\n",
    "\n",
    "sorted_tuple = sorted(dict1.items(), key = lambda x:x[1],reverse = True)\n",
    "print([k for k,v in sorted_tuple][:k])"
   ]
  },
  {
   "cell_type": "code",
   "execution_count": null,
   "id": "31cd1914",
   "metadata": {},
   "outputs": [],
   "source": []
  }
 ],
 "metadata": {
  "kernelspec": {
   "display_name": "Python 3 (ipykernel)",
   "language": "python",
   "name": "python3"
  },
  "language_info": {
   "codemirror_mode": {
    "name": "ipython",
    "version": 3
   },
   "file_extension": ".py",
   "mimetype": "text/x-python",
   "name": "python",
   "nbconvert_exporter": "python",
   "pygments_lexer": "ipython3",
   "version": "3.7.6"
  },
  "toc": {
   "base_numbering": 1,
   "nav_menu": {},
   "number_sections": true,
   "sideBar": true,
   "skip_h1_title": false,
   "title_cell": "Table of Contents",
   "title_sidebar": "Contents",
   "toc_cell": false,
   "toc_position": {},
   "toc_section_display": true,
   "toc_window_display": false
  },
  "varInspector": {
   "cols": {
    "lenName": 16,
    "lenType": 16,
    "lenVar": 40
   },
   "kernels_config": {
    "python": {
     "delete_cmd_postfix": "",
     "delete_cmd_prefix": "del ",
     "library": "var_list.py",
     "varRefreshCmd": "print(var_dic_list())"
    },
    "r": {
     "delete_cmd_postfix": ") ",
     "delete_cmd_prefix": "rm(",
     "library": "var_list.r",
     "varRefreshCmd": "cat(var_dic_list()) "
    }
   },
   "types_to_exclude": [
    "module",
    "function",
    "builtin_function_or_method",
    "instance",
    "_Feature"
   ],
   "window_display": false
  }
 },
 "nbformat": 4,
 "nbformat_minor": 5
}
