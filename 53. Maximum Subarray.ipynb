{
 "cells": [
  {
   "cell_type": "markdown",
   "id": "3aaa70ec",
   "metadata": {},
   "source": [
    "# 53. Maximum Subarray\n",
    "\n",
    "Given an integer array nums, find the contiguous subarray (containing at least one number) which has the largest sum and return its sum.\n",
    "\n",
    "A subarray is a contiguous part of an array.\n",
    "\n",
    "\n",
    "\n",
    "\n",
    "### Example 1:\n",
    "\n",
    "Input: nums = [-2,1,-3,4,-1,2,1,-5,4] <br>\n",
    "Output: 6 <br>\n",
    "Explanation: [4,-1,2,1] has the largest sum = 6.<br>\n",
    "\n",
    "### Example 2:\n",
    "\n",
    "Input: nums = [1] <br>\n",
    "Output: 1 <br>\n",
    "\n",
    "### Example 3:\n",
    "\n",
    "Input: nums = [5,4,-1,7,8] <br>\n",
    "Output: 23 <br>\n",
    " \n",
    "\n",
    "### Constraints:\n",
    "\n",
    "1 <= nums.length <= 105 <br>\n",
    "-104 <= nums[i] <= 104 <br>\n",
    " \n",
    "\n",
    "Follow up: If you have figured out the O(n) solution, try coding another solution using the divide and conquer approach, which is more subtle."
   ]
  },
  {
   "cell_type": "code",
   "execution_count": 23,
   "id": "701a87a3",
   "metadata": {},
   "outputs": [
    {
     "name": "stdout",
     "output_type": "stream",
     "text": [
      "6\n"
     ]
    }
   ],
   "source": [
    "nums = [-2,1,-3,4,-1,2,1,-5,4]\n",
    "#nums = [1]\n",
    "#nums = [5,4,-1,7,8]\n",
    "#nums = [-2,1]\n",
    "sum1 = 0\n",
    "max_num = nums[0]\n",
    "for n in nums:\n",
    "    if sum1 < 0:\n",
    "        sum1 = n\n",
    "    else:\n",
    "        sum1 = sum1+n\n",
    "    \n",
    "    max_num = max(max_num,sum1)\n",
    "print(max_num)\n",
    "    \n",
    "    \n",
    "\n"
   ]
  },
  {
   "cell_type": "code",
   "execution_count": null,
   "id": "7275c585",
   "metadata": {},
   "outputs": [],
   "source": []
  }
 ],
 "metadata": {
  "kernelspec": {
   "display_name": "Python 3 (ipykernel)",
   "language": "python",
   "name": "python3"
  },
  "language_info": {
   "codemirror_mode": {
    "name": "ipython",
    "version": 3
   },
   "file_extension": ".py",
   "mimetype": "text/x-python",
   "name": "python",
   "nbconvert_exporter": "python",
   "pygments_lexer": "ipython3",
   "version": "3.7.6"
  },
  "toc": {
   "base_numbering": 1,
   "nav_menu": {},
   "number_sections": true,
   "sideBar": true,
   "skip_h1_title": false,
   "title_cell": "Table of Contents",
   "title_sidebar": "Contents",
   "toc_cell": false,
   "toc_position": {},
   "toc_section_display": true,
   "toc_window_display": false
  },
  "varInspector": {
   "cols": {
    "lenName": 16,
    "lenType": 16,
    "lenVar": 40
   },
   "kernels_config": {
    "python": {
     "delete_cmd_postfix": "",
     "delete_cmd_prefix": "del ",
     "library": "var_list.py",
     "varRefreshCmd": "print(var_dic_list())"
    },
    "r": {
     "delete_cmd_postfix": ") ",
     "delete_cmd_prefix": "rm(",
     "library": "var_list.r",
     "varRefreshCmd": "cat(var_dic_list()) "
    }
   },
   "types_to_exclude": [
    "module",
    "function",
    "builtin_function_or_method",
    "instance",
    "_Feature"
   ],
   "window_display": false
  }
 },
 "nbformat": 4,
 "nbformat_minor": 5
}
