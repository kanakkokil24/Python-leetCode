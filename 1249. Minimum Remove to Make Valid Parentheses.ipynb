{
 "cells": [
  {
   "cell_type": "markdown",
   "id": "b87644d4",
   "metadata": {},
   "source": [
    "# 1249. Minimum Remove to Make Valid Parentheses\n",
    "\n",
    "Given a string s of '(' , ')' and lowercase English characters.\n",
    "\n",
    "Your task is to remove the minimum number of parentheses ( '(' or ')', in any positions ) so that the resulting <br>parentheses string is valid and return any valid string.\n",
    "\n",
    "Formally, a parentheses string is valid if and only if:\n",
    "\n",
    "It is the empty string, contains only lowercase characters, or<br>\n",
    "It can be written as AB (A concatenated with B), where A and B are valid strings, or<br>\n",
    "It can be written as (A), where A is a valid string.<br>\n",
    " \n",
    "\n",
    "### Example 1:\n",
    "\n",
    "Input: s = \"lee(t(c)o)de)\"<br>\n",
    "Output: \"lee(t(c)o)de\"<br>\n",
    "Explanation: \"lee(t(co)de)\" , \"lee(t(c)ode)\" would also be accepted.<br>\n",
    "### Example 2:\n",
    "\n",
    "Input: s = \"a)b(c)d\"<br>\n",
    "Output: \"ab(c)d\"<br>\n",
    "### Example 3:\n",
    "\n",
    "Input: s = \"))((\"<br>\n",
    "Output: \"\"<br>\n",
    "Explanation: An empty string is also valid.<br>\n",
    " \n",
    "\n",
    "### Constraints:\n",
    "\n",
    "1 <= s.length <= 105<br>\n",
    "s[i] is either'(' , ')', or lowercase English letter.<br>\n"
   ]
  },
  {
   "cell_type": "code",
   "execution_count": 17,
   "id": "03a50102",
   "metadata": {},
   "outputs": [
    {
     "name": "stdout",
     "output_type": "stream",
     "text": [
      "lee(t(c)ode)\n"
     ]
    }
   ],
   "source": [
    "s = \"le(e(t(c)ode)\"\n",
    "\n",
    "S1 = list(s)\n",
    "stack= []\n",
    "\n",
    "for i in range(len(S1)):\n",
    "    if S1[i] == \"(\":\n",
    "        stack.append(i)\n",
    "    elif S1[i] == \")\":\n",
    "        if stack:\n",
    "            stack.pop()\n",
    "        else:\n",
    "            S1[i]=\"\"\n",
    "            \n",
    "for i in stack:\n",
    "    S1[i]=\"\"\n",
    "\n",
    "print(''.join(S1))"
   ]
  },
  {
   "cell_type": "code",
   "execution_count": null,
   "id": "5f1adb5d",
   "metadata": {},
   "outputs": [],
   "source": []
  }
 ],
 "metadata": {
  "kernelspec": {
   "display_name": "Python 3 (ipykernel)",
   "language": "python",
   "name": "python3"
  },
  "language_info": {
   "codemirror_mode": {
    "name": "ipython",
    "version": 3
   },
   "file_extension": ".py",
   "mimetype": "text/x-python",
   "name": "python",
   "nbconvert_exporter": "python",
   "pygments_lexer": "ipython3",
   "version": "3.7.6"
  },
  "toc": {
   "base_numbering": 1,
   "nav_menu": {},
   "number_sections": true,
   "sideBar": true,
   "skip_h1_title": false,
   "title_cell": "Table of Contents",
   "title_sidebar": "Contents",
   "toc_cell": false,
   "toc_position": {},
   "toc_section_display": true,
   "toc_window_display": false
  },
  "varInspector": {
   "cols": {
    "lenName": 16,
    "lenType": 16,
    "lenVar": 40
   },
   "kernels_config": {
    "python": {
     "delete_cmd_postfix": "",
     "delete_cmd_prefix": "del ",
     "library": "var_list.py",
     "varRefreshCmd": "print(var_dic_list())"
    },
    "r": {
     "delete_cmd_postfix": ") ",
     "delete_cmd_prefix": "rm(",
     "library": "var_list.r",
     "varRefreshCmd": "cat(var_dic_list()) "
    }
   },
   "types_to_exclude": [
    "module",
    "function",
    "builtin_function_or_method",
    "instance",
    "_Feature"
   ],
   "window_display": false
  }
 },
 "nbformat": 4,
 "nbformat_minor": 5
}
