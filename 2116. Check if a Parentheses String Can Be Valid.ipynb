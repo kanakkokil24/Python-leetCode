{
 "cells": [
  {
   "cell_type": "markdown",
   "id": "7183d197",
   "metadata": {},
   "source": [
    "# 2116. Check if a Parentheses String Can Be Valid\n",
    "\n",
    "A parentheses string is a non-empty string consisting only of '(' and ')'. It is valid if any of the following conditions is true:\n",
    "\n",
    "It is ().\n",
    "It can be written as AB (A concatenated with B), where A and B are valid parentheses strings.\n",
    "It can be written as (A), where A is a valid parentheses string.\n",
    "You are given a parentheses string s and a string locked, both of length n. locked is a binary string consisting only of '0's and '1's. For each index i of locked,\n",
    "\n",
    "If locked[i] is '1', you cannot change s[i].\n",
    "But if locked[i] is '0', you can change s[i] to either '(' or ')'.\n",
    "Return true if you can make s a valid parentheses string. Otherwise, return false.\n",
    "\n",
    " \n",
    "\n",
    "### Example 1:\n",
    "\n",
    "\n",
    "Input: s = \"))()))\", locked = \"010100\"<br>\n",
    "Output: true<br>\n",
    "Explanation: locked[1] == '1' and locked[3] == '1', so we cannot change s[1] or s[3].<br>\n",
    "We change s[0] and s[4] to '(' while leaving s[2] and s[5] unchanged to make s valid.<br>\n",
    "### Example 2:\n",
    "\n",
    "Input: s = \"()()\", locked = \"0000\"<br>\n",
    "Output: true<br>\n",
    "Explanation: We do not need to make any changes because s is already valid.<br>\n",
    "### Example 3:\n",
    "\n",
    "Input: s = \")\", locked = \"0\"<br>\n",
    "Output: false<br>\n",
    "Explanation: locked permits us to change s[0]. <br>\n",
    "Changing s[0] to either '(' or ')' will not make s valid.<br>\n",
    " \n",
    "\n",
    "### Constraints:\n",
    "\n",
    "n == s.length == locked.length<br>\n",
    "1 <= n <= 105<br>\n",
    "s[i] is either '(' or ')'.<br>\n",
    "locked[i] is either '0' or '1'.<br>"
   ]
  },
  {
   "cell_type": "code",
   "execution_count": 16,
   "id": "f40a2a32",
   "metadata": {},
   "outputs": [
    {
     "name": "stdout",
     "output_type": "stream",
     "text": [
      "False\n",
      "True\n"
     ]
    }
   ],
   "source": [
    "s = \"))()))\"\n",
    "locked = \"010100\"\n",
    "#s = \"()()\"\n",
    "#locked = \"0000\"\n",
    "#s = \")\"\n",
    "#locked = \"0\"\n",
    "s = \"(()())\"\n",
    "locked = \"111111\"\n",
    "s = \"())(()(()(())()())(())((())(()())((())))))(((((((())(()))))(\"\n",
    "locked = \"100011110110011011010111100111011101111110000101001101001111\"\n",
    "if len(s)%2 == 0:\n",
    "    \n",
    "    opening = 0\n",
    "    closing = 0\n",
    "    free = 0\n",
    "    \n",
    "    for i in range(len(s)):\n",
    "        if locked[i]=='0':\n",
    "            free = free+1\n",
    "        elif s[i] == '(':\n",
    "            opening = opening+1\n",
    "        else:\n",
    "            closing = closing+1\n",
    "        \n",
    "        #print(\"closing : {}\".format(closing))\n",
    "        #print(\"opening : {}\".format(opening))\n",
    "        #print(\"free : {}\".format(free))\n",
    "        if closing > opening+free:\n",
    "            print (False)\n",
    "    opening = 0\n",
    "    closing = 0\n",
    "    free = 0\n",
    "    for i in range(len(s)-1,-1,-1):\n",
    "        if locked[i]=='0':\n",
    "            free = free+1\n",
    "        elif s[i] == '(':\n",
    "            opening = opening+1\n",
    "        else:\n",
    "            closing = closing+1\n",
    "        \n",
    "        #print(\"closing : {}\".format(closing))\n",
    "        #print(\"opening : {}\".format(opening))\n",
    "        #print(\"free : {}\".format(free))\n",
    "        if opening > closing+free:\n",
    "            print (False) \n",
    "    print(True)\n",
    "else:\n",
    "    print(False)\n",
    "        "
   ]
  },
  {
   "cell_type": "code",
   "execution_count": null,
   "id": "b1b24476",
   "metadata": {},
   "outputs": [],
   "source": [
    "s = \"))()))\"\n",
    "locked = \"010100\"\n",
    "\n",
    "dict1 = {'(':')'}\n",
    "stack = []\n",
    "if len(s)%2 == 0:\n",
    "    for i,x in enumerate(s):\n",
    "        \n",
    "            \n",
    "        if i%2==0 and x == ')' and locked[i] != '0':\n",
    "            print(False)\n",
    "            break\n",
    "        if i%2!=0 and x == '(' and locked[i] != '0':\n",
    "            print(False)\n",
    "            break\n",
    "    print(True)\n",
    "else:\n",
    "    print(False)\n",
    "        "
   ]
  }
 ],
 "metadata": {
  "kernelspec": {
   "display_name": "Python 3 (ipykernel)",
   "language": "python",
   "name": "python3"
  },
  "language_info": {
   "codemirror_mode": {
    "name": "ipython",
    "version": 3
   },
   "file_extension": ".py",
   "mimetype": "text/x-python",
   "name": "python",
   "nbconvert_exporter": "python",
   "pygments_lexer": "ipython3",
   "version": "3.7.6"
  },
  "toc": {
   "base_numbering": 1,
   "nav_menu": {},
   "number_sections": true,
   "sideBar": true,
   "skip_h1_title": false,
   "title_cell": "Table of Contents",
   "title_sidebar": "Contents",
   "toc_cell": false,
   "toc_position": {},
   "toc_section_display": true,
   "toc_window_display": false
  },
  "varInspector": {
   "cols": {
    "lenName": 16,
    "lenType": 16,
    "lenVar": 40
   },
   "kernels_config": {
    "python": {
     "delete_cmd_postfix": "",
     "delete_cmd_prefix": "del ",
     "library": "var_list.py",
     "varRefreshCmd": "print(var_dic_list())"
    },
    "r": {
     "delete_cmd_postfix": ") ",
     "delete_cmd_prefix": "rm(",
     "library": "var_list.r",
     "varRefreshCmd": "cat(var_dic_list()) "
    }
   },
   "types_to_exclude": [
    "module",
    "function",
    "builtin_function_or_method",
    "instance",
    "_Feature"
   ],
   "window_display": false
  }
 },
 "nbformat": 4,
 "nbformat_minor": 5
}
