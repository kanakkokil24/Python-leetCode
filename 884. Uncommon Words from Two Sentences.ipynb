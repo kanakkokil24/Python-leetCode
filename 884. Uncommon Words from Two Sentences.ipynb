{
 "cells": [
  {
   "cell_type": "markdown",
   "id": "db1f24e7",
   "metadata": {},
   "source": [
    "# 884. Uncommon Words from Two Sentences\n",
    "\n",
    "\n",
    "A sentence is a string of single-space separated words where each word consists only of lowercase letters.\n",
    "\n",
    "A word is uncommon if it appears exactly once in one of the sentences, and does not appear in the other sentence.\n",
    "\n",
    "Given two sentences s1 and s2, return a list of all the uncommon words. You may return the answer in any order.\n",
    "\n",
    " \n",
    "\n",
    "### Example 1:\n",
    "\n",
    "Input: s1 = \"this apple is sweet\", s2 = \"this apple is sour\"<br>\n",
    "Output: [\"sweet\",\"sour\"]<br>\n",
    "\n",
    "### Example 2:<br>\n",
    "\n",
    "Input: s1 = \"apple apple\", s2 = \"banana\"<br>\n",
    "Output: [\"banana\"]<br>\n",
    " \n",
    "\n",
    "### Constraints:<br>\n",
    "\n",
    "1 <= s1.length, s2.length <= 200<br>\n",
    "s1 and s2 consist of lowercase English letters and spaces.<br>\n",
    "s1 and s2 do not have leading or trailing spaces.<br>\n",
    "All the words in s1 and s2 are separated by a single space.<br>"
   ]
  },
  {
   "cell_type": "code",
   "execution_count": 9,
   "id": "c5e4a05c",
   "metadata": {},
   "outputs": [
    {
     "name": "stdout",
     "output_type": "stream",
     "text": [
      "['sweet', 'sour']\n"
     ]
    }
   ],
   "source": [
    "s1 = \"this apple is sweet\"\n",
    "s2 = \"this apple is sour\"\n",
    "\n",
    "stack = []\n",
    "s1 = s1.split()\n",
    "s2 = s2.split()\n",
    "length = max(len(s1),len(s2))\n",
    "for i in range(length):\n",
    "    if i < len(s1) and s1.count(s1[i])==1 and s1[i] not in s2:\n",
    "        stack.append(s1[i])\n",
    "    if i < len(s2) and s2.count(s2[i])==1 and s2[i] not in s1:\n",
    "        stack.append(s2[i])\n",
    "print(stack)"
   ]
  },
  {
   "cell_type": "code",
   "execution_count": 6,
   "id": "546c0d2d",
   "metadata": {},
   "outputs": [
    {
     "data": {
      "text/plain": [
       "['this', 'apple', 'is', 'sweet']"
      ]
     },
     "execution_count": 6,
     "metadata": {},
     "output_type": "execute_result"
    }
   ],
   "source": [
    "s1.split()"
   ]
  },
  {
   "cell_type": "code",
   "execution_count": null,
   "id": "74a07763",
   "metadata": {},
   "outputs": [],
   "source": []
  }
 ],
 "metadata": {
  "kernelspec": {
   "display_name": "Python 3 (ipykernel)",
   "language": "python",
   "name": "python3"
  },
  "language_info": {
   "codemirror_mode": {
    "name": "ipython",
    "version": 3
   },
   "file_extension": ".py",
   "mimetype": "text/x-python",
   "name": "python",
   "nbconvert_exporter": "python",
   "pygments_lexer": "ipython3",
   "version": "3.7.6"
  },
  "toc": {
   "base_numbering": 1,
   "nav_menu": {},
   "number_sections": true,
   "sideBar": true,
   "skip_h1_title": false,
   "title_cell": "Table of Contents",
   "title_sidebar": "Contents",
   "toc_cell": false,
   "toc_position": {},
   "toc_section_display": true,
   "toc_window_display": false
  },
  "varInspector": {
   "cols": {
    "lenName": 16,
    "lenType": 16,
    "lenVar": 40
   },
   "kernels_config": {
    "python": {
     "delete_cmd_postfix": "",
     "delete_cmd_prefix": "del ",
     "library": "var_list.py",
     "varRefreshCmd": "print(var_dic_list())"
    },
    "r": {
     "delete_cmd_postfix": ") ",
     "delete_cmd_prefix": "rm(",
     "library": "var_list.r",
     "varRefreshCmd": "cat(var_dic_list()) "
    }
   },
   "types_to_exclude": [
    "module",
    "function",
    "builtin_function_or_method",
    "instance",
    "_Feature"
   ],
   "window_display": false
  }
 },
 "nbformat": 4,
 "nbformat_minor": 5
}
