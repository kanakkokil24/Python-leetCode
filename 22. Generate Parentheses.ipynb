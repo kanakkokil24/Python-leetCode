{
 "cells": [
  {
   "cell_type": "markdown",
   "id": "68e7bba4",
   "metadata": {},
   "source": [
    "# 22. Generate Parentheses\n",
    "\n",
    "Given n pairs of parentheses, write a function to generate all combinations of well-formed parentheses.\n",
    "\n",
    " \n",
    "\n",
    "### Example 1:\n",
    "\n",
    "Input: n = 3<br>\n",
    "Output: [\"((()))\",\"(()())\",\"(())()\",\"()(())\",\"()()()\"]<br>\n",
    "### Example 2:\n",
    "\n",
    "Input: n = 1<br>\n",
    "Output: [\"()\"]<br>\n",
    " \n",
    "\n",
    "### Constraints:\n",
    "\n",
    "1 <= n <= 8<br>"
   ]
  },
  {
   "cell_type": "code",
   "execution_count": 4,
   "id": "ddbbaa8e",
   "metadata": {},
   "outputs": [
    {
     "name": "stdout",
     "output_type": "stream",
     "text": [
      "['((()))', '(()())', '(())()', '()(())', '()()()']\n"
     ]
    }
   ],
   "source": [
    "n = 3\n",
    "\n",
    "res = []\n",
    "comb = []\n",
    "def backtrack(open_p,close_p):\n",
    "    \n",
    "    \n",
    "    if open_p == n and close_p == n:\n",
    "        res.append(''.join(comb.copy()))\n",
    "        return\n",
    "    if open_p < n:\n",
    "        comb.append(\"(\")\n",
    "        backtrack(open_p+1,close_p)\n",
    "        comb.pop()\n",
    "    if close_p < open_p:\n",
    "        comb.append(\")\")\n",
    "        backtrack(open_p,close_p+1)\n",
    "        comb.pop()\n",
    "    \n",
    "        \n",
    "backtrack(0,0)\n",
    "print(res)"
   ]
  },
  {
   "cell_type": "code",
   "execution_count": null,
   "id": "a35b5183",
   "metadata": {},
   "outputs": [],
   "source": []
  }
 ],
 "metadata": {
  "kernelspec": {
   "display_name": "Python 3 (ipykernel)",
   "language": "python",
   "name": "python3"
  },
  "language_info": {
   "codemirror_mode": {
    "name": "ipython",
    "version": 3
   },
   "file_extension": ".py",
   "mimetype": "text/x-python",
   "name": "python",
   "nbconvert_exporter": "python",
   "pygments_lexer": "ipython3",
   "version": "3.7.6"
  },
  "toc": {
   "base_numbering": 1,
   "nav_menu": {},
   "number_sections": true,
   "sideBar": true,
   "skip_h1_title": false,
   "title_cell": "Table of Contents",
   "title_sidebar": "Contents",
   "toc_cell": false,
   "toc_position": {},
   "toc_section_display": true,
   "toc_window_display": false
  },
  "varInspector": {
   "cols": {
    "lenName": 16,
    "lenType": 16,
    "lenVar": 40
   },
   "kernels_config": {
    "python": {
     "delete_cmd_postfix": "",
     "delete_cmd_prefix": "del ",
     "library": "var_list.py",
     "varRefreshCmd": "print(var_dic_list())"
    },
    "r": {
     "delete_cmd_postfix": ") ",
     "delete_cmd_prefix": "rm(",
     "library": "var_list.r",
     "varRefreshCmd": "cat(var_dic_list()) "
    }
   },
   "types_to_exclude": [
    "module",
    "function",
    "builtin_function_or_method",
    "instance",
    "_Feature"
   ],
   "window_display": false
  }
 },
 "nbformat": 4,
 "nbformat_minor": 5
}
