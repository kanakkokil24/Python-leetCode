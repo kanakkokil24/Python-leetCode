{
 "cells": [
  {
   "cell_type": "markdown",
   "id": "b18fcc8d",
   "metadata": {},
   "source": [
    "# 20. Valid Parentheses\n",
    "\n",
    "\n",
    "Given a string s containing just the characters '(', ')', '{', '}', '[' and ']', determine if the input string is valid.\n",
    "\n",
    "An input string is valid if:\n",
    "\n",
    "Open brackets must be closed by the same type of brackets.<br>\n",
    "Open brackets must be closed in the correct order.<br>\n",
    " \n",
    "\n",
    "### Example 1:\n",
    "\n",
    "Input: s = \"()\"<br>\n",
    "Output: true<br>\n",
    "\n",
    "### Example 2:\n",
    "\n",
    "Input: s = \"()[]{}\"<br>\n",
    "Output: true<br>\n",
    "\n",
    "### Example 3:\n",
    "\n",
    "Input: s = \"(]\"<br>\n",
    "Output: false<br>\n",
    " \n",
    "\n",
    "Constraints:\n",
    "\n",
    "1 <= s.length <= 104<br>\n",
    "s consists of parentheses only '()[]{}'.<br>"
   ]
  },
  {
   "cell_type": "code",
   "execution_count": 24,
   "id": "22ea9562",
   "metadata": {},
   "outputs": [
    {
     "name": "stdout",
     "output_type": "stream",
     "text": [
      "[']']\n",
      "[']']\n",
      "False\n"
     ]
    }
   ],
   "source": [
    "s = \"()\"\n",
    "s = \"()[]{}\"\n",
    "s = \"(]\"\n",
    "s = \"]\"\n",
    "\n",
    "dict1 = {'(': ')', '{': '}', '[' : ']'}\n",
    "\n",
    "stack = []\n",
    "for i in range(len(s)):\n",
    "    temp = dict1.get(s[i])\n",
    "    if temp is None and stack:\n",
    "        val = stack.pop()\n",
    "        if dict1.get(val) != s[i]:\n",
    "            stack.append(val)\n",
    "            print(False)\n",
    "    else:\n",
    "        stack.append(s[i])\n",
    "    print(stack)\n",
    "print(stack)\n",
    "if not stack:\n",
    "    print(True)\n",
    "else:\n",
    "    print(False)"
   ]
  },
  {
   "cell_type": "code",
   "execution_count": null,
   "id": "afedd790",
   "metadata": {},
   "outputs": [],
   "source": []
  },
  {
   "cell_type": "code",
   "execution_count": null,
   "id": "c8054c8b",
   "metadata": {},
   "outputs": [],
   "source": []
  }
 ],
 "metadata": {
  "kernelspec": {
   "display_name": "Python 3 (ipykernel)",
   "language": "python",
   "name": "python3"
  },
  "language_info": {
   "codemirror_mode": {
    "name": "ipython",
    "version": 3
   },
   "file_extension": ".py",
   "mimetype": "text/x-python",
   "name": "python",
   "nbconvert_exporter": "python",
   "pygments_lexer": "ipython3",
   "version": "3.7.6"
  },
  "toc": {
   "base_numbering": 1,
   "nav_menu": {},
   "number_sections": true,
   "sideBar": true,
   "skip_h1_title": false,
   "title_cell": "Table of Contents",
   "title_sidebar": "Contents",
   "toc_cell": false,
   "toc_position": {},
   "toc_section_display": true,
   "toc_window_display": false
  },
  "varInspector": {
   "cols": {
    "lenName": 16,
    "lenType": 16,
    "lenVar": 40
   },
   "kernels_config": {
    "python": {
     "delete_cmd_postfix": "",
     "delete_cmd_prefix": "del ",
     "library": "var_list.py",
     "varRefreshCmd": "print(var_dic_list())"
    },
    "r": {
     "delete_cmd_postfix": ") ",
     "delete_cmd_prefix": "rm(",
     "library": "var_list.r",
     "varRefreshCmd": "cat(var_dic_list()) "
    }
   },
   "types_to_exclude": [
    "module",
    "function",
    "builtin_function_or_method",
    "instance",
    "_Feature"
   ],
   "window_display": false
  }
 },
 "nbformat": 4,
 "nbformat_minor": 5
}
