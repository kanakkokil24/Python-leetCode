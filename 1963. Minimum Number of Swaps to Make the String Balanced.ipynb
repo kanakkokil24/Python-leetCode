{
 "cells": [
  {
   "cell_type": "markdown",
   "id": "5a340e67",
   "metadata": {},
   "source": [
    "# 1963. Minimum Number of Swaps to Make the String Balanced\n",
    "\n",
    "You are given a 0-indexed string s of even length n. The string consists of exactly n / 2 opening brackets '[' and n / 2 closing brackets ']'.\n",
    "\n",
    "A string is called balanced if and only if:\n",
    "\n",
    "It is the empty string, or<br>\n",
    "It can be written as AB, where both A and B are balanced strings, or<br>\n",
    "It can be written as [C], where C is a balanced string.<br>\n",
    "You may swap the brackets at any two indices any number of times.<br>\n",
    "\n",
    "Return the minimum number of swaps to make s balanced. <br>\n",
    "\n",
    " \n",
    "\n",
    "### Example 1:\n",
    "\n",
    "Input: s = \"][][\"<br>\n",
    "Output: 1<br>\n",
    "Explanation: You can make the string balanced by swapping index 0 with index 3.<br>\n",
    "The resulting string is \"[[]]\".<br>\n",
    "### Example 2:\n",
    "\n",
    "Input: s = \"]]][[[\"<br>\n",
    "Output: 2<br>\n",
    "Explanation: You can do the following to make the string balanced:<br>\n",
    "- Swap index 0 with index 4. s = \"[]][][\".<br>\n",
    "- Swap index 1 with index 5. s = \"[[][]]\".<br>\n",
    "The resulting string is \"[[][]]\".<br>\n",
    "### Example 3:\n",
    "\n",
    "Input: s = \"[]\"<br>\n",
    "Output: 0<br>\n",
    "Explanation: The string is already balanced.<br>\n",
    " \n",
    "\n",
    "### Constraints:<br>\n",
    "\n",
    "n == s.length<br>\n",
    "2 <= n <= 106<br>\n",
    "n is even.<br>\n",
    "s[i] is either '[' or ']'.<br>\n",
    "The number of opening brackets '[' equals n / 2, and the number of closing brackets ']' equals n / 2.<br>"
   ]
  },
  {
   "cell_type": "code",
   "execution_count": 5,
   "id": "d60957a9",
   "metadata": {},
   "outputs": [
    {
     "name": "stdout",
     "output_type": "stream",
     "text": [
      "0\n"
     ]
    }
   ],
   "source": [
    "s = \"][][\"\n",
    "s = \"]]][[[\"\n",
    "s = \"[]\"\n",
    "\n",
    "closing = 0\n",
    "max_close = 0\n",
    "for x in s:\n",
    "    \n",
    "    if x == \"[\":\n",
    "        closing = closing-1 \n",
    "    else:\n",
    "        closing = closing+1\n",
    "        \n",
    "    max_close = max(max_close,closing)\n",
    "\n",
    "print((max_close+1)//2)"
   ]
  },
  {
   "cell_type": "code",
   "execution_count": null,
   "id": "bf029f26",
   "metadata": {},
   "outputs": [],
   "source": []
  }
 ],
 "metadata": {
  "kernelspec": {
   "display_name": "Python 3 (ipykernel)",
   "language": "python",
   "name": "python3"
  },
  "language_info": {
   "codemirror_mode": {
    "name": "ipython",
    "version": 3
   },
   "file_extension": ".py",
   "mimetype": "text/x-python",
   "name": "python",
   "nbconvert_exporter": "python",
   "pygments_lexer": "ipython3",
   "version": "3.7.6"
  },
  "toc": {
   "base_numbering": 1,
   "nav_menu": {},
   "number_sections": true,
   "sideBar": true,
   "skip_h1_title": false,
   "title_cell": "Table of Contents",
   "title_sidebar": "Contents",
   "toc_cell": false,
   "toc_position": {},
   "toc_section_display": true,
   "toc_window_display": false
  },
  "varInspector": {
   "cols": {
    "lenName": 16,
    "lenType": 16,
    "lenVar": 40
   },
   "kernels_config": {
    "python": {
     "delete_cmd_postfix": "",
     "delete_cmd_prefix": "del ",
     "library": "var_list.py",
     "varRefreshCmd": "print(var_dic_list())"
    },
    "r": {
     "delete_cmd_postfix": ") ",
     "delete_cmd_prefix": "rm(",
     "library": "var_list.r",
     "varRefreshCmd": "cat(var_dic_list()) "
    }
   },
   "types_to_exclude": [
    "module",
    "function",
    "builtin_function_or_method",
    "instance",
    "_Feature"
   ],
   "window_display": false
  }
 },
 "nbformat": 4,
 "nbformat_minor": 5
}
