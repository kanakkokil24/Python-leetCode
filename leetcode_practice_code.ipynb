{
 "cells": [
  {
   "cell_type": "code",
   "execution_count": null,
   "id": "c88529b4",
   "metadata": {},
   "outputs": [],
   "source": [
    "num = 1800\n",
    "num2 = num\n",
    "while num2%10 ==0:\n",
    "    num2 = num2/10\n",
    "num2 = int(num2)\n",
    "reversed1 = str(num2)[::-1]\n",
    "reversed2 = reversed1[::-1]\n",
    "if reversed2 == str(num) :\n",
    "    print('true')\n",
    "else:\n",
    "    print('false')"
   ]
  },
  {
   "cell_type": "code",
   "execution_count": null,
   "id": "33cddd2a",
   "metadata": {},
   "outputs": [],
   "source": [
    "words = [\"abc\",\"car\",\"ada\",\"racecar\",\"cool\"]\n",
    "\n",
    "for x in words:\n",
    "    reversed1 = x[::-1]\n",
    "    if x==reversed1:\n",
    "        print(x)\n",
    "        break"
   ]
  },
  {
   "cell_type": "code",
   "execution_count": null,
   "id": "654b17e8",
   "metadata": {},
   "outputs": [],
   "source": [
    "x = -123\n",
    "num2 = x\n",
    "if int(str(abs(x))[::-1])> math.pow(2,31):\n",
    "    return 0\n",
    "if x>0:\n",
    "    return int(str(x)[::-1])\n",
    "else:\n",
    "    x = abs(x)\n",
    "    return 0-int(str(x)[::-1])"
   ]
  },
  {
   "cell_type": "code",
   "execution_count": null,
   "id": "63f5bf59",
   "metadata": {},
   "outputs": [],
   "source": [
    "s = \"0P\"\n",
    "a=s.casefold().replace(\" \",\"\")\n",
    "y = ''\n",
    "for x in a:\n",
    "    if x.isalnum():\n",
    "           y = y+''.join(x)\n",
    "if y == y[::-1]:\n",
    "    print(\"true\")\n",
    "else:\n",
    "    print(\"false\")\n",
    "print(y)\n"
   ]
  },
  {
   "cell_type": "code",
   "execution_count": null,
   "id": "e8d70615",
   "metadata": {},
   "outputs": [],
   "source": [
    "rings = \"B0B6G0R6R0R6G9G0\"\n",
    "list1= dict()\n",
    "temp=''\n",
    "for x in rings:\n",
    "    if x.isnumeric():\n",
    "        if list1.get(x):\n",
    "            list2=[]\n",
    "            print(list1[x])\n",
    "            list2 = [y for y in list1[x]]\n",
    "            list1[x]=[list2,temp]\n",
    "        else:\n",
    "            list1[x]=temp\n",
    "    temp = x\n",
    "print(list1)\n",
    "#for y in rings:\n",
    "    "
   ]
  },
  {
   "cell_type": "code",
   "execution_count": null,
   "id": "3f034c3a",
   "metadata": {},
   "outputs": [],
   "source": [
    "car = {\n",
    "  \"brand\": \"Ford\",\n",
    "  \"model\": \"Mustang\",\n",
    "  \"year\": 1964\n",
    "}\n",
    "if car.get(\"color\"):\n",
    "    print(\"true\")\n",
    "else :\n",
    "    print(\"false\")\n",
    "x = car.get(\"color\")\n",
    "print(x)\n",
    "car[\"color\"]=\"White\"\n",
    "car[\"color\"]=[car[\"color\"],\"green\"]\n",
    "print(car)"
   ]
  },
  {
   "cell_type": "code",
   "execution_count": null,
   "id": "83c831f3",
   "metadata": {},
   "outputs": [],
   "source": [
    "y = [1,2,[3]]\n",
    "[x for x in y]"
   ]
  },
  {
   "cell_type": "code",
   "execution_count": null,
   "id": "45c0cea0",
   "metadata": {},
   "outputs": [],
   "source": [
    "rings = \"B0B6G0R6R0R6G9G0\"\n",
    "rods = dict()\n",
    "for i in range(0, len(rings), 2):\n",
    "    color, rod = rings[i:i+2]\n",
    "    rods[rod]=''\n",
    "    rods[rod]=(color)\n",
    "print( sum(len(colors) == 3 for colors in rods.values()))"
   ]
  },
  {
   "cell_type": "code",
   "execution_count": null,
   "id": "b5180d97",
   "metadata": {},
   "outputs": [],
   "source": [
    "count = 0\n",
    "for rod in '0123456789':\n",
    "    flag = []\n",
    "    for color in 'RGB':\n",
    "        flag.append(color + rod in rings)\n",
    "\n",
    "    # print(flag)\n",
    "    count += all(flag) \n",
    "print(count)"
   ]
  },
  {
   "cell_type": "code",
   "execution_count": null,
   "id": "6154e39e",
   "metadata": {},
   "outputs": [],
   "source": [
    "words1 = [\"leetcode\",\"is\",\"amazing\",\"as\",\"is\"]\n",
    "words2 = [\"amazing\",\"leetcode\",\"is\"]\n",
    "stack1=[]\n",
    "for x in words1:\n",
    "    count1=words1.count(x)\n",
    "    if x in words2:\n",
    "        count2=words2.count(x)\n",
    "    if count1==count2:\n",
    "        count1=\"\"\n",
    "        count2=\"\"\n",
    "        stack1.append(x)\n",
    "        \n",
    "print(stack1)\n",
    "        \n",
    "    \n",
    "\n"
   ]
  },
  {
   "cell_type": "code",
   "execution_count": null,
   "id": "d1561e35",
   "metadata": {},
   "outputs": [],
   "source": [
    "haystack = \"\"\n",
    "needle = \"\"\n",
    "try:\n",
    "    print(haystack.index(needle))\n",
    "except ValueError:\n",
    "    print(-1)"
   ]
  },
  {
   "cell_type": "code",
   "execution_count": null,
   "id": "999a1a5e",
   "metadata": {},
   "outputs": [],
   "source": [
    "import re\n",
    "txt = \"The rain is Spain\"\n",
    "x = re.findall(\"[a-m]\",txt)\n",
    "print(x)\n",
    "txt = \"hello planet\"\n",
    "x = re.findall(\"^hello\", txt)\n",
    "print(x)\n",
    "x = re.findall(\"he.*o\", txt)\n",
    "print(x)\n",
    "x = re.findall(\"he.+o\", txt)\n",
    "print(x)\n",
    "x = re.findall(\"he.?o\", txt)\n",
    "print(x)"
   ]
  },
  {
   "cell_type": "code",
   "execution_count": null,
   "id": "a8432be1",
   "metadata": {},
   "outputs": [],
   "source": [
    "txt = \"The rain in Spain-9_1\"\n",
    "x = re.findall(r\"\\bain\", txt)\n",
    "print(x)\n",
    "x = re.findall(r\"ain\\b\", txt)\n",
    "print(x)"
   ]
  },
  {
   "cell_type": "code",
   "execution_count": null,
   "id": "5ed98b29",
   "metadata": {},
   "outputs": [],
   "source": [
    "x = re.findall(r\"\\Bain\", txt)\n",
    "print(x)"
   ]
  },
  {
   "cell_type": "code",
   "execution_count": null,
   "id": "23c1fffb",
   "metadata": {},
   "outputs": [],
   "source": [
    "x = re.findall(\"\\d\", txt)\n",
    "print(x)"
   ]
  },
  {
   "cell_type": "code",
   "execution_count": null,
   "id": "986c57f1",
   "metadata": {},
   "outputs": [],
   "source": [
    "x = re.findall(\"\\D\", txt)\n",
    "print(x)"
   ]
  },
  {
   "cell_type": "code",
   "execution_count": null,
   "id": "d6c7c3c6",
   "metadata": {},
   "outputs": [],
   "source": [
    "x = re.findall(\"\\s\", txt)\n",
    "print(x)"
   ]
  },
  {
   "cell_type": "code",
   "execution_count": null,
   "id": "7850cfec",
   "metadata": {},
   "outputs": [],
   "source": [
    "x = re.findall(\"\\S\", txt)\n",
    "print(x)"
   ]
  },
  {
   "cell_type": "code",
   "execution_count": null,
   "id": "d413fd4c",
   "metadata": {},
   "outputs": [],
   "source": [
    "x = re.findall(\"\\w\", txt)\n",
    "print(x)"
   ]
  },
  {
   "cell_type": "code",
   "execution_count": null,
   "id": "e02f6ccb",
   "metadata": {},
   "outputs": [],
   "source": [
    "x = re.findall(\"\\W\", txt)\n",
    "print(x)"
   ]
  },
  {
   "cell_type": "code",
   "execution_count": null,
   "id": "f0cd50f4",
   "metadata": {},
   "outputs": [],
   "source": [
    "x = re.findall(\"Spain-9_1\\Z\", txt)\n",
    "print(x)\n"
   ]
  },
  {
   "cell_type": "code",
   "execution_count": null,
   "id": "14c4c7ec",
   "metadata": {},
   "outputs": [],
   "source": [
    "txt = \"The rain in Spain\"\n",
    "x = re.search(r\"\\bS\\w+\", txt)\n",
    "print(x.span())"
   ]
  },
  {
   "cell_type": "code",
   "execution_count": null,
   "id": "302df297",
   "metadata": {},
   "outputs": [],
   "source": [
    "txt = \"The rain in Spain\"\n",
    "x = re.search(r\"\\bS\\w+\", txt)\n",
    "print(x.string)"
   ]
  },
  {
   "cell_type": "code",
   "execution_count": null,
   "id": "f09cd4eb",
   "metadata": {},
   "outputs": [],
   "source": [
    "txt = \"The rain in Spain\"\n",
    "x = re.search(r\"\\bS\\w+\", txt)\n",
    "print(x.group())"
   ]
  },
  {
   "cell_type": "code",
   "execution_count": null,
   "id": "b94b94c3",
   "metadata": {},
   "outputs": [],
   "source": [
    "txt = \"abab\"\n",
    "x = bool(re.search(r\"^(\\w+)\\1+$\", txt))\n",
    "print(x)"
   ]
  },
  {
   "cell_type": "code",
   "execution_count": null,
   "id": "6f2d4119",
   "metadata": {},
   "outputs": [],
   "source": [
    "s = \"ababab\"\n",
    "ss = (s + s)[1:-1]\n",
    "print(ss)\n",
    "print(s in ss)"
   ]
  },
  {
   "cell_type": "code",
   "execution_count": null,
   "id": "6e011cb1",
   "metadata": {},
   "outputs": [],
   "source": [
    "n = len(s)\n",
    "print(n)\n",
    "print(n//2+1)\n",
    "for i in range(1, n//2 + 1):\n",
    "    print(i)\n",
    "    print(\"n%i {}\".format(n%i))\n",
    "    print(\"s[:i] {}\".format(s[:i]))\n",
    "    print(\"(n//i) {}\".format((n//i)))\n",
    "    print(\"s[:i] * (n//i) {}\".format(s[:i] * (n//i)))\n",
    "    if n%i == 0 and s[:i] * (n//i) == s:\n",
    "        print(\"inside\")\n",
    "        print(True)"
   ]
  },
  {
   "cell_type": "code",
   "execution_count": null,
   "id": "458726a5",
   "metadata": {},
   "outputs": [],
   "source": [
    "n = len(s)\n",
    "for i in range(1, n):\n",
    "    if n % i == 0:\n",
    "        new_str = s[:i] * (n//i)\n",
    "        if new_str == s:\n",
    "            print(True)\n",
    "print(False)"
   ]
  },
  {
   "cell_type": "code",
   "execution_count": null,
   "id": "5bf4e244",
   "metadata": {},
   "outputs": [],
   "source": [
    " for i in range(1, len(s)//2+1):\n",
    "    if s[:i] * (len(s)//i) == s:\n",
    "        print(True)"
   ]
  },
  {
   "cell_type": "code",
   "execution_count": null,
   "id": "c7a56eb6",
   "metadata": {},
   "outputs": [],
   "source": [
    "a = \"abcd\"\n",
    "b = \"cdabcdab\"\n",
    "a = \"a\"\n",
    "b = \"aa\"\n",
    "print(len(b))\n",
    "print(len(a))\n",
    "print(len(b)//len(a))\n",
    "for i in range(1,len(b)//len(a)+2):\n",
    "    print(\"i {}\".format(i))\n",
    "    if b in (a*i):\n",
    "        print(i)\n",
    "    "
   ]
  },
  {
   "cell_type": "code",
   "execution_count": null,
   "id": "51c5d497",
   "metadata": {},
   "outputs": [],
   "source": [
    "s = \"abbbbccccaaa\"\n",
    "z=''\n",
    "p=''\n",
    "for i in range(len(s)):\n",
    "    x = s[i]\n",
    "    for y in s[i:]:\n",
    "        if x>y:\n",
    "            x=y\n",
    "            \n",
    "    z = z+''.join(x)       \n",
    "print(z)        "
   ]
  },
  {
   "cell_type": "code",
   "execution_count": null,
   "id": "24fe6075",
   "metadata": {},
   "outputs": [],
   "source": [
    "s = \"Hello World\"\n",
    "len(s.split()[-1])"
   ]
  },
  {
   "cell_type": "code",
   "execution_count": null,
   "id": "25dc9333",
   "metadata": {},
   "outputs": [],
   "source": [
    "a = \"11\"\n",
    "b = \"1\"\n",
    "print(int(a,2))\n",
    "print(int(b,2))\n",
    "print(int(a,2)+int(b,2))\n",
    "print(bin(int(a,2)+int(b,2))[2:])"
   ]
  },
  {
   "cell_type": "code",
   "execution_count": null,
   "id": "13e9c4e8",
   "metadata": {},
   "outputs": [],
   "source": [
    "s = \"PAYPALISHIRING\"\n",
    "numRows = 3\n",
    "y = ''\n",
    "stack = dict()\n",
    "for x in s:\n",
    "    for i in (range(3)):\n",
    "        y = y+''.join"
   ]
  },
  {
   "cell_type": "code",
   "execution_count": null,
   "id": "35e29c2a",
   "metadata": {},
   "outputs": [],
   "source": [
    "s = \"()\"\n",
    "stack = []\n",
    "count = 0\n",
    "for x in s:\n",
    "    if x == '(' and count > 0 :\n",
    "        stack.append(x)\n",
    "    if x == ')' and count >1 :\n",
    "        stack.append(x)\n",
    "    if x == ')':\n",
    "        count=count-1\n",
    "    else:\n",
    "        count = count+1\n",
    "print(\"\".join(stack))"
   ]
  },
  {
   "cell_type": "code",
   "execution_count": null,
   "id": "f84dbedc",
   "metadata": {},
   "outputs": [],
   "source": [
    "s = \"leetcodeisacommunityforcoders\"\n",
    "stack='aeiou'\n",
    "y = ''\n",
    "for x in s:\n",
    "    if x not in stack:\n",
    "        y=y+''.join(x)\n",
    "print(y)"
   ]
  },
  {
   "cell_type": "code",
   "execution_count": null,
   "id": "2670f817",
   "metadata": {},
   "outputs": [],
   "source": [
    "s = \"leetcodeisacommunityforcoders\"\n",
    "y=''\n",
    "print(y+x for x in s if x not in 'aeiou')\n",
    "    "
   ]
  },
  {
   "cell_type": "code",
   "execution_count": null,
   "id": "63eb4b6e",
   "metadata": {},
   "outputs": [],
   "source": [
    "s = 'hello'\n",
    "s = list(s)\n",
    "list1=list('aeiou')\n",
    "i,j = 0,len(s)-1\n",
    "while i<j:\n",
    "    if s[i] not in list1:\n",
    "        i=i+1\n",
    "        continue\n",
    "    if s[j] not in list1:\n",
    "        j = j-1\n",
    "        continue\n",
    "    \n",
    "    s[i],s[j] = s[j],s[i]\n",
    "    i = i+1\n",
    "    j = j-1\n",
    "print(''.join(s))"
   ]
  },
  {
   "cell_type": "code",
   "execution_count": null,
   "id": "26b9096c",
   "metadata": {},
   "outputs": [],
   "source": [
    "s = 'hello'\n",
    "s.replace('e','a')\n",
    "print(s.replace('e','a'))\n",
    "print(s)"
   ]
  },
  {
   "cell_type": "code",
   "execution_count": null,
   "id": "04ae5798",
   "metadata": {},
   "outputs": [],
   "source": [
    "keyboard = \"abcdefghijklmnopqrstuvwxyz\"\n",
    "word = \"word\"\n",
    "keyboard = \"pqrstuvwxyzabcdefghijklmno\"\n",
    "word = \"leetcode\"\n",
    "indx1 = 0\n",
    "sum1 = 0\n",
    "for x in word:\n",
    "    indx = keyboard.index(x)\n",
    "    sum1 = sum1+abs(indx-indx1)\n",
    "    indx1 = indx\n",
    "print(sum1)"
   ]
  },
  {
   "cell_type": "code",
   "execution_count": null,
   "id": "8a4b8f16",
   "metadata": {},
   "outputs": [],
   "source": [
    "words = [\"hello\",\"world\",\"leetcode\"]\n",
    "chars = \"welldonehoneyr\"\n",
    "\n",
    "sum1=0\n",
    "for x in  words:\n",
    "    chars1 = list(chars)\n",
    "    flag = 0\n",
    "    for c in x:\n",
    "        if c in chars1:\n",
    "            chars1.remove(c)\n",
    "        else:\n",
    "            flag = 1\n",
    "    if flag == 0:\n",
    "        sum1=sum1+int(len(x))\n",
    "print(sum1)"
   ]
  },
  {
   "cell_type": "code",
   "execution_count": null,
   "id": "a6e1208f",
   "metadata": {},
   "outputs": [],
   "source": [
    "\n",
    "chars = list(\"worlld\")\n",
    "chars.remove('l')\n",
    "print(chars)"
   ]
  },
  {
   "cell_type": "code",
   "execution_count": null,
   "id": "08f2bab1",
   "metadata": {},
   "outputs": [],
   "source": [
    "str1 = \"ABCABC\"\n",
    "str2 = \"AB\"\n",
    "\n",
    "if str2 in str1:\n",
    "    print(str2)\n",
    "for i in range(len(str2)):\n",
    "    indx=-1*i\n",
    "    if str2[:]"
   ]
  },
  {
   "cell_type": "code",
   "execution_count": null,
   "id": "4c55ad6b",
   "metadata": {},
   "outputs": [],
   "source": [
    "str1 = \"ABCABC\"\n",
    "str2 = \"ABC\"\n",
    "str2[:-1]\n",
    "if str2 in str1:\n",
    "    print(str2)"
   ]
  },
  {
   "cell_type": "code",
   "execution_count": null,
   "id": "f6ee3a22",
   "metadata": {},
   "outputs": [],
   "source": [
    "columnNumber = 26\n",
    "y =chr(64+columnNumber)\n",
    "print(y)"
   ]
  },
  {
   "cell_type": "code",
   "execution_count": null,
   "id": "13e8df38",
   "metadata": {},
   "outputs": [],
   "source": [
    "pow(2,31)-1"
   ]
  },
  {
   "cell_type": "code",
   "execution_count": null,
   "id": "a794697a",
   "metadata": {},
   "outputs": [],
   "source": [
    "n = 701\n",
    "s = ''\n",
    "while n > 0:\n",
    "    remainder = n%26\n",
    "    print('n {}'.format(n))\n",
    "    print(\"remainder {}\".format(remainder))\n",
    "    if remainder == 0: remainder = 26\n",
    "    s = chr(64+remainder)+s\n",
    "    n = (n-remainder)//26\n",
    "    print(s)\n",
    "print(s)"
   ]
  },
  {
   "cell_type": "code",
   "execution_count": null,
   "id": "7cdd3db6",
   "metadata": {},
   "outputs": [],
   "source": [
    "columnTitle = \"ZY\"\n",
    "length = len(columnTitle)\n",
    "number = (length-1)*26\n",
    "print(number)\n",
    "x,y = divmod(ord(columnTitle[-1]),65)\n",
    "print(x)\n",
    "print(y)\n",
    "print(x+y+number)"
   ]
  },
  {
   "cell_type": "code",
   "execution_count": null,
   "id": "bc64aa10",
   "metadata": {},
   "outputs": [],
   "source": [
    "columnTitle = \"AAA\"\n",
    "length = len(columnTitle)\n",
    "number =0\n",
    "for z in columnTitle:\n",
    "    x,y = divmod(ord(z),65)\n",
    "    if length < 2:\n",
    "        number = number +(x+y)\n",
    "    else:\n",
    "        length = length -1\n",
    "        number = number+pow(26,length)*(x+y)               \n",
    "print(number)"
   ]
  },
  {
   "cell_type": "code",
   "execution_count": null,
   "id": "a32063a9",
   "metadata": {},
   "outputs": [],
   "source": [
    "wordsDict = [\"practice\", \"makes\", \"perfect\", \"coding\", \"makes\"]\n",
    "word1 = \"coding\"\n",
    "word2 = \"practice\" \n",
    "word2 = \"makes\""
   ]
  },
  {
   "cell_type": "code",
   "execution_count": null,
   "id": "1740f841",
   "metadata": {},
   "outputs": [],
   "source": [
    "wordsDict.index(word2)\n",
    "wordsDict.index(word1)\n",
    "wordsDict.index(word3)\n",
    "wordsDict.count(word3)"
   ]
  },
  {
   "cell_type": "code",
   "execution_count": null,
   "id": "4f7c419d",
   "metadata": {},
   "outputs": [],
   "source": [
    "indx = 0\n",
    "list1 = []\n",
    "list2 = []\n",
    "for i in range(wordsDict.count(word3)):\n",
    "    indx=wordsDict.index(word3,indx)\n",
    "    list1.append(indx)\n",
    "    indx=indx+1\n",
    "indx = 0   \n",
    "for i in range(wordsDict.count(word2)):\n",
    "    indx=wordsDict.index(word2,indx)\n",
    "    list2.append(indx)\n",
    "    indx=indx+1\n",
    "temp = 0\n",
    "print(min([abs(x-y) for x in list1 for y in list2]))"
   ]
  },
  {
   "cell_type": "code",
   "execution_count": null,
   "id": "7e4de511",
   "metadata": {},
   "outputs": [],
   "source": [
    "from collections import defaultdict\n",
    "d = defaultdict(list)\n",
    "for index, value in enumerate(wordsDict):\n",
    "     if value == word1 or value == word2:\n",
    "            d[value].append(index)\n",
    "\n",
    "print(d)\n",
    "distance=[]\n",
    "print(d[word1])\n",
    "print(d[word2])\n",
    "for i in d[word1]:\n",
    "    for j in d[word2]:\n",
    "        distance.append(abs(i-j))\n",
    "print(min(distance))\n"
   ]
  },
  {
   "cell_type": "code",
   "execution_count": null,
   "id": "86a1eb16",
   "metadata": {},
   "outputs": [],
   "source": [
    "pattern = \"abba\"\n",
    "s = \"dog dog dog dog\"\n",
    "pattern=\"jquery\"\n",
    "s=\"jquery\"\n",
    "list1=list(s.split())\n",
    "pat = dict()\n",
    "if(len(pattern)==len(list1)):\n",
    "    for i in range(len(list1)):\n",
    "        if pattern[i] not in pat.keys() and list1[i] not in pat.values():\n",
    "            pat[pattern[i]]=list1[i] \n",
    "            print(pat)\n",
    "    list2 = []\n",
    "    for x in pattern:\n",
    "        list2.append(pat.get(x))\n",
    "    print(pat)\n",
    "    print(list2)\n",
    "    if list1==list2:\n",
    "        print(True)\n",
    "    else:\n",
    "        print(False)\n",
    "else:\n",
    "    print(False)"
   ]
  },
  {
   "cell_type": "code",
   "execution_count": null,
   "id": "b6dea784",
   "metadata": {},
   "outputs": [],
   "source": [
    "s.replace('dog','a')"
   ]
  },
  {
   "cell_type": "code",
   "execution_count": null,
   "id": "1d4f0c2f",
   "metadata": {},
   "outputs": [],
   "source": [
    "s = [\"h\",\"e\",\"l\",\"l\",\"o\"]\n",
    "for i in range((len(s)//2)):\n",
    "    temp = s[i]\n",
    "    s[i]=s[-1*i-1]\n",
    "    s[-1*i-1]=temp\n",
    "print(s)"
   ]
  },
  {
   "cell_type": "code",
   "execution_count": null,
   "id": "d2dda63c",
   "metadata": {},
   "outputs": [],
   "source": [
    "s = \"abcdefg\"\n",
    "k = 2\n",
    "indx = 0\n",
    "y = s[indx:k*2]\n",
    "indx= k*2+1\n",
    "print(y)\n",
    "print(y[:k][::-1]+y[k:])\n",
    "y=''\n",
    "y = s[indx:k*2]\n",
    "print(y)\n",
    "s[::-1]\n",
    "    "
   ]
  },
  {
   "cell_type": "code",
   "execution_count": null,
   "id": "bbef7dfe",
   "metadata": {},
   "outputs": [],
   "source": [
    "s = \"abcdefg\"\n",
    "k = 3\n",
    "list1 = []\n",
    "i = 0\n",
    "p = 0\n",
    "while i <len(s):\n",
    "    p = p+k*2\n",
    "    list1.append(s[i:p])\n",
    "    i = p\n",
    "temp = ''\n",
    "for x in list1:\n",
    "    y = x[:k][::-1]+x[k:]\n",
    "    y = temp+''.join(y)\n",
    "    temp = y\n",
    "print(y)\n",
    "#for x in range(len(s)):\n",
    "    "
   ]
  },
  {
   "cell_type": "code",
   "execution_count": null,
   "id": "3fd1f621",
   "metadata": {},
   "outputs": [],
   "source": [
    "s = \"leEeetcode\"\n",
    "s='abBAcC'\n",
    "s=\"Pp\"\n",
    "s =\"mC\"\n",
    "list1 = []\n",
    "list1[:0]=s\n",
    "stack = []\n",
    "upper=''\n",
    "temp = ''\n",
    "for indx,x in enumerate(list1):\n",
    "    if x.isupper():\n",
    "        if not stack:\n",
    "            stack.append(x)\n",
    "            pass\n",
    "        else:\n",
    "            temp = stack.pop()\n",
    "        if temp.upper()!= x:\n",
    "            stack.append(temp)\n",
    "            upper=x\n",
    "            \n",
    "    else:\n",
    "        stack.append(x)\n",
    "        if upper != x.upper():\n",
    "            stack.append(x)\n",
    "        upper = ''\n",
    "print(stack)"
   ]
  },
  {
   "cell_type": "code",
   "execution_count": null,
   "id": "a119e038",
   "metadata": {},
   "outputs": [],
   "source": [
    "s =\"mMCDMm\"\n",
    "##s=\"mC\"\n",
    "\n",
    "##s=\"kkdsFuqUfSDKK\"\n",
    "list1 = []\n",
    "list1[:0]=s\n",
    "stack = []\n",
    "temp = ''\n",
    "for indx,x in enumerate(list1):\n",
    "    if not stack:\n",
    "        stack.append(x)\n",
    "    else:\n",
    "        temp = stack.pop()\n",
    "        if (temp.islower() and x.isupper() and temp.upper()== x) or(temp.isupper() and x.islower() and temp==x.upper()):\n",
    "            pass\n",
    "        else:\n",
    "            stack.append(temp)\n",
    "            stack.append(x)            \n",
    "print(''.join(stack))"
   ]
  },
  {
   "cell_type": "code",
   "execution_count": null,
   "id": "c9f4bf0d",
   "metadata": {},
   "outputs": [],
   "source": [
    "words1 = [\"leetcode\",\"is\",\"amazing\",\"as\",\"is\"]\n",
    "words2 = [\"amazing\",\"leetcode\",\"is\"]\n",
    "count = 0\n",
    "for x in words1:\n",
    "    if x in words2:\n",
    "        if words1.count(x) == 1 and words2.count(x) == 1:\n",
    "            count = count+1\n",
    "print(count)"
   ]
  },
  {
   "cell_type": "code",
   "execution_count": null,
   "id": "3b5bfd19",
   "metadata": {},
   "outputs": [],
   "source": [
    "arr = [\"d\",\"b\",\"c\",\"b\",\"c\",\"a\"]\n",
    "k = 2\n",
    "arr = [\"aaa\",\"aa\",\"a\"]\n",
    "k = 1\n",
    "arr = [\"a\",\"b\",\"a\"]\n",
    "k = 3\n",
    "count = 0\n",
    "for x in arr:\n",
    "    if arr.count(x) == 1:\n",
    "        count = count+1\n",
    "        \n",
    "    if count == k:\n",
    "        print(x)\n",
    "        break;\n",
    "print(\"\")"
   ]
  },
  {
   "cell_type": "code",
   "execution_count": null,
   "id": "1e978bc6",
   "metadata": {},
   "outputs": [],
   "source": [
    "ransomNote = \"a\"\n",
    "magazine = \"b\"\n",
    "ransomNote = \"aa\"\n",
    "magazine = \"ab\"\n",
    "ransomNote = \"aa\"\n",
    "magazine = \"aab\"\n",
    "flag = 0\n",
    "for x in ransomNote:\n",
    "    if x in ransomNote and magazine.count(x)>=ransomNote.count(x):\n",
    "        pass\n",
    "    else:\n",
    "        flag = 1\n",
    "        print(False)\n",
    "if flag == 0:\n",
    "    print(True)"
   ]
  },
  {
   "cell_type": "code",
   "execution_count": null,
   "id": "18c22b1c",
   "metadata": {},
   "outputs": [],
   "source": [
    "s = \"abcd\"\n",
    "t = \"abcde\"\n",
    "\n",
    "for x in t:\n",
    "    if x not in s and t.count(x)>s.count(x):\n",
    "        print(x)"
   ]
  },
  {
   "cell_type": "code",
   "execution_count": null,
   "id": "d27946a1",
   "metadata": {},
   "outputs": [],
   "source": [
    "nums = [2,2,1]\n",
    "nums = [4,1,2,1,2]\n",
    "nums = [1]\n",
    "for x in nums:\n",
    "    if nums.count(x)==1:\n",
    "        print(x)\n",
    "print(\"\")"
   ]
  },
  {
   "cell_type": "code",
   "execution_count": null,
   "id": "5171c9f3",
   "metadata": {},
   "outputs": [],
   "source": [
    "s = \"abca\"\n",
    "flag = 0\n",
    "if s == s[::-1]:\n",
    "    print(True)\n",
    "else:\n",
    "    list1 = list(s)\n",
    "    list2 = list(s)\n",
    "    for indx , x in enumerate(list1):\n",
    "        list2.pop(indx)\n",
    "        if ''.join(list2) == ''.join(list2[::-1]):\n",
    "            print(True)\n",
    "            break;\n",
    "        else:\n",
    "            list2 = list(s)"
   ]
  },
  {
   "cell_type": "code",
   "execution_count": null,
   "id": "b2a1644a",
   "metadata": {},
   "outputs": [],
   "source": [
    "s = \"abca\"\n",
    "list1=list(s)\n",
    "list1\n",
    "list1.remove('a')\n",
    "list1.remove('b')\n",
    "list1[::-1]"
   ]
  },
  {
   "cell_type": "code",
   "execution_count": null,
   "id": "86c86bc3",
   "metadata": {},
   "outputs": [],
   "source": [
    "s = \"abdefba\"\n",
    "if s == s[::-1]:\n",
    "    print(True)\n",
    "else:\n",
    "    list1 = list(s)\n",
    "    for i in range(len(s)):\n",
    "        print(\"list1[i] {}\".format(list1[i]))\n",
    "        print(\"list1[(-1*i)-1] {}\".format(list1[(-1*i)-1]))\n",
    "        if list1[i] != list1[(-1*i)-1]:\n",
    "            temp = list(s)\n",
    "            print(\"temp {}\".format(temp))\n",
    "            list1.pop(i)\n",
    "            print(\"list1 {}\".format(''.join(list1)))\n",
    "            print(\"list1[::-1] {}\".format(''.join(list1[::-1])))\n",
    "            if ''.join(list1) == ''.join(list1[::-1]):\n",
    "                print(\"inside if\")\n",
    "                print(True)\n",
    "                break\n",
    "            else:\n",
    "                list1 = temp\n",
    "                print(\"temp {}\".format(temp))\n",
    "                print(\"list1 {}\".format(list1))\n",
    "                list1.pop((-1*i)-1)\n",
    "                print(\"list1 {}\".format(list1))\n",
    "                if ''.join(list1)==''.join(list1[::-1]):\n",
    "                    print(True)\n",
    "                    break\n",
    "                else:\n",
    "                    print(False)\n",
    "                    break\n",
    "                \n",
    "            \n",
    "        "
   ]
  },
  {
   "cell_type": "code",
   "execution_count": null,
   "id": "d1ad7a92",
   "metadata": {},
   "outputs": [],
   "source": [
    "s = \"abdefba\"\n",
    "if s == s[::-1]:\n",
    "    print(True)\n",
    "else:\n",
    "    list1 = list(s)\n",
    "    for i in range(len(s)):\n",
    "        if list1[i] != list1[(-1*i)-1]:\n",
    "            temp = list(s)\n",
    "            list1.pop(i)\n",
    "            if ''.join(list1) == ''.join(list1[::-1]):\n",
    "                print(True)\n",
    "                break\n",
    "            else:\n",
    "                list1 = temp\n",
    "                list1.pop((-1*i)-1)\n",
    "                if ''.join(list1)==''.join(list1[::-1]):\n",
    "                    print(True)\n",
    "                    break\n",
    "                else:\n",
    "                    print(False)\n",
    "                    break\n",
    "                "
   ]
  },
  {
   "cell_type": "code",
   "execution_count": null,
   "id": "d72d6868",
   "metadata": {},
   "outputs": [],
   "source": [
    "s = \"abcbca\"\n",
    "list1= list(s)\n",
    "list1[-1]\n",
    "list1.pop(-2)\n",
    "list1"
   ]
  },
  {
   "cell_type": "code",
   "execution_count": null,
   "id": "9c222841",
   "metadata": {},
   "outputs": [],
   "source": [
    "command = \"G()(al)\"\n",
    "list1 = []\n",
    "i =0\n",
    "while i < len(command):\n",
    "    if command[i] =='G':\n",
    "        list1.append('G')\n",
    "        i = i+1\n",
    "    elif command[i] == '(' and command[i+1] ==')':\n",
    "        list1.append('o')\n",
    "        i = i+2\n",
    "    elif command[i] == '(' and command[i+1] =='a':\n",
    "        list1.append('al')\n",
    "        i = i+4\n",
    "print(''.join(list1))"
   ]
  },
  {
   "cell_type": "code",
   "execution_count": null,
   "id": "ba10feb4",
   "metadata": {},
   "outputs": [],
   "source": [
    "word = \"abcdefd\"\n",
    "ch = \"z\"\n",
    "\n",
    "indx = word.find(ch)\n",
    "word[:indx+1][::-1]+word[indx+1:]"
   ]
  },
  {
   "cell_type": "code",
   "execution_count": null,
   "id": "6ae793bf",
   "metadata": {},
   "outputs": [],
   "source": [
    "s = \"1 box has 3 blue 2 red 6 green and 12 yellow marbles\"\n",
    "list1=s.split()\n",
    "temp = 0\n",
    "for x in list1:\n",
    "    if x.isnumeric():\n",
    "        if  int(x)>temp :\n",
    "            temp = int(x)\n",
    "        else:\n",
    "            print(False)\n",
    "            break;\n",
    "print(True)"
   ]
  },
  {
   "cell_type": "code",
   "execution_count": null,
   "id": "ddcd6ff9",
   "metadata": {},
   "outputs": [],
   "source": [
    "sentence = \"cat! and  dog\"\n",
    "list1 = sentence.split()\n",
    "punctuation = ['!', '.', ',']\n",
    "count=0\n",
    "print(list1)\n",
    "for x in list1:\n",
    "    print(x)\n",
    "    if x.isnumeric() or x.isalpha() or x.isalnum():\n",
    "        print(\"inside\")\n",
    "        count = count+1\n",
    "    #elif x.find('!')> 0 and x.count('!')==1 and x.endswith('!'):\n",
    "       # print(\"inside   2\")\n",
    "        #count=count+1    \n",
    "    elif ((x.count('-')==1) and not (x.startswith('-') or x.endswith('-'))) and (x.find('!')> 0 and x.count('!')==1 and x.endswith('!')):\n",
    "        print(\"inside 1\")\n",
    "        count=count+1\n",
    "    \n",
    "print(count)"
   ]
  },
  {
   "cell_type": "code",
   "execution_count": null,
   "id": "3393d978",
   "metadata": {},
   "outputs": [],
   "source": [
    "or x.find('.')>0 or x.find(',')>0) and (x.endswith('!') or x.endswith('.') or x.endswith(',')) and (x.count('!')==1 or x.count('.')==1 or x.count(',')==1):\n",
    "        print(\"inside   2\")"
   ]
  },
  {
   "cell_type": "code",
   "execution_count": null,
   "id": "a3921a01",
   "metadata": {},
   "outputs": [],
   "source": [
    "s = 'ab'\n",
    "print(s.find('-'))\n",
    "if s.find('-'):\n",
    "    print(\"inside\")"
   ]
  },
  {
   "cell_type": "code",
   "execution_count": null,
   "id": "d4309961",
   "metadata": {},
   "outputs": [],
   "source": [
    "list1 = ['a-b','abd']\n",
    "for x in list1:\n",
    "    print(x)\n",
    "    if x.isalnum() or x.isnumeric() or x.isalpha():\n",
    "        print(True)"
   ]
  },
  {
   "cell_type": "code",
   "execution_count": null,
   "id": "5ebbac7d",
   "metadata": {},
   "outputs": [],
   "source": [
    "words = [\"bella\",\"label\",\"roller\"]\n",
    "from collections import Counter\n",
    "c = collections.Counter(words[0])\n",
    "for i in range(1,len(words)):\n",
    "    c = c & collections.Counter(words[i])\n",
    "print(c)\n",
    "print(list(c.elements()))      "
   ]
  },
  {
   "cell_type": "code",
   "execution_count": null,
   "id": "e042abd9",
   "metadata": {},
   "outputs": [],
   "source": [
    "import re\n",
    "text = \"thestoryofleetcodeandme\"\n",
    "words = [\"story\",\"fleet\",\"leetcode\"]\n",
    "text = \"ababa\"\n",
    "words = [\"aba\",\"ab\"]\n",
    "list1=[]\n",
    "list2=[]\n",
    "for x in words:\n",
    "    list2=[]\n",
    "    for i in range(len(text)):\n",
    "        y=re.search(x,text[i:],2)\n",
    "        if y is not None:\n",
    "            print(x)\n",
    "            print(y.start())\n",
    "            print(y.end())\n",
    "    #list2.append(y.start())\n",
    "    #list2.append(y.end()-1)\n",
    "    #list1.append(list2)\n",
    "print(list1)"
   ]
  },
  {
   "cell_type": "code",
   "execution_count": null,
   "id": "0d8809ee",
   "metadata": {},
   "outputs": [],
   "source": [
    "text = \"ababa\"\n",
    "words = [\"aba\",\"ab\"]\n",
    "list2=[]\n",
    "for x in words:\n",
    "    i=0\n",
    "    length = len(x)\n",
    "    while i < len(text):\n",
    "        list1 = []\n",
    "        y = text.find(x,i)\n",
    "        if y is -1:\n",
    "            i = i+1\n",
    "        else:\n",
    "            list1.append(y)\n",
    "            list1.append(y+length)\n",
    "            i = y+1\n",
    "        if not list1:\n",
    "            pass\n",
    "        else:\n",
    "            list2.append(list1)\n",
    "print(sorted(list2))"
   ]
  },
  {
   "cell_type": "code",
   "execution_count": null,
   "id": "1ffa3347",
   "metadata": {},
   "outputs": [],
   "source": [
    "text = \"ababa\"\n",
    "y = text.find(\"aba\",0)\n",
    "y"
   ]
  },
  {
   "cell_type": "code",
   "execution_count": null,
   "id": "35135b32",
   "metadata": {},
   "outputs": [],
   "source": [
    "list1 = []\n",
    "list1.append(0)\n",
    "list1"
   ]
  },
  {
   "cell_type": "code",
   "execution_count": null,
   "id": "bfb6494e",
   "metadata": {},
   "outputs": [],
   "source": [
    "strs = [\"cba\",\"daf\",\"ghi\"]\n",
    "strs = [\"a\",\"b\"]\n",
    "strs = [\"zyx\",\"wvu\",\"tsr\"]\n",
    "list1=[]\n",
    "for i in range(len(strs[0])):\n",
    "    temp = strs[0][i]\n",
    "    for x in strs[1:]:\n",
    "        if temp>x[i]:\n",
    "            list1.append(i)\n",
    "            break\n",
    "        else :\n",
    "            temp = x[i]\n",
    "print(len(list1))        "
   ]
  },
  {
   "cell_type": "code",
   "execution_count": null,
   "id": "1e1dfcba",
   "metadata": {},
   "outputs": [],
   "source": [
    "strs = [\"cba\",\"daf\",\"ghi\"]\n",
    "strs[1:]"
   ]
  },
  {
   "cell_type": "code",
   "execution_count": null,
   "id": "331bf538",
   "metadata": {},
   "outputs": [],
   "source": [
    "weight = [100,200,150,1000]\n",
    "weight = sorted(weight)\n",
    "print(weight)\n",
    "sum1 = 0\n",
    "count = 0\n",
    "for x in weight:\n",
    "    if sum1+x <= 5000:\n",
    "        sum1 = sum1+x\n",
    "        count = count+1\n",
    "print(sum1)\n",
    "print(count)"
   ]
  },
  {
   "cell_type": "code",
   "execution_count": null,
   "id": "220b0bf5",
   "metadata": {},
   "outputs": [],
   "source": [
    "s = \"abccccdd\"\n",
    "s = \"bb\"\n",
    "s = \"a\"\n",
    "s = \"jglknendplocymmvwtoxvebkekzfdhykknufqdkntnqvgfbahsljkobhbxkvyictzkqjqydczuxjkgecdyhixdttxfqmgksrkyvopwprsgoszftuhawflzjyuyrujrxluhzjvbflxgcovilthvuihzttzithnsqbdxtafxrfrblulsakrahulwthhbjcslceewxfxtavljpimaqqlcbrdgtgjryjytgxljxtravwdlnrrauxplempnbfeusgtqzjtzshwieutxdytlrrqvyemlyzolhbkzhyfyttevqnfvmpqjngcnazmaagwihxrhmcibyfkccyrqwnzlzqeuenhwlzhbxqxerfifzncimwqsfatudjihtumrtjtggzleovihifxufvwqeimbxvzlxwcsknksogsbwwdlwulnetdysvsfkonggeedtshxqkgbhoscjgpiel\"\n",
    "y = collections.Counter(s)\n",
    "print(y)\n",
    "sum1=0\n",
    "flag = 0\n",
    "flag1=0\n",
    "if s ==s[::-1]:\n",
    "    print(len(s))\n",
    "for num in y.values():\n",
    "    print(\"num {}\".format(num))\n",
    "    if num%2==0:\n",
    "        print(\"num: {}\".format(num))\n",
    "        sum1 = sum1+num\n",
    "        print(\"sum1: {}\".format(sum1))\n",
    "    else:\n",
    "        if num >1:\n",
    "            flag1 =1\n",
    "            print(\"num odd: {}\".format(num))\n",
    "            sum1 = sum1+(num-1)\n",
    "            print(\"sum1 odd: {}\".format(sum1))\n",
    "        else:\n",
    "            if flag ==0:\n",
    "                sum1=sum1+1\n",
    "                print(\"sum1 1: {}\".format(sum1))\n",
    "                flag=1\n",
    "if flag==0 and flag1==1:\n",
    "    sum1=sum1+1\n",
    "\n",
    "print(sum1)\n",
    "            \n"
   ]
  },
  {
   "cell_type": "code",
   "execution_count": null,
   "id": "a44bccd5",
   "metadata": {},
   "outputs": [],
   "source": [
    "s = \"code\"\n",
    "s = \"aab\"\n",
    "s = \"carerac\"\n",
    "import collections\n",
    "y = collections.Counter(s)\n",
    "count=0\n",
    "for x in y.values():\n",
    "    if x%2!=0:\n",
    "        count = count+1\n",
    "    if count==2:\n",
    "        print(False)\n",
    "        break;\n",
    "print(True)"
   ]
  },
  {
   "cell_type": "code",
   "execution_count": null,
   "id": "5b733f7a",
   "metadata": {},
   "outputs": [],
   "source": [
    "word = \"aS\"\n",
    "if word.isupper() or word.istitle() or word.islower():\n",
    "    print(True)\n",
    "else:\n",
    "    print(False)"
   ]
  },
  {
   "cell_type": "code",
   "execution_count": null,
   "id": "7ee13696",
   "metadata": {},
   "outputs": [],
   "source": [
    "words = [\"abc\",\"aabc\",\"bc\"]\n",
    "words = [\"ab\",\"a\"]\n",
    "import collections\n",
    "counter = collections.Counter(\"\".join(words))\n",
    "print(counter)\n",
    "flag = 0\n",
    "for v in counter.values(): \n",
    "    if v % len(words) != 0: \n",
    "        print(False)\n",
    "        break\n",
    "print(True)"
   ]
  },
  {
   "cell_type": "code",
   "execution_count": null,
   "id": "e7b42c6c",
   "metadata": {},
   "outputs": [],
   "source": [
    "patterns = [\"aa\",\"abc\",\"bc\",\"d\"]\n",
    "word = \"abc\"\n",
    "count = 0\n",
    "for x in patterns:\n",
    "    if x in word:\n",
    "        count=count+1\n",
    "print(count)"
   ]
  },
  {
   "cell_type": "code",
   "execution_count": null,
   "id": "0e70fea4",
   "metadata": {},
   "outputs": [],
   "source": [
    "first = \"qwertyuiop\"\n",
    "second = \"asdfghjkl\"\n",
    "third = \"zxcvbnm\"\n",
    "dic = {1:{'q','w','e','r','t','y','u','i','o','p'},\n",
    "      2:{'a','s','d','f','g','h','j','k','l'},\n",
    "      3:{'z','x','c','v','b','n','m'}}\n",
    "#print(dic)\n",
    "words = [\"Hello\",\"Alaska\",\"Dad\",\"Peace\"]\n",
    "group=0\n",
    "res = []\n",
    "for word in words:\n",
    "    if word[0] in dic[1] or word[0].lower() in dic[1]:\n",
    "        group = 1\n",
    "    elif word[0] in dic[2] or word[0].lower() in dic[2]:\n",
    "        group = 2\n",
    "    elif word[0] in dic[3] or word[0].lower() in dic[3]:\n",
    "        group = 3\n",
    "#    print(word,group)\n",
    "    \n",
    "    for i in range(1,len(word)):\n",
    "#        print(word)\n",
    "#        print(dic[group])\n",
    "        if word[i] not in dic[group]:\n",
    "            break\n",
    "        \n",
    "    else:\n",
    "        res.append(word)\n",
    "#        print(res)\n",
    "print(res)            \n",
    "        "
   ]
  },
  {
   "cell_type": "code",
   "execution_count": null,
   "id": "69d31960",
   "metadata": {},
   "outputs": [],
   "source": [
    "first = \"qwertyuiop\"\n",
    "second = \"asdfghjkl\"\n",
    "third = \"zxcvbnm\"\n",
    "ans = []\n",
    "for word in words:\n",
    "    tt = False\n",
    "    mt = False\n",
    "    bt = False\n",
    "    for letter in word:\n",
    "        if letter in first:\n",
    "            tt = True\n",
    "        if letter in second:\n",
    "            mt = True\n",
    "        if letter in third:\n",
    "            bt = True\n",
    "    lier=[tt,mt,bt]\n",
    "    if lier.count(True) == 1:\n",
    "        ans.append(word)\n",
    "print(ans)"
   ]
  },
  {
   "cell_type": "code",
   "execution_count": null,
   "id": "aae2ec11",
   "metadata": {},
   "outputs": [],
   "source": [
    "s = \"5F3Z-2e-9-w\"\n",
    "k = 4\n",
    "\n",
    "x = s.replace('-','').upper()\n",
    "res=[] \n",
    "i = len(x)\n",
    "while i > 0 :\n",
    "    if i-k <0:\n",
    "        res.append(x[0:i])\n",
    "    else:\n",
    "        res.append(x[i-k:i])\n",
    "    i = i-k\n",
    "print('-'.join(res[::-1]))"
   ]
  },
  {
   "cell_type": "code",
   "execution_count": null,
   "id": "02689eca",
   "metadata": {},
   "outputs": [],
   "source": [
    "text = \"nlaebolko\"\n",
    "text = \"loonbalxballpoon\"\n",
    "word = \"balloon\"\n",
    "word = list(word)\n",
    "text = list(text)\n",
    "count = 0\n",
    "\n",
    "for i in range(len(text)//len(word)):\n",
    "    res = []\n",
    "    text =list(text)\n",
    "    for letter in word:\n",
    "        if letter in text:\n",
    "            res.append(letter)\n",
    "            text.remove(letter)\n",
    "    if res == word:\n",
    "        count = count+1\n",
    "print(count)"
   ]
  },
  {
   "cell_type": "code",
   "execution_count": null,
   "id": "b935a8f1",
   "metadata": {},
   "outputs": [],
   "source": [
    "list1 = [\"Shogun\",\"Tapioca Express\",\"Burger King\",\"KFC\"]\n",
    "list2 = [\"Piatti\",\"The Grill at Torrey Pines\",\"Hungry Hunter Steakhouse\",\"Shogun\"]\n",
    "list1 = [\"Shogun\",\"KFC\",\"Tapioca Express\",\"Burger King\",\"KFC\"]\n",
    "list2 = [\"KFC\",\"Shogun\",\"Burger King\"]\n",
    "from collections import defaultdict\n",
    "res = defaultdict(list)\n",
    "for indx,x in enumerate(list1):\n",
    "    sum1 = 0\n",
    "    if x in list2:\n",
    "        sum1 = indx+list2.index(x)\n",
    "        res[sum1].append(x)    \n",
    "print(res.get(min(res.keys())))"
   ]
  },
  {
   "cell_type": "code",
   "execution_count": null,
   "id": "42bdea46",
   "metadata": {},
   "outputs": [],
   "source": [
    "widths = [4,10,10,10,10,10,10,10,10,10,10,10,10,10,10,10,10,10,10,10,10,10,10,10,10,10]\n",
    "s = \"bbbcccdddaaa\"\n",
    "#widths = [10,10,10,10,10,10,10,10,10,10,10,10,10,10,10,10,10,10,10,10,10,10,10,10,10,10]\n",
    "#widths = [10,10,30,40,50,60,10,10,10,10,10,10,10,10,10,10,10,10,10,10,10,10,10,10,10,10]\n",
    "#s = \"abcdefghijklmnopqrstuvwxyz\"\n",
    "#print(ord('a'))\n",
    "sum1 = 0\n",
    "count = 1\n",
    "for x in s:\n",
    "    i = ord(x)-97\n",
    "    print(\"x {}\".format(x))\n",
    "    print(\"i {}\".format(i))\n",
    "    print(\"widths[i] {}\".format(widths[i]))\n",
    "    if sum1+widths[i] <= 100:\n",
    "        print(\"sum1 {}\".format(sum1))\n",
    "        sum1=sum1+widths[i]\n",
    "        print(\"sum1: {}\".format(sum1))\n",
    "        print(\"count: {}\".format(count))\n",
    "    else:\n",
    "        count = count+1\n",
    "        print(\"count: else {}\".format(count))\n",
    "        sum1 = 0\n",
    "        sum1 = sum1+widths[i]\n",
    "        print(\"sum1: else {}\".format(sum1))\n",
    "\n",
    "print([count,sum1])\n",
    "\n",
    "#print(len(widths))\n",
    "#print(len(s))"
   ]
  },
  {
   "cell_type": "code",
   "execution_count": null,
   "id": "f50b0ba0",
   "metadata": {},
   "outputs": [],
   "source": [
    "words = [\"gin\",\"zen\",\"gig\",\"msg\"]\n",
    "dots = [\".-\",\"-...\",\"-.-.\",\"-..\",\".\",\"..-.\",\"--.\",\"....\",\"..\",\".---\",\"-.-\",\".-..\",\"--\",\"-.\",\"---\",\".--.\",\"--.-\",\".-.\",\"...\",\"-\",\"..-\",\"...-\",\".--\",\"-..-\",\"-.--\",\"--..\"]\n",
    "\n",
    "#print(ord('a'))\n",
    "#print(dots[i])\n",
    "\n",
    "list1=[]\n",
    "for word in words:\n",
    "    y =''\n",
    "    for x in word:\n",
    "        i = ord(x)-97\n",
    "        y = y+''.join(dots[i])\n",
    "    list1.append(y)\n",
    "print(len(set(list1)))\n"
   ]
  },
  {
   "cell_type": "code",
   "execution_count": null,
   "id": "4df5d678",
   "metadata": {},
   "outputs": [],
   "source": [
    "s = \"ab\"\n",
    "goal = \"ba\"\n",
    "#s = \"ab\"\n",
    "#goal = \"ab\"\n",
    "s = \"aa\"\n",
    "goal = \"aa\"\n",
    "print(tuple(zip(s,goal)))\n",
    "rec = set()\n",
    "swap_A = []\n",
    "swap_B = []\n",
    "count = 0\n",
    "\n",
    "for x,y in zip(s,goal):\n",
    "    print(x,y)\n",
    "    rec.add(x)\n",
    "    if x!=y:\n",
    "        swap_A.append(x)\n",
    "        swap_B.append(y)\n",
    "        count = count+1\n",
    "    if count > 2:\n",
    "        print(False)\n",
    "        break;\n",
    "print(swap_A)\n",
    "print(swap_B)\n",
    "if count == 0:\n",
    "    if len(rec) != len(s):\n",
    "        print(True)\n",
    "    print(False)\n",
    "elif count != 2:\n",
    "    print(False)\n",
    "else:\n",
    "    swap_A[::-1]==swap_B\n",
    "    print(True)\n",
    "print(rec)"
   ]
  },
  {
   "cell_type": "code",
   "execution_count": null,
   "id": "95c10751",
   "metadata": {},
   "outputs": [],
   "source": [
    "s1 = \"bank\"\n",
    "s2 = \"kanb\"\n",
    "s1 = \"attack\"\n",
    "s2 = \"defend\"\n",
    "s1 = \"kelb\"\n",
    "s2 = \"kelb\"\n",
    "Swap_s1 = []\n",
    "Swap_s2 = []\n",
    "count = 0\n",
    "if len(s1) != len(s2):\n",
    "    print(False)\n",
    "for indx, x in enumerate(s1):\n",
    "    if x != s2[indx]:\n",
    "        Swap_s1.append(x)\n",
    "        Swap_s2.append(s2[indx])\n",
    "        count = count+1\n",
    "    if count >2:\n",
    "        print(False)\n",
    "        break\n",
    "if count == 1:\n",
    "    print(False)\n",
    "elif count == 0:\n",
    "    print(True)\n",
    "else:\n",
    "    if Swap_s1[::-1] == Swap_s2:\n",
    "        print(True)\n",
    "    else:\n",
    "        print(False)"
   ]
  },
  {
   "cell_type": "code",
   "execution_count": null,
   "id": "99c6f22f",
   "metadata": {},
   "outputs": [],
   "source": [
    "s = \"OOO\"\n",
    "count = 0\n",
    "i = 0\n",
    "while i < len(s):\n",
    "    if 'X' in s[i:i+3]:\n",
    "        count = count+1\n",
    "        \n",
    "    i = i+3\n",
    "print(count)"
   ]
  },
  {
   "cell_type": "code",
   "execution_count": null,
   "id": "dad22860",
   "metadata": {},
   "outputs": [],
   "source": [
    "s = \"OXOX\"\n",
    "count = i = 0\n",
    "while i < len(s):\n",
    "    if s[i] == 'X':\n",
    "        count += 1\n",
    "        i += 3\n",
    "    else:\n",
    "        i += 1\n",
    "print(count)"
   ]
  },
  {
   "cell_type": "code",
   "execution_count": null,
   "id": "6ace443a",
   "metadata": {},
   "outputs": [],
   "source": [
    "num = 9669\n",
    "num = 9996\n",
    "num = 9999\n",
    "string = list(str(num))\n",
    "\n",
    "for indx,x in enumerate(string):\n",
    "    if x =='6':\n",
    "        string.pop(indx)\n",
    "        string.insert(indx,'9')\n",
    "        break\n",
    "print(int(''.join(string)))"
   ]
  },
  {
   "cell_type": "code",
   "execution_count": null,
   "id": "5dff3698",
   "metadata": {},
   "outputs": [],
   "source": [
    "text = \"hello world\"\n",
    "brokenLetters = \"ad\"\n",
    "count = 0\n",
    "for word in text.split():\n",
    "    flag = 0\n",
    "    for x in brokenLetters:\n",
    "        if x in word:\n",
    "            flag = 1\n",
    "            break\n",
    "    if flag == 0:\n",
    "        count = count +1\n",
    "print(count)"
   ]
  },
  {
   "cell_type": "code",
   "execution_count": null,
   "id": "f7a66b87",
   "metadata": {},
   "outputs": [],
   "source": [
    "s = \"\"\n",
    "count = 0\n",
    "if not s:\n",
    "    print(0)\n",
    "if s == s[::-1]:\n",
    "    print(1)\n",
    "else:\n",
    "    print(2)"
   ]
  },
  {
   "cell_type": "code",
   "execution_count": null,
   "id": "a4011819",
   "metadata": {},
   "outputs": [],
   "source": [
    "from datetime import date\n",
    "date1 = \"2019-06-29\"\n",
    "date2 = \"2019-06-30\"\n",
    "date1 = \"2020-01-15\"\n",
    "date2 = \"2019-12-31\"\n",
    "date1 = date1.split('-')\n",
    "date2 = date2.split('-')\n",
    "\n",
    "date1 = date(int(date1[0]),int(date1[1]),int(date1[2]))\n",
    "date2 = date(int(date2[0]),int(date2[1]),int(date2[2]))\n",
    "print(abs((date2-date1).days))"
   ]
  },
  {
   "cell_type": "code",
   "execution_count": null,
   "id": "64021542",
   "metadata": {},
   "outputs": [],
   "source": [
    "s = \"baaaabbbbcccc\"\n",
    "for i in range(len(s)):\n",
    "    count = 0\n",
    "    for j in range(len(s))\n",
    "        \n",
    "        if s[i]>s[j+1]:\n",
    "            pass\n",
    "        else:\n",
    "\n"
   ]
  },
  {
   "cell_type": "code",
   "execution_count": null,
   "id": "613e3573",
   "metadata": {},
   "outputs": [],
   "source": [
    "s = \"ab-cd\"\n",
    "s = \"a-bC-dEf-ghIj\"\n",
    "s= \"Test1ng-Leet=code-Q!\"\n",
    "t = [x for x in s if x.isalpha()]\n",
    "t = t[::-1]\n",
    "for indx,x in enumerate(s):\n",
    "    if not x.isalpha():\n",
    "        t.insert(indx,x)\n",
    "print(''.join(t))"
   ]
  },
  {
   "cell_type": "code",
   "execution_count": null,
   "id": "36bb81a0",
   "metadata": {},
   "outputs": [],
   "source": [
    "name = \"alex\"\n",
    "typed = \"aaleex\"\n",
    "name = \"saeedz\"\n",
    "typed = \"ssaaedd\"\n",
    "name = \"rick\"\n",
    "typed = \"kric\"\n",
    "name = \"alex\"\n",
    "typed = \"aaleexa\"\n",
    "y = collections.Counter(name)\n",
    "z = collections.Counter(typed)\n",
    "print(y)\n",
    "print(z)\n",
    "for x in y:\n",
    "    if z.get(x) is None:\n",
    "        print(False)\n",
    "        break\n",
    "    if y.get(x) > z.get(x):\n",
    "        print(False)\n",
    "        break\n",
    "    if len(name) ==len(typed) and name != typed:\n",
    "        print(False)\n",
    "print(True)\n",
    "    "
   ]
  },
  {
   "cell_type": "code",
   "execution_count": null,
   "id": "6929255b",
   "metadata": {},
   "outputs": [],
   "source": [
    "name = \"rick\"\n",
    "typed = \"kric\"\n",
    "if name[0] != typed[0]:\n",
    "    print(False)\n",
    "    break\n",
    "else:\n",
    "    temp = name[0]\n",
    "j = 1\n",
    "for i in range(1,len(name)):\n",
    "    if name[i] != typed[j]:\n",
    "        if temp != typed[j]:\n",
    "            print(False)\n",
    "        else:\n",
    "            \n",
    "    \n",
    "        \n",
    "    "
   ]
  },
  {
   "cell_type": "code",
   "execution_count": null,
   "id": "fc1b1863",
   "metadata": {},
   "outputs": [],
   "source": [
    "emails = [\"testemail+alex@leetcode.com\",\"test.e.mailbob.cathy@leetcode.com\",\"testemail+david@lee.tcode.com\"]\n",
    "emails = [\"test.email+alex@leetcode.com\",\"test.e.mail+bob.cathy@leetcode.com\",\"testemail+david@lee.tcode.com\"]\n",
    "\n",
    "list1 = set()\n",
    "for email in emails:\n",
    "    x = email.partition('@')\n",
    "    y = email.partition('@')[0].replace('.','').partition('+')[0]+x[1]+x[2]\n",
    "    list1.add(y)\n",
    "print(len(list1))"
   ]
  },
  {
   "cell_type": "code",
   "execution_count": null,
   "id": "9fee31b6",
   "metadata": {},
   "outputs": [],
   "source": [
    "logs = [\"dig1 8 1 5 1\",\"let1 art can\",\"dig2 3 6\",\"let2 own kit dig\",\"let3 art zero\"]\n",
    "digit = []\n",
    "letter =[]\n",
    "for x in logs:\n",
    "    y = x.split()\n",
    "    if y[1].isnumeric():\n",
    "        digit.append(x)\n",
    "    else:\n",
    "        letter.append(y)\n",
    "for i in range(1,len(letter)):\n",
    "    letter.sort(key = lambda letter: letter[i])\n",
    "res = []\n",
    "for x in letter:\n",
    "    x = ' '.join(x)\n",
    "    res.append(x)\n",
    "for x in digit:\n",
    "    res.append(x)\n",
    "print(res)"
   ]
  },
  {
   "cell_type": "code",
   "execution_count": null,
   "id": "5d910244",
   "metadata": {},
   "outputs": [],
   "source": [
    "sorted(l, key = lambda x: (x[x.find(\" \"):], x[:x.find(\" \")])) + list(d)"
   ]
  },
  {
   "cell_type": "code",
   "execution_count": null,
   "id": "0a044e93",
   "metadata": {},
   "outputs": [],
   "source": [
    "key_list = list(letter.keys())\n",
    "val_list = list(letter.values())\n",
    "position = val_list.index(100)\n",
    "print(key_list[position])"
   ]
  },
  {
   "cell_type": "code",
   "execution_count": null,
   "id": "51767f93",
   "metadata": {},
   "outputs": [],
   "source": [
    "path = \"NESEN\"\n",
    "x = y = 0\n",
    "s = {(0, 0)}\n",
    "for p in path:\n",
    "    if p == \"N\":\n",
    "        y += 1\n",
    "    elif p == \"S\":\n",
    "        y -= 1\n",
    "    elif p == \"W\":\n",
    "        x += 1\n",
    "    else:\n",
    "        x -= 1\n",
    "    if (x, y) in s:\n",
    "        print( True)\n",
    "    s.add((x, y))\n",
    "    print(s)\n",
    "print( False)"
   ]
  },
  {
   "cell_type": "code",
   "execution_count": null,
   "id": "342f33c8",
   "metadata": {},
   "outputs": [],
   "source": [
    "s = \"YazaAay\"\n",
    "s = \"Bb\"\n",
    "s = \"dDzeE\"\n",
    "stack =[]\n",
    "flag = 0\n",
    "temp = ''\n",
    "for i in range(len(s)):\n",
    "    if i < len(s)-1:\n",
    "        if s[i].isupper() and s[i+1].islower() and s[i].lower() == s[i+1]:\n",
    "            flag = 1\n",
    "            temp = stack.pop()\n",
    "            stack.append(s[i])\n",
    "        elif s[i].islower() and s[i+1].isupper() and s[i] == s[i+1].lower():\n",
    "            stack.append(s[i])\n",
    "            flag = 1\n",
    "    if i > 0 and flag == 0:\n",
    "        if s[i].isupper() and s[i-1].islower() and s[i].lower() == s[i-1]:\n",
    "            stack.append(s[i])\n",
    "        elif s[i].islower() and s[i-1].isupper() and s[i] == s[i-1].lower():\n",
    "            stack.append(s[i])\n",
    "    flag = 0\n",
    "    \n",
    "print(''.join(stack))\n"
   ]
  },
  {
   "cell_type": "code",
   "execution_count": null,
   "id": "1415f3c1",
   "metadata": {},
   "outputs": [],
   "source": [
    "s = \"Hello how are you Contestant\"\n",
    "k = 4\n",
    "' '.join(s.split()[:4])"
   ]
  },
  {
   "cell_type": "code",
   "execution_count": null,
   "id": "768361b8",
   "metadata": {},
   "outputs": [],
   "source": [
    " mat = [[1,1,0,0,0],\n",
    " [1,1,1,1,0],\n",
    " [1,0,0,0,0],\n",
    " [1,1,0,0,0],\n",
    " [1,1,1,1,1]], \n",
    "k = 3\n",
    "list1 = dict()\n",
    "for x in mat:\n",
    "    for indx, y in enumerate(x):\n",
    "        list1[indx]= y.count(1)\n",
    "sorted_keys = sorted(list1, key=list1.get)\n",
    "print(sorted_keys[:k])"
   ]
  },
  {
   "cell_type": "code",
   "execution_count": null,
   "id": "f609d5af",
   "metadata": {},
   "outputs": [],
   "source": [
    "s = \"a0b1c2\"\n",
    "s = \"leetcode\"\n",
    "s = \"1229857369\"\n",
    "s = \"j\"\n",
    "\n",
    "if (s.isalpha() or s.isnumeric()) and len(s) == 1 :\n",
    "    print(s)\n",
    "elif s.isalpha() or s.isnumeric():\n",
    "    print(\"\")\n",
    "stack = []\n",
    "list1 = []\n",
    "for x in s:\n",
    "    if x.isalpha():\n",
    "        stack.append(x)\n",
    "    elif x.isdigit():\n",
    "        list1.append(x)\n",
    "length1 = len(list1)\n",
    "length2 = len(stack)\n",
    "if length1 >= length2:\n",
    "    length = length1\n",
    "else:\n",
    "    length = length2\n",
    "if abs(len(list1)-len(stack)) > 1:\n",
    "    print(\"\")\n",
    "list2 = []\n",
    "for i in range(length):\n",
    "    if length2 >= length1:\n",
    "        if i < length2:\n",
    "            list2.append(stack[i])\n",
    "        if i < length1:\n",
    "            list2.append(list1[i])\n",
    "    else:\n",
    "        if i < length1:\n",
    "            list2.append(list1[i])\n",
    "        if i < length2:\n",
    "            list2.append(stack[i])\n",
    "print(''.join(list2))"
   ]
  },
  {
   "cell_type": "code",
   "execution_count": null,
   "id": "8756ade7",
   "metadata": {},
   "outputs": [],
   "source": [
    "sentence = \"cat and  dog\"\n",
    "sentence = \"!this  1-s b8d!\"\n",
    "sentence = \"cat and  dog\"\n",
    "sentence = \"this.  1-s b8d!\"\n",
    "list1 = sentence.split()\n",
    "stack = []\n",
    "for x in list1:\n",
    "    flag = 0\n",
    "    count = 0\n",
    "    print(x)\n",
    "    if x.isalpha() or x.isdigit() or x.isalnum():\n",
    "        stack.append(x)\n",
    "    elif  not (x.startswith('-') or x.endswith('-')) and x.count('-')== 1:\n",
    "        stack.append(x)\n",
    "    elif '!' in x:\n",
    "        count= count+1\n",
    "        if x.endswith('!') and x.count('!')== 1 and flag == 0 and count == 1:\n",
    "            flag = 1\n",
    "            stack.append(x)\n",
    "    elif '.' in x:\n",
    "        count= count+1\n",
    "        if x.endswith('.') and x.count('.')== 1 and flag == 0 and count == 1:\n",
    "            flag = 1\n",
    "            stack.append(x)\n",
    "    elif ',' in x:\n",
    "        count= count+1\n",
    "        if x.endswith(',') and x.count(',')== 1 and flag == 0 and count == 1:\n",
    "            flag = 1\n",
    "            stack.append(x)\n",
    "    \n",
    "print(len(stack))"
   ]
  },
  {
   "cell_type": "code",
   "execution_count": null,
   "id": "605d3a77",
   "metadata": {},
   "outputs": [],
   "source": [
    "s = \"book\"\n",
    "s = \"textbook\"\n",
    "length = len(s)\n",
    "half = length//2\n",
    "a = s[:half]\n",
    "b = s[half:]\n",
    "vowel = 'aeiouAEIOUU'\n",
    "count_a = 0\n",
    "count_b = 0\n",
    "for i in range(half):\n",
    "    if a[i] in vowel:\n",
    "        count_a= count_a+1\n",
    "    if b[i] in vowel:\n",
    "        count_b = count_b+1\n",
    "if count_a == count_b:\n",
    "    print(True)\n",
    "else:\n",
    "    print(False)"
   ]
  },
  {
   "cell_type": "code",
   "execution_count": null,
   "id": "511cb11b",
   "metadata": {},
   "outputs": [],
   "source": [
    "s = \"dfa123550fd\"\n",
    "y = set()\n",
    "for x in s:\n",
    "    if x.isdigit():\n",
    "        y.add(x)\n",
    "if len(y) >1:       \n",
    "    z = sorted(y,reverse=True)[1]\n",
    "    print(z)\n",
    "else:\n",
    "    print(-1)\n",
    "    "
   ]
  },
  {
   "cell_type": "code",
   "execution_count": null,
   "id": "7500e529",
   "metadata": {},
   "outputs": [],
   "source": [
    "word1 = \"abc\"\n",
    "word2 = \"pqr\"\n",
    "word1 = \"ab\"\n",
    "word2 = \"pqrs\"\n",
    "stack = []\n",
    "if len(word1)>len(word2):\n",
    "    length = len(word2)\n",
    "    flag = 0\n",
    "else:\n",
    "    length = len(word1)\n",
    "    flag = 1\n",
    "for i in range(length):\n",
    "    stack.append(word1[i])\n",
    "    stack.append(word2[i])\n",
    "\n",
    "if flag == 0:\n",
    "    print(''.join(stack)+word1[length:])\n",
    "else:\n",
    "    print(''.join(stack)+word2[length:])"
   ]
  },
  {
   "cell_type": "code",
   "execution_count": null,
   "id": "3a32d40d",
   "metadata": {},
   "outputs": [],
   "source": [
    "sequence = \"ababc\"\n",
    "word = \"ab\"\n",
    "#sequence = \"ababc\"\n",
    "#word = \"ba\"\n",
    "sequence = \"ababc\"\n",
    "word = \"ac\"\n",
    "sequence =\"aaabaaaabaaabaaaabaaaabaaaabaaaaba\"\n",
    "word =\"aaaba\"\n",
    "print(sequence.count(word))"
   ]
  },
  {
   "cell_type": "code",
   "execution_count": null,
   "id": "49c70572",
   "metadata": {},
   "outputs": [],
   "source": [
    "sequence =\"aaabaaaabaaabaaaabaaaabaaaabaaaaba\"\n",
    "word =\"aaaba\"\n",
    "i = 1\n",
    "while True:\n",
    "    if word*i in sequence:\n",
    "        print(word*i,\"  \",i)\n",
    "        i+=1\n",
    "    else:\n",
    "        break\n",
    "\n",
    "print (i-1)"
   ]
  },
  {
   "cell_type": "code",
   "execution_count": null,
   "id": "41eccba7",
   "metadata": {},
   "outputs": [],
   "source": [
    "arr = [1,2,4,4,4,4]\n",
    "m = 1\n",
    "k = 3\n",
    "print(len(arr))\n",
    "print(len(arr)-m+1)\n",
    "for i in range(len(arr)-m+1):\n",
    "    print(\"i {}\".format(i))\n",
    "    print(\"i+m*k {}\".format(i+m*k))\n",
    "    sub1=arr[i:i+m*k]\n",
    "    sub2=arr[i:i+m]*k\n",
    "    if sub1==sub2:\n",
    "        print(True)\n",
    "print(False)\n"
   ]
  },
  {
   "cell_type": "markdown",
   "id": "354b4cb1",
   "metadata": {},
   "source": []
  },
  {
   "cell_type": "code",
   "execution_count": null,
   "id": "19c54d35",
   "metadata": {},
   "outputs": [],
   "source": [
    "num = \"2\"\n",
    "num = \"35427\"\n",
    "stack = []\n",
    "length = len(num)*-1\n",
    "for x in range(-1,length,-1):\n",
    "    if int(x)%2 !=0:\n",
    "        stack.append(x)\n",
    "if not stack:\n",
    "    print(\"\")\n",
    "else:\n",
    "    print(sorted(stack,reverse=True)[0])"
   ]
  },
  {
   "cell_type": "code",
   "execution_count": null,
   "id": "c7a7d56f",
   "metadata": {},
   "outputs": [],
   "source": [
    "num = \"3542672\"\n",
    "length = len(num)*-1\n",
    "for i in range(-1,length-1,-1):\n",
    "    if int(num[i]) % 2 !=0:\n",
    "        if i == -1:\n",
    "            print(num[:])\n",
    "        else:\n",
    "            print(num[:i+1])\n",
    "        break"
   ]
  },
  {
   "cell_type": "code",
   "execution_count": null,
   "id": "92cbe5d0",
   "metadata": {},
   "outputs": [],
   "source": [
    "text = \"alice is a good girl she is a good\"\n",
    "text=text.split()\n",
    "first = \"a\"\n",
    "second = \"good\"\n",
    "\n",
    "third = []\n",
    "for i in range(len(text)-2):\n",
    "    if text[i] == first and text[i+1] == second:\n",
    "        third.append(text[i+2])\n",
    "print(third)"
   ]
  },
  {
   "cell_type": "code",
   "execution_count": null,
   "id": "41150dde",
   "metadata": {},
   "outputs": [],
   "source": [
    "s = \"01000\"\n",
    "zero, one, n = '0', '1', len(s)\n",
    "for i in range(1,n):\n",
    "    zero,one = zero + one[-1], one+zero[-1]\n",
    "c1 = c2 = 0\n",
    "for i in range(n):\n",
    "    if s[i]!=zero[i]:\n",
    "        c1+=1\n",
    "    if s[i]!=one[i]:\n",
    "        c2+=1\n",
    "print(min(c1,c2))   "
   ]
  },
  {
   "cell_type": "code",
   "execution_count": null,
   "id": "e0715088",
   "metadata": {},
   "outputs": [],
   "source": [
    "s = \"iloveleetcode\"\n",
    "words = [\"i\",\"love\",\"leetcode\",\"apples\"]\n",
    "s = \"iloveleetcode\"\n",
    "words = [\"apples\",\"i\",\"love\",\"leetcode\"]\n",
    "#s = \"aaaaaaa\"\n",
    "#words = [\"a\",\"a\",\"a\",\"a\",\"a\",\"a\",\"a\",\"a\"]\n",
    "k = ''\n",
    "count = 0\n",
    "for i in range(0, len(words)):\n",
    "    k = k+ words[i]\n",
    "    print(k)\n",
    "    if k == s:\n",
    "        print(True)\n",
    "    else:\n",
    "        count = count + 1\n",
    "        if count == len(words):\n",
    "            print(False)"
   ]
  },
  {
   "cell_type": "code",
   "execution_count": null,
   "id": "7747b72b",
   "metadata": {},
   "outputs": [],
   "source": [
    "s = \"iiii\"\n",
    "k = 1\n",
    "s =\"leetcode\"\n",
    "k =2\n",
    "stack = []\n",
    "y = ''\n",
    "for x in s:\n",
    "    y = y+''.join(str(ord(x)-96))\n",
    "    stack.append(ord(x)-96)\n",
    "print(y)\n",
    "print(stack)\n",
    "print(n)\n",
    "for i in range(k):\n",
    "    num = sum(stack)\n",
    "    print(num)\n",
    "    stack = []\n",
    "    num1 = num\n",
    "    for j in range(len(str(num))):\n",
    "        num1,rem = divmod(num1,10)\n",
    "#        print(num1)\n",
    "        stack.append(rem)\n",
    "        stack = stack[::-1]\n",
    "#    print(stack)\n",
    "print(num)"
   ]
  },
  {
   "cell_type": "code",
   "execution_count": null,
   "id": "d0704cb2",
   "metadata": {},
   "outputs": [],
   "source": [
    "stack = [9,9,9,9]\n",
    "k = 2\n",
    "for i in range(1):\n",
    "    num = sum(stack)\n",
    "#    print(num)\n",
    "    stack = []\n",
    "    num1 = num\n",
    "    for j in range(len(str(num))):\n",
    "        num1,rem = divmod(num1,10)\n",
    "#        print(num1)\n",
    "        stack.append(rem)\n",
    "        stack = stack[::-1]\n",
    "#    print(stack)\n",
    "print(num)\n"
   ]
  },
  {
   "cell_type": "code",
   "execution_count": null,
   "id": "a8a6dc42",
   "metadata": {},
   "outputs": [],
   "source": [
    "num1 = 36\n",
    "num1,rem = divmod(num1,10)\n",
    "print(num1)\n",
    "print(rem)"
   ]
  },
  {
   "cell_type": "code",
   "execution_count": null,
   "id": "b4a03c87",
   "metadata": {},
   "outputs": [],
   "source": [
    "s = \"iiii\"\n",
    "k = 1\n",
    "s =\"leetcode\"\n",
    "k =2\n",
    "y = ''\n",
    "stack = []\n",
    "for x in s:\n",
    "    y = y+''.join(str(ord(x)-96))\n",
    "    stack.append(str(ord(x)-96))\n",
    "z = ''.join(stack)\n",
    "print(z)\n",
    "print(stack)\n",
    "for i in range(k):\n",
    "    num1 = sum(int(str(z)))\n",
    "    print(num1)\n",
    "    y = ''\n",
    "    for j in range(len(z)):\n",
    "        num1,rem = divmod(num1,10)\n",
    "#        print(num1)\n",
    "        y = y+''.join(str(rem))\n",
    "        y = y[::-1]\n",
    "print(y)"
   ]
  },
  {
   "cell_type": "code",
   "execution_count": null,
   "id": "c83f8f64",
   "metadata": {},
   "outputs": [],
   "source": [
    "s = '12552031545'\n",
    "num1 = int(str(s))\n",
    "print(num1)"
   ]
  },
  {
   "cell_type": "code",
   "execution_count": null,
   "id": "d5ec4752",
   "metadata": {},
   "outputs": [],
   "source": [
    "word = \"uaieouu\"\n",
    "vowels = {\"a\", \"e\", \"i\", \"o\", \"u\"}        \n",
    "res = 0\n",
    "for i in range(len(word) - 4):\n",
    "    j = i\n",
    "    seen = set()\n",
    "    while j < len(word):\n",
    "        if word[j] in vowels:\n",
    "            seen.add(word[j])\n",
    "            j += 1\n",
    "            if len(seen) == 5:\n",
    "                res += 1\n",
    "        else:\n",
    "            break\n",
    "print(res) "
   ]
  },
  {
   "cell_type": "code",
   "execution_count": null,
   "id": "f2465a07",
   "metadata": {},
   "outputs": [],
   "source": [
    "word = \"uaieouu\"\n",
    "vowels = {\"a\", \"e\", \"i\", \"o\", \"u\"}  \n",
    "res = 0\n",
    "for i in range(len(word)-4):\n",
    "    j = i\n",
    "    seen = set()\n",
    "    while j <len(word):\n",
    "        if word[j] in vowels:\n",
    "            seen.add(word[j])\n",
    "            j = j+1\n",
    "            if len(seen) == 5:\n",
    "                res = res+1\n",
    "        else:\n",
    "            break\n",
    "print(res)"
   ]
  },
  {
   "cell_type": "code",
   "execution_count": null,
   "id": "5440e9b1",
   "metadata": {},
   "outputs": [],
   "source": [
    "import collections \n",
    "word1 = \"abcdeef\"\n",
    "word2 = \"abaaaacc\"\n",
    "word1=\"abcdeef\"\n",
    "word2=\"abaaacc\"\n",
    "word = set(word1+word2)\n",
    "x = collections.Counter(word1)\n",
    "y = collections.Counter(word2)\n",
    "for w in word:\n",
    "    if x.get(w) is None:\n",
    "        a = 0\n",
    "    else: \n",
    "        a = x.get(w)\n",
    "    if y.get(w) is None:\n",
    "        b = 0\n",
    "    else:\n",
    "        b = y.get(w)\n",
    "    if abs(a-b)>3:\n",
    "        print(False)\n",
    "        break\n",
    "print(True)"
   ]
  },
  {
   "cell_type": "code",
   "execution_count": null,
   "id": "46b85504",
   "metadata": {},
   "outputs": [],
   "source": [
    "s = \"aaabbba\"\n",
    "flag = 0\n",
    "for x in s:\n",
    "    if x != 'a':\n",
    "        flag = 1\n",
    "    if flag == 1 and x=='a':\n",
    "        print(False)\n",
    "        break\n",
    "print(True)\n",
    "        "
   ]
  },
  {
   "cell_type": "code",
   "execution_count": null,
   "id": "aa6ac1ca",
   "metadata": {},
   "outputs": [],
   "source": [
    "sentences = [\"alice and bob love leetcode\", \"i think so too\", \"this is great thanks very much\"]\n",
    "stack = []\n",
    "for sentence in sentences:\n",
    "    stack.append(len(sentence.split()))\n",
    "print(max(stack))"
   ]
  },
  {
   "cell_type": "code",
   "execution_count": null,
   "id": "684cb0b3",
   "metadata": {},
   "outputs": [],
   "source": [
    "s = \"leeetcode\"\n",
    "s = \"aaabaaaa\"\n",
    "s = \"aab\"\n",
    "s = \"a\"\n",
    "i = 0\n",
    "stack = []\n",
    "while i < len(s)-2:\n",
    "    a = s[i]\n",
    "    b = s[i+1]\n",
    "    c = s[i+2]\n",
    "    if a != b or b !=c:\n",
    "        i = i+1\n",
    "        stack.append(a)\n",
    "    else:\n",
    "        i = i+1\n",
    "if len(s)>2:         \n",
    "    stack.append(s[-2])\n",
    "    stack.append(s[-1])\n",
    "else:\n",
    "    print(s)\n",
    "print(''.join(stack))\n",
    "        \n"
   ]
  },
  {
   "cell_type": "code",
   "execution_count": null,
   "id": "05168b72",
   "metadata": {},
   "outputs": [],
   "source": [
    "s = \"xyzzaz\"\n",
    "s = \"aababcabc\"\n",
    "i = 0\n",
    "stack = []\n",
    "while i < len(s)-2:\n",
    "    flag = 0\n",
    "    for y in s[i:i+3]:\n",
    "        if s[i:i+3].count(y) !=1:\n",
    "            flag = 1\n",
    "            break\n",
    "    if flag==0:\n",
    "        stack.append(s[i:i+3])\n",
    "    i = i+1\n",
    "    \n",
    "        \n",
    "print(len(stack))"
   ]
  },
  {
   "cell_type": "code",
   "execution_count": null,
   "id": "1df3904f",
   "metadata": {},
   "outputs": [],
   "source": [
    "text = \"  this   is  a sentence \"\n",
    "text = \" practice   makes   perfect\"\n",
    "text = \"a\"\n",
    "\n",
    "text = \"  hello\"\n",
    "list1 = text.split()\n",
    "count = 0\n",
    "for x in text:\n",
    "    if x ==\" \":\n",
    "        count=count+1\n",
    "print(count)\n",
    "print(len(list1))\n",
    "#print(count//(len(list1)-1))\n",
    "try: \n",
    "    k = count//(len(list1)-1)\n",
    "    m = \" \"*k\n",
    "    if k*(len(list1)-1) < count:\n",
    "        l = count-(k*(len(list1)-1))\n",
    "        print(m.join(list1)+\" \"*l)\n",
    "    else:\n",
    "        print(m.join(list1))\n",
    "except ZeroDivisionError:\n",
    "    print(text.replace(\" \",\"\")+\" \"*count)"
   ]
  },
  {
   "cell_type": "code",
   "execution_count": null,
   "id": "ca6a5686",
   "metadata": {},
   "outputs": [],
   "source": [
    "allowed = \"ab\"\n",
    "words = [\"ad\",\"bd\",\"aaab\",\"baa\",\"badab\"]\n",
    "allowed = \"abc\"\n",
    "words = [\"a\",\"b\",\"c\",\"ab\",\"ac\",\"bc\",\"abc\"]\n",
    "allowed = \"cad\"\n",
    "words = [\"cc\",\"acd\",\"b\",\"ba\",\"bac\",\"bad\",\"ac\",\"d\"]\n",
    "stack = []\n",
    "for word in words:\n",
    "    flag = 0\n",
    "    for x in word:\n",
    "        if x not in allowed:\n",
    "            flag = 1\n",
    "    if flag ==0:\n",
    "        stack.append(word)\n",
    "print(len(stack))"
   ]
  },
  {
   "cell_type": "code",
   "execution_count": null,
   "id": "d0319591",
   "metadata": {},
   "outputs": [],
   "source": [
    "s = \"a1c1e1\"\n",
    "s = \"a1b2c3d4e\"\n",
    "x = \"\"\n",
    "i = 0\n",
    "while i < len(s):\n",
    "    if i%2==0:\n",
    "        x=x+s[i]\n",
    "    else:\n",
    "        y = s[i-1]\n",
    "        x=x+(chr(ord(y)+int(s[i])))\n",
    "    i = i+1\n",
    "print(x)        \n",
    "        \n"
   ]
  },
  {
   "cell_type": "code",
   "execution_count": null,
   "id": "61ba7ba3",
   "metadata": {},
   "outputs": [],
   "source": [
    "items = [[\"phone\",\"blue\",\"pixel\"],[\"computer\",\"silver\",\"lenovo\"],\n",
    "         [\"phone\",\"gold\",\"iphone\"]]\n",
    "ruleKey = \"color\"\n",
    "ruleValue = \"silver\"\n",
    "items = [[\"phone\",\"blue\",\"pixel\"],[\"computer\",\"silver\",\"phone\"],[\"phone\",\"gold\",\"iphone\"]]\n",
    "ruleKey = \"type\"\n",
    "ruleValue = \"phone\"\n",
    "items = [[\"qqqq\",\"qqqq\",\"qqqq\"],[\"qqqq\",\"qqqq\",\"qqqq\"],[\"qqqq\",\"qqqq\",\"qqqq\"],[\"qqqq\",\"qqqq\",\"qqqq\"],[\"qqqq\",\"qqqq\",\"qqqq\"],[\"qqqq\",\"qqqq\",\"qqqq\"],[\"qqqq\",\"qqqq\",\"qqqq\"]]\n",
    "ruleKey = \"name\"\n",
    "ruleValue = \"qqqq\"\n",
    "count = 0\n",
    "for item in items:\n",
    "    type1 =  item[0]\n",
    "    color1 = item[1]\n",
    "    value1 = item[2]\n",
    "    if ruleKey == 'type'and ruleValue == type1:\n",
    "        count = count+1\n",
    "    elif ruleKey == 'color' and ruleValue == color1:\n",
    "        count = count+1\n",
    "    elif ruleKey == 'name' and ruleValue == value1:\n",
    "        count = count+1  \n",
    "print(count)\n",
    "\n"
   ]
  },
  {
   "cell_type": "code",
   "execution_count": null,
   "id": "43355bee",
   "metadata": {},
   "outputs": [],
   "source": [
    "sentence = \"thequickbrownfoxjumpsoverthelazydog\"\n",
    "if len(sentence)<26:\n",
    "    print(False)\n",
    "else:\n",
    "    stack = set()\n",
    "    for x in sentence:\n",
    "        stack.add(x)\n",
    "    if len(stack)==26:\n",
    "        print(True)\n",
    "    else:\n",
    "        print(False)"
   ]
  },
  {
   "cell_type": "code",
   "execution_count": null,
   "id": "f0fbf14d",
   "metadata": {},
   "outputs": [],
   "source": [
    "operations = [\"--X\",\"X++\",\"X++\"]\n",
    "operations = [\"++X\",\"++X\",\"X++\"]\n",
    "operations = [\"X++\",\"++X\",\"--X\",\"X--\"]\n",
    "X = 0\n",
    "for operation in operations:\n",
    "    if operation == \"++X\" or operation == \"X++\":\n",
    "        X = X+1\n",
    "    if operation == \"--X\" or operation == \"X--\":\n",
    "        X = X-1\n",
    "print(X)"
   ]
  },
  {
   "cell_type": "code",
   "execution_count": null,
   "id": "402d1805",
   "metadata": {},
   "outputs": [],
   "source": [
    "word1 = [\"ab\", \"c\"]\n",
    "word2 = [\"a\", \"bc\"]\n",
    "word1 = [\"a\", \"cb\"]\n",
    "word2 = [\"ab\", \"c\"]\n",
    "word1  = [\"abc\", \"d\", \"defg\"]\n",
    "word2 = [\"abcddefg\"]\n",
    "if ''.join(word1) == ''.join(word2):\n",
    "    print(True)\n",
    "else:\n",
    "    print(False)"
   ]
  },
  {
   "cell_type": "code",
   "execution_count": null,
   "id": "b6d613ec",
   "metadata": {},
   "outputs": [],
   "source": [
    "address = \"1.1.1.1\"\n",
    "address = \"255.100.50.0\"\n",
    "y = ''\n",
    "for x in address:\n",
    "    if x.isdigit():\n",
    "        y = y+x\n",
    "    else:\n",
    "        y = y+'[.]'\n",
    "print(y)"
   ]
  },
  {
   "cell_type": "code",
   "execution_count": null,
   "id": "86596baf",
   "metadata": {},
   "outputs": [],
   "source": [
    "s = \"codeleet\"\n",
    "indices = [4,5,6,7,0,2,1,3]\n",
    "s = \"abc\"\n",
    "indices = [0,1,2]\n",
    "stack = []\n",
    "for i in range(len(s)):\n",
    "    stack.append(s[indices.index(i)])\n",
    "print(''.join(stack))"
   ]
  },
  {
   "cell_type": "code",
   "execution_count": null,
   "id": "b9f4dfeb",
   "metadata": {},
   "outputs": [],
   "source": [
    "import collections\n",
    "s = \"abacbc\"\n",
    "s = \"aaabb\"\n",
    "y = collections.Counter(s)\n",
    "temp = y.get(s[0])\n",
    "for x in y:\n",
    "    if y.get(x) != temp:\n",
    "        print(False)\n",
    "print(True)"
   ]
  },
  {
   "cell_type": "code",
   "execution_count": null,
   "id": "187c58ce",
   "metadata": {},
   "outputs": [],
   "source": [
    "coordinates = \"h8\"\n",
    "#coordinates = \"h3\"\n",
    "coordinates = \"c2\"\n",
    "if ((ord(coordinates[0])-97)%2 ==0 and int(coordinates[1])%2 ==0) or ((ord(coordinates[0])-97)%2 !=0 and int(coordinates[1])%2 !=0):\n",
    "    print(True)\n",
    "else:\n",
    "    print(False)\n",
    "    \n",
    "    "
   ]
  },
  {
   "cell_type": "code",
   "execution_count": null,
   "id": "d683a8bf",
   "metadata": {},
   "outputs": [],
   "source": [
    "word = \"abc\"\n",
    "word = \"abc\"\n",
    "current =  ord('a')\n",
    "res = 0\n",
    "for w in word:\n",
    "    temp = abs(current-ord(w))%26\n",
    "    count = min(temp,26-temp)\n",
    "    res = res + count+1\n",
    "    current = ord(w)\n",
    "print(res)"
   ]
  },
  {
   "cell_type": "code",
   "execution_count": null,
   "id": "acaaf172",
   "metadata": {},
   "outputs": [],
   "source": [
    "ord('b')\n",
    "ord('b')-ord('z')"
   ]
  },
  {
   "cell_type": "code",
   "execution_count": null,
   "id": "c42d77cd",
   "metadata": {},
   "outputs": [],
   "source": [
    "paths = [[\"London\",\"New York\"],[\"New York\",\"Lima\"],[\"Lima\",\"Sao Paulo\"]]\n",
    "stack = []\n",
    "stack = [x for path in paths for x in path]\n",
    "for x in stack:\n",
    "    i = 0\n",
    "    while i < len(paths):\n",
    "        if stack.count(x) ==1 and paths[i][1] == x:\n",
    "            print(x)\n",
    "            break\n",
    "        i = i+1\n",
    "    \n",
    "        \n",
    "    "
   ]
  },
  {
   "cell_type": "code",
   "execution_count": null,
   "id": "67bccaa1",
   "metadata": {},
   "outputs": [],
   "source": [
    "paths[2][1]\n",
    "len(paths)"
   ]
  },
  {
   "cell_type": "code",
   "execution_count": null,
   "id": "0d88151b",
   "metadata": {},
   "outputs": [],
   "source": [
    "firstWord = \"acb\"\n",
    "secondWord = \"cba\"\n",
    "targetWord = \"cdb\"\n",
    "s1=''\n",
    "s2=''\n",
    "s3=''\n",
    "for x in firstWord:\n",
    "    s1= s1+str(ord(x)-97)\n",
    "for x in secondWord:\n",
    "    s2= s2+str(ord(x)-97)\n",
    "for x in targetWord:\n",
    "    s3= s3+str(ord(x)-97)\n",
    "if (int(s1)+int(s2)) == int(s3):\n",
    "    print(True)\n",
    "else:\n",
    "    print(False)"
   ]
  },
  {
   "cell_type": "code",
   "execution_count": null,
   "id": "6de68c1c",
   "metadata": {},
   "outputs": [],
   "source": [
    "n = 9\n",
    "if n%2==0:\n",
    "    print((n-1)*'a'+'b')\n",
    "else:\n",
    "    print('a'*n)"
   ]
  },
  {
   "cell_type": "code",
   "execution_count": null,
   "id": "fafc4989",
   "metadata": {},
   "outputs": [],
   "source": [
    "s = \"10#11#12\"\n",
    "s = \"1326#\"\n",
    "\n",
    "i = 0\n",
    "res = ''\n",
    "while i < len(s):\n",
    "    x = ''\n",
    "    if i < len(s)-2 and s[i+2]=='#':\n",
    "        x = x+s[i]+s[i+1]\n",
    "        res=res+chr(96+int(x))\n",
    "        i = i+3\n",
    "    else:\n",
    "        x = x+s[i]\n",
    "        res = res+chr(96+int(x))\n",
    "        i = i+1\n",
    "print(res)"
   ]
  },
  {
   "cell_type": "code",
   "execution_count": null,
   "id": "79cef4d1",
   "metadata": {},
   "outputs": [],
   "source": [
    "s = \"aaaba\"\n",
    "length = len(s)\n",
    "for "
   ]
  },
  {
   "cell_type": "code",
   "execution_count": null,
   "id": "26e47775",
   "metadata": {},
   "outputs": [],
   "source": [
    "chr(96+10)"
   ]
  },
  {
   "cell_type": "code",
   "execution_count": null,
   "id": "f4c9747d",
   "metadata": {},
   "outputs": [],
   "source": [
    "s = \"Hello, my name is John\"\n",
    "s = s.split()\n",
    "len(s)"
   ]
  },
  {
   "cell_type": "code",
   "execution_count": null,
   "id": "1af86f92",
   "metadata": {},
   "outputs": [],
   "source": [
    "word = \"internationalization\"\n",
    "abbr = \"i12iz4n\"\n",
    "stack = []\n",
    "temp = ''\n",
    "while i < len(word):\n",
    "    if abbr[i].isalpha() and word[i]==abbr[i]:\n",
    "        i = i+1\n",
    "        temp = ''\n",
    "    elif abbr[i].isdigit():\n",
    "        temp = temp+abbr[i]"
   ]
  },
  {
   "cell_type": "code",
   "execution_count": null,
   "id": "2ebd292f",
   "metadata": {},
   "outputs": [],
   "source": [
    "s = \"000111000\"\n",
    "s = \"00011111222\"\n",
    "s = \"011100022233\"\n",
    "s = \"66666666666677722\"\n",
    "s = \"1\"\n",
    "stack = []\n",
    "i = 0\n",
    "while i < len(s):\n",
    "    if len(s)==1:\n",
    "        print(False)\n",
    "    if s[0] != s[1] or s[-2]!=s[-1]:\n",
    "        print(False)\n",
    "    if i < (len(s)-2) and s[i] == s[i+1] and s[i+1]== s[i+2]:\n",
    "        stack.append(s[i]+s[i+1]+s[i+2])\n",
    "        i = i+3\n",
    "    elif i < (len(s)-2) and s[i] == s[i+1] and s[i+1]!= s[i+2]:\n",
    "        stack.append(s[i]+s[i+1])\n",
    "        i = i+2\n",
    "    elif i < (len(s)-1) and s[i] == s[i+1]:\n",
    "        stack.append(s[i]+s[i+1])\n",
    "        i = i+2\n",
    "    else:\n",
    "        i = i+1\n",
    "        print(\"inside else\")\n",
    "        print(False)\n",
    "count = 0\n",
    "for x in stack:\n",
    "    if len(x) == 2:\n",
    "        count = count+1\n",
    "if count ==1:\n",
    "    print(True)\n",
    "else:\n",
    "    print(False)\n",
    "print(stack)"
   ]
  },
  {
   "cell_type": "code",
   "execution_count": null,
   "id": "f5a8bbfa",
   "metadata": {},
   "outputs": [],
   "source": [
    "number = \"1-23-45 6\"\n",
    "number = \"123 4-567\"\n",
    "number = \"123 4-5678\"\n",
    "number = number.replace(' ','')\n",
    "number = number.replace('-','')\n",
    "i = 0\n",
    "stack = []\n",
    "while len(number)> 0:\n",
    "    if len(number) > 4:\n",
    "        stack.append(number[0:3])\n",
    "        number=number[3:]\n",
    "    elif len(number) == 4:\n",
    "        stack.append(number[0:2])\n",
    "        stack.append(number[2:4])\n",
    "        number=number[4:]\n",
    "    elif len(number)<4:\n",
    "        stack.append(number[0:])\n",
    "        number=''\n",
    "print('-'.join(stack))"
   ]
  },
  {
   "cell_type": "code",
   "execution_count": null,
   "id": "e93fa343",
   "metadata": {},
   "outputs": [],
   "source": [
    "number=''\n",
    "len(number)"
   ]
  },
  {
   "cell_type": "code",
   "execution_count": null,
   "id": "54a0cdd0",
   "metadata": {},
   "outputs": [],
   "source": [
    "paragraph = \"Bob hit a ball, the hit BALL flew far after it was hit.\"\n",
    "banned = [\"hit\"]\n",
    "paragraph = \"Bob!\"\n",
    "banned = [\"hit\"]\n",
    "#paragraph = \"a, a, a, a, b,b,b,c, c\"\n",
    "#banned=[\"a\"]\n",
    "import collections\n",
    "stack=[]\n",
    "for x in paragraph.split():\n",
    "    if x.isalnum():\n",
    "        stack.append(x.lower())\n",
    "    else:\n",
    "        temp =''\n",
    "        for y in x:\n",
    "            if y.isalpha():\n",
    "                temp = temp+y\n",
    "            else:\n",
    "                break\n",
    "        stack.append(temp.lower())\n",
    "\n",
    "y = (collections.Counter(stack))\n",
    "for x in banned:\n",
    "    if x in y:\n",
    "        y.pop(x)\n",
    "print(y.most_common(1)[0][0])\n"
   ]
  },
  {
   "cell_type": "code",
   "execution_count": null,
   "id": "b7511962",
   "metadata": {},
   "outputs": [],
   "source": [
    "s = \"PPALLP\"\n",
    "s = \"PPALLL\"\n",
    "absent = 0\n",
    "late = 0\n",
    "for x in s:\n",
    "    if x =='A':\n",
    "        late = 0\n",
    "        absent = absent+1\n",
    "        if absent > 2:\n",
    "            print(False)\n",
    "            break\n",
    "    if x == 'L':\n",
    "        absent = 0\n",
    "        late = late+1\n",
    "        if late>2:\n",
    "            print(False)\n",
    "    if x =='P':\n",
    "        absent = 0\n",
    "        late = 0\n",
    "print(True)\n",
    "        \n",
    "    "
   ]
  },
  {
   "cell_type": "code",
   "execution_count": null,
   "id": "1547e8e2",
   "metadata": {},
   "outputs": [],
   "source": [
    "num = \"69\"\n",
    "num = \"88\"\n",
    "num = \"962\"\n",
    "dict1 = {'6':'9','9':'6','8':'8','1':'1','0':'0'}\n",
    "stack = []\n",
    "for x in num:\n",
    "    if dict1.get(x) is not None:\n",
    "        stack.append(dict1.get(x))\n",
    "    else:\n",
    "        print(False)\n",
    "if ''.join(stack)==num[::-1]:\n",
    "    print(True)\n",
    "else:\n",
    "    print(False)"
   ]
  },
  {
   "cell_type": "code",
   "execution_count": null,
   "id": "09cf880e",
   "metadata": {},
   "outputs": [],
   "source": [
    "word = \"internationalization\"\n",
    "abbr = \"i12iz4n\"\n",
    "#word = \"apple\"\n",
    "#abbr = \"a2e\"\n",
    "\n",
    "#word =\"internationalization\"\n",
    "#abbr =\"i5a11o1\"\n",
    "word = 'a'\n",
    "abbr = '01'\n",
    "\n",
    "stack = []\n",
    "i = 0\n",
    "temp = ''\n",
    "\n",
    "while i < len(abbr):\n",
    "    if abbr[i].isalpha():\n",
    "        stack.append(abbr[i])\n",
    "        temp = ''\n",
    "    elif temp=='' and abbr[i]=='0':\n",
    "        print(False)\n",
    "        break\n",
    "    elif abbr[i].isdigit():\n",
    "        temp = temp+abbr[i]\n",
    "        if i < (len(abbr)-1) and not abbr[i+1].isdigit():\n",
    "            stack.append(temp)\n",
    "        elif i == (len(abbr)-1):\n",
    "            stack.append(temp)\n",
    "    i = i+1\n",
    "j =0\n",
    "temp =''\n",
    "i =0\n",
    "print(stack)\n",
    "while i < len(stack):\n",
    "    if stack[i].isalpha():\n",
    "        temp = temp+stack[i]\n",
    "        j = j+1\n",
    "        i = i+1\n",
    "    elif stack[i].isdigit():\n",
    "        if (len(word[j:j+int(stack[i])])) == (int(stack[i])):\n",
    "            temp = temp+word[j:j+int(stack[i])]\n",
    "            j = j+int(stack[i])\n",
    "            i = i+1\n",
    "        else:\n",
    "            print(False)\n",
    "            break\n",
    "if temp == word:\n",
    "    print(True)\n",
    "else:\n",
    "    print(False)\n",
    "        "
   ]
  },
  {
   "cell_type": "code",
   "execution_count": null,
   "id": "ec7a6e49",
   "metadata": {},
   "outputs": [],
   "source": [
    "s = \"00110011\"\n",
    "res = 0\n",
    "prev = 0\n",
    "tmp = 1\n",
    "for i in range(1, len(s)):\n",
    "    if s[i] != s[i-1]:\n",
    "        res += min(prev, tmp)\n",
    "        prev = tmp\n",
    "        tmp = 1\n",
    "    else:\n",
    "        tmp += 1\n",
    "res += min(prev, tmp)\n",
    "print(res)"
   ]
  },
  {
   "cell_type": "code",
   "execution_count": null,
   "id": "e08164ad",
   "metadata": {},
   "outputs": [],
   "source": [
    "s = 'a'\n",
    "if s[1:2]!='':\n",
    "    print(\"inside\")\n"
   ]
  },
  {
   "cell_type": "code",
   "execution_count": null,
   "id": "7c4f0df8",
   "metadata": {},
   "outputs": [],
   "source": [
    "s = \"1101\"\n",
    "s = \"111000\"\n",
    "s ='1'\n",
    "o =[]\n",
    "z =[]\n",
    "one = 0\n",
    "zero = 0\n",
    "i =0\n",
    "while i < len(s):\n",
    "    if s[i] =='1':\n",
    "        one = one+1\n",
    "        if (i < (len(s)-1) and s[i+1] != '1') or i == len(s)-1:\n",
    "            o.append(one)\n",
    "            one = 0\n",
    "        i = i+1\n",
    "    elif s[i] == '0':\n",
    "        zero= zero+1\n",
    "        if (i < (len(s)-1) and s[i+1] != '0') or i == len(s)-1:\n",
    "            z.append(zero)\n",
    "            zero = 0\n",
    "        i = i+1\n",
    "if not o:\n",
    "    print(True)\n",
    "elif max(o)>max(z):\n",
    "    print(True)\n",
    "else:\n",
    "    print(False)"
   ]
  },
  {
   "cell_type": "code",
   "execution_count": null,
   "id": "f4cfeed4",
   "metadata": {},
   "outputs": [],
   "source": [
    "n = 1987\n",
    "if len(str(n))<4:\n",
    "    print(n)\n",
    "else:\n",
    "    i = 1\n",
    "    stack = []\n",
    "    n = str(n)\n",
    "    while len(n)> 3:\n",
    "        stack.append(n[-3:])\n",
    "        n = n[:-3]\n",
    "    if len(n)<= 3:\n",
    "        stack.append(n)\n",
    "        print(n)\n",
    "    print('.'.join(stack[::-1]))"
   ]
  },
  {
   "cell_type": "code",
   "execution_count": null,
   "id": "0d29f389",
   "metadata": {},
   "outputs": [],
   "source": [
    "words = [\"mass\",\"as\",\"hero\",\"superhero\"]\n",
    "res = set()\n",
    "for i in range(len(words)):\n",
    "    for j in range(len(words)):\n",
    "        if words[i] in words[j] and i != j:\n",
    "            res.add(words[i])\n",
    "print(res)"
   ]
  },
  {
   "cell_type": "code",
   "execution_count": null,
   "id": "5014f03f",
   "metadata": {},
   "outputs": [],
   "source": [
    "import collections\n",
    "licensePlate = \"1s3 PSt\"\n",
    "words = [\"step\",\"steps\",\"stripe\",\"stepple\"]\n",
    "letter = [x.lower() for x in licensePlate if x.isalpha()]\n",
    "char = collections.Counter(letter)\n",
    "stack =[]\n",
    "for word in words:\n",
    "    flag = 0\n",
    "    for c in char:\n",
    "        if c not in word or char.get(c) > word.count(c):\n",
    "            flag = 1\n",
    "    if flag == 0:\n",
    "        stack.append(word)\n",
    "print(stack)              \n",
    "            "
   ]
  },
  {
   "cell_type": "code",
   "execution_count": null,
   "id": "63f04d1c",
   "metadata": {},
   "outputs": [],
   "source": [
    "digits = [1,2,3]\n",
    "digits = [4,3,2,1]\n",
    "digits = [9]\n",
    "y ='' \n",
    "for x in digits:\n",
    "    y = y+str(x)\n",
    "print(list(str(int(y)+1)))"
   ]
  },
  {
   "cell_type": "code",
   "execution_count": null,
   "id": "1ffaba0b",
   "metadata": {},
   "outputs": [],
   "source": [
    "num = [1,2,0,0]\n",
    "k = 34\n",
    "y = ''\n",
    "for x in num:\n",
    "    y = y+str(x)\n",
    "print(list(str(int(y)+k)))"
   ]
  },
  {
   "cell_type": "code",
   "execution_count": null,
   "id": "cbb0d768",
   "metadata": {},
   "outputs": [],
   "source": [
    "n = 2\n",
    "stack = []\n",
    "sum1 = 0\n",
    "while n != 1:\n",
    "    sum1 =0\n",
    "    for x in str(n):\n",
    "        sum1 = sum1+pow(int(x),2)\n",
    "    n = sum1\n",
    "    if n in stack:\n",
    "        print(False)\n",
    "        break\n",
    "    stack.append(sum1)\n",
    "print(True)\n",
    "\n",
    "\n",
    "    "
   ]
  },
  {
   "cell_type": "code",
   "execution_count": null,
   "id": "1a7e6a2f",
   "metadata": {},
   "outputs": [],
   "source": [
    "num = 38\n",
    "while len(str(num)) !=1:\n",
    "    sum1 = 0\n",
    "    for x in str(num):\n",
    "        sum1 = sum1+int(x)\n",
    "    num = sum1\n",
    "print(sum1)"
   ]
  },
  {
   "cell_type": "code",
   "execution_count": null,
   "id": "e07a0098",
   "metadata": {},
   "outputs": [],
   "source": [
    "n = 379\n",
    "dict1 = {'1':'1','0':'0','6':'9','9':'6','8':'8'}\n",
    "stack = []\n",
    "for x in str(n):\n",
    "    if x in dict1 and dict1.get(x):\n",
    "        stack.append(dict1.get(x))\n",
    "    else:\n",
    "        print(False)\n",
    "        break\n",
    "if int(''.join(stack)) != n:\n",
    "    print(True)\n",
    "else:\n",
    "    print(False)"
   ]
  },
  {
   "cell_type": "code",
   "execution_count": null,
   "id": "0224bd0f",
   "metadata": {},
   "outputs": [],
   "source": [
    "n = 20\n",
    "dict1 = {'1':'1','0':'0','6':'9','9':'6','8':'8'}\n",
    "stack= []\n",
    "for x in range(2,n):\n",
    "    z = ''\n",
    "    #print(\"x: {}\".format(x))\n",
    "    for indx,y in enumerate(str(x)):\n",
    "        if y in dict1:\n",
    "            z = z+dict1.get(y)\n",
    "    if len(str(x))-1 == indx and len(z) == len(str(x)):\n",
    "        if str(x)!=z[::-1]:\n",
    "            #print(\"z : {}\".format(z))\n",
    "            #print(\"x: {}\".format(x))\n",
    "            stack.append(z)\n",
    "print(stack)\n",
    "            \n",
    "            \n",
    "        "
   ]
  },
  {
   "cell_type": "code",
   "execution_count": null,
   "id": "b2a1824c",
   "metadata": {},
   "outputs": [],
   "source": [
    "n = 0\n",
    "res = 0\n",
    "i = 0\n",
    "if n <= 0:\n",
    "    print(False)\n",
    "while res !=n:\n",
    "    if res > n:\n",
    "        print(False)\n",
    "        break\n",
    "    res = pow(2,i)\n",
    "    i = i+1\n",
    "#print(i-1)\n",
    "print(True)\n",
    "    "
   ]
  },
  {
   "cell_type": "code",
   "execution_count": null,
   "id": "3f44e21d",
   "metadata": {},
   "outputs": [],
   "source": [
    "n =1011\n",
    "print(bin(n).count('1'))\n"
   ]
  },
  {
   "cell_type": "code",
   "execution_count": null,
   "id": "e26ca692",
   "metadata": {},
   "outputs": [],
   "source": [
    "n = 2\n",
    "res = 0\n",
    "i = 0\n",
    "if n <0:\n",
    "    print(False)\n",
    "while res != n:\n",
    "    if res>n:\n",
    "        print(False)\n",
    "        break\n",
    "    res = pow(3,i)\n",
    "    i = i+1\n",
    "print(i-1)\n",
    "print(True)"
   ]
  },
  {
   "cell_type": "code",
   "execution_count": null,
   "id": "27baeb67",
   "metadata": {},
   "outputs": [],
   "source": [
    "n = 1\n",
    "res = 0\n",
    "i=0\n",
    "if n <=0:\n",
    "    print(False)\n",
    "while res != n:\n",
    "    if res>n:\n",
    "        print(False)\n",
    "        break\n",
    "    res = pow(4,i)\n",
    "    i=i+1\n",
    "print(i-1)\n",
    "print(True)"
   ]
  },
  {
   "cell_type": "code",
   "execution_count": null,
   "id": "2a5029e8",
   "metadata": {},
   "outputs": [],
   "source": [
    "n = 43261596\n",
    "n = str(n)\n",
    "print(bin(int(n)))\n"
   ]
  },
  {
   "cell_type": "code",
   "execution_count": null,
   "id": "7ae9726e",
   "metadata": {},
   "outputs": [],
   "source": [
    "x = 1\n",
    "y = 4\n",
    "x = 3\n",
    "y = 1\n",
    "a = bin(x)[2:]\n",
    "b = bin(y)[2:]\n",
    "len1 = len(a)\n",
    "len2 = len(b)\n",
    "max_len = max(len1,len2)+1\n",
    "a = '0'*(max_len-len1)+a\n",
    "b = '0'*(max_len-len2)+b\n",
    "count = 0\n",
    "i =0\n",
    "while i < max_len:\n",
    "    if a[i]!=b[i]:\n",
    "        count = count+1\n",
    "    i = i+1\n",
    "print(count)\n"
   ]
  },
  {
   "cell_type": "code",
   "execution_count": null,
   "id": "b6fb2ee0",
   "metadata": {},
   "outputs": [],
   "source": [
    "n = 4\n",
    "n = bin(n)[2:]\n",
    "print(n)\n",
    "count = 0\n",
    "for x in n:\n",
    "    if x is '1':\n",
    "        count = count+1\n",
    "    else:\n",
    "        count = count -1\n",
    "    if count > 1 or count <0:\n",
    "        print(False)\n",
    "        break\n",
    "print(True)"
   ]
  },
  {
   "cell_type": "code",
   "execution_count": null,
   "id": "68aaa3d0",
   "metadata": {},
   "outputs": [],
   "source": [
    "left = 6\n",
    "right = 10\n",
    "n = 10\n",
    "left = 10\n",
    "right = 15\n",
    "count = 0\n",
    "for x in range(left,right+1,1):\n",
    "    flag = 0\n",
    "    binary = bin(x)[2:].count('1')\n",
    "    for i in range(2,binary//2):\n",
    "        y , rem = divmod(binary,i)\n",
    "        if rem == 0:\n",
    "            flag = 1\n",
    "            break\n",
    "    if binary !=4 and flag ==0 and binary!=1:\n",
    "        count= count+1\n",
    "        print(binary)\n",
    "        print(\"prime\")\n",
    "print(count)"
   ]
  },
  {
   "cell_type": "code",
   "execution_count": null,
   "id": "6decc97d",
   "metadata": {},
   "outputs": [],
   "source": [
    "x , rem = divmod(21,2)\n",
    "print(x)\n",
    "print(rem)"
   ]
  },
  {
   "cell_type": "code",
   "execution_count": null,
   "id": "34acec1e",
   "metadata": {},
   "outputs": [],
   "source": [
    "for x in range(left,right+1,1):\n",
    "    print(x)"
   ]
  },
  {
   "cell_type": "code",
   "execution_count": null,
   "id": "adda3ecf",
   "metadata": {},
   "outputs": [],
   "source": [
    "nums = [1,2,1,3,2,5]\n",
    "num = [x for x in nums if nums.count(x) == 1]\n",
    "print(num)\n",
    "        "
   ]
  },
  {
   "cell_type": "code",
   "execution_count": null,
   "id": "cf043401",
   "metadata": {},
   "outputs": [],
   "source": [
    "nums = [3,10,5,25,2,8]\n",
    "nums = [14,70,53,83,49,91,36,80,92,51,66,70]\n",
    "print(nums)\n",
    "res = []\n",
    "for x in nums:\n",
    "    if x not in res:\n",
    "        res.append(x)\n",
    "print(res)\n",
    "stack = []\n",
    "for i in range(len(res)):\n",
    "    for j in range(i+1,len(res)):\n",
    "        print(\"nums[i] {}\".format(res[i]))\n",
    "        print(\"nums[j] {}\".format(res[j]))\n",
    "        print(\"nums[i]^nums[j] {}\".format(res[i]^res[j]))\n",
    "        stack.append(res[i]^res[j])\n",
    "if not stack:\n",
    "    print(0)\n",
    "else:\n",
    "    print(max(stack))\n",
    "    print(stack)\n"
   ]
  },
  {
   "cell_type": "code",
   "execution_count": null,
   "id": "d1db0fd9",
   "metadata": {},
   "outputs": [],
   "source": [
    "nums = [2,2,3,2]\n",
    "for x in nums:\n",
    "    if nums.count(x)==1:\n",
    "        print(x)\n",
    "        break\n"
   ]
  },
  {
   "cell_type": "code",
   "execution_count": null,
   "id": "fed9578f",
   "metadata": {},
   "outputs": [],
   "source": [
    "pushed = [1,2,3,4,5]\n",
    "popped = [4,5,3,2,1]\n",
    "pushed = [1,2,3,4,5]\n",
    "popped = [4,3,5,1,2]\n",
    "stack = []\n",
    "i = 0\n",
    "j =0\n",
    "while i<len(popped):\n",
    "    while not stack or stack[-1]!=popped[j] and i < len(pushed):\n",
    "        stack.append(pushed[i])\n",
    "        i = i+1\n",
    "        print(stack)\n",
    "        print(i)\n",
    "    while stack and stack[-1]==popped[j]:\n",
    "        stack.pop()\n",
    "        j = j+1\n",
    "        print(stack)\n",
    "if not stack:\n",
    "    print(True)\n",
    "else:\n",
    "    print(False)"
   ]
  },
  {
   "cell_type": "code",
   "execution_count": null,
   "id": "3857d06a",
   "metadata": {},
   "outputs": [],
   "source": [
    "grid = [[1,1,1,-1,-1],[1,1,1,-1,-1],[-1,-1,-1,1,1],[1,1,1,1,-1],[-1,-1,-1,-1,-1]]\n",
    "for g in grid:\n",
    "    while i < len(g):\n",
    "        if g[i] > g[i+1] and g[i]+g[i+1] == 0:\n",
    "            \n",
    "            \n",
    "            \n"
   ]
  },
  {
   "cell_type": "code",
   "execution_count": null,
   "id": "9e0ede0a",
   "metadata": {},
   "outputs": [],
   "source": [
    "n = 5\n",
    "stack=[]\n",
    "for x in range(1,(n//2+1)):\n",
    "        stack.append(x)\n",
    "        stack.append(x*-1)\n",
    "if n%2 == 0:\n",
    "    print(stack)\n",
    "else:\n",
    "    stack.append(0)\n",
    "    print(stack)\n"
   ]
  },
  {
   "cell_type": "code",
   "execution_count": null,
   "id": "3cfe965e",
   "metadata": {},
   "outputs": [],
   "source": [
    "num = 14\n",
    "num = 8\n",
    "num =123\n",
    "i = 0\n",
    "while num !=0:\n",
    "    if num%2 == 0:\n",
    "        num = num//2\n",
    "        i = i+1\n",
    "    else:\n",
    "        num = num-1\n",
    "        i = i+1\n",
    "        \n",
    "print(i)\n",
    "    "
   ]
  },
  {
   "cell_type": "code",
   "execution_count": null,
   "id": "88d8ca09",
   "metadata": {},
   "outputs": [],
   "source": [
    "n = 12\n",
    "while n!=0:\n",
    "    if n%3 == 1:\n",
    "        n = n-1\n",
    "    elif n%3 == 0:\n",
    "        n = n/3\n",
    "    else:\n",
    "        print(False)\n",
    "print(True)"
   ]
  },
  {
   "cell_type": "code",
   "execution_count": null,
   "id": "133d0ac7",
   "metadata": {},
   "outputs": [],
   "source": [
    "n = 6\n",
    "n%2 == 0"
   ]
  },
  {
   "cell_type": "code",
   "execution_count": null,
   "id": "82259bac",
   "metadata": {},
   "outputs": [],
   "source": [
    "n = 28\n",
    "s = set()\n",
    "sum1 = 0\n",
    "for x in range(1,int(n**0.5)+1):\n",
    "    if n%x == 0 and x not in s:\n",
    "        sum1 = sum1+x\n",
    "    if n%x == 0:\n",
    "        s.add(x)\n",
    "if sum1 == n:\n",
    "    print(True)\n",
    "else:\n",
    "    print(False)\n",
    "print(sum1)\n",
    "print()\n",
    "    \n"
   ]
  },
  {
   "cell_type": "code",
   "execution_count": null,
   "id": "8e6ede04",
   "metadata": {},
   "outputs": [],
   "source": [
    "num = 28\n",
    "int(num**0.5)"
   ]
  },
  {
   "cell_type": "code",
   "execution_count": null,
   "id": "a83810a7",
   "metadata": {},
   "outputs": [],
   "source": [
    "n = 23\n",
    "for i in range(1,n):\n",
    "    str1,str2 = str(i),str(n-i)\n",
    "    if str1.find('0') == -1 and str2.find('0') == -1:\n",
    "        print(i)\n",
    "        print(n-i)"
   ]
  },
  {
   "cell_type": "code",
   "execution_count": null,
   "id": "ab5017f5",
   "metadata": {},
   "outputs": [],
   "source": [
    "n = 13\n",
    "n = 2\n",
    "from collections import defaultdict\n",
    "dict1 = defaultdict(list)\n",
    "for x in range(1,n+1):\n",
    "    y =list(str(x))\n",
    "    sum1 = 0\n",
    "    for z in y:\n",
    "        sum1 = sum1+int(z)\n",
    "    dict1[sum1].append(x)\n",
    "print(dict1)\n",
    "max_length = max([len(dict1.get(x)) for x in dict1])\n",
    "print(max_length)\n",
    "count = sum(len(dict1.get(x)) == max_length for x in dict1)\n",
    "print(count)\n"
   ]
  },
  {
   "cell_type": "code",
   "execution_count": null,
   "id": "58b2fb4e",
   "metadata": {},
   "outputs": [],
   "source": [
    "nums1 = [4,1,2]\n",
    "nums2 = [1,3,4,2]\n",
    "#nums1 = [2,4]\n",
    "#nums2 = [1,2,3,4]\n",
    "#nums1 = [1,3,5,2,4]\n",
    "#nums2 = [6,5,4,3,2,1,7]\n",
    "val = []\n",
    "for x in nums1:\n",
    "    idx = nums2.index(x)\n",
    "    #print(x)\n",
    "    #print(idx)\n",
    "    while idx < len(nums2):\n",
    "        #print(\"idx {}\".format(idx))\n",
    "        if x < nums2[idx]:\n",
    "            #print(nums2[idx])\n",
    "            #print(x)\n",
    "            val.append(nums2[idx])\n",
    "            break;\n",
    "        elif idx == len(nums2)-1:\n",
    "            val.append(-1)\n",
    "        idx = idx+1\n",
    "            \n",
    "        \n",
    "print(val)"
   ]
  },
  {
   "cell_type": "code",
   "execution_count": null,
   "id": "462f2626",
   "metadata": {},
   "outputs": [],
   "source": [
    "s = \"IDID\"\n",
    "s = \"III\"\n",
    "s = \"DDI\"\n",
    "length = len(s)\n",
    "i = 0\n",
    "stack = []\n",
    "for x in s:\n",
    "    if x == 'I':\n",
    "        stack.append(i)\n",
    "        i = i+1\n",
    "    elif x == 'D':\n",
    "        stack.append(length)\n",
    "        length = length-1\n",
    "    if len(s) == len(stack):\n",
    "        if x == 'I':\n",
    "            stack.append(i)\n",
    "        else:\n",
    "            stack.append(length)\n",
    "print(stack)"
   ]
  },
  {
   "cell_type": "code",
   "execution_count": null,
   "id": "c35f198f",
   "metadata": {},
   "outputs": [],
   "source": [
    "s = \"tree\"\n",
    "s = \"cccaaa\"\n",
    "l =set(s)\n",
    "from collections import defaultdict\n",
    "dict1 = defaultdict(list)\n",
    "for x in l:\n",
    "    dict1[s.count(x)].append(x)\n",
    "#print(dict1)\n",
    "y = sorted(dict1,reverse=True)\n",
    "#print(y)\n",
    "res = ''\n",
    "for x in y:\n",
    "    val = sorted(dict1.get(x))\n",
    "    #print(val)\n",
    "    for m in val:\n",
    "        res = res+''.join(m*x)\n",
    "print(res)\n",
    "        "
   ]
  },
  {
   "cell_type": "code",
   "execution_count": null,
   "id": "1bd5b886",
   "metadata": {},
   "outputs": [],
   "source": [
    "nums = [1,1,1,2,2,3]\n",
    "\n",
    "k = 2\n",
    "#nums = [1]\n",
    "#k = 1\n",
    "#nums = [4,1,-1,2,-1,2,3]\n",
    "#k = 2\n",
    "\n",
    "num = set(nums)\n",
    "print(num)\n",
    "from collections import defaultdict\n",
    "dict1 = defaultdict(list)\n",
    "for x in num:\n",
    "    print(x)\n",
    "    dict1[nums.count(x)].append(x)\n",
    "y = sorted(dict1,reverse=True)\n",
    "print(\"y {}\".format(y))\n",
    "print(dict1)\n",
    "stack = []\n",
    "for i in y:\n",
    "    for j in dict1.get(i):\n",
    "        stack.append(j)\n",
    "print(stack[:k])\n",
    "    "
   ]
  },
  {
   "cell_type": "code",
   "execution_count": null,
   "id": "22803de1",
   "metadata": {},
   "outputs": [],
   "source": [
    "nums = [1,1,2,2,2,3]\n",
    "#nums = [2,3,1,3,2]\n",
    "#nums = [-1,1,-6,4,5,-6,1,4,1]\n",
    "\n",
    "from collections import defaultdict\n",
    "dict1 = defaultdict(list)\n",
    "\n",
    "num = set(nums)\n",
    "for x in num:\n",
    "    dict1[nums.count(x)].append(x)\n",
    "print(dict1)\n",
    "y = sorted(dict1)\n",
    "print(y)\n",
    "stack = [i for x in y for i in sorted(dict1.get(x),reverse=True) for j in range(x)]\n",
    "print(stack)\n",
    "\n"
   ]
  },
  {
   "cell_type": "code",
   "execution_count": null,
   "id": "2c4b3a14",
   "metadata": {},
   "outputs": [],
   "source": [
    "nums = [1,2,1]\n",
    "#nums = [1,2,3,4,3]\n",
    "#nums = [5,4,3,2,1]\n",
    "stack = []\n",
    "for i in range(len(nums)):\n",
    "    for j in range(i,len(nums)):\n",
    "        flag = 0 \n",
    "        if j <len(nums)-1 and  nums[i] < nums[j+1]:\n",
    "            stack.append(nums[j+1])\n",
    "            flag = 1\n",
    "            break\n",
    "    if flag == 0:\n",
    "        for k in range(i+1):\n",
    "            if k < len(nums)-1  and  nums[i] < nums[k]:\n",
    "                stack.append(nums[k])\n",
    "                break\n",
    "            elif k == i:\n",
    "                stack.append(-1)\n",
    "            \n",
    "    \n",
    "        \n",
    "print(stack)"
   ]
  },
  {
   "cell_type": "code",
   "execution_count": null,
   "id": "8db7f93a",
   "metadata": {},
   "outputs": [],
   "source": [
    "temperatures = [73,74,75,71,69,72,76,73]\n",
    "temperatures = [30,40,50,60]\n",
    "temperatures = [30,60,90]\n",
    "temperatures = [34,34,47,47,34,34,34,47,34,47,47,47,34,34,34,47,47,34,47,47,34,34,34,34,47,34,34,47,34,34,34,47,47,47,47,47,47,34,34,34,47,34,34,47,34,47,47,47,34,47,47,34,47,34,47,47,34,47,47,34,34,47,47,47,34,34,47,47,47,34,34,47,34,34,34,47,47,34,34,47,47,47,47,47,34,34,34,47,47,34,47,34,47,34,34,47,34,47,47,47,47,47,47,34,34,34,47,34,47,34,47,34,34,34,34,47,34,34,34,34,34,34,34,47,34,34,47,47,34,47,47,47,47,47,47,47,34,34,47,34,47,34,47,34,34,34,47,34,34,47,34,47,47,34,47,47,47,47,34,34,34,34,47,47,34,34,34,47,34,34,47,34,34,47,34,34,34,34,47,34,34,34,47,34,34,47,47,34,47,47,34,34,34,34,34,34,47,47,34,47,34,47,34,47,47,47,34,47,34,34,34,34,34,47,47,47,47,47,47,34,47,34,47,34,34,34,47,47,47,34,47,47,34,47,47,47,34,47,47,34,47,47,34,47,34,34,47,47,34,34,34,34,47,34,34,47,47,34,47,47,34,34,34,34,47,47,34,34,47,47,34,47,34,47,34,47,47,47,47,34,34,47,47,34,34,34,47,34,47,47,47,34,47,47,34,34,34,34,34,47,47,34,47,47,34,34,47,34,47,47,34,47,47,47,47,47,47,47,34,34,34,34,47,47,34,47,34,47,47,34,47,47,34,34,34,47,47,47,34,47,34,47,47,47,34,34,34,34,34,34,34,47,34,34,34,34,47,47,34,34,47,34,47,47,34,47,34,34,47,47,47,47,47,47,34,34,47,34,34,47,34,47,47,47,47,47,34,34,34,47,47,34,47,34,34,47,47,47,34,34,47,47,47,34,34,47,47,34,34,47,47,47,47,34,34,34,47,34,34,47,47,34,34,34,47,34,34,47,34,34,34,34,47,34,47,34,47,47,47,34,34,47,47,47,47,47,34,47,34,34,34,34,34,47,47,34,34,47,47,34,34,47,34,47,34,47,34,47,47,47,47,47,47,47,47,47,34,47,47,47,34,47,47,34,34,47,34,47,34,34,47,47,47,47,34,47,34,34,34,47,47,47,34,34,47,47,34,34,34,34,47,47,34,47,34,34,47,47,34,47,34,47,34,47,34,34,47,34,47,34,47,34,47,47,47,47,47,34,34,47,47,34,34,34,47,34,34,34,34,34,47,47,47,34,47,47,47,47,47,47,47,47,34,34,34,34,47,34,47,34,47,47,47,34,34,34,34,47,34,47,34,47,34,47,34,34,34,47,34,47,34,34,47,34,34,47,34,34,47,47,47,34,47,47,47,34,34,34,34,34,34,34,47,34,34,47,34,47,34,47,34,34,34,34,47,47,47,47,34,47,34,34,34,47,34,47,47,47,34,34,47,34,47,47,34,47,34,34,34,47,34,34,34,47,34,34,34,34,34,34,47,47,47,47,34,47,47,34,47,34,47,34,47,34,47,34,34,47,34,47,34,47,34,34,34,34,34,47,47,47,47,47,47,47,47,47,34,47,47,34,34,34,47,34,34,47,47,34,47,47,47,47,47,47,47,34,47,34,47,47,47,47,47,47,34,47,47,34,34,34,47,47,47,47,34,34,47,47,34,34,34,34,34,47,34,34,34,34,47,47,34,47,47,47,47,47,47,47,34,34,47,34,47,34,47,47,47,47,34,47,47,47,34,34,34,34,34,34,47,47,47,34,34,34,47,47,34,47,34,47,47,47,34,47,47,47,47,47,47,47,34,47,47,47,34,34,47,47,34,47,47,34,34,34,47,34,47,34,34,47,34,47,34,34,34,34,47,47,47,34,47,34,47,47,34,47,34,47,34,47,34,47,47,47,34,34,47,34,47,34,47,47,47,47,47,34,47,34,47,34,47,34,34,47,47,47,47,47,34,47,34,47,47,47,47,47,47,47,34,47,47,47,34,34,34,47,34,47,47,47,47,34,47,47,34,47,34,34,47,47,34,34,47,34,47,47,47,47,34,47,47,34,34,34,47,47,34,34,47,34,47,34,47,34,47,47,47,47,34,47,47,34,34,34,47,34,47,34,47,34,34,34,47,34,34,34,34,34,34,47,47,47,34,47,47,47,34,34,34,34,47,34,34,47,34,34,47,47,34,34,47,34,34,47,34,34,47,34,47,47,34,47,47,34,34,47,47,34,34,47,34,34,47,47,34,47,34,34,47,47,47,34,34,47,47,34,34,34,47,47,34,47,34,47,47,34,34,34,47,47,47,47,34,47,47,34,47,47,34,47,34,47,34,47,47,34,34,47,47,47,34,47,47,47,34,34,34,47,47,47,47,34,47,47,34,34,34,34,34,34,34,34,47,34,47,47,34,47,47,34,47,47,47,47,47,34,47,34,34,34,34,47,47,47,47,34,34,34,47,34,34,34,47,47,34,47,47,34,47,34,34,34,47,34,47,47,47,34,34,34,34,47,47,47,34,47,47,47,34,47,34,47,34,34,47,47,47,47,34,47,34,47,34,47,34,34,34,47,34,34,34,47,34,34,47,34,47,34,47,47,34,34,47,34,47,47,47,34,47,34,47,34,47,47,47,47,34,34,34,34,34,34,34,47,47,47,47,34,47,34,34,47,34,47,34,34,34,47,47,34,34,34,47,34,47,47,47,34,34,47,47,47,47,34,34,34,47,47,34,47,34,34,34,34,34,47,47,47,47,47,34,34,34,34,47,47,34,47,47,47,34,34,47,34,34,34,34,34,34,34,47,47,34,47,34,47,47,34,47,47,47,34,34,47,47,34,34,34,47,47,47,34,34,34,34,47,34,47,34,34,47,47,47,47,34,47,34,47,47,47,47,34,34,47,47,47,34,47,34,47,34,34,47,34,47,47,47,34,34,34,34,47,47,47,34,34,47,47,47,34,34,47,34,47,34,47,34,47,34,34,47,47,47,34,47,34,47,47,47,34,34,34,34,34,47,34,47,47,47,47,34,47,47,47,47,34,34,47,47,47,34,34,34,34,34,47,34,47,47,34,47,47,47,34,47,34,47,47,34,47,34,47,34,34,47,34,34,47,34,34,34,34,34,47,34,47,34,47,47,34,47,47,34,34,47,34,34,47,34,34,47,47,34,47,34,34,47,47,47,47,47,34,47,47,47,47,34,34,34,47,47,34,34,34,47,34,34,47,47,34,34,47,34,34,34,47,47,47,34,34,34,47,47,47,34,47,47,34,47,34,34,47,47,47,34,47,34,47,34,34,47,34,34,47,47,34,34,47,47,34,34,47,47,47,34,34,47,34,34,47,47,47,34,34,47,34,34,34,47,47,47,34,34,47,47,34,34,47,47,34,34,47,47,47,47,47,34,47,47,47,34,47,47,34,34,47,34,47,34,34,34,47,47,47,47,47,47,34,34,47,47,47,34,34,34,34,34,34,34,34,47,34,34,34,34,34,47,34,34,34,47,47,34,34,34,47,34,47,47,34,47,34,34,34,47,47,34,47,34,47,34,34,47,34,47,34,34,47,47,34,34,34,47,34,34,34,34,47,34,47,47,34,34,34,47,47,34,34,34,47,47,47,34,34,47,34,47,34,47,34,34,34,47,34,47,34,34,34,47,47,34,34,47,34,47,34,34,34,34,47,47,47,47,47,34,47,47,34,47,34,34,34,34,34,34,34,47,47,34,34,47,47,47,34,34,34,47,34,34,34,34,34,47,34,47,47,34,47,47,34,34,34,34,47,34,34,47,47,34,34,34,34,47,47,47,47,34,47,34,47,47,34,34,47,34,47,47,34,34,34,34,34,34,34,47,34,34,34,47,34,34,34,34,34,47,47,47,47,34,47,47,34,34,47,34,47,47,34,34,34,47,47,34,47,47,47,47,47,34,47,34,34,47,47,34,34,34,47,47,34,34,47,34,34,34,47,34,34,47,47,34,47,34,34,47,47,47,47,34,34,34,34,34,34,34,47,47,47,34,34,47,47,47,34,47,34,47,34,34,47,47,47,47,34,47,34,47,47,34,34,34,34,47,47,47,47,34,34,47,34,34,47,34,34,47,34,47,34,34,47,34,34,34,47,34,34,34,47,47,47,34,47,34,34,47,47,47,34,34,47,34,47,47,34,47,47,47,47,47,34,34,34,47,34,34,34,34,47,34,34,47,34,34,34,34,47,47,34,47,47,34,47,34,34,47,34,47,47,47,34,47,34,34,34,47,47,47,47,34,47,47,34,34,47,47,34,47,47,34,47,34,34,47,34,34,34,34,34,34,47,47,47,34,47,34,34,34,47,47,34,47,34,47,34,47,34,34,47,34,34,34,47,34,34,47,34,34,47,47,47,34,47,47,34,34,47,47,34,34,34,34,34,34,47,47,34,34,47,34,34,47,34,47,47,34,47,47,34,47,34,34,34,47,34,34,47,34,34,34,34,47,47,34,47,34,34,34,47,47,47,34,34,34,47,34,47,34,34,34,34,47,34,34,34,34,34,47,34,34,34,47,47,34,34,34,47,34,34,47,34,34,34,34,47,34,47,34,34,47,34,34,47,47,47,47,47,34,47,34,47,47,47,47,47,47,47,47,47,34,34,34,34,47,47,47,34,47,47,34,47,47,47,47,34,47,34,34,34,47,34,34,47,47,34,47,47,34,34,34,47,34,34,47,47,47,47,47,34,47,34,34,34,47,47,47,47,47,47,34,47,47,47,47,34,47,34,34,34,34,34,34,47,47,34,34,34,34,47,34,47,47,47,34,34,47,47,47,34,47,34,47,47,34,47,47,34,47,47,34,34,47,47,47,47,34,47,47,47,34,47,47,34,34,34,34,34,34,47,34,47,47,47,47,34,34,34,34,47,47,34,47,34,47,47,34,47,34,34,34,47,34,34,47,47,47,47,47,34,34,34,47,34,47,47,34,34,47,34,34,34,47,34,47,34,47,34,47,47,47,34,34,34,34,34,34,47,47,47,47,34,34,47,47,34,34,47,47,47,34,34,34,47,34,34,34,34,34,47,34,34,34,34,34,34,47,34,47,34,34,47,47,47,47,34,34,34,34,47,47,34,47,34,47,34,34,47,34,47,47,47,34,34,34,34,47,34,47,34,47,47,47,34,34,47,47,47,47,34,34,34,47,34,47,47,34,47,34,47,34,47,47,47,47,34,34,47,47,47,47,47,47,47,34,47,34,34,47,47,47,34,47,34,34,47,34,47,47,34,47,47,34,34,34,34,34,47,34,34,34,34,47,34,47,34,34,47,47,47,47,47,34,34,34,47,34,34,47,47,47,47,34,34,34,47,34,34,47,34,47,34,34,47,47,47,34,34,34,47,34,47,47,47,47,34,47,34,47,34,47,34,47,34,34,47,34,47,34,47,47,47,34,34,47,47,34,34,34,47,47,34,34,34,34,34,34,47,34,34,34,47,34,34,34,47,47,34,34,47,47,34,47,47,34,47,34,47,47,47,47,34,34,47,34,34,47,34,34,47,47,34,47,34,34,34,34,34,34,34,47,34,34,47,47,34,47,34,34,34,47,34,34,34,47,47,47,47,47,47,47,47,47,47,34,47,47,47,34,47,34,34,47,34,47,34,47,47,47,34,34,47,34,34,34,47,34,47,34,34,34,47,34,34,47,34,34,34,34,47,47,34,47,34,47,34,47,47,47,34,34,47,34,34,34,47,47,34,34,34,47,47,47,47,34,34,47,47,47,47,34,34,47,47,47,34,34,47,34,47,34,34,34,47,34,34,34,47,34,47,47,34,47,34,34,34,34,47,34,47,34,47,47,47,47,47,34,34,34,47,47,34,34,34,47,47,34,34,34,47,47,47,47,47,34,34,47,47,34,34,47,34,47,47,47,47,47,34,34,47,47,34,34,47,34,34,47,34,34,47,47,47,47,34,34,47,34,34,34,34,34,47,34,47,47,47,47,47,47,34,34,47,34,34,34,47,47,34,47,34,34,34,34,47,34,47,47,34,34,34,34,34,34,47,47,47,47,34,34,47,34,47,34,47,47,34,34,34,34,34,47,34,47,34,34,47,34,47,47,47,34,34,34,34,47,34,47,34,47,47,34,34,47,34,34,34,34,34,47,47,34,47,47,34,47,47,34,34,47,47,47,47,34,47,47,34,34,34,34,34,34,47,34,47,34,47,34,47,34,47,34,47,34,34,47,47,47,47,34,47,34,47,34,34,34,34,47,47,34,34,47,34,34,47,47,34,34,47,47,34,34,34,34,47,47,47,34,47,47,34,47,34,47,47,47,34,47,47,34,47,34,34,34,34,34,34,34,34,47,47,34,34,34,34,47,34,47,47,47,47,47,34,47,47,47,34,47,47,47,47,47,34,47,34,34,47,47,34,47,34,34,34,47,47,34,34,47,47,47,47,34,47,34,47,47,34,34,34,47,47,47,47,34,34,34,47,47,34,34,34,47,34,47,47,47,34,47,34,34,47,34,47,47,34,34,34,34,47,47,47,34,34,34,34,47,47,34,47,47,47,34,34,34,47,47,34,47,34,47,34,47,34,47,47,47,34,34,34,34,34,47,34,47,47,47,47,34,47,34,34,47,34,34,34,47,34,47,34,34,47,47,47,47,34,34,47,34,47,34,34,34,34,34,34,34,47,47,47,34,47,47,34,47,47,34,34,34,34,47,34,47,47,34,34,47,34,47,34,34,34,47,34,47,34,34,34,47,34,34,47,34,47,34,47,34,47,47,34,34,34,34,47,47,34,34,34,34,34,34,34,47,47,34,34,47,47,47,47,34,34,47,34,34,47,34,47,34,34,47,47,47,34,34,47,34,34,34,47,47,47,34,34,47,34,34,34,47,34,34,34,47,34,34,47,34,34,47,34,47,34,34,34,34,47,34,34,34,34,47,34,47,47,47,34,34,34,34,34,47,47,47,47,34,34,47,47,34,47,47,34,34,34,47,34,47,34,47,47,34,34,34,47,47,47,34,47,34,47,34,47,47,47,34,34,47,34,34,47,34,34,47,34,47,34,47,34,34,47,34,34,34,47,34,34,34,47,34,34,47,34,47,34,47,34,34,34,34,47,34,34,47,47,47,47,47,47,34,47,47,34,47,34,34,34,47,34,34,47,47,47,34,34,34,47,34,47,47,47,47,47,47,47,34,34,47,34,47,34,34,47,34,34,47,47,34,34,47,47,47,34,34,34,47,47,34,47,47,34,34,34,47,34,47,47,47,47,47,47,47,47,34,47,34,34,47,47,34,34,34,34,47,34,47,47,34,47,34,47,47,47,34,34,47,34,47,47,47,47,34,34,47,34,34,47,47,34,47,47,47,47,34,47,47,47,47,47,47,47,34,34,47,47,47,34,47,47,34,34,47,47,34,47,34,47,47,47,34,47,47,47,47,47,34,47,47,47,47,34,47,34,34,47,34,47,34,34,34,34,34,34,34,34,34,47,47,34,47,34,47,47,47,34,34,47,34,47,34,47,47,47,47,47,34,34,34,34,34,34,47,47,47,34,34,34,47,47,34,34,47,47,34,47,34,34,47,34,34,34,47,47,34,34,34,47,47,34,47,34,47,47,34,47,34,34,34,34,47,47,47,34,47,47,47,47,47,47,47,47,47,34,47,34,47,34,47,47,34,34,34,34,34,47,47,47,34,34,47,34,47,34,47,34,34,47,34,47,47,47,34,47,34,47,34,34,34,34,47,34,47,47,34,34,34,34,47,34,47,47,47,34,47,47,34,34,47,34,34,34,47,47,47,34,47,47,34,34,34,47,34,47,34,47,47,47,34,34,47,34,34,47,34,34,34,47,34,47,47,47,47,47,47,34,34,34,47,47,47,34,47,47,47,34,47,34,34,34,34,47,47,47,47,34,34,34,34,34,47,47,34,47,34,34,47,34,34,47,34,47,47,34,47,34,34,47,34,34,34,47,47,34,47,34,34,47,47,47,34,47,34,47,47,34,34,47,47,47,47,47,47,47,34,34,47,34,34,47,47,47,47,47,47,47,34,47,47,47,34,34,47,34,47,47,34,34,34,34,47,47,34,34,34,34,34,34,34,34,34,34,47,34,47,47,34,34,34,47,47,47,34,34,34,34,47,34,47,47,34,47,47,47,34,34,34,34,34,47,34,47,47,34,34,34,47,34,34,47,47,47,47,47,34,34,47,47,34,47,34,34,47,34,47,34,47,34,47,47,34,34,34,34,34,47,34,34,34,47,47,47,34,34,47,47,47,47,34,34,34,34,47,47,47,34,34,34,47,47,34,47,34,47,34,47,47,47,47,34,34,47,47,34,34,47,34,47,47,34,47,34,47,47,47,47,34,34,47,47,34,34,47,34,47,34,34,34,47,47,47,47,34,34,47,47,47,34,47,34,34,47,47,34,34,34,47,34,34,47,47,34,47,47,34,34,47,34,47,34,47,34,47,34,47,47,34,47,47,34,47,34,34,34,34,47,47,47,34,47,47,47,47,47,34,47,34,34,47,34,47,34,34,34,34,47,47,47,47,34,47,34,34,34,34,34,47,47,34,34,47,47,34,34,34,34,47,34,34,47,47,34,47,34,47,34,34,47,47,47,47,34,47,34,34,34,34,34,34,34,34,47,47,34,47,34,47,47,47,34,47,34,47,47,34,34,34,47,34,47,34,34,34,34,47,47,34,34,34,47,34,34,34,34,34,47,34,47,47,47,47,34,34,47,47,34,34,47,47,34,47,47,47,34,34,47,34,47,34,47,34,34,47,47,47,47,34,34,34,47,34,47,34,34,47,47,47,34,47,47,47,47,47,47,34,47,47,47,47,47,34,47,34,47,34,34,34,34,47,34,47,34,34,47,34,34,34,34,47,47,47,47,47,47,47,47,34,47,34,34,47,34,47,34,47,47,47,34,47,34,47,34,34,47,47,47,47,47,47,34,34,34,47,47,47,47,34,34,47,34,34,34,34,47,34,34,34,34,34,47,47,47,47,47,47,47,47,47,47,34,47,47,34,47,47,47,34,34,34,47,47,47,47,47,34,47,47,47,47,34,34,34,47,34,34,47,47,34,47,34,34,47,47,47,34,47,47,47,34,34,34,34,34,47,47,47,47,34,47,34,47,47,34,34,34,34,34,47,34,47,34,47,34,34,47,47,47,47,47,34,34,47,47,47,34,47,34,34,47,47,47,47,34,34,34,34,34,34,47,47,34,34,34,34,34,34,47,47,34,47,47,34,34,47,34,47,34,47,34,47,47,34,34,47,47,34,47,34,47,34,47,34,34,34,34,34,34,47,47,34,34,34,47,47,34,34,34,34,47,34,34,34,47,47,34,47,34,34,34,47,47,47,34,47,34,34,47,34,34,47,47,47,47,47,34,34,34,34,47,34,47,34,47,34,34,47,34,47,34,47,34,34,47,47,47,47,34,47,47,47,47,47,47,47,34,47,47,34,47,47,47,34,47,47,47,34,34,47,47,34,47,34,47,47,34,47,47,47,47,34,47,47,47,34,34,47,47,47,34,34,34,34,47,34,47,34,47,34,47,47,34,47,47,34,34,34,47,34,34,34,47,34,34,34,47,34,47,47,34,34,34,47,34,47,47,34,34,47,34,34,47,47,34,34,34,34,47,34,47,34,47,47,34,47,34,34,47,47,47,34,47,47,34,34,47,47,47,34,34,47,34,47,47,47,47,47,34,47,47,34,47,47,47,47,47,47,47,34,34,47,47,47,47,34,34,47,47,47,47,34,47,47,34,34,34,47,34,34,34,34,34,47,34,47,34,34,47,34,47,47,34,34,34,47,34,47,34,47,34,47,34,47,34,47,47,47,34,47,47,34,34,34,34,47,34,34,47,47,34,47,34,34,47,47,34,47,47,34,34,47,34,34,34,47,34,47,47,47,34,47,34,47,47,34,47,34,47,34,47,47,47,34,47,47,47,47,47,34,34,47,47,34,34,34,47,47,47,34,47,34,47,34,47,47,47,34,47,34,47,34,47,34,34,47,47,34,34,47,47,47,34,34,34,47,34,47,34,34,34,47,34,34,47,34,47,47,34,34,34,34,47,47,47,47,47,47,34,47,34,34,47,47,47,34,47,47,47,34,34,34,34,34,47,47,47,47,34,34,47,47,47,47,47,34,34,47,34,47,47,47,34,34,34,34,47,47,34,47,34,47,34,34,34,47,34,47,47,47,34,34,34,47,47,34,34,34,34,47,47,47,47,47,34,34,47,47,34,34,34,34,47,47,47,34,34,34,34,34,34,34,34,47,34,47,34,34,34,47,47,34,34,47,34,47,47,34,34,47,47,47,34,47,34,47,34,34,34,47,47,47,47,47,34,34,34,47,47,47,34,34,34,47,34,34,47,34,34,47,47,34,34,34,34,34,47,47,47,34,47,47,47,34,34,47,34,47,34,34,34,47,34,47,47,34,47,47,47,47,47,47,47,47,47,47,34,34,47,47,47,47,34,47,47,34,47,34,34,47,47,34,47,47,34,47,34,34,34,34,47,47,34,47,34,47,34,47,47,34,47,34,47,34,47,34,47,47,34,47,47,47,47,47,47,34,47,47,34,34,34,34,47,34,47,47,47,34,34,47,34,47,34,34,47,34,34,34,34,34,34,34,47,47,47,47,47,34,34,47,47,47,47,34,34,47,34,34,34,47,47,34,47,47,34,34,47,47,34,47,34,47,34,47,47,47,47,34,34,34,47,34,47,34,34,47,47,34,47,34,34,34,34,47,47,47,34,47,47,47,47,47,47,47,34,34,34,34,34,34,34,34,47,34,34,47,34,47,34,47,34,34,47,47,47,34,47,47,34,47,47,34,47,34,34,47,34,47,34,34,47,34,34,34,34,34,47,47,47,47,47,47,47,34,34,47,47,47,34,47,47,34,47,34,34,34,47,34,34,47,34,47,47,34,47,47,47,47,47,34,34,47,34,34,34,34,47,47,47,47,34,34,34,34,34,34,47,34,34,34,47,34,47,47,34,34,34,47,34,34,34,47,34,47,34,47,34,47,47,34,47,47,34,47,47,47,47,34,34,47,47,47,34,34,47,34,34,34,47,34,34,34,47,47,34,47,47,34,34,34,34,47,47,47,47,47,47,34,34,34,47,34,34,34,34,34,47,34,34,47,34,34,34,47,47,34,47,47,47,47,34,34,47,34,34,47,47,34,47,34,34,47,34,47,34,47,34,47,34,34,34,34,34,34,47,34,34,47,47,34,34,34,47,34,34,34,34,47,34,34,47,47,47,47,34,34,34,47,34,47,34,34,47,47,34,47,47,34,47,47,34,34,34,34,47,47,47,34,34,47,47,47,34,34,47,47,34,47,34,34,34,47,47,47,34,34,34,34,34,34,47,34,47,34,34,34,34,47,47,47,34,47,47,34,47,34,47,47,34,34,47,47,47,34,47,47,34,34,34,34,34,47,34,47,34,47,47,34,34,47,47,34,47,47,34,47,47,34,47,47,47,34,47,34,47,34,34,47,47,47,34,47,34,47,47,47,47,47,47,47,34,34,34,47,47,47,34,47,47,34,47,34,47,47,47,34,47,47,34,47,47,47,47,47,34,34,47,47,34,47,47,34,47,34,34,47,34,34,34,34,34,47,34,34,47,34,34,47,34,47,47,47,34,34,34,47,34,47,34,34,47,47,34,34,34,34,34,34,34,34,47,34,47,47,34,47,34,47,34,34,34,47,34,47,34,47,47,34,47,47,47,47,47,34,34,34,47,34,34,34,47,34,47,47,34,34,34,34,34,34,34,47,47,47,34,34,47,34,34,47,47,47,47,34,47,34,47,34,47,34,47,47,47,47,47,47,47,47,47,47,47,34,47,34,34,34,47,34,34,47,47,47,34,34,47,34,34,34,34,34,47,34,47,47,34,34,34,47,47,47,47,47,47,34,47,34,34,47,47,34,47,47,34,47,34,34,34,34,34,47,34,34,47,34,34,34,34,47,34,34,34,34,47,34,47,34,34,47,47,47,47,47,34,47,34,47,34,34,34,47,34,47,47,47,34,47,34,34,47,34,34,47,47,47,34,34,34,47,34,47,47,47,34,47,47,34,34,34,34,34,34,34,34,34,47,34,47,34,34,34,34,47,47,34,47,34,34,34,47,47,47,47,47,34,34,34,47,34,47,47,47,47,34,47,34,34,34,34,47,47,34,47,34,47,47,47,34,34,34,34,34,47,47,47,47,34,34,34,47,47,47,34,47,47,47,34,47,34,34,47,47,47,34,47,34,34,34,47,34,34,47,47,47,34,34,47,34,34,34,47,47,34,34,34,47,34,47,34,34,47,34,34,34,47,47,47,34,34,34,47,47,34,47,47,34,47,34,47,47,47,34,47,47,34,34,34,47,34,34,34,34,34,34,47,47,34,34,47,34,34,34,34,34,47,34,47,34,47,34,34,47,34,47,47,34,47,34,34,47,34,34,47,47,47,34,47,34,47,47,47,47,34,34,47,47,34,34,34,34,34,47,34,47,34,34,34,47,47,34,34,47,47,34,47,34,47,34,34,47,34,34,47,34,47,34,47,34,47,47,47,34,34,34,34,34,34,47,47,34,34,34,34,34,34,34,34,34,47,34,47,47,34,47,34,47,34,34,47,47,47,34,34,47,34,47,47,34,47,34,34,34,47,34,34,34,47,47,34,34,47,34,34,34,47,34,47,34,34,34,47,47,34,34,47,34,34,34,47,47,34,34,47,34,34,47,34,47,34,47,47,34,47,47,34,34,34,47,34,47,47,47,47,47,47,34,47,34,47,34,34,34,47,47,34,34,47,34,34,47,34,34,47,34,34,34,34,47,34,34,34,34,34,47,47,47,34,47,47,47,34,34,34,34,47,34,34,47,47,34,34,34,47,34,47,47,34,47,47,34,47,34,34,34,47,34,47,47,34,47,34,34,47,47,34,34,47,34,47,47,47,47,34,47,47,34,34,47,47,47,47,47,47,47,47,47,47,47,34,47,34,47,47,47,47,47,34,47,47,34,34,34,34,34,47,34,47,47,34,34,47,34,47,34,34,47,47,34,47,47,47,47,34,47,34,47,34,34,47,47,34,34,34,34,47,47,47,47,34,34,34,47,34,34,47,47,34,47,34,47,34,47,47,34,47,47,47,34,47,34,47,34,34,47,47,47,34,47,47,47,47,47,34,47,47,47,34,34,47,47,47,47,34,34,47,34,34,47,47,34,34,47,34,47,47,34,34,47,34,47,47,47,34,34,47,47,47,34,34,47,34,34,34,47,47,47,47,47,47,34,34,47,34,34,34,34,47,34,34,47,34,47,47,34,47,34,47,47,34,47,47,34,34,47,34,47,34,47,34,47,47,34,47,47,34,47,34,47,34,47,34,34,34,47,47,47,34,34,47,34,34,47,47,47,47,47,47,47,34,34,47,34,34,34,47,34,34,34,47,34,47,34,34,34,47,34,47,47,47,47,34,47,47,34,47,47,47,34,47,34,34,34,47,34,34,34,34,34,47,34,47,47,34,47,47,47,47,34,47,47,47,47,34,47,47,47,47,34,47,47,47,47,47,34,34,34,47,34,34,47,34,47,47,34,47,47,34,34,47,34,34,47,34,47,47,34,34,34,47,47,47,47,34,34,34,47,34,47,47,34,34,47,34,34,47,34,47,47,34,47,47,34,34,34,47,47,47,34,34,47,34,47,47,34,34,47,47,34,47,47,47,47,47,47,47,34,47,47,47,34,34,34,34,47,47,34,47,34,34,47,34,34,34,47,34,34,34,47,34,34,34,47,34,34,34,47,47,34,47,47,34,47,34,47,47,34,34,34,47,34,47,34,47,47,47,34,47,47,47,47,47,34,47,34,47,47,34,34,34,47,34,34,47,47,34,34,34,34,47,47,47,47,47,34,34,47,47,34,47,34,34,34,47,34,34,34,47,34,34,34,34,34,47,47,47,34,47,34,34,34,47,34,34,47,34,47,34,47,34,47,47,34,34,47,34,47,34,34,47,47,34,47,47,34,34,47,47,34,34,34,47,34,34,47,34,47,34,34,47,47,34,34,47,47,47,34,47,47,47,47,47,34,47,34,34,47,34,34,47,47,34,47,34,34,47,34,34,47,47,34,47,34,47,34,47,47,47,47,34,34,47,47,34,47,34,47,34,34,47,34,47,47,47,47,34,34,47,47,47,47,34,47,47,47,47,34,34,47,34,47,47,47,34,34,34,34,34,34,47,47,47,34,34,47,47,47,34,34,34,34,47,34,47,34,47,34,34,34,34,47,47,47,34,47,34,47,34,34,47,47,34,34,47,47,47,34,34,34,34,47,47,47,34,34,47,47,47,47,47,47,34,34,47,47,47,47,34,34,47,34,34,34,34,34,34,47,47,47,47,34,47,34,47,34,34,47,47,47,34,34,47,47,47,34,47,34,47,34,34,47,34,34,34,34,34,34,34,34,34,34,34,47,47,47,34,34,34,47,47,34,34,34,47,47,47,34,47,34,34,34,34,34,34,34,47,34,34,47,47,47,47,34,47,34,34,47,34,34,47,34,34,47,47,47,47,47,47,47,34,34,34,34,47,34,34,34,34,47,34,47,47,34,47,34,34,47,34,47,34,47,47,47,34,34,47,47,47,47,47,47,34,47,34,34,47,34,34,47,47,47,47,47,47,34,47,34,34,34,34,47,47,34,34,47,34,34,47,47,47,34,34,47,34,34,34,34,34,47,34,47,34,47,34,34,34,47,34,34,34,34,47,47,47,47,47,34,34,47,34,34,47,34,34,34,34,47,34,34,47,47,47,47,47,34,34,47,47,34,47,34,34,34,34,47,34,34,47,47,47,47,47,34,34,34,47,34,34,34,34,34,47,47,47,34,47,34,47,34,47,47,47,34,47,47,47,47,47,34,34,34,47,34,47,34,47,47,47,34,47,34,34,47,34,34,34,47,47,47,47,34,34,47,34,47,34,47,34,34,34,34,34,34,47,47,34,34,47,34,34,47,34,34,47,34,34,47,47,47,34,34,34,47,47,47,47,34,47,47,47,34,47,34,47,47,47,34,47,34,34,47,34,47,47,47,47,34,47,47,34,47,34,47,47,47,34,47,47,47,47,47,34,47,47,34,34,47,34,47,34,34,34,47,47,34,47,34,47,34,34,34,47,47,47,34,47,34,34,47,34,34,34,47,47,47,47,47,47,47,34,47,34,34,47,34,34,47,47,34,47,34,34,34,34,47,34,47,34,47,47,47,47,47,34,47,47,47,34,34,47,47,34,34,47,47,47,34,47,47,34,34,34,47,47,47,34,34,34,47,34,47,47,34,47,47,47,34,47,47,34,47,47,34,47,47,34,34,34,47,47,47,34,47,34,34,47,34,47,34,47,47,34,47,47,47,47,47,34,47,34,47,47,34,34,34,47,47,34,34,47,47,47,47,47,34,34,34,47,47,34,47,47,47,34,34,34,34,47,47,34,34,47,47,47,47,47,34,34,34,47,47,34,47,47,47,34,34,47,34,34,47,34,47,34,47,34,34,47,34,47,47,34,34,47,34,34,34,34,47,34,34,47,47,47,47,47,47,47,34,34,34,34,34,34,34,34,47,47,34,34,47,47,47,47,34,47,47,47,34,34,47,47,34,34,34,34,47,34,34,47,47,34,34,47,47,34,34,34,34,34,34,47,47,34,47,47,34,34,47,34,34,34,34,47,34,34,34,34,34,34,47,47,47,47,34,47,34,34,34,34,47,47,34,34,47,47,47,47,47,34,34,47,47,47,47,47,47,47,47,47,34,34,47,34,47,47,34,47,47,47,34,34,47,47,34,34,47,47,47,34,34,47,34,34,34,34,34,34,47,47,47,47,34,47,47,34,34,47,34,47,34,34,34,47,34,34,47,34,34,34,34,34,47,34,34,47,47,34,34,34,47,47,34,47,47,47,47,47,34,47,34,47,34,34,34,34,47,34,47,34,34,47,47,34,34,47,34,34,34,34,47,47,34,47,34,34,34,34,47,47,47,47,47,47,34,34,47,47,34,34,34,34,34,34,47,34,47,47,34,47,34,47,34,34,34,47,34,34,34,34,34,34,47,47,34,34,47,34,34,47,47,34,34,47,34,34,47,47,34,34,34,34,34,47,34,47,47,47,47,47,34,47,47,34,47,47,34,47,47,34,34,47,34,47,47,47,47,34,47,34,47,34,47,34,47,47,34,47,47,47,47,47,34,34,34,47,47,34,47,47,47,47,34,34,47,47,34,47,34,47,34,34,34,47,34,47,47,34,47,47,34,34,34,47,47,34,34,34,47,47,34,47,47,34,34,34,34,34,47,34,47,34,47,47,34,34,47,34,47,34,34,34,34,47,47,34,47,34,47,34,34,47,34,47,34,34,34,47,47,47,47,34,34,47,47,47,47,34,34,47,47,34,34,47,34,34,47,34,47,47,34,47,34,34,47,47,47,34,47,47,47,47,34,47,34,34,34,34,34,34,34,34,47,34,34,34,34,47,47,47,47,34,47,34,34,34,47,34,34,34,47,34,47,34,34,34,34,47,34,34,34,47,34,47,47,47,34,34,47,47,47,47,47,34,47,47,47,47,34,34,47,34,34,47,34,47,34,47,34,34,47,47,47,34,47,47,34,34,34,47,34,34,47,47,47,34,47,34,34,47,47,47,47,34,34,47,34,47,34,47,34,47,34,34,47,47,47,34,34,34,34,47,34,47,47,47,47,47,34,47,47,47,34,34,47,47,34,47,34,34,34,34,47,34,34,47,34,47,34,47,47,34,34,47,47,34,34,47,34,47,47,34,47,47,34,34,34,34,47,34,47,47,47,34,47,34,34,34,34,34,47,47,34,47,47,47,34,34,47,34,47,34,34,47,34,34,47,47,47,34,47,34,34,34,47,34,34,34,47,47,47,34,34,34,47,47,47,34,34,34,34,34,34,47,34,47,34,34,47,34,34,47,34,47,47,34,47,47,34,47,34,34,47,34,34,34,47,34,47,47,47,34,47,34,47,47,34,47,34,34,47,47,34,34,47,47,47,34,47,47,47,34,34,47,47,34,34,47,34,47,34,34,34,34,47,47,34,47,47,47,47,34,34,47,34,34,34,47,47,34,34,34,47,34,47,34,34,34,47,47,47,47,34,34,47,47,34,47,47,47,47,34,34,47,47,47,34,47,47,47,47,47,47,34,34,47,47,34,34,34,34,47,47,47,34,34,47,47,47,47,47,34,47,34,47,47,34,34,34,47,34,34,34,34,47,47,34,47,47,34,34,47,34,34,47,34,34,34,47,47,34,34,47,34,34,47,47,47,34,34,47,34,47,34,34,34,47,34,47,47,34,34,34,34,34,47,34,47,47,47,47,47,34,34,34,34,47,34,47,34,47,47,34,34,34,47,47,47,47,47,47,34,47,47,47,47,47,34,47,34,34,34,34,47,34,34,34,34,47,47,34,47,34,47,34,47,47,34,34,34,47,34,47,47,47,34,47,34,47,47,34,47,34,47,47,34,47,47,47,47,34,47,34,47,47,47,34,34,47,47,34,47,34,34,34,34,47,34,47,34,47,34,34,34,34,34,47,34,47,47,34,34,34,47,34,34,34,47,47,47,47,34,34,47,34,34,47,47,47,34,47,34,34,47,47,47,34,34,34,34,34,34,47,34,34,34,47,47,47,34,34,34,34,47,47,47,34,34,47,47,47,47,47,34,47,34,34,34,47,34,34,47,47,34,34,47,34,34,47,47,47,34,47,34,47,34,47,47,47,34,47,47,47,34,47,34,47,47,34,47,34,34,47,34,47,34,34,47,47,47,34,47,34,34,47,47,47,47,47,34,47,47,47,34,34,34,34,47,34,47,34,34,34,34,34,34,34,47,47,47,47,34,47,47,47,47,47,34,34,34,47,47,47,47,47,34,34,47,47,34,34,47,47,34,34,47,34,34,34,34,34,47,47,34,34,47,34,34,34,47,47,47,47,47,34,34,34,47,34,34,47,34,47,47,47,47,47,47,34,34,47,47,47,34,34,47,47,47,34,47,34,34,34,47,47,47,47,47,47,47,34,47,34,34,34,34,47,47,34,47,47,34,47,47,34,34,47,47,34,47,47,47,34,34,34,34,34,34,34,34,34,34,47,34,47,34,47,34,34,34,34,47,34,34,34,34,34,34,47,34,47,34,34,34,47,47,34,47,47,34,34,47,34,47,34,47,34,34,47,47,47,34,47,34,47,34,47,47,34,47,34,47,47,34,34,34,34,47,34,47,34,34,34,34,34,34,34,47,47,34,47,34,47,47,34,47,34,34,34,47,47,34,34,47,34,47,47,34,47,34,47,47,34,34,47,47,34,34,34,47,34,34,34,47,47,34,34,47,47,34,47,34,47,34,47,47,34,34,47,34,47,34,47,47,34,47,47,34,47,47,34,34,47,34,34,34,34,47,47,47,34,34,34,47,34,47,47,34,34,34,34,47,34,34,47,47,47,47,47,34,34,34,47,34,47,34,47,34,34,34,34,47,47,47,47,47,34,47,47,34,34,34,47,34,47,34,47,34,47,34,47,34,34,34,47,47,47,34,34,34,47,34,34,34,47,47,47,34,47,34,47,34,34,47,34,47,34,34,34,34,34,47,47,47,47,34,34,34,34,47,34,47,47,34,47,34,34,47,47,47,34,34,47,47,34,47,34,34,34,34,34,34,34,47,47,34,34,47,34,34,34,47,47,47,34,34,34,47,47,34,34,47,34,47,47,34,47,47,47,47,34,34,47,47,47,47,34,34,47,34,47,47,47,47,34,34,34,47,47,34,34,47,34,47,34,47,34,47,47,47,34,47,47,34,47,34,34,34,34,47,34,34,47,34,34,47,47,34,47,34,34,47,47,47,47,34,47,47,34,34,34,34,47,34,34,34,34,47,47,34,34,47,47,34,34,34,47,47,34,34,47,34,47,47,47,47,47,34,34,47,34,47,34,47,47,47,47,47,47,47,34,47,34,47,47,47,47,47,47,47,47,34,34,34,47,47,34,47,34,47,34,34,47,47,47,47,47,34,47,34,47,34,34,47,47,47,47,34,34,34,34,47,34,34,34,34,47,34,47,34,34,47,34,34,47,47,34,34,47,47,47,47,47,34,34,47,34,34,34,34,47,47,34,47,47,47,47,47,47,34,47,47,47,47,47,47,47,47,47,47,34,47,47,34,34,47,47,47,34,47,34,34,34,34,34,34,47,47,47,34,34,34,47,34,34,34,34,47,47,34,34,47,47,47,47,34,47,34,47,47,47,47,47,34,34,34,47,34,34,47,47,34,47,34,34,47,34,47,47,47,34,34,47,34,34,47,34,34,47,47,47,47,47,47,47,47,47,34,47,34,34,34,47,47,34,34,47,34,47,34,34,34,47,47,47,34,47,47,34,34,47,47,34,34,34,47,47,47,47,34,47,47,47,34,34,47,47,34,34,47,47,47,47,47,47,34,34,34,47,34,34,34,47,34,47,47,34,34,47,47,34,47,34,47,47,47,34,34,47,47,34,34,34,34,47,47,47,47,34,34,34,34,34,47,34,34,47,34,47,34,34,34,47,47,47,34,47,34,34,34,47,34,34,47,47,47,47,47,47,34,47,47,34,47,47,34,47,47,34,47,47,47,34,34,47,47,34,34,34,34,34,34,47,34,34,47,34,34,34,34,47,47,47,34,34,47,34,34,34,34,47,34,34,34,47,34,47,47,34,47,34,34,34,47,34,34,34,47,34,47,34,34,47,34,47,47,34,47,47,34,34,34,34,34,34,47,47,47,47,47,34,47,34,34,47,47,34,47,47,34,47,47,47,34,34,47,47,47,34,34,47,34,47,47,47,34,34,34,47,47,47,47,47,47,34,47,47,47,47,47,34,34,34,47,34,34,47,47,47,47,34,47,34,34,34,47,47,34,34,47,47,47,47,47,47,34,47,34,47,47,34,34,47,34,34,34,47,34,47,47,47,34,47,47,34,47,34,34,47,34,34,47,47,47,47,47,34,34,34,47,34,34,34,47,34,47,47,47,47,47,34,47,34,47,47,47,47,34,47,34,47,47,47,47,47,47,47,34,34,34,34,34,47,34,34,47,34,47,34,34,47,47,47,47,47,47,47,34,47,47,47,47,34,34,47,47,34,34,34,47,47,34,34,34,47,34,47,34,34,34,34,47,34,47,47,34,47,47,47,47,47,47,47,47,47,34,47,47,34,47,47,47,47,47,34,47,34,34,34,47,34,34,47,47,47,34,47,34,34,34,47,47,34,34,34,47,47,34,34,47,34,34,47,34,34,34,47,34,34,34,34,34,47,47,47,34,47,47,34,47,47,34,34,47,34,34,34,47,34,34,47,34,34,47,34,34,34,34,34,34,34,34,47,47,47,47,34,34,34,34,47,34,47,47,47,47,47,34,34,34,34,47,47,47,34,47,34,34,47,47,47,47,34,47,34,47,47,47,34,34,34,47,34,47,47,34,34,34,34,34,47,47,34,34,47,47,47,47,34,47,47,34,47,47,34,47,34,34,34,47,34,34,47,34,34,47,34,47,47,34,47,34,47,34,34,34,34,47,34,47,34,34,34,47,47,47,47,47,47,47,34,34,47,34,34,34,47,47,47,34,47,34,34,47,34,47,47,47,47,34,47,47,47,34,34,47,47,47,34,34,47,34,47,34,34,47,34,34,47,34,34,34,47,47,47,34,34,34,47,34,47,34,47,34,34,47,34,34,47,34,47,47,47,34,34,34,47,47,34,47,34,47,34,47,34,34,34,47,47,47,47,34,47,47,34,47,34,34,34,34,34,34,34,34,47,47,34,34,34,34,34,47,34,34,47,47,34,47,34,34,47,47,34,47,34,34,34,34,34,34,47,47,34,34,34,47,47,47,47,47,47,47,34,34,34,47,34,34,47,47,47,47,34,47,47,34,34,47,47,34,47,47,34,34,47,47,47,47,47,34,34,34,34,47,34,47,34,34,47,34,47,47,47,34,34,47,47,47,47,34,47,34,34,47,34,34,47,34,47,47,34,47,34,47,47,47,47,47,47,47,34,34,34,34,34,34,34,34,34,47,34,47,47,47,47,47,47,47,47,34,47,47,47,47,47,47,34,47,47,47,47,34,34,34,47,47,34,47,47,47,47,47,47,34,47,34,34,34,34,34,34,34,47,34,34,47,34,47,47,34,47,34,34,34,47,34,34,34,34,34,47,47,34,34,34,47,47,47,47,47,34,47,47,34,47,34,47,47,47,34,47,34,34,47,47,47,34,47,47,47,47,47,34,47,34,34,47,34,34,47,34,34,47,34,34,47,47,34,34,47,47,47,34,47,47,47,34,47,34,34,47,47,34,34,34,47,34,34,34,34,47,34,34,47,34,34,47,34,47,47,34,47,47,34,34,47,34,34,34,47,34,47,34,34,34,34,34,47,34,34,47,34,34,34,47,34,47,34,47,47,34,34,34,34,34,47,34,47,34,34,47,47,47,34,47,34,34,47,47,47,34,34,34,34,34,34,47,47,34,47,47,47,34,34,34,34,34,34,47,47,47,47,34,34,47,47,47,47,34,34,34,34,34,47,34,47,34,34,47,47,47,47,47,34,34,34,34,47,34,34,34,34,34,34,47,34,47,34,34,47,47,34,34,47,34,47,34,34,34,47,47,34,34,47,47,47,47,34,34,34,47,34,47,47,34,47,34,34,47,34,47,47,34,47,34,34,47,47,47,47,34,47,47,47,34,47,34,34,47,34,34,47,34,47,47,47,34,34,47,34,47,34,34,34,34,47,47,34,34,34,47,34,47,34,47,34,34,34,47,34,34,47,34,34,34,47,34,34,34,47,34,47,47,47,34,47,34,34,47,47,34,47,47,47,47,47,47,47,47,34,34,47,34,34,34,34,34,47,47,47,34,34,34,47,47,34,47,34,34,34,47,47,47,47,34,34,34,34,47,47,47,34,47,34,34,47,47,47,34,47,47,34,34,47,47,34,47,47,47,34,47,47,47,34,47,34,47,47,34,34,34,47,34,47,47,47,34,47,47,47,47,34,34,34,47,34,34,47,47,34,34,34,34,34,47,34,34,47,47,34,34,47,34,34,34,34,47,47,47,47,47,47,34,34,34,34,47,34,34,34,47,47,34,34,47,47,47,47,47,47,47,34,47,47,47,47,34,34,34,34,34,34,34,34,47,34,34,34,47,47,34,34,47,34,34,34,34,47,47,47,47,47,47,34,34,47,47,34,47,47,34,47,47,34,47,34,47,34,47,47,34,47,34,34,47,34,47,34,34,34,47,47,34,34,34,47,34,47,34,34,34,47,34,47,34,47,34,47,47,34,34,47,47,47,34,47,47,47,34,34,47,34,47,47,47,47,34,47,34,47,34,34,47,34,34,47,47,47,47,47,34,47,47,47,47,47,34,47,34,47,34,34,34,47,47,47,34,47,34,34,34,47,47,47,34,47,47,34,34,34,34,34,47,47,47,47,47,47,34,47,34,47,34,34,34,34,47,47,47,47,47,34,34,47,34,47,34,34,34,34]\n",
    "temperatures = [34,34,47,47,34,34,34,47,34,47,47,47,34,34,34,47,47,34,47,47,34,34,34,34,47,34,34,47,34,34,34,47,47,47,47,47,47,34,34,34,47,34,34,47,34,47,47,47,34,47,47,34,47,34,47,47,34,47,47,34,34,47,47,47,34,34,47,47,47,34,34,47,34,34,34,47,47,34,34,47,47,47,47,47,34,34,34,47,47,34,47,34,47,34,34,47,34,47,47,47,47,47,47,34,34,34,47,34,47,34,47,34,34,34,34,47,34,34,34,34,34,34,34,47,34,34,47,47,34,47,47,47,47,47,47,47,34,34,47,34,47,34,47,34,34,34,47,34,34,47,34,47,47,34,47,47,47,47,34,34,34,34,47,47,34,34,34,47,34,34,47,34,34,47,34,34,34,34,47,34,34,34,47,34,34,47,47,34,47,47,34,34,34,34,34,34,47,47,34,47,34,47,34,47,47,47,34,47,34,34,34,34,34,47,47,47,47,47,47,34,47,34,47,34,34,34,47,47,47,34,47,47,34,47,47,47,34,47,47,34,47,47,34,47,34,34,47,47,34,34,34,34,47,34,34,47,47,34,47,47,34,34,34,34,47,47,34,34,47,47,34,47,34,47,34,47,47,47,47,34,34,47,47,34,34,34,47,34,47,47,47,34,47,47,34,34,34,34,34,47,47,34,47,47,34,34,47,34,47,47,34,47,47,47,47,47,47,47,34,34,34,34,47,47,34,47,34,47,47,34,47,47,34,34,34,47,47,47,34,47,34,47,47,47,34,34,34,34,34,34,34,47,34,34,34,34,47,47,34,34,47,34,47,47,34,47,34,34,47,47,47,47,47,47,34,34,47,34,34,47,34,47,47,47,47,47,34,34,34,47,47,34,47,34,34,47,47,47,34,34,47,47,47,34,34,47,47,34,34,47,47,47,47,34,34,34,47,34,34,47,47,34,34,34,47,34,34,47,34,34,34,34,47,34,47,34,47,47,47,34,34,47,47,47,47,47,34,47,34,34,34,34,34,47,47,34,34,47,47,34,34,47,34,47,34,47,34,47,47,47,47,47,47,47,47,47,34,47,47,47,34,47,47,34,34,47,34,47,34,34,47,47,47,47,34,47,34,34,34,47,47,47,34,34,47,47,34,34,34,34,47,47,34,47,34,34,47,47,34,47,34,47,34,47,34,34,47,34,47,34,47,34,47,47,47,47,47,34,34,47,47,34,34,34,47,34,34,34,34,34,47,47,47,34,47,47,47,47,47,47,47,47,34,34,34,34,47,34,47,34,47,47,47,34,34,34,34,47,34,47,34,47,34,47,34,34,34,47,34,47,34,34,47,34,34,47,34,34,47,47,47,34,47,47,47,34,34,34,34,34,34,34,47,34,34,47,34,47,34,47,34,34,34,34,47,47,47,47,34,47,34,34,34,47,34,47,47,47,34,34,47,34,47,47,34,47,34,34,34,47,34,34,34,47,34,34,34,34,34,34,47,47,47,47,34,47,47,34,47,34,47,34,47,34,47,34,34,47,34,47,34,47,34,34,34,34,34,47,47,47,47,47,47,47,47,47,34,47,47,34,34,34,47,34,34,47,47,34,47,47,47,47,47,47,47,34,47,34,47,47,47,47,47,47,34,47,47,34,34,34,47,47,47,47,34,34,47,47,34,34,34,34,34,47,34,34,34,34,47,47,34,47,47,47,47,47,47,47,34,34,47,34,47,34,47,47,47,47,34,47,47,47,34,34,34,34,34,34,47,47,47,34,34,34,47,47,34,47,34,47,47,47,34,47,47,47,47,47,47,47,34,47,47,47,34,34,47,47,34,47,47,34,34,34,47,34,47,34,34,47,34,47,34,34,34,34,47,47,47,34,47,34,47,47,34,47,34,47,34,47,34,47,47,47,34,34,47,34,47,34,47,47,47,47,47,34,47,34,47,34,47,34,34,47,47,47,47,47,34,47,34,47,47,47,47,47,47,47,34,47,47,47,34,34,34,47,34,47,47,47,47,34,47,47,34,47,34,34,47,47,34,34,47,34,47,47,47,47,34,47,47,34,34,34,47,47,34,34,47,34,47,34,47,34,47,47,47,47,34,47,47,34,34,34,47,34,47,34,47,34,34,34,47,34,34,34,34,34,34,47,47,47,34,47,47,47,34,34,34,34,47,34,34,47,34,34,47,47,34,34,47,34,34,47,34,34,47,34,47,47,34,47,47,34,34,47,47,34,34,47,34,34,47,47,34,47,34,34,47,47,47,34,34,47,47,34,34,34,47,47,34,47,34,47,47,34,34,34,47,47,47,47,34,47,47,34,47,47,34,47,34,47,34,47,47,34,34,47,47,47,34,47,47,47,34,34,34,47,47,47,47,34,47,47,34,34,34,34,34,34,34,34,47,34,47,47,34,47,47,34,47,47,47,47,47,34,47,34,34,34,34,47,47,47,47,34,34,34,47,34,34,34,47,47,34,47,47,34,47,34,34,34,47,34,47,47,47,34,34,34,34,47,47,47,34,47,47,47,34,47,34,47,34,34,47,47,47,47,34,47,34,47,34,47,34,34,34,47,34,34,34,47,34,34,47,34,47,34,47,47,34,34,47,34,47,47,47,34,47,34,47,34,47,47,47,47,34,34,34,34,34,34,34,47,47,47,47,34,47,34,34,47,34,47,34,34,34,47,47,34,34,34,47,34,47,47,47,34,34,47,47,47,47,34,34,34,47,47,34,47,34,34,34,34,34,47,47,47,47,47,34,34,34,34,47,47,34,47,47,47,34,34,47,34,34,34,34,34,34,34,47,47,34,47,34,47,47,34,47,47,47,34,34,47,47,34,34,34,47,47,47,34,34,34,34,47,34,47,34,34,47,47,47,47,34,47,34,47,47,47,47,34,34,47,47,47,34,47,34,47,34,34,47,34,47,47,47,34,34,34,34,47,47,47,34,34,47,47,47,34,34,47,34,47,34,47,34,47,34,34,47,47,47,34,47,34,47,47,47,34,34,34,34,34,47,34,47,47,47,47,34,47,47,47,47,34,34,47,47,47,34,34,34,34,34,47,34,47,47,34,47,47,47,34,47,34,47,47,34,47,34,47,34,34,47,34,34,47,34,34,34,34,34,47,34,47,34,47,47,34,47,47,34,34,47,34,34,47,34,34,47,47,34,47,34,34,47,47,47,47,47,34,47,47,47,47,34,34,34,47,47,34,34,34,47,34,34,47,47,34,34,47,34,34,34,47,47,47,34,34,34,47,47,47,34,47,47,34,47,34,34,47,47,47,34,47,34,47,34,34,47,34,34,47,47,34,34,47,47,34,34,47,47,47,34,34,47,34,34,47,47,47,34,34,47,34,34,34,47,47,47,34,34,47,47,34,34,47,47,34,34,47,47,47,47,47,34,47,47,47,34,47,47,34,34,47,34,47,34,34,34,47,47,47,47,47,47,34,34,47,47,47,34,34,34,34,34,34,34,34,47,34,34,34,34,34,47,34,34,34,47,47,34,34,34,47,34,47,47,34,47,34,34,34,47,47,34,47,34,47,34,34,47,34,47,34,34,47,47,34,34,34,47,34,34,34,34,47,34,47,47,34,34,34,47,47,34,34,34,47,47,47,34,34,47,34,47,34,47,34,34,34,47,34,47,34,34,34,47,47,34,34,47,34,47,34,34,34,34,47,47,47,47,47,34,47,47,34,47,34,34,34,34,34,34,34,47,47,34,34,47,47,47,34,34,34,47,34,34,34,34,34,47,34,47,47,34,47,47,34,34,34,34,47,34,34,47,47,34,34,34,34,47,47,47,47,34,47,34,47,47,34,34,47,34,47,47,34,34,34,34,34,34,34,47,34,34,34,47,34,34,34,34,34,47,47,47,47,34,47,47,34,34,47,34,47,47,34,34,34,47,47,34,47,47,47,47,47,34,47,34,34,47,47,34,34,34,47,47,34,34,47,34,34,34,47,34,34,47,47,34,47,34,34,47,47,47,47,34,34,34,34,34,34,34,47,47,47,34,34,47,47,47,34,47,34,47,34,34,47,47,47,47,34,47,34,47,47,34,34,34,34,47,47,47,47,34,34,47,34,34,47,34,34,47,34,47,34,34,47,34,34,34,47,34,34,34,47,47,47,34,47,34,34,47,47,47,34,34,47,34,47,47,34,47,47,47,47,47,34,34,34,47,34,34,34,34,47,34,34,47,34,34,34,34,47,47,34,47,47,34,47,34,34,47,34,47,47,47,34,47,34,34,34,47,47,47,47,34,47,47,34,34,47,47,34,47,47,34,47,34,34,47,34,34,34,34,34,34,47,47,47,34,47,34,34,34,47,47,34,47,34,47,34,47,34,34,47,34,34,34,47,34,34,47,34,34,47,47,47,34,47,47,34,34,47,47,34,34,34,34,34,34,47,47,34,34,47,34,34,47,34,47,47,34,47,47,34,47,34,34,34,47,34,34,47,34,34,34,34,47,47,34,47,34,34,34,47,47,47,34,34,34,47,34,47,34,34,34,34,47,34,34,34,34,34,47,34,34,34,47,47,34,34,34,47,34,34,47,34,34,34,34,47,34,47,34,34,47,34,34,47,47,47,47,47,34,47,34,47,47,47,47,47,47,47,47,47,34,34,34,34,47,47,47,34,47,47,34,47,47,47,47,34,47,34,34,34,47,34,34,47,47,34,47,47,34,34,34,47,34,34,47,47,47,47,47,34,47,34,34,34,47,47,47,47,47,47,34,47,47,47,47,34,47,34,34,34,34,34,34,47,47,34,34,34,34,47,34,47,47,47,34,34,47,47,47,34,47,34,47,47,34,47,47,34,47,47,34,34,47,47,47,47,34,47,47,47,34,47,47,34,34,34,34,34,34,47,34,47,47,47,47,34,34,34,34,47,47,34,47,34,47,47,34,47,34,34,34,47,34,34,47,47,47,47,47,34,34,34,47,34,47,47,34,34,47,34,34,34,47,34,47,34,47,34,47,47,47,34,34,34,34,34,34,47,47,47,47,34,34,47,47,34,34,47,47,47,34,34,34,47,34,34,34,34,34,47,34,34,34,34,34,34,47,34,47,34,34,47,47,47,47,34,34,34,34,47,47,34,47,34,47,34,34,47,34,47,47,47,34,34,34,34,47,34,47,34,47,47,47,34,34,47,47,47,47,34,34,34,47,34,47,47,34,47,34,47,34,47,47,47,47,34,34,47,47,47,47,47,47,47,34,47,34,34,47,47,47,34,47,34,34,47,34,47,47,34,47,47,34,34,34,34,34,47,34,34,34,34,47,34,47,34,34,47,47,47,47,47,34,34,34,47,34,34,47,47,47,47,34,34,34,47,34,34,47,34,47,34,34,47,47,47,34,34,34,47,34,47,47,47,47,34,47,34,47,34,47,34,47,34,34,47,34,47,34,47,47,47,34,34,47,47,34,34,34,47,47,34,34,34,34,34,34,47,34,34,34,47,34,34,34,47,47,34,34,47,47,34,47,47,34,47,34,47,47,47,47,34,34,47,34,34,47,34,34,47,47,34,47,34,34,34,34,34,34,34,47,34,34,47,47,34,47,34,34,34,47,34,34,34,47,47,47,47,47,47,47,47,47,47,34,47,47,47,34,47,34,34,47,34,47,34,47,47,47,34,34,47,34,34,34,47,34,47,34,34,34,47,34,34,47,34,34,34,34,47,47,34,47,34,47,34,47,47,47,34,34,47,34,34,34,47,47,34,34,34,47,47,47,47,34,34,47,47,47,47,34,34,47,47,47,34,34,47,34,47,34,34,34,47,34,34,34,47,34,47,47,34,47,34,34,34,34,47,34,47,34,47,47,47,47,47,34,34,34,47,47,34,34,34,47,47,34,34,34,47,47,47,47,47,34,34,47,47,34,34,47,34,47,47,47,47,47,34,34,47,47,34,34,47,34,34,47,34,34,47,47,47,47,34,34,47,34,34,34,34,34,47,34,47,47,47,47,47,47,34,34,47,34,34,34,47,47,34,47,34,34,34,34,47,34,47,47,34,34,34,34,34,34,47,47,47,47,34,34,47,34,47,34,47,47,34,34,34,34,34,47,34,47,34,34,47,34,47,47,47,34,34,34,34,47,34,47,34,47,47,34,34,47,34,34,34,34,34,47,47,34,47,47,34,47,47,34,34,47,47,47,47,34,47,47,34,34,34,34,34,34,47,34,47,34,47,34,47,34,47,34,47,34,34,47,47,47,47,34,47,34,47,34,34,34,34,47,47,34,34,47,34,34,47,47,34,34,47,47,34,34,34,34,47,47,47,34,47,47,34,47,34,47,47,47,34,47,47,34,47,34,34,34,34,34,34,34,34,47,47,34,34,34,34,47,34,47,47,47,47,47,34,47,47,47,34,47,47,47,47,47,34,47,34,34,47,47,34,47,34,34,34,47,47,34,34,47,47,47,47,34,47,34,47,47,34,34,34,47,47,47,47,34,34,34,47,47,34,34,34,47,34,47,47,47,34,47,34,34,47,34,47,47,34,34,34,34,47,47,47,34,34,34,34,47,47,34,47,47,47,34,34,34,47,47,34,47,34,47,34,47,34,47,47,47,34,34,34,34,34,47,34,47,47,47,47,34,47,34,34,47,34,34,34,47,34,47,34,34,47,47,47,47,34,34,47,34,47,34,34,34,34,34,34,34,47,47,47,34,47,47,34,47,47,34,34,34,34,47,34,47,47,34,34,47,34,47,34,34,34,47,34,47,34,34,34,47,34,34,47,34,47,34,47,34,47,47,34,34,34,34,47,47,34,34,34,34,34,34,34,47,47,34,34,47,47,47,47,34,34,47,34,34,47,34,47,34,34,47,47,47,34,34,47,34,34,34,47,47,47,34,34,47,34,34,34,47,34,34,34,47,34,34,47,34,34,47,34,47,34,34,34,34,47,34,34,34,34,47,34,47,47,47,34,34,34,34,34,47,47,47,47,34,34,47,47,34,47,47,34,34,34,47,34,47,34,47,47,34,34,34,47,47,47,34,47,34,47,34,47,47,47,34,34,47,34,34,47,34,34,47,34,47,34,47,34,34,47,34,34,34,47,34,34,34,47,34,34,47,34,47,34,47,34,34,34,34,47,34,34,47,47,47,47,47,47,34,47,47,34,47,34,34,34,47,34,34,47,47,47,34,34,34,47,34,47,47,47,47,47,47,47,34,34,47,34,47,34,34,47,34,34,47,47,34,34,47,47,47,34,34,34,47,47,34,47,47,34,34,34,47,34,47,47,47,47,47,47,47,47,34,47,34,34,47,47,34,34,34,34,47,34,47,47,34,47,34,47,47,47,34,34,47,34,47,47,47,47,34,34,47,34,34,47,47,34,47,47,47,47,34,47,47,47,47,47,47,47,34,34,47,47,47,34,47,47,34,34,47,47,34,47,34,47,47,47,34,47,47,47,47,47,34,47,47,47,47,34,47,34,34,47,34,47,34,34,34,34,34,34,34,34,34,47,47,34,47,34,47,47,47,34,34,47,34,47,34,47,47,47,47,47,34,34,34,34,34,34,47,47,47,34,34,34,47,47,34,34,47,47,34,47,34,34,47,34,34,34,47,47,34,34,34,47,47,34,47,34,47,47,34,47,34,34,34,34,47,47,47,34,47,47,47,47,47,47,47,47,47,34,47,34,47,34,47,47,34,34,34,34,34,47,47,47,34,34,47,34,47,34,47,34,34,47,34,47,47,47,34,47,34,47,34,34,34,34,47,34,47,47,34,34,34,34,47,34,47,47,47,34,47,47,34,34,47,34,34,34,47,47,47,34,47,47,34,34,34,47,34,47,34,47,47,47,34,34,47,34,34,47,34,34,34,47,34,47,47,47,47,47,47,34,34,34,47,47,47,34,47,47,47,34,47,34,34,34,34,47,47,47,47,34,34,34,34,34,47,47,34,47,34,34,47,34,34,47,34,47,47,34,47,34,34,47,34,34,34,47,47,34,47,34,34,47,47,47,34,47,34,47,47,34,34,47,47,47,47,47,47,47,34,34,47,34,34,47,47,47,47,47,47,47,34,47,47,47,34,34,47,34,47,47,34,34,34,34,47,47,34,34,34,34,34,34,34,34,34,34,47,34,47,47,34,34,34,47,47,47,34,34,34,34,47,34,47,47,34,47,47,47,34,34,34,34,34,47,34,47,47,34,34,34,47,34,34,47,47,47,47,47,34,34,47,47,34,47,34,34,47,34,47,34,47,34,47,47,34,34,34,34,34,47,34,34,34,47,47,47,34,34,47,47,47,47,34,34,34,34,47,47,47,34,34,34,47,47,34,47,34,47,34,47,47,47,47,34,34,47,47,34,34,47,34,47,47,34,47,34,47,47,47,47,34,34,47,47,34,34,47,34,47,34,34,34,47,47,47,47,34,34,47,47,47,34,47,34,34,47,47,34,34,34,47,34,34,47,47,34,47,47,34,34,47,34,47,34,47,34,47,34,47,47,34,47,47,34,47,34,34,34,34,47,47,47,34,47,47,47,47,47,34,47,34,34,47,34,47,34,34,34,34,47,47,47,47,34,47,34,34,34,34,34,47,47,34,34,47,47,34,34,34,34,47,34,34,47,47,34,47,34,47,34,34,47,47,47,47,34,47,34,34,34,34,34,34,34,34,47,47,34,47,34,47,47,47,34,47,34,47,47,34,34,34,47,34,47,34,34,34,34,47,47,34,34,34,47,34,34,34,34,34,47,34,47,47,47,47,34,34,47,47,34,34,47,47,34,47,47,47,34,34,47,34,47,34,47,34,34,47,47,47,47,34,34,34,47,34,47,34,34,47,47,47,34,47,47,47,47,47,47,34,47,47,47,47,47,34,47,34,47,34,34,34,34,47,34,47,34,34,47,34,34,34,34,47,47,47,47,47,47,47,47,34,47,34,34,47,34,47,34,47,47,47,34,47,34,47,34,34,47,47,47,47,47,47,34,34,34,47,47,47,47,34,34,47,34,34,34,34,47,34,34,34,34,34,47,47,47,47,47,47,47,47,47,47,34,47,47,34,47,47,47,34,34,34,47,47,47,47,47,34,47,47,47,47,34,34,34,47,34,34,47,47,34,47,34,34,47,47,47,34,47,47,47,34,34,34,34,34,47,47,47,47,34,47,34,47,47,34,34,34,34,34,47,34,47,34,47,34,34,47,47,47,47,47,34,34,47,47,47,34,47,34,34,47,47,47,47,34,34,34,34,34,34,47,47,34,34,34,34,34,34,47,47,34,47,47,34,34,47,34,47,34,47,34,47,47,34,34,47,47,34,47,34,47,34,47,34,34,34,34,34,34,47,47,34,34,34,47,47,34,34,34,34,47,34,34,34,47,47,34,47,34,34,34,47,47,47,34,47,34,34,47,34,34,47,47,47,47,47,34,34,34,34,47,34,47,34,47,34,34,47,34,47,34,47,34,34,47,47,47,47,34,47,47,47,47,47,47,47,34,47,47,34,47,47,47,34,47,47,47,34,34,47,47,34,47,34,47,47,34,47,47,47,47,34,47,47,47,34,34,47,47,47,34,34,34,34,47,34,47,34,47,34,47,47,34,47,47,34,34,34,47,34,34,34,47,34,34,34,47,34,47,47,34,34,34,47,34,47,47,34,34,47,34,34,47,47,34,34,34,34,47,34,47,34,47,47,34,47,34,34,47,47,47,34,47,47,34,34,47,47,47,34,34,47,34,47,47,47,47,47,34,47,47,34,47,47,47,47,47,47,47,34,34,47,47,47,47,34,34,47,47,47,47,34,47,47,34,34,34,47,34,34,34,34,34,47,34,47,34,34,47,34,47,47,34,34,34,47,34,47,34,47,34,47,34,47,34,47,47,47,34,47,47,34,34,34,34,47,34,34,47,47,34,47,34,34,47,47,34,47,47,34,34,47,34,34,34,47,34,47,47,47,34,47,34,47,47,34,47,34,47,34,47,47,47,34,47,47,47,47,47,34,34,47,47,34,34,34,47,47,47,34,47,34,47,34,47,47,47,34,47,34,47,34,47,34,34,47,47,34,34,47,47,47,34,34,34,47,34,47,34,34,34,47,34,34,47,34,47,47,34,34,34,34,47,47,47,47,47,47,34,47,34,34,47,47,47,34,47,47,47,34,34,34,34,34,47,47,47,47,34,34,47,47,47,47,47,34,34,47,34,47,47,47,34,34,34,34,47,47,34,47,34,47,34,34,34,47,34,47,47,47,34,34,34,47,47,34,34,34,34,47,47,47,47,47,34,34,47,47,34,34,34,34,47,47,47,34,34,34,34,34,34,34,34,47,34,47,34,34,34,47,47,34,34,47,34,47,47,34,34,47,47,47,34,47,34,47,34,34,34,47,47,47,47,47,34,34,34,47,47,47,34,34,34,47,34,34,47,34,34,47,47,34,34,34,34,34,47,47,47,34,47,47,47,34,34,47,34,47,34,34,34,47,34,47,47,34,47,47,47,47,47,47,47,47,47,47,34,34,47,47,47,47,34,47,47,34,47,34,34,47,47,34,47,47,34,47,34,34,34,34,47,47,34,47,34,47,34,47,47,34,47,34,47,34,47,34,47,47,34,47,47,47,47,47,47,34,47,47,34,34,34,34,47,34,47,47,47,34,34,47,34,47,34,34,47,34,34,34,34,34,34,34,47,47,47,47,47,34,34,47,47,47,47,34,34,47,34,34,34,47,47,34,47,47,34,34,47,47,34,47,34,47,34,47,47,47,47,34,34,34,47,34,47,34,34,47,47,34,47,34,34,34,34,47,47,47,34,47,47,47,47,47,47,47,34,34,34,34,34,34,34,34,47,34,34,47,34,47,34,47,34,34,47,47,47,34,47,47,34,47,47,34,47,34,34,47,34,47,34,34,47,34,34,34,34,34,47,47,47,47,47,47,47,34,34,47,47,47,34,47,47,34,47,34,34,34,47,34,34,47,34,47,47,34,47,47,47,47,47,34,34,47,34,34,34,34,47,47,47,47,34,34,34,34,34,34,47,34,34,34,47,34,47,47,34,34,34,47,34,34,34,47,34,47,34,47,34,47,47,34,47,47,34,47,47,47,47,34,34,47,47,47,34,34,47,34,34,34,47,34,34,34,47,47,34,47,47,34,34,34,34,47,47,47,47,47,47,34,34,34,47,34,34,34,34,34,47,34,34,47,34,34,34,47,47,34,47,47,47,47,34,34,47,34,34,47,47,34,47,34,34,47,34,47,34,47,34,47,34,34,34,34,34,34,47,34,34,47,47,34,34,34,47,34,34,34,34,47,34,34,47,47,47,47,34,34,34,47,34,47,34,34,47,47,34,47,47,34,47,47,34,34,34,34,47,47,47,34,34,47,47,47,34,34,47,47,34,47,34,34,34,47,47,47,34,34,34,34,34,34,47,34,47,34,34,34,34,47,47,47,34,47,47,34,47,34,47,47,34,34,47,47,47,34,47,47,34,34,34,34,34,47,34,47,34,47,47,34,34,47,47,34,47,47,34,47,47,34,47,47,47,34,47,34,47,34,34,47,47,47,34,47,34,47,47,47,47,47,47,47,34,34,34,47,47,47,34,47,47,34,47,34,47,47,47,34,47,47,34,47,47,47,47,47,34,34,47,47,34,47,47,34,47,34,34,47,34,34,34,34,34,47,34,34,47,34,34,47,34,47,47,47,34,34,34,47,34,47,34,34,47,47,34,34,34,34,34,34,34,34,47,34,47,47,34,47,34,47,34,34,34,47,34,47,34,47,47,34,47,47,47,47,47,34,34,34,47,34,34,34,47,34,47,47,34,34,34,34,34,34,34,47,47,47,34,34,47,34,34,47,47,47,47,34,47,34,47,34,47,34,47,47,47,47,47,47,47,47,47,47,47,34,47,34,34,34,47,34,34,47,47,47,34,34,47,34,34,34,34,34,47,34,47,47,34,34,34,47,47,47,47,47,47,34,47,34,34,47,47,34,47,47,34,47,34,34,34,34,34,47,34,34,47,34,34,34,34,47,34,34,34,34,47,34,47,34,34,47,47,47,47,47,34,47,34,47,34,34,34,47,34,47,47,47,34,47,34,34,47,34,34,47,47,47,34,34,34,47,34,47,47,47,34,47,47,34,34,34,34,34,34,34,34,34,47,34,47,34,34,34,34,47,47,34,47,34,34,34,47,47,47,47,47,34,34,34,47,34,47,47,47,47,34,47,34,34,34,34,47,47,34,47,34,47,47,47,34,34,34,34,34,47,47,47,47,34,34,34,47,47,47,34,47,47,47,34,47,34,34,47,47,47,34,47,34,34,34,47,34,34,47,47,47,34,34,47,34,34,34,47,47,34,34,34,47,34,47,34,34,47,34,34,34,47,47,47,34,34,34,47,47,34,47,47,34,47,34,47,47,47,34,47,47,34,34,34,47,34,34,34,34,34,34,47,47,34,34,47,34,34,34,34,34,47,34,47,34,47,34,34,47,34,47,47,34,47,34,34,47,34,34,47,47,47,34,47,34,47,47,47,47,34,34,47,47,34,34,34,34,34,47,34,47,34,34,34,47,47,34,34,47,47,34,47,34,47,34,34,47,34,34,47,34,47,34,47,34,47,47,47,34,34,34,34,34,34,47,47,34,34,34,34,34,34,34,34,34,47,34,47,47,34,47,34,47,34,34,47,47,47,34,34,47,34,47,47,34,47,34,34,34,47,34,34,34,47,47,34,34,47,34,34,34,47,34,47,34,34,34,47,47,34,34,47,34,34,34,47,47,34,34,47,34,34,47,34,47,34,47,47,34,47,47,34,34,34,47,34,47,47,47,47,47,47,34,47,34,47,34,34,34,47,47,34,34,47,34,34,47,34,34,47,34,34,34,34,47,34,34,34,34,34,47,47,47,34,47,47,47,34,34,34,34,47,34,34,47,47,34,34,34,47,34,47,47,34,47,47,34,47,34,34,34,47,34,47,47,34,47,34,34,47,47,34,34,47,34,47,47,47,47,34,47,47,34,34,47,47,47,47,47,47,47,47,47,47,47,34,47,34,47,47,47,47,47,34,47,47,34,34,34,34,34,47,34,47,47,34,34,47,34,47,34,34,47,47,34,47,47,47,47,34,47,34,47,34,34,47,47,34,34,34,34,47,47,47,47,34,34,34,47,34,34,47,47,34,47,34,47,34,47,47,34,47,47,47,34,47,34,47,34,34,47,47,47,34,47,47,47,47,47,34,47,47,47,34,34,47,47,47,47,34,34,47,34,34,47,47,34,34,47,34,47,47,34,34,47,34,47,47,47,34,34,47,47,47,34,34,47,34,34,34,47,47,47,47,47,47,34,34,47,34,34,34,34,47,34,34,47,34,47,47,34,47,34,47,47,34,47,47,34,34,47,34,47,34,47,34,47,47,34,47,47,34,47,34,47,34,47,34,34,34,47,47,47,34,34,47,34,34,47,47,47,47,47,47,47,34,34,47,34,34,34,47,34,34,34,47,34,47,34,34,34,47,34,47,47,47,47,34,47,47,34,47,47,47,34,47,34,34,34,47,34,34,34,34,34,47,34,47,47,34,47,47,47,47,34,47,47,47,47,34,47,47,47,47,34,47,47,47,47,47,34,34,34,47,34,34,47,34,47,47,34,47,47,34,34,47,34,34,47,34,47,47,34,34,34,47,47,47,47,34,34,34,47,34,47,47,34,34,47,34,34,47,34,47,47,34,47,47,34,34,34,47,47,47,34,34,47,34,47,47,34,34,47,47,34,47,47,47,47,47,47,47,34,47,47,47,34,34,34,34,47,47,34,47,34,34,47,34,34,34,47,34,34,34,47,34,34,34,47,34,34,34,47,47,34,47,47,34,47,34,47,47,34,34,34,47,34,47,34,47,47,47,34,47,47,47,47,47,34,47,34,47,47,34,34,34,47,34,34,47,47,34,34,34,34,47,47,47,47,47,34,34,47,47,34,47,34,34,34,47,34,34,34,47,34,34,34,34,34,47,47,47,34,47,34,34,34,47,34,34,47,34,47,34,47,34,47,47,34,34,47,34,47,34,34,47,47,34,47,47,34,34,47,47,34,34,34,47,34,34,47,34,47,34,34,47,47,34,34,47,47,47,34,47,47,47,47,47,34,47,34,34,47,34,34,47,47,34,47,34,34,47,34,34,47,47,34,47,34,47,34,47,47,47,47,34,34,47,47,34,47,34,47,34,34,47,34,47,47,47,47,34,34,47,47,47,47,34,47,47,47,47,34,34,47,34,47,47,47,34,34,34,34,34,34,47,47,47,34,34,47,47,47,34,34,34,34,47,34,47,34,47,34,34,34,34,47,47,47,34,47,34,47,34,34,47,47,34,34,47,47,47,34,34,34,34,47,47,47,34,34,47,47,47,47,47,47,34,34,47,47,47,47,34,34,47,34,34,34,34,34,34,47,47,47,47,34,47,34,47,34,34,47,47,47,34,34,47,47,47,34,47,34,47,34,34,47,34,34,34,34,34,34,34,34,34,34,34,47,47,47,34,34,34,47,47,34,34,34,47,47,47,34,47,34,34,34,34,34,34,34,47,34,34,47,47,47,47,34,47,34,34,47,34,34,47,34,34,47,47,47,47,47,47,47,34,34,34,34,47,34,34,34,34,47,34,47,47,34,47,34,34,47,34,47,34,47,47,47,34,34,47,47,47,47,47,47,34,47,34,34,47,34,34,47,47,47,47,47,47,34,47,34,34,34,34,47,47,34,34,47,34,34,47,47,47,34,34,47,34,34,34,34,34,47,34,47,34,47,34,34,34,47,34,34,34,34,47,47,47,47,47,34,34,47,34,34,47,34,34,34,34,47,34,34,47,47,47,47,47,34,34,47,47,34,47,34,34,34,34,47,34,34,47,47,47,47,47,34,34,34,47,34,34,34,34,34,47,47,47,34,47,34,47,34,47,47,47,34,47,47,47,47,47,34,34,34,47,34,47,34,47,47,47,34,47,34,34,47,34,34,34,47,47,47,47,34,34,47,34,47,34,47,34,34,34,34,34,34,47,47,34,34,47,34,34,47,34,34,47,34,34,47,47,47,34,34,34,47,47,47,47,34,47,47,47,34,47,34,47,47,47,34,47,34,34,47,34,47,47,47,47,34,47,47,34,47,34,47,47,47,34,47,47,47,47,47,34,47,47,34,34,47,34,47,34,34,34,47,47,34,47,34,47,34,34,34,47,47,47,34,47,34,34,47,34,34,34,47,47,47,47,47,47,47,34,47,34,34,47,34,34,47,47,34,47,34,34,34,34,47,34,47,34,47,47,47,47,47,34,47,47,47,34,34,47,47,34,34,47,47,47,34,47,47,34,34,34,47,47,47,34,34,34,47,34,47,47,34,47,47,47,34,47,47,34,47,47,34,47,47,34,34,34,47,47,47,34,47,34,34,47,34,47,34,47,47,34,47,47,47,47,47,34,47,34,47,47,34,34,34,47,47,34,34,47,47,47,47,47,34,34,34,47,47,34,47,47,47,34,34,34,34,47,47,34,34,47,47,47,47,47,34,34,34,47,47,34,47,47,47,34,34,47,34,34,47,34,47,34,47,34,34,47,34,47,47,34,34,47,34,34,34,34,47,34,34,47,47,47,47,47,47,47,34,34,34,34,34,34,34,34,47,47,34,34,47,47,47,47,34,47,47,47,34,34,47,47,34,34,34,34,47,34,34,47,47,34,34,47,47,34,34,34,34,34,34,47,47,34,47,47,34,34,47,34,34,34,34,47,34,34,34,34,34,34,47,47,47,47,34,47,34,34,34,34,47,47,34,34,47,47,47,47,47,34,34,47,47,47,47,47,47,47,47,47,34,34,47,34,47,47,34,47,47,47,34,34,47,47,34,34,47,47,47,34,34,47,34,34,34,34,34,34,47,47,47,47,34,47,47,34,34,47,34,47,34,34,34,47,34,34,47,34,34,34,34,34,47,34,34,47,47,34,34,34,47,47,34,47,47,47,47,47,34,47,34,47,34,34,34,34,47,34,47,34,34,47,47,34,34,47,34,34,34,34,47,47,34,47,34,34,34,34,47,47,47,47,47,47,34,34,47,47,34,34,34,34,34,34,47,34,47,47,34,47,34,47,34,34,34,47,34,34,34,34,34,34,47,47,34,34,47,34,34,47,47,34,34,47,34,34,47,47,34,34,34,34,34,47,34,47,47,47,47,47,34,47,47,34,47,47,34,47,47,34,34,47,34,47,47,47,47,34,47,34,47,34,47,34,47,47,34,47,47,47,47,47,34,34,34,47,47,34,47,47,47,47,34,34,47,47,34,47,34,47,34,34,34,47,34,47,47,34,47,47,34,34,34,47,47,34,34,34,47,47,34,47,47,34,34,34,34,34,47,34,47,34,47,47,34,34,47,34,47,34,34,34,34,47,47,34,47,34,47,34,34,47,34,47,34,34,34,47,47,47,47,34,34,47,47,47,47,34,34,47,47,34,34,47,34,34,47,34,47,47,34,47,34,34,47,47,47,34,47,47,47,47,34,47,34,34,34,34,34,34,34,34,47,34,34,34,34,47,47,47,47,34,47,34,34,34,47,34,34,34,47,34,47,34,34,34,34,47,34,34,34,47,34,47,47,47,34,34,47,47,47,47,47,34,47,47,47,47,34,34,47,34,34,47,34,47,34,47,34,34,47,47,47,34,47,47,34,34,34,47,34,34,47,47,47,34,47,34,34,47,47,47,47,34,34,47,34,47,34,47,34,47,34,34,47,47,47,34,34,34,34,47,34,47,47,47,47,47,34,47,47,47,34,34,47,47,34,47,34,34,34,34,47,34,34,47,34,47,34,47,47,34,34,47,47,34,34,47,34,47,47,34,47,47,34,34,34,34,47,34,47,47,47,34,47,34,34,34,34,34,47,47,34,47,47,47,34,34,47,34,47,34,34,47,34,34,47,47,47,34,47,34,34,34,47,34,34,34,47,47,47,34,34,34,47,47,47,34,34,34,34,34,34,47,34,47,34,34,47,34,34,47,34,47,47,34,47,47,34,47,34,34,47,34,34,34,47,34,47,47,47,34,47,34,47,47,34,47,34,34,47,47,34,34,47,47,47,34,47,47,47,34,34,47,47,34,34,47,34,47,34,34,34,34,47,47,34,47,47,47,47,34,34,47,34,34,34,47,47,34,34,34,47,34,47,34,34,34,47,47,47,47,34,34,47,47,34,47,47,47,47,34,34,47,47,47,34,47,47,47,47,47,47,34,34,47,47,34,34,34,34,47,47,47,34,34,47,47,47,47,47,34,47,34,47,47,34,34,34,47,34,34,34,34,47,47,34,47,47,34,34,47,34,34,47,34,34,34,47,47,34,34,47,34,34,47,47,47,34,34,47,34,47,34,34,34,47,34,47,47,34,34,34,34,34,47,34,47,47,47,47,47,34,34,34,34,47,34,47,34,47,47,34,34,34,47,47,47,47,47,47,34,47,47,47,47,47,34,47,34,34,34,34,47,34,34,34,34,47,47,34,47,34,47,34,47,47,34,34,34,47,34,47,47,47,34,47,34,47,47,34,47,34,47,47,34,47,47,47,47,34,47,34,47,47,47,34,34,47,47,34,47,34,34,34,34,47,34,47,34,47,34,34,34,34,34,47,34,47,47,34,34,34,47,34,34,34,47,47,47,47,34,34,47,34,34,47,47,47,34,47,34,34,47,47,47,34,34,34,34,34,34,47,34,34,34,47,47,47,34,34,34,34,47,47,47,34,34,47,47,47,47,47,34,47,34,34,34,47,34,34,47,47,34,34,47,34,34,47,47,47,34,47,34,47,34,47,47,47,34,47,47,47,34,47,34,47,47,34,47,34,34,47,34,47,34,34,47,47,47,34,47,34,34,47,47,47,47,47,34,47,47,47,34,34,34,34,47,34,47,34,34,34,34,34,34,34,47,47,47,47,34,47,47,47,47,47,34,34,34,47,47,47,47,47,34,34,47,47,34,34,47,47,34,34,47,34,34,34,34,34,47,47,34,34,47,34,34,34,47,47,47,47,47,34,34,34,47,34,34,47,34,47,47,47,47,47,47,34,34,47,47,47,34,34,47,47,47,34,47,34,34,34,47,47,47,47,47,47,47,34,47,34,34,34,34,47,47,34,47,47,34,47,47,34,34,47,47,34,47,47,47,34,34,34,34,34,34,34,34,34,34,47,34,47,34,47,34,34,34,34,47,34,34,34,34,34,34,47,34,47,34,34,34,47,47,34,47,47,34,34,47,34,47,34,47,34,34,47,47,47,34,47,34,47,34,47,47,34,47,34,47,47,34,34,34,34,47,34,47,34,34,34,34,34,34,34,47,47,34,47,34,47,47,34,47,34,34,34,47,47,34,34,47,34,47,47,34,47,34,47,47,34,34,47,47,34,34,34,47,34,34,34,47,47,34,34,47,47,34,47,34,47,34,47,47,34,34,47,34,47,34,47,47,34,47,47,34,47,47,34,34,47,34,34,34,34,47,47,47,34,34,34,47,34,47,47,34,34,34,34,47,34,34,47,47,47,47,47,34,34,34,47,34,47,34,47,34,34,34,34,47,47,47,47,47,34,47,47,34,34,34,47,34,47,34,47,34,47,34,47,34,34,34,47,47,47,34,34,34,47,34,34,34,47,47,47,34,47,34,47,34,34,47,34,47,34,34,34,34,34,47,47,47,47,34,34,34,34,47,34,47,47,34,47,34,34,47,47,47,34,34,47,47,34,47,34,34,34,34,34,34,34,47,47,34,34,47,34,34,34,47,47,47,34,34,34,47,47,34,34,47,34,47,47,34,47,47,47,47,34,34,47,47,47,47,34,34,47,34,47,47,47,47,34,34,34,47,47,34,34,47,34,47,34,47,34,47,47,47,34,47,47,34,47,34,34,34,34,47,34,34,47,34,34,47,47,34,47,34,34,47,47,47,47,34,47,47,34,34,34,34,47,34,34,34,34,47,47,34,34,47,47,34,34,34,47,47,34,34,47,34,47,47,47,47,47,34,34,47,34,47,34,47,47,47,47,47,47,47,34,47,34,47,47,47,47,47,47,47,47,34,34,34,47,47,34,47,34,47,34,34,47,47,47,47,47,34,47,34,47,34,34,47,47,47,47,34,34,34,34,47,34,34,34,34,47,34,47,34,34,47,34,34,47,47,34,34,47,47,47,47,47,34,34,47,34,34,34,34,47,47,34,47,47,47,47,47,47,34,47,47,47,47,47,47,47,47,47,47,34,47,47,34,34,47,47,47,34,47,34,34,34,34,34,34,47,47,47,34,34,34,47,34,34,34,34,47,47,34,34,47,47,47,47,34,47,34,47,47,47,47,47,34,34,34,47,34,34,47,47,34,47,34,34,47,34,47,47,47,34,34,47,34,34,47,34,34,47,47,47,47,47,47,47,47,47,34,47,34,34,34,47,47,34,34,47,34,47,34,34,34,47,47,47,34,47,47,34,34,47,47,34,34,34,47,47,47,47,34,47,47,47,34,34,47,47,34,34,47,47,47,47,47,47,34,34,34,47,34,34,34,47,34,47,47,34,34,47,47,34,47,34,47,47,47,34,34,47,47,34,34,34,34,47,47,47,47,34,34,34,34,34,47,34,34,47,34,47,34,34,34,47,47,47,34,47,34,34,34,47,34,34,47,47,47,47,47,47,34,47,47,34,47,47,34,47,47,34,47,47,47,34,34,47,47,34,34,34,34,34,34,47,34,34,47,34,34,34,34,47,47,47,34,34,47,34,34,34,34,47,34,34,34,47,34,47,47,34,47,34,34,34,47,34,34,34,47,34,47,34,34,47,34,47,47,34,47,47,34,34,34,34,34,34,47,47,47,47,47,34,47,34,34,47,47,34,47,47,34,47,47,47,34,34,47,47,47,34,34,47,34,47,47,47,34,34,34,47,47,47,47,47,47,34,47,47,47,47,47,34,34,34,47,34,34,47,47,47,47,34,47,34,34,34,47,47,34,34,47,47,47,47,47,47,34,47,34,47,47,34,34,47,34,34,34,47,34,47,47,47,34,47,47,34,47,34,34,47,34,34,47,47,47,47,47,34,34,34,47,34,34,34,47,34,47,47,47,47,47,34,47,34,47,47,47,47,34,47,34,47,47,47,47,47,47,47,34,34,34,34,34,47,34,34,47,34,47,34,34,47,47,47,47,47,47,47,34,47,47,47,47,34,34,47,47,34,34,34,47,47,34,34,34,47,34,47,34,34,34,34,47,34,47,47,34,47,47,47,47,47,47,47,47,47,34,47,47,34,47,47,47,47,47,34,47,34,34,34,47,34,34,47,47,47,34,47,34,34,34,47,47,34,34,34,47,47,34,34,47,34,34,47,34,34,34,47,34,34,34,34,34,47,47,47,34,47,47,34,47,47,34,34,47,34,34,34,47,34,34,47,34,34,47,34,34,34,34,34,34,34,34,47,47,47,47,34,34,34,34,47,34,47,47,47,47,47,34,34,34,34,47,47,47,34,47,34,34,47,47,47,47,34,47,34,47,47,47,34,34,34,47,34,47,47,34,34,34,34,34,47,47,34,34,47,47,47,47,34,47,47,34,47,47,34,47,34,34,34,47,34,34,47,34,34,47,34,47,47,34,47,34,47,34,34,34,34,47,34,47,34,34,34,47,47,47,47,47,47,47,34,34,47,34,34,34,47,47,47,34,47,34,34,47,34,47,47,47,47,34,47,47,47,34,34,47,47,47,34,34,47,34,47,34,34,47,34,34,47,34,34,34,47,47,47,34,34,34,47,34,47,34,47,34,34,47,34,34,47,34,47,47,47,34,34,34,47,47,34,47,34,47,34,47,34,34,34,47,47,47,47,34,47,47,34,47,34,34,34,34,34,34,34,34,47,47,34,34,34,34,34,47,34,34,47,47,34,47,34,34,47,47,34,47,34,34,34,34,34,34,47,47,34,34,34,47,47,47,47,47,47,47,34,34,34,47,34,34,47,47,47,47,34,47,47,34,34,47,47,34,47,47,34,34,47,47,47,47,47,34,34,34,34,47,34,47,34,34,47,34,47,47,47,34,34,47,47,47,47,34,47,34,34,47,34,34,47,34,47,47,34,47,34,47,47,47,47,47,47,47,34,34,34,34,34,34,34,34,34,47,34,47,47,47,47,47,47,47,47,34,47,47,47,47,47,47,34,47,47,47,47,34,34,34,47,47,34,47,47,47,47,47,47,34,47,34,34,34,34,34,34,34,47,34,34,47,34,47,47,34,47,34,34,34,47,34,34,34,34,34,47,47,34,34,34,47,47,47,47,47,34,47,47,34,47,34,47,47,47,34,47,34,34,47,47,47,34,47,47,47,47,47,34,47,34,34,47,34,34,47,34,34,47,34,34,47,47,34,34,47,47,47,34,47,47,47,34,47,34,34,47,47,34,34,34,47,34,34,34,34,47,34,34,47,34,34,47,34,47,47,34,47,47,34,34,47,34,34,34,47,34,47,34,34,34,34,34,47,34,34,47,34,34,34,47,34,47,34,47,47,34,34,34,34,34,47,34,47,34,34,47,47,47,34,47,34,34,47,47,47,34,34,34,34,34,34,47,47,34,47,47,47,34,34,34,34,34,34,47,47,47,47,34,34,47,47,47,47,34,34,34,34,34,47,34,47,34,34,47,47,47,47,47,34,34,34,34,47,34,34,34,34,34,34,47,34,47,34,34,47,47,34,34,47,34,47,34,34,34,47,47,34,34,47,47,47,47,34,34,34,47,34,47,47,34,47,34,34,47,34,47,47,34,47,34,34,47,47,47,47,34,47,47,47,34,47,34,34,47,34,34,47,34,47,47,47,34,34,47,34,47,34,34,34,34,47,47,34,34,34,47,34,47,34,47,34,34,34,47,34,34,47,34,34,34,47,34,34,34,47,34,47,47,47,34,47,34,34,47,47,34,47,47,47,47,47,47,47,47,34,34,47,34,34,34,34,34,47,47,47,34,34,34,47,47,34,47,34,34,34,47,47,47,47,34,34,34,34,47,47,47,34,47,34,34,47,47,47,34,47,47,34,34,47,47,34,47,47,47,34,47,47,47,34,47,34,47,47,34,34,34,47,34,47,47,47,34,47,47,47,47,34,34,34,47,34,34,47,47,34,34,34,34,34,47,34,34,47,47,34,34,47,34,34,34,34,47,47,47,47,47,47,34,34,34,34,47,34,34,34,47,47,34,34,47,47,47,47,47,47,47,34,47,47,47,47,34,34,34,34,34,34,34,34,47,34,34,34,47,47,34,34,47,34,34,34,34,47,47,47,47,47,47,34,34,47,47,34,47,47,34,47,47,34,47,34,47,34,47,47,34,47,34,34,47,34,47,34,34,34,47,47,34,34,34,47,34,47,34,34,34,47,34,47,34,47,34,47,47,34,34,47,47,47,34,47,47,47,34,34,47,34,47,47,47,47,34,47,34,47,34,34,47,34,34,47,47,47,47,47,34,47,47,47,47,47,34,47,34,47,34,34,34,47,47,47,34,47,34,34,34,47,47,47,34,47,47,34,34,34,34,34,47,47,47,47,47,47,34,47,34,47,34,34,34,34,47,47,47,47,47,34,34,47,34,47,34,34,34,34]\n",
    "temperatures = [34,34,47,47,34,34,34,47,34,47,47,47,34,34,34,47,47,34,47,47,34,34,34,34,47,34,34,47,34,34,34,47,47,47,47,47,47,34,34,34,47,34,34,47,34,47,47,47,34,47,47,34,47,34,47,47,34,47,47,34,34,47,47,47,34,34,47,47,47,34,34,47,34,34,34,47,47,34,34,47,47,47,47,47,34,34,34,47,47,34,47,34,47,34,34,47,34,47,47,47,47,47,47,34,34,34,47,34,47,34,47,34,34,34,34,47,34,34,34,34,34,34,34,47,34,34,47,47,34,47,47,47,47,47,47,47,34,34,47,34,47,34,47,34,34,34,47,34,34,47,34,47,47,34,47,47,47,47,34,34,34,34,47,47,34,34,34,47,34,34,47,34,34,47,34,34,34,34,47,34,34,34,47,34,34,47,47,34,47,47,34,34,34,34,34,34,47,47,34,47,34,47,34,47,47,47,34,47,34,34,34,34,34,47,47,47,47,47,47,34,47,34,47,34,34,34,47,47,47,34,47,47,34,47,47,47,34,47,47,34,47,47,34,47,34,34,47,47,34,34,34,34,47,34,34,47,47,34,47,47,34,34,34,34,47,47,34,34,47,47,34,47,34,47,34,47,47,47,47,34,34,47,47,34,34,34,47,34,47,47,47,34,47,47,34,34,34,34,34,47,47,34,47,47,34,34,47,34,47,47,34,47,47,47,47,47,47,47,34,34,34,34,47,47,34,47,34,47,47,34,47,47,34,34,34,47,47,47,34,47,34,47,47,47,34,34,34,34,34,34,34,47,34,34,34,34,47,47,34,34,47,34,47,47,34,47,34,34,47,47,47,47,47,47,34,34,47,34,34,47,34,47,47,47,47,47,34,34,34,47,47,34,47,34,34,47,47,47,34,34,47,47,47,34,34,47,47,34,34,47,47,47,47,34,34,34,47,34,34,47,47,34,34,34,47,34,34,47,34,34,34,34,47,34,47,34,47,47,47,34,34,47,47,47,47,47,34,47,34,34,34,34,34,47,47,34,34,47,47,34,34,47,34,47,34,47,34,47,47,47,47,47,47,47,47,47,34,47,47,47,34,47,47,34,34,47,34,47,34,34,47,47,47,47,34,47,34,34,34,47,47,47,34,34,47,47,34,34,34,34,47,47,34,47,34,34,47,47,34,47,34,47,34,47,34,34,47,34,47,34,47,34,47,47,47,47,47,34,34,47,47,34,34,34,47,34,34,34,34,34,47,47,47,34,47,47,47,47,47,47,47,47,34,34,34,34,47,34,47,34,47,47,47,34,34,34,34,47,34,47,34,47,34,47,34,34,34,47,34,47,34,34,47,34,34,47,34,34,47,47,47,34,47,47,47,34,34,34,34,34,34,34,47,34,34,47,34,47,34,47,34,34,34,34,47,47,47,47,34,47,34,34,34,47,34,47,47,47,34,34,47,34,47,47,34,47,34,34,34,47,34,34,34,47,34,34,34,34,34,34,47,47,47,47,34,47,47,34,47,34,47,34,47,34,47,34,34,47,34,47,34,47,34,34,34,34,34,47,47,47,47,47,47,47,47,47,34,47,47,34,34,34,47,34,34,47,47,34,47,47,47,47,47,47,47,34,47,34,47,47,47,47,47,47,34,47,47,34,34,34,47,47,47,47,34,34,47,47,34,34,34,34,34,47,34,34,34,34,47,47,34,47,47,47,47,47,47,47,34,34,47,34,47,34,47,47,47,47,34,47,47,47,34,34,34,34,34,34,47,47,47,34,34,34,47,47,34,47,34,47,47,47,34,47,47,47,47,47,47,47,34,47,47,47,34,34,47,47,34,47,47,34,34,34,47,34,47,34,34,47,34,47,34,34,34,34,47,47,47,34,47,34,47,47,34,47,34,47,34,47,34,47,47,47,34,34,47,34,47,34,47,47,47,47,47,34,47,34,47,34,47,34,34,47,47,47,47,47,34,47,34,47,47,47,47,47,47,47,34,47,47,47,34,34,34,47,34,47,47,47,47,34,47,47,34,47,34,34,47,47,34,34,47,34,47,47,47,47,34,47,47,34,34,34,47,47,34,34,47,34,47,34,47,34,47,47,47,47,34,47,47,34,34,34,47,34,47,34,47,34,34,34,47,34,34,34,34,34,34,47,47,47,34,47,47,47,34,34,34,34,47,34,34,47,34,34,47,47,34,34,47,34,34,47,34,34,47,34,47,47,34,47,47,34,34,47,47,34,34,47,34,34,47,47,34,47,34,34,47,47,47,34,34,47,47,34,34,34,47,47,34,47,34,47,47,34,34,34,47,47,47,47,34,47,47,34,47,47,34,47,34,47,34,47,47,34,34,47,47,47,34,47,47,47,34,34,34,47,47,47,47,34,47,47,34,34,34,34,34,34,34,34,47,34,47,47,34,47,47,34,47,47,47,47,47,34,47,34,34,34,34,47,47,47,47,34,34,34,47,34,34,34,47,47,34,47,47,34,47,34,34,34,47,34,47,47,47,34,34,34,34,47,47,47,34,47,47,47,34,47,34,47,34,34,47,47,47,47,34,47,34,47,34,47,34,34,34,47,34,34,34,47,34,34,47,34,47,34,47,47,34,34,47,34,47,47,47,34,47,34,47,34,47,47,47,47,34,34,34,34,34,34,34,47,47,47,47,34,47,34,34,47,34,47,34,34,34,47,47,34,34,34,47,34,47,47,47,34,34,47,47,47,47,34,34,34,47,47,34,47,34,34,34,34,34,47,47,47,47,47,34,34,34,34,47,47,34,47,47,47,34,34,47,34,34,34,34,34,34,34,47,47,34,47,34,47,47,34,47,47,47,34,34,47,47,34,34,34,47,47,47,34,34,34,34,47,34,47,34,34,47,47,47,47,34,47,34,47,47,47,47,34,34,47,47,47,34,47,34,47,34,34,47,34,47,47,47,34,34,34,34,47,47,47,34,34,47,47,47,34,34,47,34,47,34,47,34,47,34,34,47,47,47,34,47,34,47,47,47,34,34,34,34,34,47,34,47,47,47,47,34,47,47,47,47,34,34,47,47,47,34,34,34,34,34,47,34,47,47,34,47,47,47,34,47,34,47,47,34,47,34,47,34,34,47,34,34,47,34,34,34,34,34,47,34,47,34,47,47,34,47,47,34,34,47,34,34,47,34,34,47,47,34,47,34,34,47,47,47,47,47,34,47,47,47,47,34,34,34,47,47,34,34,34,47,34,34,47,47,34,34,47,34,34,34,47,47,47,34,34,34,47,47,47,34,47,47,34,47,34,34,47,47,47,34,47,34,47,34,34,47,34,34,47,47,34,34,47,47,34,34,47,47,47,34,34,47,34,34,47,47,47,34,34,47,34,34,34,47,47,47,34,34,47,47,34,34,47,47,34,34,47,47,47,47,47,34,47,47,47,34,47,47,34,34,47,34,47,34,34,34,47,47,47,47,47,47,34,34,47,47,47,34,34,34,34,34,34,34,34,47,34,34,34,34,34,47,34,34,34,47,47,34,34,34,47,34,47,47,34,47,34,34,34,47,47,34,47,34,47,34,34,47,34,47,34,34,47,47,34,34,34,47,34,34,34,34,47,34,47,47,34,34,34,47,47,34,34,34,47,47,47,34,34,47,34,47,34,47,34,34,34,47,34,47,34,34,34,47,47,34,34,47,34,47,34,34,34,34,47,47,47,47,47,34,47,47,34,47,34,34,34,34,34,34,34,47,47,34,34,47,47,47,34,34,34,47,34,34,34,34,34,47,34,47,47,34,47,47,34,34,34,34,47,34,34,47,47,34,34,34,34,47,47,47,47,34,47,34,47,47,34,34,47,34,47,47,34,34,34,34,34,34,34,47,34,34,34,47,34,34,34,34,34,47,47,47,47,34,47,47,34,34,47,34,47,47,34,34,34,47,47,34,47,47,47,47,47,34,47,34,34,47,47,34,34,34,47,47,34,34,47,34,34,34,47,34,34,47,47,34,47,34,34,47,47,47,47,34,34,34,34,34,34,34,47,47,47,34,34,47,47,47,34,47,34,47,34,34,47,47,47,47,34,47,34,47,47,34,34,34,34,47,47,47,47,34,34,47,34,34,47,34,34,47,34,47,34,34,47,34,34,34,47,34,34,34,47,47,47,34,47,34,34,47,47,47,34,34,47,34,47,47,34,47,47,47,47,47,34,34,34,47,34,34,34,34,47,34,34,47,34,34,34,34,47,47,34,47,47,34,47,34,34,47,34,47,47,47,34,47,34,34,34,47,47,47,47,34,47,47,34,34,47,47,34,47,47,34,47,34,34,47,34,34,34,34,34,34,47,47,47,34,47,34,34,34,47,47,34,47,34,47,34,47,34,34,47,34,34,34,47,34,34,47,34,34,47,47,47,34,47,47,34,34,47,47,34,34,34,34,34,34,47,47,34,34,47,34,34,47,34,47,47,34,47,47,34,47,34,34,34,47,34,34,47,34,34,34,34,47,47,34,47,34,34,34,47,47,47,34,34,34,47,34,47,34,34,34,34,47,34,34,34,34,34,47,34,34,34,47,47,34,34,34,47,34,34,47,34,34,34,34,47,34,47,34,34,47,34,34,47,47,47,47,47,34,47,34,47,47,47,47,47,47,47,47,47,34,34,34,34,47,47,47,34,47,47,34,47,47,47,47,34,47,34,34,34,47,34,34,47,47,34,47,47,34,34,34,47,34,34,47,47,47,47,47,34,47,34,34,34,47,47,47,47,47,47,34,47,47,47,47,34,47,34,34,34,34,34,34,47,47,34,34,34,34,47,34,47,47,47,34,34,47,47,47,34,47,34,47,47,34,47,47,34,47,47,34,34,47,47,47,47,34,47,47,47,34,47,47,34,34,34,34,34,34,47,34,47,47,47,47,34,34,34,34,47,47,34,47,34,47,47,34,47,34,34,34,47,34,34,47,47,47,47,47,34,34,34,47,34,47,47,34,34,47,34,34,34,47,34,47,34,47,34,47,47,47,34,34,34,34,34,34,47,47,47,47,34,34,47,47,34,34,47,47,47,34,34,34,47,34,34,34,34,34,47,34,34,34,34,34,34,47,34,47,34,34,47,47,47,47,34,34,34,34,47,47,34,47,34,47,34,34,47,34,47,47,47,34,34,34,34,47,34,47,34,47,47,47,34,34,47,47,47,47,34,34,34,47,34,47,47,34,47,34,47,34,47,47,47,47,34,34,47,47,47,47,47,47,47,34,47,34,34,47,47,47,34,47,34,34,47,34,47,47,34,47,47,34,34,34,34,34,47,34,34,34,34,47,34,47,34,34,47,47,47,47,47,34,34,34,47,34,34,47,47,47,47,34,34,34,47,34,34,47,34,47,34,34,47,47,47,34,34,34,47,34,47,47,47,47,34,47,34,47,34,47,34,47,34,34,47,34,47,34,47,47,47,34,34,47,47,34,34,34,47,47,34,34,34,34,34,34,47,34,34,34,47,34,34,34,47,47,34,34,47,47,34,47,47,34,47,34,47,47,47,47,34,34,47,34,34,47,34,34,47,47,34,47,34,34,34,34,34,34,34,47,34,34,47,47,34,47,34,34,34,47,34,34,34,47,47,47,47,47,47,47,47,47,47,34,47,47,47,34,47,34,34,47,34,47,34,47,47,47,34,34,47,34,34,34,47,34,47,34,34,34,47,34,34,47,34,34,34,34,47,47,34,47,34,47,34,47,47,47,34,34,47,34,34,34,47,47,34,34,34,47,47,47,47,34,34,47,47,47,47,34,34,47,47,47,34,34,47,34,47,34,34,34,47,34,34,34,47,34,47,47,34,47,34,34,34,34,47,34,47,34,47,47,47,47,47,34,34,34,47,47,34,34,34,47,47,34,34,34,47,47,47,47,47,34,34,47,47,34,34,47,34,47,47,47,47,47,34,34,47,47,34,34,47,34,34,47,34,34,47,47,47,47,34,34,47,34,34,34,34,34,47,34,47,47,47,47,47,47,34,34,47,34,34,34,47,47,34,47,34,34,34,34,47,34,47,47,34,34,34,34,34,34,47,47,47,47,34,34,47,34,47,34,47,47,34,34,34,34,34,47,34,47,34,34,47,34,47,47,47,34,34,34,34,47,34,47,34,47,47,34,34,47,34,34,34,34,34,47,47,34,47,47,34,47,47,34,34,47,47,47,47,34,47,47,34,34,34,34,34,34,47,34,47,34,47,34,47,34,47,34,47,34,34,47,47,47,47,34,47,34,47,34,34,34,34,47,47,34,34,47,34,34,47,47,34,34,47,47,34,34,34,34,47,47,47,34,47,47,34,47,34,47,47,47,34,47,47,34,47,34,34,34,34,34,34,34,34,47,47,34,34,34,34,47,34,47,47,47,47,47,34,47,47,47,34,47,47,47,47,47,34,47,34,34,47,47,34,47,34,34,34,47,47,34,34,47,47,47,47,34,47,34,47,47,34,34,34,47,47,47,47,34,34,34,47,47,34,34,34,47,34,47,47,47,34,47,34,34,47,34,47,47,34,34,34,34,47,47,47,34,34,34,34,47,47,34,47,47,47,34,34,34,47,47,34,47,34,47,34,47,34,47,47,47,34,34,34,34,34,47,34,47,47,47,47,34,47,34,34,47,34,34,34,47,34,47,34,34,47,47,47,47,34,34,47,34,47,34,34,34,34,34,34,34,47,47,47,34,47,47,34,47,47,34,34,34,34,47,34,47,47,34,34,47,34,47,34,34,34,47,34,47,34,34,34,47,34,34,47,34,47,34,47,34,47,47,34,34,34,34,47,47,34,34,34,34,34,34,34,47,47,34,34,47,47,47,47,34,34,47,34,34,47,34,47,34,34,47,47,47,34,34,47,34,34,34,47,47,47,34,34,47,34,34,34,47,34,34,34,47,34,34,47,34,34,47,34,47,34,34,34,34,47,34,34,34,34,47,34,47,47,47,34,34,34,34,34,47,47,47,47,34,34,47,47,34,47,47,34,34,34,47,34,47,34,47,47,34,34,34,47,47,47,34,47,34,47,34,47,47,47,34,34,47,34,34,47,34,34,47,34,47,34,47,34,34,47,34,34,34,47,34,34,34,47,34,34,47,34,47,34,47,34,34,34,34,47,34,34,47,47,47,47,47,47,34,47,47,34,47,34,34,34,47,34,34,47,47,47,34,34,34,47,34,47,47,47,47,47,47,47,34,34,47,34,47,34,34,47,34,34,47,47,34,34,47,47,47,34,34,34,47,47,34,47,47,34,34,34,47,34,47,47,47,47,47,47,47,47,34,47,34,34,47,47,34,34,34,34,47,34,47,47,34,47,34,47,47,47,34,34,47,34,47,47,47,47,34,34,47,34,34,47,47,34,47,47,47,47,34,47,47,47,47,47,47,47,34,34,47,47,47,34,47,47,34,34,47,47,34,47,34,47,47,47,34,47,47,47,47,47,34,47,47,47,47,34,47,34,34,47,34,47,34,34,34,34,34,34,34,34,34,47,47,34,47,34,47,47,47,34,34,47,34,47,34,47,47,47,47,47,34,34,34,34,34,34,47,47,47,34,34,34,47,47,34,34,47,47,34,47,34,34,47,34,34,34,47,47,34,34,34,47,47,34,47,34,47,47,34,47,34,34,34,34,47,47,47,34,47,47,47,47,47,47,47,47,47,34,47,34,47,34,47,47,34,34,34,34,34,47,47,47,34,34,47,34,47,34,47,34,34,47,34,47,47,47,34,47,34,47,34,34,34,34,47,34,47,47,34,34,34,34,47,34,47,47,47,34,47,47,34,34,47,34,34,34,47,47,47,34,47,47,34,34,34,47,34,47,34,47,47,47,34,34,47,34,34,47,34,34,34,47,34,47,47,47,47,47,47,34,34,34,47,47,47,34,47,47,47,34,47,34,34,34,34,47,47,47,47,34,34,34,34,34,47,47,34,47,34,34,47,34,34,47,34,47,47,34,47,34,34,47,34,34,34,47,47,34,47,34,34,47,47,47,34,47,34,47,47,34,34,47,47,47,47,47,47,47,34,34,47,34,34,47,47,47,47,47,47,47,34,47,47,47,34,34,47,34,47,47,34,34,34,34,47,47,34,34,34,34,34,34,34,34,34,34,47,34,47,47,34,34,34,47,47,47,34,34,34,34,47,34,47,47,34,47,47,47,34,34,34,34,34,47,34,47,47,34,34,34,47,34,34,47,47,47,47,47,34,34,47,47,34,47,34,34,47,34,47,34,47,34,47,47,34,34,34,34,34,47,34,34,34,47,47,47,34,34,47,47,47,47,34,34,34,34,47,47,47,34,34,34,47,47,34,47,34,47,34,47,47,47,47,34,34,47,47,34,34,47,34,47,47,34,47,34,47,47,47,47,34,34,47,47,34,34,47,34,47,34,34,34,47,47,47,47,34,34,47,47,47,34,47,34,34,47,47,34,34,34,47,34,34,47,47,34,47,47,34,34,47,34,47,34,47,34,47,34,47,47,34,47,47,34,47,34,34,34,34,47,47,47,34,47,47,47,47,47,34,47,34,34,47,34,47,34,34,34,34,47,47,47,47,34,47,34,34,34,34,34,47,47,34,34,47,47,34,34,34,34,47,34,34,47,47,34,47,34,47,34,34,47,47,47,47,34,47,34,34,34,34,34,34,34,34,47,47,34,47,34,47,47,47,34,47,34,47,47,34,34,34,47,34,47,34,34,34,34,47,47,34,34,34,47,34,34,34,34,34,47,34,47,47,47,47,34,34,47,47,34,34,47,47,34,47,47,47,34,34,47,34,47,34,47,34,34,47,47,47,47,34,34,34,47,34,47,34,34,47,47,47,34,47,47,47,47,47,47,34,47,47,47,47,47,34,47,34,47,34,34,34,34,47,34,47,34,34,47,34,34,34,34,47,47,47,47,47,47,47,47,34,47,34,34,47,34,47,34,47,47,47,34,47,34,47,34,34,47,47,47,47,47,47,34,34,34,47,47,47,47,34,34,47,34,34,34,34,47,34,34,34,34,34,47,47,47,47,47,47,47,47,47,47,34,47,47,34,47,47,47,34,34,34,47,47,47,47,47,34,47,47,47,47,34,34,34,47,34,34,47,47,34,47,34,34,47,47,47,34,47,47,47,34,34,34,34,34,47,47,47,47,34,47,34,47,47,34,34,34,34,34,47,34,47,34,47,34,34,47,47,47,47,47,34,34,47,47,47,34,47,34,34,47,47,47,47,34,34,34,34,34,34,47,47,34,34,34,34,34,34,47,47,34,47,47,34,34,47,34,47,34,47,34,47,47,34,34,47,47,34,47,34,47,34,47,34,34,34,34,34,34,47,47,34,34,34,47,47,34,34,34,34,47,34,34,34,47,47,34,47,34,34,34,47,47,47,34,47,34,34,47,34,34,47,47,47,47,47,34,34,34,34,47,34,47,34,47,34,34,47,34,47,34,47,34,34,47,47,47,47,34,47,47,47,47,47,47,47,34,47,47,34,47,47,47,34,47,47,47,34,34,47,47,34,47,34,47,47,34,47,47,47,47,34,47,47,47,34,34,47,47,47,34,34,34,34,47,34,47,34,47,34,47,47,34,47,47,34,34,34,47,34,34,34,47,34,34,34,47,34,47,47,34,34,34,47,34,47,47,34,34,47,34,34,47,47,34,34,34,34,47,34,47,34,47,47,34,47,34,34,47,47,47,34,47,47,34,34,47,47,47,34,34,47,34,47,47,47,47,47,34,47,47,34,47,47,47,47,47,47,47,34,34,47,47,47,47,34,34,47,47,47,47,34,47,47,34,34,34,47,34,34,34,34,34,47,34,47,34,34,47,34,47,47,34,34,34,47,34,47,34,47,34,47,34,47,34,47,47,47,34,47,47,34,34,34,34,47,34,34,47,47,34,47,34,34,47,47,34,47,47,34,34,47,34,34,34,47,34,47,47,47,34,47,34,47,47,34,47,34,47,34,47,47,47,34,47,47,47,47,47,34,34,47,47,34,34,34,47,47,47,34,47,34,47,34,47,47,47,34,47,34,47,34,47,34,34,47,47,34,34,47,47,47,34,34,34,47,34,47,34,34,34,47,34,34,47,34,47,47,34,34,34,34,47,47,47,47,47,47,34,47,34,34,47,47,47,34,47,47,47,34,34,34,34,34,47,47,47,47,34,34,47,47,47,47,47,34,34,47,34,47,47,47,34,34,34,34,47,47,34,47,34,47,34,34,34,47,34,47,47,47,34,34,34,47,47,34,34,34,34,47,47,47,47,47,34,34,47,47,34,34,34,34,47,47,47,34,34,34,34,34,34,34,34,47,34,47,34,34,34,47,47,34,34,47,34,47,47,34,34,47,47,47,34,47,34,47,34,34,34,47,47,47,47,47,34,34,34,47,47,47,34,34,34,47,34,34,47,34,34,47,47,34,34,34,34,34,47,47,47,34,47,47,47,34,34,47,34,47,34,34,34,47,34,47,47,34,47,47,47,47,47,47,47,47,47,47,34,34,47,47,47,47,34,47,47,34,47,34,34,47,47,34,47,47,34,47,34,34,34,34,47,47,34,47,34,47,34,47,47,34,47,34,47,34,47,34,47,47,34,47,47,47,47,47,47,34,47,47,34,34,34,34,47,34,47,47,47,34,34,47,34,47,34,34,47,34,34,34,34,34,34,34,47,47,47,47,47,34,34,47,47,47,47,34,34,47,34,34,34,47,47,34,47,47,34,34,47,47,34,47,34,47,34,47,47,47,47,34,34,34,47,34,47,34,34,47,47,34,47,34,34,34,34,47,47,47,34,47,47,47,47,47,47,47,34,34,34,34,34,34,34,34,47,34,34,47,34,47,34,47,34,34,47,47,47,34,47,47,34,47,47,34,47,34,34,47,34,47,34,34,47,34,34,34,34,34,47,47,47,47,47,47,47,34,34,47,47,47,34,47,47,34,47,34,34,34,47,34,34,47,34,47,47,34,47,47,47,47,47,34,34,47,34,34,34,34,47,47,47,47,34,34,34,34,34,34,47,34,34,34,47,34,47,47,34,34,34,47,34,34,34,47,34,47,34,47,34,47,47,34,47,47,34,47,47,47,47,34,34,47,47,47,34,34,47,34,34,34,47,34,34,34,47,47,34,47,47,34,34,34,34,47,47,47,47,47,47,34,34,34,47,34,34,34,34,34,47,34,34,47,34,34,34,47,47,34,47,47,47,47,34,34,47,34,34,47,47,34,47,34,34,47,34,47,34,47,34,47,34,34,34,34,34,34,47,34,34,47,47,34,34,34,47,34,34,34,34,47,34,34,47,47,47,47,34,34,34,47,34,47,34,34,47,47,34,47,47,34,47,47,34,34,34,34,47,47,47,34,34,47,47,47,34,34,47,47,34,47,34,34,34,47,47,47,34,34,34,34,34,34,47,34,47,34,34,34,34,47,47,47,34,47,47,34,47,34,47,47,34,34,47,47,47,34,47,47,34,34,34,34,34,47,34,47,34,47,47,34,34,47,47,34,47,47,34,47,47,34,47,47,47,34,47,34,47,34,34,47,47,47,34,47,34,47,47,47,47,47,47,47,34,34,34,47,47,47,34,47,47,34,47,34,47,47,47,34,47,47,34,47,47,47,47,47,34,34,47,47,34,47,47,34,47,34,34,47,34,34,34,34,34,47,34,34,47,34,34,47,34,47,47,47,34,34,34,47,34,47,34,34,47,47,34,34,34,34,34,34,34,34,47,34,47,47,34,47,34,47,34,34,34,47,34,47,34,47,47,34,47,47,47,47,47,34,34,34,47,34,34,34,47,34,47,47,34,34,34,34,34,34,34,47,47,47,34,34,47,34,34,47,47,47,47,34,47,34,47,34,47,34,47,47,47,47,47,47,47,47,47,47,47,34,47,34,34,34,47,34,34,47,47,47,34,34,47,34,34,34,34,34,47,34,47,47,34,34,34,47,47,47,47,47,47,34,47,34,34,47,47,34,47,47,34,47,34,34,34,34,34,47,34,34,47,34,34,34,34,47,34,34,34,34,47,34,47,34,34,47,47,47,47,47,34,47,34,47,34,34,34,47,34,47,47,47,34,47,34,34,47,34,34,47,47,47,34,34,34,47,34,47,47,47,34,47,47,34,34,34,34,34,34,34,34,34,47,34,47,34,34,34,34,47,47,34,47,34,34,34,47,47,47,47,47,34,34,34,47,34,47,47,47,47,34,47,34,34,34,34,47,47,34,47,34,47,47,47,34,34,34,34,34,47,47,47,47,34,34,34,47,47,47,34,47,47,47,34,47,34,34,47,47,47,34,47,34,34,34,47,34,34,47,47,47,34,34,47,34,34,34,47,47,34,34,34,47,34,47,34,34,47,34,34,34,47,47,47,34,34,34,47,47,34,47,47,34,47,34,47,47,47,34,47,47,34,34,34,47,34,34,34,34,34,34,47,47,34,34,47,34,34,34,34,34,47,34,47,34,47,34,34,47,34,47,47,34,47,34,34,47,34,34,47,47,47,34,47,34,47,47,47,47,34,34,47,47,34,34,34,34,34,47,34,47,34,34,34,47,47,34,34,47,47,34,47,34,47,34,34,47,34,34,47,34,47,34,47,34,47,47,47,34,34,34,34,34,34,47,47,34,34,34,34,34,34,34,34,34,47,34,47,47,34,47,34,47,34,34,47,47,47,34,34,47,34,47,47,34,47,34,34,34,47,34,34,34,47,47,34,34,47,34,34,34,47,34,47,34,34,34,47,47,34,34,47,34,34,34,47,47,34,34,47,34,34,47,34,47,34,47,47,34,47,47,34,34,34,47,34,47,47,47,47,47,47,34,47,34,47,34,34,34,47,47,34,34,47,34,34,47,34,34,47,34,34,34,34,47,34,34,34,34,34,47,47,47,34,47,47,47,34,34,34,34,47,34,34,47,47,34,34,34,47,34,47,47,34,47,47,34,47,34,34,34,47,34,47,47,34,47,34,34,47,47,34,34,47,34,47,47,47,47,34,47,47,34,34,47,47,47,47,47,47,47,47,47,47,47,34,47,34,47,47,47,47,47,34,47,47,34,34,34,34,34,47,34,47,47,34,34,47,34,47,34,34,47,47,34,47,47,47,47,34,47,34,47,34,34,47,47,34,34,34,34,47,47,47,47,34,34,34,47,34,34,47,47,34,47,34,47,34,47,47,34,47,47,47,34,47,34,47,34,34,47,47,47,34,47,47,47,47,47,34,47,47,47,34,34,47,47,47,47,34,34,47,34,34,47,47,34,34,47,34,47,47,34,34,47,34,47,47,47,34,34,47,47,47,34,34,47,34,34,34,47,47,47,47,47,47,34,34,47,34,34,34,34,47,34,34,47,34,47,47,34,47,34,47,47,34,47,47,34,34,47,34,47,34,47,34,47,47,34,47,47,34,47,34,47,34,47,34,34,34,47,47,47,34,34,47,34,34,47,47,47,47,47,47,47,34,34,47,34,34,34,47,34,34,34,47,34,47,34,34,34,47,34,47,47,47,47,34,47,47,34,47,47,47,34,47,34,34,34,47,34,34,34,34,34,47,34,47,47,34,47,47,47,47,34,47,47,47,47,34,47,47,47,47,34,47,47,47,47,47,34,34,34,47,34,34,47,34,47,47,34,47,47,34,34,47,34,34,47,34,47,47,34,34,34,47,47,47,47,34,34,34,47,34,47,47,34,34,47,34,34,47,34,47,47,34,47,47,34,34,34,47,47,47,34,34,47,34,47,47,34,34,47,47,34,47,47,47,47,47,47,47,34,47,47,47,34,34,34,34,47,47,34,47,34,34,47,34,34,34,47,34,34,34,47,34,34,34,47,34,34,34,47,47,34,47,47,34,47,34,47,47,34,34,34,47,34,47,34,47,47,47,34,47,47,47,47,47,34,47,34,47,47,34,34,34,47,34,34,47,47,34,34,34,34,47,47,47,47,47,34,34,47,47,34,47,34,34,34,47,34,34,34,47,34,34,34,34,34,47,47,47,34,47,34,34,34,47,34,34,47,34,47,34,47,34,47,47,34,34,47,34,47,34,34,47,47,34,47,47,34,34,47,47,34,34,34,47,34,34,47,34,47,34,34,47,47,34,34,47,47,47,34,47,47,47,47,47,34,47,34,34,47,34,34,47,47,34,47,34,34,47,34,34,47,47,34,47,34,47,34,47,47,47,47,34,34,47,47,34,47,34,47,34,34,47,34,47,47,47,47,34,34,47,47,47,47,34,47,47,47,47,34,34,47,34,47,47,47,34,34,34,34,34,34,47,47,47,34,34,47,47,47,34,34,34,34,47,34,47,34,47,34,34,34,34,47,47,47,34,47,34,47,34,34,47,47,34,34,47,47,47,34,34,34,34,47,47,47,34,34,47,47,47,47,47,47,34,34,47,47,47,47,34,34,47,34,34,34,34,34,34,47,47,47,47,34,47,34,47,34,34,47,47,47,34,34,47,47,47,34,47,34,47,34,34,47,34,34,34,34,34,34,34,34,34,34,34,47,47,47,34,34,34,47,47,34,34,34,47,47,47,34,47,34,34,34,34,34,34,34,47,34,34,47,47,47,47,34,47,34,34,47,34,34,47,34,34,47,47,47,47,47,47,47,34,34,34,34,47,34,34,34,34,47,34,47,47,34,47,34,34,47,34,47,34,47,47,47,34,34,47,47,47,47,47,47,34,47,34,34,47,34,34,47,47,47,47,47,47,34,47,34,34,34,34,47,47,34,34,47,34,34,47,47,47,34,34,47,34,34,34,34,34,47,34,47,34,47,34,34,34,47,34,34,34,34,47,47,47,47,47,34,34,47,34,34,47,34,34,34,34,47,34,34,47,47,47,47,47,34,34,47,47,34,47,34,34,34,34,47,34,34,47,47,47,47,47,34,34,34,47,34,34,34,34,34,47,47,47,34,47,34,47,34,47,47,47,34,47,47,47,47,47,34,34,34,47,34,47,34,47,47,47,34,47,34,34,47,34,34,34,47,47,47,47,34,34,47,34,47,34,47,34,34,34,34,34,34,47,47,34,34,47,34,34,47,34,34,47,34,34,47,47,47,34,34,34,47,47,47,47,34,47,47,47,34,47,34,47,47,47,34,47,34,34,47,34,47,47,47,47,34,47,47,34,47,34,47,47,47,34,47,47,47,47,47,34,47,47,34,34,47,34,47,34,34,34,47,47,34,47,34,47,34,34,34,47,47,47,34,47,34,34,47,34,34,34,47,47,47,47,47,47,47,34,47,34,34,47,34,34,47,47,34,47,34,34,34,34,47,34,47,34,47,47,47,47,47,34,47,47,47,34,34,47,47,34,34,47,47,47,34,47,47,34,34,34,47,47,47,34,34,34,47,34,47,47,34,47,47,47,34,47,47,34,47,47,34,47,47,34,34,34,47,47,47,34,47,34,34,47,34,47,34,47,47,34,47,47,47,47,47,34,47,34,47,47,34,34,34,47,47,34,34,47,47,47,47,47,34,34,34,47,47,34,47,47,47,34,34,34,34,47,47,34,34,47,47,47,47,47,34,34,34,47,47,34,47,47,47,34,34,47,34,34,47,34,47,34,47,34,34,47,34,47,47,34,34,47,34,34,34,34,47,34,34,47,47,47,47,47,47,47,34,34,34,34,34,34,34,34,47,47,34,34,47,47,47,47,34,47,47,47,34,34,47,47,34,34,34,34,47,34,34,47,47,34,34,47,47,34,34,34,34,34,34,47,47,34,47,47,34,34,47,34,34,34,34,47,34,34,34,34,34,34,47,47,47,47,34,47,34,34,34,34,47,47,34,34,47,47,47,47,47,34,34,47,47,47,47,47,47,47,47,47,34,34,47,34,47,47,34,47,47,47,34,34,47,47,34,34,47,47,47,34,34,47,34,34,34,34,34,34,47,47,47,47,34,47,47,34,34,47,34,47,34,34,34,47,34,34,47,34,34,34,34,34,47,34,34,47,47,34,34,34,47,47,34,47,47,47,47,47,34,47,34,47,34,34,34,34,47,34,47,34,34,47,47,34,34,47,34,34,34,34,47,47,34,47,34,34,34,34,47,47,47,47,47,47,34,34,47,47,34,34,34,34,34,34,47,34,47,47,34,47,34,47,34,34,34,47,34,34,34,34,34,34,47,47,34,34,47,34,34,47,47,34,34,47,34,34,47,47,34,34,34,34,34,47,34,47,47,47,47,47,34,47,47,34,47,47,34,47,47,34,34,47,34,47,47,47,47,34,47,34,47,34,47,34,47,47,34,47,47,47,47,47,34,34,34,47,47,34,47,47,47,47,34,34,47,47,34,47,34,47,34,34,34,47,34,47,47,34,47,47,34,34,34,47,47,34,34,34,47,47,34,47,47,34,34,34,34,34,47,34,47,34,47,47,34,34,47,34,47,34,34,34,34,47,47,34,47,34,47,34,34,47,34,47,34,34,34,47,47,47,47,34,34,47,47,47,47,34,34,47,47,34,34,47,34,34,47,34,47,47,34,47,34,34,47,47,47,34,47,47,47,47,34,47,34,34,34,34,34,34,34,34,47,34,34,34,34,47,47,47,47,34,47,34,34,34,47,34,34,34,47,34,47,34,34,34,34,47,34,34,34,47,34,47,47,47,34,34,47,47,47,47,47,34,47,47,47,47,34,34,47,34,34,47,34,47,34,47,34,34,47,47,47,34,47,47,34,34,34,47,34,34,47,47,47,34,47,34,34,47,47,47,47,34,34,47,34,47,34,47,34,47,34,34,47,47,47,34,34,34,34,47,34,47,47,47,47,47,34,47,47,47,34,34,47,47,34,47,34,34,34,34,47,34,34,47,34,47,34,47,47,34,34,47,47,34,34,47,34,47,47,34,47,47,34,34,34,34,47,34,47,47,47,34,47,34,34,34,34,34,47,47,34,47,47,47,34,34,47,34,47,34,34,47,34,34,47,47,47,34,47,34,34,34,47,34,34,34,47,47,47,34,34,34,47,47,47,34,34,34,34,34,34,47,34,47,34,34,47,34,34,47,34,47,47,34,47,47,34,47,34,34,47,34,34,34,47,34,47,47,47,34,47,34,47,47,34,47,34,34,47,47,34,34,47,47,47,34,47,47,47,34,34,47,47,34,34,47,34,47,34,34,34,34,47,47,34,47,47,47,47,34,34,47,34,34,34,47,47,34,34,34,47,34,47,34,34,34,47,47,47,47,34,34,47,47,34,47,47,47,47,34,34,47,47,47,34,47,47,47,47,47,47,34,34,47,47,34,34,34,34,47,47,47,34,34,47,47,47,47,47,34,47,34,47,47,34,34,34,47,34,34,34,34,47,47,34,47,47,34,34,47,34,34,47,34,34,34,47,47,34,34,47,34,34,47,47,47,34,34,47,34,47,34,34,34,47,34,47,47,34,34,34,34,34,47,34,47,47,47,47,47,34,34,34,34,47,34,47,34,47,47,34,34,34,47,47,47,47,47,47,34,47,47,47,47,47,34,47,34,34,34,34,47,34,34,34,34,47,47,34,47,34,47,34,47,47,34,34,34,47,34,47,47,47,34,47,34,47,47,34,47,34,47,47,34,47,47,47,47,34,47,34,47,47,47,34,34,47,47,34,47,34,34,34,34,47,34,47,34,47,34,34,34,34,34,47,34,47,47,34,34,34,47,34,34,34,47,47,47,47,34,34,47,34,34,47,47,47,34,47,34,34,47,47,47,34,34,34,34,34,34,47,34,34,34,47,47,47,34,34,34,34,47,47,47,34,34,47,47,47,47,47,34,47,34,34,34,47,34,34,47,47,34,34,47,34,34,47,47,47,34,47,34,47,34,47,47,47,34,47,47,47,34,47,34,47,47,34,47,34,34,47,34,47,34,34,47,47,47,34,47,34,34,47,47,47,47,47,34,47,47,47,34,34,34,34,47,34,47,34,34,34,34,34,34,34,47,47,47,47,34,47,47,47,47,47,34,34,34,47,47,47,47,47,34,34,47,47,34,34,47,47,34,34,47,34,34,34,34,34,47,47,34,34,47,34,34,34,47,47,47,47,47,34,34,34,47,34,34,47,34,47,47,47,47,47,47,34,34,47,47,47,34,34,47,47,47,34,47,34,34,34,47,47,47,47,47,47,47,34,47,34,34,34,34,47,47,34,47,47,34,47,47,34,34,47,47,34,47,47,47,34,34,34,34,34,34,34,34,34,34,47,34,47,34,47,34,34,34,34,47,34,34,34,34,34,34,47,34,47,34,34,34,47,47,34,47,47,34,34,47,34,47,34,47,34,34,47,47,47,34,47,34,47,34,47,47,34,47,34,47,47,34,34,34,34,47,34,47,34,34,34,34,34,34,34,47,47,34,47,34,47,47,34,47,34,34,34,47,47,34,34,47,34,47,47,34,47,34,47,47,34,34,47,47,34,34,34,47,34,34,34,47,47,34,34,47,47,34,47,34,47,34,47,47,34,34,47,34,47,34,47,47,34,47,47,34,47,47,34,34,47,34,34,34,34,47,47,47,34,34,34,47,34,47,47,34,34,34,34,47,34,34,47,47,47,47,47,34,34,34,47,34,47,34,47,34,34,34,34,47,47,47,47,47,34,47,47,34,34,34,47,34,47,34,47,34,47,34,47,34,34,34,47,47,47,34,34,34,47,34,34,34,47,47,47,34,47,34,47,34,34,47,34,47,34,34,34,34,34,47,47,47,47,34,34,34,34,47,34,47,47,34,47,34,34,47,47,47,34,34,47,47,34,47,34,34,34,34,34,34,34,47,47,34,34,47,34,34,34,47,47,47,34,34,34,47,47,34,34,47,34,47,47,34,47,47,47,47,34,34,47,47,47,47,34,34,47,34,47,47,47,47,34,34,34,47,47,34,34,47,34,47,34,47,34,47,47,47,34,47,47,34,47,34,34,34,34,47,34,34,47,34,34,47,47,34,47,34,34,47,47,47,47,34,47,47,34,34,34,34,47,34,34,34,34,47,47,34,34,47,47,34,34,34,47,47,34,34,47,34,47,47,47,47,47,34,34,47,34,47,34,47,47,47,47,47,47,47,34,47,34,47,47,47,47,47,47,47,47,34,34,34,47,47,34,47,34,47,34,34,47,47,47,47,47,34,47,34,47,34,34,47,47,47,47,34,34,34,34,47,34,34,34,34,47,34,47,34,34,47,34,34,47,47,34,34,47,47,47,47,47,34,34,47,34,34,34,34,47,47,34,47,47,47,47,47,47,34,47,47,47,47,47,47,47,47,47,47,34,47,47,34,34,47,47,47,34,47,34,34,34,34,34,34,47,47,47,34,34,34,47,34,34,34,34,47,47,34,34,47,47,47,47,34,47,34,47,47,47,47,47,34,34,34,47,34,34,47,47,34,47,34,34,47,34,47,47,47,34,34,47,34,34,47,34,34,47,47,47,47,47,47,47,47,47,34,47,34,34,34,47,47,34,34,47,34,47,34,34,34,47,47,47,34,47,47,34,34,47,47,34,34,34,47,47,47,47,34,47,47,47,34,34,47,47,34,34,47,47,47,47,47,47,34,34,34,47,34,34,34,47,34,47,47,34,34,47,47,34,47,34,47,47,47,34,34,47,47,34,34,34,34,47,47,47,47,34,34,34,34,34,47,34,34,47,34,47,34,34,34,47,47,47,34,47,34,34,34,47,34,34,47,47,47,47,47,47,34,47,47,34,47,47,34,47,47,34,47,47,47,34,34,47,47,34,34,34,34,34,34,47,34,34,47,34,34,34,34,47,47,47,34,34,47,34,34,34,34,47,34,34,34,47,34,47,47,34,47,34,34,34,47,34,34,34,47,34,47,34,34,47,34,47,47,34,47,47,34,34,34,34,34,34,47,47,47,47,47,34,47,34,34,47,47,34,47,47,34,47,47,47,34,34,47,47,47,34,34,47,34,47,47,47,34,34,34,47,47,47,47,47,47,34,47,47,47,47,47,34,34,34,47,34,34,47,47,47,47,34,47,34,34,34,47,47,34,34,47,47,47,47,47,47,34,47,34,47,47,34,34,47,34,34,34,47,34,47,47,47,34,47,47,34,47,34,34,47,34,34,47,47,47,47,47,34,34,34,47,34,34,34,47,34,47,47,47,47,47,34,47,34,47,47,47,47,34,47,34,47,47,47,47,47,47,47,34,34,34,34,34,47,34,34,47,34,47,34,34,47,47,47,47,47,47,47,34,47,47,47,47,34,34,47,47,34,34,34,47,47,34,34,34,47,34,47,34,34,34,34,47,34,47,47,34,47,47,47,47,47,47,47,47,47,34,47,47,34,47,47,47,47,47,34,47,34,34,34,47,34,34,47,47,47,34,47,34,34,34,47,47,34,34,34,47,47,34,34,47,34,34,47,34,34,34,47,34,34,34,34,34,47,47,47,34,47,47,34,47,47,34,34,47,34,34,34,47,34,34,47,34,34,47,34,34,34,34,34,34,34,34,47,47,47,47,34,34,34,34,47,34,47,47,47,47,47,34,34,34,34,47,47,47,34,47,34,34,47,47,47,47,34,47,34,47,47,47,34,34,34,47,34,47,47,34,34,34,34,34,47,47,34,34,47,47,47,47,34,47,47,34,47,47,34,47,34,34,34,47,34,34,47,34,34,47,34,47,47,34,47,34,47,34,34,34,34,47,34,47,34,34,34,47,47,47,47,47,47,47,34,34,47,34,34,34,47,47,47,34,47,34,34,47,34,47,47,47,47,34,47,47,47,34,34,47,47,47,34,34,47,34,47,34,34,47,34,34,47,34,34,34,47,47,47,34,34,34,47,34,47,34,47,34,34,47,34,34,47,34,47,47,47,34,34,34,47,47,34,47,34,47,34,47,34,34,34,47,47,47,47,34,47,47,34,47,34,34,34,34,34,34,34,34,47,47,34,34,34,34,34,47,34,34,47,47,34,47,34,34,47,47,34,47,34,34,34,34,34,34,47,47,34,34,34,47,47,47,47,47,47,47,34,34,34,47,34,34,47,47,47,47,34,47,47,34,34,47,47,34,47,47,34,34,47,47,47,47,47,34,34,34,34,47,34,47,34,34,47,34,47,47,47,34,34,47,47,47,47,34,47,34,34,47,34,34,47,34,47,47,34,47,34,47,47,47,47,47,47,47,34,34,34,34,34,34,34,34,34,47,34,47,47,47,47,47,47,47,47,34,47,47,47,47,47,47,34,47,47,47,47,34,34,34,47,47,34,47,47,47,47,47,47,34,47,34,34,34,34,34,34,34,47,34,34,47,34,47,47,34,47,34,34,34,47,34,34,34,34,34,47,47,34,34,34,47,47,47,47,47,34,47,47,34,47,34,47,47,47,34,47,34,34,47,47,47,34,47,47,47,47,47,34,47,34,34,47,34,34,47,34,34,47,34,34,47,47,34,34,47,47,47,34,47,47,47,34,47,34,34,47,47,34,34,34,47,34,34,34,34,47,34,34,47,34,34,47,34,47,47,34,47,47,34,34,47,34,34,34,47,34,47,34,34,34,34,34,47,34,34,47,34,34,34,47,34,47,34,47,47,34,34,34,34,34,47,34,47,34,34,47,47,47,34,47,34,34,47,47,47,34,34,34,34,34,34,47,47,34,47,47,47,34,34,34,34,34,34,47,47,47,47,34,34,47,47,47,47,34,34,34,34,34,47,34,47,34,34,47,47,47,47,47,34,34,34,34,47,34,34,34,34,34,34,47,34,47,34,34,47,47,34,34,47,34,47,34,34,34,47,47,34,34,47,47,47,47,34,34,34,47,34,47,47,34,47,34,34,47,34,47,47,34,47,34,34,47,47,47,47,34,47,47,47,34,47,34,34,47,34,34,47,34,47,47,47,34,34,47,34,47,34,34,34,34,47,47,34,34,34,47,34,47,34,47,34,34,34,47,34,34,47,34,34,34,47,34,34,34,47,34,47,47,47,34,47,34,34,47,47,34,47,47,47,47,47,47,47,47,34,34,47,34,34,34,34,34,47,47,47,34,34,34,47,47,34,47,34,34,34,47,47,47,47,34,34,34,34,47,47,47,34,47,34,34,47,47,47,34,47,47,34,34,47,47,34,47,47,47,34,47,47,47,34,47,34,47,47,34,34,34,47,34,47,47,47,34,47,47,47,47,34,34,34,47,34,34,47,47,34,34,34,34,34,47,34,34,47,47,34,34,47,34,34,34,34,47,47,47,47,47,47,34,34,34,34,47,34,34,34,47,47,34,34,47,47,47,47,47,47,47,34,47,47,47,47,34,34,34,34,34,34,34,34,47,34,34,34,47,47,34,34,47,34,34,34,34,47,47,47,47,47,47,34,34,47,47,34,47,47,34,47,47,34,47,34,47,34,47,47,34,47,34,34,47,34,47,34,34,34,47,47,34,34,34,47,34,47,34,34,34,47,34,47,34,47,34,47,47,34,34,47,47,47,34,47,47,47,34,34,47,34,47,47,47,47,34,47,34,47,34,34,47,34,34,47,47,47,47,47,34,47,47,47,47,47,34,47,34,47,34,34,34,47,47,47,34,47,34,34,34,47,47,47,34,47,47,34,34,34,34,34,47,47,47,47,47,47,34,47,34,47,34,34,34,34,47,47,47,47,47,34,34,47,34,47,34,34,34,34]\n",
    "temperatures = [73,74,75,71,69,72,76,73]\n",
    "temp = set(temperatures)\n",
    "temp = sorted(temp)\n",
    "print(temp)\n",
    "dict1 = dict()\n",
    "for i in range(len(temp)):\n",
    "    if i < len(temp)-1:\n",
    "        dict1[temp[i]]=temp[i+1]\n",
    "    else:\n",
    "        dict1[temp[i]]=0\n",
    "print(dict1)   \n",
    "stack =[]\n",
    "for i in range(len(temperatures)):\n",
    "    t = dict1.get(temperatures[i])\n",
    "    print('i {}'.format(i))\n",
    "    print('t {}'.format(t))\n",
    "    try:\n",
    "        if t != 0 and i < len(temperatures):\n",
    "            indx = temperatures.index(t,i)\n",
    "            stack.append(indx-i)\n",
    "        else:\n",
    "            stack.append(t)\n",
    "    except ValueError:\n",
    "        stack.append(0)\n",
    "    #print(t)\n",
    "print(stack)\n",
    "    "
   ]
  },
  {
   "cell_type": "code",
   "execution_count": null,
   "id": "2a6b2c2a",
   "metadata": {},
   "outputs": [],
   "source": [
    "for i in range(len(temperatures)):\n",
    "    for j in range(i,len(temperatures)):\n",
    "        if j < len(temperatures)-1 and temperatures[i]< temperatures[j+1]:\n",
    "            stack.append((j+1)-i)\n",
    "            break\n",
    "        elif j == len(temperatures)-1:\n",
    "            stack.append(0)\n",
    "        \n",
    "print(stack)\n"
   ]
  },
  {
   "cell_type": "code",
   "execution_count": null,
   "id": "40c32766",
   "metadata": {},
   "outputs": [],
   "source": [
    "list2 = ['cat', 'bat', 'mat', 'cat', \n",
    "         'get', 'cam', 'sat', 'pet']\n",
    "  \n",
    "# Will print index of 'cat' in sublist\n",
    "# having index from 2 to 6\n",
    "print(list2.index('cat', 4, 7 ))"
   ]
  },
  {
   "cell_type": "code",
   "execution_count": null,
   "id": "9054ddfa",
   "metadata": {},
   "outputs": [],
   "source": [
    "low = 6\n",
    "high = 11\n",
    "count = 0\n",
    "if high%2 != 0 and low%2 !=0:\n",
    "     print((((high+1)-low)//2)+1)\n",
    "else:\n",
    "    print(((high+1)-low)//2)"
   ]
  },
  {
   "cell_type": "code",
   "execution_count": null,
   "id": "42cf632e",
   "metadata": {},
   "outputs": [],
   "source": [
    "lowLimit = 1\n",
    "highLimit = 10\n",
    "lowLimit = 5\n",
    "highLimit = 15\n",
    "lowLimit = 19\n",
    "highLimit = 28\n",
    "dict1 = defaultdict(list)\n",
    "for x in range(lowLimit,highLimit+1):\n",
    "    sum1 = 0\n",
    "    for y in str(x):\n",
    "        sum1 = sum1+int(y)\n",
    "    dict1[sum1].append(x)\n",
    "print(dict1)\n",
    "max_length = max([len(dict1.get(x)) for x in dict1])\n",
    "#stack = sum(1 for x in dict1 if len(dict1.get(x)) == max_length)\n",
    "print(max_length)"
   ]
  },
  {
   "cell_type": "code",
   "execution_count": null,
   "id": "944aaca7",
   "metadata": {},
   "outputs": [],
   "source": [
    "deliciousness = [1,3,5,7,9]\n",
    "deliciousness = [1,1,7,3,3,3,3]\n",
    "deliciousness = [149,107,1,63,0,1,6867,1325,5611,2581,39,89,46,18,12,20,22,234]\n",
    "deliciousness= sorted(deliciousness)\n",
    "temp = deliciousness[len(deliciousness)-1]+deliciousness[len(deliciousness)-2]\n",
    "p = 0\n",
    "i = 0\n",
    "stack = []\n",
    "while p < temp:\n",
    "    p = pow(2,i)\n",
    "    stack.append(p)\n",
    "    i = i+1\n",
    "count = 0\n",
    "for i in range(len(deliciousness)):\n",
    "    for j in range(i+1,len(deliciousness)):\n",
    "        if deliciousness[i]+deliciousness[j] in stack:\n",
    "                count = count+1\n",
    "print(count)"
   ]
  },
  {
   "cell_type": "code",
   "execution_count": null,
   "id": "ea2d1ae8",
   "metadata": {},
   "outputs": [],
   "source": [
    "arr = [1,4,2,5,3]\n",
    "stack = []\n",
    "sum1 = 0\n",
    "for i in range(1, len(arr)+1):\n",
    "    if i%2 !=0:\n",
    "        for j in range(len(arr)):\n",
    "            if i+j <= len(arr):\n",
    "                stack.append(sum(arr[j:i+j]))\n",
    "print(sum(stack))"
   ]
  },
  {
   "cell_type": "code",
   "execution_count": null,
   "id": "f03e30e9",
   "metadata": {},
   "outputs": [],
   "source": [
    "gain = [-5,1,5,0,-7]\n",
    "gain = [-4,-3,-2,-1,4,3,2]\n",
    "temp = 0\n",
    "stack = []\n",
    "stack.append(temp)\n",
    "for x in gain: \n",
    "    temp = temp +x\n",
    "    stack.append(temp)\n",
    "print(max(stack))\n",
    "    \n",
    "    "
   ]
  },
  {
   "cell_type": "code",
   "execution_count": null,
   "id": "c689c344",
   "metadata": {},
   "outputs": [],
   "source": [
    "nums = [1,2,3,1,1,3]\n",
    "nums = [1,1,1,1]\n",
    "nums = [1,2,3]\n",
    "\n",
    "stack = []\n",
    "for i in range(len(nums)):\n",
    "    for j in range(i+1,len(nums)):\n",
    "        if i < j and nums[i]==nums[j]:\n",
    "            stack.append([i,j])\n",
    "print(len(stack))"
   ]
  },
  {
   "cell_type": "code",
   "execution_count": null,
   "id": "1a952e77",
   "metadata": {},
   "outputs": [],
   "source": [
    "numBottles = 9\n",
    "numExchange = 3\n",
    "numBottles = 15\n",
    "numExchange = 4\n",
    "\n",
    "sum1 = numBottles\n",
    "while numBottles >= numExchange:\n",
    "    q, rem = divmod(numBottles,numExchange)\n",
    "    numBottles = q+rem \n",
    "    sum1 = sum1+q\n",
    "    print(numBottles)\n",
    "print(sum1)"
   ]
  },
  {
   "cell_type": "code",
   "execution_count": null,
   "id": "f4f28cf8",
   "metadata": {},
   "outputs": [],
   "source": [
    "nums = [34,23,1,24,75,33,54,8]\n",
    "#nums = [99,77,33,66,55]\n",
    "minimum = min(nums)\n",
    "sum1 = 0\n",
    "for x in str(minimum):\n",
    "    sum1 = sum1+int(x)\n",
    "if sum1%2 ==0:\n",
    "    print(1)\n",
    "else:\n",
    "    print(0)"
   ]
  },
  {
   "cell_type": "code",
   "execution_count": null,
   "id": "681f2bc7",
   "metadata": {},
   "outputs": [],
   "source": [
    "n = 3\n",
    "\n"
   ]
  },
  {
   "cell_type": "code",
   "execution_count": null,
   "id": "50504a57",
   "metadata": {},
   "outputs": [],
   "source": [
    "3//2"
   ]
  },
  {
   "cell_type": "code",
   "execution_count": null,
   "id": "c8b8b851",
   "metadata": {},
   "outputs": [],
   "source": [
    "n = 6\n",
    "\n",
    "x = 0\n",
    "y = 1\n",
    "if n ==0:\n",
    "    print(0)\n",
    "\n",
    "i = 0   \n",
    "while i < n:\n",
    "    pre = x\n",
    "    x = x+y\n",
    "    y = pre\n",
    "    i = i+1\n",
    "print(x)\n",
    "    "
   ]
  },
  {
   "cell_type": "code",
   "execution_count": null,
   "id": "6b67c0cb",
   "metadata": {},
   "outputs": [],
   "source": [
    "cost = [10,15,20]\n",
    "cost = [1,15,1]\n",
    "cost = [1,1,15]\n",
    "cost = [1,100,1,1,1,100,1,1,100,1]\n",
    "sum1 = 0\n",
    "prev1 = 0\n",
    "prev2 = 0\n",
    "for i in range(2, len(cost)):\n",
    "    tmp = prev1\n",
    "    prev1 = min(prev2+cost[i-2], prev1+cost[i-1])\n",
    "    prev2 = tmp\n",
    "print(min(prev1+cost[-1], prev2+cost[-2]))"
   ]
  },
  {
   "cell_type": "code",
   "execution_count": null,
   "id": "64277e46",
   "metadata": {},
   "outputs": [],
   "source": [
    "num = 19\n",
    "print(int(num**0.5))\n",
    "print(int(num**0.5)*int(num**0.5))\n",
    "num == (int(num**0.5)*int(num**0.5))\n"
   ]
  },
  {
   "cell_type": "code",
   "execution_count": null,
   "id": "9143224f",
   "metadata": {},
   "outputs": [],
   "source": [
    "16*16"
   ]
  },
  {
   "cell_type": "code",
   "execution_count": null,
   "id": "84686bcc",
   "metadata": {},
   "outputs": [],
   "source": [
    "numRows = 5\n",
    "res = []\n",
    "for i in range(1, numRows+1):\n",
    "    res.append([1]*i)\n",
    "#for i in range(2, numRows+1):\n",
    "#    for j in range(1,i):\n",
    "        \n",
    "print(res)"
   ]
  },
  {
   "cell_type": "code",
   "execution_count": null,
   "id": "14466789",
   "metadata": {},
   "outputs": [],
   "source": [
    "res[2][]"
   ]
  },
  {
   "cell_type": "code",
   "execution_count": null,
   "id": "c5e552c1",
   "metadata": {},
   "outputs": [],
   "source": [
    "for(i=0;i<n;i++){\n",
    "            for(j=0;j<=i;j++)\n",
    "                if(j==0 || j==i)\n",
    "                    a[i][j]=1;\n",
    "                else\n",
    "                    a[i][j]=a[i-1][j-1]+a[i-1][j];\n",
    "        }\n",
    "        //displaying the Pascal's Triangle as the output.\n",
    "        System.out.println(\"\\nOUTPUT:\\n\");\n",
    "        for(i=0;i<n;i++)\n",
    "        {\n",
    "            for(j=0;j<=i;j++)\n",
    "                System.out.print(a[i][j]+\"\\t\");\n",
    "\n",
    "            System.out.println();\n",
    "        }"
   ]
  },
  {
   "cell_type": "code",
   "execution_count": null,
   "id": "3741f11d",
   "metadata": {},
   "outputs": [],
   "source": [
    "res = []\n",
    "for i in range(1, numRows+1):\n",
    "    res.append([1]*i)\n",
    "print(res)\n",
    "n= 6\n",
    "for i in range(2,numRows):\n",
    "    print(i)\n",
    "    for j in range(1,i):\n",
    "        print(\"j {}\".format(j))\n",
    "        print(\"i {}\".format(i))\n",
    "        res[i][j]=res[i-1][j-1]+res[i-1][j];\n",
    "print(res)"
   ]
  },
  {
   "cell_type": "code",
   "execution_count": null,
   "id": "f07a662b",
   "metadata": {},
   "outputs": [],
   "source": [
    "res[0][0]"
   ]
  },
  {
   "cell_type": "code",
   "execution_count": null,
   "id": "cb2f9219",
   "metadata": {},
   "outputs": [],
   "source": [
    "nums = [10,2]\n",
    "for x in nums:\n",
    "    y = str(x)\n",
    "    print(y[-1])\n",
    "    "
   ]
  },
  {
   "cell_type": "code",
   "execution_count": null,
   "id": "6479d8bb",
   "metadata": {},
   "outputs": [],
   "source": [
    "for i in range(len(nums)):\n",
    "    for j in range(i+1,len(nums)):\n",
    "        y = str(nums[i])\n",
    "        z = str(nums[j])\n",
    "        if y[-1] > z[-1]:\n",
    "            "
   ]
  },
  {
   "cell_type": "code",
   "execution_count": null,
   "id": "4b8c15c9",
   "metadata": {},
   "outputs": [],
   "source": [
    "nums = [28,23,45,12,67,54,22,12]\n",
    "nums = [3,30,34,5,9]\n",
    "for i in range(len(nums)):\n",
    "    for j in range(i+1,len(nums)):\n",
    "        if nums[i]>nums[j]:\n",
    "            temp = nums[j]\n",
    "            nums[j]=nums[i]\n",
    "            nums[i]=temp\n",
    "print(nums)"
   ]
  },
  {
   "cell_type": "code",
   "execution_count": null,
   "id": "c5ba2bac",
   "metadata": {},
   "outputs": [],
   "source": [
    "nums = [3,30,34,5,9]\n",
    "nums = [3,30,34,5,9]\n",
    "nums = [str(x) for x in nums] \n",
    "print(nums)\n",
    "for i in range(len(nums)):\n",
    "    for j in range(i+1,len(nums)):\n",
    "        print(\"[i]+[j] : {}\".format(nums[i]+nums[j]))\n",
    "        print(\"nums[j]+nums[i] : {}\".format(nums[j]+nums[i]))\n",
    "        if int(nums[i]+nums[j]) > int(nums[j]+nums[i]):\n",
    "            temp = nums[j]\n",
    "            nums[j]=nums[i]\n",
    "            nums[i]=temp\n",
    "#l = [str(x) for x in nums]            \n",
    "print(''.join(nums[::-1]))"
   ]
  },
  {
   "cell_type": "code",
   "execution_count": null,
   "id": "34217274",
   "metadata": {},
   "outputs": [],
   "source": [
    "y = '2'\n",
    "if len(y) > 1:\n",
    "    print(True)\n",
    "else:\n",
    "    print(False)\n",
    "    "
   ]
  },
  {
   "cell_type": "code",
   "execution_count": null,
   "id": "c4103bfc",
   "metadata": {},
   "outputs": [],
   "source": [
    "score = [5,2,3,4,1]\n",
    "score = [10,3,8,9,4]\n",
    "score1 = sorted(score,reverse=True)\n",
    "stack = []\n",
    "for x in score:\n",
    "    if x == score1[0]:\n",
    "        stack.append(\"Gold Medal\")\n",
    "    elif x == score1[1]:\n",
    "        stack.append(\"Silver Medal\")\n",
    "    elif x == score1[2]:\n",
    "        stack.append(\"Bronze Medal\")\n",
    "    else:\n",
    "        j = 3\n",
    "        while j < len(score1):\n",
    "            if x == score1[j]:\n",
    "                stack.append(j+1)\n",
    "                break\n",
    "            else:\n",
    "                j = j+1\n",
    "print(score)\n",
    "print(score1)\n",
    "print(stack)"
   ]
  },
  {
   "cell_type": "code",
   "execution_count": null,
   "id": "8948c19d",
   "metadata": {},
   "outputs": [],
   "source": [
    "sort = sorted(nums)[::-1]\n",
    "rank = [\"Gold Medal\", \"Silver Medal\", \"Bronze Medal\"] + map(str, range(4, len(nums) + 1))\n",
    "print(map(dict(zip(sort, rank)).get, nums))"
   ]
  },
  {
   "cell_type": "code",
   "execution_count": null,
   "id": "8de0ebce",
   "metadata": {},
   "outputs": [],
   "source": [
    "numbers = (1, 2, 3, 4)\n",
    "def addition(n):\n",
    "    return n+n\n",
    "result = map(addition, numbers)\n",
    "print(list(result))"
   ]
  },
  {
   "cell_type": "code",
   "execution_count": null,
   "id": "10181223",
   "metadata": {},
   "outputs": [],
   "source": [
    "numbers = (1, 2, 3, 4)\n",
    "result = map(lambda n: n+n,numbers)\n",
    "print(list(result))"
   ]
  },
  {
   "cell_type": "code",
   "execution_count": null,
   "id": "51dca587",
   "metadata": {},
   "outputs": [],
   "source": [
    "\n",
    "# Add two lists using map and lambda\n",
    "  \n",
    "numbers1 = [1, 2, 3]\n",
    "numbers2 = [4, 5, 6]\n",
    "\n",
    "result = map(lambda n1,n2:n1+n2,numbers1,numbers2)\n",
    "print(list(result))"
   ]
  },
  {
   "cell_type": "code",
   "execution_count": null,
   "id": "0d4074dd",
   "metadata": {},
   "outputs": [],
   "source": [
    "# List of strings\n",
    "l = ['sat', 'bat', 'cat', 'mat']\n",
    "\n",
    "result = map(list,l)\n",
    "print(list(result))"
   ]
  },
  {
   "cell_type": "code",
   "execution_count": null,
   "id": "e73261c1",
   "metadata": {},
   "outputs": [],
   "source": [
    "a = (\"John\", \"Charles\", \"Mike\")\n",
    "b = (\"Jenny\", \"Christy\", \"Monica\")\n",
    "x = zip(a,b)\n",
    "print(list(x))"
   ]
  },
  {
   "cell_type": "code",
   "execution_count": null,
   "id": "3d8f41b2",
   "metadata": {},
   "outputs": [],
   "source": [
    "name = [ \"Manjeet\", \"Nikhil\", \"Shambhavi\", \"Astha\" ]\n",
    "roll_no = [ 4, 1, 3, 2 ]\n",
    "\n",
    "mapped = zip(name,roll_no)\n",
    "print(set(mapped))"
   ]
  },
  {
   "cell_type": "code",
   "execution_count": null,
   "id": "286c6032",
   "metadata": {},
   "outputs": [],
   "source": [
    "names = ['Mukesh', 'Roni', 'Chari']\n",
    "ages = [24, 50, 18]\n",
    "\n",
    "for i , (name,age) in enumerate(zip(names,ages)):\n",
    "    print(i,name,age)"
   ]
  },
  {
   "cell_type": "code",
   "execution_count": null,
   "id": "27aabf7a",
   "metadata": {},
   "outputs": [],
   "source": [
    "stocks = ['reliance', 'infosys', 'tcs']\n",
    "prices = [2175, 1127, 2750]\n",
    "new_dict = dict()\n",
    "for (stock,price) in zip(stocks,prices):\n",
    "    new_dict[stock] = price\n",
    "print(new_dict)\n",
    "\n",
    "new_dict1 = {stock:price for stock,price in zip(stocks,prices)}\n",
    "print(new_dict1)"
   ]
  },
  {
   "cell_type": "code",
   "execution_count": null,
   "id": "1b407410",
   "metadata": {},
   "outputs": [],
   "source": [
    "name = [\"Manjeet\", \"Nikhil\", \"Shambhavi\", \"Astha\"]\n",
    "roll_no = [4, 1, 3, 2]\n",
    "marks = [40, 50, 60, 70]\n",
    "\n",
    "mapped = zip(name,roll_no,marks)\n",
    "mapped = list(mapped)\n",
    "print(mapped)"
   ]
  },
  {
   "cell_type": "code",
   "execution_count": null,
   "id": "e0e35deb",
   "metadata": {},
   "outputs": [],
   "source": [
    "# unzipping \n",
    "\n",
    "name1,roll_no1,marks1 = zip(*mapped)"
   ]
  },
  {
   "cell_type": "code",
   "execution_count": null,
   "id": "6970931f",
   "metadata": {},
   "outputs": [],
   "source": [
    "print(name1)\n",
    "print(roll_no1)\n",
    "print(marks1)\n"
   ]
  },
  {
   "cell_type": "code",
   "execution_count": null,
   "id": "71eebcbe",
   "metadata": {},
   "outputs": [],
   "source": [
    "\n",
    "score = [10,3,8,9,4]\n",
    "sort = sorted(score)[::-1]\n",
    "rank = [\"Gold Medal\", \"Silver Medal\", \"Bronze Medal\"] + list(map(str, range(4, len(score) + 1)))\n",
    "mapped = map(dict(zip(sort, rank)).get,score)\n",
    "print(list(mapped))\n",
    "print(sort)\n",
    "print(score)\n",
    "print(rank)"
   ]
  },
  {
   "cell_type": "code",
   "execution_count": null,
   "id": "afe37b26",
   "metadata": {},
   "outputs": [],
   "source": [
    "0"
   ]
  },
  {
   "cell_type": "code",
   "execution_count": null,
   "id": "6039ee02",
   "metadata": {},
   "outputs": [],
   "source": [
    "nums = [1,2,3]\n",
    "nums = [1,2,3,4]\n",
    "nums = [-1,-2,-3]\n",
    "nums = sorted(nums,reverse=True)\n",
    "prod = 1\n",
    "for x in nums[:3]:\n",
    "    prod = prod*x\n",
    "print(prod)"
   ]
  },
  {
   "cell_type": "code",
   "execution_count": null,
   "id": "23578261",
   "metadata": {},
   "outputs": [],
   "source": [
    "nums = [-100,-98,-1,2,3,4]\n",
    "nums = sorted(nums)\n",
    "p=nums[-1]*nums[-2]*nums[-3]\n",
    "p1=nums[0]*nums[1]*nums[-1]\n",
    "p2=nums[0]*nums[1]*nums[2]\n",
    "print(max(p,p1,p2))\n",
    "print(nums)"
   ]
  },
  {
   "cell_type": "code",
   "execution_count": null,
   "id": "fd46bcab",
   "metadata": {},
   "outputs": [],
   "source": [
    "nums = [2,3,-2,4]\n",
    "nums = [-2,0,-1]\n",
    "nums = [-2]\n",
    "nums = [0,2]\n",
    "[-2,3,-4]\n",
    "stack = []\n",
    "for i in range(len(nums)):\n",
    "    stack.append(nums[i])\n",
    "    if i < len(nums)-1:\n",
    "        stack.append(nums[i]*nums[i+1])\n",
    "print(max(stack))"
   ]
  },
  {
   "cell_type": "code",
   "execution_count": null,
   "id": "85059601",
   "metadata": {},
   "outputs": [],
   "source": [
    "nums1 = [1,1,3,2]\n",
    "nums2 = [2,3]\n",
    "nums3 = [3]\n",
    "nums1 = [3,1]\n",
    "nums2 = [2,3]\n",
    "nums3 = [1,2]\n",
    "nums1 = [1,2,2]\n",
    "nums2 = [4,3,3]\n",
    "nums3 = [5]\n",
    "s = set(nums1+nums2+nums3)\n",
    "stack=[]\n",
    "for x in s:\n",
    "    count = 0\n",
    "    if x in nums1:\n",
    "        count = count+1\n",
    "    if x in nums2:\n",
    "        count = count+1\n",
    "    if x in nums3:\n",
    "        count = count+1\n",
    "    if count >1:\n",
    "        stack.append(x)\n",
    "print(stack)        "
   ]
  },
  {
   "cell_type": "code",
   "execution_count": null,
   "id": "3d206c56",
   "metadata": {},
   "outputs": [],
   "source": [
    "nums = [1,3,5,6]\n",
    "target = 5\n",
    "nums = [1,3,5,6]\n",
    "target = 2\n",
    "nums = [1,3,5,6]\n",
    "target = 7\n",
    "\n",
    "for i in range(len(nums)):\n",
    "    if nums[i] == target:\n",
    "        print(i)\n",
    "        break\n",
    "    elif i < len(nums)-1 and nums[i] < target and nums[i+1] >target:\n",
    "        print(i+1)\n",
    "    elif nums[-1] < target:\n",
    "        print(len(nums))\n",
    "        \n",
    "    "
   ]
  },
  {
   "cell_type": "code",
   "execution_count": null,
   "id": "bcdce864",
   "metadata": {},
   "outputs": [],
   "source": [
    "n = 5\n",
    "bad = 4\n",
    "#n = 1\n",
    "#bad = 1\n",
    "def isBadVersion(n):\n",
    "    #bad = 1\n",
    "    if n==bad:\n",
    "        return(True)\n",
    "    else:\n",
    "        return(False)\n",
    "stack = []\n",
    "for x in range(n,0,-1):\n",
    "    if isBadVersion(x):\n",
    "        stack.append(x)\n",
    "print(stack.pop())\n",
    "    \n",
    "        "
   ]
  },
  {
   "cell_type": "code",
   "execution_count": null,
   "id": "fb8a2e57",
   "metadata": {},
   "outputs": [],
   "source": [
    "import bisect\n",
    "\n",
    "li = [1, 3, 4, 4, 4, 6, 7]\n",
    "print(bisect.bisect(li,4))   ### using bisect() to find index to insert new element \n",
    "# returns 5 ( right most possible index )\n",
    "print (bisect.bisect_left(li, 4)) # using bisect_left() to find index to insert new element\n",
    "# returns 2 ( left most possible index )"
   ]
  },
  {
   "cell_type": "code",
   "execution_count": null,
   "id": "90767ac9",
   "metadata": {},
   "outputs": [],
   "source": [
    "n = 5\n",
    "bad = 4\n",
    "def isBadVersion(n):\n",
    "    #bad = 1\n",
    "    if n==bad:\n",
    "        return(True)\n",
    "    else:\n",
    "        return(False)\n",
    "lo, hi = 1, n\n",
    "while lo <= hi:\n",
    "    mid = (lo + hi) // 2\n",
    "\n",
    "    if isBadVersion(mid):\n",
    "        hi = mid-1\n",
    "    else:\n",
    "        lo = mid+1\n",
    "print(lo)"
   ]
  },
  {
   "cell_type": "code",
   "execution_count": null,
   "id": "83c1364d",
   "metadata": {},
   "outputs": [],
   "source": [
    "num = 1\n",
    "pick = 1\n",
    "def guess(num):\n",
    "    if  pick< num:\n",
    "        return(-1)\n",
    "    elif pick > num:\n",
    "        return 1\n",
    "    elif pick ==num:\n",
    "        return 0\n",
    "\n",
    "lo = 1\n",
    "hi = num\n",
    "while lo < hi:\n",
    "    mid = (lo+hi)//2\n",
    "    val = guess(mid)\n",
    "    if val == -1:\n",
    "        hi = mid\n",
    "    if val == 1:\n",
    "        lo = mid+1\n",
    "    if val == 0:\n",
    "        print(mid)\n",
    "        break"
   ]
  },
  {
   "cell_type": "code",
   "execution_count": null,
   "id": "8ea06c38",
   "metadata": {},
   "outputs": [],
   "source": [
    "nums = [5,7,7,8,8,10]\n",
    "target = 8\n",
    "nums = [5,7,7,8,8,10]\n",
    "target = 6\n",
    "nums = [2,2]\n",
    "target = 3\n",
    "def search(nums, target,left=True):\n",
    "    i = 0\n",
    "    j = len(nums)\n",
    "    while i < j:\n",
    "        mid = (i+j)//2\n",
    "        if nums[mid]== target:\n",
    "            if left:\n",
    "                j = mid\n",
    "            else:\n",
    "                i = mid+1\n",
    "        elif nums[mid]< target:\n",
    "            i = mid+1\n",
    "        else:\n",
    "            j = mid\n",
    "    return(i)\n",
    "\n",
    "l = search(nums,target, True)\n",
    "r = search(nums,target,False)\n",
    "print(l)\n",
    "print(r)\n",
    "if not nums:\n",
    "    print([-1,-1])\n",
    "    \n",
    "elif l< len(nums) and nums[l] == target:\n",
    "    print([l,r-1])\n",
    "else:\n",
    "    print([-1,-1])\n",
    "print(l)\n",
    "print(r)"
   ]
  },
  {
   "cell_type": "code",
   "execution_count": null,
   "id": "36f59a99",
   "metadata": {},
   "outputs": [],
   "source": [
    "matrix = [[1,2,3],[3,1,2],[2,3,1]]\n",
    "#matrix = [[1,2,3],[1,2,3],[1,2,3]]\n",
    "length = len(matrix)\n",
    "print(length)\n",
    "t_matrix = list(zip(*matrix))\n",
    "print(t_matrix)\n",
    "def check_mat(matt):\n",
    "    for mat in matt:\n",
    "        count = 0\n",
    "        for x in range(1,length+1):\n",
    "            if x in mat:\n",
    "                count = count+1\n",
    "        if count !=length:\n",
    "            return(False)\n",
    "    return(True)\n",
    "if check_mat(matrix) and check_mat(t_matrix):\n",
    "    print(True)\n",
    "else:\n",
    "    print(False)\n",
    "        "
   ]
  },
  {
   "cell_type": "code",
   "execution_count": null,
   "id": "c1bca809",
   "metadata": {},
   "outputs": [],
   "source": [
    "mat = [[1,2,3],[4,5,6],[7,8,9]]\n",
    "mat = [[1,1,1,1],[1,1,1,1],[1,1,1,1],[1,1,1,1]]\n",
    "mat = [[5]]\n",
    "i = 0\n",
    "sum1 = 0\n",
    "while i < len(mat):\n",
    "    j = 0\n",
    "    while j < len(mat):\n",
    "        if i==j and i+j != len(mat)-1:\n",
    "            sum1 = sum1+mat[i][j]\n",
    "        elif i+j == len(mat)-1:\n",
    "            sum1= sum1+mat[i][j]\n",
    "        j = j+1\n",
    "    i = i+1\n",
    "print(sum1)\n",
    "            \n",
    "    "
   ]
  },
  {
   "cell_type": "code",
   "execution_count": null,
   "id": "d4474c29",
   "metadata": {},
   "outputs": [],
   "source": [
    "board = [[\"5\",\"3\",\".\",\".\",\"7\",\".\",\".\",\".\",\".\"]\n",
    ",[\"6\",\".\",\".\",\"1\",\"9\",\"5\",\".\",\".\",\".\"]\n",
    ",[\".\",\"9\",\"8\",\".\",\".\",\".\",\".\",\"6\",\".\"]\n",
    ",[\"8\",\".\",\".\",\".\",\"6\",\".\",\".\",\".\",\"3\"]\n",
    ",[\"4\",\".\",\".\",\"8\",\".\",\"3\",\".\",\".\",\"1\"]\n",
    ",[\"7\",\".\",\".\",\".\",\"2\",\".\",\".\",\".\",\"6\"]\n",
    ",[\".\",\"6\",\".\",\".\",\".\",\".\",\"2\",\"8\",\".\"]\n",
    ",[\".\",\".\",\".\",\"4\",\"1\",\"9\",\".\",\".\",\"5\"]\n",
    ",[\".\",\".\",\".\",\".\",\"8\",\".\",\".\",\"7\",\"9\"]]\n",
    "\n",
    "i = 0\n",
    "while i < 3:\n",
    "    j = 0\n",
    "    while j < \n",
    "\n",
    "t_board = list(zip(*board))\n",
    "def mat_check(board):\n",
    "    for mat in board:\n",
    "        for x in mat:\n",
    "            if x!= \".\" and  mat.count(x)>1:\n",
    "                return(False)\n",
    "    return(True)\n",
    "\n",
    "if mat_check(board) and mat_check(t_board):\n",
    "    print(True)\n",
    "else:\n",
    "    print(False)"
   ]
  },
  {
   "cell_type": "code",
   "execution_count": null,
   "id": "7edf8258",
   "metadata": {},
   "outputs": [],
   "source": []
  },
  {
   "cell_type": "code",
   "execution_count": null,
   "id": "36c5af07",
   "metadata": {},
   "outputs": [],
   "source": [
    "board_sub=[]\n",
    "mat  = [3,6,9]\n",
    "i = 0\n",
    "for k in mat:\n",
    "    sub = []\n",
    "    while i < k:\n",
    "        j = k-3\n",
    "        b = []\n",
    "        while j < 3:\n",
    "            print(board[i][j])\n",
    "            b.append(board[i][j])\n",
    "            j = j+1\n",
    "        sub.append(b)\n",
    "        i = i+1\n",
    "    board_sub.append(sub)\n",
    "print(board_sub)"
   ]
  },
  {
   "cell_type": "code",
   "execution_count": null,
   "id": "79196ff2",
   "metadata": {},
   "outputs": [],
   "source": [
    "title = \"capiTalIze tHe titLe\"\n",
    "stack = []\n",
    "for x in title.split():\n",
    "    if len(x)>2:\n",
    "        stack.append(x.title())\n",
    "    else:\n",
    "        stack.append(x.lower())\n",
    "print(' '.join(stack))"
   ]
  },
  {
   "cell_type": "code",
   "execution_count": null,
   "id": "3b9773b8",
   "metadata": {},
   "outputs": [],
   "source": [
    "digits = [2,1,3,0]\n",
    "\n",
    "print(digits)\n",
    "res = []\n",
    "seen = set()\n",
    "for i in range(len(digits)):\n",
    "    for j in range(len(nums = [12,345,2,6,7896]digits)):\n",
    "        for k in range(len(digits)):\n",
    "            if digits[i] == 0:\n",
    "                continue\n",
    "            elif i > 0 and digits[i]==digits[i-1]:\n",
    "                continue\n",
    "            elif i !=j and j != k and i!=k:\n",
    "                num = str(digits[i])+str(digits[j])+str(digits[k])\n",
    "                if digits[i] != 0 and digits[k] %2 == 0 and num not in seen:\n",
    "                    seen.add(num)\n",
    "                    res.append(int(num))\n",
    "print(res)"
   ]
  },
  {
   "cell_type": "code",
   "execution_count": null,
   "id": "46fa69c4",
   "metadata": {},
   "outputs": [],
   "source": [
    "for letter in 'Python':     # First Example\n",
    "    if letter == 'h':\n",
    "          continue\n",
    "    print ('Current Letter :', letter)"
   ]
  },
  {
   "cell_type": "code",
   "execution_count": null,
   "id": "1d20a460",
   "metadata": {},
   "outputs": [],
   "source": [
    "nums = [12,345,2,6,7896]\n",
    "nums = [555,901,482,1771]\n",
    "count = 0\n",
    "for num in nums:\n",
    "    if len(str(num))%2 == 0:\n",
    "        count = count+1\n",
    "print(count)"
   ]
  },
  {
   "cell_type": "code",
   "execution_count": null,
   "id": "3d4c906d",
   "metadata": {},
   "outputs": [],
   "source": [
    "n = 4\n",
    "count = 0\n",
    "for i in range(1,n+1):\n",
    "    if  n%i == 0:\n",
    "        count = count+1\n",
    "    if count>2:\n",
    "        print(False)\n",
    "        break\n",
    "if count == 2:\n",
    "    print(True)\n",
    "else:\n",
    "    print(False)\n",
    "        "
   ]
  },
  {
   "cell_type": "code",
   "execution_count": null,
   "id": "378bf84e",
   "metadata": {},
   "outputs": [],
   "source": [
    "nums = [2,5,6,9,10]\n",
    "nums = [3,3]\n",
    "nums = [7,5,6,8,3]\n",
    "minimum = min(nums)\n",
    "maximum = max(nums)\n",
    "print(minimum)\n",
    "print(maximum)\n",
    "\n",
    "val = minimum\n",
    "while val:\n",
    "    if minimum%val == 0 and maximum% val ==0:\n",
    "        print(val)\n",
    "        break\n",
    "    else:\n",
    "        val = val -1"
   ]
  },
  {
   "cell_type": "code",
   "execution_count": null,
   "id": "693dcca8",
   "metadata": {},
   "outputs": [],
   "source": [
    "original = [1,2,3,4] \n",
    "m = 2 \n",
    "n = 2\n",
    "original = [1,2,3]\n",
    "m = 1\n",
    "n = 3\n",
    "original = [1,2]\n",
    "m = 1\n",
    "n = 1\n",
    "sub_mat = []\n",
    "if len(original)> m*n or len(original) < m*n:\n",
    "    print([])\n",
    "\n",
    "i = 0\n",
    "k = 0\n",
    "while i < m:\n",
    "    j = 0\n",
    "    sub = []\n",
    "    while j < n:\n",
    "        sub.append(original[k])\n",
    "        k = k+1\n",
    "        j = j+1\n",
    "    sub_mat.append(sub)\n",
    "    i = i+1\n",
    "print(sub_mat)\n"
   ]
  },
  {
   "cell_type": "code",
   "execution_count": null,
   "id": "92d64428",
   "metadata": {},
   "outputs": [],
   "source": [
    "nums = [2,3,-1,8,4]\n",
    "for i in range(len(nums)):\n",
    "    if sum(nums[:i]) == sum(nums[i+1:]):\n",
    "        print(i)\n",
    "    else:\n",
    "        print(-1)\n",
    "    "
   ]
  },
  {
   "cell_type": "code",
   "execution_count": null,
   "id": "fc168519",
   "metadata": {},
   "outputs": [],
   "source": [
    "arr = [0,2,1,-6,6,-7,9,1,2,0,1]\n",
    "arr = [0,2,1,-6,6,7,9,-1,2,0,1]\n",
    "arr = [3,3,6,5,-2,2,5,1,-9,4]\n",
    "sum1 = sum(arr)\n",
    "if sum1%3 != 0:\n",
    "    print(False)\n",
    "average = sum1/3\n",
    "cur = 0\n",
    "count = 0\n",
    "for num in arr:\n",
    "    cur = cur+num\n",
    "    if cur == average:\n",
    "        cur = 0\n",
    "        count = count+1\n",
    "if count == 3:\n",
    "    print(True)\n",
    "else:\n",
    "    print(False)\n",
    "    "
   ]
  },
  {
   "cell_type": "code",
   "execution_count": null,
   "id": "7c31d21a",
   "metadata": {},
   "outputs": [],
   "source": [
    "nums = [4,2,5,7]\n",
    "\n",
    "nums = [2,3]\n",
    "nums = [648,831,560,986,192,424,997,829,897,843]\n",
    "temp =0\n",
    "temp1=0\n",
    "for i in range(len(nums)):\n",
    "    if (nums[i]%2==0 and i%2 == 0) or ( nums[i]%2!=0 and i%2 != 0):\n",
    "        continue\n",
    "    elif nums[i]%2==0 and i%2 != 0:\n",
    "        temp = nums[i]\n",
    "        flag = 0\n",
    "        for j in range(i+1,len(nums)):\n",
    "             if nums[j]%2!=0 and j%2 == 0:\n",
    "                    nums[i]=nums[j]\n",
    "                    nums[j]=temp \n",
    "                    break\n",
    "                    \n",
    "    elif nums[i]%2!=0 and i%2 == 0:\n",
    "        temp1 = nums[i]\n",
    "        for j in range(i+1,len(nums)):\n",
    "             if nums[j]%2==0 and j%2 != 0:\n",
    "                    nums[i]=nums[j]\n",
    "                    nums[j]=temp1\n",
    "                    break\n",
    "print(nums)\n",
    "    \n",
    "        \n",
    "        \n",
    "        \n",
    "            \n",
    "\n"
   ]
  },
  {
   "cell_type": "code",
   "execution_count": null,
   "id": "317a6308",
   "metadata": {},
   "outputs": [],
   "source": [
    "heights = [1,1,4,2,1,3]\n",
    "\n",
    "\n",
    "new_h = heights.copy()\n",
    "new_h.sort()\n",
    "\n",
    "print(heights)\n",
    "print(list(zip(heights,new_h)))\n",
    "\n",
    "count = 0\n",
    "for x,y in list(zip(heights,new_h)):\n",
    "    if x != y:\n",
    "        count = count+1\n",
    "print(count)"
   ]
  },
  {
   "cell_type": "code",
   "execution_count": null,
   "id": "7b6a9358",
   "metadata": {},
   "outputs": [],
   "source": [
    "n= 5\n",
    "num = [x*x for x in range(1,n+1)]\n",
    "count = 0\n",
    "for i in range(n):\n",
    "    for j in range(i+1,n):\n",
    "        if num[i]+num[j] in num:\n",
    "            count=count+2\n",
    "                \n",
    "print(count)"
   ]
  },
  {
   "cell_type": "code",
   "execution_count": null,
   "id": "0e11edd4",
   "metadata": {},
   "outputs": [],
   "source": [
    "dividend = 10\n",
    "divisor = 3\n",
    "dividend = 7\n",
    "divisor = -3\n",
    "dividend = -1\n",
    "divisor =-1\n",
    "divisor1 = 0\n",
    "\n",
    "count = 0\n",
    "if abs(divisor) == 1:\n",
    "    if divisor < 0 and dividend <0:\n",
    "        return abs(dividend)\n",
    "    else: \n",
    "        return (dividend)\n",
    "while divisor1<=abs(dividend):\n",
    "    divisor1 = abs(divisor1)+abs(divisor)\n",
    "    print(divisor1)\n",
    "    if divisor1<=abs(dividend) and ((divisor>0 and dividend>0) or (divisor<0 and dividend<0)):\n",
    "        count = count+1\n",
    "    elif divisor1<=abs(dividend) and (divisor<0 or dividend<0):\n",
    "        count = count-1\n",
    "print(count)\n",
    "    "
   ]
  },
  {
   "cell_type": "code",
   "execution_count": null,
   "id": "7f4d8e34",
   "metadata": {},
   "outputs": [],
   "source": [
    "-2147483648//-1"
   ]
  },
  {
   "cell_type": "code",
   "execution_count": null,
   "id": "d9c7f18c",
   "metadata": {},
   "outputs": [],
   "source": [
    "nums = [-1,-2,-3,-4,3,2,1]\n",
    "product = 1\n",
    "for num in nums:\n",
    "    product = product *num\n",
    "\n",
    "def signFunc(product):\n",
    "    if product> 0:\n",
    "        print(1)\n",
    "    elif product< 0:\n",
    "        print(-1)\n",
    "    else:\n",
    "        print(0)\n",
    "signFunc(product)"
   ]
  },
  {
   "cell_type": "code",
   "execution_count": null,
   "id": "4d43644b",
   "metadata": {},
   "outputs": [],
   "source": [
    "nums = [0,1,2,4,5,7]\n",
    "nums.append(nums[-1]+2)\n",
    "print(nums)\n",
    "flag = 0\n",
    "stack = []\n",
    "i = 1\n",
    "while i < len(nums):\n",
    "    print(\"i {}\".format(i))\n",
    "    if nums[i]-nums[i-1] ==1:\n",
    "        print(\"i {}\".format(i))\n",
    "        print(\"nums[i+1] {}\".format(nums[i-1]))\n",
    "        print(\"nums[i] {}\".format(nums[i]))\n",
    "        print(\"flag {}\".format(flag))\n",
    "        if flag == 0:\n",
    "            x = nums[i-1]\n",
    "            flag = 1\n",
    "    if flag ==1 and nums[i]-nums[i-1] >1:\n",
    "        print(\"inside1\")\n",
    "        y = str(x)+\"->\"+str(nums[i-1])\n",
    "        stack.append(y)\n",
    "        flag = 0\n",
    "        \n",
    "    \n",
    "    i = i+1\n",
    "print(stack)   \n",
    "        "
   ]
  },
  {
   "cell_type": "code",
   "execution_count": null,
   "id": "ba7ac7f3",
   "metadata": {},
   "outputs": [],
   "source": [
    "result = []\n",
    "if nums:\n",
    "    index = 0\n",
    "    nums.append(nums[-1] + 2)\n",
    "    for i in range(1, len(nums)):\n",
    "        s = str(nums[index])\n",
    "        if nums[i] - nums[i - 1] > 1:\n",
    "            if i - 1 > index:\n",
    "                s += \"->\" + str(nums[i - 1])\n",
    "            result.append(s)\n",
    "            index = i\n",
    "print(result)"
   ]
  },
  {
   "cell_type": "code",
   "execution_count": null,
   "id": "38bf1701",
   "metadata": {},
   "outputs": [],
   "source": [
    "nums = [0,1,3,50,75]\n",
    "lower = 0\n",
    "upper = 99\n",
    "#nums = [-1]\n",
    "#lower = -1\n",
    "#upper = -1\n",
    "nums = []\n",
    "\n",
    "lower = 1\n",
    "upper = 2\n",
    "nums= [-1]\n",
    "lower = -1\n",
    "upper = 0\n",
    "stack = []\n",
    "i = 0\n",
    "if not nums:\n",
    "    if lower == upper:\n",
    "        stack.append(str(lower))\n",
    "    else:\n",
    "        stack.append(str(lower)+\"->\"+str(upper))\n",
    "while i < len(nums):\n",
    "    #print(\"i {}\".format(i))\n",
    "    if i < len(nums) and nums[i]==lower and lower== upper:\n",
    "        break\n",
    "    if i < len(nums) and nums[i]==lower:\n",
    "        lower = lower+1\n",
    "        i = i+1\n",
    "    if i < len(nums) and nums[i]!=lower:\n",
    "        t = nums[i]-lower\n",
    "        if t == 1:\n",
    "            s = str(lower)\n",
    "            lower = nums[i]\n",
    "        elif t >1:\n",
    "            s = str(lower) +\"->\"+str(nums[i]-1)\n",
    "            lower = nums[i]\n",
    "        stack.append(s)\n",
    "    if i >= len(nums):\n",
    "        if lower != upper:\n",
    "            s = str(lower)+'->'+str(upper)\n",
    "        else:\n",
    "            s = str(lower)\n",
    "        stack.append(s)\n",
    "        i=i+1\n",
    "print(stack)   "
   ]
  },
  {
   "cell_type": "code",
   "execution_count": null,
   "id": "5e0b2528",
   "metadata": {},
   "outputs": [],
   "source": [
    "ops = [\"5\",\"2\",\"C\",\"D\",\"+\"]\n",
    "#ops = [\"5\",\"-2\",\"4\",\"C\",\"D\",\"9\",\"+\",\"+\"]\n",
    "ops = [\"1\"]\n",
    "\n",
    "stack = []\n",
    "for op in ops:\n",
    "    if len(op)>1 or op.isnumeric():\n",
    "        o = int(op)\n",
    "        stack.append(o)\n",
    "    if op == \"C\":\n",
    "        stack.pop()\n",
    "    if op == \"D\":\n",
    "        t = stack.pop()\n",
    "        stack.append(t)\n",
    "        stack.append(t*2)\n",
    "    if op == \"+\":\n",
    "        t1 = stack.pop()\n",
    "        t2 = stack.pop()\n",
    "        stack.append(t2)\n",
    "        stack.append(t1)\n",
    "        stack.append(t1+t2)\n",
    "print(stack)\n",
    "print(sum(stack))"
   ]
  },
  {
   "cell_type": "code",
   "execution_count": null,
   "id": "cf6095ba",
   "metadata": {},
   "outputs": [],
   "source": [
    "logs = [\"d1/\",\"d2/\",\"../\",\"d21/\",\"./\"]\n",
    "logs = [\"d1/\",\"d2/\",\"./\",\"d3/\",\"../\",\"d31/\"]\n",
    "logs = [\"d1/\",\"../\",\"../\",\"../\"]\n",
    "stack = []\n",
    "for log in logs:\n",
    "    if log != \"../\" and log != \"./\":\n",
    "        stack.append(log)\n",
    "    if stack and log == \"../\":\n",
    "        stack.pop(-1)\n",
    "print(len(stack))\n",
    "        "
   ]
  },
  {
   "cell_type": "code",
   "execution_count": null,
   "id": "e5a52ddc",
   "metadata": {},
   "outputs": [],
   "source": [
    "s = \"ab#c\"\n",
    "t = \"ad#c\"\n",
    "s = \"ab##\"\n",
    "t = \"c#d#\"\n",
    "s = \"a#c\"\n",
    "t = \"b\"\n",
    "def comp_str(string):\n",
    "    list1 = []\n",
    "    for st in string:\n",
    "        if st.isalpha():\n",
    "            list1.append(st)\n",
    "        elif list1 and st == \"#\":\n",
    "            list1.pop()\n",
    "    return(''.join(list1))\n",
    "\n",
    "s1 = comp_str(s)\n",
    "t1 = comp_str(t)\n",
    "if s1 == t1:\n",
    "    print(True)\n",
    "else:\n",
    "    print(False)\n"
   ]
  },
  {
   "cell_type": "code",
   "execution_count": null,
   "id": "f8e522c0",
   "metadata": {},
   "outputs": [],
   "source": [
    "matrix = [[1,2,3],[4,5,6],[7,8,9]]\n",
    "print(list(zip(*matrix)))"
   ]
  },
  {
   "cell_type": "code",
   "execution_count": null,
   "id": "646c3df6",
   "metadata": {},
   "outputs": [],
   "source": [
    "mat = [[1,2,3],[3,4,5]]\n",
    "r = 1\n",
    "c = 6\n",
    "\n",
    "\n",
    "stack = [x for m in mat for x in m]\n",
    "if r*c != len(stack):\n",
    "    print(mat)\n",
    "k = 0\n",
    "b_final = []\n",
    "for i in range(r):\n",
    "    b = []\n",
    "    for j in range(c):\n",
    "        b.append(stack[k])\n",
    "        k = k+1\n",
    "    b_final.append(b)\n",
    "print(b_final)\n",
    "        "
   ]
  },
  {
   "cell_type": "code",
   "execution_count": null,
   "id": "d9253a26",
   "metadata": {},
   "outputs": [],
   "source": [
    "nums = [1,2,3,2]\n",
    "nums = [1,1,1,1,1]\n",
    "nums = [1,2,3,4,5]\n",
    "sum1=0\n",
    "for num in nums:\n",
    "    if nums.count(num) == 1:\n",
    "        sum1 = sum1+num\n",
    "print(sum1)\n",
    "        "
   ]
  },
  {
   "cell_type": "code",
   "execution_count": null,
   "id": "d3299bfd",
   "metadata": {},
   "outputs": [],
   "source": [
    "nums = [1,3,5,4,7]\n",
    "nums = [2,2,2,2,2]\n",
    "nums = [1]\n",
    "i = 1\n",
    "count = 1\n",
    "stack = []\n",
    "if len(nums) == 1:\n",
    "    print(count)\n",
    "while i < len(nums):\n",
    "    if nums[i] > nums[i-1]:\n",
    "        i = i+1\n",
    "        count = count+1\n",
    "    else:\n",
    "        stack.append(count)\n",
    "        count = 1\n",
    "        i = i+1\n",
    "    if i == len(nums):\n",
    "        stack.append(count)\n",
    "print(max(stack))"
   ]
  },
  {
   "cell_type": "code",
   "execution_count": null,
   "id": "0ab0e5d2",
   "metadata": {},
   "outputs": [],
   "source": [
    "n = 3\n",
    "edges = [[0,1],[1,2],[2,0]]\n",
    "start = 0\n",
    "end = 2\n",
    "\n",
    "stack = [x for edge in edges for x in edge]\n",
    "print(stack)\n",
    "\n",
    "for indx, x in enumerate(stack):\n",
    "    j = 0\n",
    "    if x == start:\n",
    "        j = j+1\n",
    "        for i in range(indx+1,len(stack)):\n",
    "            if stack.count(stack[i])>1 or stack[i] == end:\n",
    "                j = j+1\n",
    "                pass\n",
    "            else:\n",
    "                break\n",
    "print(j)"
   ]
  },
  {
   "cell_type": "code",
   "execution_count": null,
   "id": "b14d22e4",
   "metadata": {},
   "outputs": [],
   "source": [
    "nums = [1,2,2,1]\n",
    "k = 1\n",
    "nums = [1,3]\n",
    "k = 3\n",
    "\n",
    "nums = [3,2,1,5,4]\n",
    "k = 2\n",
    "\n",
    "nums = [3,1,4,1,5]\n",
    "k = 2\n",
    "nums = [1,2,3,4,5]\n",
    "k = 1\n",
    "nums = [1,2,4,4,3,3,0,9,2,3]\n",
    "k = 3\n",
    "nums = [3,1,4,1,5]\n",
    "k =2\n",
    "nums =[1,3,1,5,4]\n",
    "k = 0\n",
    "nums =[1,2,4,4,3,3,0,9,2,3]\n",
    "k = 3\n",
    "num = [] \n",
    "for x in nums:\n",
    "    if x not in num or nums.count(x)<=2:\n",
    "        num.append(x)\n",
    "print(num)\n",
    "d = set()\n",
    "for i in range(len(num)):\n",
    "    for j in range(i+1,len(num)):\n",
    "        if abs(num[i]-num[j]) == k:\n",
    "            d.add((num[i],num[j]))\n",
    "            #d.add((nums[j],nums[i]))\n",
    "            #count = count+1\n",
    "print(len(d))\n",
    "            "
   ]
  },
  {
   "cell_type": "code",
   "execution_count": null,
   "id": "e568ccfa",
   "metadata": {},
   "outputs": [],
   "source": [
    "nums =[1,2,4,4,3,3,0,9,2,3]\n",
    "Set = set(nums)\n",
    "print(Set)\n",
    "k = 3\n",
    "\n",
    "import collections\n",
    "collections.Counter(nums)"
   ]
  },
  {
   "cell_type": "code",
   "execution_count": null,
   "id": "d90ec70e",
   "metadata": {},
   "outputs": [],
   "source": [
    "edges = [[1,2],[2,3],[4,2]]\n",
    "edges = [[1,2],[5,1],[1,3],[1,4]]\n",
    "mat = [x for edge in edges for x in edge]\n",
    "for x in mat:\n",
    "    if mat.count(x) == len(edges):\n",
    "        print(x)\n",
    "        break"
   ]
  },
  {
   "cell_type": "code",
   "execution_count": null,
   "id": "6a0223aa",
   "metadata": {},
   "outputs": [],
   "source": [
    "rooms = [[1],[2],[3],[]]\n",
    "\n",
    "i = 1\n",
    "while i < len(rooms):\n",
    "    flag = 0\n",
    "    j = 0\n",
    "    while j < len(rooms):\n",
    "        if i in rooms[j] and i != j:\n",
    "            flag = 1\n",
    "            break\n",
    "    if flag ==0:\n",
    "        print(False)\n",
    "        break\n",
    "print(True)\n",
    "        \n",
    "        \n",
    "        "
   ]
  },
  {
   "cell_type": "code",
   "execution_count": null,
   "id": "60e5a28d",
   "metadata": {},
   "outputs": [],
   "source": [
    "word = \"a123bc34d8ef34\"\n",
    "word = \"leet1234code234\"\n",
    "#word = \"a1b01c001\"\n",
    "t = \"\"\n",
    "for x in word:\n",
    "    if x.isalpha():\n",
    "        t = t+ \" \"\n",
    "    else:\n",
    "        t = t+x\n",
    "Set = [int(x) for x in t.split()]\n",
    "print(len(set(Set)))\n"
   ]
  },
  {
   "cell_type": "code",
   "execution_count": null,
   "id": "033a7583",
   "metadata": {},
   "outputs": [],
   "source": [
    "code = [5,7,1,4]\n",
    "k = 3\n",
    "code = [2,4,9,3]\n",
    "k = -2\n",
    "stack = []\n",
    "n = len(code)\n",
    "code = code * 2\n",
    "print(code)\n",
    "\n",
    "for i in range(n):\n",
    "    if k > 0:\n",
    "        y = sum(code[i+1:i+k+1])\n",
    "    else:\n",
    "        \n",
    "    stack.append(y)\n",
    "print(stack)\n"
   ]
  },
  {
   "cell_type": "code",
   "execution_count": null,
   "id": "77db9e22",
   "metadata": {},
   "outputs": [],
   "source": [
    "matrix = [[3,7,8],[9,11,13],[15,16,17]]\n",
    "matrix = [[1,10,4,2],[9,3,8,7],[15,16,12,12]]\n",
    "t_matrix = list(zip(*matrix))\n",
    "\n",
    "stack = []\n",
    "for mat in matrix:\n",
    "    minimum = min(mat)\n",
    "    for i in range(len(mat)):\n",
    "        if mat[i] == minimum and minimum == max(t_matrix[i]):\n",
    "            stack.append(minimum)\n",
    "print(stack)\n",
    "            \n",
    "    \n",
    "    "
   ]
  },
  {
   "cell_type": "code",
   "execution_count": null,
   "id": "b4c72663",
   "metadata": {
    "code_folding": []
   },
   "outputs": [],
   "source": [
    "nums = [8,1,2,2,3]\n",
    "nums = [6,5,4,8]\n",
    "nums = [7,7,7,7]\n",
    "\n",
    "stack=[]\n",
    "for i in range(len(nums)):\n",
    "    count = 0\n",
    "    for j in range(len(nums)):\n",
    "        if i != j and nums[i]>nums[j]:\n",
    "            count=count+1\n",
    "    stack.append(count)\n",
    "print(stack)\n",
    "            "
   ]
  },
  {
   "cell_type": "code",
   "execution_count": null,
   "id": "871bf4b3",
   "metadata": {},
   "outputs": [],
   "source": [
    "nums = [5,2,6,1]\n",
    "nums = [2,6,1,1,1,2,2,4,5,4,3,2]\n",
    "#nums = [-1,-1]\n",
    "sorted_list1 = sorted(nums)\n",
    "print(sorted_list1)\n",
    "stack = []\n",
    "for num in nums:\n",
    "    i = sorted_list1.index(num)\n",
    "    stack.append(i)\n",
    "    sorted_list1.remove(num)\n",
    "print(stack)\n"
   ]
  },
  {
   "cell_type": "code",
   "execution_count": null,
   "id": "954278c6",
   "metadata": {},
   "outputs": [],
   "source": [
    "nums = [2,6,1,1,1,2,2,4,5,4,3,2]\n",
    "\n",
    "from sortedcontainers import SortedList, SortedSet, SortedDict\n",
    "sorted_nums = SortedList(nums)\n",
    "#print(sorted_nums)\n",
    "for n in nums:\n",
    "    print(sorted_nums)\n",
    "    i = sorted_nums.index(n)\n",
    "    print(i)\n",
    "    sorted_nums.remove(n)"
   ]
  },
  {
   "cell_type": "code",
   "execution_count": null,
   "id": "a21d8e80",
   "metadata": {},
   "outputs": [],
   "source": [
    "nums = [5,2,6,1]\n",
    "import bisect\n",
    "sorted_values=[]\n",
    "out = []\n",
    "print(nums[::-1])\n",
    "for x in nums[::-1]:\n",
    "    idx = bisect.bisect_right(sorted_values, x)\n",
    "    print(\"idx {}\".format(idx))\n",
    "    sorted_values.insert(idx, x)\n",
    "    out.append(idx)\n",
    "#print(sorted_values)\n",
    "print(out[::-1])"
   ]
  },
  {
   "cell_type": "code",
   "execution_count": null,
   "id": "204cce36",
   "metadata": {},
   "outputs": [],
   "source": [
    "nums = [5,2,6,1]\n",
    "sorted_values=[]\n",
    "idx = bisect.bisect_left(sorted_values, 5)\n",
    "print(\"idx {}\".format(idx))\n",
    "print(\"sorted_values {}\".format(sorted_values))"
   ]
  },
  {
   "cell_type": "code",
   "execution_count": null,
   "id": "7bcfed67",
   "metadata": {},
   "outputs": [],
   "source": [
    "s = \"leeetcode\"\n",
    "n = len(s)\n",
    "        \n",
    "power = [1] * n\n",
    "\n",
    "for i in range(n):\n",
    "    print(\"i {}\".format(i))\n",
    "    for j in range(i+1, n):\n",
    "        print(\"j {}\".format(j))\n",
    "        if s[i] == s[j]:\n",
    "            power[i] += 1\n",
    "            print(power[i])\n",
    "        else:\n",
    "            break\n",
    "print(power)\n",
    "print(max(power))"
   ]
  },
  {
   "cell_type": "code",
   "execution_count": null,
   "id": "9f05f60e",
   "metadata": {},
   "outputs": [],
   "source": [
    "nums = [1,1,0,1,1,1]\n",
    "#nums = []\n",
    "\n",
    "\n",
    "\n",
    "count = 0\n",
    "max_val = 0\n",
    "for i in nums:\n",
    "    if i == 1:\n",
    "        count = count +1\n",
    "        if count >max_val:\n",
    "            max_val = count\n",
    "    else:\n",
    "        count = 0\n",
    "print(max_val)"
   ]
  },
  {
   "cell_type": "code",
   "execution_count": null,
   "id": "28c4f533",
   "metadata": {},
   "outputs": [],
   "source": [
    "nums = [1,0,1,1,0,0,1,1,1,0,1,1,1,1]\n",
    "\n",
    "cnt = 0\n",
    "i = 0\n",
    "res = 0\n",
    "for j in range(len(nums)):\n",
    "    if nums[j] == 1:\n",
    "        cnt += 1\n",
    "    while j - i + 1 - cnt > 1:\n",
    "        if nums[i] == 1:\n",
    "            cnt -= 1\n",
    "        i += 1\n",
    "    res = max(res, j - i + 1)\n",
    "print(res)"
   ]
  },
  {
   "cell_type": "code",
   "execution_count": null,
   "id": "6f5a9b8b",
   "metadata": {},
   "outputs": [],
   "source": [
    "s = \"aaaabbbbbcccc\"\n",
    "h = collections.Counter(s)\n",
    "print(h)\n",
    "keys = sorted(h.keys())\n",
    "print(keys)\n",
    "result = \"\"\n",
    "while h:\n",
    "    for k in keys:\n",
    "        if h[k]:\n",
    "            result += k\n",
    "            h[k] -= 1\n",
    "            if h[k] == 0:\n",
    "                del h[k]\n",
    "    keys = keys[::-1]\n",
    "print(result)"
   ]
  },
  {
   "cell_type": "code",
   "execution_count": null,
   "id": "cfb4002b",
   "metadata": {},
   "outputs": [],
   "source": [
    "arr = [40,10,20,30]\n",
    "arr = [100,100,100]\n",
    "arr = [37,12,28,9,100,56,80,5,12]\n",
    "stack = list(set(arr))\n",
    "stack.sort()\n",
    "res = []\n",
    "dict1 = dict()\n",
    "i = 1\n",
    "for x in stack:\n",
    "    dict1[x] = i\n",
    "    i = i+1\n",
    "for x in arr:\n",
    "    res.append(dict1.get(x))\n",
    "print(res)\n",
    "    \n",
    "        \n",
    "\n"
   ]
  },
  {
   "cell_type": "code",
   "execution_count": null,
   "id": "8f14f68f",
   "metadata": {},
   "outputs": [],
   "source": [
    "nums = [1,2,5,2,3]\n",
    "target = 2\n",
    "\n",
    "stack = []\n",
    "for i in range(len(nums)):\n",
    "    for j in range(i+1,len(nums)):\n",
    "        if nums[i] > nums[j]:\n",
    "            temp = nums[j]\n",
    "            nums[j]=nums[i]\n",
    "            nums[i]=temp\n",
    "i = 0\n",
    "for x in nums:\n",
    "    if x == target:\n",
    "        stack.append(i)\n",
    "    i = i+1\n",
    "print(stack)"
   ]
  },
  {
   "cell_type": "code",
   "execution_count": null,
   "id": "d4154dae",
   "metadata": {},
   "outputs": [],
   "source": [
    "arr = [17,18,5,4,6,1]\n",
    "\n",
    "stack = []\n",
    "for i in range(len(arr)):\n",
    "    if i < len(arr)-1:\n",
    "        maximum = max(arr[i+1:])\n",
    "        stack.append(maximum)\n",
    "    else:\n",
    "        stack.append(-1)\n",
    "print(stack)"
   ]
  },
  {
   "cell_type": "code",
   "execution_count": null,
   "id": "286d2a21",
   "metadata": {},
   "outputs": [],
   "source": [
    "grid = [[4,3,2,-1],[3,2,1,-1],[1,1,-1,-2],[-1,-1,-2,-3]]\n",
    "print(sum(1 for mat in grid for g in mat if g < 0) )"
   ]
  },
  {
   "cell_type": "code",
   "execution_count": null,
   "id": "aaa77bef",
   "metadata": {},
   "outputs": [],
   "source": [
    "dominoes = [[1,2],[2,1],[3,4],[5,6]]\n",
    "dominoes = [[1,2],[1,2],[1,1],[1,2],[2,2],[1,2],[2,1],[1,2]]\n",
    "\n",
    "count = 0\n",
    "for i in range(len(dominoes)):\n",
    "    for j in range(i+1,len(dominoes)):\n",
    "        if (dominoes[i][0] == dominoes[j][0] and dominoes[i][1] == dominoes[j][1]) or \\\n",
    "            (dominoes[i][0] == dominoes[j][1] and dominoes[i][1] == dominoes[j][0]):\n",
    "            count = count+1\n",
    "print(count)"
   ]
  },
  {
   "cell_type": "code",
   "execution_count": null,
   "id": "26db7571",
   "metadata": {},
   "outputs": [],
   "source": [
    "h = {}\n",
    "result = 0\n",
    "for domino in dominoes:\n",
    "    s = tuple(sorted(domino))\n",
    "    h[s] = h.get(s, 0) + 1\n",
    "for val in h.values():\n",
    "    if val > 1:\n",
    "        result += val * (val - 1) / 2\n",
    "print (result)"
   ]
  },
  {
   "cell_type": "code",
   "execution_count": null,
   "id": "90fee753",
   "metadata": {},
   "outputs": [],
   "source": [
    "nums = [34,23,1,24,75,33,54,8]\n",
    "k = 60\n",
    "num =[] \n",
    "for i in range(len(nums)):\n",
    "    for j in range(i+1,len(nums)):\n",
    "        if nums[i]+nums[j]< k:\n",
    "            num.append(nums[i]+nums[j])\n",
    "print(max(num))"
   ]
  },
  {
   "cell_type": "code",
   "execution_count": null,
   "id": "279a6865",
   "metadata": {},
   "outputs": [],
   "source": [
    "numbers = [2,7,11,15]\n",
    "target = 9\n",
    "numbers = [0,0,1,1,3,4,8]\n",
    "target = 0\n",
    "num=[]\n",
    "for x in numbers:\n",
    "    if num.count(x)<3:\n",
    "        num.append(x)\n",
    "print(num)\n",
    "stack = []\n",
    "for i in range(len(num)):\n",
    "    for j in range(i+1,len(num)):\n",
    "        if num[i]+num[j] == target :\n",
    "            a = bisect.bisect_left(numbers,num[i])\n",
    "            b = bisect.bisect_left(numbers,num[j])\n",
    "            stack.append(a+1)\n",
    "            if num[i] == num[j]:\n",
    "                stack.append(a+2)\n",
    "            else:\n",
    "                stack.append(b+1)\n",
    "            break\n",
    "print(stack)\n"
   ]
  },
  {
   "cell_type": "code",
   "execution_count": null,
   "id": "10941b25",
   "metadata": {},
   "outputs": [],
   "source": [
    "arr = [1,0,2,3,0,4,5,0]\n",
    "\n",
    "print(length)\n",
    "length = len(arr)-1\n",
    "i = 0\n",
    "while i < length:\n",
    "    if arr[i]== 0:\n",
    "        arr.insert(i,0)\n",
    "        i = i+2\n",
    "        arr.pop()\n",
    "    else:\n",
    "        i =i+1\n",
    "\n",
    "print(arr)"
   ]
  },
  {
   "cell_type": "code",
   "execution_count": null,
   "id": "2a7bec51",
   "metadata": {},
   "outputs": [],
   "source": [
    "stones = [2,7,4,1,8,1]\n",
    "stones = [1]\n",
    "while len(stones)>1:\n",
    "    first = max(stones)\n",
    "    '''for i in range(len(stones)):\n",
    "        if stones[i]<max(stones):\n",
    "            stack.append(stones[i])'''\n",
    "    i1 = stones.index(first)\n",
    "    stones.pop(i1)\n",
    "    second = max(stones)\n",
    "    stones.insert(i1,first-second)\n",
    "    i2 = stones.index(second)\n",
    "    stones.pop(i2)\n",
    "print(stones[0])\n"
   ]
  },
  {
   "cell_type": "code",
   "execution_count": null,
   "id": "2c66fa4b",
   "metadata": {},
   "outputs": [],
   "source": [
    "mass = 10\n",
    "asteroids = [3,9,19,5,21]\n",
    "mass = 5\n",
    "asteroids = [4,9,23,4]\n",
    "\n",
    "for i in range(len(asteroids)):\n",
    "    if mass >= asteroids[i]:\n",
    "        mass = mass+asteroids[i]\n",
    "    else:\n",
    "        print(False)\n",
    "        break\n",
    "print(True)"
   ]
  },
  {
   "cell_type": "code",
   "execution_count": null,
   "id": "2a42636a",
   "metadata": {},
   "outputs": [],
   "source": [
    "asteroids = [5,10,-5]\n",
    "#asteroids = [8,-8]\n",
    "asteroids = [10,2,-5]\n",
    "asteroids = [-2,-1,1,2]\n",
    "flag = 0\n",
    "while flag !=1:\n",
    "    i = 0\n",
    "    flag=0\n",
    "    while i < len(asteroids):\n",
    "        if i < len(asteroids)-1 and (asteroids[i]>0 and asteroids[i+1]<0):\n",
    "            if abs(asteroids[i])>abs(asteroids[i+1]):\n",
    "                asteroids.pop(i+1)\n",
    "                i = i+1\n",
    "                flag = 2\n",
    "            \n",
    "            elif abs(asteroids[i])<abs(asteroids[i+1]):\n",
    "                asteroids.pop(i)\n",
    "                flag = 2\n",
    "                i = i+1\n",
    "            else:\n",
    "                asteroids.pop(i)\n",
    "                asteroids.pop(i)\n",
    "                flag = 2\n",
    "        i = i+1\n",
    "    if flag==0:\n",
    "        flag =1\n",
    ",0,0,1]\n",
    "flowerbed = [0,1\n",
    "print(asteroids)            \n",
    "                "
   ]
  },
  {
   "cell_type": "code",
   "execution_count": null,
   "id": "1879610f",
   "metadata": {},
   "outputs": [],
   "source": [
    "flowerbed = [1,0,0,0,1]\n",
    "#flowerbed = [0,1,0,0,1]\n",
    "flowerbed = [1,0,0,0,1]\n",
    "n = 2\n",
    "#flowerbed = [0,0,1,0,1]\n",
    "flowerbed =  [1,0,0,0,1,0,0]\n",
    "length = len(flowerbed)\n",
    "\n",
    "for i in range(length):\n",
    "    if i == 0 and length ==1 :\n",
    "        n = n-1\n",
    "    if i == 0 and length > 1 and  flowerbed[0] == 0 and flowerbed[1] == 0:\n",
    "            n = n-1\n",
    "            flowerbed.pop(0)\n",
    "            flowerbed.insert(0,1)\n",
    "    if i < len(flowerbed)-1 and flowerbed[i-1] == 0 and flowerbed[i] == 0 and flowerbed[i+1] ==0:\n",
    "        n = n-1\n",
    "        flowerbed.pop(i)\n",
    "        flowerbed.insert(i,1)\n",
    "    if i == len(flowerbed)-1 and flowerbed[i-1] == 0 and flowerbed[i] == 0:\n",
    "        n = n-1\n",
    "        flowerbed.pop(i)\n",
    "        flowerbed.insert(i,1)\n",
    "if n > 0:\n",
    "    print(False)\n",
    "else:\n",
    "    print(True)\n",
    "\n",
    "            \n",
    "        "
   ]
  },
  {
   "cell_type": "code",
   "execution_count": null,
   "id": "0db57225",
   "metadata": {},
   "outputs": [],
   "source": [
    "timeSeries = [89,231,368,841,1054,1258,1760,2216,2236,2243,2412,2780,2973,3326,3605,3966,4311,4565,4848,5001,5263,5538,6059,6121,6587,7059,7455,7727,8103,8514,8851,9075,9542,9569,9787,9884,10232,10240,10462,10637,11158,11447,11891,12193,12426,12885,12895,13024,13374,13757,13934,14428,14856,15224,15633,15856,16165,16380,16693,16955,17011,17276,17706,17942,18295,18688,19142,19471,19834,20073,20356,20870,21316,21469,21521,21764,21930,22352,22534,22772,23013,23386,23548,23664,23982,24218,24656,25114,25258,25558,25771,26176,26617,26687,27058,27176,27341,27401,27637,28157,28399,28608,29002,29179,29426,29603,29696,29912,30306,30429,30476,30760,31229,31726,32066,32569,33009,33045,33504,33684,33876,34188,34579,34693,34880,35279,35290,35801,36116,36286,36621,36767,37114,37613,37849,37937,38241,38572,38658,39073,39447,39501,39952,40461,40895,41144,41455,41910,42227,42425,42735,42949,43046,43309,43534,44009,44031,44114,44570,44923,45163,45339,45775,46014,46082,46328,46447,46595,46700,46916,47430,47804,48167,48494,48899,48940,49235,49371,49803,50150,50305,50535,50995,51267,51312,51453,51767,52161,52537,52722,53090,53143,53288,53613,54124,54152,54484,54950,55089,55606,55889,56139,56295,56691,57018,57236,57606,57919,58332,58511,58527,58575,58714,59111,59593,60052,60414,60920,61286,61623,61857,62260,62709,63139,63490,63525,63746,64151,64270,64281,64476,64587,64731,64858,65308,65688,65698,65911,66190,66296,66350,66492,66797,66962,67337,67507,67673,67987,68119,68519,68648,69038,69121,69609,69947,70287,70404,70566,70568,70768,70876,71395,71703,72091,72462,72516,72668,73008,73467,73935,74132,74142,74201,74417,74855,75163,75413,75865,76372,76405,76544,77030,77508,77852,78303,78410,78600,79068,79236,79658,79919,80057,80500,80682,80983,81455,81749,81850,81945,82165,82215,82680,82811,83327,83370,83497,83954,84043,84110,84188,84432,84609,84625,84942,85191,85201,85329,85816,85927,85971,86316,86458,86735,87158,87327,87376,87439,87862,87877,88387,88897,89024,89297,89752,90104,90241,90640,91050,91052,91453,91674,92155,92460,92932,93232,93383,93759,94166,94521,94638,94943,95136,95625,95836,96219,96703,97048,97212,97325,97814,97891,98397,98479,98590,98591,98717,98958,99064,99102,99461,99626,99831,99847,100190,100703,101227,101504,101524,101931,102034,102060,102180,102668,102828,103176,103562,104076,104585,104956,105260,105715,105975,106482,106866,106979,107349,107568,108091,108560,108953,109072,109500,109579,110073,110472,110815,110819,111321,111598,111969,112166,112305,112343,112852,112975,113017,113495,113529,113581,113866,114002,114525,115003,115465,115633,115931,115998,116227,116564,116994,117168,117551,118024,118057,118544,118878,119399,119509,119816,120278,120451,120805,121209,121558,121701,122070,122187,122534,122902,123268,123713,124126,124649,124793,125040,125445,125608,125682,126193,126196,126579,126921,127298,127751,127969,128409,128570,128824,129009,129324,129802,129918,130112,130165,130679,131169,131521,131753,132153,132268,132718,132884,133186,133627,133897,134338,134784,134788,135237,135629,135712,135897,135943,136102,136496,136541,136551,136880,137405,137493,137899,138130,138284,138707,138800,138863,139020,139489,139964,140344,140713,140911,141311,141760,142192,142196,142703,143061,143196,143508,143758,144092,144112,144175,144604,144765,144920,145129,145503,145506,145900,146016,146038,146494,146577,146928,147371,147527,147878,147903,148250,148374,148757,149018,149286,149713,149751,149924,150370,150404,150479,150715,151189,151331,151784,152020,152265,152299,152514,152613,152829,153317,153757,153851,154235,154654,155071,155398,155519,155795,155991,156272,156561,156566,156664,156792,156899,156974,157339,157647,158042,158227,158702,159027,159440,159561,160067,160334,160607,160717,161083,161168,161480,161772,162281,162614,162982,162994,163385,163703,163819,164019,164379,164858,165346,165622,165735,166150,166228,166700,166879,167093,167278,167564,167993,168057,168444,168835,168970,169249,169703,170083,170411,170906,171277,171692,172018,172476,172802,173320,173809,174000,174073,174319,174561,174572,175054,175074,175358,175790,175842,175909,176078,176417,176747,176764,177119,177614,178026,178456,178630,178647,178716,178723,179055,179407,179793,180024,180373,180666,181064,181300,181757,181769,181931,182111,182122,182302,182628,182880,183118,183567,184001,184277,184359,184813,184889,185057,185173,185519,185878,186104,186527,187002,187287,187770,188290,188538,188552,188784,189212,189337,189481,189765,190030,190216,190473,190677,190958,191200,191346,191791,192217,192324,192371,192894,192963,193139,193424,193710,193771,193972,194442,194708,194949,195190,195478,195610,196028,196281,196577,196893,197335,197671,197980,198197,198417,198465,198629,198809,199102,199330,199555,199608,200018,200200,200402,200664,200858,201115,201279,201757,201794,201856,202145,202375,202727,202785,202988,203149,203397,203531,203549,203724,204058,204347,204530,204860,204880,205283,205305,205751,206187,206638,206657,206788,206847,206874,206986,207318,207542,207612,207897,208218,208279,208628,208833,208977,209050,209530,209585,209961,210047,210077,210577,210808,211272,211747,212183,212445,212624,213014,213425,213901,213928,213983,214003,214520,214860,214904,215059,215147,215276,215445,215904,216288,216463,216863,217242,217697,217777,218302,218395,218686,219135,219359,219446,219903,220076,220356,220455,220468,220654,220739,221092,221538,222042,222121,222222,222545,222789,223118,223396,223520,223845,224015,224306,224581,224953,225346,225799,225824,226112,226416,226614,226733,226993,227408,227684,228066,228263,228554,228878,229250,229758,229899,230270,230674,231009,231041,231176,231370,231455,231841,231860,232093,232512,232871,233328,233406,233743,233829,234323,234842,235076,235144,235595,235954,236124,236333,236353,236397,236507,236583,236975,237257,237692,238154,238523,238634,238840,238894,239181,239186,239524,239855,239953,240186,240669,241132,241270,241599,242107,242403,242849,243168,243537,244036,244347,244779,244857,245163,245171,245227,245703,245978,245978,246484,246656,246765,247018,247251,247441,247768,248216,248323,248524,248588,248640,248968,249185,249290,249550,249552,249563,249786,250028,250190,250558,250574,250886,250996,251077,251325,251558,251592,251843,252214,252488,252761,252943,253343,253390,253475,253813,254294,254519,254823,255300,255746,255848,256323,256604,257052,257194,257231,257599,257862,258112,258196,258524,258887,259065,259119,259318,259649,259813,260243,260365,260707,261157,261637,261826,262067,262084,262558,263058,263448,263832,264260,264440,264932,265038,265156,265203,265573,266021,266440,266570,266709,266848,267313,267640,267739,267808,267860,268200,268648,268838,269302,269602,269847,269887,270293,270501,271002,271385,271814,272099,272512,272550,272990,273165,273497,273521,273818,273895,274202,274651,274856,275246,275487,275801,275946,276245,276423,276599,276751,277142,277161,277575,277956,278304,278444,278541,278743,278788,278993,279348,279481,279785,279829,280163,280330,280600,281122,281338,281592,282023,282407,282740,283153,283587,284021,284271,284531,284910,285097,285367,285562,285883,285968,286019,286285,286543,286925,287268,287513,287715,288232,288716,288969,289482,289575,290076,290491,290910,291069,291255,291681,292009,292244,292512,292577,292665,292671,292716,292990,293284,293471,293978,294201,294590,295087,295175,295525,295694,295772,295812,296087,296287,296635,297097,297495,297584,297876,298080,298585,298879,299254,299503,299929,300111,300204,300639,300914,301208,301213,301291,301762,302078,302294,302380,302694,303126,303339,303634,304094,304277,304775,305232,305555,305762,305767,305828,306143,306430,306600,306642,306742,307056,307395,307909,308238,308667,308953,308966,309290,309357,309834,310120,310515,310948,311268,311772,312139,312393,312465,312488,312638,313113,313353,313398,313619,314055,314138,314547,314743,314863,314989,315355,315602,315683,316053,316116,316506,316889,317330,317782,318194,318241,318420,318912,319316,319837,320047,320067,320221,320289,320364,320680,321027,321343,321559,321559,321684,321730,321871,322275,322639,322749,322924,323117,323265,323587,323764,323951,323971,324353,324720,325125,325640,325891,326152,326162,326681,326987,327364,327800,327850,328298,328381,328471,328585,328665,328784,328977,329370,329731,330012,330531,330583,330728,330842,331128,331290,331454,331828,331838,332358,332811,332990,333065,333465,333889,333898,334388,334487,334706,334738,335183,335374,335846,336254,336268,336513,336990,337271,337451,337666,337998,338429,338682,338743,338838,339125,339631,340081,340324,340578,340780,341301,341759,342104,342246,342328,342627,342959,343200,343323,343374,343376,343630,344134,344317,344541,345001,345211,345364,345489,345668,345682,345920,346216,346639,347039,347040,347523,347974,348291,348788,349304,349467,349487,349812,350077,350247,350400,350556,350806,351004,351108,351327,351621,351961,352323,352563,353003,353365,353469,353755,353788,353827,353862,353933,354452,354925,355016,355252,355284,355766,356201,356663,356755,357048,357158,357231,357305,357822,358209,358683,358814,359255,359312,359558,360046,360518,360849,361138,361378,361765,362282,362687,362858,363292,363732,363734,363950,364033,364398,364495,364978,365381,365846,366366,366729,367008,367090,367209,367702,368139,368366,368555,368760,369033,369107,369245,369423,369434,369791,370120,370142,370376,370885,370890,371059,371487,371893,372357,372585,373045,373374,373738,373969,374402,374735,375102,375391,375506,375582,375706,376134,376547,376948,377163,377454,377737,378054,378534,378999,379230,379504,379899,380418,380904,381371,381729,381939,382263,382451,382688,382956,383373,383806,383850,384044,384391,384455,384520,384639,384728,385107,385606,385933,386188,386319,386777,386809,387076,387405,387460,387537,387722,388028,388312,388550,388710,388735,388737,388986,389226,389564,390015,390046,390210,390570,390892,391056,391156,391221,391465,391722,391751,391890,392350,392525,392617,393042,393085,393135,393528,393909,394219,394666,395045,395528,395780,396006,396462,396937,397072,397122,397546,398002,398083,398552,399060,399451,399934,400062,400378,400799,400908,401070,401132,401536,401896,402340,402558,403018,403435,403868,404159,404193,404247,404251,404297,404810,405125,405357,405774,405935,406253,406457,406651,406947,407419,407927,408220,408676,408777,408788,409032,409301,409807,410324,410558,411043,411201,411475,411552,411993,412513,413006,413125,413474,413884,414256,414439,414554,414685,414774,415211,415580,415751,415812,415938,416148,416635,416782,417081,417316,417600,417988,418233,418401,418401,418495,418753,419046,419566,419950,420341,420403,420571,420891,421373,421442,421877,422179,422576,423009,423527,423571,424019,424050,424158,424481,424895,424940,425196,425492,425914,426276,426549,426755,427264,427366,427420,427869,428246,428756,428784,429062,429525,429809,430094,430335,430566,430875,431128,431466,431873,432306,432404,432515,432867,432976,433300,433486,434006,434014,434435,434445,434698,435114,435156,435452,435836,435917,436191,436361,436483,436647,437151,437567,437792,438012,438406,438930,439098,439481,439902,440004,440263,440550,440790,440890,441406,441709,442112,442231,442378,442436,442795,443140,443443,443841,444275,444401,444509,444828,444884,444995,445245,445307,445696,446127,446368,446647,447156,447426,447440,447954,448067,448591,448748,448843,448896,448952,449255,449288,449594,450015,450481,450882,450926,451163,451518,451650,452024,452310,452564,452635,453084,453391,453805,453994,454168,454245,454291,454335,454710,455139,455542,456059,456376,456453,456521,456752,456779,456916,457073,457591,457730,457788,458300,458549,459023,459434,459507,459542,459906,460346,460616,460700,461179,461578,462011,462176,462290,462806,463195,463429,463516,463576,463934,464248,464770,465018,465478,465593,465838,465907,466026,466218,466279,466493,466855,467280,467619,467744,468115,468325,468782,469058,469445,469882,470026,470268,470632,471085,471418,471482,471504,471868,471871,471880,471958,472133,472530,472816,473257,473397,473750,474011,474523,474943,475451,475712,475859,475933,476098,476591,476883,477085,477299,477709,477746,478269,478682,479049,479424,479437,479710,479954,480108,480157,480186,480454,480931,481388,481740,481906,482064,482492,482623,482702,483054,483535,483810,484067,484353,484652,484872,485194,485561,485685,486090,486553,486844,486979,487369,487618,487969,488220,488519,488788,489157,489432,489588,489627,490008,490409,490583,490679,490916,491108,491165,491365,491817,492167,492213,492409,492789,492798,493132,493177,493312,493601,494030,494494,494833,495023,495236,495287,495468,495967,496477,496860,497169,497557,497569,497641,497721,497869,498320,498450,498741,499236,499383,499680,499815,499856,500359,500845,500852,501173,501337,501379,501860,502304,502676,502976,503233,503322,503481,503537,503769,504067,504271,504738,505237,505261,505268,505303,505670,506128,506519,506767,507111,507215,507714,508035,508348,508732,508863,509073,509364,509820,509902,509934,510079,510344,510787,511110,511349,511363,511697,512203,512584,513102,513594,514038,514416,514722,515133,515175,515242,515627,516121,516203,516618,516995,517073,517406,517443,517851,517922,518156,518626,519121,519221,519507,519873,520360,520771,520980,521161,521629,521871,522004,522039,522148,522251,522455,522911,522946,522946,523047,523169,523251,523323,523460,523727,523773,523987,524465,524870,525112,525199,525547,525989,526299,526764,526821,527237,527374,527826,528211,528370,528845,529077,529315,529394,529761,530053,530156,530226,530546,530962,531210,531572,531824,532214,532351,532604,533094,533342,533689,534142,534249,534353,534663,534664,534765,535120,535171,535186,535366,535734,535822,535836,536115,536194,536486,536957,536980,537471,537530,538050,538447,538682,538934,538974,539312,539366,539388,539769,540253,540621,540854,540944,541416,541894,542403,542785,543180,543242,543542,543692,544127,544413,544873,545183,545603,546024,546518,546867,546916,547085,547372,547579,548098,548452,548797,549135,549404,549536,549845,550347,550797,551092,551345,551709,551838,552138,552649,552721,553177,553215,553581,553873,553916,554081,554506,554829,555234,555376,555785,556009,556361,556624,557054,557388,557712,557990,558021,558267,558681,558729,559086,559530,559886,559969,560075,560484,560979,561282,561746,561990,562352,562695,563031,563319,563580,563717,563935,564457,564782,565221,565449,565879,565995,566319,566475,566622,567041,567208,567258,567549,568029,568085,568169,568529,568647,568921,569019,569206,569354,569527,569619,570114,570296,570654,571086,571277,571290,571671,572190,572292,572602,573105,573331,573601,574033,574314,574597,575103,575215,575608,575719,575924,576390,576532,576890,576944,577356,577731,578066,578166,578302,578530,579010,579387,579430,579809,579822,579858,580278,580769,580998,581075,581451,581737,582126,582518,582845,582974,583316,583676,583823,584284,584725,584887,585058,585343,585837,586218,586426,586716,587227,587332,587534,587879,588301,588397,588858,589210,589345,589568,589794,590134,590254,590657,590775,591115,591506,591596,592096,592579,592835,593064,593482,593743,594177,594262,594644,594679,594929,595294,595782,596223,596250,596610,597076,597239,597453,597476,597576,597935,598180,598686,598765,598810,599071,599594,599897,600116,600560,600864,601182,601465,601936,602047,602074,602117,602339,602386,602683,602716,602900,603093,603192,603477,603865,604055,604262,604609,604933,605291,605374,605472,605627,605911,606340,606345,606801,607144,607343,607635,608010,608354,608772,609102,609617,609958,610168,610474,610568,610694,610700,611152,611205,611490,611554,612049,612395,612686,613147,613263,613374,613564,613571,613721,614013,614323,614375,614595,614642,615064,615393,615888,616284,616317,616765,616995,617434,617871,618099,618614,618805,618933,618987,619244,619688,620205,620672,621057,621552,621983,622242,622715,623179,623459,623961,624436,624649,624749,625009,625415,625617,625768,626073,626247,626573,627093,627596,627793,628249,628628,628880,628980,629353,629529,630018,630455,630772,631270,631396,631616,632102,632236,632681,633071,633450,633601,634066,634459,634919,635206,635266,635421,635578,635718,635848,636183,636265,636316,636655,637058,637239,637654,638048,638314,638426,638650,638952,639169,639344,639671,640050,640499,640986,641383,641560,641985,642054,642321,642650,643030,643181,643343,643707,644216,644440,644632,645124,645126,645481,645925,646293,646737,646948,647096,647540,647996,648411,648502,648725,648891,648904,649011,649488,649558,649618,649849,650022,650332,650613,651110,651323,651649,651791,652263,652440,652881,653010,653076,653541,653552,654014,654375,654545,654949,655410,655568,655946,656061,656101,656228,656501,656688,656957,657302,657823,658262,658785,659209,659414,659670,660195,660210,660654,660988,661184,661335,661670,661896,661931,662072,662198,662392,662613,662714,663116,663146,663330,663741,663968,664231,664293,664358,664776,665281,665706,666000,666234,666458,666918,667026,667370,667856,668303,668322,668612,668932,669074,669344,669822,670148,670558,670973,670994,671311,671581,671924,671995,672080,672197,672490,672691,673021,673255,673470,673674,673793,674304,674712,675070,675215,675731,676131,676391,676505,676537,676870,677315,677393,677882,678126,678625,678674,678922,679020,679023,679338,679449,679836,680165,680208,680412,680850,681244,681462,681921,682280,682442,682660,683046,683278,683347,683420,683929,684042,684422,684632,684711,684926,685230,685579,685581,685801,686261,686310,686583,686598,686638,686706,686982,687348,687418,687506,687656,687987,688219,688309,688729,688958,689154,689403,689921,690099,690343,690473,690632,690872,690930,691353,691801,692273,692611,692639,693140,693647,693988,694231,694451,694713,694714,694738,694893,695376,695662,695906,696330,696372,696417,696934,697363,697383,697733,697734,698201,698552,698757,699278,699688,699958,700455,700554,700715,700929,700997,701486,701532,701804,702305,702344,702861,702904,703006,703178,703352,703419,703760,703889,704193,704612,704706,705152,705318,705836,706100,706378,706735,706978,707020,707422,707843,707931,708217,708423,708596,708794,709271,709762,710078,710421,710799,710801,710805,711001,711431,711484,711631,711774,712065,712445,712908,713155,713222,713490,713758,713929,714103,714161,714419,714768,714862,714895,715046,715060,715076,715502,716001,716440,716939,717208,717660,718182,718200,718495,718794,718826,718931,719145,719306,719394,719897,720111,720623,720719,720951,721298,721587,721981,722022,722208,722679,722715,722775,722798,723252,723577,723769,724185,724337,724617,724938,725416,725877,725950,726112,726251,726340,726631,727145,727536,728004,728303,728340,728437,728724,728811,729233,729662,730013,730445,730877,731069,731332,731748,732037,732377,732868,733011,733197,733485,733901,734317,734643,735069,735381,735681,735978,736224,736286,736468,736726,737101,737141,737434,737524,738044,738317,738704,739223,739563,739620,740110,740627,740833,741030,741315,741769,742176,742593,742826,743289,743655,744118,744639,744712,745054,745546,746044,746403,746712,747200,747650,748038,748537,748969,749032,749447,749697,749974,750053,750466,750849,751055,751148,751550,751753,752105,752226,752614,752665,752762,753093,753153,753468,753846,753906,754375,754697,754886,755191,755472,755800,756005,756489,756976,757124,757465,757465,757473,757988,758304,758481,758816,759042,759178,759478,759919,760072,760384,760666,761156,761316,761596,761627,762135,762173,762227,762584,762851,763260,763644,763695,763985,764122,764308,764755,764847,765278,765399,765654,765681,765891,766070,766178,766489,766685,767119,767155,767369,767605,767901,768305,768459,768632,769117,769577,770058,770574,770809,771280,771573,771869,772088,772417,772615,772824,772949,773229,773302,773462,773822,774152,774541,774903,774933,775255,775562,775874,775905,776124,776498,776945,777331,777626,777780,778045,778160,778438,778849,779166,779168,779349,779776,780284,780524,780945,781120,781291,781620,782032,782500,782576,783005,783145,783331,783370,783739,784006,784170,784608,784880,785261,785647,786099,786336,786471,786514,786600,786896,787287,787474,787871,788045,788333,788497,788681,788775,788814,789133,789188,789239,789384,789438,789669,789869,789881,790040,790203,790581,791045,791519,791965,792181,792344,792458,792980,793352,793531,793665,793984,794306,794418,794785,795045,795369,795716,796161,796395,796745,797171,797446,797965,798340,798558,798771,799017,799262,799397,799518,799601,799916,800296,800497,800851,801070,801213,801534,801798,801973,802227,802596,802832,802958,803132,803289,803750,804096,804101,804590,804866,804956,804980,805267,805681,805961,806122,806244,806523,806758,807195,807616,807914,808194,808647,808951,808960,809277,809538,809581,810066,810250,810440,810473,810690,810883,811358,811736,811749,812147,812668,812726,812851,812949,813124,813345,813830,814349,814351,814561,814798,815056,815190,815481,815648,815819,816081,816321,816532,816731,817236,817507,817586,818024,818401,818540,818769,819253,819347,819388,819510,819597,819708,820016,820504,820814,821139,821609,821925,821930,822324,822355,822622,822775,822790,822980,823043,823335,823822,824283,824400,824682,824877,825286,825344,825804,825979,826095,826098,826400,826835,827120,827214,827442,827923,828368,828550,829023,829100,829107,829266,829657,829895,829949,829973,830492,830525,830952,831084,831113,831146,831331,831519,831897,832299,832627,832810,832823,833099,833189,833355,833683,833862,834029,834070,834219,834420,834875,835212,835250,835552,835889,836153,836678,837154,837529,837789,837858,838243,838339,838823,838867,839336,839366,839370,839399,839834,840054,840151,840408,840429,840549,840996,841433,841517,841861,842140,842321,842585,842810,842959,843083,843108,843245,843594,843752,843758,844270,844359,844636,844726,844821,845157,845245,845729,846047,846380,846494,846542,846825,847127,847638,847927,848168,848656,849041,849197,849267,849461,849582,849838,850111,850251,850329,850652,851011,851279,851403,851791,852218,852262,852358,852551,852799,852891,853392,853526,853967,854302,854615,854928,855242,855628,855764,856122,856372,856710,856773,857149,857371,857417,857507,857983,858185,858429,858500,858926,859264,859279,859318,859733,860155,860398,860674,860687,860706,861161,861501,861654,861880,861984,862449,862608,862866,863261,863261,863786,863862,864075,864388,864697,865073,865441,865492,865776,866091,866135,866161,866289,866296,866536,867028,867206,867451,867578,867831,868044,868491,868949,869183,869289,869353,869611,870113,870297,870594,870751,871137,871344,871370,871632,871937,872044,872046,872317,872368,872455,872660,873059,873231,873333,873661,873829,874110,874180,874386,874660,874730,874841,875195,875377,875682,875912,876015,876016,876181,876304,876524,876530,876766,877031,877426,877749,877759,878158,878438,878895,879277,879658,880178,880427,880749,880817,881096,881472,881974,882304,882493,882641,882805,883260,883423,883673,884122,884641,884879,884933,885351,885487,885850,886051,886322,886510,886899,886916,886950,887400,887735,887840,887931,888019,888300,888815,888887,889343,889707,889765,889906,890254,890317,890603,890703,890718,891097,891446,891593,892011,892523,893004,893140,893189,893597,894120,894617,894710,895045,895386,895630,895705,895744,895896,896156,896573,896862,897057,897420,897820,898045,898138,898395,898507,898990,899384,899882,900160,900269,900729,900941,901078,901551,902030,902492,902704,902867,902890,902943,903104,903172,903285,903382,903410,903577,903963,904287,904686,904915,905311,905324,905830,906129,906253,906447,906500,906831,907080,907481,907614,907966,908193,908480,908592,909107,909609,910079,910269,910720,910997,911513,911615,911720,911997,912017,912508,912528,912581,913080,913337,913445,913920,914020,914149,914466,914957,915392,915808,916211,916276,916534,916927,917080,917325,917344,917483,917592,917989,918377,918389,918543,918953,919193,919234,919282,919721,919949,919994,920463,920955,921036,921559,921801,922136,922405,922433,922797,923232,923521,923864,924347,924710,925219,925268,925484,925815,926336,926385,926780,927286,927695,928176,928418,928443,928723,928836,929111,929625,929963,930361,930435,930588,930969,931071,931266,931623,931936,932143,932454,932489,932902,933022,933310,933331,933754,933938,934169,934477,934720,935163,935541,935793,936270,936727,936792,937055,937083,937356,937505,937634,937816,938075,938391,938741,939000,939502,939851,940260,940466,940907,941212,941672,941782,941816,942053,942376,942395,942555,942965,943069,943352,943815,944297,944479,944776,944838,945254,945590,945906,946140,946304,946440,946656,947086,947596,947627,947744,947776,948277,948725,949101,949384,949773,949911,950355,950538,951061,951470,951642,952012,952038,952143,952288,952361,952701,952902,953169,953561,953696,954189,954404,954897,955204,955382,955761,955827,956028,956434,956513,956519,956925,957320,957439,957938,958031,958406,958431,958610,959095,959131,959643,959739,959903,960394,960719,960822,961347,961561,961738,961955,962426,962758,963065,963121,963619,963747,964118,964321,964733,965032,965383,965500,965895,966265,966346,966597,967097,967353,967464,967957,967994,968022,968461,968933,969458,969468,969701,970094,970486,971008,971019,971212,971455,971690,972056,972506,972947,973301,973697,974210,974731,975101,975121,975281,975679,976112,976273,976516,976982,977253,977744,978196,978502,978865,978872,979139,979310,979536,979696,979703,979990,980491,980624,980939,981348,981479,981862,982182,982386,982477,982786,983111,983346,983730,983924,984103,984275,984606,984617,984838,985058,985506,985705,985980,986306,986652,986888,986915,987023,987342,987385,987726,988248,988669,989090,989165,989352,989481,989647,989778,990211,990550,990753,991221,991605,991694,991966,992451,992584,992879,993004,993361,993588,993877,994193,994348,994403,994504,994991,995007,995423,995530,995794,996061,996502,996531,996865,996935,997385,997754,998094,998573,999073,999128,999383,999684,999860,1000140,1000421,1000730,1000969,1001184,1001337,1001547,1001896,1002025,1002331,1002420,1002845,1003138,1003423,1003481,1003641,1003922,1004267,1004642,1004783,1005137,1005560,1005642,1005704,1006003,1006331,1006392,1006410,1006729,1006770,1006965,1007200,1007467,1007787,1008103,1008246,1008647,1009069,1009139,1009629,1009898,1010241,1010590,1011090,1011105,1011114,1011307,1011747,1011823,1011910,1011952,1012321,1012684,1012777,1012851,1012969,1013410,1013929,1014302,1014346,1014765,1014909,1015311,1015415,1015837,1015991,1016252,1016717,1016979,1017092,1017196,1017275,1017400,1017585,1018042,1018363,1018444,1018632,1019103,1019388,1019622,1019703,1020067,1020443,1020782,1020879,1021379,1021480,1021862,1022370,1022873,1023392,1023424,1023854,1023871,1024351,1024618,1025076,1025419,1025565,1025575,1025833,1026243,1026578,1026730,1026883,1027297,1027326,1027610,1028061,1028347,1028558,1028671,1028965,1028979,1029246,1029293,1029788,1029807,1029871,1030227,1030262,1030691,1031011,1031274,1031344,1031362,1031792,1031861,1031890,1032292,1032671,1033183,1033383,1033867,1033904,1034121,1034406,1034779,1034890,1034935,1035362,1035648,1035921,1036405,1036564,1036668,1036971,1037245,1037632,1038014,1038410,1038598,1038845,1039032,1039547,1039766,1039941,1040368,1040451,1040637,1041006,1041282,1041681,1042195,1042221,1042541,1042622,1042682,1043150,1043393,1043735,1043817,1043985,1044432,1044909,1045280,1045644,1045818,1046338,1046489,1046918,1046939,1047248,1047710,1047747,1047869,1047922,1048411,1048782,1048926,1049015,1049273,1049284,1049328,1049555,1049824,1050071,1050265,1050773,1051022,1051274,1051391,1051458,1051901,1052163,1052610,1052755,1053261,1053662,1054182,1054676,1055079,1055596,1055999,1056104,1056368,1056678,1056737,1056737,1056876,1057058,1057305,1057355,1057440,1057634,1057953,1058139,1058256,1058701,1058982,1059203,1059303,1059789,1060018,1060382,1060861,1061026,1061370,1061478,1061583,1061991,1062023,1062199,1062215,1062634,1063124,1063127,1063377,1063500,1063968,1064309,1064830,1065175,1065580,1065619,1065898,1065915,1066029,1066506,1066521,1066615,1067037,1067090,1067240,1067678,1067894,1068272,1068733,1069222,1069545,1069718,1069815,1070169,1070532,1071035,1071310,1071543,1071680,1071879,1071888,1072001,1072319,1072754,1073223,1073334,1073685,1073748,1073833,1074248,1074418,1074660,1074816,1075097,1075365,1075763,1076085,1076584,1076907,1077151,1077208,1077414,1077919,1078066,1078095,1078201,1078340,1078816,1078840,1079242,1079700,1079853,1079884,1080016,1080477,1080678,1081031,1081428,1081820,1082107,1082613,1082968,1083231,1083498,1083513,1083614,1084100,1084476,1085000,1085509,1085764,1086206,1086617,1086741,1086910,1087018,1087369,1087567,1087703,1087920,1088265,1088390,1088608,1088816,1088883,1089007,1089175,1089360,1089753,1090239,1090331,1090656,1090809,1090810,1091187,1091373,1091742,1092189,1092566,1092701,1093149,1093639,1093735,1093746,1094156,1094380,1094650,1095116,1095371,1095590,1095864,1096103,1096523,1096768,1097127,1097500,1097958,1098470,1098922,1099398,1099813,1099958,1100234,1100308,1100635,1100699,1100875,1101118,1101375,1101789,1102078,1102491,1102677,1102857,1102887,1103030,1103475,1103712,1104033,1104070,1104350,1104752,1104956,1105084,1105515,1105894,1106276,1106590,1106613,1106828,1107259,1107302,1107795,1108146,1108183,1108277,1108515,1108541,1109026,1109131,1109505,1109560,1109937,1110049,1110450,1110815,1111279,1111787,1112221,1112627,1112999,1113242,1113677,1113826,1114265,1114787,1114982,1115164,1115428,1115800,1116081,1116293,1116450,1116730,1117088,1117323,1117563,1117565,1117630,1117797,1117951,1118415,1118654,1118969,1119086,1119539,1120033,1120504,1120554,1120762,1120913,1121006,1121366,1121854,1122049,1122092,1122360,1122596,1123084,1123323,1123645,1123684,1123822,1124138,1124474,1124880,1125054,1125286,1125653,1125893,1125902,1125947,1126334,1126624,1126647,1127122,1127212,1127459,1127937,1128168,1128252,1128364,1128509,1128566,1128907,1129296,1129805,1130296,1130560,1130724,1131185,1131501,1131710,1132173,1132587,1132789,1133304,1133435,1133890,1134107,1134255,1134282,1134432,1134823,1135286,1135590,1135674,1136086,1136583,1137033,1137149,1137328,1137369,1137483,1137778,1137779,1137880,1137953,1137995,1138039,1138296,1138799,1139150,1139380,1139508,1139675,1140158,1140442,1140792,1140864,1141053,1141405,1141406,1141426,1141636,1141737,1142237,1142590,1143013,1143526,1143742,1144050,1144520,1144766,1145154,1145662,1145909,1146252,1146580,1146705,1147097,1147185,1147373,1147842,1147926,1148162,1148498,1148712,1148714,1148916,1149021,1149202,1149706,1149863,1150089,1150113,1150141,1150414,1150546,1150659,1150977,1150980,1151035,1151340,1151845,1152038,1152560,1152859,1152935,1153038,1153536,1153982,1154252,1154665,1154693,1155190,1155670,1156125,1156345,1156708,1156743,1156847,1156855,1157290,1157482,1157935,1158425,1158699,1158788,1158888,1159408,1159726,1160183,1160249,1160410,1160596,1161100,1161391,1161765,1162105,1162625,1162650,1163035,1163109,1163587,1164026,1164284,1164634,1164826,1165103,1165131,1165401,1165628,1165654,1165713,1165735,1165844,1166319,1166831,1167270,1167291,1167534,1167878,1167988,1168368,1168698,1168704,1168743,1169066,1169550,1169918,1170212,1170488,1170945,1171021,1171479,1171572,1171942,1172029,1172244,1172433,1172491,1172717,1173022,1173050,1173366,1173628,1173811,1174128,1174632,1174946,1175225,1175472,1175780,1175874,1175989,1176127,1176245,1176291,1176691,1177168,1177543,1177797,1177989,1178483,1178903,1178973,1179380,1179741,1179944,1180370,1180473,1180690,1180927,1180993,1181033,1181134,1181442,1181646,1182119,1182590,1182734,1182975,1183369,1183692,1184083,1184315,1184398,1184737,1185143,1185648,1185848,1185893,1186262,1186275,1186384,1186461,1186902,1187289,1187424,1187900,1187928,1188212,1188562,1189013,1189185,1189197,1189352,1189559,1189657,1189958,1190190,1190326,1190466,1190826,1191077,1191499,1191551,1192069,1192093,1192316,1192596,1192871,1193219,1193462,1193493,1193930,1194323,1194809,1194856,1194917,1195236,1195291,1195366,1195744,1196269,1196300,1196546,1196891,1196948,1197075,1197599,1197876,1198200,1198429,1198571,1198625,1198818,1199314,1199593,1199940,1200108,1200594,1200768,1201046,1201359,1201847,1202044,1202170,1202308,1202464,1202575,1202895,1203350,1203501,1203998,1204324,1204701,1205071,1205233,1205383,1205503,1205576,1206062,1206503,1206613,1206855,1207323,1207515,1207744,1207865,1208338,1208338,1208763,1209095,1209418,1209497,1209791,1209856,1210170,1210670,1210839,1210992,1211124,1211515,1211924,1211976,1212212,1212559,1213042,1213351,1213472,1213809,1214304,1214731,1215248,1215269,1215371,1215704,1215934,1216186,1216593,1217089,1217164,1217566,1218091,1218223,1218383,1218527,1218990,1219399,1219905,1219967,1220095,1220569,1220760,1221048,1221501,1221884,1221915,1222220,1222565,1223037,1223542,1223635,1223698,1224190,1224712,1225216,1225368,1225612,1225821,1226149,1226345,1226761,1226877,1226969,1227248,1227420,1227659,1227774,1228168,1228235,1228407,1228456,1228549,1229041,1229309,1229574,1229805,1230320,1230395,1230514,1230836,1231023,1231452,1231465,1231544,1231800,1232244,1232346,1232697,1233180,1233332,1233423,1233894,1234306,1234563,1234899,1235273,1235378,1235900,1236263,1236272,1236473,1236872,1237069,1237095,1237606,1237873,1238317,1238348,1238791,1239307,1239590,1239600,1239997,1240391,1240659,1240938,1241246,1241654,1242042,1242178,1242319,1242533,1242829,1242856,1243075,1243241,1243339,1243730,1243734,1243768,1244086,1244293,1244705,1245077,1245486,1245516,1245919,1246100,1246112,1246152,1246469,1246626,1247106,1247252,1247261,1247537,1247944,1248212,1248664,1249061,1249108,1249374,1249629,1249925,1250371,1250602,1250780,1250989,1251068,1251227,1251662,1251996,1252224,1252288,1252543,1253013,1253403,1253663,1254125,1254266,1254759,1254964,1255079,1255086,1255122,1255573,1255843,1256187,1256393,1256488,1256907,1257145,1257497,1257848,1258368,1258636,1258822,1259100,1259162,1259551,1259893,1260155,1260465,1260841,1261318,1261508,1261516,1261830,1262101,1262300,1262358,1262477,1262951,1263305,1263612,1263967,1264097,1264497,1264660,1265015,1265181,1265345,1265369,1265648,1265737,1265780,1266025,1266074,1266438,1266489,1266679,1267123,1267308,1267687,1268102,1268224,1268679,1268742,1269206,1269677,1269953,1270268,1270414,1270795,1270964,1271007,1271408,1271853,1272183,1272380,1272641,1273117,1273366,1273800,1274224,1274604,1275000,1275422,1275663,1276084,1276496,1276782,1277282,1277378,1277453,1277645,1277923,1278253,1278644,1278791,1278822,1279154,1279309,1279749,1280033,1280300,1280558,1280899,1281297,1281635,1281687,1281810,1282201,1282443,1282632,1282970,1283028,1283121,1283382,1283498,1283910,1284387,1284390,1284767,1284874,1285270,1285406,1285448,1285478,1285988,1286298,1286370,1286444,1286630,1286631,1286820,1287209,1287626,1287694,1287746,1287795,1288091,1288392,1288832,1289123,1289171,1289677,1289899,1289994,1290142,1290534,1290999,1291076,1291193,1291530,1291945,1292199,1292342,1292543,1292914,1293161,1293297,1293605,1293811,1294257,1294695,1294896,1294984,1295161,1295642,1295987,1296504,1296552,1297058,1297113,1297434,1297614,1297620,1298051,1298210,1298458,1298979,1299185,1299691,1300029,1300249,1300699,1300851,1301283,1301410,1301686,1302071,1302391,1302591,1302981,1303157,1303376,1303647,1303947,1304290,1304784,1305229,1305291,1305421,1305771,1305884,1306196,1306652,1306775,1307244,1307353,1307513,1307536,1307557,1307964,1307981,1308470,1308601,1308958,1309044,1309273,1309655,1309875,1310155,1310588,1310685,1310947,1311168,1311592,1311728,1311817,1312118,1312577,1312629,1312795,1313135,1313481,1313668,1313820,1314105,1314315,1314375,1314476,1314567,1314684,1314887,1315265,1315549,1315974,1316041,1316131,1316420,1316510,1316684,1317073,1317478,1317568,1317587,1317818,1318015,1318255,1318706,1318881,1318976,1319312,1319511,1319768,1320034,1320213,1320256,1320472,1320764,1320965,1321450,1321602,1321737,1321749,1322098,1322158,1322350,1322653,1322674,1322976,1323137,1323612,1323791,1323826,1324088,1324261,1324266,1324552,1324612,1324635,1324756,1324844,1325287,1325551,1325831,1325995,1326277,1326448,1326744,1327025,1327440,1327672,1328192,1328285,1328547,1328629,1328824,1328881,1329313,1329727,1329845,1330093,1330343,1330639,1330775,1330834,1331105,1331566,1331909,1331968,1332144,1332198,1332522,1332641,1332771,1332995,1333178,1333556,1333827,1333880,1334170,1334196,1334399,1334556,1334591,1335023,1335506,1335580,1336032,1336422,1336902,1337253,1337377,1337630,1337789,1338303,1338409,1338695,1338925,1339179,1339321,1339439,1339646,1340046,1340187,1340271,1340463,1340623,1341112,1341542,1341814,1342245,1342489,1342503,1342576,1342979,1343310,1343728,1343888,1344018,1344214,1344321,1344548,1344727,1345145,1345351,1345518,1345547,1345857,1346096,1346284,1346753,1346811,1346820,1346983,1347353,1347686,1347902,1347941,1348195,1348255,1348735,1349094,1349297,1349703,1349761,1350130,1350159,1350324,1350709,1350712,1351030,1351351,1351799,1351811,1352057,1352440,1352634,1352796,1352957,1353230,1353321,1353748,1353785,1354020,1354127,1354140,1354310,1354488,1354931,1355140,1355446,1355500,1355568,1355926,1356432,1356475,1356763,1357131,1357272,1357685,1358190,1358354,1358461,1358572,1358670,1359106,1359461,1359620,1359938,1360434,1360866,1361214,1361466,1361865,1362321,1362585,1362841,1363312,1363726,1363911,1363927,1364399,1364692,1364873,1365009,1365426,1365566,1365634,1365833,1365910,1365984,1366135,1366198,1366689,1366754,1366987,1367363,1367852,1367919,1368406,1368555,1368738,1369229,1369703,1369955,1370408,1370443,1370768,1370962,1371298,1371572,1371705,1372139,1372425,1372858,1372911,1373296,1373351,1373618,1374141,1374440,1374824,1374980,1375012,1375450,1375743,1375988,1376227,1376665,1376701,1377166,1377219,1377255,1377766,1377824,1378122,1378322,1378492,1378787,1379237,1379587,1379698,1380118,1380462,1380834,1381219,1381723,1382041,1382336,1382514,1382694,1383174,1383590,1383775,1383839,1383941,1384153,1384606,1384750,1385170,1385283,1385307,1385421,1385622,1385808,1386173,1386465,1386662,1386817,1386930,1386942,1387266,1387291,1387666,1387917,1388153,1388563,1388695,1389213,1389489,1389844,1390293,1390623,1390925,1391261,1391491,1391999,1392202,1392632,1393055,1393055,1393158,1393354,1393622,1393925,1394006,1394431,1394807,1394939,1395436,1395732,1395735,1395964,1396336,1396812,1397159,1397188,1397294,1397721,1398219,1398481,1398918,1399119,1399128,1399368,1399584,1399979,1400432,1400928,1401248,1401544,1401794,1401942,1402417,1402713,1402785,1402923,1403177,1403579,1404051,1404320,1404529,1404985,1405371,1405453,1405876,1406039,1406472,1406868,1407078,1407116,1407429,1407769,1407903,1407987,1408105,1408526,1408804,1409139,1409389,1409648,1410080,1410304,1410828,1411313,1411377,1411783,1412032,1412187,1412407,1412741,1413195,1413469,1413714,1414187,1414418,1414584,1414667,1415075,1415334,1415579,1415946,1416315,1416691,1416936,1417290,1417371,1417437,1417755,1418161,1418293,1418729,1418846,1419360,1419825,1420318,1420342,1420755,1420871,1420996,1421456,1421476,1421518,1421555,1421631,1422147,1422259,1422366,1422770,1422863,1423183,1423447,1423891,1424251,1424604,1424652,1425073,1425328,1425666,1426142,1426436,1426815,1427325,1427372,1427650,1427788,1427979,1428266,1428760,1428811,1428958,1429154,1429558,1429909,1430433,1430829,1430854,1431301,1431323,1431650,1431771,1431916,1432026,1432497,1432684,1432685,1433188,1433283,1433530,1433856,1433881,1433971,1434318,1434546,1434818,1434974,1435493,1435617,1436061,1436241,1436634,1437039,1437135,1437290,1437416,1437874,1438199,1438372,1438417,1438784,1439146,1439471,1439669,1439699,1439949,1439966,1440185,1440281,1440515,1441037,1441345,1441427,1441878,1441991,1442086,1442270,1442602,1442726,1443225,1443723,1444141,1444404,1444798,1445229,1445551,1445628,1445825,1446230,1446486,1446879,1447298,1447813,1447982,1448063,1448187,1448593,1449016,1449199,1449222,1449393,1449875,1450255,1450297,1450674,1450908,1451012,1451058,1451242,1451481,1451492,1451566,1451619,1451850,1452112,1452182,1452553,1452986,1453304,1453487,1453657,1454083,1454309,1454408,1454674,1455160,1455597,1456073,1456236,1456342,1456865,1457330,1457567,1457913,1458006,1458117,1458372,1458535,1458574,1458681,1458709,1459133,1459332,1459559,1459964,1460233,1460325,1460813,1461007,1461379,1461434,1461453,1461971,1462461,1462473,1462824,1462829,1463045,1463107,1463401,1463796,1463849,1463974,1464068,1464304,1464402,1464770,1464776,1465186,1465709,1465787,1466009,1466158,1466463,1466552,1466679,1466868,1467168,1467563,1467727,1468225,1468443,1468720,1469056,1469236,1469744,1470045,1470144,1470206,1470586,1470991,1471513,1471688,1472165,1472627,1472710,1473040,1473116,1473625,1473696,1474032,1474323,1474468,1474747,1475228,1475659,1475733,1476071,1476568,1476616,1477075,1477520,1477934,1478162,1478320,1478648,1478810,1479225,1479440,1479639,1480130,1480415,1480621,1480706,1480888,1481120,1481454,1481820,1481874,1482008,1482404,1482591,1482945,1483136,1483238,1483517,1483979,1484018,1484117,1484202,1484406,1484436,1484748,1484963,1485242,1485734,1485848,1486082,1486316,1486669,1486878,1487049,1487562,1487947,1488368,1488431,1488911,1489070,1489287,1489796,1490319,1490341,1490732,1490785,1491197,1491210,1491417,1491498,1491918,1492121,1492251,1492340,1492845,1493105,1493280,1493684,1494173,1494332,1494362,1494432,1494441,1494807,1494820,1495199,1495332,1495817,1496328,1496639,1496711,1496915,1497134,1497375,1497836,1498001,1498093,1498101,1498297,1498572,1498879,1499242,1499332,1499352,1499702,1499848,1500048,1500109,1500461,1500880,1500896,1501253,1501745,1501806,1502089,1502251,1502710,1502985,1503450,1503835,1504359,1504719,1505070,1505581,1506090,1506456,1506863,1507118,1507197,1507333,1507408,1507506,1507631,1507975,1508412,1508916,1509335,1509852,1510164,1510593,1511068,1511579,1512024,1512508,1512697,1513117,1513444,1513632,1514156,1514264,1514721,1515221,1515459,1515890,1516129,1516629,1516682,1516881,1517307,1517675,1517709,1517870,1518339,1518576,1518903,1519400,1519492,1519587,1519653,1519791,1520285,1520603,1520605,1520924,1521012,1521131,1521450,1521889,1521920,1522019,1522541,1522672,1522718,1523184,1523309,1523525,1523834,1524070,1524119,1524259,1524557,1524633,1524675,1524893,1524935,1524945,1525297,1525497,1525567,1525917,1526251,1526511,1526957,1527121,1527446,1527558,1527673,1528099,1528244,1528424,1528515,1528809,1529040,1529429,1529753,1530042,1530528,1530669,1531097,1531487,1531606,1531934,1532085,1532281,1532498,1533014,1533196,1533551,1533862,1533939,1534064,1534111,1534178,1534512,1534710,1535068,1535114,1535272,1535367,1535558,1535742,1535891,1536021,1536072,1536249,1536638,1536906,1537090,1537517,1537686,1537899,1537971,1538029,1538202,1538515,1539009,1539441,1539875,1540197,1540661,1541147,1541556,1542032,1542483,1542919,1542944,1543208,1543366,1543593,1543777,1544178,1544385,1544607,1545013,1545395,1545624,1545927,1546069,1546485,1546990,1547511,1547526,1547811,1548002,1548315,1548486,1548835,1548912,1549327,1549698,1549724,1549999,1550182,1550473,1550905,1551305,1551800,1552322,1552460,1552927,1553104,1553342,1553865,1554277,1554632,1554860,1555019,1555412,1555594,1556114,1556163,1556599,1557089,1557492,1557652,1557778,1558131,1558539,1558889,1559139,1559471,1559896,1559969,1560473,1560974,1561403,1561649,1562108,1562339,1562831,1563244,1563766,1563872,1564143,1564156,1564563,1565010,1565140,1565462,1565952,1566243,1566568,1566617,1566901,1567183,1567657,1567869,1568059,1568314,1568551,1568982,1569230,1569482,1569615,1569785,1570171,1570628,1570860,1570946,1571456,1571769,1572098,1572277,1572279,1572670,1572869,1573217,1573282,1573380,1573595,1573943,1574097,1574500,1574674,1574814,1574932,1575129,1575629,1575930,1576217,1576511,1576720,1576746,1576799,1576993,1577466,1577670,1578103,1578455,1578906,1578955,1579281,1579786,1580086,1580471,1580563,1580914,1581154,1581528,1581573,1581719,1581964,1582183,1582618,1583033,1583490,1583986,1584044,1584513,1584946,1585047,1585381,1585647,1585677,1585728,1586199,1586347,1586807,1587102,1587511,1587737,1587976,1588088,1588450,1588631,1588650,1588782,1588888,1589289,1589717,1590028,1590302,1590703,1591105,1591612,1591738,1592226,1592328,1592755,1593265,1593602,1593690,1593999,1594176,1594326,1594756,1595163,1595277,1595602,1595698,1595702,1595893,1596407,1596715,1597080,1597254,1597722,1598050,1598400,1598416,1598647,1598706,1599039,1599369,1599850,1600157,1600380,1600487,1600636,1600725,1601115,1601509,1601678,1602117,1602175,1602181,1602474,1602956,1603445,1603838,1604277,1604414,1604701,1605195,1605652,1605788,1605879,1605995,1606260,1606519,1606770,1606782,1606797,1607003,1607075,1607497,1607910,1608208,1608640,1608880,1608991,1609469,1609515,1610018,1610187,1610195,1610417,1610838,1610995,1611424,1611603,1611979,1612158,1612630,1613018,1613541,1613692,1613880,1614162,1614531,1614913,1614968,1615453,1615508,1615864,1616242,1616671,1616920,1617326,1617590,1618075,1618512,1618724,1619027,1619319,1619710,1619909,1620310,1620647,1620971,1620974,1621244,1621605,1621742,1621935,1622074,1622553,1622963,1623265,1623383,1623553,1623651,1624034,1624457,1624565,1624925,1625442,1625571,1626095,1626232,1626347,1626647,1626966,1627134,1627140,1627359,1627536,1627590,1627801,1628010,1628362,1628801,1628912,1629039,1629060,1629433,1629540,1630040,1630160,1630266,1630441,1630455,1630927,1631119,1631557,1631715,1631976,1632441,1632540,1632967,1633412,1633682,1633701,1633987,1634097,1634449,1634591,1634720,1634909,1635146,1635213,1635230,1635329,1635514,1635888,1636220,1636624,1636949,1637315,1637361,1637742,1637866,1638074,1638152,1638509,1638957,1638961,1639344,1639354,1639804,1639938,1640156,1640241,1640543,1640807,1640873,1640961,1641432,1641930,1642223,1642343,1642502,1642956,1643046,1643060,1643148,1643586,1643760,1643840,1644302,1644418,1644835,1645350,1645816,1646170,1646440,1646610,1646972,1647070,1647177,1647371,1647843,1647910,1648181,1648478,1648861,1649155,1649318,1649377,1649724,1650141,1650406,1650646,1651047,1651191,1651222,1651333,1651393,1651835,1652117,1652495,1652820,1653182,1653260,1653479,1653731,1653964,1654295,1654565,1655018,1655457,1655476,1655972,1656228,1656299,1656553,1656706,1656941,1656970,1657065,1657213,1657224,1657743,1657766,1657804,1658196,1658582,1659067,1659485,1659607,1659891,1660056,1660114,1660501,1660577,1661039,1661487,1661491,1661643,1662111,1662412,1662446,1662484,1662698,1662885,1663114,1663126,1663217,1663259,1663440,1663872,1664166,1664279,1664465,1664681,1664998,1665406,1665586,1665730,1666105,1666437,1666644,1666976,1667004,1667453,1667969,1668223,1668249,1668430,1668691,1668778,1669039,1669068,1669589,1669932,1670225,1670556,1670790,1671121,1671164,1671220,1671366,1671422,1671803,1672184,1672246,1672337,1672597,1672952,1673405,1673795,1673969,1674479,1674801,1675178,1675493,1675543,1675867,1675917,1676108,1676613,1677025,1677056,1677509,1677681,1677894,1677995,1678042,1678178,1678473,1678648,1679131,1679341,1679549,1679746,1680154,1680646,1680872,1681161,1681516,1681862,1682282,1682681,1683118,1683586,1683696,1684004,1684310,1684450,1684905,1685290,1685337,1685829,1685951,1686469,1686820,1687245,1687412,1687871,1688284,1688439,1688494,1688777,1688823,1688916,1689373,1689552,1689858,1690354,1690787,1691210,1691292,1691619,1691683,1691703,1692018,1692254,1692332,1692813,1692953,1693099,1693533,1693621,1693965,1693995,1694179,1694296,1694352,1694562,1695059,1695564,1696064,1696228,1696470,1696584,1696703,1697065,1697360,1697776,1697843,1698030,1698324,1698583,1698754,1699019,1699260,1699514,1699884,1700018,1700371,1700767,1700770,1700870,1700927,1701231,1701306,1701637,1701983,1702093,1702191,1702419,1702858,1703224,1703694,1704181,1704280,1704734,1705200,1705280,1705762,1705939,1706380,1706837,1707106,1707599,1707687,1707984,1708074,1708372,1708772,1708788,1709034,1709534,1709964,1710362,1710515,1710520,1710628,1711043,1711438,1711897,1712205,1712351,1712365,1712732,1712990,1713183,1713236,1713302,1713314,1713648,1714166,1714183,1714695,1714727,1715101,1715373,1715596,1716117,1716168,1716448,1716898,1717290,1717809,1718060,1718100,1718114,1718126,1718412,1718415,1718684,1719206,1719428,1719679,1720081,1720237,1720450,1720785,1720866,1721310,1721554,1721913,1722241,1722282,1722776,1722885,1722953,1723064,1723155,1723389,1723794,1724249,1724383,1724650,1725009,1725282,1725681,1725839,1726203,1726399,1726892,1727386,1727552,1727962,1728021,1728193,1728525,1728749,1728981,1729475,1729518,1729666,1729885,1729900,1730257,1730395,1730586,1730811,1730924,1731029,1731465,1731967,1732300,1732625,1732870,1733244,1733385,1733817,1733992,1734269,1734314,1734567,1734831,1734882,1735118,1735304,1735472,1735814,1736315,1736442,1736691,1736986,1737304,1737707,1737803,1738177,1738699,1738887,1739232,1739692,1739840,1740023,1740147,1740634,1740698,1740734,1741238,1741474,1741474,1741838,1741844,1742336,1742435,1742682,1742894,1742995,1743335,1743352,1743669,1743989,1743999,1744261,1744649,1744975,1745016,1745046,1745537,1745557,1745712,1745990,1746425,1746549,1746639,1747066,1747463,1747895,1748239,1748484,1748664,1748879,1748920,1749032,1749553,1749631,1749874,1749978,1750148,1750260,1750450,1750680,1750702,1750818,1751119,1751529,1751860,1752285,1752353,1752452,1752826,1753328,1753571,1753905,1754065,1754254,1754347,1754479,1754799,1755318,1755455,1755974,1756179,1756307,1756483,1756764,1757232,1757238,1757570,1757648,1757805,1758244,1758659,1758975,1759423,1759708,1759951,1760095,1760491,1760725,1760935,1761245,1761351,1761382,1761885,1762126,1762193,1762210,1762483,1762828,1763150,1763285,1763442,1763699,1763735,1763951,1764080,1764256,1764597,1764894,1764964,1765351,1765862,1765925,1766052,1766070,1766457,1766832,1767023,1767169,1767231,1767707,1767743,1767863,1768075,1768438,1768652,1768835,1769251,1769768,1770237,1770241,1770629,1771120,1771499,1771951,1772258,1772571,1773029,1773403,1773647,1774002,1774245,1774440,1774663,1774751,1774901,1774994,1775417,1775644,1776004,1776436,1776461,1776855,1777104,1777488,1777812,1777920,1777990,1778054,1778568,1778950,1779190,1779658,1779739,1779841,1779942,1780338,1780440,1780792,1781179,1781448,1781584,1781672,1781747,1781945,1782419,1782814,1783088,1783162,1783384,1783601,1783775,1783995,1784455,1784944,1785030,1785455,1785791,1786098,1786517,1786966,1787276,1787672,1788003,1788213,1788339,1788777,1789119,1789131,1789410,1789539,1790033,1790389,1790630,1791010,1791439,1791849,1792355,1792793,1792987,1793382,1793671,1794181,1794408,1794517,1794614,1794933,1795255,1795718,1795799,1795894,1796006,1796281,1796792,1796817,1796899,1797211,1797257,1797640,1798136,1798154,1798364,1798808,1798971,1799424,1799945,1799960,1800184,1800217,1800262,1800709,1800833,1801354,1801593,1801789,1802163,1802529,1802666,1802998,1803289,1803324,1803812,1804049,1804134,1804468,1804871,1805218,1805588,1805993,1806455,1806588,1806825,1807243,1807672,1807911,1808042,1808260,1808310,1808331,1808365,1808584,1808587,1808888,1809185,1809659,1809745,1809786,1809922,1810012,1810456,1810811,1811207,1811501,1811522,1811764,1811906,1812020,1812219,1812383,1812600,1812839,1813238,1813675,1813875,1814308,1814744,1814797,1814974,1815418,1815482,1815856,1816233,1816402,1816732,1816862,1817277,1817288,1817664,1817843,1818310,1818338,1818561,1818897,1819252,1819312,1819665,1820106,1820470,1820584,1820764,1821150,1821333,1821503,1821691,1822036,1822328,1822486,1822917,1823165,1823408,1823661,1823705,1823752,1824079,1824188,1824386,1824862,1825205,1825265,1825490,1825925,1826413,1826578,1827082,1827362,1827810,1828158,1828269,1828452,1828608,1829018,1829207,1829684,1830107,1830420,1830475,1830610,1830833,1831294,1831372,1831781,1832094,1832503,1832768,1833198,1833239,1833745,1834009,1834371,1834861,1834999,1835459,1835899,1835911,1836126,1836376,1836662,1836968,1837246,1837465,1837910,1838086,1838333,1838404,1838805,1838836,1839322,1839404,1839897,1840015,1840094,1840472,1840956,1841401,1841459,1841797,1842187,1842275,1842658,1842905,1842956,1843411,1843425,1843474,1843810,1844133,1844263,1844721,1845113,1845222,1845678,1845680,1846078,1846233,1846755,1847152,1847644,1848012,1848058,1848321,1848408,1848622,1848867,1848985,1849429,1849847,1850195,1850253,1850316,1850722,1850888,1851093,1851293,1851350,1851875,1852386,1852441,1852770,1853065,1853409,1853840,1854119,1854427,1854671,1854818,1854869,1854963,1855366,1855740,1855804,1855885,1856227,1856359,1856511,1856534,1856736,1857228,1857408,1857654,1857938,1858020,1858427,1858873,1859229,1859721,1859956,1860275,1860784,1861194,1861256,1861668,1861810,1862265,1862384,1862627,1863110,1863399,1863865,1864216,1864483,1864875,1865356,1865508,1865982,1866038,1866544,1866868,1867302,1867701,1867864,1868286,1868635,1868755,1868954,1869062,1869310,1869748,1870028,1870233,1870735,1871163,1871394,1871660,1871756,1871778,1871813,1871911,1872302,1872688,1872844,1873345,1873404,1873418,1873586,1873652,1873805,1874074,1874492,1874741,1874846,1875241,1875712,1876000,1876125,1876296,1876479,1876719,1876781,1876905,1877150,1877203,1877281,1877545,1877650,1877850,1878231,1878329,1878556,1878772,1878789,1879171,1879674,1879928,1880139,1880587,1880630,1880909,1881386,1881396,1881686,1882174,1882425,1882503,1882635,1882799,1883098,1883422,1883598,1883949,1884462,1884515,1884740,1885249,1885318,1885565,1886045,1886111,1886325,1886382,1886770,1886866,1886909,1887412,1887586,1887914,1888382,1888523,1888849,1889185,1889609,1890078,1890176,1890659,1890844,1890944,1891076,1891190,1891460,1891935,1892420,1892644,1893124,1893456,1893911,1894326,1894375,1894745,1895168,1895306,1895815,1895957,1896333,1896662,1896685,1896996,1897220,1897424,1897856,1897963,1898402,1898526,1898787,1899135,1899297,1899809,1900163,1900657,1900695,1900989,1901449,1901501,1901810,1901906,1902425,1902880,1903085,1903272,1903628,1904049,1904264,1904422,1904482,1905002,1905287,1905738,1905903,1906041,1906100,1906184,1906248,1906521,1906941,1907434,1907587,1908091,1908138,1908541,1908828,1909204,1909676,1910064,1910486,1910963,1911335,1911581,1911910,1912187,1912194,1912522,1912724,1912902,1913271,1913659,1914149,1914653,1915029,1915069,1915316,1915344,1915643,1915773,1915952,1916451,1916699,1917190,1917369,1917412,1917893,1918239,1918336,1918602,1918850,1918862,1918932,1919259,1919715,1920144,1920185,1920291,1920773,1920941,1921014,1921445,1921455,1921928,1922333,1922707,1923204,1923305,1923690,1924206,1924383,1924439,1924738,1924801,1924882,1925376,1925773,1925882,1926051,1926268,1926522,1926794,1927124,1927535,1927942,1928287,1928304,1928443,1928725,1928859,1928956,1929474,1929943,1930123,1930142,1930483,1930835,1931152,1931658,1932065,1932382,1932650,1932984,1933231,1933481,1933594,1933614,1933887,1933965,1934311,1934634,1934909,1935431,1935679,1935944,1935956,1936466,1936630,1936748,1937153,1937273,1937371,1937567,1938067,1938326,1938345,1938844,1939182,1939440,1939602,1939726,1939852,1940353,1940630,1940976,1941128,1941649,1941861,1942031,1942182,1942478,1942675,1943167,1943212,1943415,1943781,1943986,1944325,1944603,1944636,1945089,1945470,1945829,1946338,1946747,1947249,1947449,1947490,1947513,1947724,1947758,1948120,1948598,1948618,1949142,1949233,1949450,1949668,1949834,1950144,1950273,1950739,1950799,1951043,1951062,1951468,1951500,1951521,1951973,1952285,1952619,1952730,1953115,1953363,1953539,1953657,1953803,1954180,1954532,1954962,1955198,1955312,1955820,1956157,1956500,1956529,1956878,1956955,1957078,1957262,1957763,1958022,1958342,1958389,1958400,1958750,1958954,1959471,1959704,1959938,1959974,1960348,1960638,1961121,1961150,1961261,1961703,1962169,1962415,1962506,1962626,1962967,1963454,1963914,1963974,1964010,1964380,1964463,1964588,1964650,1964716,1965093,1965443,1965592,1965803,1965994,1966327,1966391,1966635,1966711,1966896,1967082,1967568,1967750,1967970,1968310,1968503,1968870,1969324,1969610,1969750,1970050,1970516,1970568,1970845,1971246,1971689,1971902,1972396,1972895,1973351,1973837,1974168,1974616,1974884,1975392,1975867,1976359,1976859,1977091,1977133,1977456,1977473,1977707,1978105,1978369,1978835,1978890,1978947,1979129,1979217,1979479,1979841,1979973,1980164,1980347,1980485,1980546,1980988,1981021,1981210,1981276,1981441,1981661,1982040,1982546,1982908,1983348,1983873,1983942,1984331,1984562,1985012,1985130,1985150,1985620,1985808,1986214,1986690,1986987,1987358,1987760,1987807,1988017,1988061,1988340,1988808,1989011,1989492,1989874,1990168,1990428,1990526,1990589,1990758,1990962,1991230,1991530,1991772,1991825,1992276,1992776,1993037,1993134,1993628,1993806,1994042,1994256,1994646,1995155,1995521,1995834,1996065,1996578,1996604,1996804,1997137,1997300,1997471,1997614,1997633,1997955,1998111,1998174,1998560,1998826,1999293,1999355,1999671,2000094,2000206,2000528,2000779,2001266,2001657,2001740,2002020,2002319,2002674,2003163,2003277,2003288,2003582,2003879,2004200,2004586,2005039,2005506,2005760,2005778,2006184,2006432,2006942,2007364,2007888,2007944,2008023,2008030,2008204,2008409,2008654,2009010,2009256,2009581,2009923,2010082,2010207,2010251,2010744,2010789,2011015,2011015,2011340,2011655,2012070,2012348,2012620,2012666,2012728,2012730,2012747,2013037,2013122,2013526,2013945,2014411,2014928,2015126,2015356,2015783,2015835,2016231,2016611,2017126,2017603,2018034,2018132,2018617,2019001,2019471,2019655,2019774,2020076,2020331,2020558,2020808,2020836,2021068,2021282,2021322,2021742,2021854,2022115,2022525,2022791,2022964,2023224,2023413,2023582,2023988,2024008,2024025,2024356,2024589,2024858,2025040,2025276,2025323,2025379,2025651,2025965,2026047,2026208,2026271,2026514,2026971,2026995,2027080,2027118,2027321,2027845,2027981,2028136,2028324,2028767,2029136,2029182,2029472,2029895,2030197,2030548,2030936,2031041,2031314,2031603,2031678,2032057,2032515,2032841,2033325,2033711,2033913,2034207,2034654,2035014,2035044,2035520,2035852,2035892,2036190,2036649,2037162,2037597,2037867,2038167,2038414,2038768,2039036,2039181,2039451,2039864,2040369,2040869,2041037,2041254,2041459,2041504,2041834,2042238,2042332,2042578,2043010,2043457,2043674,2043999,2044311,2044621,2044795,2044906,2045366,2045715,2045719,2046203,2046216,2046245,2046364,2046798,2047165,2047375,2047389,2047515,2047559,2047592,2047723,2048163,2048364,2048859,2049316,2049323,2049822,2049922,2050169,2050693,2051081,2051089,2051376,2051427,2051544,2051802,2052018,2052043,2052272,2052345,2052383,2052880,2052899,2053053,2053465,2053977,2054416,2054440,2054742,2055216,2055418,2055774,2055853,2056291,2056781,2056963,2057229,2057689,2057983,2058101,2058548,2058827,2059021,2059482,2059586,2059921,2060427,2060736,2060781,2060938,2061319,2061390,2061867,2062336,2062532,2062695,2062771,2063118,2063506,2063933,2064275,2064441,2064668,2065174,2065384,2065598,2066122,2066609,2067129,2067368,2067594,2067690,2067710,2067850,2067906,2068102,2068253,2068735,2069213,2069339,2069762,2070203,2070291,2070681,2071183,2071594,2071797,2072310,2072579,2072604,2073125,2073609,2074019,2074393,2074804,2075097,2075203,2075644,2076002,2076292,2076533,2076938,2077139,2077414,2077917,2078066,2078322,2078720,2079193,2079507,2079583,2080047,2080410,2080651,2080793,2080888,2081371,2081754,2081976,2082445,2082461,2082765,2083266,2083301,2083718,2083925,2084377,2084647,2085054,2085376,2085554,2085780,2085813,2086032,2086340,2086564,2086689,2087168,2087486,2087531,2087632,2088149,2088276,2088774,2089180,2089357,2089658,2089866,2090043,2090382,2090447,2090821,2091216,2091570,2091785,2091798,2092060,2092555,2092876,2092982,2093452,2093709,2094212,2094359,2094714,2095069,2095329,2095354,2095376,2095390,2095552,2095889,2095932,2095963,2096025,2096219,2096543,2097033,2097536,2097762,2097802,2097842,2098323,2098343,2098446,2098617,2098920,2099207,2099609,2099755,2099994,2100034,2100392,2100824,2100931,2101247,2101310,2101468,2101528,2101543,2101882,2102347,2102650,2103113,2103224,2103235,2103681,2103825,2104350,2104623,2104720,2104868,2105366,2105818,2106129,2106247,2106623,2106789,2107214,2107670,2108018,2108063,2108128,2108269,2108309,2108484,2108996,2109188,2109232,2109702,2109854,2109977,2110323,2110464,2110667,2111002,2111521,2111535,2111728,2111984,2112171,2112678,2113118,2113362,2113594,2113857,2114171,2114492,2114818,2114965,2114965,2115209,2115434,2115765,2115778,2115998,2116462,2116773,2116832,2117196,2117431,2117919,2118141,2118524,2118975,2119488,2119495,2119634,2119926,2119928,2120166,2120407,2120595,2121097,2121575,2121707,2121738,2122020,2122199,2122672,2122760,2122847,2122933,2123177,2123214,2123643,2124145,2124451,2124482,2124869,2124979,2124980,2125240,2125523,2125791,2126074,2126418,2126774,2126830,2127058,2127107,2127386,2127781,2128082,2128558,2129028,2129115,2129274,2129465,2129863,2130237,2130376,2130777,2131235,2131463,2131761,2131847,2132279,2132439,2132720,2133167,2133310,2133506,2133974,2134246,2134575,2134834,2134938,2135162,2135541,2135661,2135730,2135837,2135964,2136117,2136604,2136957,2137201,2137546,2137950,2138004,2138419,2138721,2139214,2139539,2139611,2139775,2140050,2140157,2140188,2140540,2140721,2141018,2141250,2141426,2141543,2141825,2141928,2141980,2142005,2142276,2142655,2143072,2143233,2143289,2143420,2143446,2143484,2143722,2144214,2144681,2144934,2145340,2145845,2145909,2146032,2146547,2146801,2146943,2146964,2147447,2147470,2147625,2147807,2147978,2147996,2148498,2148549,2148556,2149006,2149149,2149653,2149664,2149799,2150038,2150558,2150686,2150877,2151102,2151618,2152089,2152444,2152465,2152598,2153050,2153413,2153553,2153822,2153917,2154160,2154602,2155085,2155130,2155396,2155518,2155625,2155691,2155703,2156155,2156414,2156447,2156591,2156717,2157168,2157301,2157491,2157562,2157665,2157952,2158126,2158559,2158955,2159112,2159335,2159678,2160000,2160013,2160058,2160157,2160682,2160694,2161000,2161174,2161384,2161508,2161555,2161574,2162035,2162361,2162729,2162988,2163369,2163586,2163630,2163719,2163731,2163932,2164090,2164510,2164686,2164759,2164989,2165229,2165576,2165979,2166237,2166663,2167031,2167324,2167616,2168086,2168372,2168529,2168643,2168972,2169129,2169182,2169327,2169435,2169724,2170162,2170554,2171048,2171415,2171762,2171958,2172143,2172645,2173096,2173419,2173730,2174027,2174379,2174572,2174843,2175320,2175643,2176042,2176133,2176651,2176739,2176934,2177300,2177575,2177939,2178415,2178854,2179028,2179342,2179712,2179847,2180081,2180527,2180781,2181071,2181370,2181410,2181726,2182176,2182577,2182596,2182665,2182787,2183026,2183425,2183868,2184048,2184150,2184211,2184426,2184445,2184559,2185075,2185423,2185835,2185888,2185946,2186223,2186459,2186810,2187021,2187211,2187528,2187537,2187814,2188277,2188453,2188596,2189118,2189571,2189818,2190085,2190558,2190742,2190980,2191279,2191667,2191916,2192134,2192447,2192928,2193104,2193497,2193946,2194257,2194431,2194519,2194907,2195130,2195371,2195441,2195666,2196010,2196289,2196797,2197041,2197122,2197608,2197851,2198142,2198557,2199077,2199193,2199312,2199698,2200214,2200414,2200572,2200793,2201210,2201603,2201793,2202255,2202539,2202923,2203316,2203702,2204078,2204384,2204657,2204974,2205245,2205378,2205596,2205852,2206368,2206892,2207043,2207064,2207089,2207573,2207839,2207900,2208099,2208184,2208523,2209028,2209093,2209158,2209643,2209692,2210020,2210473,2210838,2210848,2210874,2210970,2211201,2211333,2211724,2211829,2212336,2212520,2212802,2213066,2213235,2213471,2213696,2213913,2214081,2214553,2214896,2215194,2215590,2215707,2215782,2216114,2216489,2216693,2217044,2217178,2217494,2217986,2218204,2218437,2218926,2219123,2219380,2219530,2219667,2220119,2220582,2220970,2221328,2221591,2222081,2222403,2222640,2222863,2223263,2223606,2224098,2224177,2224275,2224686,2224699,2224940,2225328,2225654,2226171,2226586,2226646,2226986,2227453,2227785,2228244,2228720,2228938,2229342,2229455,2229566,2229907,2230332,2230391,2230649,2231121,2231311,2231328,2231395,2231395,2231848,2232331,2232521,2232915,2233357,2233514,2233641,2233884,2234073,2234481,2234573,2234927,2235333,2235561,2235598,2236113,2236437,2236503,2236524,2237011,2237299,2237806,2237830,2237948,2238274,2238436,2238773,2238983,2239365,2239731,2240177,2240607,2240695,2240847,2240916,2241314,2241639,2241793,2242191,2242443,2242917,2243349,2243655,2243670,2244177,2244439,2244623,2244880,2245349,2245633,2245873,2246358,2246815,2246904,2247143,2247466,2247730,2248211,2248400,2248552,2248655,2248749,2248986,2249276,2249474,2249798,2250092,2250462,2250577,2250769,2251180,2251482,2251872,2251977,2252085,2252403,2252452,2252659,2252866,2253291,2253600,2253938,2254125,2254163,2254187,2254224,2254537,2254970,2255425,2255885,2256281,2256510,2256593,2256757,2257262,2257579,2257931,2258057,2258485,2258616,2259055,2259182,2259576,2260008,2260478,2260921,2261090,2261565,2261927,2261939,2262114,2262606,2262634,2262686,2263007,2263254,2263455,2263724,2264014,2264103,2264467,2264585,2265071,2265267,2265642,2266157,2266357,2266811,2267243,2267331,2267813,2268078,2268447,2268560,2268978,2269401,2269730,2269755,2270048,2270060,2270156,2270266,2270539,2270633,2271120,2271374,2271799,2272236,2272301,2272423,2272701,2273188,2273357,2273784,2273797,2273850,2274051,2274497,2274524,2274711,2275024,2275453,2275462,2275520,2275912,2276206,2276408,2276851,2277118,2277315,2277645,2277758,2278195,2278305,2278555,2278643,2279127,2279369,2279722,2280187,2280710,2280794,2281229,2281309,2281820,2282001,2282487,2282700,2283000,2283414,2283908,2284326,2284378,2284483,2284692,2284783,2285074,2285140,2285365,2285760,2285943,2286034,2286221,2286660,2287093,2287113,2287573,2287593,2287936,2287962,2288114,2288611,2288618,2288786,2289188,2289538,2289865,2289952,2290337,2290764,2290834,2291026,2291315,2291729,2292006,2292404,2292818,2293315,2293734,2294165,2294440,2294502,2294523,2294852,2295001,2295162,2295610,2295742,2296146,2296661,2296936,2296999,2297411,2297673,2298104,2298535,2299014,2299262,2299281,2299344,2299604,2299656,2299918,2300020,2300149,2300161,2300247,2300588,2300966,2301138,2301304,2301401,2301419,2301901,2301951,2302349,2302456,2302549,2302759,2303222,2303594,2303822,2303899,2303938,2304360,2304576,2304648,2304709,2305065,2305197,2305458,2305844,2306299,2306307,2306331,2306366,2306531,2306591,2306744,2306770,2306793,2307171,2307273,2307753,2307763,2308284,2308626,2308692,2308994,2309464,2309965,2310423,2310673,2310810,2310913,2311273,2311418,2311758,2311854,2312260,2312733,2312798,2313015,2313326,2313446,2313873,2314339,2314790,2315157,2315585,2315853,2315918,2315949,2316333,2316543,2316575,2316737,2317220,2317399,2317670,2317941,2318115,2318477,2318493,2318901,2319172,2319246,2319557,2319601,2319812,2320337,2320609,2321021,2321508,2321721,2321831,2321992,2322048,2322469,2322630,2322841,2322851,2323216,2323586,2323669,2323696,2323825,2323839,2324217,2324240,2324324,2324523,2324848,2324967,2324981,2325264,2325503,2325631,2326104,2326312,2326771,2327042,2327219,2327672,2327914,2328276,2328514,2328864,2329238,2329566,2329826,2330046,2330137,2330467,2330814,2331301,2331411,2331827,2332301,2332745,2333182,2333544,2333799,2334116,2334496,2334937,2335214,2335249,2335267,2335767,2335925,2336400,2336635,2336949,2337213,2337540,2338052,2338510,2338710,2339039,2339055,2339396,2339915,2340261,2340570,2341069,2341211,2341381,2341500,2341699,2342008,2342425,2342560,2342779,2343064,2343354,2343655,2343889,2344056,2344338,2344499,2344709,2344868,2345060,2345567,2345713,2346105,2346426,2346827,2347010,2347210,2347359,2347372,2347470,2347526,2347824,2347925,2348069,2348358,2348785,2348966,2349000,2349478,2349664,2350050,2350523,2351031,2351501,2352001,2352382,2352460,2352636,2352706,2352781,2352972,2353411,2353877,2353889,2354165,2354471,2354812,2355027,2355457,2355885,2356030,2356132,2356249,2356529,2356683,2357031,2357457,2357923,2358419,2358632,2358692,2358840,2358935,2359093,2359199,2359386,2359503,2359996,2360090,2360571,2361049,2361564,2361826,2362192,2362688,2363118,2363625,2363697,2364035,2364138,2364320,2364512,2364730,2365144,2365296,2365646,2365658,2365794,2365811,2366055,2366087,2366607,2366986,2367353,2367781,2367931,2367951,2368471,2368804,2369303,2369676,2370128,2370355,2370646,2371060,2371564,2371874,2372039,2372323,2372729,2372739,2373225,2373304,2373718,2373799,2374123,2374173,2374315,2374616,2374907,2374995,2375165,2375284,2375365,2375407,2375561,2376064,2376189,2376397,2376826,2376881,2377039,2377433,2377708,2378145,2378314,2378349,2378635,2378712,2379055,2379416,2379763,2379843,2380196,2380393,2380505,2380989,2381036,2381317,2381704,2381814,2382020,2382292,2382358,2382530,2382633,2383018,2383481,2383932,2384105,2384186,2384546,2384596,2384683,2384793,2385030,2385137,2385331,2385727,2386162,2386528,2387004,2387387,2387614,2387631,2388068,2388375,2388705,2388908,2389013,2389197,2389409,2389912,2390195,2390201,2390695,2390814,2390890,2391247,2391765,2391889,2391975,2392210,2392382,2392678,2393193,2393315,2393689,2393822,2394207,2394424,2394642,2395016,2395400,2395642,2395890,2396084,2396583,2396676,2397198,2397529,2398005,2398110,2398395,2398611,2398930,2399116,2399257,2399409,2399635,2399656,2399802,2399848,2400222,2400550,2400649,2400874,2401315,2401732,2401763,2402062,2402420,2402849,2403019,2403080,2403604,2403774,2403876,2404165,2404300,2404622,2404769,2404893,2405238,2405725,2406044,2406481,2406496,2406605,2406742,2406944,2407004,2407181,2407248,2407422,2407916,2408284,2408637,2408940,2409451,2409512,2409858,2410261,2410779,2410892,2411218,2411723,2412195,2412211,2412417,2412435,2412890,2412929,2413087,2413446,2413477,2413943,2414317,2414573,2414865,2414992,2415104,2415292,2415395,2415823,2416031,2416430,2416580,2416674,2416689,2416742,2417045,2417516,2417984,2418328,2418831,2419039,2419480,2419568,2419992,2420060,2420584,2420664,2420931,2421002,2421463,2421680,2421895,2422005,2422078,2422546,2423041,2423206,2423259,2423663,2423758,2423843,2424367,2424835,2425109,2425350,2425586,2425952,2426033,2426174,2426535,2426556,2426617,2426645,2426668,2427034,2427392,2427543,2427644,2428036,2428278,2428408,2428886,2429310,2429713,2430042,2430153,2430620,2431005,2431143,2431303,2431722,2432111,2432445,2432890,2433378,2433642,2433846,2434129,2434494,2434654,2434960,2435085,2435200,2435257,2435571,2435788,2435947,2436038,2436513,2436912,2437352,2437528,2437585,2437892,2438279,2438662,2439065,2439186,2439617,2439817,2439818,2439953,2440412,2440657,2441164,2441225,2441393,2441801,2442120,2442418,2442763,2443035,2443551,2443667,2443963,2444392,2444556,2444614,2445094,2445251,2445403,2445658,2446012,2446204,2446371,2446840,2446873,2447011,2447171,2447552,2447814,2448002,2448160,2448166,2448225,2448373,2448760,2448842,2449229,2449339,2449568,2449582,2449845,2449927,2450142,2450565,2450725,2451175,2451531,2451925,2452165,2452468,2452828,2453006,2453362,2453486,2453742,2454110,2454471,2454993,2455308,2455390,2455778,2456247,2456477,2456565,2456910,2457245,2457600,2457635,2457696,2457993,2458005,2458306,2458793,2458907,2459335,2459437,2459618,2459881,2460403,2460769,2461061,2461125,2461512,2461641,2461752,2461929,2462149,2462237,2462484,2462498,2462656,2462706,2463181,2463563,2463892,2464146,2464363,2464426,2464792,2465003,2465207,2465207,2465251,2465421,2465433,2465623,2465922,2466167,2466183,2466184,2466678,2466921,2467064,2467402,2467663,2468136,2468417,2468494,2468796,2469106,2469370,2469631,2470086,2470546,2470680,2470848,2471012,2471502,2471829,2472348,2472537,2472606,2473021,2473477,2473560,2473895,2474139,2474436,2474646,2475170,2475467,2475752,2475834,2476281,2476340,2476584,2477063,2477284,2477650,2478050,2478558,2479028,2479498,2479624,2479884,2480056,2480566,2480874,2481106,2481375,2481762,2481856,2482181,2482640,2482862,2483141,2483249,2483602,2483821,2483922,2483954,2484321,2484475,2484743,2485162,2485535,2485700,2486052,2486560,2486767,2487172,2487626,2487889,2488281,2488631,2489088,2489102,2489622,2489861,2490243,2490516,2490849,2491083,2491093,2491415,2491898,2491960,2492350,2492562,2493007,2493272,2493359,2493634,2493856,2493957,2494459,2494925,2495312,2495703,2495899,2496186,2496347,2496360,2496820,2497244,2497739,2498012,2498070,2498551,2498799,2498929,2499161,2499398,2499580,2499897,2500190,2500408,2500507,2501021,2501391,2501729,2502074,2502312,2502686,2502765,2503045,2503272,2503319,2503374,2503422,2503787,2503811,2503858,2504251,2504496,2504643,2504779,2505068,2505229,2505524,2505695,2506089,2506217,2506327,2506729,2507081,2507375,2507774,2507897,2508063,2508115,2508264,2508511,2508661,2509107,2509214,2509680,2509768,2509920,2510211,2510658,2510732,2511196,2511367,2511764,2512171,2512674,2512871,2513326,2513519,2513942,2514268,2514285,2514468,2514542,2514751,2515119,2515187,2515624,2515998,2516461,2516747,2516945,2517428,2517524,2518009,2518423,2518830,2518904,2519149,2519230,2519256,2519705,2519764,2519950,2520106,2520123,2520425,2520936,2521170,2521218,2521290,2521489,2521843,2521930,2522439,2522581,2522780,2522918,2523106,2523149,2523368,2523520,2523928,2524316,2524359,2524532,2524950,2525339,2525682,2526144,2526171,2526311,2526552,2526574,2526688,2526793,2526962,2527292,2527731,2528150,2528491,2528693,2528977,2529474,2529643,2529683,2529759,2529846,2530082,2530559,2530643,2530788,2531075,2531311,2531816,2532073,2532340,2532570,2532706,2533197,2533581,2533638,2533949,2534260,2534734,2534866,2535319,2535583,2535904,2536230,2536472,2536731,2537241,2537653,2537878,2538142,2538610,2538692,2539102,2539205,2539459,2539771,2540258,2540641,2540918,2541272,2541565,2541866,2542259,2542666,2542753,2542926,2543084,2543384,2543776,2543798,2544041,2544102,2544577,2544665,2544770,2545156,2545312,2545518,2545566,2545676,2545678,2546128,2546317,2546349,2546399,2546569,2546809,2546857,2547267,2547484,2547874,2548303,2548802,2548824,2549253,2549770,2550155,2550477,2550717,2550774,2551293,2551525,2551974,2552223,2552288,2552622,2552998,2553028,2553331,2553598,2553745,2553867,2554274,2554744,2555212,2555217,2555567,2555681,2556137,2556405,2556833,2557017,2557046,2557462,2557491,2557696,2557877,2557940,2558452,2558628,2558972,2559210,2559679,2560121,2560172,2560342,2560524,2560886,2561242,2561732,2562243,2562442,2562449,2562740,2562798,2562892,2562928,2562982,2563076,2563503,2563843,2563964,2564261,2564605,2565091,2565217,2565278,2565338,2565525,2565867,2566325,2566339,2566700,2567085,2567492,2567740,2567941,2568202,2568275,2568463,2568815,2569172,2569313,2569421,2569793,2570152,2570462,2570871,2571028,2571397,2571871,2572012,2572425,2572564,2572712,2572975,2573209,2573256,2573622,2573988,2574512,2574917,2575336,2575350,2575511,2575921,2576427,2576875,2577396,2577565,2577603,2577946,2578169,2578355,2578617,2578737,2579049,2579439,2579888,2579893,2580080,2580170,2580608,2580908,2581087,2581242,2581658,2581777,2581916,2582251,2582256,2582594,2582771,2583283,2583692,2584197,2584379,2584888,2585000,2585279,2585501,2585996,2586463,2586736,2586872,2587081,2587587,2587821,2587984,2588053,2588353,2588861,2589047,2589349,2589437,2589945,2590262,2590330,2590754,2591052,2591159,2591171,2591242,2591657,2591803,2591981,2592177,2592424,2592654,2592998,2593428,2593832,2594071,2594157,2594241,2594420,2594535,2594551,2594985,2595170,2595662,2595880,2595916,2596168,2596593,2597058,2597138,2597661,2597953,2598344,2598757,2599194,2599575,2599680,2600181,2600619,2600679,2601085,2601203,2601703,2601923,2602159,2602652,2603110,2603429,2603553,2604047,2604567,2604829,2604883,2605355,2605642,2605694,2605924,2606250,2606767,2606970,2607267,2607769,2608057,2608550,2608633,2608948,2609310,2609637,2610095,2610392,2610896,2611006,2611362,2611719,2611850,2611897,2612049,2612091,2612342,2612415,2612512,2612889,2613095,2613509,2613970,2614036,2614278,2614405,2614417,2614587,2614737,2615223,2615634,2615868,2616364,2616734,2617218,2617715,2618012,2618228,2618620,2618798,2619296,2619568,2619686,2619689,2619987,2620353,2620495,2620937,2621001,2621198,2621296,2621357,2621485,2621887,2622319,2622698,2623004,2623289,2623630,2624089,2624093,2624329,2624550,2624589,2624996,2625234,2625325,2625697,2625990,2626515,2626689,2627021,2627479,2627533,2627917,2628385,2628876,2628947,2629096,2629598,2629615,2629835]\n",
    "duration=10000\n",
    "timeSeries.sort()\n",
    "timeSeries"
   ]
  },
  {
   "cell_type": "code",
   "execution_count": null,
   "id": "4e3f48cf",
   "metadata": {},
   "outputs": [],
   "source": [
    "timeSeries = [1,4]\n",
    "duration = 2\n",
    "timeSeries = [1,2]\n",
    "duration = 2\n",
    "\n",
    "\n",
    "sub = 0\n",
    "i = 1\n",
    "num = timeSeries[0]\n",
    "temp = num+duration-1\n",
    "while i < len(timeSeries):\n",
    "    num1 = timeSeries[i]\n",
    "    temp1 = num1+duration-1\n",
    "    if num1 <= temp and temp1>temp:\n",
    "        temp = temp1\n",
    "    elif num1 > temp:\n",
    "        sub = sub +(temp - num)+1\n",
    "        num = num1 \n",
    "        temp = temp1\n",
    "    i = i+1\n",
    "\n",
    "sub = sub +(temp - num)+1\n",
    "print(sub)\n"
   ]
  },
  {
   "cell_type": "code",
   "execution_count": null,
   "id": "8b077978",
   "metadata": {},
   "outputs": [],
   "source": [
    "arr1 = [2,3,1,3,2,4,6,7,9,2,19]\n",
    "arr2 = [2,1,4,3,9,6]\n",
    "arr1 = [28,6,22,8,44,17]\n",
    "arr2 = [22,28,8,6]\n",
    "arr1.sort()\n",
    "stack = []\n",
    "for ar in arr2:\n",
    "    a = arr1.count(ar)\n",
    "    if a > 1:\n",
    "        while a > 0:\n",
    "            stack.append(ar)\n",
    "            a = a-1\n",
    "    else:\n",
    "        stack.append(ar)\n",
    "\n",
    "for ar in arr1:\n",
    "    if ar not in arr2:\n",
    "        stack.append(ar)\n",
    "print(stack)\n",
    "    \n"
   ]
  },
  {
   "cell_type": "code",
   "execution_count": null,
   "id": "37c1da96",
   "metadata": {},
   "outputs": [],
   "source": [
    "n = 123\n",
    "power = len(str(n))\n",
    "unique_num = list(set(str(n)))\n",
    "num_list = list(str(n))\n",
    "count = 0\n",
    "sum1=0\n",
    "for num in unique_num:\n",
    "    count = num_list.count(num)\n",
    "    sum1 = sum1+pow(int(num),power)*count\n",
    "if n == sum1:\n",
    "    print(True)\n",
    "else:\n",
    "    print(False)\n"
   ]
  },
  {
   "cell_type": "code",
   "execution_count": null,
   "id": "a248fdf6",
   "metadata": {},
   "outputs": [],
   "source": [
    "nums = [1,1,0,1,0]\n",
    "st = ''\n",
    "for num in nums:\n",
    "    st = st+str(num)\n",
    "index = st.find('0')\n",
    "index\n",
    "st.find('0',3)\n",
    "length = len(nums\n",
    "i = 0\n",
    "stack = []\n",
    "while i < length:\n",
    "    index_0 = st.find('0')\n",
    "    index_1 = st.find('1')\n",
    "    if index_0 != -1:\n",
    "        index_2 = st.find('0',index_0+1)\n",
    "        if index_2 != -1:\n",
    "            stack.append((index_2-1)-index_1)\n",
    "        \n",
    "    elif index_0 == -1:\n",
    "           stack.append(len(nums))\n",
    "    \n",
    "        \n",
    "        \n",
    "        \n",
    "    \n",
    "    \n",
    "    "
   ]
  },
  {
   "cell_type": "code",
   "execution_count": null,
   "id": "1b375b32",
   "metadata": {},
   "outputs": [],
   "source": [
    "nums = [5,7,3,9,4,9,8,3,1]\n",
    "num = list(set(nums))\n",
    "num.sort(reverse=True)\n",
    "for x in num:\n",
    "    if nums.count(x)==1:\n",
    "        print(x)\n",
    "        break\n",
    "print(-1)\n"
   ]
  },
  {
   "cell_type": "code",
   "execution_count": null,
   "id": "aa8d026c",
   "metadata": {},
   "outputs": [],
   "source": [
    "n = 8\n",
    "stack = []\n",
    "for x in range(2,n//2+1):\n",
    "    if n%x==0:\n",
    "        stack.append(x)\n",
    "print(stack)\n",
    "    "
   ]
  },
  {
   "cell_type": "code",
   "execution_count": null,
   "id": "cee13625",
   "metadata": {},
   "outputs": [],
   "source": [
    "4%3"
   ]
  },
  {
   "cell_type": "code",
   "execution_count": null,
   "id": "f5ff8dc3",
   "metadata": {},
   "outputs": [],
   "source": [
    "6//2"
   ]
  },
  {
   "cell_type": "code",
   "execution_count": null,
   "id": "56289e69",
   "metadata": {},
   "outputs": [],
   "source": [
    "stack = []\n",
    "n = 6\n",
    "stack = []\n",
    "for x in range(2,n):\n",
    "    flag = 0\n",
    "    for j in range(2,x):\n",
    "        if x%j == 0 :\n",
    "            flag = 1\n",
    "            break\n",
    "    if flag == 0:\n",
    "        stack.append(x)\n",
    "print(stack)\n",
    "stack1 = []\n",
    "for x in range(2,n//2+1):\n",
    "    if n%x==0:\n",
    "        stack1.append(x)\n",
    "print(stack1)\n",
    "count = 0  \n",
    "for x in stack:\n",
    "    print(x)\n",
    "    if (x == 2 or x == 3 or x == 5) and x in stack:\n",
    "        print(False) \n",
    "        break\n",
    "print(True)\n",
    "        "
   ]
  },
  {
   "cell_type": "code",
   "execution_count": null,
   "id": "d27c632a",
   "metadata": {},
   "outputs": [],
   "source": [
    "nums = [0,1,2]\n",
    "nums = [4,3,2,1]\n",
    "i = 0\n",
    "stack = []\n",
    "for num in nums:\n",
    "    if i%10 == num:\n",
    "        stack.append(i)\n",
    "    i = i+1\n",
    "print(min(stack))"
   ]
  },
  {
   "cell_type": "code",
   "execution_count": null,
   "id": "2c6d40dd",
   "metadata": {},
   "outputs": [],
   "source": [
    "nums = [1,1,2]\n",
    "nums = [0,0,1,1,1,2,2,3,3,4]\n",
    "length  = len(nums)\n",
    "num = nums.copy()\n",
    "stack = []\n",
    "i = 0\n",
    "while i <length:\n",
    "    if num[i] not in stack:\n",
    "        stack.append(num[i])\n",
    "    else:\n",
    "        j = nums.index(num[i])\n",
    "        nums.pop(j)\n",
    "    i = i+1\n",
    "#print(nums)\n",
    "print(len(stack))\n"
   ]
  },
  {
   "cell_type": "code",
   "execution_count": null,
   "id": "93caf4cd",
   "metadata": {},
   "outputs": [],
   "source": [
    "nums = [3,2,2,3]\n",
    "val = 3\n",
    "\n",
    "length = len(nums)\n",
    "i = 0\n",
    "num = nums.copy()\n",
    "while i < length:\n",
    "    if num[i] == val:\n",
    "        j = nums.index(num[i])\n",
    "        nums.pop(j)\n",
    "    i = i+1\n",
    "print(len(nums))\n"
   ]
  },
  {
   "cell_type": "code",
   "execution_count": null,
   "id": "a8c12dd0",
   "metadata": {},
   "outputs": [],
   "source": [
    "nums = [0,1,0,3,12]\n",
    "nums = [0]\n",
    "nums = [0,0,1]\n",
    "length = len(nums)\n",
    "i = 0\n",
    "count = 0\n",
    "while i < length:\n",
    "    if nums[i] == 0:\n",
    "        count = count+1\n",
    "        nums.pop(i)\n",
    "        length = length-1\n",
    "    else:\n",
    "        i = i+1\n",
    "for i in range(count):\n",
    "    nums.append(0)\n",
    "print(nums)"
   ]
  },
  {
   "cell_type": "code",
   "execution_count": null,
   "id": "ccd918f0",
   "metadata": {},
   "outputs": [],
   "source": [
    "nums = [1,2,3,1]\n",
    "k = 3\n",
    "nums = [1,0,1,1]\n",
    "k = 1\n",
    "nums = [1,2,3,1,2,3]\n",
    "k = 2\n",
    "last_seen_indx = dict()\n",
    "for indx, x in enumerate(nums):\n",
    "    if x in last_seen_indx and indx-last_seen_indx.get(x) <= k:\n",
    "        print(True)\n",
    "        break\n",
    "    last_seen_indx[x]=indx\n",
    "    print(last_seen_indx)\n",
    "print(False)"
   ]
  },
  {
   "cell_type": "code",
   "execution_count": null,
   "id": "0317d636",
   "metadata": {},
   "outputs": [],
   "source": [
    "[\"TwoSum\", \"add\", \"add\", \"add\", \"find\", \"find\"]\n",
    "\n",
    "\n",
    "class MyClass:\n",
    "    x = 5\n",
    "p1 = MyClass()\n",
    "print(p1.x)\n"
   ]
  },
  {
   "cell_type": "code",
   "execution_count": null,
   "id": "2db1d596",
   "metadata": {},
   "outputs": [],
   "source": [
    "class Person:\n",
    "    def __init__(self,name,age):\n",
    "        self.name = name\n",
    "        self.age = age\n",
    "    def myfunc(self):\n",
    "        print(\"Hello my name is \"+self.name)\n",
    "p1 = Person(\"John\",36)\n",
    "p1.age = 40\n",
    "print(p1.name)\n",
    "print(p1.age)\n",
    "p1.myfunc()"
   ]
  },
  {
   "cell_type": "code",
   "execution_count": null,
   "id": "d5ad7a59",
   "metadata": {},
   "outputs": [],
   "source": [
    "words = [\"abcd\",\"bnrt\",\"crmy\",\"dtye\"]\n",
    "words = [\"abcd\",\"bnrt\",\"crm\",\"dt\"]\n",
    "words = [\"ball\",\"area\",\"read\",\"lady\"]\n",
    "words = [\"ball\",\"asee\",\"let\",\"lep\"]\n",
    "for i in range(len(words)):\n",
    "    st = \"\"\n",
    "    for j in range(len(words[i])):\n",
    "        try:\n",
    "            st = st+words[j][i]\n",
    "        except:\n",
    "            print(False)\n",
    "    print(st)\n",
    "    if words[i] != st:\n",
    "        print(False)\n",
    "print(True)\n",
    "        "
   ]
  },
  {
   "cell_type": "code",
   "execution_count": null,
   "id": "7b05f6be",
   "metadata": {},
   "outputs": [],
   "source": [
    "s = \"abc\"\n",
    "shift = [[0,1],[1,2]]\n",
    "s = \"abcdefg\"\n",
    "shift = [[1,1],[1,1],[0,2],[1,3]]\n",
    "s = \"yisxjwry\"\n",
    "shift = [[1,8],[1,4],[1,3],[1,6],[0,6],[1,4],[0,2],[0,1]]\n",
    "for x in shift:\n",
    "    direction = x[0]\n",
    "    amount = x[1]%len(s)\n",
    "    if direction == 0:\n",
    "        temp = s[0:amount]\n",
    "        string = s[amount:]\n",
    "        s= string+temp\n",
    "    else:\n",
    "        temp = s[amount*-1:]\n",
    "        string = s[0:amount*-1]\n",
    "        s= temp+string\n",
    "print(s)"
   ]
  },
  {
   "cell_type": "code",
   "execution_count": null,
   "id": "929e00e8",
   "metadata": {},
   "outputs": [],
   "source": [
    "s = \"abc\"\n",
    "temp = s[0:2]\n",
    "s= s.replace(s[0:2],'')+temp\n",
    "print(temp)\n",
    "print(s)\n"
   ]
  },
  {
   "cell_type": "code",
   "execution_count": null,
   "id": "02b5b161",
   "metadata": {},
   "outputs": [],
   "source": [
    "sentence1 = [\"great\",\"acting\",\"skills\"]\n",
    "sentence2 = [\"fine\",\"drama\",\"talent\"]\n",
    "similarPairs = [[\"great\",\"fine1\"],[\"drama\",\"acting\"],[\"skills\",\"talent\"]]\n",
    "#sentence2 = [\"great\"]\n",
    "#sentence1 = [\"great\"]\n",
    "#sentence2 = [\"doubleplus\",\"good\"]\n",
    "#similarPairs = [[\"great\",\"doubleplus\"]]\n",
    "#entence1 = [\"an\",\"extraordinary\",\"meal\"]\n",
    "#entence2 = [\"one\",\"good\",\"dinner\"]\n",
    "#imilarPairs = [[\"great\",\"good\"],[\"extraordinary\",\"good\"],[\"well\",\"good\"],[\"wonderful\",\"good\"],[\"excellent\",\"good\"],[\"fine\",\"good\"],[\"nice\",\"good\"],[\"any\",\"one\"],[\"some\",\"one\"],[\"unique\",\"one\"],[\"the\",\"one\"],[\"an\",\"one\"],[\"single\",\"one\"],[\"a\",\"one\"],[\"truck\",\"car\"],[\"wagon\",\"car\"],[\"automobile\",\"car\"],[\"auto\",\"car\"],[\"vehicle\",\"car\"],[\"entertain\",\"have\"],[\"drink\",\"have\"],[\"eat\",\"have\"],[\"take\",\"have\"],[\"fruits\",\"meal\"],[\"brunch\",\"meal\"],[\"breakfast\",\"meal\"],[\"food\",\"meal\"],[\"dinner\",\"meal\"],[\"super\",\"meal\"],[\"lunch\",\"meal\"],[\"possess\",\"own\"],[\"keep\",\"own\"],[\"have\",\"own\"],[\"extremely\",\"very\"],[\"actually\",\"very\"],[\"really\",\"very\"],[\"super\",\"very\"]]\n",
    "\n",
    "if len(sentence1) == len(sentence2):\n",
    "    for i in range(len(sentence1)):\n",
    "        if (sentence1[i] == sentence2[i]):\n",
    "            continue\n",
    "        elif similarPairs:\n",
    "            flag = 0\n",
    "            for j in range(len(similarPairs)):\n",
    "                if sentence1[i] in similarPairs[j] and sentence2[i] in similarPairs[j]:\n",
    "                    flag = 1\n",
    "                    continue\n",
    "            if flag == 0:\n",
    "                print(False)\n",
    "                break\n",
    "        else:\n",
    "            print(False)\n",
    "else:\n",
    "    print(False)\n",
    "print(True)\n",
    "    "
   ]
  },
  {
   "cell_type": "code",
   "execution_count": null,
   "id": "07707ae2",
   "metadata": {},
   "outputs": [],
   "source": [
    "s = 'yyisxjwr'\n",
    "temp = s[0:1]\n",
    "\n",
    "\n",
    "\n",
    "\n",
    "print(temp)\n",
    "s = string+temp\n",
    "print(s)"
   ]
  },
  {
   "cell_type": "code",
   "execution_count": null,
   "id": "cf590edd",
   "metadata": {},
   "outputs": [],
   "source": [
    "arr = [10,2,5,3]\n",
    "arr = [7,1,14,11]\n",
    "arr = [3,1,7,11]\n",
    "arr = [-2,0,10,-19,4,6,-8]\n",
    "for indx,x in enumerate(arr):\n",
    "    print(x)\n",
    "    temp = x\n",
    "    arr.pop(indx)\n",
    "    if x*2 in arr:\n",
    "        print(True)\n",
    "        break\n",
    "    arr.insert(indx,x)\n",
    "print(False)\n"
   ]
  },
  {
   "cell_type": "code",
   "execution_count": null,
   "id": "1a1a3a6b",
   "metadata": {},
   "outputs": [],
   "source": [
    "arr = [4,2,1,3]\n",
    "arr = [1,3,6,10,15]\n",
    "arr = [3,8,-10,23,19,-4,-14,27]\n",
    "arr.sort()\n",
    "minimum = max(arr)\n",
    "for i in range(len(arr)):\n",
    "    if i < len(arr)-1 and minimum > arr[i+1]-arr[i]:\n",
    "        minimum = arr[i+1]-arr[i]\n",
    "stack = []\n",
    "for i in range(len(arr)):\n",
    "    if i < len(arr)-1 and minimum == arr[i+1]-arr[i]:\n",
    "        stack.append([arr[i],arr[i+1]])\n",
    "print(stack)\n",
    "        "
   ]
  },
  {
   "cell_type": "code",
   "execution_count": null,
   "id": "67a190a9",
   "metadata": {},
   "outputs": [],
   "source": [
    "arr = [1,2,3]\n",
    "arr = [1,1,3,3,5,5,7,7]\n",
    "count = 0\n",
    "for x in arr:\n",
    "    if x+1 in arr:\n",
    "        count = count+1\n",
    "print(count)"
   ]
  },
  {
   "cell_type": "code",
   "execution_count": null,
   "id": "dd75c94b",
   "metadata": {},
   "outputs": [],
   "source": [
    "arr = [15,88]\n",
    "pieces = [[88],[15]]\n",
    "arr = [49,18,16]\n",
    "pieces = [[16,18,49]]\n",
    "stack = []\n",
    "for x in arr:\n",
    "    i = 0\n",
    "    while i < len(pieces):\n",
    "        if len(pieces[i])==1:\n",
    "            if x in pieces[i]:\n",
    "                stack.append(x)\n",
    "                break\n",
    "        else:\n",
    "            \n",
    "        i = i+1\n",
    "print(stack)\n",
    "            \n",
    "            \n",
    "        "
   ]
  },
  {
   "cell_type": "code",
   "execution_count": 6,
   "id": "5076b65d",
   "metadata": {},
   "outputs": [
    {
     "name": "stdout",
     "output_type": "stream",
     "text": [
      "[1, 2, 1, 2]\n"
     ]
    }
   ],
   "source": [
    "nums = [2,5,1,3,4,7]\n",
    "n = 3\n",
    "nums = [1,2,3,4,4,3,2,1]\n",
    "n = 4\n",
    "nums = [1,1,2,2]\n",
    "n = 2\n",
    "stack = []\n",
    "i = 0\n",
    "while i < n:\n",
    "    stack.append(nums[i])\n",
    "    stack.append(nums[i+n])\n",
    "    i = i+1\n",
    "print(stack)"
   ]
  },
  {
   "cell_type": "code",
   "execution_count": 9,
   "id": "50255ccc",
   "metadata": {},
   "outputs": [
    {
     "name": "stdout",
     "output_type": "stream",
     "text": [
      "[3, 4, 6, 16, 17]\n"
     ]
    }
   ],
   "source": [
    "nums = [1,2,3,4]\n",
    "nums = [1,1,1,1,1]\n",
    "nums = [3,1,2,10,1]\n",
    "stack = []\n",
    "\n",
    "for x in nums:\n",
    "    if not stack:\n",
    "        stack.append(x)\n",
    "    else:\n",
    "        temp = stack.pop()\n",
    "        stack.append(temp)\n",
    "        stack.append(temp+x)\n",
    "print(stack)\n",
    "        \n",
    "    "
   ]
  },
  {
   "cell_type": "code",
   "execution_count": 12,
   "id": "754d5a9e",
   "metadata": {},
   "outputs": [
    {
     "data": {
      "text/plain": [
       "12"
      ]
     },
     "execution_count": 12,
     "metadata": {},
     "output_type": "execute_result"
    }
   ],
   "source": [
    "nums = [3,4,5,2]\n",
    "nums.sort(reverse=True)\n",
    "(nums[0]-1)*(nums[1]-1)"
   ]
  },
  {
   "cell_type": "code",
   "execution_count": 19,
   "id": "afc77a95",
   "metadata": {},
   "outputs": [
    {
     "name": "stdout",
     "output_type": "stream",
     "text": [
      "heTmaa uickqmaaa rownbmaaaa oxfmaaaaa umpedjmaaaaaa overmaaaaaaa hetmaaaaaaaa azylmaaaaaaaaa ogdmaaaaaaaaaa\n"
     ]
    }
   ],
   "source": [
    "sentence = \"I speak Goat Latin\"\n",
    "sentence = \"The quick brown fox jumped over the lazy dog\"\n",
    "list1 = sentence.split()\n",
    "stack = []\n",
    "for indx,x in enumerate(list1):\n",
    "    if x[0] in 'aeiouAEIOU':\n",
    "        stack.append(x+'ma'+'a'*(indx+1))\n",
    "    else:\n",
    "        stack.append(x[1:]+x[0]+'ma'+'a'*(indx+1))\n",
    "print(' '.join(stack))"
   ]
  },
  {
   "cell_type": "markdown",
   "id": "ae7b901a",
   "metadata": {},
   "source": [
    "5//2"
   ]
  },
  {
   "cell_type": "code",
   "execution_count": 20,
   "id": "ae176bcb",
   "metadata": {},
   "outputs": [
    {
     "data": {
      "text/plain": [
       "2"
      ]
     },
     "execution_count": 20,
     "metadata": {},
     "output_type": "execute_result"
    }
   ],
   "source": [
    "5//2"
   ]
  },
  {
   "cell_type": "code",
   "execution_count": 23,
   "id": "c4ca69da",
   "metadata": {},
   "outputs": [
    {
     "data": {
      "text/plain": [
       "2.5"
      ]
     },
     "execution_count": 23,
     "metadata": {},
     "output_type": "execute_result"
    }
   ],
   "source": [
    "d = 5/2\n",
    "d"
   ]
  },
  {
   "cell_type": "code",
   "execution_count": 26,
   "id": "f452849c",
   "metadata": {},
   "outputs": [
    {
     "name": "stdout",
     "output_type": "stream",
     "text": [
      "True\n"
     ]
    }
   ],
   "source": [
    "if type(d) == float:\n",
    "    print(True)\n"
   ]
  },
  {
   "cell_type": "code",
   "execution_count": 29,
   "id": "199fb26d",
   "metadata": {},
   "outputs": [
    {
     "data": {
      "text/plain": [
       "int"
      ]
     },
     "execution_count": 29,
     "metadata": {},
     "output_type": "execute_result"
    }
   ],
   "source": [
    "type(int(2)/int(1))"
   ]
  },
  {
   "cell_type": "code",
   "execution_count": 30,
   "id": "f56d4ff7",
   "metadata": {},
   "outputs": [
    {
     "data": {
      "text/plain": [
       "True"
      ]
     },
     "execution_count": 30,
     "metadata": {},
     "output_type": "execute_result"
    }
   ],
   "source": [
    "2==2.0"
   ]
  },
  {
   "cell_type": "code",
   "execution_count": 52,
   "id": "0ba2d471",
   "metadata": {},
   "outputs": [],
   "source": [
    "def solution(a, m, k):\n",
    "    count=0\n",
    "    new_a = []\n",
    "    for i in range(len(a)):\n",
    "        new_a.extend(a[i:i+m])\n",
    "        \n",
    "        if len(new_a)!=m:\n",
    "            break\n",
    "    print(new_a)\n",
    "    for x in range(m):\n",
    "        flag=0\n",
    "        for y in range(x+1, m):\n",
    "            if new_a[x] + new_a[y] == k and x!=y:\n",
    "                count+=1\n",
    "                flag=1\n",
    "                break\n",
    "        if flag==1:\n",
    "            break\n",
    "            \n",
    "    return count"
   ]
  },
  {
   "cell_type": "code",
   "execution_count": 53,
   "id": "79388773",
   "metadata": {},
   "outputs": [
    {
     "name": "stdout",
     "output_type": "stream",
     "text": [
      "[15, 8, 8, 8]\n"
     ]
    },
    {
     "data": {
      "text/plain": [
       "0"
      ]
     },
     "execution_count": 53,
     "metadata": {},
     "output_type": "execute_result"
    }
   ],
   "source": [
    "a = [15, 8, 8, 2, 6, 4, 1, 7]\n",
    "m = 2\n",
    "k = 8\n",
    "solution(a,m,k)"
   ]
  },
  {
   "cell_type": "code",
   "execution_count": 47,
   "id": "479550a4",
   "metadata": {},
   "outputs": [
    {
     "ename": "SyntaxError",
     "evalue": "'break' outside loop (1303344054.py, line 7)",
     "output_type": "error",
     "traceback": [
      "\u001b[0;36m  File \u001b[0;32m\"/var/folders/mv/r3kxcjmn4zz7jtgbs5_cf11w0000gn/T/ipykernel_32472/1303344054.py\"\u001b[0;36m, line \u001b[0;32m7\u001b[0m\n\u001b[0;31m    break\u001b[0m\n\u001b[0m    ^\u001b[0m\n\u001b[0;31mSyntaxError\u001b[0m\u001b[0;31m:\u001b[0m 'break' outside loop\n"
     ]
    }
   ],
   "source": [
    "count=0\n",
    "new_a = []\n",
    "for i in range(len(a)):\n",
    "    new_a.append(a[i:i+m])\n",
    "        if len(new_a)!=m:\n",
    "    \n",
    "\n",
    "for x in range(m):\n",
    "    flag=0\n",
    "    for y in range(x+1, m):\n",
    "        if new_a[x] + new_a[y] == k and x!=y:\n",
    "            count+=1\n",
    "            flag=1\n",
    "            break\n",
    "    if flag==1:\n",
    "        break\n",
    "\n",
    "return count"
   ]
  },
  {
   "cell_type": "code",
   "execution_count": null,
   "id": "e270ff60",
   "metadata": {},
   "outputs": [],
   "source": []
  }
 ],
 "metadata": {
  "kernelspec": {
   "display_name": "Python 3 (ipykernel)",
   "language": "python",
   "name": "python3"
  },
  "language_info": {
   "codemirror_mode": {
    "name": "ipython",
    "version": 3
   },
   "file_extension": ".py",
   "mimetype": "text/x-python",
   "name": "python",
   "nbconvert_exporter": "python",
   "pygments_lexer": "ipython3",
   "version": "3.7.6"
  },
  "toc": {
   "base_numbering": 1,
   "nav_menu": {},
   "number_sections": true,
   "sideBar": true,
   "skip_h1_title": false,
   "title_cell": "Table of Contents",
   "title_sidebar": "Contents",
   "toc_cell": false,
   "toc_position": {},
   "toc_section_display": true,
   "toc_window_display": false
  },
  "varInspector": {
   "cols": {
    "lenName": 16,
    "lenType": 16,
    "lenVar": 40
   },
   "kernels_config": {
    "python": {
     "delete_cmd_postfix": "",
     "delete_cmd_prefix": "del ",
     "library": "var_list.py",
     "varRefreshCmd": "print(var_dic_list())"
    },
    "r": {
     "delete_cmd_postfix": ") ",
     "delete_cmd_prefix": "rm(",
     "library": "var_list.r",
     "varRefreshCmd": "cat(var_dic_list()) "
    }
   },
   "types_to_exclude": [
    "module",
    "function",
    "builtin_function_or_method",
    "instance",
    "_Feature"
   ],
   "window_display": false
  }
 },
 "nbformat": 4,
 "nbformat_minor": 5
}
