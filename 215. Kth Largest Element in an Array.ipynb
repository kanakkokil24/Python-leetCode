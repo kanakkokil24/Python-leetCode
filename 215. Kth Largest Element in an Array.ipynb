{
 "cells": [
  {
   "cell_type": "markdown",
   "id": "5f4acd36",
   "metadata": {},
   "source": [
    "# 215. Kth Largest Element in an Array\n",
    "\n",
    "Given an integer array nums and an integer k, return the kth largest element in the array.\n",
    "\n",
    "Note that it is the kth largest element in the sorted order, not the kth distinct element.\n",
    "\n",
    " \n",
    "\n",
    "### Example 1:\n",
    "\n",
    "Input: nums = [3,2,1,5,6,4], k = 2<br>\n",
    "Output: 5<br>\n",
    "\n",
    "### Example 2:\n",
    "\n",
    "Input: nums = [3,2,3,1,2,4,5,5,6], k = 4<br>\n",
    "Output: 4<br>\n",
    " \n",
    "\n",
    "### Constraints:\n",
    "\n",
    "1 <= k <= nums.length <= 104<br>\n",
    "-104 <= nums[i] <= 104<br>"
   ]
  },
  {
   "cell_type": "code",
   "execution_count": 6,
   "id": "b93d2889",
   "metadata": {},
   "outputs": [
    {
     "name": "stdout",
     "output_type": "stream",
     "text": [
      "5\n"
     ]
    }
   ],
   "source": [
    "nums = [3,2,1,5,6,4]\n",
    "k = 2\n",
    "\n",
    "nums.sort(reverse=True)\n",
    "print(nums[k-1])"
   ]
  },
  {
   "cell_type": "code",
   "execution_count": null,
   "id": "47ca506d",
   "metadata": {},
   "outputs": [],
   "source": []
  }
 ],
 "metadata": {
  "kernelspec": {
   "display_name": "Python 3 (ipykernel)",
   "language": "python",
   "name": "python3"
  },
  "language_info": {
   "codemirror_mode": {
    "name": "ipython",
    "version": 3
   },
   "file_extension": ".py",
   "mimetype": "text/x-python",
   "name": "python",
   "nbconvert_exporter": "python",
   "pygments_lexer": "ipython3",
   "version": "3.7.6"
  },
  "toc": {
   "base_numbering": 1,
   "nav_menu": {},
   "number_sections": true,
   "sideBar": true,
   "skip_h1_title": false,
   "title_cell": "Table of Contents",
   "title_sidebar": "Contents",
   "toc_cell": false,
   "toc_position": {},
   "toc_section_display": true,
   "toc_window_display": false
  },
  "varInspector": {
   "cols": {
    "lenName": 16,
    "lenType": 16,
    "lenVar": 40
   },
   "kernels_config": {
    "python": {
     "delete_cmd_postfix": "",
     "delete_cmd_prefix": "del ",
     "library": "var_list.py",
     "varRefreshCmd": "print(var_dic_list())"
    },
    "r": {
     "delete_cmd_postfix": ") ",
     "delete_cmd_prefix": "rm(",
     "library": "var_list.r",
     "varRefreshCmd": "cat(var_dic_list()) "
    }
   },
   "types_to_exclude": [
    "module",
    "function",
    "builtin_function_or_method",
    "instance",
    "_Feature"
   ],
   "window_display": false
  }
 },
 "nbformat": 4,
 "nbformat_minor": 5
}
