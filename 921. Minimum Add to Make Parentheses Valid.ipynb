{
 "cells": [
  {
   "cell_type": "markdown",
   "id": "5a00f61c",
   "metadata": {},
   "source": [
    "# 921. Minimum Add to Make Parentheses Valid\n",
    "\n",
    "A parentheses string is valid if and only if:<br>\n",
    "\n",
    "It is the empty string,<br>\n",
    "It can be written as AB (A concatenated with B), where A and B are valid strings, or<br>\n",
    "It can be written as (A), where A is a valid string.<br>\n",
    "You are given a parentheses string s. In one move, you can insert a parenthesis at any position of the string.<br>\n",
    "\n",
    "For example, if s = \"()))\", you can insert an opening parenthesis to be \"(()))\" or a closing parenthesis to be \"())))\".<br>\n",
    "Return the minimum number of moves required to make s valid.<br>\n",
    "\n",
    " \n",
    "\n",
    "### Example 1:\n",
    "\n",
    "Input: s = \"())\"<br>\n",
    "Output: 1<br>\n",
    "### Example 2:\n",
    "\n",
    "Input: s = \"(((\"<br>\n",
    "Output: 3<br>\n",
    " \n",
    "\n",
    "### Constraints:<br>\n",
    "\n",
    "1 <= s.length <= 1000<br>\n",
    "s[i] is either '(' or ')'.<br>"
   ]
  },
  {
   "cell_type": "code",
   "execution_count": 4,
   "id": "3f14ce72",
   "metadata": {},
   "outputs": [
    {
     "name": "stdout",
     "output_type": "stream",
     "text": [
      "3\n"
     ]
    }
   ],
   "source": [
    "s = \"())\"\n",
    "s = \"(((\"\n",
    "\n",
    "s1 = list(s)\n",
    "N = len(s)\n",
    "stack = []\n",
    "count = 0\n",
    "for i in range(N):\n",
    "    if s1[i] == \"(\":\n",
    "        stack.append(i)\n",
    "    elif s1[i] == \")\":\n",
    "        if stack:\n",
    "            stack.pop()\n",
    "        else:\n",
    "            count=count+1\n",
    "print(len(stack)+count)\n"
   ]
  },
  {
   "cell_type": "code",
   "execution_count": null,
   "id": "1be17242",
   "metadata": {},
   "outputs": [],
   "source": []
  }
 ],
 "metadata": {
  "kernelspec": {
   "display_name": "Python 3 (ipykernel)",
   "language": "python",
   "name": "python3"
  },
  "language_info": {
   "codemirror_mode": {
    "name": "ipython",
    "version": 3
   },
   "file_extension": ".py",
   "mimetype": "text/x-python",
   "name": "python",
   "nbconvert_exporter": "python",
   "pygments_lexer": "ipython3",
   "version": "3.7.6"
  },
  "toc": {
   "base_numbering": 1,
   "nav_menu": {},
   "number_sections": true,
   "sideBar": true,
   "skip_h1_title": false,
   "title_cell": "Table of Contents",
   "title_sidebar": "Contents",
   "toc_cell": false,
   "toc_position": {},
   "toc_section_display": true,
   "toc_window_display": false
  },
  "varInspector": {
   "cols": {
    "lenName": 16,
    "lenType": 16,
    "lenVar": 40
   },
   "kernels_config": {
    "python": {
     "delete_cmd_postfix": "",
     "delete_cmd_prefix": "del ",
     "library": "var_list.py",
     "varRefreshCmd": "print(var_dic_list())"
    },
    "r": {
     "delete_cmd_postfix": ") ",
     "delete_cmd_prefix": "rm(",
     "library": "var_list.r",
     "varRefreshCmd": "cat(var_dic_list()) "
    }
   },
   "types_to_exclude": [
    "module",
    "function",
    "builtin_function_or_method",
    "instance",
    "_Feature"
   ],
   "window_display": false
  }
 },
 "nbformat": 4,
 "nbformat_minor": 5
}
