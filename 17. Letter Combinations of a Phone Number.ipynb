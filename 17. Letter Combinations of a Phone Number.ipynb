{
 "cells": [
  {
   "cell_type": "markdown",
   "id": "d74f6c25",
   "metadata": {},
   "source": [
    "# 17. Letter Combinations of a Phone Number\n",
    "\n",
    "Given a string containing digits from 2-9 inclusive, return all possible letter combinations that the number could represent. Return the answer in any order.\n",
    "\n",
    "A mapping of digit to letters (just like on the telephone buttons) is given below. Note that 1 does not map to any letters.\n",
    "\n",
    "\n",
    "\n",
    " \n",
    "\n",
    "### Example 1:\n",
    "\n",
    "Input: digits = \"23\"<br>\n",
    "Output: [\"ad\",\"ae\",\"af\",\"bd\",\"be\",\"bf\",\"cd\",\"ce\",\"cf\"]<br>\n",
    "### Example 2:\n",
    "\n",
    "Input: digits = \"\"<br>\n",
    "Output: []<br>\n",
    "### Example 3:\n",
    "\n",
    "Input: digits = \"2\"<br>\n",
    "Output: [\"a\",\"b\",\"c\"]<br>\n",
    " \n",
    "\n",
    "### Constraints:\n",
    "\n",
    "0 <= digits.length <= 4<br>\n",
    "digits[i] is a digit in the range ['2', '9'].<br>"
   ]
  },
  {
   "cell_type": "code",
   "execution_count": null,
   "id": "eb350f5b",
   "metadata": {},
   "outputs": [],
   "source": []
  },
  {
   "cell_type": "code",
   "execution_count": 13,
   "id": "0c0d45ca",
   "metadata": {},
   "outputs": [
    {
     "name": "stdout",
     "output_type": "stream",
     "text": [
      "['aw', 'ax', 'ay', 'az', 'bw', 'bx', 'by', 'bz', 'cw', 'cx', 'cy', 'cz']\n"
     ]
    }
   ],
   "source": [
    "### final Solution # Working solution \n",
    "\n",
    "digits = \"29\"\n",
    "dict1 = {'2':'abc','3':'def','4':'ghi','5':'jkl','6':'mno','7':'pqrs','8':'tuv','9':'wxyz'}\n",
    "\n",
    "res = []\n",
    "def backtrack(i,curstr):\n",
    "    \n",
    "    if len(digits)==len(curstr):\n",
    "        res.append(curstr)\n",
    "        return\n",
    "    \n",
    "    for c in dict1.get(digits[i]):\n",
    "        backtrack(i+1,curstr+c)\n",
    "\n",
    "if digits:\n",
    "    backtrack(0,\"\")\n",
    "    print(res)\n",
    "else:\n",
    "    print(res)\n",
    "    "
   ]
  },
  {
   "cell_type": "code",
   "execution_count": 32,
   "id": "d92954b0",
   "metadata": {},
   "outputs": [
    {
     "name": "stdout",
     "output_type": "stream",
     "text": [
      "['a', 'b', 'c']\n"
     ]
    }
   ],
   "source": [
    "digits = \"23\"\n",
    "digits = \"2\"\n",
    "list1 = [[2,'abc'],[3,'def'],[4,'ghi'],[5,'jkl'],[6,'mno'],[7,'pqrs'],[8,'tuv'],[9,'wxyz']]\n",
    "dict1 = {'2':'abc','3':'def','4':'ghi','5':'jkl','6':'mno','7':'pqrs','8':'tuv','9':'wxyz'}\n",
    "\n",
    "d1 =\"\"\n",
    "d2 = \"\"\n",
    "s1 = \"\"\n",
    "s2 = \"\"\n",
    "if len(digits)==1:\n",
    "    d1 = digits[0]\n",
    "    s1 = dict1.get(d1)\n",
    "if len(digits)==2:\n",
    "    d2 = digits[1]\n",
    "    s2 = dict1.get(d2)\n",
    "\n",
    "\n",
    "stack =[]\n",
    "for x in s1:\n",
    "    if s2 is \"\":\n",
    "        stack.append(x)\n",
    "    else:\n",
    "        for y in s2:\n",
    "            stack.append(x+y)\n",
    "print(stack)\n",
    "    "
   ]
  },
  {
   "cell_type": "code",
   "execution_count": null,
   "id": "3c67488c",
   "metadata": {},
   "outputs": [],
   "source": []
  }
 ],
 "metadata": {
  "kernelspec": {
   "display_name": "Python 3 (ipykernel)",
   "language": "python",
   "name": "python3"
  },
  "language_info": {
   "codemirror_mode": {
    "name": "ipython",
    "version": 3
   },
   "file_extension": ".py",
   "mimetype": "text/x-python",
   "name": "python",
   "nbconvert_exporter": "python",
   "pygments_lexer": "ipython3",
   "version": "3.7.6"
  },
  "toc": {
   "base_numbering": 1,
   "nav_menu": {},
   "number_sections": true,
   "sideBar": true,
   "skip_h1_title": false,
   "title_cell": "Table of Contents",
   "title_sidebar": "Contents",
   "toc_cell": false,
   "toc_position": {},
   "toc_section_display": true,
   "toc_window_display": false
  },
  "varInspector": {
   "cols": {
    "lenName": 16,
    "lenType": 16,
    "lenVar": 40
   },
   "kernels_config": {
    "python": {
     "delete_cmd_postfix": "",
     "delete_cmd_prefix": "del ",
     "library": "var_list.py",
     "varRefreshCmd": "print(var_dic_list())"
    },
    "r": {
     "delete_cmd_postfix": ") ",
     "delete_cmd_prefix": "rm(",
     "library": "var_list.r",
     "varRefreshCmd": "cat(var_dic_list()) "
    }
   },
   "types_to_exclude": [
    "module",
    "function",
    "builtin_function_or_method",
    "instance",
    "_Feature"
   ],
   "window_display": false
  }
 },
 "nbformat": 4,
 "nbformat_minor": 5
}
