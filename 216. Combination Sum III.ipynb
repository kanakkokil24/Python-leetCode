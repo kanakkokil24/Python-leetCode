{
 "cells": [
  {
   "cell_type": "markdown",
   "id": "cb058367",
   "metadata": {},
   "source": [
    "# 216. Combination Sum III\n",
    "\n",
    "Find all valid combinations of k numbers that sum up to n such that the following conditions are true:\n",
    "\n",
    "Only numbers 1 through 9 are used.\n",
    "Each number is used at most once.\n",
    "Return a list of all possible valid combinations. The list must not contain the same combination twice, and the combinations may be returned in any order.\n",
    "\n",
    " \n",
    "\n",
    "### Example 1:\n",
    "\n",
    "Input: k = 3, n = 7<br>\n",
    "Output: [[1,2,4]]<br>\n",
    "Explanation:<br>\n",
    "1 + 2 + 4 = 7<br>\n",
    "There are no other valid combinations.<br>\n",
    "### Example 2:\n",
    "\n",
    "Input: k = 3, n = 9<br>\n",
    "Output: [[1,2,6],[1,3,5],[2,3,4]]<br>\n",
    "Explanation:<br>\n",
    "1 + 2 + 6 = 9<br>\n",
    "1 + 3 + 5 = 9<br>\n",
    "2 + 3 + 4 = 9<br>\n",
    "There are no other valid combinations.<br>\n",
    "\n",
    "### Example 3:\n",
    "\n",
    "Input: k = 4, n = 1<br>\n",
    "Output: []<br>\n",
    "Explanation: There are no valid combinations.<br>\n",
    "Using 4 different numbers in the range [1,9], the smallest sum we can get is 1+2+3+4 = 10 and since 10 > 1, there are no valid combination.<br>\n",
    " \n",
    "\n",
    "### Constraints:\n",
    "\n",
    "2 <= k <= 9<br>\n",
    "1 <= n <= 60<br>"
   ]
  },
  {
   "cell_type": "code",
   "execution_count": 4,
   "id": "09fc4caf",
   "metadata": {},
   "outputs": [
    {
     "name": "stdout",
     "output_type": "stream",
     "text": [
      "[[1, 2, 4]]\n"
     ]
    }
   ],
   "source": [
    "k = 3\n",
    "n = 7\n",
    "num = [1,2,3,4,5,6,7,8,9]\n",
    "res = []\n",
    "def backtrack(start , sum1,comb):\n",
    "    \n",
    "    if sum1 == n and len(comb)==k:\n",
    "        res.append(comb.copy())\n",
    "        return\n",
    "    elif sum1 > n:\n",
    "        return\n",
    "        \n",
    "    \n",
    "    for i in range(start,10):\n",
    "        #if len(comb) < k\n",
    "        comb.append(i)\n",
    "        sum1 = sum(comb)\n",
    "        backtrack(i+1, sum1,comb)\n",
    "        if sum1 >= n:\n",
    "            comb.pop()\n",
    "            break\n",
    "        comb.pop()\n",
    "\n",
    "backtrack(1,0,[])\n",
    "print(res)"
   ]
  },
  {
   "cell_type": "code",
   "execution_count": null,
   "id": "fac64c69",
   "metadata": {},
   "outputs": [],
   "source": []
  }
 ],
 "metadata": {
  "kernelspec": {
   "display_name": "Python 3 (ipykernel)",
   "language": "python",
   "name": "python3"
  },
  "language_info": {
   "codemirror_mode": {
    "name": "ipython",
    "version": 3
   },
   "file_extension": ".py",
   "mimetype": "text/x-python",
   "name": "python",
   "nbconvert_exporter": "python",
   "pygments_lexer": "ipython3",
   "version": "3.7.6"
  },
  "toc": {
   "base_numbering": 1,
   "nav_menu": {},
   "number_sections": true,
   "sideBar": true,
   "skip_h1_title": false,
   "title_cell": "Table of Contents",
   "title_sidebar": "Contents",
   "toc_cell": false,
   "toc_position": {},
   "toc_section_display": true,
   "toc_window_display": false
  },
  "varInspector": {
   "cols": {
    "lenName": 16,
    "lenType": 16,
    "lenVar": 40
   },
   "kernels_config": {
    "python": {
     "delete_cmd_postfix": "",
     "delete_cmd_prefix": "del ",
     "library": "var_list.py",
     "varRefreshCmd": "print(var_dic_list())"
    },
    "r": {
     "delete_cmd_postfix": ") ",
     "delete_cmd_prefix": "rm(",
     "library": "var_list.r",
     "varRefreshCmd": "cat(var_dic_list()) "
    }
   },
   "types_to_exclude": [
    "module",
    "function",
    "builtin_function_or_method",
    "instance",
    "_Feature"
   ],
   "window_display": false
  }
 },
 "nbformat": 4,
 "nbformat_minor": 5
}
