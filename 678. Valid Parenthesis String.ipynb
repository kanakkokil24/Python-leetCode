{
 "cells": [
  {
   "cell_type": "markdown",
   "id": "ef8f52b5",
   "metadata": {},
   "source": [
    "# 678. Valid Parenthesis String\n",
    "\n",
    "Given a string s containing only three types of characters: '(', ')' and '*', return true if s is valid.\n",
    "\n",
    "The following rules define a valid string:\n",
    "\n",
    "Any left parenthesis '(' must have a corresponding right parenthesis ')'.<br>\n",
    "Any right parenthesis ')' must have a corresponding left parenthesis '('.<br>\n",
    "Left parenthesis '(' must go before the corresponding right parenthesis ')'.<br>\n",
    "'*' could be treated as a single right parenthesis ')' or a single left parenthesis '(' or an empty string \"\".<br>\n",
    " \n",
    "\n",
    "### Example 1:\n",
    "\n",
    "Input: s = \"()\"<br>\n",
    "Output: true<br>\n",
    "### Example 2:\n",
    "\n",
    "Input: s = \"(*)\"<br>\n",
    "Output: true<br>\n",
    "### Example 3:\n",
    "\n",
    "Input: s = \"(*))\"<br>\n",
    "Output: true<br>\n",
    " \n",
    "\n",
    "### Constraints:\n",
    "\n",
    "1 <= s.length <= 100<br>\n",
    "s[i] is '(', ')' or '*'.<br>"
   ]
  },
  {
   "cell_type": "code",
   "execution_count": 9,
   "id": "db0cea1e",
   "metadata": {},
   "outputs": [
    {
     "name": "stdout",
     "output_type": "stream",
     "text": [
      "True\n"
     ]
    }
   ],
   "source": [
    "s = \"(*))\"\n",
    "\n",
    "opening = 0\n",
    "closing = 0\n",
    "free = 0\n",
    "for i in range(len(s)):\n",
    "    if s[i] == \"*\":\n",
    "        free = free+1\n",
    "    elif s[i] == \"(\":\n",
    "        opening = opening+1\n",
    "    else:\n",
    "        closing = closing+1\n",
    "    if closing > free+opening:\n",
    "        print(False)\n",
    "opening = 0\n",
    "closing = 0\n",
    "free = 0\n",
    "for i in range(len(s)-1,-1,-1):\n",
    "    if s[i] == \"*\":\n",
    "        free = free+1\n",
    "    elif s[i] == \"(\":\n",
    "        opening = opening+1\n",
    "    else:\n",
    "        closing = closing+1\n",
    "    if opening > free+closing:\n",
    "        print(False)    \n",
    "print(True)"
   ]
  },
  {
   "cell_type": "code",
   "execution_count": null,
   "id": "7beabc22",
   "metadata": {},
   "outputs": [],
   "source": []
  }
 ],
 "metadata": {
  "kernelspec": {
   "display_name": "Python 3 (ipykernel)",
   "language": "python",
   "name": "python3"
  },
  "language_info": {
   "codemirror_mode": {
    "name": "ipython",
    "version": 3
   },
   "file_extension": ".py",
   "mimetype": "text/x-python",
   "name": "python",
   "nbconvert_exporter": "python",
   "pygments_lexer": "ipython3",
   "version": "3.7.6"
  },
  "toc": {
   "base_numbering": 1,
   "nav_menu": {},
   "number_sections": true,
   "sideBar": true,
   "skip_h1_title": false,
   "title_cell": "Table of Contents",
   "title_sidebar": "Contents",
   "toc_cell": false,
   "toc_position": {},
   "toc_section_display": true,
   "toc_window_display": false
  },
  "varInspector": {
   "cols": {
    "lenName": 16,
    "lenType": 16,
    "lenVar": 40
   },
   "kernels_config": {
    "python": {
     "delete_cmd_postfix": "",
     "delete_cmd_prefix": "del ",
     "library": "var_list.py",
     "varRefreshCmd": "print(var_dic_list())"
    },
    "r": {
     "delete_cmd_postfix": ") ",
     "delete_cmd_prefix": "rm(",
     "library": "var_list.r",
     "varRefreshCmd": "cat(var_dic_list()) "
    }
   },
   "types_to_exclude": [
    "module",
    "function",
    "builtin_function_or_method",
    "instance",
    "_Feature"
   ],
   "window_display": false
  }
 },
 "nbformat": 4,
 "nbformat_minor": 5
}
