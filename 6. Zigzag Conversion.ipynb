{
 "cells": [
  {
   "cell_type": "markdown",
   "id": "2b0065df",
   "metadata": {},
   "source": [
    "# 6. Zigzag Conversion\n",
    "\n",
    "The string \"PAYPALISHIRING\" is written in a zigzag pattern on a given number of rows like this: (you may want to display this pattern in a fixed font for better legibility)\n",
    "\n",
    "P   A   H   N<br>\n",
    "A P L S I I G<br>\n",
    "Y   I   R<br>\n",
    "And then read line by line: \"PAHNAPLSIIGYIR\"\n",
    "\n",
    "Write the code that will take a string and make this conversion given a number of rows:\n",
    "\n",
    "string convert(string s, int numRows);\n",
    " \n",
    "\n",
    "### Example 1:\n",
    "\n",
    "Input: s = \"PAYPALISHIRING\", numRows = 3<br>\n",
    "Output: \"PAHNAPLSIIGYIR\"<br>\n",
    "\n",
    "### Example 2:\n",
    "\n",
    "Input: s = \"PAYPALISHIRING\", numRows = 4<br>\n",
    "Output: \"PINALSIGYAHRPI\"<br>\n",
    "Explanation:<br>\n",
    "P     I    N<br>\n",
    "A   L S  I G<br>\n",
    "Y A   H R<br>\n",
    "P     I<br>\n",
    "\n",
    "### Example 3:\n",
    "\n",
    "Input: s = \"A\", numRows = 1<br>\n",
    "Output: \"A\"<br>\n",
    " \n",
    "\n",
    "### Constraints:\n",
    "\n",
    "1 <= s.length <= 1000<br>\n",
    "s consists of English letters (lower-case and upper-case), ',' and '.'.<br>\n",
    "1 <= numRows <= 1000<br>"
   ]
  },
  {
   "cell_type": "code",
   "execution_count": 1,
   "id": "7f8f15e0",
   "metadata": {},
   "outputs": [
    {
     "name": "stdout",
     "output_type": "stream",
     "text": [
      "A\n"
     ]
    }
   ],
   "source": [
    "s = \"PAYPALISHIRING\"\n",
    "numRows = 3\n",
    "s = \"PAYPALISHIRING\"\n",
    "numRows = 4\n",
    "s = \"A\"\n",
    "numRows = 1\n",
    "\n",
    "## for numRows = 0 and numRows= numRows  => (numRows -1)*2\n",
    "## numRows > 0 and numRows < numRows   =>  (numRows -1)*2 - 2*row_number i.e j\n",
    "## numRows is incremented by (numRows -1)*2\n",
    "\n",
    "\n",
    "stack=[]\n",
    "i = 0\n",
    "j = 0\n",
    "\n",
    "if numRows == 1:\n",
    "    print(s)\n",
    "else:\n",
    "    while j < numRows:\n",
    "        i = j\n",
    "        b = []\n",
    "        while i < len(s):                    # (numRows-1)*2\n",
    "            b.append(s[i])\n",
    "            i = i +(numRows -1)*2\n",
    "            if j > 0 and j < numRows-1 and (i- 2*j) < len(s):\n",
    "                b.append(s[i- 2*j])\n",
    "\n",
    "        j = j+1\n",
    "        stack.append(b)\n",
    "    print(stack)\n",
    "\n",
    "    print(''.join([''.join(st) for st in stack]))"
   ]
  },
  {
   "cell_type": "code",
   "execution_count": null,
   "id": "af2cfe7e",
   "metadata": {},
   "outputs": [],
   "source": [
    "\n"
   ]
  },
  {
   "cell_type": "code",
   "execution_count": null,
   "id": "881ec663",
   "metadata": {},
   "outputs": [],
   "source": []
  }
 ],
 "metadata": {
  "kernelspec": {
   "display_name": "Python 3 (ipykernel)",
   "language": "python",
   "name": "python3"
  },
  "language_info": {
   "codemirror_mode": {
    "name": "ipython",
    "version": 3
   },
   "file_extension": ".py",
   "mimetype": "text/x-python",
   "name": "python",
   "nbconvert_exporter": "python",
   "pygments_lexer": "ipython3",
   "version": "3.7.6"
  },
  "toc": {
   "base_numbering": 1,
   "nav_menu": {},
   "number_sections": true,
   "sideBar": true,
   "skip_h1_title": false,
   "title_cell": "Table of Contents",
   "title_sidebar": "Contents",
   "toc_cell": false,
   "toc_position": {},
   "toc_section_display": true,
   "toc_window_display": false
  },
  "varInspector": {
   "cols": {
    "lenName": 16,
    "lenType": 16,
    "lenVar": 40
   },
   "kernels_config": {
    "python": {
     "delete_cmd_postfix": "",
     "delete_cmd_prefix": "del ",
     "library": "var_list.py",
     "varRefreshCmd": "print(var_dic_list())"
    },
    "r": {
     "delete_cmd_postfix": ") ",
     "delete_cmd_prefix": "rm(",
     "library": "var_list.r",
     "varRefreshCmd": "cat(var_dic_list()) "
    }
   },
   "types_to_exclude": [
    "module",
    "function",
    "builtin_function_or_method",
    "instance",
    "_Feature"
   ],
   "window_display": false
  }
 },
 "nbformat": 4,
 "nbformat_minor": 5
}
