{
 "cells": [
  {
   "cell_type": "markdown",
   "id": "08531b82",
   "metadata": {},
   "source": [
    "# 40. Combination Sum II\n",
    "\n",
    "Given a collection of candidate numbers (candidates) and a target number (target), find all unique combinations in candidates where the candidate numbers sum to target.\n",
    "\n",
    "Each number in candidates may only be used once in the combination.\n",
    "\n",
    "Note: The solution set must not contain duplicate combinations.\n",
    "\n",
    " \n",
    "\n",
    "### Example 1:\n",
    "\n",
    "Input: candidates = [10,1,2,7,6,1,5], target = 8<br>\n",
    "Output: <br>\n",
    "[<br>\n",
    "[1,1,6],<br>\n",
    "[1,2,5],<br>\n",
    "[1,7],<br>\n",
    "[2,6]<br>\n",
    "]<br>\n",
    "### Example 2:\n",
    "\n",
    "Input: candidates = [2,5,2,1,2], target = 5<br>\n",
    "Output: <br>\n",
    "[<br>\n",
    "[1,2,2],<br>\n",
    "[5]<br>\n",
    "]<br>\n",
    " \n",
    "\n",
    "### Constraints:\n",
    "\n",
    "1 <= candidates.length <= 100<br>\n",
    "1 <= candidates[i] <= 50<br>\n",
    "1 <= target <= 30<br>"
   ]
  },
  {
   "cell_type": "code",
   "execution_count": 17,
   "id": "5498641a",
   "metadata": {},
   "outputs": [
    {
     "name": "stdout",
     "output_type": "stream",
     "text": [
      "32\n",
      "[1, 1, 2, 5, 6, 7, 10]\n",
      "[[1, 1, 6], [1, 2, 5], [1, 7], [2, 6]]\n"
     ]
    }
   ],
   "source": [
    "candidates = [10,1,2,7,6,1,5]\n",
    "target = 8\n",
    "#candidates = [2,5,2,1,2]\n",
    "#target = 5\n",
    "#candidates = [1,1,1,1,1,1,1,1,1,1,1,1,1,1,1,1,1,1,1,1,1,1,1,1,1]\n",
    "#target = 27\n",
    "\n",
    "print(sum(candidates))\n",
    "\n",
    "candidates.sort()\n",
    "print(candidates)\n",
    "\n",
    "sum1 = 0\n",
    "res = []\n",
    "def backtrack(start,sum1,comb):\n",
    "    \n",
    "    if sum1 == target:\n",
    "        val = comb.copy()\n",
    "        if val not in res:\n",
    "            res.append(comb.copy())\n",
    "        return\n",
    "        \n",
    "    elif sum1 > target:\n",
    "        return\n",
    "    prev = -1\n",
    "    for i in range(start,len(candidates)):\n",
    "        if candidates[i] == prev:\n",
    "            continue\n",
    "        comb.append(candidates[i])\n",
    "        sum1 = sum(comb)\n",
    "        backtrack(i+1,sum1,comb)\n",
    "        if sum1 >= target:\n",
    "            comb.pop()\n",
    "            break\n",
    "        comb.pop()\n",
    "        prev = candidates[i]\n",
    "backtrack(0,sum1,[])\n",
    "print(res)\n",
    "        "
   ]
  },
  {
   "cell_type": "code",
   "execution_count": null,
   "id": "6c9af214",
   "metadata": {},
   "outputs": [],
   "source": []
  }
 ],
 "metadata": {
  "kernelspec": {
   "display_name": "Python 3 (ipykernel)",
   "language": "python",
   "name": "python3"
  },
  "language_info": {
   "codemirror_mode": {
    "name": "ipython",
    "version": 3
   },
   "file_extension": ".py",
   "mimetype": "text/x-python",
   "name": "python",
   "nbconvert_exporter": "python",
   "pygments_lexer": "ipython3",
   "version": "3.7.6"
  },
  "toc": {
   "base_numbering": 1,
   "nav_menu": {},
   "number_sections": true,
   "sideBar": true,
   "skip_h1_title": false,
   "title_cell": "Table of Contents",
   "title_sidebar": "Contents",
   "toc_cell": false,
   "toc_position": {},
   "toc_section_display": true,
   "toc_window_display": false
  },
  "varInspector": {
   "cols": {
    "lenName": 16,
    "lenType": 16,
    "lenVar": 40
   },
   "kernels_config": {
    "python": {
     "delete_cmd_postfix": "",
     "delete_cmd_prefix": "del ",
     "library": "var_list.py",
     "varRefreshCmd": "print(var_dic_list())"
    },
    "r": {
     "delete_cmd_postfix": ") ",
     "delete_cmd_prefix": "rm(",
     "library": "var_list.r",
     "varRefreshCmd": "cat(var_dic_list()) "
    }
   },
   "types_to_exclude": [
    "module",
    "function",
    "builtin_function_or_method",
    "instance",
    "_Feature"
   ],
   "window_display": false
  }
 },
 "nbformat": 4,
 "nbformat_minor": 5
}
