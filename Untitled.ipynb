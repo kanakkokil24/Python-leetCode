{
 "cells": [
  {
   "cell_type": "markdown",
   "id": "a32d1e24",
   "metadata": {},
   "source": [
    "# 1450. Number of Students Doing Homework at a Given Time"
   ]
  },
  {
   "cell_type": "code",
   "execution_count": null,
   "id": "cc7c5827",
   "metadata": {},
   "outputs": [],
   "source": [
    "startTime = [1,2,3]\n",
    "endTime = [3,2,7]\n",
    "queryTime = 4\n",
    "\n",
    "startTime = [4]\n",
    "endTime = [4]\n",
    "queryTime = 4\n",
    "\n",
    "count = 0\n",
    "for i in range(len(startTime)):\n",
    "    if queryTime >= startTime[i] and queryTime <= endTime[i]:\n",
    "        count = count+1\n",
    "print(count)"
   ]
  },
  {
   "cell_type": "markdown",
   "id": "fd75e536",
   "metadata": {},
   "source": [
    "# 1394. Find Lucky Integer in an Array"
   ]
  },
  {
   "cell_type": "code",
   "execution_count": null,
   "id": "ddf12fe9",
   "metadata": {},
   "outputs": [],
   "source": [
    "arr = [2,2,3,4]\n",
    "arr = [1,2,2,3,3,3]\n",
    "#arr = [2,2,2,3,3]\n",
    "new_arr = arr.copy()\n",
    "new_arr = list(set(new_arr))\n",
    "new_arr.sort(reverse=True)\n",
    "for x in new_arr:\n",
    "    if arr.count(x) == x:\n",
    "        print(x)\n",
    "        break\n",
    "print(-1)"
   ]
  },
  {
   "cell_type": "markdown",
   "id": "b697ce0d",
   "metadata": {},
   "source": [
    "# 1550. Three Consecutive Odds"
   ]
  },
  {
   "cell_type": "code",
   "execution_count": null,
   "id": "21a2d5e7",
   "metadata": {},
   "outputs": [],
   "source": [
    "arr = [2,6,4,1]\n",
    "arr = [1,2,34,3,4,5,7,23,12]\n",
    "count = 0\n",
    "for x in arr:\n",
    "    if x%2 !=0:\n",
    "        count = count+1\n",
    "    else:\n",
    "        count = 0\n",
    "    if count == 3:\n",
    "        print(True)\n",
    "print(False)"
   ]
  },
  {
   "cell_type": "code",
   "execution_count": null,
   "id": "ba26582b",
   "metadata": {},
   "outputs": [],
   "source": [
    "prices = [7,1,5,3,6,4]\n",
    "prices = [7,6,4,3,1]\n",
    "prices = [2,2,1,0,4]\n",
    "\n",
    "max_num = 0\n",
    "minimum = prices[0]\n",
    "for x in prices:\n",
    "    index = prices.index(x)\n",
    "    minimum = min(minimum,x)\n",
    "    if minimum < len(prices)-1: \n",
    "        arr = prices[index+1:]\n",
    "        maximum = max(arr)\n",
    "        if max_num < maximum-temp:\n",
    "            max_num = maximum-temp\n",
    "print(max_num)\n",
    "    "
   ]
  },
  {
   "cell_type": "markdown",
   "id": "109c4c67",
   "metadata": {},
   "source": [
    "# 1984. Minimum Difference Between Highest and Lowest of K Scores"
   ]
  },
  {
   "cell_type": "code",
   "execution_count": null,
   "id": "66a86fa1",
   "metadata": {},
   "outputs": [],
   "source": [
    "nums = [9]\n",
    "k = 1\n",
    "#nums = [87063,61094,44530,21297,95857,93551,9918]\n",
    "#k = 6\n",
    "#nums = [41900,69441,94407,37498,20299,10856,36221,2231,54526,79072,84309,76765,92282,13401,44698,17586,98455,47895,98889,65298,32271,23801,83153,12186,7453,79460,67209,54576,87785,47738,40750,31265,77990,93502,50364,75098,11712,80013,24193,35209,56300,85735,3590,24858,6780,50086,87549,7413,90444,12284,44970,39274,81201,43353,75808,14508,17389,10313,90055,43102,18659,20802,70315,48843,12273,78876,36638,17051,20478]\n",
    "#k = 5\n",
    "#nums = [24382,79784,9930,63713,49507,92917,12295,28077,63938,95126,84621,83487,18427,51410,16931,23715,41651,6453,72354,49213,9206,92533,86113,16984,51934,94327,53001,78738,47965,81659,1875,5012,58236,92701,39258,64897,39590,29032,62291,22592,55378,70484,79633,44398,16952,18830,14973,21740,57003,62307,7790,49153,6713,92891,82533,28810,13120,95521,40515,70824,89748,44804,72171,45064,82620,14253,2585,17842,2606,2775,36079,87227,44868,64448,34594,36214]\n",
    "#k = 72\n",
    "length = len(nums)\n",
    "print(length)\n",
    "\n",
    "nums.sort(reverse=True)\n",
    "sub = float(\"inf\")\n",
    "l,r=0,k-1\n",
    "while r<len(nums) :\n",
    "    sub = min(sub,nums[l]-nums[r])\n",
    "    l = l+1\n",
    "    r = r+1\n",
    "print(sub)\n",
    "\n",
    "    "
   ]
  },
  {
   "cell_type": "code",
   "execution_count": null,
   "id": "e9d0d0c0",
   "metadata": {},
   "outputs": [],
   "source": [
    "res = float(\"inf\")\n",
    "res"
   ]
  },
  {
   "cell_type": "markdown",
   "id": "4e1f21f5",
   "metadata": {},
   "source": [
    "# 561. Array Partition I\n"
   ]
  },
  {
   "cell_type": "code",
   "execution_count": null,
   "id": "561b3af0",
   "metadata": {},
   "outputs": [],
   "source": [
    "nums = [6,2,6,5,1,2]\n",
    "nums = [1,4,3,2]\n",
    "nums.sort()\n",
    "sum1 = 0\n",
    "i = 0\n",
    "while i < len(nums)-1:\n",
    "    sum1 = sum1+min(nums[i],nums[i+1])\n",
    "    i = i+2\n",
    "print(sum1)"
   ]
  },
  {
   "cell_type": "markdown",
   "id": "ea3e7637",
   "metadata": {},
   "source": [
    "# 1232. Check If It Is a Straight Line"
   ]
  },
  {
   "cell_type": "code",
   "execution_count": null,
   "id": "33b7b044",
   "metadata": {},
   "outputs": [],
   "source": [
    "coordinates = [[1,2],[2,3],[3,4],[4,5],[5,6],[6,7]]\n",
    "coordinates = [[1,1],[2,2],[3,4],[4,5],[5,6],[7,7]]\n",
    "coordinates = [[0,0],[0,1],[0,-1]]\n",
    "\n",
    "y2 = coordinates[1][1]\n",
    "y1 = coordinates[0][1]\n",
    "x2 = coordinates[1][0]\n",
    "x1 = coordinates[0][0]\n",
    "#slope = (y2-y1)/(x2-x1)\n",
    "slope\n",
    "for i in range(2,len(coordinates)):\n",
    "    y3 = coordinates[i][1]\n",
    "    #y3 = coordinates[i-1][1]\n",
    "    x3 = coordinates[i][0]\n",
    "    #x3 = coordinates[i-1][0]\n",
    "    if (y2-y1)*(x3-x2) != (y3-y2)*(x2-x1):\n",
    "        print(False)\n",
    "print(True)\n",
    "\n"
   ]
  },
  {
   "cell_type": "markdown",
   "id": "bff9647c",
   "metadata": {},
   "source": [
    "# 997. Find the Town Judge"
   ]
  },
  {
   "cell_type": "code",
   "execution_count": null,
   "id": "a7864135",
   "metadata": {},
   "outputs": [],
   "source": [
    "n = 2\n",
    "trust = [[1,2]]\n",
    "n = 3\n",
    "trust = [[1,3],[2,3]]\n",
    "n = 3\n",
    "trust = [[1,3],[2,3],[3,1]]\n",
    "n = 3\n",
    "trust = [[1,2],[2,3]]\n",
    "\n",
    "n = 4\n",
    "trust = [[1,3],[1,4],[2,3],[2,4],[4,3]]\n",
    "n = 1\n",
    "trust =[]\n",
    "people = dict()\n",
    "judge= dict()\n",
    "if n ==1 and not trust:\n",
    "    print(1)\n",
    "for t in trust:\n",
    "    people[t[0]] = people.get(t[0],0)+1\n",
    "    judge[t[1]] = judge.get(t[1],0)+1\n",
    "for i in range(1,n+1):\n",
    "    if i not in people and judge.get(i) == (n-1):\n",
    "        print(i)\n",
    "        break\n",
    "print(-1)\n",
    "print(people)\n",
    "print(judge)\n"
   ]
  },
  {
   "cell_type": "markdown",
   "id": "14a795b2",
   "metadata": {},
   "source": [
    "# 1534. Count Good Triplets"
   ]
  },
  {
   "cell_type": "code",
   "execution_count": null,
   "id": "671a8629",
   "metadata": {},
   "outputs": [],
   "source": [
    "arr = [3,0,1,1,9,7]\n",
    "a = 7\n",
    "b = 2\n",
    "c = 3\n",
    "stack = []\n",
    "for i in  range(len(arr)-2):\n",
    "    for j in range(i+1,len(arr)-1):\n",
    "        for k in range(j+1,len(arr)):\n",
    "            if abs(arr[i]-arr[j]) <=a and abs(arr[j]-arr[k]) <= b and abs(arr[i]-arr[k]) <=c:\n",
    "                stack.append((arr[i],arr[j],arr[k]))\n",
    "print(len(stack))"
   ]
  },
  {
   "cell_type": "markdown",
   "id": "4e6c315a",
   "metadata": {},
   "source": [
    "# 1995. Count Special Quadruplets"
   ]
  },
  {
   "cell_type": "code",
   "execution_count": null,
   "id": "b6e8de2b",
   "metadata": {},
   "outputs": [],
   "source": [
    "nums = [1,2,3,6]\n",
    "nums = [1,1,1,3,5]\n",
    "stack = []\n",
    "for i in range(len(nums)-3):\n",
    "    for j in range(i+1,len(nums)-2):\n",
    "        for k in range(j+1,len(nums)-1):\n",
    "            for l in range(k+1,len(nums)):\n",
    "                if nums[i]+nums[j]+nums[k] == nums[l]:\n",
    "                    stack.append((nums[i],nums[j],nums[k],nums[l]))\n",
    "print(stack)                    \n",
    "print(len(stack))"
   ]
  },
  {
   "cell_type": "markdown",
   "id": "37d9450c",
   "metadata": {},
   "source": [
    "# 1389. Create Target Array in the Given Order"
   ]
  },
  {
   "cell_type": "code",
   "execution_count": null,
   "id": "c1529b90",
   "metadata": {},
   "outputs": [],
   "source": [
    "nums = [0,1,2,3,4]\n",
    "index = [0,1,2,2,1]\n",
    "nums = [1,2,3,4,0]\n",
    "index = [0,1,2,3,0]\n",
    "nums = [1]\n",
    "index = [0]\n",
    "target = []\n",
    "for i in range(len(index)):\n",
    "    target.insert(index[i],nums[i])\n",
    "print(target)"
   ]
  },
  {
   "cell_type": "markdown",
   "id": "d7c227d4",
   "metadata": {},
   "source": [
    "# 2037. Minimum Number of Moves to Seat Everyone"
   ]
  },
  {
   "cell_type": "code",
   "execution_count": null,
   "id": "d2f82d5c",
   "metadata": {},
   "outputs": [],
   "source": [
    "seats = [3,1,5]\n",
    "students = [2,7,4]\n",
    "seats = [4,1,5,9]\n",
    "students = [1,3,2,6]\n",
    "seats = [2,2,6,6]\n",
    "students = [1,3,2,6]\n",
    "\n",
    "seats.sort()\n",
    "students.sort()\n",
    "sum1 = 0\n",
    "for i in range(len(students)):\n",
    "    sum1 = sum1+ abs(students[i]-seats[i])\n",
    "print(sum1)"
   ]
  },
  {
   "cell_type": "markdown",
   "id": "46804b51",
   "metadata": {},
   "source": [
    "# 2016. Maximum Difference Between Increasing Elements"
   ]
  },
  {
   "cell_type": "code",
   "execution_count": null,
   "id": "4e335954",
   "metadata": {},
   "outputs": [],
   "source": [
    "nums = [7,1,5,4]\n",
    "nums = [9,4,3,2]\n",
    "nums = [1,5,2,10]\n",
    "max1= -1\n",
    "for i in range(len(nums)-1):\n",
    "    for j in range(i+1,len(nums)):\n",
    "        if nums[j]>nums[i]:\n",
    "            max1 = max(max1,nums[j]-nums[i])\n",
    "print(max1)"
   ]
  },
  {
   "cell_type": "markdown",
   "id": "aeec1720",
   "metadata": {},
   "source": [
    "# 121. Best Time to Buy and Sell Stock"
   ]
  },
  {
   "cell_type": "code",
   "execution_count": null,
   "id": "9d6a5124",
   "metadata": {},
   "outputs": [],
   "source": [
    "prices = [7,1,5,3,6,4]\n",
    "#prices = [7,6,4,3,1]\n",
    "prices = [2,1,2,1,0,1,2]\n",
    "max1 = 0\n",
    "temp = 0\n",
    "l = 0\n",
    "r = 1\n",
    "while r < len(prices):\n",
    "    if prices[l]<=prices[r]:\n",
    "        if temp < prices[r]:\n",
    "            temp = prices[r]\n",
    "            max1 = max(max1,temp-prices[l])\n",
    "            r = r+1\n",
    "        else:\n",
    "            r = r+1\n",
    "    else:\n",
    "        l = r\n",
    "        r = r+1\n",
    "        temp = 0\n",
    "print(max1)\n",
    "\n",
    "\n",
    "max1 = 0\n",
    "for i in range(len(prices)-1):\n",
    "    for j in range(i+1,len(prices)):\n",
    "        if prices[j] > prices[i]:\n",
    "            max1 = max(max1,prices[j]-prices[i])\n",
    "#print(max1)"
   ]
  },
  {
   "cell_type": "markdown",
   "id": "4fc6ed3d",
   "metadata": {},
   "source": [
    "# 2099. Find Subsequence of Length K With the Largest Sum"
   ]
  },
  {
   "cell_type": "code",
   "execution_count": null,
   "id": "500aac46",
   "metadata": {},
   "outputs": [],
   "source": [
    "nums = [2,1,3,3]\n",
    "k = 2\n",
    "#nums = [-1,-2,3,4]\n",
    "#k = 3\n",
    "#nums = [3,4,3,3]\n",
    "#k = 2\n",
    "\n",
    "arr = nums.copy()\n",
    "arr.sort(reverse=True)\n",
    "arr = arr[:k]\n",
    "stack = []\n",
    "for x in nums:\n",
    "    if x in arr and arr.count(x) != stack.count(x):\n",
    "        stack.append(x)\n",
    "print(stack)"
   ]
  },
  {
   "cell_type": "markdown",
   "id": "cb3181c8",
   "metadata": {},
   "source": [
    "# 1005. Maximize Sum Of Array After K Negations"
   ]
  },
  {
   "cell_type": "code",
   "execution_count": null,
   "id": "7b00a2e0",
   "metadata": {},
   "outputs": [],
   "source": [
    "nums = [4,2,3]\n",
    "k = 1\n",
    "nums = [3,-1,0,2]\n",
    "k = 3\n",
    "#nums = [2,-3,-1,5,-4]\n",
    "#k = 2\n",
    "#nums = [-2,9,9,8,4]\n",
    "#k = 5\n",
    "#nums = [8,-7,-3,-9,1,9,-6,-9,3]\n",
    "#k = 8\n",
    "\n",
    "nums = [-4,-6,9,-2,2]\n",
    "nums = [-4,-2,-3]\n",
    "k=4\n",
    "nums.sort()\n",
    "k = 4\n",
    "print(nums)\n",
    "indx = 0\n",
    "while k > 0:\n",
    "    if nums[indx] < 0:\n",
    "        nums[indx]=-1*nums[indx]\n",
    "        k = k-1\n",
    "        if indx < len(nums)-1 and nums[indx+1] <= 0:\n",
    "            indx = indx+1\n",
    "        print(nums)\n",
    "    elif 0 in nums:\n",
    "        break\n",
    "    else:\n",
    "        nums.sort()\n",
    "        print(nums)\n",
    "        nums[0] = -1*nums[0]\n",
    "        k = k-1\n",
    "print(sum(nums))\n",
    "        \n",
    "    \n",
    "        \n"
   ]
  },
  {
   "cell_type": "markdown",
   "id": "f05a00ae",
   "metadata": {},
   "source": [
    "# 2078. Two Furthest Houses With Different Colors"
   ]
  },
  {
   "cell_type": "code",
   "execution_count": null,
   "id": "878bafa4",
   "metadata": {},
   "outputs": [],
   "source": [
    "colors = [1,1,1,6,1,1,1]\n",
    "colors = [1,8,3,8,3]\n",
    "colors = [0,1]\n",
    "l=0\n",
    "r = len(colors)-1\n",
    "max1 = 0\n",
    "while l < r:\n",
    "    if colors[l]!=colors[r]:\n",
    "        max1 = max(max1,r-l)\n",
    "        break\n",
    "    else:\n",
    "        r = r-1\n",
    "l=0\n",
    "r = len(colors)-1\n",
    "max2 = 0\n",
    "while l < r:\n",
    "    if colors[l]!=colors[r]:\n",
    "        max2 = max(max2,r-l)\n",
    "        break\n",
    "    else:\n",
    "        l=l+1\n",
    "print(max(max1,max2))\n",
    "    \n",
    "\n",
    "\n",
    "        "
   ]
  },
  {
   "cell_type": "markdown",
   "id": "0e4b5761",
   "metadata": {},
   "source": [
    "# 2073. Time Needed to Buy Tickets"
   ]
  },
  {
   "cell_type": "code",
   "execution_count": null,
   "id": "acdc0874",
   "metadata": {},
   "outputs": [],
   "source": [
    "tickets = [5,1,1,1]\n",
    "k = 0\n",
    "tickets = [2,3,2]\n",
    "k = 2\n",
    "count = 0\n",
    "while tickets[k]!=0:\n",
    "    for i in range(len(tickets)):\n",
    "        if tickets[i]!=0:\n",
    "            tickets[i]=tickets[i]-1\n",
    "            count=count+1\n",
    "        if tickets[k]==0:\n",
    "            break\n",
    "print(count)\n",
    "print(tickets)"
   ]
  },
  {
   "cell_type": "markdown",
   "id": "d090cf8d",
   "metadata": {},
   "source": [
    "# 1700. Number of Students Unable to Eat Lunch"
   ]
  },
  {
   "cell_type": "code",
   "execution_count": null,
   "id": "63a1c4f1",
   "metadata": {},
   "outputs": [],
   "source": [
    "students = [1,1,0,0]\n",
    "sandwiches = [0,1,0,1]\n",
    "students = [1,1,1,0,0,1]\n",
    "sandwiches = [1,0,0,0,1,1]\n",
    "\n",
    "i = 0\n",
    "j= 0\n",
    "while students:\n",
    "    if students[0]==sandwiches[0]:\n",
    "        students.pop(0)\n",
    "        sandwiches.pop(0)\n",
    "    else:\n",
    "        if (len(students)==students.count(1)) or (len(students)==students.count(0)):\n",
    "            break\n",
    "        temp = students[0]\n",
    "        students.pop(0)\n",
    "        students.append(temp)\n",
    "    j = j+1\n",
    "#print(students)\n",
    "print(len(students))\n",
    "        "
   ]
  },
  {
   "cell_type": "markdown",
   "id": "e755a1f6",
   "metadata": {},
   "source": [
    "# 766. Toeplitz Matrix"
   ]
  },
  {
   "cell_type": "code",
   "execution_count": null,
   "id": "22489829",
   "metadata": {},
   "outputs": [],
   "source": [
    "matrix = [[1,2,3,4],[5,1,2,3],[9,5,1,2]]\n",
    "for i in range(len(matrix)):\n",
    "    for j in range(len(matrix[0])):\n",
    "        if i == 0 or j == 0:\n",
    "            continue\n",
    "        else:\n",
    "            if matrix[i][j] != matrix[i-1][j-1]:\n",
    "                print(False)\n",
    "                break\n",
    "print(True)"
   ]
  },
  {
   "cell_type": "markdown",
   "id": "ce110952",
   "metadata": {},
   "source": [
    "# 1913. Maximum Product Difference Between Two Pairs"
   ]
  },
  {
   "cell_type": "code",
   "execution_count": null,
   "id": "e796c721",
   "metadata": {
    "scrolled": true
   },
   "outputs": [],
   "source": [
    "nums = [5,6,2,7,4]\n",
    "nums = [4,2,5,9,7,4,8]\n",
    "nums.sort()\n",
    "print(nums)\n",
    "(nums[-1]*nums[-2])-(nums[0]*nums[1])"
   ]
  },
  {
   "cell_type": "markdown",
   "id": "170f91d1",
   "metadata": {},
   "source": [
    "# 1708. Largest Subarray Length K"
   ]
  },
  {
   "cell_type": "code",
   "execution_count": null,
   "id": "f40d05b5",
   "metadata": {},
   "outputs": [],
   "source": [
    "nums = [1,4,5,2,3]\n",
    "k = 3\n",
    "nums = [1,4,5,2,3]\n",
    "k = 4\n",
    "nums = [1,4,5,2,3]\n",
    "k = 1\n",
    "max1 = 0\n",
    "for i in range(len(nums)-k+1):\n",
    "    #arr = nums[i:k+i]\n",
    "    if nums[i] > max1:\n",
    "        max1 = nums[i]\n",
    "        stack = nums[i:k+i]\n",
    "print(stack)"
   ]
  },
  {
   "cell_type": "markdown",
   "id": "4c3d4b70",
   "metadata": {},
   "source": [
    "# 1848. Minimum Distance to the Target Element"
   ]
  },
  {
   "cell_type": "code",
   "execution_count": null,
   "id": "17995fe3",
   "metadata": {},
   "outputs": [],
   "source": [
    "nums = [1,2,3,4,5]\n",
    "target = 5\n",
    "start = 3\n",
    "nums = [1]\n",
    "target = 1\n",
    "start = 0\n",
    "nums = [1,1,1,1,1,1,1,1,1,1]\n",
    "target = 1\n",
    "start = 0\n",
    "nums = [1,1,1,1,1,1,1,1,1,1]\n",
    "target = 1\n",
    "start = 9\n",
    "\n",
    "min1 = len(nums)\n",
    "for i in range(len(nums)):\n",
    "    if nums[i] == target:\n",
    "        min1 = min(abs(start-i),min1)\n",
    "print(min1)\n"
   ]
  },
  {
   "cell_type": "markdown",
   "id": "e7ac0995",
   "metadata": {},
   "source": [
    "# 1800. Maximum Ascending Subarray Sum"
   ]
  },
  {
   "cell_type": "code",
   "execution_count": null,
   "id": "d4bc1600",
   "metadata": {},
   "outputs": [],
   "source": [
    "nums = [10,20,30,5,10,50]\n",
    "#nums = [10,20,30,40,50]\n",
    "#nums = [12,17,15,13,10,11,12]\n",
    "#nums = [100,10,1]\n",
    "\n",
    "\n",
    "sum1 = nums[0]\n",
    "max1 = nums[0]\n",
    "for i in range(1,len(nums)):\n",
    "    if nums[i] > nums[i-1]:\n",
    "        sum1 = sum1+nums[i]\n",
    "        max1 = max(max1,sum1)\n",
    "    else:\n",
    "        sum1 = nums[i]\n",
    "print(max1)"
   ]
  },
  {
   "cell_type": "markdown",
   "id": "15a030b6",
   "metadata": {},
   "source": [
    "# 1403. Minimum Subsequence in Non-Increasing Order"
   ]
  },
  {
   "cell_type": "code",
   "execution_count": null,
   "id": "821be20f",
   "metadata": {},
   "outputs": [],
   "source": [
    "nums = [4,3,10,9,8]\n",
    "nums = [4,4,7,6,7]\n",
    "nums = [6]\n",
    "nums.sort(reverse=True)\n",
    "sum1 = 0\n",
    "for indx, x in enumerate(nums):\n",
    "    sum1 = sum1+x\n",
    "    if sum1 > sum(nums[indx+1:]):\n",
    "        print(nums[:indx+1])\n",
    "        break\n",
    "\n",
    "    "
   ]
  },
  {
   "cell_type": "markdown",
   "id": "0a33f690",
   "metadata": {},
   "source": [
    "# 1460. Make Two Arrays Equal by Reversing Sub-arrays"
   ]
  },
  {
   "cell_type": "code",
   "execution_count": null,
   "id": "71fccaa4",
   "metadata": {},
   "outputs": [],
   "source": [
    "target = [1,2,3,4]\n",
    "arr = [2,4,1,3]\n",
    "#target = [7]\n",
    "#arr = [7]\n",
    "#target = [3,7,9]\n",
    "#arr = [3,7,11]\n",
    "target = [937,396,309,316,278,305,937,563,385,816,333,523,874,47,281,984,431,692]\n",
    "arr = [937,385,816,937,309,523,281,278,316,396,984,431,47,333,692,874,563,305]\n",
    "\n",
    "for index, x in enumerate(target):\n",
    "    try:\n",
    "        indx =  arr.index(x,index)\n",
    "        #print(\"indx {}\".format(indx))\n",
    "        #print(\"index {}\".format(index))\n",
    "        arr.pop(indx)\n",
    "        #print(arr)\n",
    "        arr.insert(index,x)\n",
    "        #print(arr)\n",
    "        #print(arr)\n",
    "    except: \n",
    "        print(False)\n",
    "if target == arr:\n",
    "    print(True)\n",
    "else:\n",
    "    print(False)\n",
    "    "
   ]
  },
  {
   "cell_type": "code",
   "execution_count": null,
   "id": "67070a97",
   "metadata": {},
   "outputs": [],
   "source": [
    "arr = [0,1,2,3,4,5,6,7,8]\n",
    "arr = [1024,512,256,128,64,32,16,8,4,2,1]\n",
    "arr = [10000,10000]\n",
    "dict1 = dict()\n",
    "arr.sort()\n",
    "for x in arr:\n",
    "    dict1[x] = bin(x)[2:].count('1')\n",
    "dict2 = {k: v for k, v in sorted(dict1.items(), key=lambda item: item[1])}\n",
    "print(dict2)\n",
    "list1 =list(dict2.keys())\n",
    "\n",
    "print(list1)\n"
   ]
  },
  {
   "cell_type": "markdown",
   "id": "f845f627",
   "metadata": {},
   "source": [
    "# 1356. Sort Integers by The Number of 1 Bits"
   ]
  },
  {
   "cell_type": "code",
   "execution_count": null,
   "id": "9274b56b",
   "metadata": {},
   "outputs": [],
   "source": [
    "arr = [1024,512,256,128,64,32,16,8,4,2,1]\n",
    "arr = [10000,10000] \n",
    "\n",
    "from collections import defaultdict\n",
    "\n",
    "dict1 = defaultdict(list)\n",
    "arr.sort()\n",
    "for x in arr: \n",
    "    val = bin(x)[2:].count('1')\n",
    "    dict1[val].append(x)\n",
    "dict2 = {k: v for k, v in sorted(dict1.items(), key=lambda item: item[0])}\n",
    "#print(dict2)\n",
    "stack = [y for x in dict2 for y in dict2.get(x)]\n",
    "print(stack)"
   ]
  },
  {
   "cell_type": "markdown",
   "id": "b649fba4",
   "metadata": {},
   "source": [
    "# 643. Maximum Average Subarray I"
   ]
  },
  {
   "cell_type": "code",
   "execution_count": null,
   "id": "06ac2390",
   "metadata": {},
   "outputs": [],
   "source": [
    "nums = [1,12,-5,-6,50,3]\n",
    "k = 4\n",
    "nums = [5]\n",
    "k = 1\n",
    "nums = [1,0,1,4,2]\n",
    "k = 4\n",
    "\n",
    "sum1 = sum(nums[:k])\n",
    "max1 = sum1/k\n",
    "for i in range(1,len(nums)-k+1):\n",
    "    indx = i+k-1\n",
    "    sum1 = sum1-nums[i-1]+nums[indx]\n",
    "    max1 = max(max1,sum1/k)\n",
    "print(max1)\n",
    "\n",
    "#val = sorted(nums,key = lambda num:abs(num), reverse = True)\n",
    "#print(sum(val[:k])/k)\n",
    "\n",
    "\n"
   ]
  },
  {
   "cell_type": "markdown",
   "id": "ba9ad31f",
   "metadata": {},
   "source": [
    "# 1413. Minimum Value to Get Positive Step by Step Sum\n",
    "\n",
    "In this kind of problem find the minimum val after adding each element one by one"
   ]
  },
  {
   "cell_type": "code",
   "execution_count": null,
   "id": "d8bb6091",
   "metadata": {},
   "outputs": [],
   "source": [
    "nums = [-3,2,-3,4,2]\n",
    "nums = [1,2]\n",
    "nums = [1,-2,-3]\n",
    "\n",
    "minimum = float(\"inf\")\n",
    "sum1 = 0\n",
    "for x in nums:\n",
    "    sum1 = sum1+x\n",
    "    minimum = min(minimum,sum1)\n",
    "#print(minimum)\n",
    "if minimum < 0:\n",
    "    val = abs(minimum)+1\n",
    "    print(val)\n",
    "else:\n",
    "    print(1)"
   ]
  },
  {
   "cell_type": "markdown",
   "id": "8569b979",
   "metadata": {},
   "source": [
    "# 1441. Build an Array With Stack Operations"
   ]
  },
  {
   "cell_type": "code",
   "execution_count": null,
   "id": "f81a9be0",
   "metadata": {},
   "outputs": [],
   "source": [
    "target = [1,3]\n",
    "n = 3\n",
    "\n",
    "target = [1,2,3]\n",
    "n = 3 \n",
    "\n",
    "#target = [1,2]\n",
    "#n = 4\n",
    "\n",
    "j = 0\n",
    "stack = []\n",
    "for i in range(1,n+1):\n",
    "    if j < len(target) and i == target[j]:\n",
    "        stack.append(\"Push\")\n",
    "        if i == target[-1]:\n",
    "            break\n",
    "        j = j+1\n",
    "    else:\n",
    "        stack.append(\"Push\")\n",
    "        stack.append(\"Pop\")\n",
    "print(stack)\n",
    "        "
   ]
  },
  {
   "cell_type": "markdown",
   "id": "ddd32ca7",
   "metadata": {},
   "source": [
    "# 724. Find Pivot Index"
   ]
  },
  {
   "cell_type": "code",
   "execution_count": null,
   "id": "f7832d02",
   "metadata": {},
   "outputs": [],
   "source": [
    "nums = [1,7,3,6,5,6]\n",
    "#nums = [1,2,3]\n",
    "#nums = [2,1,-1]\n",
    "\n",
    "\n",
    "sum_left = 0\n",
    "sum_right = sum(nums[1:])\n",
    "\n",
    "if sum_right == 0:\n",
    "    print(0)\n",
    "\n",
    "\n",
    "    \n",
    "for i in range(1,len(nums)):\n",
    "    sum_left = nums[i-1]+sum_left\n",
    "    sum_right = sum_right - nums[i]\n",
    "    if sum_left == sum_right:\n",
    "        print(i)\n",
    "        break\n",
    "print(-1)"
   ]
  },
  {
   "cell_type": "markdown",
   "id": "b8c92a41",
   "metadata": {},
   "source": [
    "# 1827. Minimum Operations to Make the Array Increasing"
   ]
  },
  {
   "cell_type": "code",
   "execution_count": null,
   "id": "f88cfdc0",
   "metadata": {},
   "outputs": [],
   "source": [
    "nums = [1,1,1]\n",
    "\n",
    "count = 0\n",
    "for i in range(1,len(nums)):\n",
    "    if nums[i] <= nums[i-1]:\n",
    "        val = nums[i-1]-nums[i]\n",
    "        nums[i]=nums[i]+val+1\n",
    "        count = count+(val+1)\n",
    "print(count)\n",
    "print(nums)\n",
    "        \n"
   ]
  },
  {
   "cell_type": "code",
   "execution_count": null,
   "id": "483d71ff",
   "metadata": {},
   "outputs": [],
   "source": [
    "nums = [1,1,1]\n",
    "nums[0] = nums[0]+1\n",
    "nums\n"
   ]
  },
  {
   "cell_type": "markdown",
   "id": "c6d14f66",
   "metadata": {},
   "source": [
    "# 1886. Determine Whether Matrix Can Be Obtained By Rotation"
   ]
  },
  {
   "cell_type": "code",
   "execution_count": null,
   "id": "11710155",
   "metadata": {},
   "outputs": [],
   "source": [
    "mat = [[0,1],[1,0]]\n",
    "target = [[1,0],[0,1]]\n",
    "mat = [[0,1],[1,1]]\n",
    "target = [[1,0],[0,1]]\n",
    "mat = [[0,0,0],[0,1,0],[1,1,1]]\n",
    "target = [[1,1,1],[0,1,0],[0,0,0]]\n",
    "\n",
    "mat1 = []\n",
    "for i in range(4):\n",
    "    if mat1 == target:\n",
    "        print(True)\n",
    "        break\n",
    "    else:\n",
    "        mat1 = map(list,zip(*mat))\n",
    "        mat1 = list(mat1)[::-1]\n",
    "        mat = mat1\n",
    "print(False)\n",
    "        \n",
    "    \n",
    "\n",
    "    "
   ]
  },
  {
   "cell_type": "markdown",
   "id": "dd5a5cab",
   "metadata": {},
   "source": [
    "# 1893. Check if All the Integers in a Range Are Covered"
   ]
  },
  {
   "cell_type": "code",
   "execution_count": null,
   "id": "935a246e",
   "metadata": {},
   "outputs": [],
   "source": [
    "ranges = [[1,2],[3,4],[5,6]]\n",
    "left = 2\n",
    "right = 5\n",
    "#ranges = [[1,10],[10,20]]\n",
    "#left = 21\n",
    "#right = 21\n",
    "\n",
    "count = 0\n",
    "i = 0\n",
    "for x in range(left,right+1):\n",
    "    for start, end in ranges:\n",
    "        if x >=start and x <= end:\n",
    "            count = count +1\n",
    "            break\n",
    "    i= i+1\n",
    "    if count != i:\n",
    "        print(False)\n",
    "        break\n",
    "if count == right-left+1:\n",
    "    print(True)\n",
    "else:\n",
    "    print(False)"
   ]
  },
  {
   "cell_type": "code",
   "execution_count": null,
   "id": "181909c9",
   "metadata": {},
   "outputs": [],
   "source": [
    "nums = [1,2,10,5,7]\n",
    "nums = [2,3,1,2]\n",
    "nums = [2,3,1,2]\n",
    "for i in range(len(nums)):\n",
    "    count = 0\n",
    "    temp = nums[i]\n",
    "    nums.pop(i)\n",
    "    for j in range(1,len(nums)):\n",
    "        if nums[j]>nums[j-1]:\n",
    "            count = count+1\n",
    "    if count == len(nums)-1:\n",
    "        print((True))\n",
    "        break\n",
    "    nums.insert(i,temp)\n",
    "print(False)\n",
    "            \n",
    "    \n",
    "            \n",
    "            "
   ]
  },
  {
   "cell_type": "markdown",
   "id": "1740feec",
   "metadata": {},
   "source": [
    "# 2038. Remove Colored Pieces if Both Neighbors are the Same Color"
   ]
  },
  {
   "cell_type": "code",
   "execution_count": 5,
   "id": "1e342159",
   "metadata": {},
   "outputs": [
    {
     "name": "stdout",
     "output_type": "stream",
     "text": [
      "1\n",
      "0\n",
      "True\n"
     ]
    }
   ],
   "source": [
    "colors = \"AAABABBAAA\"\n",
    "colors = \"AA\"\n",
    "colors = \"ABBBBBBBAAA\"\n",
    "colors = \"AAABABB\"\n",
    "#colors = list(colors)\n",
    "colors\n",
    "i = 0\n",
    "j = 0\n",
    "sum_a = 0\n",
    "sum_b = 0\n",
    "while True:\n",
    "    a = colors.find('A',i)\n",
    "    b = colors.find('B',j)\n",
    "    if (a < b and a!=-1) or b == -1:\n",
    "        if b == -1:\n",
    "            b = len(colors)\n",
    "        if (b-a) > 2:\n",
    "            sum_a = sum_a+((b-a)-2)\n",
    "        i = b\n",
    "        j = b\n",
    "    else:\n",
    "        if a == -1:\n",
    "            a = len(colors)\n",
    "        if (a-b)>2:\n",
    "            sum_b = sum_b+((a-b)-2)\n",
    "        j = a\n",
    "        i = a\n",
    "    if j == len(colors) and i == len(colors):\n",
    "        break\n",
    "print(sum_a)\n",
    "print(sum_b)\n",
    "if sum_a > sum_b:\n",
    "    print(True)\n",
    "else:\n",
    "    print(False)\n",
    "        \n",
    "        \n",
    "        \n",
    "        \n",
    "        \n",
    "        \n",
    "        \n",
    "    \n",
    "    "
   ]
  },
  {
   "cell_type": "code",
   "execution_count": 8,
   "id": "bbd6fa71",
   "metadata": {},
   "outputs": [
    {
     "name": "stdout",
     "output_type": "stream",
     "text": [
      "6\n"
     ]
    }
   ],
   "source": [
    "nums = [\"777\",\"7\",\"77\",\"77\"]\n",
    "target = \"7777\"\n",
    "nums = [\"123\",\"4\",\"12\",\"34\"]\n",
    "target = \"1234\"\n",
    "nums = [\"1\",\"1\",\"1\"]\n",
    "target = \"11\"\n",
    "\n",
    "count = 0\n",
    "for i in range(len(nums)):\n",
    "    for j in range(len(nums)):\n",
    "        if i != j and nums[i]+nums[j]==target:\n",
    "            count = count+1\n",
    "print(count)\n",
    "            \n"
   ]
  },
  {
   "cell_type": "markdown",
   "id": "de6cf4b5",
   "metadata": {},
   "source": [
    "# 1894. Find the Student that Will Replace the Chalk"
   ]
  },
  {
   "cell_type": "code",
   "execution_count": 26,
   "id": "507dd2a0",
   "metadata": {},
   "outputs": [
    {
     "name": "stdout",
     "output_type": "stream",
     "text": [
      "0\n"
     ]
    }
   ],
   "source": [
    "chalk = [5,1,5]\n",
    "k = 22\n",
    "#chalk = [3,4,1,2]\n",
    "#k = 25\n",
    "#chalk = [22,25,39,3,45,45,12,17,32,9]\n",
    "#k = 835\n",
    "ans = k%sum(chalk)\n",
    "sum1 = 0\n",
    "for indx,x in enumerate(chalk):\n",
    "    sum1 = sum1+x\n",
    "    if sum1 > ans:\n",
    "        print(indx)\n",
    "        break\n",
    "\n"
   ]
  },
  {
   "cell_type": "code",
   "execution_count": 49,
   "id": "d492c620",
   "metadata": {},
   "outputs": [
    {
     "name": "stdout",
     "output_type": "stream",
     "text": [
      "0\n",
      "18\n",
      "3606449 0\n",
      "0\n",
      "17\n",
      "6 0\n",
      "0\n",
      "16\n",
      "5 0\n",
      "0\n",
      "15\n",
      "1 15\n",
      "0\n",
      "14\n",
      "7 14\n",
      "0\n",
      "13\n",
      "9 0\n",
      "0\n",
      "12\n",
      "452429 0\n",
      "0\n",
      "11\n",
      "8 11\n",
      "0\n",
      "10\n",
      "2697293 10\n",
      "0\n",
      "9\n",
      "4 9\n",
      "0\n",
      "8\n",
      "5474165 8\n",
      "0\n",
      "7\n",
      "753594 7\n",
      "0\n",
      "6\n",
      "6614512 6\n",
      "0\n",
      "5\n",
      "6 5\n",
      "0\n",
      "4\n",
      "9 4\n",
      "0\n",
      "3\n",
      "8514433 3\n",
      "0\n",
      "2\n",
      "9857582 2\n",
      "0\n",
      "1\n",
      "9580316 1\n",
      "0\n",
      "0\n",
      "7 0\n",
      "28702458\n",
      "18848377\n",
      "True\n"
     ]
    }
   ],
   "source": [
    "nums = [1,234,235,7]\n",
    "nums = [1,5,2]\n",
    "nums = [1,5,233,7]\n",
    "nums = [2,4,55,6,8]\n",
    "nums = [3606449,6,5,9,452429,7,9580316,9857582,8514433,9,6,6614512,753594,5474165,4,2697293,8,7,1]\n",
    "l = 0\n",
    "r = len(nums)-1\n",
    "player1 = 0\n",
    "player2 = 0\n",
    "\n",
    "def get_num(l,r):\n",
    "    sub = abs(nums[r]-nums[l])\n",
    "    if nums[l]<nums[r] :\n",
    "        if len(nums)>3:\n",
    "            sub_inner = abs(nums[r-1]-nums[l+1])\n",
    "            if sub < sub_inner:\n",
    "                if nums[r-1] > nums[l+1]:\n",
    "                    return(nums[l],l)\n",
    "                else:\n",
    "                    return(nums[r],r)\n",
    "            else:\n",
    "                return(nums[r],r)\n",
    "        else:\n",
    "            return(nums[r],r)\n",
    "    else:\n",
    "        if len(nums)>3:\n",
    "            sub_inner = abs(nums[r-1]-nums[l+1])\n",
    "            if sub < sub_inner:\n",
    "                if nums[r-1] > nums[l+1]:\n",
    "                    return(nums[l],l)\n",
    "                else:\n",
    "                    return(nums[r],r)\n",
    "            else:\n",
    "                return(nums[l],l)\n",
    "        else:\n",
    "            return(nums[l],l)\n",
    "    \n",
    "    \n",
    "length = len(nums)\n",
    "for i in range(length):\n",
    "    print(l)\n",
    "    print(r)\n",
    "    val,indx = get_num(l,r)\n",
    "    print(val,indx)\n",
    "    if i % 2 == 0:\n",
    "        player1 = player1+val\n",
    "        nums.pop(indx)\n",
    "    else:\n",
    "        player2 = player2+val\n",
    "        nums.pop(indx)\n",
    "    l = 0   \n",
    "    r = len(nums)-1\n",
    "        \n",
    "print(player1)      \n",
    "print(player2) \n",
    "if player1 > player2:\n",
    "    print(True)\n",
    "else:\n",
    "    print(False)\n",
    "    \n"
   ]
  },
  {
   "cell_type": "code",
   "execution_count": 28,
   "id": "17fdd691",
   "metadata": {},
   "outputs": [
    {
     "data": {
      "text/plain": [
       "2"
      ]
     },
     "execution_count": 28,
     "metadata": {},
     "output_type": "execute_result"
    }
   ],
   "source": [
    "len(nums)//2+1"
   ]
  },
  {
   "cell_type": "code",
   "execution_count": null,
   "id": "bcb64467",
   "metadata": {},
   "outputs": [],
   "source": []
  }
 ],
 "metadata": {
  "kernelspec": {
   "display_name": "Python 3 (ipykernel)",
   "language": "python",
   "name": "python3"
  },
  "language_info": {
   "codemirror_mode": {
    "name": "ipython",
    "version": 3
   },
   "file_extension": ".py",
   "mimetype": "text/x-python",
   "name": "python",
   "nbconvert_exporter": "python",
   "pygments_lexer": "ipython3",
   "version": "3.7.6"
  },
  "toc": {
   "base_numbering": 1,
   "nav_menu": {},
   "number_sections": true,
   "sideBar": true,
   "skip_h1_title": false,
   "title_cell": "Table of Contents",
   "title_sidebar": "Contents",
   "toc_cell": false,
   "toc_position": {},
   "toc_section_display": true,
   "toc_window_display": false
  },
  "varInspector": {
   "cols": {
    "lenName": 16,
    "lenType": 16,
    "lenVar": 40
   },
   "kernels_config": {
    "python": {
     "delete_cmd_postfix": "",
     "delete_cmd_prefix": "del ",
     "library": "var_list.py",
     "varRefreshCmd": "print(var_dic_list())"
    },
    "r": {
     "delete_cmd_postfix": ") ",
     "delete_cmd_prefix": "rm(",
     "library": "var_list.r",
     "varRefreshCmd": "cat(var_dic_list()) "
    }
   },
   "types_to_exclude": [
    "module",
    "function",
    "builtin_function_or_method",
    "instance",
    "_Feature"
   ],
   "window_display": false
  }
 },
 "nbformat": 4,
 "nbformat_minor": 5
}
