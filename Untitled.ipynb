{
 "cells": [
  {
   "cell_type": "code",
   "execution_count": null,
   "id": "cd11da84",
   "metadata": {},
   "outputs": [],
   "source": [
    "num = 1800\n",
    "num2 = num\n",
    "while num2%10 ==0:\n",
    "    num2 = num2/10\n",
    "num2 = int(num2)\n",
    "reversed1 = str(num2)[::-1]\n",
    "reversed2 = reversed1[::-1]\n",
    "if reversed2 == str(num) :\n",
    "    print('true')\n",
    "else:\n",
    "    print('false')"
   ]
  },
  {
   "cell_type": "code",
   "execution_count": null,
   "id": "352b420c",
   "metadata": {},
   "outputs": [],
   "source": [
    "words = [\"abc\",\"car\",\"ada\",\"racecar\",\"cool\"]\n",
    "\n",
    "for x in words:\n",
    "    reversed1 = x[::-1]\n",
    "    if x==reversed1:\n",
    "        print(x)\n",
    "        break"
   ]
  },
  {
   "cell_type": "code",
   "execution_count": null,
   "id": "8a79b0f1",
   "metadata": {},
   "outputs": [],
   "source": [
    "x = -123\n",
    "num2 = x\n",
    "if int(str(abs(x))[::-1])> math.pow(2,31):\n",
    "    return 0\n",
    "if x>0:\n",
    "    return int(str(x)[::-1])\n",
    "else:\n",
    "    x = abs(x)\n",
    "    return 0-int(str(x)[::-1])"
   ]
  },
  {
   "cell_type": "code",
   "execution_count": null,
   "id": "9e7440ce",
   "metadata": {},
   "outputs": [],
   "source": [
    "s = \"0P\"\n",
    "a=s.casefold().replace(\" \",\"\")\n",
    "y = ''\n",
    "for x in a:\n",
    "    if x.isalnum():\n",
    "           y = y+''.join(x)\n",
    "if y == y[::-1]:\n",
    "    print(\"true\")\n",
    "else:\n",
    "    print(\"false\")\n",
    "print(y)\n"
   ]
  },
  {
   "cell_type": "code",
   "execution_count": null,
   "id": "87810096",
   "metadata": {},
   "outputs": [],
   "source": [
    "rings = \"B0B6G0R6R0R6G9G0\"\n",
    "list1= dict()\n",
    "temp=''\n",
    "for x in rings:\n",
    "    if x.isnumeric():\n",
    "        if list1.get(x):\n",
    "            list2=[]\n",
    "            print(list1[x])\n",
    "            list2 = [y for y in list1[x]]\n",
    "            list1[x]=[list2,temp]\n",
    "        else:\n",
    "            list1[x]=temp\n",
    "    temp = x\n",
    "print(list1)\n",
    "#for y in rings:\n",
    "    "
   ]
  },
  {
   "cell_type": "code",
   "execution_count": null,
   "id": "620d7412",
   "metadata": {},
   "outputs": [],
   "source": [
    "car = {\n",
    "  \"brand\": \"Ford\",\n",
    "  \"model\": \"Mustang\",\n",
    "  \"year\": 1964\n",
    "}\n",
    "if car.get(\"color\"):\n",
    "    print(\"true\")\n",
    "else :\n",
    "    print(\"false\")\n",
    "x = car.get(\"color\")\n",
    "print(x)\n",
    "car[\"color\"]=\"White\"\n",
    "car[\"color\"]=[car[\"color\"],\"green\"]\n",
    "print(car)"
   ]
  },
  {
   "cell_type": "code",
   "execution_count": null,
   "id": "e875d26d",
   "metadata": {},
   "outputs": [],
   "source": [
    "y = [1,2,[3]]\n",
    "[x for x in y]"
   ]
  },
  {
   "cell_type": "code",
   "execution_count": null,
   "id": "41c7ff98",
   "metadata": {},
   "outputs": [],
   "source": [
    "rings = \"B0B6G0R6R0R6G9G0\"\n",
    "rods = dict()\n",
    "for i in range(0, len(rings), 2):\n",
    "    color, rod = rings[i:i+2]\n",
    "    rods[rod]=''\n",
    "    rods[rod]=(color)\n",
    "print( sum(len(colors) == 3 for colors in rods.values()))"
   ]
  },
  {
   "cell_type": "code",
   "execution_count": null,
   "id": "d9355c30",
   "metadata": {},
   "outputs": [],
   "source": [
    "count = 0\n",
    "for rod in '0123456789':\n",
    "    flag = []\n",
    "    for color in 'RGB':\n",
    "        flag.append(color + rod in rings)\n",
    "\n",
    "    # print(flag)\n",
    "    count += all(flag) \n",
    "print(count)"
   ]
  },
  {
   "cell_type": "code",
   "execution_count": null,
   "id": "82c090fc",
   "metadata": {},
   "outputs": [],
   "source": [
    "words1 = [\"leetcode\",\"is\",\"amazing\",\"as\",\"is\"]\n",
    "words2 = [\"amazing\",\"leetcode\",\"is\"]\n",
    "stack1=[]\n",
    "for x in words1:\n",
    "    count1=words1.count(x)\n",
    "    if x in words2:\n",
    "        count2=words2.count(x)\n",
    "    if count1==count2:\n",
    "        count1=\"\"\n",
    "        count2=\"\"\n",
    "        stack1.append(x)\n",
    "        \n",
    "print(stack1)\n",
    "        \n",
    "    \n",
    "\n"
   ]
  },
  {
   "cell_type": "code",
   "execution_count": null,
   "id": "14c04768",
   "metadata": {},
   "outputs": [],
   "source": [
    "haystack = \"\"\n",
    "needle = \"\"\n",
    "try:\n",
    "    print(haystack.index(needle))\n",
    "except ValueError:\n",
    "    print(-1)"
   ]
  },
  {
   "cell_type": "code",
   "execution_count": null,
   "id": "4f0540de",
   "metadata": {},
   "outputs": [],
   "source": [
    "import re\n",
    "txt = \"The rain is Spain\"\n",
    "x = re.findall(\"[a-m]\",txt)\n",
    "print(x)\n",
    "txt = \"hello planet\"\n",
    "x = re.findall(\"^hello\", txt)\n",
    "print(x)\n",
    "x = re.findall(\"he.*o\", txt)\n",
    "print(x)\n",
    "x = re.findall(\"he.+o\", txt)\n",
    "print(x)\n",
    "x = re.findall(\"he.?o\", txt)\n",
    "print(x)"
   ]
  },
  {
   "cell_type": "code",
   "execution_count": null,
   "id": "91e47411",
   "metadata": {},
   "outputs": [],
   "source": [
    "txt = \"The rain in Spain-9_1\"\n",
    "x = re.findall(r\"\\bain\", txt)\n",
    "print(x)\n",
    "x = re.findall(r\"ain\\b\", txt)\n",
    "print(x)"
   ]
  },
  {
   "cell_type": "code",
   "execution_count": null,
   "id": "b89db7e8",
   "metadata": {},
   "outputs": [],
   "source": [
    "x = re.findall(r\"\\Bain\", txt)\n",
    "print(x)"
   ]
  },
  {
   "cell_type": "code",
   "execution_count": null,
   "id": "37205ab4",
   "metadata": {},
   "outputs": [],
   "source": [
    "x = re.findall(\"\\d\", txt)\n",
    "print(x)"
   ]
  },
  {
   "cell_type": "code",
   "execution_count": null,
   "id": "b87dfff8",
   "metadata": {},
   "outputs": [],
   "source": [
    "x = re.findall(\"\\D\", txt)\n",
    "print(x)"
   ]
  },
  {
   "cell_type": "code",
   "execution_count": null,
   "id": "92aac539",
   "metadata": {},
   "outputs": [],
   "source": [
    "x = re.findall(\"\\s\", txt)\n",
    "print(x)"
   ]
  },
  {
   "cell_type": "code",
   "execution_count": null,
   "id": "fee5416d",
   "metadata": {},
   "outputs": [],
   "source": [
    "x = re.findall(\"\\S\", txt)\n",
    "print(x)"
   ]
  },
  {
   "cell_type": "code",
   "execution_count": null,
   "id": "28855c5b",
   "metadata": {},
   "outputs": [],
   "source": [
    "x = re.findall(\"\\w\", txt)\n",
    "print(x)"
   ]
  },
  {
   "cell_type": "code",
   "execution_count": null,
   "id": "8986062d",
   "metadata": {},
   "outputs": [],
   "source": [
    "x = re.findall(\"\\W\", txt)\n",
    "print(x)"
   ]
  },
  {
   "cell_type": "code",
   "execution_count": null,
   "id": "06fe9e0a",
   "metadata": {},
   "outputs": [],
   "source": [
    "x = re.findall(\"Spain-9_1\\Z\", txt)\n",
    "print(x)\n"
   ]
  },
  {
   "cell_type": "code",
   "execution_count": null,
   "id": "ae4dc29b",
   "metadata": {},
   "outputs": [],
   "source": [
    "txt = \"The rain in Spain\"\n",
    "x = re.search(r\"\\bS\\w+\", txt)\n",
    "print(x.span())"
   ]
  },
  {
   "cell_type": "code",
   "execution_count": null,
   "id": "eee41a84",
   "metadata": {},
   "outputs": [],
   "source": [
    "txt = \"The rain in Spain\"\n",
    "x = re.search(r\"\\bS\\w+\", txt)\n",
    "print(x.string)"
   ]
  },
  {
   "cell_type": "code",
   "execution_count": null,
   "id": "f5bb553d",
   "metadata": {},
   "outputs": [],
   "source": [
    "txt = \"The rain in Spain\"\n",
    "x = re.search(r\"\\bS\\w+\", txt)\n",
    "print(x.group())"
   ]
  },
  {
   "cell_type": "code",
   "execution_count": null,
   "id": "8cbcf1ab",
   "metadata": {},
   "outputs": [],
   "source": [
    "txt = \"abab\"\n",
    "x = bool(re.search(r\"^(\\w+)\\1+$\", txt))\n",
    "print(x)"
   ]
  },
  {
   "cell_type": "code",
   "execution_count": null,
   "id": "a37e651f",
   "metadata": {},
   "outputs": [],
   "source": [
    "s = \"ababab\"\n",
    "ss = (s + s)[1:-1]\n",
    "print(ss)\n",
    "print(s in ss)"
   ]
  },
  {
   "cell_type": "code",
   "execution_count": null,
   "id": "ad4c95b5",
   "metadata": {},
   "outputs": [],
   "source": [
    "n = len(s)\n",
    "print(n)\n",
    "print(n//2+1)\n",
    "for i in range(1, n//2 + 1):\n",
    "    print(i)\n",
    "    print(\"n%i {}\".format(n%i))\n",
    "    print(\"s[:i] {}\".format(s[:i]))\n",
    "    print(\"(n//i) {}\".format((n//i)))\n",
    "    print(\"s[:i] * (n//i) {}\".format(s[:i] * (n//i)))\n",
    "    if n%i == 0 and s[:i] * (n//i) == s:\n",
    "        print(\"inside\")\n",
    "        print(True)"
   ]
  },
  {
   "cell_type": "code",
   "execution_count": null,
   "id": "23fd348f",
   "metadata": {},
   "outputs": [],
   "source": [
    "n = len(s)\n",
    "for i in range(1, n):\n",
    "    if n % i == 0:\n",
    "        new_str = s[:i] * (n//i)\n",
    "        if new_str == s:\n",
    "            print(True)\n",
    "print(False)"
   ]
  },
  {
   "cell_type": "code",
   "execution_count": null,
   "id": "3ec74a40",
   "metadata": {},
   "outputs": [],
   "source": [
    " for i in range(1, len(s)//2+1):\n",
    "    if s[:i] * (len(s)//i) == s:\n",
    "        print(True)"
   ]
  },
  {
   "cell_type": "code",
   "execution_count": null,
   "id": "5b622a81",
   "metadata": {},
   "outputs": [],
   "source": [
    "a = \"abcd\"\n",
    "b = \"cdabcdab\"\n",
    "a = \"a\"\n",
    "b = \"aa\"\n",
    "print(len(b))\n",
    "print(len(a))\n",
    "print(len(b)//len(a))\n",
    "for i in range(1,len(b)//len(a)+2):\n",
    "    print(\"i {}\".format(i))\n",
    "    if b in (a*i):\n",
    "        print(i)\n",
    "    "
   ]
  },
  {
   "cell_type": "code",
   "execution_count": null,
   "id": "a7b057f2",
   "metadata": {},
   "outputs": [],
   "source": [
    "s = \"abbbbccccaaa\"\n",
    "z=''\n",
    "p=''\n",
    "for i in range(len(s)):\n",
    "    x = s[i]\n",
    "    for y in s[i:]:\n",
    "        if x>y:\n",
    "            x=y\n",
    "            \n",
    "    z = z+''.join(x)       \n",
    "print(z)        "
   ]
  },
  {
   "cell_type": "code",
   "execution_count": null,
   "id": "99240730",
   "metadata": {},
   "outputs": [],
   "source": [
    "s = \"Hello World\"\n",
    "len(s.split()[-1])"
   ]
  },
  {
   "cell_type": "code",
   "execution_count": null,
   "id": "91c4ed74",
   "metadata": {},
   "outputs": [],
   "source": [
    "a = \"11\"\n",
    "b = \"1\"\n",
    "print(int(a,2))\n",
    "print(int(b,2))\n",
    "print(int(a,2)+int(b,2))\n",
    "print(bin(int(a,2)+int(b,2))[2:])"
   ]
  },
  {
   "cell_type": "code",
   "execution_count": null,
   "id": "c5ae5340",
   "metadata": {},
   "outputs": [],
   "source": [
    "s = \"PAYPALISHIRING\"\n",
    "numRows = 3\n",
    "y = ''\n",
    "stack = dict()\n",
    "for x in s:\n",
    "    for i in (range(3)):\n",
    "        y = y+''.join"
   ]
  },
  {
   "cell_type": "code",
   "execution_count": null,
   "id": "9f168f54",
   "metadata": {},
   "outputs": [],
   "source": [
    "s = \"()\"\n",
    "stack = []\n",
    "count = 0\n",
    "for x in s:\n",
    "    if x == '(' and count > 0 :\n",
    "        stack.append(x)\n",
    "    if x == ')' and count >1 :\n",
    "        stack.append(x)\n",
    "    if x == ')':\n",
    "        count=count-1\n",
    "    else:\n",
    "        count = count+1\n",
    "print(\"\".join(stack))"
   ]
  },
  {
   "cell_type": "code",
   "execution_count": null,
   "id": "40e7f704",
   "metadata": {},
   "outputs": [],
   "source": [
    "s = \"leetcodeisacommunityforcoders\"\n",
    "stack='aeiou'\n",
    "y = ''\n",
    "for x in s:\n",
    "    if x not in stack:\n",
    "        y=y+''.join(x)\n",
    "print(y)"
   ]
  },
  {
   "cell_type": "code",
   "execution_count": null,
   "id": "db2d178d",
   "metadata": {},
   "outputs": [],
   "source": [
    "s = \"leetcodeisacommunityforcoders\"\n",
    "y=''\n",
    "print(y+x for x in s if x not in 'aeiou')\n",
    "    "
   ]
  },
  {
   "cell_type": "code",
   "execution_count": null,
   "id": "b6f8b378",
   "metadata": {},
   "outputs": [],
   "source": [
    "s = 'hello'\n",
    "s = list(s)\n",
    "list1=list('aeiou')\n",
    "i,j = 0,len(s)-1\n",
    "while i<j:\n",
    "    if s[i] not in list1:\n",
    "        i=i+1\n",
    "        continue\n",
    "    if s[j] not in list1:\n",
    "        j = j-1\n",
    "        continue\n",
    "    \n",
    "    s[i],s[j] = s[j],s[i]\n",
    "    i = i+1\n",
    "    j = j-1\n",
    "print(''.join(s))"
   ]
  },
  {
   "cell_type": "code",
   "execution_count": null,
   "id": "b5a482d6",
   "metadata": {},
   "outputs": [],
   "source": [
    "s = 'hello'\n",
    "s.replace('e','a')\n",
    "print(s.replace('e','a'))\n",
    "print(s)"
   ]
  },
  {
   "cell_type": "code",
   "execution_count": null,
   "id": "a6995abc",
   "metadata": {},
   "outputs": [],
   "source": [
    "keyboard = \"abcdefghijklmnopqrstuvwxyz\"\n",
    "word = \"word\"\n",
    "keyboard = \"pqrstuvwxyzabcdefghijklmno\"\n",
    "word = \"leetcode\"\n",
    "indx1 = 0\n",
    "sum1 = 0\n",
    "for x in word:\n",
    "    indx = keyboard.index(x)\n",
    "    sum1 = sum1+abs(indx-indx1)\n",
    "    indx1 = indx\n",
    "print(sum1)"
   ]
  },
  {
   "cell_type": "code",
   "execution_count": null,
   "id": "feb846a0",
   "metadata": {},
   "outputs": [],
   "source": [
    "words = [\"hello\",\"world\",\"leetcode\"]\n",
    "chars = \"welldonehoneyr\"\n",
    "\n",
    "sum1=0\n",
    "for x in  words:\n",
    "    chars1 = list(chars)\n",
    "    flag = 0\n",
    "    for c in x:\n",
    "        if c in chars1:\n",
    "            chars1.remove(c)\n",
    "        else:\n",
    "            flag = 1\n",
    "    if flag == 0:\n",
    "        sum1=sum1+int(len(x))\n",
    "print(sum1)"
   ]
  },
  {
   "cell_type": "code",
   "execution_count": null,
   "id": "a26ce7f0",
   "metadata": {},
   "outputs": [],
   "source": [
    "\n",
    "chars = list(\"worlld\")\n",
    "chars.remove('l')\n",
    "print(chars)"
   ]
  },
  {
   "cell_type": "code",
   "execution_count": null,
   "id": "6a7ab12f",
   "metadata": {},
   "outputs": [],
   "source": [
    "str1 = \"ABCABC\"\n",
    "str2 = \"AB\"\n",
    "\n",
    "if str2 in str1:\n",
    "    print(str2)\n",
    "for i in range(len(str2)):\n",
    "    indx=-1*i\n",
    "    if str2[:]"
   ]
  },
  {
   "cell_type": "code",
   "execution_count": null,
   "id": "b00b230c",
   "metadata": {},
   "outputs": [],
   "source": [
    "str1 = \"ABCABC\"\n",
    "str2 = \"ABC\"\n",
    "str2[:-1]\n",
    "if str2 in str1:\n",
    "    print(str2)"
   ]
  },
  {
   "cell_type": "code",
   "execution_count": null,
   "id": "0fbb3851",
   "metadata": {},
   "outputs": [],
   "source": [
    "columnNumber = 26\n",
    "y =chr(64+columnNumber)\n",
    "print(y)"
   ]
  },
  {
   "cell_type": "code",
   "execution_count": null,
   "id": "ad950b03",
   "metadata": {},
   "outputs": [],
   "source": [
    "pow(2,31)-1"
   ]
  },
  {
   "cell_type": "code",
   "execution_count": null,
   "id": "c4946448",
   "metadata": {},
   "outputs": [],
   "source": [
    "n = 701\n",
    "s = ''\n",
    "while n > 0:\n",
    "    remainder = n%26\n",
    "    print('n {}'.format(n))\n",
    "    print(\"remainder {}\".format(remainder))\n",
    "    if remainder == 0: remainder = 26\n",
    "    s = chr(64+remainder)+s\n",
    "    n = (n-remainder)//26\n",
    "    print(s)\n",
    "print(s)"
   ]
  },
  {
   "cell_type": "code",
   "execution_count": null,
   "id": "71c25699",
   "metadata": {},
   "outputs": [],
   "source": [
    "columnTitle = \"ZY\"\n",
    "length = len(columnTitle)\n",
    "number = (length-1)*26\n",
    "print(number)\n",
    "x,y = divmod(ord(columnTitle[-1]),65)\n",
    "print(x)\n",
    "print(y)\n",
    "print(x+y+number)"
   ]
  },
  {
   "cell_type": "code",
   "execution_count": null,
   "id": "1a06b1e2",
   "metadata": {},
   "outputs": [],
   "source": [
    "columnTitle = \"AAA\"\n",
    "length = len(columnTitle)\n",
    "number =0\n",
    "for z in columnTitle:\n",
    "    x,y = divmod(ord(z),65)\n",
    "    if length < 2:\n",
    "        number = number +(x+y)\n",
    "    else:\n",
    "        length = length -1\n",
    "        number = number+pow(26,length)*(x+y)               \n",
    "print(number)"
   ]
  },
  {
   "cell_type": "code",
   "execution_count": null,
   "id": "772daaa5",
   "metadata": {},
   "outputs": [],
   "source": [
    "wordsDict = [\"practice\", \"makes\", \"perfect\", \"coding\", \"makes\"]\n",
    "word1 = \"coding\"\n",
    "word2 = \"practice\" \n",
    "word2 = \"makes\""
   ]
  },
  {
   "cell_type": "code",
   "execution_count": null,
   "id": "aa48b18f",
   "metadata": {},
   "outputs": [],
   "source": [
    "wordsDict.index(word2)\n",
    "wordsDict.index(word1)\n",
    "wordsDict.index(word3)\n",
    "wordsDict.count(word3)"
   ]
  },
  {
   "cell_type": "code",
   "execution_count": null,
   "id": "68540b98",
   "metadata": {},
   "outputs": [],
   "source": [
    "indx = 0\n",
    "list1 = []\n",
    "list2 = []\n",
    "for i in range(wordsDict.count(word3)):\n",
    "    indx=wordsDict.index(word3,indx)\n",
    "    list1.append(indx)\n",
    "    indx=indx+1\n",
    "indx = 0   \n",
    "for i in range(wordsDict.count(word2)):\n",
    "    indx=wordsDict.index(word2,indx)\n",
    "    list2.append(indx)\n",
    "    indx=indx+1\n",
    "temp = 0\n",
    "print(min([abs(x-y) for x in list1 for y in list2]))"
   ]
  },
  {
   "cell_type": "code",
   "execution_count": null,
   "id": "1a4f95fd",
   "metadata": {},
   "outputs": [],
   "source": [
    "from collections import defaultdict\n",
    "d = defaultdict(list)\n",
    "for index, value in enumerate(wordsDict):\n",
    "     if value == word1 or value == word2:\n",
    "            d[value].append(index)\n",
    "\n",
    "print(d)\n",
    "distance=[]\n",
    "print(d[word1])\n",
    "print(d[word2])\n",
    "for i in d[word1]:\n",
    "    for j in d[word2]:\n",
    "        distance.append(abs(i-j))\n",
    "print(min(distance))\n"
   ]
  },
  {
   "cell_type": "code",
   "execution_count": null,
   "id": "8d9a9195",
   "metadata": {},
   "outputs": [],
   "source": [
    "pattern = \"abba\"\n",
    "s = \"dog dog dog dog\"\n",
    "pattern=\"jquery\"\n",
    "s=\"jquery\"\n",
    "list1=list(s.split())\n",
    "pat = dict()\n",
    "if(len(pattern)==len(list1)):\n",
    "    for i in range(len(list1)):\n",
    "        if pattern[i] not in pat.keys() and list1[i] not in pat.values():\n",
    "            pat[pattern[i]]=list1[i] \n",
    "    list2 = []\n",
    "    for x in pattern:\n",
    "        list2.append(pat.get(x))\n",
    "    print(pat)\n",
    "    print(list2)\n",
    "    if list1==list2:\n",
    "        print(True)\n",
    "    else:\n",
    "        print(False)\n",
    "else:\n",
    "    print(False)"
   ]
  },
  {
   "cell_type": "code",
   "execution_count": null,
   "id": "9aa7600d",
   "metadata": {},
   "outputs": [],
   "source": [
    "s.replace('dog','a')"
   ]
  },
  {
   "cell_type": "code",
   "execution_count": null,
   "id": "3d9399a6",
   "metadata": {},
   "outputs": [],
   "source": [
    "s = [\"h\",\"e\",\"l\",\"l\",\"o\"]\n",
    "for i in range((len(s)//2)):\n",
    "    temp = s[i]\n",
    "    s[i]=s[-1*i-1]\n",
    "    s[-1*i-1]=temp\n",
    "print(s)"
   ]
  },
  {
   "cell_type": "code",
   "execution_count": null,
   "id": "be999318",
   "metadata": {},
   "outputs": [],
   "source": [
    "s = \"abcdefg\"\n",
    "k = 2\n",
    "indx = 0\n",
    "y = s[indx:k*2]\n",
    "indx= k*2+1\n",
    "print(y)\n",
    "print(y[:k][::-1]+y[k:])\n",
    "y=''\n",
    "y = s[indx:k*2]\n",
    "print(y)\n",
    "s[::-1]\n",
    "    "
   ]
  },
  {
   "cell_type": "code",
   "execution_count": null,
   "id": "0e4603ab",
   "metadata": {},
   "outputs": [],
   "source": [
    "s = \"abcdefg\"\n",
    "k = 3\n",
    "list1 = []\n",
    "i = 0\n",
    "p = 0\n",
    "while i <len(s):\n",
    "    p = p+k*2\n",
    "    list1.append(s[i:p])\n",
    "    i = p\n",
    "temp = ''\n",
    "for x in list1:\n",
    "    y = x[:k][::-1]+x[k:]\n",
    "    y = temp+''.join(y)\n",
    "    temp = y\n",
    "print(y)\n",
    "#for x in range(len(s)):\n",
    "    "
   ]
  },
  {
   "cell_type": "code",
   "execution_count": null,
   "id": "c4f2ed64",
   "metadata": {},
   "outputs": [],
   "source": [
    "s = \"leEeetcode\"\n",
    "s='abBAcC'\n",
    "s=\"Pp\"\n",
    "s =\"mC\"\n",
    "list1 = []\n",
    "list1[:0]=s\n",
    "stack = []\n",
    "upper=''\n",
    "temp = ''\n",
    "for indx,x in enumerate(list1):\n",
    "    if x.isupper():\n",
    "        if not stack:\n",
    "            stack.append(x)\n",
    "            pass\n",
    "        else:\n",
    "            temp = stack.pop()\n",
    "        if temp.upper()!= x:\n",
    "            stack.append(temp)\n",
    "            upper=x\n",
    "            \n",
    "    else:\n",
    "        stack.append(x)\n",
    "        if upper != x.upper():\n",
    "            stack.append(x)\n",
    "        upper = ''\n",
    "print(stack)"
   ]
  },
  {
   "cell_type": "code",
   "execution_count": null,
   "id": "bcaedee9",
   "metadata": {},
   "outputs": [],
   "source": [
    "s =\"mMCDMm\"\n",
    "##s=\"mC\"\n",
    "\n",
    "##s=\"kkdsFuqUfSDKK\"\n",
    "list1 = []\n",
    "list1[:0]=s\n",
    "stack = []\n",
    "temp = ''\n",
    "for indx,x in enumerate(list1):\n",
    "    if not stack:\n",
    "        stack.append(x)\n",
    "    else:\n",
    "        temp = stack.pop()\n",
    "        if (temp.islower() and x.isupper() and temp.upper()== x) or(temp.isupper() and x.islower() and temp==x.upper()):\n",
    "            pass\n",
    "        else:\n",
    "            stack.append(temp)\n",
    "            stack.append(x)            \n",
    "print(''.join(stack))"
   ]
  },
  {
   "cell_type": "code",
   "execution_count": null,
   "id": "79fc738e",
   "metadata": {},
   "outputs": [],
   "source": [
    "words1 = [\"leetcode\",\"is\",\"amazing\",\"as\",\"is\"]\n",
    "words2 = [\"amazing\",\"leetcode\",\"is\"]\n",
    "count = 0\n",
    "for x in words1:\n",
    "    if x in words2:\n",
    "        if words1.count(x) == 1 and words2.count(x) == 1:\n",
    "            count = count+1\n",
    "print(count)"
   ]
  },
  {
   "cell_type": "code",
   "execution_count": null,
   "id": "1c76a922",
   "metadata": {},
   "outputs": [],
   "source": [
    "arr = [\"d\",\"b\",\"c\",\"b\",\"c\",\"a\"]\n",
    "k = 2\n",
    "arr = [\"aaa\",\"aa\",\"a\"]\n",
    "k = 1\n",
    "arr = [\"a\",\"b\",\"a\"]\n",
    "k = 3\n",
    "count = 0\n",
    "for x in arr:\n",
    "    if arr.count(x) == 1:\n",
    "        count = count+1\n",
    "        \n",
    "    if count == k:\n",
    "        print(x)\n",
    "        break;\n",
    "print(\"\")"
   ]
  },
  {
   "cell_type": "code",
   "execution_count": null,
   "id": "238a9364",
   "metadata": {},
   "outputs": [],
   "source": [
    "ransomNote = \"a\"\n",
    "magazine = \"b\"\n",
    "ransomNote = \"aa\"\n",
    "magazine = \"ab\"\n",
    "ransomNote = \"aa\"\n",
    "magazine = \"aab\"\n",
    "flag = 0\n",
    "for x in ransomNote:\n",
    "    if x in ransomNote and magazine.count(x)>=ransomNote.count(x):\n",
    "        pass\n",
    "    else:\n",
    "        flag = 1\n",
    "        print(False)\n",
    "if flag == 0:\n",
    "    print(True)"
   ]
  },
  {
   "cell_type": "code",
   "execution_count": null,
   "id": "0964fcd5",
   "metadata": {},
   "outputs": [],
   "source": [
    "s = \"abcd\"\n",
    "t = \"abcde\"\n",
    "\n",
    "for x in t:\n",
    "    if x not in s and t.count(x)>s.count(x):\n",
    "        print(x)"
   ]
  },
  {
   "cell_type": "code",
   "execution_count": null,
   "id": "faa9b349",
   "metadata": {},
   "outputs": [],
   "source": [
    "nums = [2,2,1]\n",
    "nums = [4,1,2,1,2]\n",
    "nums = [1]\n",
    "for x in nums:\n",
    "    if nums.count(x)==1:\n",
    "        print(x)\n",
    "print(\"\")"
   ]
  },
  {
   "cell_type": "code",
   "execution_count": null,
   "id": "d85e24b2",
   "metadata": {},
   "outputs": [],
   "source": [
    "s = \"abca\"\n",
    "flag = 0\n",
    "if s == s[::-1]:\n",
    "    print(True)\n",
    "else:\n",
    "    list1 = list(s)\n",
    "    list2 = list(s)\n",
    "    for indx , x in enumerate(list1):\n",
    "        list2.pop(indx)\n",
    "        if ''.join(list2) == ''.join(list2[::-1]):\n",
    "            print(True)\n",
    "            break;\n",
    "        else:\n",
    "            list2 = list(s)"
   ]
  },
  {
   "cell_type": "code",
   "execution_count": null,
   "id": "5ae32124",
   "metadata": {},
   "outputs": [],
   "source": [
    "s = \"abca\"\n",
    "list1=list(s)\n",
    "list1\n",
    "list1.remove('a')\n",
    "list1.remove('b')\n",
    "list1[::-1]"
   ]
  },
  {
   "cell_type": "code",
   "execution_count": null,
   "id": "2e1afba5",
   "metadata": {},
   "outputs": [],
   "source": [
    "s = \"abdefba\"\n",
    "if s == s[::-1]:\n",
    "    print(True)\n",
    "else:\n",
    "    list1 = list(s)\n",
    "    for i in range(len(s)):\n",
    "        print(\"list1[i] {}\".format(list1[i]))\n",
    "        print(\"list1[(-1*i)-1] {}\".format(list1[(-1*i)-1]))\n",
    "        if list1[i] != list1[(-1*i)-1]:\n",
    "            temp = list(s)\n",
    "            print(\"temp {}\".format(temp))\n",
    "            list1.pop(i)\n",
    "            print(\"list1 {}\".format(''.join(list1)))\n",
    "            print(\"list1[::-1] {}\".format(''.join(list1[::-1])))\n",
    "            if ''.join(list1) == ''.join(list1[::-1]):\n",
    "                print(\"inside if\")\n",
    "                print(True)\n",
    "                break\n",
    "            else:\n",
    "                list1 = temp\n",
    "                print(\"temp {}\".format(temp))\n",
    "                print(\"list1 {}\".format(list1))\n",
    "                list1.pop((-1*i)-1)\n",
    "                print(\"list1 {}\".format(list1))\n",
    "                if ''.join(list1)==''.join(list1[::-1]):\n",
    "                    print(True)\n",
    "                    break\n",
    "                else:\n",
    "                    print(False)\n",
    "                    break\n",
    "                \n",
    "            \n",
    "        "
   ]
  },
  {
   "cell_type": "code",
   "execution_count": null,
   "id": "55729951",
   "metadata": {},
   "outputs": [],
   "source": [
    "s = \"abdefba\"\n",
    "if s == s[::-1]:\n",
    "    print(True)\n",
    "else:\n",
    "    list1 = list(s)\n",
    "    for i in range(len(s)):\n",
    "        if list1[i] != list1[(-1*i)-1]:\n",
    "            temp = list(s)\n",
    "            list1.pop(i)\n",
    "            if ''.join(list1) == ''.join(list1[::-1]):\n",
    "                print(True)\n",
    "                break\n",
    "            else:\n",
    "                list1 = temp\n",
    "                list1.pop((-1*i)-1)\n",
    "                if ''.join(list1)==''.join(list1[::-1]):\n",
    "                    print(True)\n",
    "                    break\n",
    "                else:\n",
    "                    print(False)\n",
    "                    break\n",
    "                "
   ]
  },
  {
   "cell_type": "code",
   "execution_count": null,
   "id": "0a1729a7",
   "metadata": {},
   "outputs": [],
   "source": [
    "s = \"abcbca\"\n",
    "list1= list(s)\n",
    "list1[-1]\n",
    "list1.pop(-2)\n",
    "list1"
   ]
  },
  {
   "cell_type": "code",
   "execution_count": null,
   "id": "4c5cb2ce",
   "metadata": {},
   "outputs": [],
   "source": [
    "command = \"G()(al)\"\n",
    "list1 = []\n",
    "i =0\n",
    "while i < len(command):\n",
    "    if command[i] =='G':\n",
    "        list1.append('G')\n",
    "        i = i+1\n",
    "    elif command[i] == '(' and command[i+1] ==')':\n",
    "        list1.append('o')\n",
    "        i = i+2\n",
    "    elif command[i] == '(' and command[i+1] =='a':\n",
    "        list1.append('al')\n",
    "        i = i+4\n",
    "print(''.join(list1))"
   ]
  },
  {
   "cell_type": "code",
   "execution_count": null,
   "id": "88c29d0f",
   "metadata": {},
   "outputs": [],
   "source": [
    "word = \"abcdefd\"\n",
    "ch = \"z\"\n",
    "\n",
    "indx = word.find(ch)\n",
    "word[:indx+1][::-1]+word[indx+1:]"
   ]
  },
  {
   "cell_type": "code",
   "execution_count": null,
   "id": "02371720",
   "metadata": {},
   "outputs": [],
   "source": [
    "s = \"1 box has 3 blue 2 red 6 green and 12 yellow marbles\"\n",
    "list1=s.split()\n",
    "temp = 0\n",
    "for x in list1:\n",
    "    if x.isnumeric():\n",
    "        if  int(x)>temp :\n",
    "            temp = int(x)\n",
    "        else:\n",
    "            print(False)\n",
    "            break;\n",
    "print(True)"
   ]
  },
  {
   "cell_type": "code",
   "execution_count": null,
   "id": "37521fd6",
   "metadata": {},
   "outputs": [],
   "source": [
    "sentence = \"cat! and  dog\"\n",
    "list1 = sentence.split()\n",
    "punctuation = ['!', '.', ',']\n",
    "count=0\n",
    "print(list1)\n",
    "for x in list1:\n",
    "    print(x)\n",
    "    if x.isnumeric() or x.isalpha() or x.isalnum():\n",
    "        print(\"inside\")\n",
    "        count = count+1\n",
    "    #elif x.find('!')> 0 and x.count('!')==1 and x.endswith('!'):\n",
    "       # print(\"inside   2\")\n",
    "        #count=count+1    \n",
    "    elif ((x.count('-')==1) and not (x.startswith('-') or x.endswith('-'))) and (x.find('!')> 0 and x.count('!')==1 and x.endswith('!')):\n",
    "        print(\"inside 1\")\n",
    "        count=count+1\n",
    "    \n",
    "print(count)"
   ]
  },
  {
   "cell_type": "code",
   "execution_count": null,
   "id": "7989e180",
   "metadata": {},
   "outputs": [],
   "source": [
    "or x.find('.')>0 or x.find(',')>0) and (x.endswith('!') or x.endswith('.') or x.endswith(',')) and (x.count('!')==1 or x.count('.')==1 or x.count(',')==1):\n",
    "        print(\"inside   2\")"
   ]
  },
  {
   "cell_type": "code",
   "execution_count": null,
   "id": "fd5de813",
   "metadata": {},
   "outputs": [],
   "source": [
    "s = 'ab'\n",
    "print(s.find('-'))\n",
    "if s.find('-'):\n",
    "    print(\"inside\")"
   ]
  },
  {
   "cell_type": "code",
   "execution_count": null,
   "id": "a242148f",
   "metadata": {},
   "outputs": [],
   "source": [
    "list1 = ['a-b','abd']\n",
    "for x in list1:\n",
    "    print(x)\n",
    "    if x.isalnum() or x.isnumeric() or x.isalpha():\n",
    "        print(True)"
   ]
  },
  {
   "cell_type": "code",
   "execution_count": null,
   "id": "38df5876",
   "metadata": {},
   "outputs": [],
   "source": [
    "words = [\"bella\",\"label\",\"roller\"]\n",
    "from collections import Counter\n",
    "c = collections.Counter(words[0])\n",
    "for i in range(1,len(words)):\n",
    "    c = c & collections.Counter(words[i])\n",
    "print(c)\n",
    "print(list(c.elements()))      "
   ]
  },
  {
   "cell_type": "code",
   "execution_count": null,
   "id": "a0b714ab",
   "metadata": {},
   "outputs": [],
   "source": [
    "import re\n",
    "text = \"thestoryofleetcodeandme\"\n",
    "words = [\"story\",\"fleet\",\"leetcode\"]\n",
    "text = \"ababa\"\n",
    "words = [\"aba\",\"ab\"]\n",
    "list1=[]\n",
    "list2=[]\n",
    "for x in words:\n",
    "    list2=[]\n",
    "    for i in range(len(text)):\n",
    "        y=re.search(x,text[i:],2)\n",
    "        if y is not None:\n",
    "            print(x)\n",
    "            print(y.start())\n",
    "            print(y.end())\n",
    "    #list2.append(y.start())\n",
    "    #list2.append(y.end()-1)\n",
    "    #list1.append(list2)\n",
    "print(list1)"
   ]
  },
  {
   "cell_type": "code",
   "execution_count": null,
   "id": "4aa745dc",
   "metadata": {},
   "outputs": [],
   "source": [
    "text = \"ababa\"\n",
    "words = [\"aba\",\"ab\"]\n",
    "list2=[]\n",
    "for x in words:\n",
    "    i=0\n",
    "    length = len(x)\n",
    "    while i < len(text):\n",
    "        list1 = []\n",
    "        y = text.find(x,i)\n",
    "        if y is -1:\n",
    "            i = i+1\n",
    "        else:\n",
    "            list1.append(y)\n",
    "            list1.append(y+length)\n",
    "            i = y+1\n",
    "        if not list1:\n",
    "            pass\n",
    "        else:\n",
    "            list2.append(list1)\n",
    "print(sorted(list2))"
   ]
  },
  {
   "cell_type": "code",
   "execution_count": null,
   "id": "5ddc37e5",
   "metadata": {},
   "outputs": [],
   "source": [
    "text = \"ababa\"\n",
    "y = text.find(\"aba\",0)\n",
    "y"
   ]
  },
  {
   "cell_type": "code",
   "execution_count": null,
   "id": "d1e7e2be",
   "metadata": {},
   "outputs": [],
   "source": [
    "list1 = []\n",
    "list1.append(0)\n",
    "list1"
   ]
  },
  {
   "cell_type": "code",
   "execution_count": null,
   "id": "d23605a0",
   "metadata": {},
   "outputs": [],
   "source": [
    "strs = [\"cba\",\"daf\",\"ghi\"]\n",
    "strs = [\"a\",\"b\"]\n",
    "strs = [\"zyx\",\"wvu\",\"tsr\"]\n",
    "list1=[]\n",
    "for i in range(len(strs[0])):\n",
    "    temp = strs[0][i]\n",
    "    for x in strs[1:]:\n",
    "        if temp>x[i]:\n",
    "            list1.append(i)\n",
    "            break\n",
    "        else :\n",
    "            temp = x[i]\n",
    "print(len(list1))        "
   ]
  },
  {
   "cell_type": "code",
   "execution_count": null,
   "id": "1d442be9",
   "metadata": {},
   "outputs": [],
   "source": [
    "strs = [\"cba\",\"daf\",\"ghi\"]\n",
    "strs[1:]"
   ]
  },
  {
   "cell_type": "code",
   "execution_count": null,
   "id": "b6b393f4",
   "metadata": {},
   "outputs": [],
   "source": [
    "weight = [100,200,150,1000]\n",
    "weight = sorted(weight)\n",
    "print(weight)\n",
    "sum1 = 0\n",
    "count = 0\n",
    "for x in weight:\n",
    "    if sum1+x <= 5000:\n",
    "        sum1 = sum1+x\n",
    "        count = count+1\n",
    "print(sum1)\n",
    "print(count)"
   ]
  },
  {
   "cell_type": "code",
   "execution_count": null,
   "id": "4791c40d",
   "metadata": {},
   "outputs": [],
   "source": [
    "s = \"abccccdd\"\n",
    "s = \"bb\"\n",
    "s = \"a\"\n",
    "s = \"jglknendplocymmvwtoxvebkekzfdhykknufqdkntnqvgfbahsljkobhbxkvyictzkqjqydczuxjkgecdyhixdttxfqmgksrkyvopwprsgoszftuhawflzjyuyrujrxluhzjvbflxgcovilthvuihzttzithnsqbdxtafxrfrblulsakrahulwthhbjcslceewxfxtavljpimaqqlcbrdgtgjryjytgxljxtravwdlnrrauxplempnbfeusgtqzjtzshwieutxdytlrrqvyemlyzolhbkzhyfyttevqnfvmpqjngcnazmaagwihxrhmcibyfkccyrqwnzlzqeuenhwlzhbxqxerfifzncimwqsfatudjihtumrtjtggzleovihifxufvwqeimbxvzlxwcsknksogsbwwdlwulnetdysvsfkonggeedtshxqkgbhoscjgpiel\"\n",
    "y = collections.Counter(s)\n",
    "print(y)\n",
    "sum1=0\n",
    "flag = 0\n",
    "flag1=0\n",
    "if s ==s[::-1]:\n",
    "    print(len(s))\n",
    "for num in y.values():\n",
    "    print(\"num {}\".format(num))\n",
    "    if num%2==0:\n",
    "        print(\"num: {}\".format(num))\n",
    "        sum1 = sum1+num\n",
    "        print(\"sum1: {}\".format(sum1))\n",
    "    else:\n",
    "        if num >1:\n",
    "            flag1 =1\n",
    "            print(\"num odd: {}\".format(num))\n",
    "            sum1 = sum1+(num-1)\n",
    "            print(\"sum1 odd: {}\".format(sum1))\n",
    "        else:\n",
    "            if flag ==0:\n",
    "                sum1=sum1+1\n",
    "                print(\"sum1 1: {}\".format(sum1))\n",
    "                flag=1\n",
    "if flag==0 and flag1==1:\n",
    "    sum1=sum1+1\n",
    "\n",
    "print(sum1)\n",
    "            \n"
   ]
  },
  {
   "cell_type": "code",
   "execution_count": 9,
   "id": "25208719",
   "metadata": {},
   "outputs": [
    {
     "name": "stdout",
     "output_type": "stream",
     "text": [
      "True\n"
     ]
    }
   ],
   "source": [
    "s = \"code\"\n",
    "s = \"aab\"\n",
    "s = \"carerac\"\n",
    "import collections\n",
    "y = collections.Counter(s)\n",
    "count=0\n",
    "for x in y.values():\n",
    "    if x%2!=0:\n",
    "        count = count+1\n",
    "    if count==2:\n",
    "        print(False)\n",
    "        break;\n",
    "print(True)"
   ]
  },
  {
   "cell_type": "code",
   "execution_count": 20,
   "id": "926cfcb3",
   "metadata": {},
   "outputs": [
    {
     "name": "stdout",
     "output_type": "stream",
     "text": [
      "False\n"
     ]
    }
   ],
   "source": [
    "word = \"aS\"\n",
    "if word.isupper() or word.istitle() or word.islower():\n",
    "    print(True)\n",
    "else:\n",
    "    print(False)"
   ]
  },
  {
   "cell_type": "code",
   "execution_count": 52,
   "id": "4dc2b20c",
   "metadata": {},
   "outputs": [
    {
     "name": "stdout",
     "output_type": "stream",
     "text": [
      "Counter({'a': 2, 'b': 1})\n",
      "False\n",
      "True\n"
     ]
    }
   ],
   "source": [
    "words = [\"abc\",\"aabc\",\"bc\"]\n",
    "words = [\"ab\",\"a\"]\n",
    "import collections\n",
    "counter = collections.Counter(\"\".join(words))\n",
    "print(counter)\n",
    "flag = 0\n",
    "for v in counter.values(): \n",
    "    if v % len(words) != 0: \n",
    "        print(False)\n",
    "        break\n",
    "print(True)"
   ]
  },
  {
   "cell_type": "code",
   "execution_count": 48,
   "id": "32005f8c",
   "metadata": {},
   "outputs": [
    {
     "name": "stdout",
     "output_type": "stream",
     "text": [
      "2\n"
     ]
    }
   ],
   "source": [
    "patterns = [\"aa\",\"abc\",\"bc\",\"d\"]\n",
    "word = \"abc\"\n",
    "count = 0\n",
    "for x in patterns:\n",
    "    if x in word:\n",
    "        count=count+1\n",
    "print(count)"
   ]
  },
  {
   "cell_type": "code",
   "execution_count": 77,
   "id": "013ffe24",
   "metadata": {},
   "outputs": [
    {
     "name": "stdout",
     "output_type": "stream",
     "text": [
      "['Alaska', 'Dad']\n"
     ]
    }
   ],
   "source": [
    "first = \"qwertyuiop\"\n",
    "second = \"asdfghjkl\"\n",
    "third = \"zxcvbnm\"\n",
    "dic = {1:{'q','w','e','r','t','y','u','i','o','p'},\n",
    "      2:{'a','s','d','f','g','h','j','k','l'},\n",
    "      3:{'z','x','c','v','b','n','m'}}\n",
    "#print(dic)\n",
    "words = [\"Hello\",\"Alaska\",\"Dad\",\"Peace\"]\n",
    "group=0\n",
    "res = []\n",
    "for word in words:\n",
    "    if word[0] in dic[1] or word[0].lower() in dic[1]:\n",
    "        group = 1\n",
    "    elif word[0] in dic[2] or word[0].lower() in dic[2]:\n",
    "        group = 2\n",
    "    elif word[0] in dic[3] or word[0].lower() in dic[3]:\n",
    "        group = 3\n",
    "#    print(word,group)\n",
    "    \n",
    "    for i in range(1,len(word)):\n",
    "#        print(word)\n",
    "#        print(dic[group])\n",
    "        if word[i] not in dic[group]:\n",
    "            break\n",
    "        \n",
    "    else:\n",
    "        res.append(word)\n",
    "#        print(res)\n",
    "print(res)            \n",
    "        "
   ]
  },
  {
   "cell_type": "code",
   "execution_count": 79,
   "id": "8383ca53",
   "metadata": {},
   "outputs": [
    {
     "name": "stdout",
     "output_type": "stream",
     "text": [
      "['Alaska', 'Dad']\n"
     ]
    }
   ],
   "source": [
    "first = \"qwertyuiop\"\n",
    "second = \"asdfghjkl\"\n",
    "third = \"zxcvbnm\"\n",
    "ans = []\n",
    "for word in words:\n",
    "    tt = False\n",
    "    mt = False\n",
    "    bt = False\n",
    "    for letter in word:\n",
    "        if letter in first:\n",
    "            tt = True\n",
    "        if letter in second:\n",
    "            mt = True\n",
    "        if letter in third:\n",
    "            bt = True\n",
    "    lier=[tt,mt,bt]\n",
    "    if lier.count(True) == 1:\n",
    "        ans.append(word)\n",
    "print(ans)"
   ]
  },
  {
   "cell_type": "code",
   "execution_count": 110,
   "id": "c08914df",
   "metadata": {},
   "outputs": [
    {
     "name": "stdout",
     "output_type": "stream",
     "text": [
      "5F3Z-2E9W\n"
     ]
    }
   ],
   "source": [
    "s = \"5F3Z-2e-9-w\"\n",
    "k = 4\n",
    "\n",
    "x = s.replace('-','').upper()\n",
    "res=[] \n",
    "i = len(x)\n",
    "while i > 0 :\n",
    "    if i-k <0:\n",
    "        res.append(x[0:i])\n",
    "    else:\n",
    "        res.append(x[i-k:i])\n",
    "    i = i-k\n",
    "print('-'.join(res[::-1]))"
   ]
  },
  {
   "cell_type": "code",
   "execution_count": 127,
   "id": "038943aa",
   "metadata": {},
   "outputs": [
    {
     "name": "stdout",
     "output_type": "stream",
     "text": [
      "2\n"
     ]
    }
   ],
   "source": [
    "text = \"nlaebolko\"\n",
    "text = \"loonbalxballpoon\"\n",
    "word = \"balloon\"\n",
    "word = list(word)\n",
    "text = list(text)\n",
    "count = 0\n",
    "\n",
    "for i in range(len(text)//len(word)):\n",
    "    res = []\n",
    "    text =list(text)\n",
    "    for letter in word:\n",
    "        if letter in text:\n",
    "            res.append(letter)\n",
    "            text.remove(letter)\n",
    "    if res == word:\n",
    "        count = count+1\n",
    "print(count)"
   ]
  },
  {
   "cell_type": "code",
   "execution_count": 142,
   "id": "7f66da92",
   "metadata": {},
   "outputs": [
    {
     "name": "stdout",
     "output_type": "stream",
     "text": [
      "['Shogun', 'KFC']\n"
     ]
    }
   ],
   "source": [
    "list1 = [\"Shogun\",\"Tapioca Express\",\"Burger King\",\"KFC\"]\n",
    "list2 = [\"Piatti\",\"The Grill at Torrey Pines\",\"Hungry Hunter Steakhouse\",\"Shogun\"]\n",
    "list1 = [\"Shogun\",\"KFC\",\"Tapioca Express\",\"Burger King\",\"KFC\"]\n",
    "list2 = [\"KFC\",\"Shogun\",\"Burger King\"]\n",
    "from collections import defaultdict\n",
    "res = defaultdict(list)\n",
    "for indx,x in enumerate(list1):\n",
    "    sum1 = 0\n",
    "    if x in list2:\n",
    "        sum1 = indx+list2.index(x)\n",
    "        res[sum1].append(x)    \n",
    "print(res.get(min(res.keys())))"
   ]
  },
  {
   "cell_type": "code",
   "execution_count": 179,
   "id": "f70c8bb1",
   "metadata": {},
   "outputs": [
    {
     "name": "stdout",
     "output_type": "stream",
     "text": [
      "x b\n",
      "i 1\n",
      "widths[i] 10\n",
      "sum1 0\n",
      "sum1: 10\n",
      "count: 1\n",
      "x b\n",
      "i 1\n",
      "widths[i] 10\n",
      "sum1 10\n",
      "sum1: 20\n",
      "count: 1\n",
      "x b\n",
      "i 1\n",
      "widths[i] 10\n",
      "sum1 20\n",
      "sum1: 30\n",
      "count: 1\n",
      "x c\n",
      "i 2\n",
      "widths[i] 10\n",
      "sum1 30\n",
      "sum1: 40\n",
      "count: 1\n",
      "x c\n",
      "i 2\n",
      "widths[i] 10\n",
      "sum1 40\n",
      "sum1: 50\n",
      "count: 1\n",
      "x c\n",
      "i 2\n",
      "widths[i] 10\n",
      "sum1 50\n",
      "sum1: 60\n",
      "count: 1\n",
      "x d\n",
      "i 3\n",
      "widths[i] 10\n",
      "sum1 60\n",
      "sum1: 70\n",
      "count: 1\n",
      "x d\n",
      "i 3\n",
      "widths[i] 10\n",
      "sum1 70\n",
      "sum1: 80\n",
      "count: 1\n",
      "x d\n",
      "i 3\n",
      "widths[i] 10\n",
      "sum1 80\n",
      "sum1: 90\n",
      "count: 1\n",
      "x a\n",
      "i 0\n",
      "widths[i] 4\n",
      "sum1 90\n",
      "sum1: 94\n",
      "count: 1\n",
      "x a\n",
      "i 0\n",
      "widths[i] 4\n",
      "sum1 94\n",
      "sum1: 98\n",
      "count: 1\n",
      "x a\n",
      "i 0\n",
      "widths[i] 4\n",
      "count: else 2\n",
      "sum1: else 4\n",
      "[2, 4]\n"
     ]
    }
   ],
   "source": [
    "widths = [4,10,10,10,10,10,10,10,10,10,10,10,10,10,10,10,10,10,10,10,10,10,10,10,10,10]\n",
    "s = \"bbbcccdddaaa\"\n",
    "#widths = [10,10,10,10,10,10,10,10,10,10,10,10,10,10,10,10,10,10,10,10,10,10,10,10,10,10]\n",
    "#widths = [10,10,30,40,50,60,10,10,10,10,10,10,10,10,10,10,10,10,10,10,10,10,10,10,10,10]\n",
    "#s = \"abcdefghijklmnopqrstuvwxyz\"\n",
    "#print(ord('a'))\n",
    "sum1 = 0\n",
    "count = 1\n",
    "for x in s:\n",
    "    i = ord(x)-97\n",
    "    print(\"x {}\".format(x))\n",
    "    print(\"i {}\".format(i))\n",
    "    print(\"widths[i] {}\".format(widths[i]))\n",
    "    if sum1+widths[i] <= 100:\n",
    "        print(\"sum1 {}\".format(sum1))\n",
    "        sum1=sum1+widths[i]\n",
    "        print(\"sum1: {}\".format(sum1))\n",
    "        print(\"count: {}\".format(count))\n",
    "    else:\n",
    "        count = count+1\n",
    "        print(\"count: else {}\".format(count))\n",
    "        sum1 = 0\n",
    "        sum1 = sum1+widths[i]\n",
    "        print(\"sum1: else {}\".format(sum1))\n",
    "\n",
    "print([count,sum1])\n",
    "\n",
    "#print(len(widths))\n",
    "#print(len(s))"
   ]
  },
  {
   "cell_type": "code",
   "execution_count": 186,
   "id": "b9bf461b",
   "metadata": {},
   "outputs": [
    {
     "name": "stdout",
     "output_type": "stream",
     "text": [
      "2\n"
     ]
    }
   ],
   "source": [
    "words = [\"gin\",\"zen\",\"gig\",\"msg\"]\n",
    "dots = [\".-\",\"-...\",\"-.-.\",\"-..\",\".\",\"..-.\",\"--.\",\"....\",\"..\",\".---\",\"-.-\",\".-..\",\"--\",\"-.\",\"---\",\".--.\",\"--.-\",\".-.\",\"...\",\"-\",\"..-\",\"...-\",\".--\",\"-..-\",\"-.--\",\"--..\"]\n",
    "\n",
    "#print(ord('a'))\n",
    "#print(dots[i])\n",
    "\n",
    "list1=[]\n",
    "for word in words:\n",
    "    y =''\n",
    "    for x in word:\n",
    "        i = ord(x)-97\n",
    "        y = y+''.join(dots[i])\n",
    "    list1.append(y)\n",
    "print(len(set(list1)))\n"
   ]
  },
  {
   "cell_type": "code",
   "execution_count": 213,
   "id": "e032025b",
   "metadata": {},
   "outputs": [
    {
     "name": "stdout",
     "output_type": "stream",
     "text": [
      "(('a', 'a'), ('a', 'a'))\n",
      "a a\n",
      "a a\n",
      "[]\n",
      "[]\n",
      "True\n",
      "False\n",
      "{'a'}\n"
     ]
    }
   ],
   "source": [
    "s = \"ab\"\n",
    "goal = \"ba\"\n",
    "#s = \"ab\"\n",
    "#goal = \"ab\"\n",
    "s = \"aa\"\n",
    "goal = \"aa\"\n",
    "print(tuple(zip(s,goal)))\n",
    "rec = set()\n",
    "swap_A = []\n",
    "swap_B = []\n",
    "count = 0\n",
    "\n",
    "for x,y in zip(s,goal):\n",
    "    print(x,y)\n",
    "    rec.add(x)\n",
    "    if x!=y:\n",
    "        swap_A.append(x)\n",
    "        swap_B.append(y)\n",
    "        count = count+1\n",
    "    if count > 2:\n",
    "        print(False)\n",
    "        break;\n",
    "print(swap_A)\n",
    "print(swap_B)\n",
    "if count == 0:\n",
    "    if len(rec) != len(s):\n",
    "        print(True)\n",
    "    print(False)\n",
    "elif count != 2:\n",
    "    print(False)\n",
    "else:\n",
    "    swap_A[::-1]==swap_B\n",
    "    print(True)\n",
    "print(rec)"
   ]
  },
  {
   "cell_type": "code",
   "execution_count": 221,
   "id": "e4ac74e9",
   "metadata": {},
   "outputs": [
    {
     "name": "stdout",
     "output_type": "stream",
     "text": [
      "True\n"
     ]
    }
   ],
   "source": [
    "s1 = \"bank\"\n",
    "s2 = \"kanb\"\n",
    "s1 = \"attack\"\n",
    "s2 = \"defend\"\n",
    "s1 = \"kelb\"\n",
    "s2 = \"kelb\"\n",
    "Swap_s1 = []\n",
    "Swap_s2 = []\n",
    "count = 0\n",
    "if len(s1) != len(s2):\n",
    "    print(False)\n",
    "for indx, x in enumerate(s1):\n",
    "    if x != s2[indx]:\n",
    "        Swap_s1.append(x)\n",
    "        Swap_s2.append(s2[indx])\n",
    "        count = count+1\n",
    "    if count >2:\n",
    "        print(False)\n",
    "        break\n",
    "if count == 1:\n",
    "    print(False)\n",
    "elif count == 0:\n",
    "    print(True)\n",
    "else:\n",
    "    if Swap_s1[::-1] == Swap_s2:\n",
    "        print(True)\n",
    "    else:\n",
    "        print(False)"
   ]
  },
  {
   "cell_type": "code",
   "execution_count": null,
   "id": "27221a54",
   "metadata": {},
   "outputs": [],
   "source": []
  }
 ],
 "metadata": {
  "kernelspec": {
   "display_name": "Python 3 (ipykernel)",
   "language": "python",
   "name": "python3"
  },
  "language_info": {
   "codemirror_mode": {
    "name": "ipython",
    "version": 3
   },
   "file_extension": ".py",
   "mimetype": "text/x-python",
   "name": "python",
   "nbconvert_exporter": "python",
   "pygments_lexer": "ipython3",
   "version": "3.7.6"
  }
 },
 "nbformat": 4,
 "nbformat_minor": 5
}
