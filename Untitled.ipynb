{
 "cells": [
  {
   "cell_type": "code",
   "execution_count": null,
   "id": "aa3464a4",
   "metadata": {},
   "outputs": [],
   "source": [
    "num = 1800\n",
    "num2 = num\n",
    "while num2%10 ==0:\n",
    "    num2 = num2/10\n",
    "num2 = int(num2)\n",
    "reversed1 = str(num2)[::-1]\n",
    "reversed2 = reversed1[::-1]\n",
    "if reversed2 == str(num) :\n",
    "    print('true')\n",
    "else:\n",
    "    print('false')"
   ]
  },
  {
   "cell_type": "code",
   "execution_count": null,
   "id": "ae89ebf4",
   "metadata": {},
   "outputs": [],
   "source": [
    "words = [\"abc\",\"car\",\"ada\",\"racecar\",\"cool\"]\n",
    "\n",
    "for x in words:\n",
    "    reversed1 = x[::-1]\n",
    "    if x==reversed1:\n",
    "        print(x)\n",
    "        break"
   ]
  },
  {
   "cell_type": "code",
   "execution_count": null,
   "id": "70f50d7c",
   "metadata": {},
   "outputs": [],
   "source": [
    "x = -123\n",
    "num2 = x\n",
    "if int(str(abs(x))[::-1])> math.pow(2,31):\n",
    "    return 0\n",
    "if x>0:\n",
    "    return int(str(x)[::-1])\n",
    "else:\n",
    "    x = abs(x)\n",
    "    return 0-int(str(x)[::-1])"
   ]
  },
  {
   "cell_type": "code",
   "execution_count": null,
   "id": "77eef906",
   "metadata": {},
   "outputs": [],
   "source": [
    "s = \"0P\"\n",
    "a=s.casefold().replace(\" \",\"\")\n",
    "y = ''\n",
    "for x in a:\n",
    "    if x.isalnum():\n",
    "           y = y+''.join(x)\n",
    "if y == y[::-1]:\n",
    "    print(\"true\")\n",
    "else:\n",
    "    print(\"false\")\n",
    "print(y)\n"
   ]
  },
  {
   "cell_type": "code",
   "execution_count": null,
   "id": "2b86b510",
   "metadata": {},
   "outputs": [],
   "source": [
    "rings = \"B0B6G0R6R0R6G9G0\"\n",
    "list1= dict()\n",
    "temp=''\n",
    "for x in rings:\n",
    "    if x.isnumeric():\n",
    "        if list1.get(x):\n",
    "            list2=[]\n",
    "            print(list1[x])\n",
    "            list2 = [y for y in list1[x]]\n",
    "            list1[x]=[list2,temp]\n",
    "        else:\n",
    "            list1[x]=temp\n",
    "    temp = x\n",
    "print(list1)\n",
    "#for y in rings:\n",
    "    "
   ]
  },
  {
   "cell_type": "code",
   "execution_count": null,
   "id": "e01d835d",
   "metadata": {},
   "outputs": [],
   "source": [
    "car = {\n",
    "  \"brand\": \"Ford\",\n",
    "  \"model\": \"Mustang\",\n",
    "  \"year\": 1964\n",
    "}\n",
    "if car.get(\"color\"):\n",
    "    print(\"true\")\n",
    "else :\n",
    "    print(\"false\")\n",
    "x = car.get(\"color\")\n",
    "print(x)\n",
    "car[\"color\"]=\"White\"\n",
    "car[\"color\"]=[car[\"color\"],\"green\"]\n",
    "print(car)"
   ]
  },
  {
   "cell_type": "code",
   "execution_count": null,
   "id": "c012e2a4",
   "metadata": {},
   "outputs": [],
   "source": [
    "y = [1,2,[3]]\n",
    "[x for x in y]"
   ]
  },
  {
   "cell_type": "code",
   "execution_count": null,
   "id": "32e64aea",
   "metadata": {},
   "outputs": [],
   "source": [
    "rings = \"B0B6G0R6R0R6G9G0\"\n",
    "rods = dict()\n",
    "for i in range(0, len(rings), 2):\n",
    "    color, rod = rings[i:i+2]\n",
    "    rods[rod]=''\n",
    "    rods[rod]=(color)\n",
    "print( sum(len(colors) == 3 for colors in rods.values()))"
   ]
  },
  {
   "cell_type": "code",
   "execution_count": null,
   "id": "16c70672",
   "metadata": {},
   "outputs": [],
   "source": [
    "count = 0\n",
    "for rod in '0123456789':\n",
    "    flag = []\n",
    "    for color in 'RGB':\n",
    "        flag.append(color + rod in rings)\n",
    "\n",
    "    # print(flag)\n",
    "    count += all(flag) \n",
    "print(count)"
   ]
  },
  {
   "cell_type": "code",
   "execution_count": null,
   "id": "40c76f44",
   "metadata": {},
   "outputs": [],
   "source": [
    "words1 = [\"leetcode\",\"is\",\"amazing\",\"as\",\"is\"]\n",
    "words2 = [\"amazing\",\"leetcode\",\"is\"]\n",
    "stack1=[]\n",
    "for x in words1:\n",
    "    count1=words1.count(x)\n",
    "    if x in words2:\n",
    "        count2=words2.count(x)\n",
    "    if count1==count2:\n",
    "        count1=\"\"\n",
    "        count2=\"\"\n",
    "        stack1.append(x)\n",
    "        \n",
    "print(stack1)\n",
    "        \n",
    "    \n",
    "\n"
   ]
  },
  {
   "cell_type": "code",
   "execution_count": null,
   "id": "ec0d3d71",
   "metadata": {},
   "outputs": [],
   "source": [
    "haystack = \"\"\n",
    "needle = \"\"\n",
    "try:\n",
    "    print(haystack.index(needle))\n",
    "except ValueError:\n",
    "    print(-1)"
   ]
  },
  {
   "cell_type": "code",
   "execution_count": null,
   "id": "5cb1632e",
   "metadata": {},
   "outputs": [],
   "source": [
    "import re\n",
    "txt = \"The rain is Spain\"\n",
    "x = re.findall(\"[a-m]\",txt)\n",
    "print(x)\n",
    "txt = \"hello planet\"\n",
    "x = re.findall(\"^hello\", txt)\n",
    "print(x)\n",
    "x = re.findall(\"he.*o\", txt)\n",
    "print(x)\n",
    "x = re.findall(\"he.+o\", txt)\n",
    "print(x)\n",
    "x = re.findall(\"he.?o\", txt)\n",
    "print(x)"
   ]
  },
  {
   "cell_type": "code",
   "execution_count": null,
   "id": "40fad371",
   "metadata": {},
   "outputs": [],
   "source": [
    "txt = \"The rain in Spain-9_1\"\n",
    "x = re.findall(r\"\\bain\", txt)\n",
    "print(x)\n",
    "x = re.findall(r\"ain\\b\", txt)\n",
    "print(x)"
   ]
  },
  {
   "cell_type": "code",
   "execution_count": null,
   "id": "66ac4767",
   "metadata": {},
   "outputs": [],
   "source": [
    "x = re.findall(r\"\\Bain\", txt)\n",
    "print(x)"
   ]
  },
  {
   "cell_type": "code",
   "execution_count": null,
   "id": "a3cc8a03",
   "metadata": {},
   "outputs": [],
   "source": [
    "x = re.findall(\"\\d\", txt)\n",
    "print(x)"
   ]
  },
  {
   "cell_type": "code",
   "execution_count": null,
   "id": "45c3ff9c",
   "metadata": {},
   "outputs": [],
   "source": [
    "x = re.findall(\"\\D\", txt)\n",
    "print(x)"
   ]
  },
  {
   "cell_type": "code",
   "execution_count": null,
   "id": "92435e12",
   "metadata": {},
   "outputs": [],
   "source": [
    "x = re.findall(\"\\s\", txt)\n",
    "print(x)"
   ]
  },
  {
   "cell_type": "code",
   "execution_count": null,
   "id": "dae6fcce",
   "metadata": {},
   "outputs": [],
   "source": [
    "x = re.findall(\"\\S\", txt)\n",
    "print(x)"
   ]
  },
  {
   "cell_type": "code",
   "execution_count": null,
   "id": "a661584d",
   "metadata": {},
   "outputs": [],
   "source": [
    "x = re.findall(\"\\w\", txt)\n",
    "print(x)"
   ]
  },
  {
   "cell_type": "code",
   "execution_count": null,
   "id": "d272bd56",
   "metadata": {},
   "outputs": [],
   "source": [
    "x = re.findall(\"\\W\", txt)\n",
    "print(x)"
   ]
  },
  {
   "cell_type": "code",
   "execution_count": null,
   "id": "a39028c9",
   "metadata": {},
   "outputs": [],
   "source": [
    "x = re.findall(\"Spain-9_1\\Z\", txt)\n",
    "print(x)\n"
   ]
  },
  {
   "cell_type": "code",
   "execution_count": null,
   "id": "4966f6b4",
   "metadata": {},
   "outputs": [],
   "source": [
    "txt = \"The rain in Spain\"\n",
    "x = re.search(r\"\\bS\\w+\", txt)\n",
    "print(x.span())"
   ]
  },
  {
   "cell_type": "code",
   "execution_count": null,
   "id": "43845288",
   "metadata": {},
   "outputs": [],
   "source": [
    "txt = \"The rain in Spain\"\n",
    "x = re.search(r\"\\bS\\w+\", txt)\n",
    "print(x.string)"
   ]
  },
  {
   "cell_type": "code",
   "execution_count": null,
   "id": "8e12b40d",
   "metadata": {},
   "outputs": [],
   "source": [
    "txt = \"The rain in Spain\"\n",
    "x = re.search(r\"\\bS\\w+\", txt)\n",
    "print(x.group())"
   ]
  },
  {
   "cell_type": "code",
   "execution_count": null,
   "id": "c5a72287",
   "metadata": {},
   "outputs": [],
   "source": [
    "txt = \"abab\"\n",
    "x = bool(re.search(r\"^(\\w+)\\1+$\", txt))\n",
    "print(x)"
   ]
  },
  {
   "cell_type": "code",
   "execution_count": null,
   "id": "be8824d9",
   "metadata": {},
   "outputs": [],
   "source": [
    "s = \"ababab\"\n",
    "ss = (s + s)[1:-1]\n",
    "print(ss)\n",
    "print(s in ss)"
   ]
  },
  {
   "cell_type": "code",
   "execution_count": null,
   "id": "83924d92",
   "metadata": {},
   "outputs": [],
   "source": [
    "n = len(s)\n",
    "print(n)\n",
    "print(n//2+1)\n",
    "for i in range(1, n//2 + 1):\n",
    "    print(i)\n",
    "    print(\"n%i {}\".format(n%i))\n",
    "    print(\"s[:i] {}\".format(s[:i]))\n",
    "    print(\"(n//i) {}\".format((n//i)))\n",
    "    print(\"s[:i] * (n//i) {}\".format(s[:i] * (n//i)))\n",
    "    if n%i == 0 and s[:i] * (n//i) == s:\n",
    "        print(\"inside\")\n",
    "        print(True)"
   ]
  },
  {
   "cell_type": "code",
   "execution_count": null,
   "id": "1cac7236",
   "metadata": {},
   "outputs": [],
   "source": [
    "n = len(s)\n",
    "for i in range(1, n):\n",
    "    if n % i == 0:\n",
    "        new_str = s[:i] * (n//i)\n",
    "        if new_str == s:\n",
    "            print(True)\n",
    "print(False)"
   ]
  },
  {
   "cell_type": "code",
   "execution_count": null,
   "id": "81063843",
   "metadata": {},
   "outputs": [],
   "source": [
    " for i in range(1, len(s)//2+1):\n",
    "    if s[:i] * (len(s)//i) == s:\n",
    "        print(True)"
   ]
  },
  {
   "cell_type": "code",
   "execution_count": null,
   "id": "6f1553eb",
   "metadata": {},
   "outputs": [],
   "source": [
    "a = \"abcd\"\n",
    "b = \"cdabcdab\"\n",
    "a = \"a\"\n",
    "b = \"aa\"\n",
    "print(len(b))\n",
    "print(len(a))\n",
    "print(len(b)//len(a))\n",
    "for i in range(1,len(b)//len(a)+2):\n",
    "    print(\"i {}\".format(i))\n",
    "    if b in (a*i):\n",
    "        print(i)\n",
    "    "
   ]
  },
  {
   "cell_type": "code",
   "execution_count": null,
   "id": "701dba3b",
   "metadata": {},
   "outputs": [],
   "source": [
    "s = \"abbbbccccaaa\"\n",
    "z=''\n",
    "p=''\n",
    "for i in range(len(s)):\n",
    "    x = s[i]\n",
    "    for y in s[i:]:\n",
    "        if x>y:\n",
    "            x=y\n",
    "            \n",
    "    z = z+''.join(x)       \n",
    "print(z)        "
   ]
  },
  {
   "cell_type": "code",
   "execution_count": null,
   "id": "78f0092d",
   "metadata": {},
   "outputs": [],
   "source": [
    "s = \"Hello World\"\n",
    "len(s.split()[-1])"
   ]
  },
  {
   "cell_type": "code",
   "execution_count": null,
   "id": "d24bd102",
   "metadata": {},
   "outputs": [],
   "source": [
    "a = \"11\"\n",
    "b = \"1\"\n",
    "print(int(a,2))\n",
    "print(int(b,2))\n",
    "print(int(a,2)+int(b,2))\n",
    "print(bin(int(a,2)+int(b,2))[2:])"
   ]
  },
  {
   "cell_type": "code",
   "execution_count": null,
   "id": "9bc42252",
   "metadata": {},
   "outputs": [],
   "source": [
    "s = \"PAYPALISHIRING\"\n",
    "numRows = 3\n",
    "y = ''\n",
    "stack = dict()\n",
    "for x in s:\n",
    "    for i in (range(3)):\n",
    "        y = y+''.join"
   ]
  },
  {
   "cell_type": "code",
   "execution_count": null,
   "id": "e658383b",
   "metadata": {},
   "outputs": [],
   "source": [
    "s = \"()\"\n",
    "stack = []\n",
    "count = 0\n",
    "for x in s:\n",
    "    if x == '(' and count > 0 :\n",
    "        stack.append(x)\n",
    "    if x == ')' and count >1 :\n",
    "        stack.append(x)\n",
    "    if x == ')':\n",
    "        count=count-1\n",
    "    else:\n",
    "        count = count+1\n",
    "print(\"\".join(stack))"
   ]
  },
  {
   "cell_type": "code",
   "execution_count": null,
   "id": "105dd1dd",
   "metadata": {},
   "outputs": [],
   "source": [
    "s = \"leetcodeisacommunityforcoders\"\n",
    "stack='aeiou'\n",
    "y = ''\n",
    "for x in s:\n",
    "    if x not in stack:\n",
    "        y=y+''.join(x)\n",
    "print(y)"
   ]
  },
  {
   "cell_type": "code",
   "execution_count": null,
   "id": "62fa3b09",
   "metadata": {},
   "outputs": [],
   "source": [
    "s = \"leetcodeisacommunityforcoders\"\n",
    "y=''\n",
    "print(y+x for x in s if x not in 'aeiou')\n",
    "    "
   ]
  },
  {
   "cell_type": "code",
   "execution_count": null,
   "id": "360b1ec6",
   "metadata": {},
   "outputs": [],
   "source": [
    "s = 'hello'\n",
    "s = list(s)\n",
    "list1=list('aeiou')\n",
    "i,j = 0,len(s)-1\n",
    "while i<j:\n",
    "    if s[i] not in list1:\n",
    "        i=i+1\n",
    "        continue\n",
    "    if s[j] not in list1:\n",
    "        j = j-1\n",
    "        continue\n",
    "    \n",
    "    s[i],s[j] = s[j],s[i]\n",
    "    i = i+1\n",
    "    j = j-1\n",
    "print(''.join(s))"
   ]
  },
  {
   "cell_type": "code",
   "execution_count": null,
   "id": "cb653278",
   "metadata": {},
   "outputs": [],
   "source": [
    "s = 'hello'\n",
    "s.replace('e','a')\n",
    "print(s.replace('e','a'))\n",
    "print(s)"
   ]
  },
  {
   "cell_type": "code",
   "execution_count": null,
   "id": "38aeab88",
   "metadata": {},
   "outputs": [],
   "source": [
    "keyboard = \"abcdefghijklmnopqrstuvwxyz\"\n",
    "word = \"word\"\n",
    "keyboard = \"pqrstuvwxyzabcdefghijklmno\"\n",
    "word = \"leetcode\"\n",
    "indx1 = 0\n",
    "sum1 = 0\n",
    "for x in word:\n",
    "    indx = keyboard.index(x)\n",
    "    sum1 = sum1+abs(indx-indx1)\n",
    "    indx1 = indx\n",
    "print(sum1)"
   ]
  },
  {
   "cell_type": "code",
   "execution_count": null,
   "id": "a1426a4e",
   "metadata": {},
   "outputs": [],
   "source": [
    "words = [\"hello\",\"world\",\"leetcode\"]\n",
    "chars = \"welldonehoneyr\"\n",
    "\n",
    "sum1=0\n",
    "for x in  words:\n",
    "    chars1 = list(chars)\n",
    "    flag = 0\n",
    "    for c in x:\n",
    "        if c in chars1:\n",
    "            chars1.remove(c)\n",
    "        else:\n",
    "            flag = 1\n",
    "    if flag == 0:\n",
    "        sum1=sum1+int(len(x))\n",
    "print(sum1)"
   ]
  },
  {
   "cell_type": "code",
   "execution_count": null,
   "id": "08e605b0",
   "metadata": {},
   "outputs": [],
   "source": [
    "\n",
    "chars = list(\"worlld\")\n",
    "chars.remove('l')\n",
    "print(chars)"
   ]
  },
  {
   "cell_type": "code",
   "execution_count": null,
   "id": "56cbb348",
   "metadata": {},
   "outputs": [],
   "source": [
    "str1 = \"ABCABC\"\n",
    "str2 = \"AB\"\n",
    "\n",
    "if str2 in str1:\n",
    "    print(str2)\n",
    "for i in range(len(str2)):\n",
    "    indx=-1*i\n",
    "    if str2[:]"
   ]
  },
  {
   "cell_type": "code",
   "execution_count": null,
   "id": "c93ed525",
   "metadata": {},
   "outputs": [],
   "source": [
    "str1 = \"ABCABC\"\n",
    "str2 = \"ABC\"\n",
    "str2[:-1]\n",
    "if str2 in str1:\n",
    "    print(str2)"
   ]
  },
  {
   "cell_type": "code",
   "execution_count": null,
   "id": "74207ee3",
   "metadata": {},
   "outputs": [],
   "source": [
    "columnNumber = 26\n",
    "y =chr(64+columnNumber)\n",
    "print(y)"
   ]
  },
  {
   "cell_type": "code",
   "execution_count": null,
   "id": "3f49d51c",
   "metadata": {},
   "outputs": [],
   "source": [
    "pow(2,31)-1"
   ]
  },
  {
   "cell_type": "code",
   "execution_count": 6,
   "id": "ddb0ff11",
   "metadata": {},
   "outputs": [
    {
     "name": "stdout",
     "output_type": "stream",
     "text": [
      "n 701\n",
      "remainder 25\n",
      "Y\n",
      "n 26\n",
      "remainder 0\n",
      "ZY\n",
      "ZY\n"
     ]
    }
   ],
   "source": [
    "n = 701\n",
    "s = ''\n",
    "while n > 0:\n",
    "    remainder = n%26\n",
    "    print('n {}'.format(n))\n",
    "    print(\"remainder {}\".format(remainder))\n",
    "    if remainder == 0: remainder = 26\n",
    "    s = chr(64+remainder)+s\n",
    "    n = (n-remainder)//26\n",
    "    print(s)\n",
    "print(s)"
   ]
  },
  {
   "cell_type": "code",
   "execution_count": 36,
   "id": "24f25d1f",
   "metadata": {},
   "outputs": [
    {
     "name": "stdout",
     "output_type": "stream",
     "text": [
      "26\n",
      "1\n",
      "24\n",
      "51\n"
     ]
    }
   ],
   "source": [
    "columnTitle = \"ZY\"\n",
    "length = len(columnTitle)\n",
    "number = (length-1)*26\n",
    "print(number)\n",
    "x,y = divmod(ord(columnTitle[-1]),65)\n",
    "print(x)\n",
    "print(y)\n",
    "print(x+y+number)"
   ]
  },
  {
   "cell_type": "code",
   "execution_count": 53,
   "id": "7a4e8392",
   "metadata": {},
   "outputs": [
    {
     "name": "stdout",
     "output_type": "stream",
     "text": [
      "676\n",
      "702\n",
      "703\n",
      "703\n"
     ]
    }
   ],
   "source": [
    "columnTitle = \"AAA\"\n",
    "length = len(columnTitle)\n",
    "number =0\n",
    "for z in columnTitle:\n",
    "    x,y = divmod(ord(z),65)\n",
    "    if length < 2:\n",
    "        number = number +(x+y)\n",
    "    else:\n",
    "        length = length -1\n",
    "        number = number+pow(26,length)*(x+y)               \n",
    "print(number)"
   ]
  },
  {
   "cell_type": "code",
   "execution_count": 90,
   "id": "04a62e62",
   "metadata": {},
   "outputs": [],
   "source": [
    "wordsDict = [\"practice\", \"makes\", \"perfect\", \"coding\", \"makes\"]\n",
    "word1 = \"coding\"\n",
    "word2 = \"practice\" \n",
    "word2 = \"makes\""
   ]
  },
  {
   "cell_type": "code",
   "execution_count": 61,
   "id": "e20c97fd",
   "metadata": {},
   "outputs": [
    {
     "data": {
      "text/plain": [
       "2"
      ]
     },
     "execution_count": 61,
     "metadata": {},
     "output_type": "execute_result"
    }
   ],
   "source": [
    "wordsDict.index(word2)\n",
    "wordsDict.index(word1)\n",
    "wordsDict.index(word3)\n",
    "wordsDict.count(word3)"
   ]
  },
  {
   "cell_type": "code",
   "execution_count": 85,
   "id": "4288bbed",
   "metadata": {},
   "outputs": [
    {
     "name": "stdout",
     "output_type": "stream",
     "text": [
      "[1, 4]\n",
      "[0]\n",
      "1\n"
     ]
    }
   ],
   "source": [
    "indx = 0\n",
    "list1 = []\n",
    "list2 = []\n",
    "for i in range(wordsDict.count(word3)):\n",
    "    indx=wordsDict.index(word3,indx)\n",
    "    list1.append(indx)\n",
    "    indx=indx+1\n",
    "indx = 0   \n",
    "for i in range(wordsDict.count(word2)):\n",
    "    indx=wordsDict.index(word2,indx)\n",
    "    list2.append(indx)\n",
    "    indx=indx+1\n",
    "temp = 0\n",
    "print(min([abs(x-y) for x in list1 for y in list2]))"
   ]
  },
  {
   "cell_type": "code",
   "execution_count": 95,
   "id": "7ca86633",
   "metadata": {},
   "outputs": [
    {
     "name": "stdout",
     "output_type": "stream",
     "text": [
      "defaultdict(<class 'list'>, {'makes': [1, 4], 'coding': [3]})\n",
      "[3]\n",
      "[1, 4]\n",
      "1\n"
     ]
    }
   ],
   "source": [
    "from collections import defaultdict\n",
    "d = defaultdict(list)\n",
    "for index, value in enumerate(wordsDict):\n",
    "     if value == word1 or value == word2:\n",
    "            d[value].append(index)\n",
    "\n",
    "print(d)\n",
    "distance=[]\n",
    "print(d[word1])\n",
    "print(d[word2])\n",
    "for i in d[word1]:\n",
    "    for j in d[word2]:\n",
    "        distance.append(abs(i-j))\n",
    "print(min(distance))\n"
   ]
  },
  {
   "cell_type": "code",
   "execution_count": 141,
   "id": "4921a27a",
   "metadata": {},
   "outputs": [
    {
     "name": "stdout",
     "output_type": "stream",
     "text": [
      "False\n"
     ]
    }
   ],
   "source": [
    "pattern = \"abba\"\n",
    "s = \"dog dog dog dog\"\n",
    "pattern=\"jquery\"\n",
    "s=\"jquery\"\n",
    "list1=list(s.split())\n",
    "pat = dict()\n",
    "if(len(pattern)==len(list1)):\n",
    "    for i in range(len(list1)):\n",
    "        if pattern[i] not in pat.keys() and list1[i] not in pat.values():\n",
    "            pat[pattern[i]]=list1[i] \n",
    "    list2 = []\n",
    "    for x in pattern:\n",
    "        list2.append(pat.get(x))\n",
    "    print(pat)\n",
    "    print(list2)\n",
    "    if list1==list2:\n",
    "        print(True)\n",
    "    else:\n",
    "        print(False)\n",
    "else:\n",
    "    print(False)"
   ]
  },
  {
   "cell_type": "code",
   "execution_count": 107,
   "id": "79286934",
   "metadata": {},
   "outputs": [
    {
     "data": {
      "text/plain": [
       "'a cat cat a'"
      ]
     },
     "execution_count": 107,
     "metadata": {},
     "output_type": "execute_result"
    }
   ],
   "source": [
    "s.replace('dog','a')"
   ]
  },
  {
   "cell_type": "code",
   "execution_count": 153,
   "id": "88fd0e7a",
   "metadata": {},
   "outputs": [
    {
     "name": "stdout",
     "output_type": "stream",
     "text": [
      "['o', 'l', 'l', 'e', 'h']\n"
     ]
    }
   ],
   "source": [
    "s = [\"h\",\"e\",\"l\",\"l\",\"o\"]\n",
    "for i in range((len(s)//2)):\n",
    "    temp = s[i]\n",
    "    s[i]=s[-1*i-1]\n",
    "    s[-1*i-1]=temp\n",
    "print(s)"
   ]
  },
  {
   "cell_type": "code",
   "execution_count": 160,
   "id": "319bb561",
   "metadata": {},
   "outputs": [
    {
     "name": "stdout",
     "output_type": "stream",
     "text": [
      "abcd\n",
      "bacd\n",
      "\n"
     ]
    },
    {
     "data": {
      "text/plain": [
       "'gfedcba'"
      ]
     },
     "execution_count": 160,
     "metadata": {},
     "output_type": "execute_result"
    }
   ],
   "source": [
    "s = \"abcdefg\"\n",
    "k = 2\n",
    "indx = 0\n",
    "y = s[indx:k*2]\n",
    "indx= k*2+1\n",
    "print(y)\n",
    "print(y[:k][::-1]+y[k:])\n",
    "y=''\n",
    "y = s[indx:k*2]\n",
    "print(y)\n",
    "s[::-1]\n",
    "    "
   ]
  },
  {
   "cell_type": "code",
   "execution_count": 187,
   "id": "8991f8c2",
   "metadata": {},
   "outputs": [
    {
     "name": "stdout",
     "output_type": "stream",
     "text": [
      "cbadefg\n"
     ]
    }
   ],
   "source": [
    "s = \"abcdefg\"\n",
    "k = 3\n",
    "list1 = []\n",
    "i = 0\n",
    "p = 0\n",
    "while i <len(s):\n",
    "    p = p+k*2\n",
    "    list1.append(s[i:p])\n",
    "    i = p\n",
    "temp = ''\n",
    "for x in list1:\n",
    "    y = x[:k][::-1]+x[k:]\n",
    "    y = temp+''.join(y)\n",
    "    temp = y\n",
    "print(y)\n",
    "#for x in range(len(s)):\n",
    "    "
   ]
  },
  {
   "cell_type": "code",
   "execution_count": 195,
   "id": "47ab0a92",
   "metadata": {},
   "outputs": [
    {
     "name": "stdout",
     "output_type": "stream",
     "text": [
      "['']\n"
     ]
    }
   ],
   "source": [
    "s = \"leEeetcode\"\n",
    "s='abBAcC'\n",
    "s=\"Pp\"\n",
    "s =\"mC\"\n",
    "list1 = []\n",
    "list1[:0]=s\n",
    "stack = []\n",
    "upper=''\n",
    "temp = ''\n",
    "for indx,x in enumerate(list1):\n",
    "    if x.isupper():\n",
    "        if not stack:\n",
    "            stack.append(x)\n",
    "            pass\n",
    "        else:\n",
    "            temp = stack.pop()\n",
    "        if temp.upper()!= x:\n",
    "            stack.append(temp)\n",
    "            upper=x\n",
    "            \n",
    "    else:\n",
    "        stack.append(x)\n",
    "        if upper != x.upper():\n",
    "            stack.append(x)\n",
    "        upper = ''\n",
    "print(stack)"
   ]
  },
  {
   "cell_type": "code",
   "execution_count": 202,
   "id": "63b7629a",
   "metadata": {},
   "outputs": [
    {
     "name": "stdout",
     "output_type": "stream",
     "text": [
      "CD\n"
     ]
    }
   ],
   "source": [
    "s =\"mMCDMm\"\n",
    "##s=\"mC\"\n",
    "\n",
    "##s=\"kkdsFuqUfSDKK\"\n",
    "list1 = []\n",
    "list1[:0]=s\n",
    "stack = []\n",
    "temp = ''\n",
    "for indx,x in enumerate(list1):\n",
    "    if not stack:\n",
    "        stack.append(x)\n",
    "    else:\n",
    "        temp = stack.pop()\n",
    "        if (temp.islower() and x.isupper() and temp.upper()== x) or(temp.isupper() and x.islower() and temp==x.upper()):\n",
    "            pass\n",
    "        else:\n",
    "            stack.append(temp)\n",
    "            stack.append(x)            \n",
    "print(''.join(stack))"
   ]
  },
  {
   "cell_type": "code",
   "execution_count": 203,
   "id": "1f885fc8",
   "metadata": {},
   "outputs": [
    {
     "name": "stdout",
     "output_type": "stream",
     "text": [
      "2\n"
     ]
    }
   ],
   "source": [
    "words1 = [\"leetcode\",\"is\",\"amazing\",\"as\",\"is\"]\n",
    "words2 = [\"amazing\",\"leetcode\",\"is\"]\n",
    "count = 0\n",
    "for x in words1:\n",
    "    if x in words2:\n",
    "        if words1.count(x) == 1 and words2.count(x) == 1:\n",
    "            count = count+1\n",
    "print(count)"
   ]
  },
  {
   "cell_type": "code",
   "execution_count": null,
   "id": "3355950c",
   "metadata": {},
   "outputs": [],
   "source": []
  }
 ],
 "metadata": {
  "kernelspec": {
   "display_name": "Python 3 (ipykernel)",
   "language": "python",
   "name": "python3"
  },
  "language_info": {
   "codemirror_mode": {
    "name": "ipython",
    "version": 3
   },
   "file_extension": ".py",
   "mimetype": "text/x-python",
   "name": "python",
   "nbconvert_exporter": "python",
   "pygments_lexer": "ipython3",
   "version": "3.7.6"
  }
 },
 "nbformat": 4,
 "nbformat_minor": 5
}
