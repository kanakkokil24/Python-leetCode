{
 "cells": [
  {
   "cell_type": "code",
   "execution_count": null,
   "id": "3bc1dadd",
   "metadata": {},
   "outputs": [],
   "source": [
    "num = 1800\n",
    "num2 = num\n",
    "while num2%10 ==0:\n",
    "    num2 = num2/10\n",
    "num2 = int(num2)\n",
    "reversed1 = str(num2)[::-1]\n",
    "reversed2 = reversed1[::-1]\n",
    "if reversed2 == str(num) :\n",
    "    print('true')\n",
    "else:\n",
    "    print('false')"
   ]
  },
  {
   "cell_type": "code",
   "execution_count": null,
   "id": "04b81c19",
   "metadata": {},
   "outputs": [],
   "source": [
    "words = [\"abc\",\"car\",\"ada\",\"racecar\",\"cool\"]\n",
    "\n",
    "for x in words:\n",
    "    reversed1 = x[::-1]\n",
    "    if x==reversed1:\n",
    "        print(x)\n",
    "        break"
   ]
  },
  {
   "cell_type": "code",
   "execution_count": null,
   "id": "582ad713",
   "metadata": {},
   "outputs": [],
   "source": [
    "x = -123\n",
    "num2 = x\n",
    "if int(str(abs(x))[::-1])> math.pow(2,31):\n",
    "    return 0\n",
    "if x>0:\n",
    "    return int(str(x)[::-1])\n",
    "else:\n",
    "    x = abs(x)\n",
    "    return 0-int(str(x)[::-1])"
   ]
  },
  {
   "cell_type": "code",
   "execution_count": null,
   "id": "eb4b9de7",
   "metadata": {},
   "outputs": [],
   "source": [
    "s = \"0P\"\n",
    "a=s.casefold().replace(\" \",\"\")\n",
    "y = ''\n",
    "for x in a:\n",
    "    if x.isalnum():\n",
    "           y = y+''.join(x)\n",
    "if y == y[::-1]:\n",
    "    print(\"true\")\n",
    "else:\n",
    "    print(\"false\")\n",
    "print(y)\n"
   ]
  },
  {
   "cell_type": "code",
   "execution_count": null,
   "id": "20e05257",
   "metadata": {},
   "outputs": [],
   "source": [
    "rings = \"B0B6G0R6R0R6G9G0\"\n",
    "list1= dict()\n",
    "temp=''\n",
    "for x in rings:\n",
    "    if x.isnumeric():\n",
    "        if list1.get(x):\n",
    "            list2=[]\n",
    "            print(list1[x])\n",
    "            list2 = [y for y in list1[x]]\n",
    "            list1[x]=[list2,temp]\n",
    "        else:\n",
    "            list1[x]=temp\n",
    "    temp = x\n",
    "print(list1)\n",
    "#for y in rings:\n",
    "    "
   ]
  },
  {
   "cell_type": "code",
   "execution_count": null,
   "id": "66add927",
   "metadata": {},
   "outputs": [],
   "source": [
    "car = {\n",
    "  \"brand\": \"Ford\",\n",
    "  \"model\": \"Mustang\",\n",
    "  \"year\": 1964\n",
    "}\n",
    "if car.get(\"color\"):\n",
    "    print(\"true\")\n",
    "else :\n",
    "    print(\"false\")\n",
    "x = car.get(\"color\")\n",
    "print(x)\n",
    "car[\"color\"]=\"White\"\n",
    "car[\"color\"]=[car[\"color\"],\"green\"]\n",
    "print(car)"
   ]
  },
  {
   "cell_type": "code",
   "execution_count": null,
   "id": "dc2445d0",
   "metadata": {},
   "outputs": [],
   "source": [
    "y = [1,2,[3]]\n",
    "[x for x in y]"
   ]
  },
  {
   "cell_type": "code",
   "execution_count": null,
   "id": "f5aa75f5",
   "metadata": {},
   "outputs": [],
   "source": [
    "rings = \"B0B6G0R6R0R6G9G0\"\n",
    "rods = dict()\n",
    "for i in range(0, len(rings), 2):\n",
    "    color, rod = rings[i:i+2]\n",
    "    rods[rod]=''\n",
    "    rods[rod]=(color)\n",
    "print( sum(len(colors) == 3 for colors in rods.values()))"
   ]
  },
  {
   "cell_type": "code",
   "execution_count": null,
   "id": "79a830f4",
   "metadata": {},
   "outputs": [],
   "source": [
    "count = 0\n",
    "for rod in '0123456789':\n",
    "    flag = []\n",
    "    for color in 'RGB':\n",
    "        flag.append(color + rod in rings)\n",
    "\n",
    "    # print(flag)\n",
    "    count += all(flag) \n",
    "print(count)"
   ]
  },
  {
   "cell_type": "code",
   "execution_count": null,
   "id": "5a31ff95",
   "metadata": {},
   "outputs": [],
   "source": [
    "words1 = [\"leetcode\",\"is\",\"amazing\",\"as\",\"is\"]\n",
    "words2 = [\"amazing\",\"leetcode\",\"is\"]\n",
    "stack1=[]\n",
    "for x in words1:\n",
    "    count1=words1.count(x)\n",
    "    if x in words2:\n",
    "        count2=words2.count(x)\n",
    "    if count1==count2:\n",
    "        count1=\"\"\n",
    "        count2=\"\"\n",
    "        stack1.append(x)\n",
    "        \n",
    "print(stack1)\n",
    "        \n",
    "    \n",
    "\n"
   ]
  },
  {
   "cell_type": "code",
   "execution_count": null,
   "id": "287dd83e",
   "metadata": {},
   "outputs": [],
   "source": [
    "haystack = \"\"\n",
    "needle = \"\"\n",
    "try:\n",
    "    print(haystack.index(needle))\n",
    "except ValueError:\n",
    "    print(-1)"
   ]
  },
  {
   "cell_type": "code",
   "execution_count": null,
   "id": "f01103f4",
   "metadata": {},
   "outputs": [],
   "source": [
    "import re\n",
    "txt = \"The rain is Spain\"\n",
    "x = re.findall(\"[a-m]\",txt)\n",
    "print(x)\n",
    "txt = \"hello planet\"\n",
    "x = re.findall(\"^hello\", txt)\n",
    "print(x)\n",
    "x = re.findall(\"he.*o\", txt)\n",
    "print(x)\n",
    "x = re.findall(\"he.+o\", txt)\n",
    "print(x)\n",
    "x = re.findall(\"he.?o\", txt)\n",
    "print(x)"
   ]
  },
  {
   "cell_type": "code",
   "execution_count": null,
   "id": "37ec3130",
   "metadata": {},
   "outputs": [],
   "source": [
    "txt = \"The rain in Spain-9_1\"\n",
    "x = re.findall(r\"\\bain\", txt)\n",
    "print(x)\n",
    "x = re.findall(r\"ain\\b\", txt)\n",
    "print(x)"
   ]
  },
  {
   "cell_type": "code",
   "execution_count": null,
   "id": "a8673d5c",
   "metadata": {},
   "outputs": [],
   "source": [
    "x = re.findall(r\"\\Bain\", txt)\n",
    "print(x)"
   ]
  },
  {
   "cell_type": "code",
   "execution_count": null,
   "id": "e7f98f2b",
   "metadata": {},
   "outputs": [],
   "source": [
    "x = re.findall(\"\\d\", txt)\n",
    "print(x)"
   ]
  },
  {
   "cell_type": "code",
   "execution_count": null,
   "id": "c3ce0505",
   "metadata": {},
   "outputs": [],
   "source": [
    "x = re.findall(\"\\D\", txt)\n",
    "print(x)"
   ]
  },
  {
   "cell_type": "code",
   "execution_count": null,
   "id": "571275af",
   "metadata": {},
   "outputs": [],
   "source": [
    "x = re.findall(\"\\s\", txt)\n",
    "print(x)"
   ]
  },
  {
   "cell_type": "code",
   "execution_count": null,
   "id": "4288bd49",
   "metadata": {},
   "outputs": [],
   "source": [
    "x = re.findall(\"\\S\", txt)\n",
    "print(x)"
   ]
  },
  {
   "cell_type": "code",
   "execution_count": null,
   "id": "0d1be6a3",
   "metadata": {},
   "outputs": [],
   "source": [
    "x = re.findall(\"\\w\", txt)\n",
    "print(x)"
   ]
  },
  {
   "cell_type": "code",
   "execution_count": null,
   "id": "1955d195",
   "metadata": {},
   "outputs": [],
   "source": [
    "x = re.findall(\"\\W\", txt)\n",
    "print(x)"
   ]
  },
  {
   "cell_type": "code",
   "execution_count": null,
   "id": "6f1a1c51",
   "metadata": {},
   "outputs": [],
   "source": [
    "x = re.findall(\"Spain-9_1\\Z\", txt)\n",
    "print(x)\n"
   ]
  },
  {
   "cell_type": "code",
   "execution_count": null,
   "id": "a1a67cd8",
   "metadata": {},
   "outputs": [],
   "source": [
    "txt = \"The rain in Spain\"\n",
    "x = re.search(r\"\\bS\\w+\", txt)\n",
    "print(x.span())"
   ]
  },
  {
   "cell_type": "code",
   "execution_count": null,
   "id": "07a5e504",
   "metadata": {},
   "outputs": [],
   "source": [
    "txt = \"The rain in Spain\"\n",
    "x = re.search(r\"\\bS\\w+\", txt)\n",
    "print(x.string)"
   ]
  },
  {
   "cell_type": "code",
   "execution_count": null,
   "id": "93726983",
   "metadata": {},
   "outputs": [],
   "source": [
    "txt = \"The rain in Spain\"\n",
    "x = re.search(r\"\\bS\\w+\", txt)\n",
    "print(x.group())"
   ]
  },
  {
   "cell_type": "code",
   "execution_count": null,
   "id": "10738098",
   "metadata": {},
   "outputs": [],
   "source": [
    "txt = \"abab\"\n",
    "x = bool(re.search(r\"^(\\w+)\\1+$\", txt))\n",
    "print(x)"
   ]
  },
  {
   "cell_type": "code",
   "execution_count": null,
   "id": "6c9b42d7",
   "metadata": {},
   "outputs": [],
   "source": [
    "s = \"ababab\"\n",
    "ss = (s + s)[1:-1]\n",
    "print(ss)\n",
    "print(s in ss)"
   ]
  },
  {
   "cell_type": "code",
   "execution_count": null,
   "id": "71fb3863",
   "metadata": {},
   "outputs": [],
   "source": [
    "n = len(s)\n",
    "print(n)\n",
    "print(n//2+1)\n",
    "for i in range(1, n//2 + 1):\n",
    "    print(i)\n",
    "    print(\"n%i {}\".format(n%i))\n",
    "    print(\"s[:i] {}\".format(s[:i]))\n",
    "    print(\"(n//i) {}\".format((n//i)))\n",
    "    print(\"s[:i] * (n//i) {}\".format(s[:i] * (n//i)))\n",
    "    if n%i == 0 and s[:i] * (n//i) == s:\n",
    "        print(\"inside\")\n",
    "        print(True)"
   ]
  },
  {
   "cell_type": "code",
   "execution_count": null,
   "id": "27e79393",
   "metadata": {},
   "outputs": [],
   "source": [
    "n = len(s)\n",
    "for i in range(1, n):\n",
    "    if n % i == 0:\n",
    "        new_str = s[:i] * (n//i)\n",
    "        if new_str == s:\n",
    "            print(True)\n",
    "print(False)"
   ]
  },
  {
   "cell_type": "code",
   "execution_count": null,
   "id": "5ddee4e7",
   "metadata": {},
   "outputs": [],
   "source": [
    " for i in range(1, len(s)//2+1):\n",
    "    if s[:i] * (len(s)//i) == s:\n",
    "        print(True)"
   ]
  },
  {
   "cell_type": "code",
   "execution_count": null,
   "id": "cc09111c",
   "metadata": {},
   "outputs": [],
   "source": [
    "a = \"abcd\"\n",
    "b = \"cdabcdab\"\n",
    "a = \"a\"\n",
    "b = \"aa\"\n",
    "print(len(b))\n",
    "print(len(a))\n",
    "print(len(b)//len(a))\n",
    "for i in range(1,len(b)//len(a)+2):\n",
    "    print(\"i {}\".format(i))\n",
    "    if b in (a*i):\n",
    "        print(i)\n",
    "    "
   ]
  },
  {
   "cell_type": "code",
   "execution_count": null,
   "id": "5c9b8cfe",
   "metadata": {},
   "outputs": [],
   "source": [
    "s = \"abbbbccccaaa\"\n",
    "z=''\n",
    "p=''\n",
    "for i in range(len(s)):\n",
    "    x = s[i]\n",
    "    for y in s[i:]:\n",
    "        if x>y:\n",
    "            x=y\n",
    "            \n",
    "    z = z+''.join(x)       \n",
    "print(z)        "
   ]
  },
  {
   "cell_type": "code",
   "execution_count": null,
   "id": "feb11c1f",
   "metadata": {},
   "outputs": [],
   "source": [
    "s = \"Hello World\"\n",
    "len(s.split()[-1])"
   ]
  },
  {
   "cell_type": "code",
   "execution_count": null,
   "id": "016982bd",
   "metadata": {},
   "outputs": [],
   "source": [
    "a = \"11\"\n",
    "b = \"1\"\n",
    "print(int(a,2))\n",
    "print(int(b,2))\n",
    "print(int(a,2)+int(b,2))\n",
    "print(bin(int(a,2)+int(b,2))[2:])"
   ]
  },
  {
   "cell_type": "code",
   "execution_count": null,
   "id": "a3dcc6c1",
   "metadata": {},
   "outputs": [],
   "source": [
    "s = \"PAYPALISHIRING\"\n",
    "numRows = 3\n",
    "y = ''\n",
    "stack = dict()\n",
    "for x in s:\n",
    "    for i in (range(3)):\n",
    "        y = y+''.join"
   ]
  },
  {
   "cell_type": "code",
   "execution_count": null,
   "id": "1ebbe597",
   "metadata": {},
   "outputs": [],
   "source": [
    "s = \"()\"\n",
    "stack = []\n",
    "count = 0\n",
    "for x in s:\n",
    "    if x == '(' and count > 0 :\n",
    "        stack.append(x)\n",
    "    if x == ')' and count >1 :\n",
    "        stack.append(x)\n",
    "    if x == ')':\n",
    "        count=count-1\n",
    "    else:\n",
    "        count = count+1\n",
    "print(\"\".join(stack))"
   ]
  },
  {
   "cell_type": "code",
   "execution_count": null,
   "id": "895f21f6",
   "metadata": {},
   "outputs": [],
   "source": [
    "s = \"leetcodeisacommunityforcoders\"\n",
    "stack='aeiou'\n",
    "y = ''\n",
    "for x in s:\n",
    "    if x not in stack:\n",
    "        y=y+''.join(x)\n",
    "print(y)"
   ]
  },
  {
   "cell_type": "code",
   "execution_count": null,
   "id": "cf3276a1",
   "metadata": {},
   "outputs": [],
   "source": [
    "s = \"leetcodeisacommunityforcoders\"\n",
    "y=''\n",
    "print(y+x for x in s if x not in 'aeiou')\n",
    "    "
   ]
  },
  {
   "cell_type": "code",
   "execution_count": null,
   "id": "5badfb8b",
   "metadata": {},
   "outputs": [],
   "source": [
    "s = 'hello'\n",
    "s = list(s)\n",
    "list1=list('aeiou')\n",
    "i,j = 0,len(s)-1\n",
    "while i<j:\n",
    "    if s[i] not in list1:\n",
    "        i=i+1\n",
    "        continue\n",
    "    if s[j] not in list1:\n",
    "        j = j-1\n",
    "        continue\n",
    "    \n",
    "    s[i],s[j] = s[j],s[i]\n",
    "    i = i+1\n",
    "    j = j-1\n",
    "print(''.join(s))"
   ]
  },
  {
   "cell_type": "code",
   "execution_count": null,
   "id": "c26808e8",
   "metadata": {},
   "outputs": [],
   "source": [
    "s = 'hello'\n",
    "s.replace('e','a')\n",
    "print(s.replace('e','a'))\n",
    "print(s)"
   ]
  },
  {
   "cell_type": "code",
   "execution_count": null,
   "id": "d5924d22",
   "metadata": {},
   "outputs": [],
   "source": [
    "keyboard = \"abcdefghijklmnopqrstuvwxyz\"\n",
    "word = \"word\"\n",
    "keyboard = \"pqrstuvwxyzabcdefghijklmno\"\n",
    "word = \"leetcode\"\n",
    "indx1 = 0\n",
    "sum1 = 0\n",
    "for x in word:\n",
    "    indx = keyboard.index(x)\n",
    "    sum1 = sum1+abs(indx-indx1)\n",
    "    indx1 = indx\n",
    "print(sum1)"
   ]
  },
  {
   "cell_type": "code",
   "execution_count": null,
   "id": "ad483629",
   "metadata": {},
   "outputs": [],
   "source": [
    "words = [\"hello\",\"world\",\"leetcode\"]\n",
    "chars = \"welldonehoneyr\"\n",
    "\n",
    "sum1=0\n",
    "for x in  words:\n",
    "    chars1 = list(chars)\n",
    "    flag = 0\n",
    "    for c in x:\n",
    "        if c in chars1:\n",
    "            chars1.remove(c)\n",
    "        else:\n",
    "            flag = 1\n",
    "    if flag == 0:\n",
    "        sum1=sum1+int(len(x))\n",
    "print(sum1)"
   ]
  },
  {
   "cell_type": "code",
   "execution_count": null,
   "id": "78b04e52",
   "metadata": {},
   "outputs": [],
   "source": [
    "\n",
    "chars = list(\"worlld\")\n",
    "chars.remove('l')\n",
    "print(chars)"
   ]
  },
  {
   "cell_type": "code",
   "execution_count": null,
   "id": "8a84919f",
   "metadata": {},
   "outputs": [],
   "source": [
    "str1 = \"ABCABC\"\n",
    "str2 = \"AB\"\n",
    "\n",
    "if str2 in str1:\n",
    "    print(str2)\n",
    "for i in range(len(str2)):\n",
    "    indx=-1*i\n",
    "    if str2[:]"
   ]
  },
  {
   "cell_type": "code",
   "execution_count": null,
   "id": "807dcff3",
   "metadata": {},
   "outputs": [],
   "source": [
    "str1 = \"ABCABC\"\n",
    "str2 = \"ABC\"\n",
    "str2[:-1]\n",
    "if str2 in str1:\n",
    "    print(str2)"
   ]
  },
  {
   "cell_type": "code",
   "execution_count": null,
   "id": "5bb4d1fd",
   "metadata": {},
   "outputs": [],
   "source": [
    "columnNumber = 26\n",
    "y =chr(64+columnNumber)\n",
    "print(y)"
   ]
  },
  {
   "cell_type": "code",
   "execution_count": null,
   "id": "4ed2d184",
   "metadata": {},
   "outputs": [],
   "source": [
    "pow(2,31)-1"
   ]
  },
  {
   "cell_type": "code",
   "execution_count": null,
   "id": "7a553fee",
   "metadata": {},
   "outputs": [],
   "source": [
    "n = 701\n",
    "s = ''\n",
    "while n > 0:\n",
    "    remainder = n%26\n",
    "    print('n {}'.format(n))\n",
    "    print(\"remainder {}\".format(remainder))\n",
    "    if remainder == 0: remainder = 26\n",
    "    s = chr(64+remainder)+s\n",
    "    n = (n-remainder)//26\n",
    "    print(s)\n",
    "print(s)"
   ]
  },
  {
   "cell_type": "code",
   "execution_count": null,
   "id": "1a442b49",
   "metadata": {},
   "outputs": [],
   "source": [
    "columnTitle = \"ZY\"\n",
    "length = len(columnTitle)\n",
    "number = (length-1)*26\n",
    "print(number)\n",
    "x,y = divmod(ord(columnTitle[-1]),65)\n",
    "print(x)\n",
    "print(y)\n",
    "print(x+y+number)"
   ]
  },
  {
   "cell_type": "code",
   "execution_count": null,
   "id": "17964e6b",
   "metadata": {},
   "outputs": [],
   "source": [
    "columnTitle = \"AAA\"\n",
    "length = len(columnTitle)\n",
    "number =0\n",
    "for z in columnTitle:\n",
    "    x,y = divmod(ord(z),65)\n",
    "    if length < 2:\n",
    "        number = number +(x+y)\n",
    "    else:\n",
    "        length = length -1\n",
    "        number = number+pow(26,length)*(x+y)               \n",
    "print(number)"
   ]
  },
  {
   "cell_type": "code",
   "execution_count": null,
   "id": "e0237548",
   "metadata": {},
   "outputs": [],
   "source": [
    "wordsDict = [\"practice\", \"makes\", \"perfect\", \"coding\", \"makes\"]\n",
    "word1 = \"coding\"\n",
    "word2 = \"practice\" \n",
    "word2 = \"makes\""
   ]
  },
  {
   "cell_type": "code",
   "execution_count": null,
   "id": "e10c77cc",
   "metadata": {},
   "outputs": [],
   "source": [
    "wordsDict.index(word2)\n",
    "wordsDict.index(word1)\n",
    "wordsDict.index(word3)\n",
    "wordsDict.count(word3)"
   ]
  },
  {
   "cell_type": "code",
   "execution_count": null,
   "id": "e0729150",
   "metadata": {},
   "outputs": [],
   "source": [
    "indx = 0\n",
    "list1 = []\n",
    "list2 = []\n",
    "for i in range(wordsDict.count(word3)):\n",
    "    indx=wordsDict.index(word3,indx)\n",
    "    list1.append(indx)\n",
    "    indx=indx+1\n",
    "indx = 0   \n",
    "for i in range(wordsDict.count(word2)):\n",
    "    indx=wordsDict.index(word2,indx)\n",
    "    list2.append(indx)\n",
    "    indx=indx+1\n",
    "temp = 0\n",
    "print(min([abs(x-y) for x in list1 for y in list2]))"
   ]
  },
  {
   "cell_type": "code",
   "execution_count": null,
   "id": "0f1ea993",
   "metadata": {},
   "outputs": [],
   "source": [
    "from collections import defaultdict\n",
    "d = defaultdict(list)\n",
    "for index, value in enumerate(wordsDict):\n",
    "     if value == word1 or value == word2:\n",
    "            d[value].append(index)\n",
    "\n",
    "print(d)\n",
    "distance=[]\n",
    "print(d[word1])\n",
    "print(d[word2])\n",
    "for i in d[word1]:\n",
    "    for j in d[word2]:\n",
    "        distance.append(abs(i-j))\n",
    "print(min(distance))\n"
   ]
  },
  {
   "cell_type": "code",
   "execution_count": null,
   "id": "a8b8aec2",
   "metadata": {},
   "outputs": [],
   "source": [
    "pattern = \"abba\"\n",
    "s = \"dog dog dog dog\"\n",
    "pattern=\"jquery\"\n",
    "s=\"jquery\"\n",
    "list1=list(s.split())\n",
    "pat = dict()\n",
    "if(len(pattern)==len(list1)):\n",
    "    for i in range(len(list1)):\n",
    "        if pattern[i] not in pat.keys() and list1[i] not in pat.values():\n",
    "            pat[pattern[i]]=list1[i] \n",
    "    list2 = []\n",
    "    for x in pattern:\n",
    "        list2.append(pat.get(x))\n",
    "    print(pat)\n",
    "    print(list2)\n",
    "    if list1==list2:\n",
    "        print(True)\n",
    "    else:\n",
    "        print(False)\n",
    "else:\n",
    "    print(False)"
   ]
  },
  {
   "cell_type": "code",
   "execution_count": null,
   "id": "3872eb8f",
   "metadata": {},
   "outputs": [],
   "source": [
    "s.replace('dog','a')"
   ]
  },
  {
   "cell_type": "code",
   "execution_count": null,
   "id": "8de28212",
   "metadata": {},
   "outputs": [],
   "source": [
    "s = [\"h\",\"e\",\"l\",\"l\",\"o\"]\n",
    "for i in range((len(s)//2)):\n",
    "    temp = s[i]\n",
    "    s[i]=s[-1*i-1]\n",
    "    s[-1*i-1]=temp\n",
    "print(s)"
   ]
  },
  {
   "cell_type": "code",
   "execution_count": null,
   "id": "a0bc9daa",
   "metadata": {},
   "outputs": [],
   "source": [
    "s = \"abcdefg\"\n",
    "k = 2\n",
    "indx = 0\n",
    "y = s[indx:k*2]\n",
    "indx= k*2+1\n",
    "print(y)\n",
    "print(y[:k][::-1]+y[k:])\n",
    "y=''\n",
    "y = s[indx:k*2]\n",
    "print(y)\n",
    "s[::-1]\n",
    "    "
   ]
  },
  {
   "cell_type": "code",
   "execution_count": null,
   "id": "c0d6e67c",
   "metadata": {},
   "outputs": [],
   "source": [
    "s = \"abcdefg\"\n",
    "k = 3\n",
    "list1 = []\n",
    "i = 0\n",
    "p = 0\n",
    "while i <len(s):\n",
    "    p = p+k*2\n",
    "    list1.append(s[i:p])\n",
    "    i = p\n",
    "temp = ''\n",
    "for x in list1:\n",
    "    y = x[:k][::-1]+x[k:]\n",
    "    y = temp+''.join(y)\n",
    "    temp = y\n",
    "print(y)\n",
    "#for x in range(len(s)):\n",
    "    "
   ]
  },
  {
   "cell_type": "code",
   "execution_count": null,
   "id": "03b15f5e",
   "metadata": {},
   "outputs": [],
   "source": [
    "s = \"leEeetcode\"\n",
    "s='abBAcC'\n",
    "s=\"Pp\"\n",
    "s =\"mC\"\n",
    "list1 = []\n",
    "list1[:0]=s\n",
    "stack = []\n",
    "upper=''\n",
    "temp = ''\n",
    "for indx,x in enumerate(list1):\n",
    "    if x.isupper():\n",
    "        if not stack:\n",
    "            stack.append(x)\n",
    "            pass\n",
    "        else:\n",
    "            temp = stack.pop()\n",
    "        if temp.upper()!= x:\n",
    "            stack.append(temp)\n",
    "            upper=x\n",
    "            \n",
    "    else:\n",
    "        stack.append(x)\n",
    "        if upper != x.upper():\n",
    "            stack.append(x)\n",
    "        upper = ''\n",
    "print(stack)"
   ]
  },
  {
   "cell_type": "code",
   "execution_count": null,
   "id": "db913324",
   "metadata": {},
   "outputs": [],
   "source": [
    "s =\"mMCDMm\"\n",
    "##s=\"mC\"\n",
    "\n",
    "##s=\"kkdsFuqUfSDKK\"\n",
    "list1 = []\n",
    "list1[:0]=s\n",
    "stack = []\n",
    "temp = ''\n",
    "for indx,x in enumerate(list1):\n",
    "    if not stack:\n",
    "        stack.append(x)\n",
    "    else:\n",
    "        temp = stack.pop()\n",
    "        if (temp.islower() and x.isupper() and temp.upper()== x) or(temp.isupper() and x.islower() and temp==x.upper()):\n",
    "            pass\n",
    "        else:\n",
    "            stack.append(temp)\n",
    "            stack.append(x)            \n",
    "print(''.join(stack))"
   ]
  },
  {
   "cell_type": "code",
   "execution_count": null,
   "id": "94a7f95e",
   "metadata": {},
   "outputs": [],
   "source": [
    "words1 = [\"leetcode\",\"is\",\"amazing\",\"as\",\"is\"]\n",
    "words2 = [\"amazing\",\"leetcode\",\"is\"]\n",
    "count = 0\n",
    "for x in words1:\n",
    "    if x in words2:\n",
    "        if words1.count(x) == 1 and words2.count(x) == 1:\n",
    "            count = count+1\n",
    "print(count)"
   ]
  },
  {
   "cell_type": "code",
   "execution_count": null,
   "id": "3a54b866",
   "metadata": {},
   "outputs": [],
   "source": [
    "arr = [\"d\",\"b\",\"c\",\"b\",\"c\",\"a\"]\n",
    "k = 2\n",
    "arr = [\"aaa\",\"aa\",\"a\"]\n",
    "k = 1\n",
    "arr = [\"a\",\"b\",\"a\"]\n",
    "k = 3\n",
    "count = 0\n",
    "for x in arr:\n",
    "    if arr.count(x) == 1:\n",
    "        count = count+1\n",
    "        \n",
    "    if count == k:\n",
    "        print(x)\n",
    "        break;\n",
    "print(\"\")"
   ]
  },
  {
   "cell_type": "code",
   "execution_count": null,
   "id": "234cae26",
   "metadata": {},
   "outputs": [],
   "source": [
    "ransomNote = \"a\"\n",
    "magazine = \"b\"\n",
    "ransomNote = \"aa\"\n",
    "magazine = \"ab\"\n",
    "ransomNote = \"aa\"\n",
    "magazine = \"aab\"\n",
    "flag = 0\n",
    "for x in ransomNote:\n",
    "    if x in ransomNote and magazine.count(x)>=ransomNote.count(x):\n",
    "        pass\n",
    "    else:\n",
    "        flag = 1\n",
    "        print(False)\n",
    "if flag == 0:\n",
    "    print(True)"
   ]
  },
  {
   "cell_type": "code",
   "execution_count": null,
   "id": "d09149c3",
   "metadata": {},
   "outputs": [],
   "source": [
    "s = \"abcd\"\n",
    "t = \"abcde\"\n",
    "\n",
    "for x in t:\n",
    "    if x not in s and t.count(x)>s.count(x):\n",
    "        print(x)"
   ]
  },
  {
   "cell_type": "code",
   "execution_count": null,
   "id": "afd1ff0b",
   "metadata": {},
   "outputs": [],
   "source": [
    "nums = [2,2,1]\n",
    "nums = [4,1,2,1,2]\n",
    "nums = [1]\n",
    "for x in nums:\n",
    "    if nums.count(x)==1:\n",
    "        print(x)\n",
    "print(\"\")"
   ]
  },
  {
   "cell_type": "code",
   "execution_count": null,
   "id": "fc067abf",
   "metadata": {},
   "outputs": [],
   "source": [
    "s = \"abca\"\n",
    "flag = 0\n",
    "if s == s[::-1]:\n",
    "    print(True)\n",
    "else:\n",
    "    list1 = list(s)\n",
    "    list2 = list(s)\n",
    "    for indx , x in enumerate(list1):\n",
    "        list2.pop(indx)\n",
    "        if ''.join(list2) == ''.join(list2[::-1]):\n",
    "            print(True)\n",
    "            break;\n",
    "        else:\n",
    "            list2 = list(s)"
   ]
  },
  {
   "cell_type": "code",
   "execution_count": null,
   "id": "61a517b3",
   "metadata": {},
   "outputs": [],
   "source": [
    "s = \"abca\"\n",
    "list1=list(s)\n",
    "list1\n",
    "list1.remove('a')\n",
    "list1.remove('b')\n",
    "list1[::-1]"
   ]
  },
  {
   "cell_type": "code",
   "execution_count": null,
   "id": "5863e940",
   "metadata": {},
   "outputs": [],
   "source": [
    "s = \"abdefba\"\n",
    "if s == s[::-1]:\n",
    "    print(True)\n",
    "else:\n",
    "    list1 = list(s)\n",
    "    for i in range(len(s)):\n",
    "        print(\"list1[i] {}\".format(list1[i]))\n",
    "        print(\"list1[(-1*i)-1] {}\".format(list1[(-1*i)-1]))\n",
    "        if list1[i] != list1[(-1*i)-1]:\n",
    "            temp = list(s)\n",
    "            print(\"temp {}\".format(temp))\n",
    "            list1.pop(i)\n",
    "            print(\"list1 {}\".format(''.join(list1)))\n",
    "            print(\"list1[::-1] {}\".format(''.join(list1[::-1])))\n",
    "            if ''.join(list1) == ''.join(list1[::-1]):\n",
    "                print(\"inside if\")\n",
    "                print(True)\n",
    "                break\n",
    "            else:\n",
    "                list1 = temp\n",
    "                print(\"temp {}\".format(temp))\n",
    "                print(\"list1 {}\".format(list1))\n",
    "                list1.pop((-1*i)-1)\n",
    "                print(\"list1 {}\".format(list1))\n",
    "                if ''.join(list1)==''.join(list1[::-1]):\n",
    "                    print(True)\n",
    "                    break\n",
    "                else:\n",
    "                    print(False)\n",
    "                    break\n",
    "                \n",
    "            \n",
    "        "
   ]
  },
  {
   "cell_type": "code",
   "execution_count": null,
   "id": "2e7c2878",
   "metadata": {},
   "outputs": [],
   "source": [
    "s = \"abdefba\"\n",
    "if s == s[::-1]:\n",
    "    print(True)\n",
    "else:\n",
    "    list1 = list(s)\n",
    "    for i in range(len(s)):\n",
    "        if list1[i] != list1[(-1*i)-1]:\n",
    "            temp = list(s)\n",
    "            list1.pop(i)\n",
    "            if ''.join(list1) == ''.join(list1[::-1]):\n",
    "                print(True)\n",
    "                break\n",
    "            else:\n",
    "                list1 = temp\n",
    "                list1.pop((-1*i)-1)\n",
    "                if ''.join(list1)==''.join(list1[::-1]):\n",
    "                    print(True)\n",
    "                    break\n",
    "                else:\n",
    "                    print(False)\n",
    "                    break\n",
    "                "
   ]
  },
  {
   "cell_type": "code",
   "execution_count": null,
   "id": "7d0b7f3f",
   "metadata": {},
   "outputs": [],
   "source": [
    "s = \"abcbca\"\n",
    "list1= list(s)\n",
    "list1[-1]\n",
    "list1.pop(-2)\n",
    "list1"
   ]
  },
  {
   "cell_type": "code",
   "execution_count": null,
   "id": "c1987c04",
   "metadata": {},
   "outputs": [],
   "source": [
    "command = \"G()(al)\"\n",
    "list1 = []\n",
    "i =0\n",
    "while i < len(command):\n",
    "    if command[i] =='G':\n",
    "        list1.append('G')\n",
    "        i = i+1\n",
    "    elif command[i] == '(' and command[i+1] ==')':\n",
    "        list1.append('o')\n",
    "        i = i+2\n",
    "    elif command[i] == '(' and command[i+1] =='a':\n",
    "        list1.append('al')\n",
    "        i = i+4\n",
    "print(''.join(list1))"
   ]
  },
  {
   "cell_type": "code",
   "execution_count": null,
   "id": "49944c47",
   "metadata": {},
   "outputs": [],
   "source": [
    "word = \"abcdefd\"\n",
    "ch = \"z\"\n",
    "\n",
    "indx = word.find(ch)\n",
    "word[:indx+1][::-1]+word[indx+1:]"
   ]
  },
  {
   "cell_type": "code",
   "execution_count": null,
   "id": "273f95e9",
   "metadata": {},
   "outputs": [],
   "source": [
    "s = \"1 box has 3 blue 2 red 6 green and 12 yellow marbles\"\n",
    "list1=s.split()\n",
    "temp = 0\n",
    "for x in list1:\n",
    "    if x.isnumeric():\n",
    "        if  int(x)>temp :\n",
    "            temp = int(x)\n",
    "        else:\n",
    "            print(False)\n",
    "            break;\n",
    "print(True)"
   ]
  },
  {
   "cell_type": "code",
   "execution_count": null,
   "id": "c1d7b23d",
   "metadata": {},
   "outputs": [],
   "source": [
    "sentence = \"cat! and  dog\"\n",
    "list1 = sentence.split()\n",
    "punctuation = ['!', '.', ',']\n",
    "count=0\n",
    "print(list1)\n",
    "for x in list1:\n",
    "    print(x)\n",
    "    if x.isnumeric() or x.isalpha() or x.isalnum():\n",
    "        print(\"inside\")\n",
    "        count = count+1\n",
    "    #elif x.find('!')> 0 and x.count('!')==1 and x.endswith('!'):\n",
    "       # print(\"inside   2\")\n",
    "        #count=count+1    \n",
    "    elif ((x.count('-')==1) and not (x.startswith('-') or x.endswith('-'))) and (x.find('!')> 0 and x.count('!')==1 and x.endswith('!')):\n",
    "        print(\"inside 1\")\n",
    "        count=count+1\n",
    "    \n",
    "print(count)"
   ]
  },
  {
   "cell_type": "code",
   "execution_count": null,
   "id": "29766e7b",
   "metadata": {},
   "outputs": [],
   "source": [
    "or x.find('.')>0 or x.find(',')>0) and (x.endswith('!') or x.endswith('.') or x.endswith(',')) and (x.count('!')==1 or x.count('.')==1 or x.count(',')==1):\n",
    "        print(\"inside   2\")"
   ]
  },
  {
   "cell_type": "code",
   "execution_count": null,
   "id": "35fefa1d",
   "metadata": {},
   "outputs": [],
   "source": [
    "s = 'ab'\n",
    "print(s.find('-'))\n",
    "if s.find('-'):\n",
    "    print(\"inside\")"
   ]
  },
  {
   "cell_type": "code",
   "execution_count": null,
   "id": "7f5f8739",
   "metadata": {},
   "outputs": [],
   "source": [
    "list1 = ['a-b','abd']\n",
    "for x in list1:\n",
    "    print(x)\n",
    "    if x.isalnum() or x.isnumeric() or x.isalpha():\n",
    "        print(True)"
   ]
  },
  {
   "cell_type": "code",
   "execution_count": null,
   "id": "bc497576",
   "metadata": {},
   "outputs": [],
   "source": [
    "words = [\"bella\",\"label\",\"roller\"]\n",
    "from collections import Counter\n",
    "c = collections.Counter(words[0])\n",
    "for i in range(1,len(words)):\n",
    "    c = c & collections.Counter(words[i])\n",
    "print(c)\n",
    "print(list(c.elements()))      "
   ]
  },
  {
   "cell_type": "code",
   "execution_count": null,
   "id": "57824d0e",
   "metadata": {},
   "outputs": [],
   "source": [
    "import re\n",
    "text = \"thestoryofleetcodeandme\"\n",
    "words = [\"story\",\"fleet\",\"leetcode\"]\n",
    "text = \"ababa\"\n",
    "words = [\"aba\",\"ab\"]\n",
    "list1=[]\n",
    "list2=[]\n",
    "for x in words:\n",
    "    list2=[]\n",
    "    for i in range(len(text)):\n",
    "        y=re.search(x,text[i:],2)\n",
    "        if y is not None:\n",
    "            print(x)\n",
    "            print(y.start())\n",
    "            print(y.end())\n",
    "    #list2.append(y.start())\n",
    "    #list2.append(y.end()-1)\n",
    "    #list1.append(list2)\n",
    "print(list1)"
   ]
  },
  {
   "cell_type": "code",
   "execution_count": null,
   "id": "d4bec2be",
   "metadata": {},
   "outputs": [],
   "source": [
    "text = \"ababa\"\n",
    "words = [\"aba\",\"ab\"]\n",
    "list2=[]\n",
    "for x in words:\n",
    "    i=0\n",
    "    length = len(x)\n",
    "    while i < len(text):\n",
    "        list1 = []\n",
    "        y = text.find(x,i)\n",
    "        if y is -1:\n",
    "            i = i+1\n",
    "        else:\n",
    "            list1.append(y)\n",
    "            list1.append(y+length)\n",
    "            i = y+1\n",
    "        if not list1:\n",
    "            pass\n",
    "        else:\n",
    "            list2.append(list1)\n",
    "print(sorted(list2))"
   ]
  },
  {
   "cell_type": "code",
   "execution_count": null,
   "id": "13791e1d",
   "metadata": {},
   "outputs": [],
   "source": [
    "text = \"ababa\"\n",
    "y = text.find(\"aba\",0)\n",
    "y"
   ]
  },
  {
   "cell_type": "code",
   "execution_count": null,
   "id": "115959f7",
   "metadata": {},
   "outputs": [],
   "source": [
    "list1 = []\n",
    "list1.append(0)\n",
    "list1"
   ]
  },
  {
   "cell_type": "code",
   "execution_count": null,
   "id": "35494a7c",
   "metadata": {},
   "outputs": [],
   "source": [
    "strs = [\"cba\",\"daf\",\"ghi\"]\n",
    "strs = [\"a\",\"b\"]\n",
    "strs = [\"zyx\",\"wvu\",\"tsr\"]\n",
    "list1=[]\n",
    "for i in range(len(strs[0])):\n",
    "    temp = strs[0][i]\n",
    "    for x in strs[1:]:\n",
    "        if temp>x[i]:\n",
    "            list1.append(i)\n",
    "            break\n",
    "        else :\n",
    "            temp = x[i]\n",
    "print(len(list1))        "
   ]
  },
  {
   "cell_type": "code",
   "execution_count": null,
   "id": "332519f7",
   "metadata": {},
   "outputs": [],
   "source": [
    "strs = [\"cba\",\"daf\",\"ghi\"]\n",
    "strs[1:]"
   ]
  },
  {
   "cell_type": "code",
   "execution_count": null,
   "id": "502a4c92",
   "metadata": {},
   "outputs": [],
   "source": [
    "weight = [100,200,150,1000]\n",
    "weight = sorted(weight)\n",
    "print(weight)\n",
    "sum1 = 0\n",
    "count = 0\n",
    "for x in weight:\n",
    "    if sum1+x <= 5000:\n",
    "        sum1 = sum1+x\n",
    "        count = count+1\n",
    "print(sum1)\n",
    "print(count)"
   ]
  },
  {
   "cell_type": "code",
   "execution_count": null,
   "id": "9f2ff4d7",
   "metadata": {},
   "outputs": [],
   "source": [
    "s = \"abccccdd\"\n",
    "s = \"bb\"\n",
    "s = \"a\"\n",
    "s = \"jglknendplocymmvwtoxvebkekzfdhykknufqdkntnqvgfbahsljkobhbxkvyictzkqjqydczuxjkgecdyhixdttxfqmgksrkyvopwprsgoszftuhawflzjyuyrujrxluhzjvbflxgcovilthvuihzttzithnsqbdxtafxrfrblulsakrahulwthhbjcslceewxfxtavljpimaqqlcbrdgtgjryjytgxljxtravwdlnrrauxplempnbfeusgtqzjtzshwieutxdytlrrqvyemlyzolhbkzhyfyttevqnfvmpqjngcnazmaagwihxrhmcibyfkccyrqwnzlzqeuenhwlzhbxqxerfifzncimwqsfatudjihtumrtjtggzleovihifxufvwqeimbxvzlxwcsknksogsbwwdlwulnetdysvsfkonggeedtshxqkgbhoscjgpiel\"\n",
    "y = collections.Counter(s)\n",
    "print(y)\n",
    "sum1=0\n",
    "flag = 0\n",
    "flag1=0\n",
    "if s ==s[::-1]:\n",
    "    print(len(s))\n",
    "for num in y.values():\n",
    "    print(\"num {}\".format(num))\n",
    "    if num%2==0:\n",
    "        print(\"num: {}\".format(num))\n",
    "        sum1 = sum1+num\n",
    "        print(\"sum1: {}\".format(sum1))\n",
    "    else:\n",
    "        if num >1:\n",
    "            flag1 =1\n",
    "            print(\"num odd: {}\".format(num))\n",
    "            sum1 = sum1+(num-1)\n",
    "            print(\"sum1 odd: {}\".format(sum1))\n",
    "        else:\n",
    "            if flag ==0:\n",
    "                sum1=sum1+1\n",
    "                print(\"sum1 1: {}\".format(sum1))\n",
    "                flag=1\n",
    "if flag==0 and flag1==1:\n",
    "    sum1=sum1+1\n",
    "\n",
    "print(sum1)\n",
    "            \n"
   ]
  },
  {
   "cell_type": "code",
   "execution_count": 9,
   "id": "87b216a8",
   "metadata": {},
   "outputs": [
    {
     "name": "stdout",
     "output_type": "stream",
     "text": [
      "True\n"
     ]
    }
   ],
   "source": [
    "s = \"code\"\n",
    "s = \"aab\"\n",
    "s = \"carerac\"\n",
    "import collections\n",
    "y = collections.Counter(s)\n",
    "count=0\n",
    "for x in y.values():\n",
    "    if x%2!=0:\n",
    "        count = count+1\n",
    "    if count==2:\n",
    "        print(False)\n",
    "        break;\n",
    "print(True)"
   ]
  },
  {
   "cell_type": "code",
   "execution_count": 20,
   "id": "3bf6fdcc",
   "metadata": {},
   "outputs": [
    {
     "name": "stdout",
     "output_type": "stream",
     "text": [
      "False\n"
     ]
    }
   ],
   "source": [
    "word = \"aS\"\n",
    "if word.isupper() or word.istitle() or word.islower():\n",
    "    print(True)\n",
    "else:\n",
    "    print(False)"
   ]
  },
  {
   "cell_type": "code",
   "execution_count": null,
   "id": "b75586a3",
   "metadata": {},
   "outputs": [],
   "source": []
  }
 ],
 "metadata": {
  "kernelspec": {
   "display_name": "Python 3 (ipykernel)",
   "language": "python",
   "name": "python3"
  },
  "language_info": {
   "codemirror_mode": {
    "name": "ipython",
    "version": 3
   },
   "file_extension": ".py",
   "mimetype": "text/x-python",
   "name": "python",
   "nbconvert_exporter": "python",
   "pygments_lexer": "ipython3",
   "version": "3.7.6"
  }
 },
 "nbformat": 4,
 "nbformat_minor": 5
}
