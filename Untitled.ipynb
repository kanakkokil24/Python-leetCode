{
 "cells": [
  {
   "cell_type": "code",
   "execution_count": null,
   "id": "c88529b4",
   "metadata": {},
   "outputs": [],
   "source": [
    "num = 1800\n",
    "num2 = num\n",
    "while num2%10 ==0:\n",
    "    num2 = num2/10\n",
    "num2 = int(num2)\n",
    "reversed1 = str(num2)[::-1]\n",
    "reversed2 = reversed1[::-1]\n",
    "if reversed2 == str(num) :\n",
    "    print('true')\n",
    "else:\n",
    "    print('false')"
   ]
  },
  {
   "cell_type": "code",
   "execution_count": null,
   "id": "33cddd2a",
   "metadata": {},
   "outputs": [],
   "source": [
    "words = [\"abc\",\"car\",\"ada\",\"racecar\",\"cool\"]\n",
    "\n",
    "for x in words:\n",
    "    reversed1 = x[::-1]\n",
    "    if x==reversed1:\n",
    "        print(x)\n",
    "        break"
   ]
  },
  {
   "cell_type": "code",
   "execution_count": null,
   "id": "654b17e8",
   "metadata": {},
   "outputs": [],
   "source": [
    "x = -123\n",
    "num2 = x\n",
    "if int(str(abs(x))[::-1])> math.pow(2,31):\n",
    "    return 0\n",
    "if x>0:\n",
    "    return int(str(x)[::-1])\n",
    "else:\n",
    "    x = abs(x)\n",
    "    return 0-int(str(x)[::-1])"
   ]
  },
  {
   "cell_type": "code",
   "execution_count": null,
   "id": "63f5bf59",
   "metadata": {},
   "outputs": [],
   "source": [
    "s = \"0P\"\n",
    "a=s.casefold().replace(\" \",\"\")\n",
    "y = ''\n",
    "for x in a:\n",
    "    if x.isalnum():\n",
    "           y = y+''.join(x)\n",
    "if y == y[::-1]:\n",
    "    print(\"true\")\n",
    "else:\n",
    "    print(\"false\")\n",
    "print(y)\n"
   ]
  },
  {
   "cell_type": "code",
   "execution_count": null,
   "id": "e8d70615",
   "metadata": {},
   "outputs": [],
   "source": [
    "rings = \"B0B6G0R6R0R6G9G0\"\n",
    "list1= dict()\n",
    "temp=''\n",
    "for x in rings:\n",
    "    if x.isnumeric():\n",
    "        if list1.get(x):\n",
    "            list2=[]\n",
    "            print(list1[x])\n",
    "            list2 = [y for y in list1[x]]\n",
    "            list1[x]=[list2,temp]\n",
    "        else:\n",
    "            list1[x]=temp\n",
    "    temp = x\n",
    "print(list1)\n",
    "#for y in rings:\n",
    "    "
   ]
  },
  {
   "cell_type": "code",
   "execution_count": null,
   "id": "3f034c3a",
   "metadata": {},
   "outputs": [],
   "source": [
    "car = {\n",
    "  \"brand\": \"Ford\",\n",
    "  \"model\": \"Mustang\",\n",
    "  \"year\": 1964\n",
    "}\n",
    "if car.get(\"color\"):\n",
    "    print(\"true\")\n",
    "else :\n",
    "    print(\"false\")\n",
    "x = car.get(\"color\")\n",
    "print(x)\n",
    "car[\"color\"]=\"White\"\n",
    "car[\"color\"]=[car[\"color\"],\"green\"]\n",
    "print(car)"
   ]
  },
  {
   "cell_type": "code",
   "execution_count": null,
   "id": "83c831f3",
   "metadata": {},
   "outputs": [],
   "source": [
    "y = [1,2,[3]]\n",
    "[x for x in y]"
   ]
  },
  {
   "cell_type": "code",
   "execution_count": null,
   "id": "45c0cea0",
   "metadata": {},
   "outputs": [],
   "source": [
    "rings = \"B0B6G0R6R0R6G9G0\"\n",
    "rods = dict()\n",
    "for i in range(0, len(rings), 2):\n",
    "    color, rod = rings[i:i+2]\n",
    "    rods[rod]=''\n",
    "    rods[rod]=(color)\n",
    "print( sum(len(colors) == 3 for colors in rods.values()))"
   ]
  },
  {
   "cell_type": "code",
   "execution_count": null,
   "id": "b5180d97",
   "metadata": {},
   "outputs": [],
   "source": [
    "count = 0\n",
    "for rod in '0123456789':\n",
    "    flag = []\n",
    "    for color in 'RGB':\n",
    "        flag.append(color + rod in rings)\n",
    "\n",
    "    # print(flag)\n",
    "    count += all(flag) \n",
    "print(count)"
   ]
  },
  {
   "cell_type": "code",
   "execution_count": null,
   "id": "6154e39e",
   "metadata": {},
   "outputs": [],
   "source": [
    "words1 = [\"leetcode\",\"is\",\"amazing\",\"as\",\"is\"]\n",
    "words2 = [\"amazing\",\"leetcode\",\"is\"]\n",
    "stack1=[]\n",
    "for x in words1:\n",
    "    count1=words1.count(x)\n",
    "    if x in words2:\n",
    "        count2=words2.count(x)\n",
    "    if count1==count2:\n",
    "        count1=\"\"\n",
    "        count2=\"\"\n",
    "        stack1.append(x)\n",
    "        \n",
    "print(stack1)\n",
    "        \n",
    "    \n",
    "\n"
   ]
  },
  {
   "cell_type": "code",
   "execution_count": null,
   "id": "d1561e35",
   "metadata": {},
   "outputs": [],
   "source": [
    "haystack = \"\"\n",
    "needle = \"\"\n",
    "try:\n",
    "    print(haystack.index(needle))\n",
    "except ValueError:\n",
    "    print(-1)"
   ]
  },
  {
   "cell_type": "code",
   "execution_count": null,
   "id": "999a1a5e",
   "metadata": {},
   "outputs": [],
   "source": [
    "import re\n",
    "txt = \"The rain is Spain\"\n",
    "x = re.findall(\"[a-m]\",txt)\n",
    "print(x)\n",
    "txt = \"hello planet\"\n",
    "x = re.findall(\"^hello\", txt)\n",
    "print(x)\n",
    "x = re.findall(\"he.*o\", txt)\n",
    "print(x)\n",
    "x = re.findall(\"he.+o\", txt)\n",
    "print(x)\n",
    "x = re.findall(\"he.?o\", txt)\n",
    "print(x)"
   ]
  },
  {
   "cell_type": "code",
   "execution_count": null,
   "id": "a8432be1",
   "metadata": {},
   "outputs": [],
   "source": [
    "txt = \"The rain in Spain-9_1\"\n",
    "x = re.findall(r\"\\bain\", txt)\n",
    "print(x)\n",
    "x = re.findall(r\"ain\\b\", txt)\n",
    "print(x)"
   ]
  },
  {
   "cell_type": "code",
   "execution_count": null,
   "id": "5ed98b29",
   "metadata": {},
   "outputs": [],
   "source": [
    "x = re.findall(r\"\\Bain\", txt)\n",
    "print(x)"
   ]
  },
  {
   "cell_type": "code",
   "execution_count": null,
   "id": "23c1fffb",
   "metadata": {},
   "outputs": [],
   "source": [
    "x = re.findall(\"\\d\", txt)\n",
    "print(x)"
   ]
  },
  {
   "cell_type": "code",
   "execution_count": null,
   "id": "986c57f1",
   "metadata": {},
   "outputs": [],
   "source": [
    "x = re.findall(\"\\D\", txt)\n",
    "print(x)"
   ]
  },
  {
   "cell_type": "code",
   "execution_count": null,
   "id": "d6c7c3c6",
   "metadata": {},
   "outputs": [],
   "source": [
    "x = re.findall(\"\\s\", txt)\n",
    "print(x)"
   ]
  },
  {
   "cell_type": "code",
   "execution_count": null,
   "id": "7850cfec",
   "metadata": {},
   "outputs": [],
   "source": [
    "x = re.findall(\"\\S\", txt)\n",
    "print(x)"
   ]
  },
  {
   "cell_type": "code",
   "execution_count": null,
   "id": "d413fd4c",
   "metadata": {},
   "outputs": [],
   "source": [
    "x = re.findall(\"\\w\", txt)\n",
    "print(x)"
   ]
  },
  {
   "cell_type": "code",
   "execution_count": null,
   "id": "e02f6ccb",
   "metadata": {},
   "outputs": [],
   "source": [
    "x = re.findall(\"\\W\", txt)\n",
    "print(x)"
   ]
  },
  {
   "cell_type": "code",
   "execution_count": null,
   "id": "f0cd50f4",
   "metadata": {},
   "outputs": [],
   "source": [
    "x = re.findall(\"Spain-9_1\\Z\", txt)\n",
    "print(x)\n"
   ]
  },
  {
   "cell_type": "code",
   "execution_count": null,
   "id": "14c4c7ec",
   "metadata": {},
   "outputs": [],
   "source": [
    "txt = \"The rain in Spain\"\n",
    "x = re.search(r\"\\bS\\w+\", txt)\n",
    "print(x.span())"
   ]
  },
  {
   "cell_type": "code",
   "execution_count": null,
   "id": "302df297",
   "metadata": {},
   "outputs": [],
   "source": [
    "txt = \"The rain in Spain\"\n",
    "x = re.search(r\"\\bS\\w+\", txt)\n",
    "print(x.string)"
   ]
  },
  {
   "cell_type": "code",
   "execution_count": null,
   "id": "f09cd4eb",
   "metadata": {},
   "outputs": [],
   "source": [
    "txt = \"The rain in Spain\"\n",
    "x = re.search(r\"\\bS\\w+\", txt)\n",
    "print(x.group())"
   ]
  },
  {
   "cell_type": "code",
   "execution_count": null,
   "id": "b94b94c3",
   "metadata": {},
   "outputs": [],
   "source": [
    "txt = \"abab\"\n",
    "x = bool(re.search(r\"^(\\w+)\\1+$\", txt))\n",
    "print(x)"
   ]
  },
  {
   "cell_type": "code",
   "execution_count": null,
   "id": "6f2d4119",
   "metadata": {},
   "outputs": [],
   "source": [
    "s = \"ababab\"\n",
    "ss = (s + s)[1:-1]\n",
    "print(ss)\n",
    "print(s in ss)"
   ]
  },
  {
   "cell_type": "code",
   "execution_count": null,
   "id": "6e011cb1",
   "metadata": {},
   "outputs": [],
   "source": [
    "n = len(s)\n",
    "print(n)\n",
    "print(n//2+1)\n",
    "for i in range(1, n//2 + 1):\n",
    "    print(i)\n",
    "    print(\"n%i {}\".format(n%i))\n",
    "    print(\"s[:i] {}\".format(s[:i]))\n",
    "    print(\"(n//i) {}\".format((n//i)))\n",
    "    print(\"s[:i] * (n//i) {}\".format(s[:i] * (n//i)))\n",
    "    if n%i == 0 and s[:i] * (n//i) == s:\n",
    "        print(\"inside\")\n",
    "        print(True)"
   ]
  },
  {
   "cell_type": "code",
   "execution_count": null,
   "id": "458726a5",
   "metadata": {},
   "outputs": [],
   "source": [
    "n = len(s)\n",
    "for i in range(1, n):\n",
    "    if n % i == 0:\n",
    "        new_str = s[:i] * (n//i)\n",
    "        if new_str == s:\n",
    "            print(True)\n",
    "print(False)"
   ]
  },
  {
   "cell_type": "code",
   "execution_count": null,
   "id": "5bf4e244",
   "metadata": {},
   "outputs": [],
   "source": [
    " for i in range(1, len(s)//2+1):\n",
    "    if s[:i] * (len(s)//i) == s:\n",
    "        print(True)"
   ]
  },
  {
   "cell_type": "code",
   "execution_count": null,
   "id": "c7a56eb6",
   "metadata": {},
   "outputs": [],
   "source": [
    "a = \"abcd\"\n",
    "b = \"cdabcdab\"\n",
    "a = \"a\"\n",
    "b = \"aa\"\n",
    "print(len(b))\n",
    "print(len(a))\n",
    "print(len(b)//len(a))\n",
    "for i in range(1,len(b)//len(a)+2):\n",
    "    print(\"i {}\".format(i))\n",
    "    if b in (a*i):\n",
    "        print(i)\n",
    "    "
   ]
  },
  {
   "cell_type": "code",
   "execution_count": null,
   "id": "51c5d497",
   "metadata": {},
   "outputs": [],
   "source": [
    "s = \"abbbbccccaaa\"\n",
    "z=''\n",
    "p=''\n",
    "for i in range(len(s)):\n",
    "    x = s[i]\n",
    "    for y in s[i:]:\n",
    "        if x>y:\n",
    "            x=y\n",
    "            \n",
    "    z = z+''.join(x)       \n",
    "print(z)        "
   ]
  },
  {
   "cell_type": "code",
   "execution_count": null,
   "id": "24fe6075",
   "metadata": {},
   "outputs": [],
   "source": [
    "s = \"Hello World\"\n",
    "len(s.split()[-1])"
   ]
  },
  {
   "cell_type": "code",
   "execution_count": null,
   "id": "25dc9333",
   "metadata": {},
   "outputs": [],
   "source": [
    "a = \"11\"\n",
    "b = \"1\"\n",
    "print(int(a,2))\n",
    "print(int(b,2))\n",
    "print(int(a,2)+int(b,2))\n",
    "print(bin(int(a,2)+int(b,2))[2:])"
   ]
  },
  {
   "cell_type": "code",
   "execution_count": null,
   "id": "13e9c4e8",
   "metadata": {},
   "outputs": [],
   "source": [
    "s = \"PAYPALISHIRING\"\n",
    "numRows = 3\n",
    "y = ''\n",
    "stack = dict()\n",
    "for x in s:\n",
    "    for i in (range(3)):\n",
    "        y = y+''.join"
   ]
  },
  {
   "cell_type": "code",
   "execution_count": null,
   "id": "35e29c2a",
   "metadata": {},
   "outputs": [],
   "source": [
    "s = \"()\"\n",
    "stack = []\n",
    "count = 0\n",
    "for x in s:\n",
    "    if x == '(' and count > 0 :\n",
    "        stack.append(x)\n",
    "    if x == ')' and count >1 :\n",
    "        stack.append(x)\n",
    "    if x == ')':\n",
    "        count=count-1\n",
    "    else:\n",
    "        count = count+1\n",
    "print(\"\".join(stack))"
   ]
  },
  {
   "cell_type": "code",
   "execution_count": null,
   "id": "f84dbedc",
   "metadata": {},
   "outputs": [],
   "source": [
    "s = \"leetcodeisacommunityforcoders\"\n",
    "stack='aeiou'\n",
    "y = ''\n",
    "for x in s:\n",
    "    if x not in stack:\n",
    "        y=y+''.join(x)\n",
    "print(y)"
   ]
  },
  {
   "cell_type": "code",
   "execution_count": null,
   "id": "2670f817",
   "metadata": {},
   "outputs": [],
   "source": [
    "s = \"leetcodeisacommunityforcoders\"\n",
    "y=''\n",
    "print(y+x for x in s if x not in 'aeiou')\n",
    "    "
   ]
  },
  {
   "cell_type": "code",
   "execution_count": null,
   "id": "63eb4b6e",
   "metadata": {},
   "outputs": [],
   "source": [
    "s = 'hello'\n",
    "s = list(s)\n",
    "list1=list('aeiou')\n",
    "i,j = 0,len(s)-1\n",
    "while i<j:\n",
    "    if s[i] not in list1:\n",
    "        i=i+1\n",
    "        continue\n",
    "    if s[j] not in list1:\n",
    "        j = j-1\n",
    "        continue\n",
    "    \n",
    "    s[i],s[j] = s[j],s[i]\n",
    "    i = i+1\n",
    "    j = j-1\n",
    "print(''.join(s))"
   ]
  },
  {
   "cell_type": "code",
   "execution_count": null,
   "id": "26b9096c",
   "metadata": {},
   "outputs": [],
   "source": [
    "s = 'hello'\n",
    "s.replace('e','a')\n",
    "print(s.replace('e','a'))\n",
    "print(s)"
   ]
  },
  {
   "cell_type": "code",
   "execution_count": null,
   "id": "04ae5798",
   "metadata": {},
   "outputs": [],
   "source": [
    "keyboard = \"abcdefghijklmnopqrstuvwxyz\"\n",
    "word = \"word\"\n",
    "keyboard = \"pqrstuvwxyzabcdefghijklmno\"\n",
    "word = \"leetcode\"\n",
    "indx1 = 0\n",
    "sum1 = 0\n",
    "for x in word:\n",
    "    indx = keyboard.index(x)\n",
    "    sum1 = sum1+abs(indx-indx1)\n",
    "    indx1 = indx\n",
    "print(sum1)"
   ]
  },
  {
   "cell_type": "code",
   "execution_count": null,
   "id": "8a4b8f16",
   "metadata": {},
   "outputs": [],
   "source": [
    "words = [\"hello\",\"world\",\"leetcode\"]\n",
    "chars = \"welldonehoneyr\"\n",
    "\n",
    "sum1=0\n",
    "for x in  words:\n",
    "    chars1 = list(chars)\n",
    "    flag = 0\n",
    "    for c in x:\n",
    "        if c in chars1:\n",
    "            chars1.remove(c)\n",
    "        else:\n",
    "            flag = 1\n",
    "    if flag == 0:\n",
    "        sum1=sum1+int(len(x))\n",
    "print(sum1)"
   ]
  },
  {
   "cell_type": "code",
   "execution_count": null,
   "id": "a6e1208f",
   "metadata": {},
   "outputs": [],
   "source": [
    "\n",
    "chars = list(\"worlld\")\n",
    "chars.remove('l')\n",
    "print(chars)"
   ]
  },
  {
   "cell_type": "code",
   "execution_count": null,
   "id": "08f2bab1",
   "metadata": {},
   "outputs": [],
   "source": [
    "str1 = \"ABCABC\"\n",
    "str2 = \"AB\"\n",
    "\n",
    "if str2 in str1:\n",
    "    print(str2)\n",
    "for i in range(len(str2)):\n",
    "    indx=-1*i\n",
    "    if str2[:]"
   ]
  },
  {
   "cell_type": "code",
   "execution_count": null,
   "id": "4c55ad6b",
   "metadata": {},
   "outputs": [],
   "source": [
    "str1 = \"ABCABC\"\n",
    "str2 = \"ABC\"\n",
    "str2[:-1]\n",
    "if str2 in str1:\n",
    "    print(str2)"
   ]
  },
  {
   "cell_type": "code",
   "execution_count": null,
   "id": "f6ee3a22",
   "metadata": {},
   "outputs": [],
   "source": [
    "columnNumber = 26\n",
    "y =chr(64+columnNumber)\n",
    "print(y)"
   ]
  },
  {
   "cell_type": "code",
   "execution_count": null,
   "id": "13e8df38",
   "metadata": {},
   "outputs": [],
   "source": [
    "pow(2,31)-1"
   ]
  },
  {
   "cell_type": "code",
   "execution_count": null,
   "id": "a794697a",
   "metadata": {},
   "outputs": [],
   "source": [
    "n = 701\n",
    "s = ''\n",
    "while n > 0:\n",
    "    remainder = n%26\n",
    "    print('n {}'.format(n))\n",
    "    print(\"remainder {}\".format(remainder))\n",
    "    if remainder == 0: remainder = 26\n",
    "    s = chr(64+remainder)+s\n",
    "    n = (n-remainder)//26\n",
    "    print(s)\n",
    "print(s)"
   ]
  },
  {
   "cell_type": "code",
   "execution_count": null,
   "id": "7cdd3db6",
   "metadata": {},
   "outputs": [],
   "source": [
    "columnTitle = \"ZY\"\n",
    "length = len(columnTitle)\n",
    "number = (length-1)*26\n",
    "print(number)\n",
    "x,y = divmod(ord(columnTitle[-1]),65)\n",
    "print(x)\n",
    "print(y)\n",
    "print(x+y+number)"
   ]
  },
  {
   "cell_type": "code",
   "execution_count": null,
   "id": "bc64aa10",
   "metadata": {},
   "outputs": [],
   "source": [
    "columnTitle = \"AAA\"\n",
    "length = len(columnTitle)\n",
    "number =0\n",
    "for z in columnTitle:\n",
    "    x,y = divmod(ord(z),65)\n",
    "    if length < 2:\n",
    "        number = number +(x+y)\n",
    "    else:\n",
    "        length = length -1\n",
    "        number = number+pow(26,length)*(x+y)               \n",
    "print(number)"
   ]
  },
  {
   "cell_type": "code",
   "execution_count": null,
   "id": "a32063a9",
   "metadata": {},
   "outputs": [],
   "source": [
    "wordsDict = [\"practice\", \"makes\", \"perfect\", \"coding\", \"makes\"]\n",
    "word1 = \"coding\"\n",
    "word2 = \"practice\" \n",
    "word2 = \"makes\""
   ]
  },
  {
   "cell_type": "code",
   "execution_count": null,
   "id": "1740f841",
   "metadata": {},
   "outputs": [],
   "source": [
    "wordsDict.index(word2)\n",
    "wordsDict.index(word1)\n",
    "wordsDict.index(word3)\n",
    "wordsDict.count(word3)"
   ]
  },
  {
   "cell_type": "code",
   "execution_count": null,
   "id": "4f7c419d",
   "metadata": {},
   "outputs": [],
   "source": [
    "indx = 0\n",
    "list1 = []\n",
    "list2 = []\n",
    "for i in range(wordsDict.count(word3)):\n",
    "    indx=wordsDict.index(word3,indx)\n",
    "    list1.append(indx)\n",
    "    indx=indx+1\n",
    "indx = 0   \n",
    "for i in range(wordsDict.count(word2)):\n",
    "    indx=wordsDict.index(word2,indx)\n",
    "    list2.append(indx)\n",
    "    indx=indx+1\n",
    "temp = 0\n",
    "print(min([abs(x-y) for x in list1 for y in list2]))"
   ]
  },
  {
   "cell_type": "code",
   "execution_count": null,
   "id": "7e4de511",
   "metadata": {},
   "outputs": [],
   "source": [
    "from collections import defaultdict\n",
    "d = defaultdict(list)\n",
    "for index, value in enumerate(wordsDict):\n",
    "     if value == word1 or value == word2:\n",
    "            d[value].append(index)\n",
    "\n",
    "print(d)\n",
    "distance=[]\n",
    "print(d[word1])\n",
    "print(d[word2])\n",
    "for i in d[word1]:\n",
    "    for j in d[word2]:\n",
    "        distance.append(abs(i-j))\n",
    "print(min(distance))\n"
   ]
  },
  {
   "cell_type": "code",
   "execution_count": null,
   "id": "86a1eb16",
   "metadata": {},
   "outputs": [],
   "source": [
    "pattern = \"abba\"\n",
    "s = \"dog dog dog dog\"\n",
    "pattern=\"jquery\"\n",
    "s=\"jquery\"\n",
    "list1=list(s.split())\n",
    "pat = dict()\n",
    "if(len(pattern)==len(list1)):\n",
    "    for i in range(len(list1)):\n",
    "        if pattern[i] not in pat.keys() and list1[i] not in pat.values():\n",
    "            pat[pattern[i]]=list1[i] \n",
    "            print(pat)\n",
    "    list2 = []\n",
    "    for x in pattern:\n",
    "        list2.append(pat.get(x))\n",
    "    print(pat)\n",
    "    print(list2)\n",
    "    if list1==list2:\n",
    "        print(True)\n",
    "    else:\n",
    "        print(False)\n",
    "else:\n",
    "    print(False)"
   ]
  },
  {
   "cell_type": "code",
   "execution_count": null,
   "id": "b6dea784",
   "metadata": {},
   "outputs": [],
   "source": [
    "s.replace('dog','a')"
   ]
  },
  {
   "cell_type": "code",
   "execution_count": null,
   "id": "1d4f0c2f",
   "metadata": {},
   "outputs": [],
   "source": [
    "s = [\"h\",\"e\",\"l\",\"l\",\"o\"]\n",
    "for i in range((len(s)//2)):\n",
    "    temp = s[i]\n",
    "    s[i]=s[-1*i-1]\n",
    "    s[-1*i-1]=temp\n",
    "print(s)"
   ]
  },
  {
   "cell_type": "code",
   "execution_count": null,
   "id": "d2dda63c",
   "metadata": {},
   "outputs": [],
   "source": [
    "s = \"abcdefg\"\n",
    "k = 2\n",
    "indx = 0\n",
    "y = s[indx:k*2]\n",
    "indx= k*2+1\n",
    "print(y)\n",
    "print(y[:k][::-1]+y[k:])\n",
    "y=''\n",
    "y = s[indx:k*2]\n",
    "print(y)\n",
    "s[::-1]\n",
    "    "
   ]
  },
  {
   "cell_type": "code",
   "execution_count": null,
   "id": "bbef7dfe",
   "metadata": {},
   "outputs": [],
   "source": [
    "s = \"abcdefg\"\n",
    "k = 3\n",
    "list1 = []\n",
    "i = 0\n",
    "p = 0\n",
    "while i <len(s):\n",
    "    p = p+k*2\n",
    "    list1.append(s[i:p])\n",
    "    i = p\n",
    "temp = ''\n",
    "for x in list1:\n",
    "    y = x[:k][::-1]+x[k:]\n",
    "    y = temp+''.join(y)\n",
    "    temp = y\n",
    "print(y)\n",
    "#for x in range(len(s)):\n",
    "    "
   ]
  },
  {
   "cell_type": "code",
   "execution_count": null,
   "id": "3fd1f621",
   "metadata": {},
   "outputs": [],
   "source": [
    "s = \"leEeetcode\"\n",
    "s='abBAcC'\n",
    "s=\"Pp\"\n",
    "s =\"mC\"\n",
    "list1 = []\n",
    "list1[:0]=s\n",
    "stack = []\n",
    "upper=''\n",
    "temp = ''\n",
    "for indx,x in enumerate(list1):\n",
    "    if x.isupper():\n",
    "        if not stack:\n",
    "            stack.append(x)\n",
    "            pass\n",
    "        else:\n",
    "            temp = stack.pop()\n",
    "        if temp.upper()!= x:\n",
    "            stack.append(temp)\n",
    "            upper=x\n",
    "            \n",
    "    else:\n",
    "        stack.append(x)\n",
    "        if upper != x.upper():\n",
    "            stack.append(x)\n",
    "        upper = ''\n",
    "print(stack)"
   ]
  },
  {
   "cell_type": "code",
   "execution_count": null,
   "id": "a119e038",
   "metadata": {},
   "outputs": [],
   "source": [
    "s =\"mMCDMm\"\n",
    "##s=\"mC\"\n",
    "\n",
    "##s=\"kkdsFuqUfSDKK\"\n",
    "list1 = []\n",
    "list1[:0]=s\n",
    "stack = []\n",
    "temp = ''\n",
    "for indx,x in enumerate(list1):\n",
    "    if not stack:\n",
    "        stack.append(x)\n",
    "    else:\n",
    "        temp = stack.pop()\n",
    "        if (temp.islower() and x.isupper() and temp.upper()== x) or(temp.isupper() and x.islower() and temp==x.upper()):\n",
    "            pass\n",
    "        else:\n",
    "            stack.append(temp)\n",
    "            stack.append(x)            \n",
    "print(''.join(stack))"
   ]
  },
  {
   "cell_type": "code",
   "execution_count": null,
   "id": "c9f4bf0d",
   "metadata": {},
   "outputs": [],
   "source": [
    "words1 = [\"leetcode\",\"is\",\"amazing\",\"as\",\"is\"]\n",
    "words2 = [\"amazing\",\"leetcode\",\"is\"]\n",
    "count = 0\n",
    "for x in words1:\n",
    "    if x in words2:\n",
    "        if words1.count(x) == 1 and words2.count(x) == 1:\n",
    "            count = count+1\n",
    "print(count)"
   ]
  },
  {
   "cell_type": "code",
   "execution_count": null,
   "id": "3b5bfd19",
   "metadata": {},
   "outputs": [],
   "source": [
    "arr = [\"d\",\"b\",\"c\",\"b\",\"c\",\"a\"]\n",
    "k = 2\n",
    "arr = [\"aaa\",\"aa\",\"a\"]\n",
    "k = 1\n",
    "arr = [\"a\",\"b\",\"a\"]\n",
    "k = 3\n",
    "count = 0\n",
    "for x in arr:\n",
    "    if arr.count(x) == 1:\n",
    "        count = count+1\n",
    "        \n",
    "    if count == k:\n",
    "        print(x)\n",
    "        break;\n",
    "print(\"\")"
   ]
  },
  {
   "cell_type": "code",
   "execution_count": null,
   "id": "1e978bc6",
   "metadata": {},
   "outputs": [],
   "source": [
    "ransomNote = \"a\"\n",
    "magazine = \"b\"\n",
    "ransomNote = \"aa\"\n",
    "magazine = \"ab\"\n",
    "ransomNote = \"aa\"\n",
    "magazine = \"aab\"\n",
    "flag = 0\n",
    "for x in ransomNote:\n",
    "    if x in ransomNote and magazine.count(x)>=ransomNote.count(x):\n",
    "        pass\n",
    "    else:\n",
    "        flag = 1\n",
    "        print(False)\n",
    "if flag == 0:\n",
    "    print(True)"
   ]
  },
  {
   "cell_type": "code",
   "execution_count": null,
   "id": "18c22b1c",
   "metadata": {},
   "outputs": [],
   "source": [
    "s = \"abcd\"\n",
    "t = \"abcde\"\n",
    "\n",
    "for x in t:\n",
    "    if x not in s and t.count(x)>s.count(x):\n",
    "        print(x)"
   ]
  },
  {
   "cell_type": "code",
   "execution_count": null,
   "id": "d27946a1",
   "metadata": {},
   "outputs": [],
   "source": [
    "nums = [2,2,1]\n",
    "nums = [4,1,2,1,2]\n",
    "nums = [1]\n",
    "for x in nums:\n",
    "    if nums.count(x)==1:\n",
    "        print(x)\n",
    "print(\"\")"
   ]
  },
  {
   "cell_type": "code",
   "execution_count": null,
   "id": "5171c9f3",
   "metadata": {},
   "outputs": [],
   "source": [
    "s = \"abca\"\n",
    "flag = 0\n",
    "if s == s[::-1]:\n",
    "    print(True)\n",
    "else:\n",
    "    list1 = list(s)\n",
    "    list2 = list(s)\n",
    "    for indx , x in enumerate(list1):\n",
    "        list2.pop(indx)\n",
    "        if ''.join(list2) == ''.join(list2[::-1]):\n",
    "            print(True)\n",
    "            break;\n",
    "        else:\n",
    "            list2 = list(s)"
   ]
  },
  {
   "cell_type": "code",
   "execution_count": null,
   "id": "b2a1644a",
   "metadata": {},
   "outputs": [],
   "source": [
    "s = \"abca\"\n",
    "list1=list(s)\n",
    "list1\n",
    "list1.remove('a')\n",
    "list1.remove('b')\n",
    "list1[::-1]"
   ]
  },
  {
   "cell_type": "code",
   "execution_count": null,
   "id": "86c86bc3",
   "metadata": {},
   "outputs": [],
   "source": [
    "s = \"abdefba\"\n",
    "if s == s[::-1]:\n",
    "    print(True)\n",
    "else:\n",
    "    list1 = list(s)\n",
    "    for i in range(len(s)):\n",
    "        print(\"list1[i] {}\".format(list1[i]))\n",
    "        print(\"list1[(-1*i)-1] {}\".format(list1[(-1*i)-1]))\n",
    "        if list1[i] != list1[(-1*i)-1]:\n",
    "            temp = list(s)\n",
    "            print(\"temp {}\".format(temp))\n",
    "            list1.pop(i)\n",
    "            print(\"list1 {}\".format(''.join(list1)))\n",
    "            print(\"list1[::-1] {}\".format(''.join(list1[::-1])))\n",
    "            if ''.join(list1) == ''.join(list1[::-1]):\n",
    "                print(\"inside if\")\n",
    "                print(True)\n",
    "                break\n",
    "            else:\n",
    "                list1 = temp\n",
    "                print(\"temp {}\".format(temp))\n",
    "                print(\"list1 {}\".format(list1))\n",
    "                list1.pop((-1*i)-1)\n",
    "                print(\"list1 {}\".format(list1))\n",
    "                if ''.join(list1)==''.join(list1[::-1]):\n",
    "                    print(True)\n",
    "                    break\n",
    "                else:\n",
    "                    print(False)\n",
    "                    break\n",
    "                \n",
    "            \n",
    "        "
   ]
  },
  {
   "cell_type": "code",
   "execution_count": null,
   "id": "d1ad7a92",
   "metadata": {},
   "outputs": [],
   "source": [
    "s = \"abdefba\"\n",
    "if s == s[::-1]:\n",
    "    print(True)\n",
    "else:\n",
    "    list1 = list(s)\n",
    "    for i in range(len(s)):\n",
    "        if list1[i] != list1[(-1*i)-1]:\n",
    "            temp = list(s)\n",
    "            list1.pop(i)\n",
    "            if ''.join(list1) == ''.join(list1[::-1]):\n",
    "                print(True)\n",
    "                break\n",
    "            else:\n",
    "                list1 = temp\n",
    "                list1.pop((-1*i)-1)\n",
    "                if ''.join(list1)==''.join(list1[::-1]):\n",
    "                    print(True)\n",
    "                    break\n",
    "                else:\n",
    "                    print(False)\n",
    "                    break\n",
    "                "
   ]
  },
  {
   "cell_type": "code",
   "execution_count": null,
   "id": "d72d6868",
   "metadata": {},
   "outputs": [],
   "source": [
    "s = \"abcbca\"\n",
    "list1= list(s)\n",
    "list1[-1]\n",
    "list1.pop(-2)\n",
    "list1"
   ]
  },
  {
   "cell_type": "code",
   "execution_count": null,
   "id": "9c222841",
   "metadata": {},
   "outputs": [],
   "source": [
    "command = \"G()(al)\"\n",
    "list1 = []\n",
    "i =0\n",
    "while i < len(command):\n",
    "    if command[i] =='G':\n",
    "        list1.append('G')\n",
    "        i = i+1\n",
    "    elif command[i] == '(' and command[i+1] ==')':\n",
    "        list1.append('o')\n",
    "        i = i+2\n",
    "    elif command[i] == '(' and command[i+1] =='a':\n",
    "        list1.append('al')\n",
    "        i = i+4\n",
    "print(''.join(list1))"
   ]
  },
  {
   "cell_type": "code",
   "execution_count": null,
   "id": "ba10feb4",
   "metadata": {},
   "outputs": [],
   "source": [
    "word = \"abcdefd\"\n",
    "ch = \"z\"\n",
    "\n",
    "indx = word.find(ch)\n",
    "word[:indx+1][::-1]+word[indx+1:]"
   ]
  },
  {
   "cell_type": "code",
   "execution_count": null,
   "id": "6ae793bf",
   "metadata": {},
   "outputs": [],
   "source": [
    "s = \"1 box has 3 blue 2 red 6 green and 12 yellow marbles\"\n",
    "list1=s.split()\n",
    "temp = 0\n",
    "for x in list1:\n",
    "    if x.isnumeric():\n",
    "        if  int(x)>temp :\n",
    "            temp = int(x)\n",
    "        else:\n",
    "            print(False)\n",
    "            break;\n",
    "print(True)"
   ]
  },
  {
   "cell_type": "code",
   "execution_count": null,
   "id": "ddcd6ff9",
   "metadata": {},
   "outputs": [],
   "source": [
    "sentence = \"cat! and  dog\"\n",
    "list1 = sentence.split()\n",
    "punctuation = ['!', '.', ',']\n",
    "count=0\n",
    "print(list1)\n",
    "for x in list1:\n",
    "    print(x)\n",
    "    if x.isnumeric() or x.isalpha() or x.isalnum():\n",
    "        print(\"inside\")\n",
    "        count = count+1\n",
    "    #elif x.find('!')> 0 and x.count('!')==1 and x.endswith('!'):\n",
    "       # print(\"inside   2\")\n",
    "        #count=count+1    \n",
    "    elif ((x.count('-')==1) and not (x.startswith('-') or x.endswith('-'))) and (x.find('!')> 0 and x.count('!')==1 and x.endswith('!')):\n",
    "        print(\"inside 1\")\n",
    "        count=count+1\n",
    "    \n",
    "print(count)"
   ]
  },
  {
   "cell_type": "code",
   "execution_count": null,
   "id": "3393d978",
   "metadata": {},
   "outputs": [],
   "source": [
    "or x.find('.')>0 or x.find(',')>0) and (x.endswith('!') or x.endswith('.') or x.endswith(',')) and (x.count('!')==1 or x.count('.')==1 or x.count(',')==1):\n",
    "        print(\"inside   2\")"
   ]
  },
  {
   "cell_type": "code",
   "execution_count": null,
   "id": "a3921a01",
   "metadata": {},
   "outputs": [],
   "source": [
    "s = 'ab'\n",
    "print(s.find('-'))\n",
    "if s.find('-'):\n",
    "    print(\"inside\")"
   ]
  },
  {
   "cell_type": "code",
   "execution_count": null,
   "id": "d4309961",
   "metadata": {},
   "outputs": [],
   "source": [
    "list1 = ['a-b','abd']\n",
    "for x in list1:\n",
    "    print(x)\n",
    "    if x.isalnum() or x.isnumeric() or x.isalpha():\n",
    "        print(True)"
   ]
  },
  {
   "cell_type": "code",
   "execution_count": null,
   "id": "5ebbac7d",
   "metadata": {},
   "outputs": [],
   "source": [
    "words = [\"bella\",\"label\",\"roller\"]\n",
    "from collections import Counter\n",
    "c = collections.Counter(words[0])\n",
    "for i in range(1,len(words)):\n",
    "    c = c & collections.Counter(words[i])\n",
    "print(c)\n",
    "print(list(c.elements()))      "
   ]
  },
  {
   "cell_type": "code",
   "execution_count": null,
   "id": "e042abd9",
   "metadata": {},
   "outputs": [],
   "source": [
    "import re\n",
    "text = \"thestoryofleetcodeandme\"\n",
    "words = [\"story\",\"fleet\",\"leetcode\"]\n",
    "text = \"ababa\"\n",
    "words = [\"aba\",\"ab\"]\n",
    "list1=[]\n",
    "list2=[]\n",
    "for x in words:\n",
    "    list2=[]\n",
    "    for i in range(len(text)):\n",
    "        y=re.search(x,text[i:],2)\n",
    "        if y is not None:\n",
    "            print(x)\n",
    "            print(y.start())\n",
    "            print(y.end())\n",
    "    #list2.append(y.start())\n",
    "    #list2.append(y.end()-1)\n",
    "    #list1.append(list2)\n",
    "print(list1)"
   ]
  },
  {
   "cell_type": "code",
   "execution_count": null,
   "id": "0d8809ee",
   "metadata": {},
   "outputs": [],
   "source": [
    "text = \"ababa\"\n",
    "words = [\"aba\",\"ab\"]\n",
    "list2=[]\n",
    "for x in words:\n",
    "    i=0\n",
    "    length = len(x)\n",
    "    while i < len(text):\n",
    "        list1 = []\n",
    "        y = text.find(x,i)\n",
    "        if y is -1:\n",
    "            i = i+1\n",
    "        else:\n",
    "            list1.append(y)\n",
    "            list1.append(y+length)\n",
    "            i = y+1\n",
    "        if not list1:\n",
    "            pass\n",
    "        else:\n",
    "            list2.append(list1)\n",
    "print(sorted(list2))"
   ]
  },
  {
   "cell_type": "code",
   "execution_count": null,
   "id": "1ffa3347",
   "metadata": {},
   "outputs": [],
   "source": [
    "text = \"ababa\"\n",
    "y = text.find(\"aba\",0)\n",
    "y"
   ]
  },
  {
   "cell_type": "code",
   "execution_count": null,
   "id": "35135b32",
   "metadata": {},
   "outputs": [],
   "source": [
    "list1 = []\n",
    "list1.append(0)\n",
    "list1"
   ]
  },
  {
   "cell_type": "code",
   "execution_count": null,
   "id": "bfb6494e",
   "metadata": {},
   "outputs": [],
   "source": [
    "strs = [\"cba\",\"daf\",\"ghi\"]\n",
    "strs = [\"a\",\"b\"]\n",
    "strs = [\"zyx\",\"wvu\",\"tsr\"]\n",
    "list1=[]\n",
    "for i in range(len(strs[0])):\n",
    "    temp = strs[0][i]\n",
    "    for x in strs[1:]:\n",
    "        if temp>x[i]:\n",
    "            list1.append(i)\n",
    "            break\n",
    "        else :\n",
    "            temp = x[i]\n",
    "print(len(list1))        "
   ]
  },
  {
   "cell_type": "code",
   "execution_count": null,
   "id": "1e1dfcba",
   "metadata": {},
   "outputs": [],
   "source": [
    "strs = [\"cba\",\"daf\",\"ghi\"]\n",
    "strs[1:]"
   ]
  },
  {
   "cell_type": "code",
   "execution_count": null,
   "id": "331bf538",
   "metadata": {},
   "outputs": [],
   "source": [
    "weight = [100,200,150,1000]\n",
    "weight = sorted(weight)\n",
    "print(weight)\n",
    "sum1 = 0\n",
    "count = 0\n",
    "for x in weight:\n",
    "    if sum1+x <= 5000:\n",
    "        sum1 = sum1+x\n",
    "        count = count+1\n",
    "print(sum1)\n",
    "print(count)"
   ]
  },
  {
   "cell_type": "code",
   "execution_count": null,
   "id": "220b0bf5",
   "metadata": {},
   "outputs": [],
   "source": [
    "s = \"abccccdd\"\n",
    "s = \"bb\"\n",
    "s = \"a\"\n",
    "s = \"jglknendplocymmvwtoxvebkekzfdhykknufqdkntnqvgfbahsljkobhbxkvyictzkqjqydczuxjkgecdyhixdttxfqmgksrkyvopwprsgoszftuhawflzjyuyrujrxluhzjvbflxgcovilthvuihzttzithnsqbdxtafxrfrblulsakrahulwthhbjcslceewxfxtavljpimaqqlcbrdgtgjryjytgxljxtravwdlnrrauxplempnbfeusgtqzjtzshwieutxdytlrrqvyemlyzolhbkzhyfyttevqnfvmpqjngcnazmaagwihxrhmcibyfkccyrqwnzlzqeuenhwlzhbxqxerfifzncimwqsfatudjihtumrtjtggzleovihifxufvwqeimbxvzlxwcsknksogsbwwdlwulnetdysvsfkonggeedtshxqkgbhoscjgpiel\"\n",
    "y = collections.Counter(s)\n",
    "print(y)\n",
    "sum1=0\n",
    "flag = 0\n",
    "flag1=0\n",
    "if s ==s[::-1]:\n",
    "    print(len(s))\n",
    "for num in y.values():\n",
    "    print(\"num {}\".format(num))\n",
    "    if num%2==0:\n",
    "        print(\"num: {}\".format(num))\n",
    "        sum1 = sum1+num\n",
    "        print(\"sum1: {}\".format(sum1))\n",
    "    else:\n",
    "        if num >1:\n",
    "            flag1 =1\n",
    "            print(\"num odd: {}\".format(num))\n",
    "            sum1 = sum1+(num-1)\n",
    "            print(\"sum1 odd: {}\".format(sum1))\n",
    "        else:\n",
    "            if flag ==0:\n",
    "                sum1=sum1+1\n",
    "                print(\"sum1 1: {}\".format(sum1))\n",
    "                flag=1\n",
    "if flag==0 and flag1==1:\n",
    "    sum1=sum1+1\n",
    "\n",
    "print(sum1)\n",
    "            \n"
   ]
  },
  {
   "cell_type": "code",
   "execution_count": null,
   "id": "a44bccd5",
   "metadata": {},
   "outputs": [],
   "source": [
    "s = \"code\"\n",
    "s = \"aab\"\n",
    "s = \"carerac\"\n",
    "import collections\n",
    "y = collections.Counter(s)\n",
    "count=0\n",
    "for x in y.values():\n",
    "    if x%2!=0:\n",
    "        count = count+1\n",
    "    if count==2:\n",
    "        print(False)\n",
    "        break;\n",
    "print(True)"
   ]
  },
  {
   "cell_type": "code",
   "execution_count": null,
   "id": "5b733f7a",
   "metadata": {},
   "outputs": [],
   "source": [
    "word = \"aS\"\n",
    "if word.isupper() or word.istitle() or word.islower():\n",
    "    print(True)\n",
    "else:\n",
    "    print(False)"
   ]
  },
  {
   "cell_type": "code",
   "execution_count": null,
   "id": "7ee13696",
   "metadata": {},
   "outputs": [],
   "source": [
    "words = [\"abc\",\"aabc\",\"bc\"]\n",
    "words = [\"ab\",\"a\"]\n",
    "import collections\n",
    "counter = collections.Counter(\"\".join(words))\n",
    "print(counter)\n",
    "flag = 0\n",
    "for v in counter.values(): \n",
    "    if v % len(words) != 0: \n",
    "        print(False)\n",
    "        break\n",
    "print(True)"
   ]
  },
  {
   "cell_type": "code",
   "execution_count": null,
   "id": "e7b42c6c",
   "metadata": {},
   "outputs": [],
   "source": [
    "patterns = [\"aa\",\"abc\",\"bc\",\"d\"]\n",
    "word = \"abc\"\n",
    "count = 0\n",
    "for x in patterns:\n",
    "    if x in word:\n",
    "        count=count+1\n",
    "print(count)"
   ]
  },
  {
   "cell_type": "code",
   "execution_count": null,
   "id": "0e70fea4",
   "metadata": {},
   "outputs": [],
   "source": [
    "first = \"qwertyuiop\"\n",
    "second = \"asdfghjkl\"\n",
    "third = \"zxcvbnm\"\n",
    "dic = {1:{'q','w','e','r','t','y','u','i','o','p'},\n",
    "      2:{'a','s','d','f','g','h','j','k','l'},\n",
    "      3:{'z','x','c','v','b','n','m'}}\n",
    "#print(dic)\n",
    "words = [\"Hello\",\"Alaska\",\"Dad\",\"Peace\"]\n",
    "group=0\n",
    "res = []\n",
    "for word in words:\n",
    "    if word[0] in dic[1] or word[0].lower() in dic[1]:\n",
    "        group = 1\n",
    "    elif word[0] in dic[2] or word[0].lower() in dic[2]:\n",
    "        group = 2\n",
    "    elif word[0] in dic[3] or word[0].lower() in dic[3]:\n",
    "        group = 3\n",
    "#    print(word,group)\n",
    "    \n",
    "    for i in range(1,len(word)):\n",
    "#        print(word)\n",
    "#        print(dic[group])\n",
    "        if word[i] not in dic[group]:\n",
    "            break\n",
    "        \n",
    "    else:\n",
    "        res.append(word)\n",
    "#        print(res)\n",
    "print(res)            \n",
    "        "
   ]
  },
  {
   "cell_type": "code",
   "execution_count": null,
   "id": "69d31960",
   "metadata": {},
   "outputs": [],
   "source": [
    "first = \"qwertyuiop\"\n",
    "second = \"asdfghjkl\"\n",
    "third = \"zxcvbnm\"\n",
    "ans = []\n",
    "for word in words:\n",
    "    tt = False\n",
    "    mt = False\n",
    "    bt = False\n",
    "    for letter in word:\n",
    "        if letter in first:\n",
    "            tt = True\n",
    "        if letter in second:\n",
    "            mt = True\n",
    "        if letter in third:\n",
    "            bt = True\n",
    "    lier=[tt,mt,bt]\n",
    "    if lier.count(True) == 1:\n",
    "        ans.append(word)\n",
    "print(ans)"
   ]
  },
  {
   "cell_type": "code",
   "execution_count": null,
   "id": "aae2ec11",
   "metadata": {},
   "outputs": [],
   "source": [
    "s = \"5F3Z-2e-9-w\"\n",
    "k = 4\n",
    "\n",
    "x = s.replace('-','').upper()\n",
    "res=[] \n",
    "i = len(x)\n",
    "while i > 0 :\n",
    "    if i-k <0:\n",
    "        res.append(x[0:i])\n",
    "    else:\n",
    "        res.append(x[i-k:i])\n",
    "    i = i-k\n",
    "print('-'.join(res[::-1]))"
   ]
  },
  {
   "cell_type": "code",
   "execution_count": null,
   "id": "02689eca",
   "metadata": {},
   "outputs": [],
   "source": [
    "text = \"nlaebolko\"\n",
    "text = \"loonbalxballpoon\"\n",
    "word = \"balloon\"\n",
    "word = list(word)\n",
    "text = list(text)\n",
    "count = 0\n",
    "\n",
    "for i in range(len(text)//len(word)):\n",
    "    res = []\n",
    "    text =list(text)\n",
    "    for letter in word:\n",
    "        if letter in text:\n",
    "            res.append(letter)\n",
    "            text.remove(letter)\n",
    "    if res == word:\n",
    "        count = count+1\n",
    "print(count)"
   ]
  },
  {
   "cell_type": "code",
   "execution_count": null,
   "id": "b935a8f1",
   "metadata": {},
   "outputs": [],
   "source": [
    "list1 = [\"Shogun\",\"Tapioca Express\",\"Burger King\",\"KFC\"]\n",
    "list2 = [\"Piatti\",\"The Grill at Torrey Pines\",\"Hungry Hunter Steakhouse\",\"Shogun\"]\n",
    "list1 = [\"Shogun\",\"KFC\",\"Tapioca Express\",\"Burger King\",\"KFC\"]\n",
    "list2 = [\"KFC\",\"Shogun\",\"Burger King\"]\n",
    "from collections import defaultdict\n",
    "res = defaultdict(list)\n",
    "for indx,x in enumerate(list1):\n",
    "    sum1 = 0\n",
    "    if x in list2:\n",
    "        sum1 = indx+list2.index(x)\n",
    "        res[sum1].append(x)    \n",
    "print(res.get(min(res.keys())))"
   ]
  },
  {
   "cell_type": "code",
   "execution_count": null,
   "id": "42bdea46",
   "metadata": {},
   "outputs": [],
   "source": [
    "widths = [4,10,10,10,10,10,10,10,10,10,10,10,10,10,10,10,10,10,10,10,10,10,10,10,10,10]\n",
    "s = \"bbbcccdddaaa\"\n",
    "#widths = [10,10,10,10,10,10,10,10,10,10,10,10,10,10,10,10,10,10,10,10,10,10,10,10,10,10]\n",
    "#widths = [10,10,30,40,50,60,10,10,10,10,10,10,10,10,10,10,10,10,10,10,10,10,10,10,10,10]\n",
    "#s = \"abcdefghijklmnopqrstuvwxyz\"\n",
    "#print(ord('a'))\n",
    "sum1 = 0\n",
    "count = 1\n",
    "for x in s:\n",
    "    i = ord(x)-97\n",
    "    print(\"x {}\".format(x))\n",
    "    print(\"i {}\".format(i))\n",
    "    print(\"widths[i] {}\".format(widths[i]))\n",
    "    if sum1+widths[i] <= 100:\n",
    "        print(\"sum1 {}\".format(sum1))\n",
    "        sum1=sum1+widths[i]\n",
    "        print(\"sum1: {}\".format(sum1))\n",
    "        print(\"count: {}\".format(count))\n",
    "    else:\n",
    "        count = count+1\n",
    "        print(\"count: else {}\".format(count))\n",
    "        sum1 = 0\n",
    "        sum1 = sum1+widths[i]\n",
    "        print(\"sum1: else {}\".format(sum1))\n",
    "\n",
    "print([count,sum1])\n",
    "\n",
    "#print(len(widths))\n",
    "#print(len(s))"
   ]
  },
  {
   "cell_type": "code",
   "execution_count": null,
   "id": "f50b0ba0",
   "metadata": {},
   "outputs": [],
   "source": [
    "words = [\"gin\",\"zen\",\"gig\",\"msg\"]\n",
    "dots = [\".-\",\"-...\",\"-.-.\",\"-..\",\".\",\"..-.\",\"--.\",\"....\",\"..\",\".---\",\"-.-\",\".-..\",\"--\",\"-.\",\"---\",\".--.\",\"--.-\",\".-.\",\"...\",\"-\",\"..-\",\"...-\",\".--\",\"-..-\",\"-.--\",\"--..\"]\n",
    "\n",
    "#print(ord('a'))\n",
    "#print(dots[i])\n",
    "\n",
    "list1=[]\n",
    "for word in words:\n",
    "    y =''\n",
    "    for x in word:\n",
    "        i = ord(x)-97\n",
    "        y = y+''.join(dots[i])\n",
    "    list1.append(y)\n",
    "print(len(set(list1)))\n"
   ]
  },
  {
   "cell_type": "code",
   "execution_count": null,
   "id": "4df5d678",
   "metadata": {},
   "outputs": [],
   "source": [
    "s = \"ab\"\n",
    "goal = \"ba\"\n",
    "#s = \"ab\"\n",
    "#goal = \"ab\"\n",
    "s = \"aa\"\n",
    "goal = \"aa\"\n",
    "print(tuple(zip(s,goal)))\n",
    "rec = set()\n",
    "swap_A = []\n",
    "swap_B = []\n",
    "count = 0\n",
    "\n",
    "for x,y in zip(s,goal):\n",
    "    print(x,y)\n",
    "    rec.add(x)\n",
    "    if x!=y:\n",
    "        swap_A.append(x)\n",
    "        swap_B.append(y)\n",
    "        count = count+1\n",
    "    if count > 2:\n",
    "        print(False)\n",
    "        break;\n",
    "print(swap_A)\n",
    "print(swap_B)\n",
    "if count == 0:\n",
    "    if len(rec) != len(s):\n",
    "        print(True)\n",
    "    print(False)\n",
    "elif count != 2:\n",
    "    print(False)\n",
    "else:\n",
    "    swap_A[::-1]==swap_B\n",
    "    print(True)\n",
    "print(rec)"
   ]
  },
  {
   "cell_type": "code",
   "execution_count": null,
   "id": "95c10751",
   "metadata": {},
   "outputs": [],
   "source": [
    "s1 = \"bank\"\n",
    "s2 = \"kanb\"\n",
    "s1 = \"attack\"\n",
    "s2 = \"defend\"\n",
    "s1 = \"kelb\"\n",
    "s2 = \"kelb\"\n",
    "Swap_s1 = []\n",
    "Swap_s2 = []\n",
    "count = 0\n",
    "if len(s1) != len(s2):\n",
    "    print(False)\n",
    "for indx, x in enumerate(s1):\n",
    "    if x != s2[indx]:\n",
    "        Swap_s1.append(x)\n",
    "        Swap_s2.append(s2[indx])\n",
    "        count = count+1\n",
    "    if count >2:\n",
    "        print(False)\n",
    "        break\n",
    "if count == 1:\n",
    "    print(False)\n",
    "elif count == 0:\n",
    "    print(True)\n",
    "else:\n",
    "    if Swap_s1[::-1] == Swap_s2:\n",
    "        print(True)\n",
    "    else:\n",
    "        print(False)"
   ]
  },
  {
   "cell_type": "code",
   "execution_count": null,
   "id": "99c6f22f",
   "metadata": {},
   "outputs": [],
   "source": [
    "s = \"OOO\"\n",
    "count = 0\n",
    "i = 0\n",
    "while i < len(s):\n",
    "    if 'X' in s[i:i+3]:\n",
    "        count = count+1\n",
    "        \n",
    "    i = i+3\n",
    "print(count)"
   ]
  },
  {
   "cell_type": "code",
   "execution_count": null,
   "id": "dad22860",
   "metadata": {},
   "outputs": [],
   "source": [
    "s = \"OXOX\"\n",
    "count = i = 0\n",
    "while i < len(s):\n",
    "    if s[i] == 'X':\n",
    "        count += 1\n",
    "        i += 3\n",
    "    else:\n",
    "        i += 1\n",
    "print(count)"
   ]
  },
  {
   "cell_type": "code",
   "execution_count": null,
   "id": "6ace443a",
   "metadata": {},
   "outputs": [],
   "source": [
    "num = 9669\n",
    "num = 9996\n",
    "num = 9999\n",
    "string = list(str(num))\n",
    "\n",
    "for indx,x in enumerate(string):\n",
    "    if x =='6':\n",
    "        string.pop(indx)\n",
    "        string.insert(indx,'9')\n",
    "        break\n",
    "print(int(''.join(string)))"
   ]
  },
  {
   "cell_type": "code",
   "execution_count": null,
   "id": "5dff3698",
   "metadata": {},
   "outputs": [],
   "source": [
    "text = \"hello world\"\n",
    "brokenLetters = \"ad\"\n",
    "count = 0\n",
    "for word in text.split():\n",
    "    flag = 0\n",
    "    for x in brokenLetters:\n",
    "        if x in word:\n",
    "            flag = 1\n",
    "            break\n",
    "    if flag == 0:\n",
    "        count = count +1\n",
    "print(count)"
   ]
  },
  {
   "cell_type": "code",
   "execution_count": null,
   "id": "f7a66b87",
   "metadata": {},
   "outputs": [],
   "source": [
    "s = \"\"\n",
    "count = 0\n",
    "if not s:\n",
    "    print(0)\n",
    "if s == s[::-1]:\n",
    "    print(1)\n",
    "else:\n",
    "    print(2)"
   ]
  },
  {
   "cell_type": "code",
   "execution_count": null,
   "id": "a4011819",
   "metadata": {},
   "outputs": [],
   "source": [
    "from datetime import date\n",
    "date1 = \"2019-06-29\"\n",
    "date2 = \"2019-06-30\"\n",
    "date1 = \"2020-01-15\"\n",
    "date2 = \"2019-12-31\"\n",
    "date1 = date1.split('-')\n",
    "date2 = date2.split('-')\n",
    "\n",
    "date1 = date(int(date1[0]),int(date1[1]),int(date1[2]))\n",
    "date2 = date(int(date2[0]),int(date2[1]),int(date2[2]))\n",
    "print(abs((date2-date1).days))"
   ]
  },
  {
   "cell_type": "code",
   "execution_count": null,
   "id": "64021542",
   "metadata": {},
   "outputs": [],
   "source": [
    "s = \"baaaabbbbcccc\"\n",
    "for i in range(len(s)):\n",
    "    count = 0\n",
    "    for j in range(len(s))\n",
    "        \n",
    "        if s[i]>s[j+1]:\n",
    "            pass\n",
    "        else:\n",
    "\n"
   ]
  },
  {
   "cell_type": "code",
   "execution_count": null,
   "id": "613e3573",
   "metadata": {},
   "outputs": [],
   "source": [
    "s = \"ab-cd\"\n",
    "s = \"a-bC-dEf-ghIj\"\n",
    "s= \"Test1ng-Leet=code-Q!\"\n",
    "t = [x for x in s if x.isalpha()]\n",
    "t = t[::-1]\n",
    "for indx,x in enumerate(s):\n",
    "    if not x.isalpha():\n",
    "        t.insert(indx,x)\n",
    "print(''.join(t))"
   ]
  },
  {
   "cell_type": "code",
   "execution_count": null,
   "id": "36bb81a0",
   "metadata": {},
   "outputs": [],
   "source": [
    "name = \"alex\"\n",
    "typed = \"aaleex\"\n",
    "name = \"saeedz\"\n",
    "typed = \"ssaaedd\"\n",
    "name = \"rick\"\n",
    "typed = \"kric\"\n",
    "name = \"alex\"\n",
    "typed = \"aaleexa\"\n",
    "y = collections.Counter(name)\n",
    "z = collections.Counter(typed)\n",
    "print(y)\n",
    "print(z)\n",
    "for x in y:\n",
    "    if z.get(x) is None:\n",
    "        print(False)\n",
    "        break\n",
    "    if y.get(x) > z.get(x):\n",
    "        print(False)\n",
    "        break\n",
    "    if len(name) ==len(typed) and name != typed:\n",
    "        print(False)\n",
    "print(True)\n",
    "    "
   ]
  },
  {
   "cell_type": "code",
   "execution_count": null,
   "id": "6929255b",
   "metadata": {},
   "outputs": [],
   "source": [
    "name = \"rick\"\n",
    "typed = \"kric\"\n",
    "if name[0] != typed[0]:\n",
    "    print(False)\n",
    "    break\n",
    "else:\n",
    "    temp = name[0]\n",
    "j = 1\n",
    "for i in range(1,len(name)):\n",
    "    if name[i] != typed[j]:\n",
    "        if temp != typed[j]:\n",
    "            print(False)\n",
    "        else:\n",
    "            \n",
    "    \n",
    "        \n",
    "    "
   ]
  },
  {
   "cell_type": "code",
   "execution_count": null,
   "id": "fc1b1863",
   "metadata": {},
   "outputs": [],
   "source": [
    "emails = [\"testemail+alex@leetcode.com\",\"test.e.mailbob.cathy@leetcode.com\",\"testemail+david@lee.tcode.com\"]\n",
    "emails = [\"test.email+alex@leetcode.com\",\"test.e.mail+bob.cathy@leetcode.com\",\"testemail+david@lee.tcode.com\"]\n",
    "\n",
    "list1 = set()\n",
    "for email in emails:\n",
    "    x = email.partition('@')\n",
    "    y = email.partition('@')[0].replace('.','').partition('+')[0]+x[1]+x[2]\n",
    "    list1.add(y)\n",
    "print(len(list1))"
   ]
  },
  {
   "cell_type": "code",
   "execution_count": null,
   "id": "9fee31b6",
   "metadata": {},
   "outputs": [],
   "source": [
    "logs = [\"dig1 8 1 5 1\",\"let1 art can\",\"dig2 3 6\",\"let2 own kit dig\",\"let3 art zero\"]\n",
    "digit = []\n",
    "letter =[]\n",
    "for x in logs:\n",
    "    y = x.split()\n",
    "    if y[1].isnumeric():\n",
    "        digit.append(x)\n",
    "    else:\n",
    "        letter.append(y)\n",
    "for i in range(1,len(letter)):\n",
    "    letter.sort(key = lambda letter: letter[i])\n",
    "res = []\n",
    "for x in letter:\n",
    "    x = ' '.join(x)\n",
    "    res.append(x)\n",
    "for x in digit:\n",
    "    res.append(x)\n",
    "print(res)"
   ]
  },
  {
   "cell_type": "code",
   "execution_count": null,
   "id": "5d910244",
   "metadata": {},
   "outputs": [],
   "source": [
    "sorted(l, key = lambda x: (x[x.find(\" \"):], x[:x.find(\" \")])) + list(d)"
   ]
  },
  {
   "cell_type": "code",
   "execution_count": null,
   "id": "0a044e93",
   "metadata": {},
   "outputs": [],
   "source": [
    "key_list = list(letter.keys())\n",
    "val_list = list(letter.values())\n",
    "position = val_list.index(100)\n",
    "print(key_list[position])"
   ]
  },
  {
   "cell_type": "code",
   "execution_count": null,
   "id": "51767f93",
   "metadata": {},
   "outputs": [],
   "source": [
    "path = \"NESEN\"\n",
    "x = y = 0\n",
    "s = {(0, 0)}\n",
    "for p in path:\n",
    "    if p == \"N\":\n",
    "        y += 1\n",
    "    elif p == \"S\":\n",
    "        y -= 1\n",
    "    elif p == \"W\":\n",
    "        x += 1\n",
    "    else:\n",
    "        x -= 1\n",
    "    if (x, y) in s:\n",
    "        print( True)\n",
    "    s.add((x, y))\n",
    "    print(s)\n",
    "print( False)"
   ]
  },
  {
   "cell_type": "code",
   "execution_count": null,
   "id": "342f33c8",
   "metadata": {},
   "outputs": [],
   "source": [
    "s = \"YazaAay\"\n",
    "s = \"Bb\"\n",
    "s = \"dDzeE\"\n",
    "stack =[]\n",
    "flag = 0\n",
    "temp = ''\n",
    "for i in range(len(s)):\n",
    "    if i < len(s)-1:\n",
    "        if s[i].isupper() and s[i+1].islower() and s[i].lower() == s[i+1]:\n",
    "            flag = 1\n",
    "            temp = stack.pop()\n",
    "            stack.append(s[i])\n",
    "        elif s[i].islower() and s[i+1].isupper() and s[i] == s[i+1].lower():\n",
    "            stack.append(s[i])\n",
    "            flag = 1\n",
    "    if i > 0 and flag == 0:\n",
    "        if s[i].isupper() and s[i-1].islower() and s[i].lower() == s[i-1]:\n",
    "            stack.append(s[i])\n",
    "        elif s[i].islower() and s[i-1].isupper() and s[i] == s[i-1].lower():\n",
    "            stack.append(s[i])\n",
    "    flag = 0\n",
    "    \n",
    "print(''.join(stack))\n"
   ]
  },
  {
   "cell_type": "code",
   "execution_count": null,
   "id": "1415f3c1",
   "metadata": {},
   "outputs": [],
   "source": [
    "s = \"Hello how are you Contestant\"\n",
    "k = 4\n",
    "' '.join(s.split()[:4])"
   ]
  },
  {
   "cell_type": "code",
   "execution_count": null,
   "id": "768361b8",
   "metadata": {},
   "outputs": [],
   "source": [
    " mat = [[1,1,0,0,0],\n",
    " [1,1,1,1,0],\n",
    " [1,0,0,0,0],\n",
    " [1,1,0,0,0],\n",
    " [1,1,1,1,1]], \n",
    "k = 3\n",
    "list1 = dict()\n",
    "for x in mat:\n",
    "    for indx, y in enumerate(x):\n",
    "        list1[indx]= y.count(1)\n",
    "sorted_keys = sorted(list1, key=list1.get)\n",
    "print(sorted_keys[:k])"
   ]
  },
  {
   "cell_type": "code",
   "execution_count": null,
   "id": "f609d5af",
   "metadata": {},
   "outputs": [],
   "source": [
    "s = \"a0b1c2\"\n",
    "s = \"leetcode\"\n",
    "s = \"1229857369\"\n",
    "s = \"j\"\n",
    "\n",
    "if (s.isalpha() or s.isnumeric()) and len(s) == 1 :\n",
    "    print(s)\n",
    "elif s.isalpha() or s.isnumeric():\n",
    "    print(\"\")\n",
    "stack = []\n",
    "list1 = []\n",
    "for x in s:\n",
    "    if x.isalpha():\n",
    "        stack.append(x)\n",
    "    elif x.isdigit():\n",
    "        list1.append(x)\n",
    "length1 = len(list1)\n",
    "length2 = len(stack)\n",
    "if length1 >= length2:\n",
    "    length = length1\n",
    "else:\n",
    "    length = length2\n",
    "if abs(len(list1)-len(stack)) > 1:\n",
    "    print(\"\")\n",
    "list2 = []\n",
    "for i in range(length):\n",
    "    if length2 >= length1:\n",
    "        if i < length2:\n",
    "            list2.append(stack[i])\n",
    "        if i < length1:\n",
    "            list2.append(list1[i])\n",
    "    else:\n",
    "        if i < length1:\n",
    "            list2.append(list1[i])\n",
    "        if i < length2:\n",
    "            list2.append(stack[i])\n",
    "print(''.join(list2))"
   ]
  },
  {
   "cell_type": "code",
   "execution_count": null,
   "id": "8756ade7",
   "metadata": {},
   "outputs": [],
   "source": [
    "sentence = \"cat and  dog\"\n",
    "sentence = \"!this  1-s b8d!\"\n",
    "sentence = \"cat and  dog\"\n",
    "sentence = \"this.  1-s b8d!\"\n",
    "list1 = sentence.split()\n",
    "stack = []\n",
    "for x in list1:\n",
    "    flag = 0\n",
    "    count = 0\n",
    "    print(x)\n",
    "    if x.isalpha() or x.isdigit() or x.isalnum():\n",
    "        stack.append(x)\n",
    "    elif  not (x.startswith('-') or x.endswith('-')) and x.count('-')== 1:\n",
    "        stack.append(x)\n",
    "    elif '!' in x:\n",
    "        count= count+1\n",
    "        if x.endswith('!') and x.count('!')== 1 and flag == 0 and count == 1:\n",
    "            flag = 1\n",
    "            stack.append(x)\n",
    "    elif '.' in x:\n",
    "        count= count+1\n",
    "        if x.endswith('.') and x.count('.')== 1 and flag == 0 and count == 1:\n",
    "            flag = 1\n",
    "            stack.append(x)\n",
    "    elif ',' in x:\n",
    "        count= count+1\n",
    "        if x.endswith(',') and x.count(',')== 1 and flag == 0 and count == 1:\n",
    "            flag = 1\n",
    "            stack.append(x)\n",
    "    \n",
    "print(len(stack))"
   ]
  },
  {
   "cell_type": "code",
   "execution_count": null,
   "id": "605d3a77",
   "metadata": {},
   "outputs": [],
   "source": [
    "s = \"book\"\n",
    "s = \"textbook\"\n",
    "length = len(s)\n",
    "half = length//2\n",
    "a = s[:half]\n",
    "b = s[half:]\n",
    "vowel = 'aeiouAEIOUU'\n",
    "count_a = 0\n",
    "count_b = 0\n",
    "for i in range(half):\n",
    "    if a[i] in vowel:\n",
    "        count_a= count_a+1\n",
    "    if b[i] in vowel:\n",
    "        count_b = count_b+1\n",
    "if count_a == count_b:\n",
    "    print(True)\n",
    "else:\n",
    "    print(False)"
   ]
  },
  {
   "cell_type": "code",
   "execution_count": null,
   "id": "511cb11b",
   "metadata": {},
   "outputs": [],
   "source": [
    "s = \"dfa123550fd\"\n",
    "y = set()\n",
    "for x in s:\n",
    "    if x.isdigit():\n",
    "        y.add(x)\n",
    "if len(y) >1:       \n",
    "    z = sorted(y,reverse=True)[1]\n",
    "    print(z)\n",
    "else:\n",
    "    print(-1)\n",
    "    "
   ]
  },
  {
   "cell_type": "code",
   "execution_count": null,
   "id": "7500e529",
   "metadata": {},
   "outputs": [],
   "source": [
    "word1 = \"abc\"\n",
    "word2 = \"pqr\"\n",
    "word1 = \"ab\"\n",
    "word2 = \"pqrs\"\n",
    "stack = []\n",
    "if len(word1)>len(word2):\n",
    "    length = len(word2)\n",
    "    flag = 0\n",
    "else:\n",
    "    length = len(word1)\n",
    "    flag = 1\n",
    "for i in range(length):\n",
    "    stack.append(word1[i])\n",
    "    stack.append(word2[i])\n",
    "\n",
    "if flag == 0:\n",
    "    print(''.join(stack)+word1[length:])\n",
    "else:\n",
    "    print(''.join(stack)+word2[length:])"
   ]
  },
  {
   "cell_type": "code",
   "execution_count": null,
   "id": "3a32d40d",
   "metadata": {},
   "outputs": [],
   "source": [
    "sequence = \"ababc\"\n",
    "word = \"ab\"\n",
    "#sequence = \"ababc\"\n",
    "#word = \"ba\"\n",
    "sequence = \"ababc\"\n",
    "word = \"ac\"\n",
    "sequence =\"aaabaaaabaaabaaaabaaaabaaaabaaaaba\"\n",
    "word =\"aaaba\"\n",
    "print(sequence.count(word))"
   ]
  },
  {
   "cell_type": "code",
   "execution_count": null,
   "id": "49c70572",
   "metadata": {},
   "outputs": [],
   "source": [
    "sequence =\"aaabaaaabaaabaaaabaaaabaaaabaaaaba\"\n",
    "word =\"aaaba\"\n",
    "i = 1\n",
    "while True:\n",
    "    if word*i in sequence:\n",
    "        print(word*i,\"  \",i)\n",
    "        i+=1\n",
    "    else:\n",
    "        break\n",
    "\n",
    "print (i-1)"
   ]
  },
  {
   "cell_type": "code",
   "execution_count": null,
   "id": "41eccba7",
   "metadata": {},
   "outputs": [],
   "source": [
    "arr = [1,2,4,4,4,4]\n",
    "m = 1\n",
    "k = 3\n",
    "print(len(arr))\n",
    "print(len(arr)-m+1)\n",
    "for i in range(len(arr)-m+1):\n",
    "    print(\"i {}\".format(i))\n",
    "    print(\"i+m*k {}\".format(i+m*k))\n",
    "    sub1=arr[i:i+m*k]\n",
    "    sub2=arr[i:i+m]*k\n",
    "    if sub1==sub2:\n",
    "        print(True)\n",
    "print(False)\n"
   ]
  },
  {
   "cell_type": "markdown",
   "id": "354b4cb1",
   "metadata": {},
   "source": []
  },
  {
   "cell_type": "code",
   "execution_count": null,
   "id": "19c54d35",
   "metadata": {},
   "outputs": [],
   "source": [
    "num = \"2\"\n",
    "num = \"35427\"\n",
    "stack = []\n",
    "length = len(num)*-1\n",
    "for x in range(-1,length,-1):\n",
    "    if int(x)%2 !=0:\n",
    "        stack.append(x)\n",
    "if not stack:\n",
    "    print(\"\")\n",
    "else:\n",
    "    print(sorted(stack,reverse=True)[0])"
   ]
  },
  {
   "cell_type": "code",
   "execution_count": null,
   "id": "c7a7d56f",
   "metadata": {},
   "outputs": [],
   "source": [
    "num = \"3542672\"\n",
    "length = len(num)*-1\n",
    "for i in range(-1,length-1,-1):\n",
    "    if int(num[i]) % 2 !=0:\n",
    "        if i == -1:\n",
    "            print(num[:])\n",
    "        else:\n",
    "            print(num[:i+1])\n",
    "        break"
   ]
  },
  {
   "cell_type": "code",
   "execution_count": null,
   "id": "92cbe5d0",
   "metadata": {},
   "outputs": [],
   "source": [
    "text = \"alice is a good girl she is a good\"\n",
    "text=text.split()\n",
    "first = \"a\"\n",
    "second = \"good\"\n",
    "\n",
    "third = []\n",
    "for i in range(len(text)-2):\n",
    "    if text[i] == first and text[i+1] == second:\n",
    "        third.append(text[i+2])\n",
    "print(third)"
   ]
  },
  {
   "cell_type": "code",
   "execution_count": null,
   "id": "41150dde",
   "metadata": {},
   "outputs": [],
   "source": [
    "s = \"01000\"\n",
    "zero, one, n = '0', '1', len(s)\n",
    "for i in range(1,n):\n",
    "    zero,one = zero + one[-1], one+zero[-1]\n",
    "c1 = c2 = 0\n",
    "for i in range(n):\n",
    "    if s[i]!=zero[i]:\n",
    "        c1+=1\n",
    "    if s[i]!=one[i]:\n",
    "        c2+=1\n",
    "print(min(c1,c2))   "
   ]
  },
  {
   "cell_type": "code",
   "execution_count": null,
   "id": "e0715088",
   "metadata": {},
   "outputs": [],
   "source": [
    "s = \"iloveleetcode\"\n",
    "words = [\"i\",\"love\",\"leetcode\",\"apples\"]\n",
    "s = \"iloveleetcode\"\n",
    "words = [\"apples\",\"i\",\"love\",\"leetcode\"]\n",
    "#s = \"aaaaaaa\"\n",
    "#words = [\"a\",\"a\",\"a\",\"a\",\"a\",\"a\",\"a\",\"a\"]\n",
    "k = ''\n",
    "count = 0\n",
    "for i in range(0, len(words)):\n",
    "    k = k+ words[i]\n",
    "    print(k)\n",
    "    if k == s:\n",
    "        print(True)\n",
    "    else:\n",
    "        count = count + 1\n",
    "        if count == len(words):\n",
    "            print(False)"
   ]
  },
  {
   "cell_type": "code",
   "execution_count": null,
   "id": "7747b72b",
   "metadata": {},
   "outputs": [],
   "source": [
    "s = \"iiii\"\n",
    "k = 1\n",
    "s =\"leetcode\"\n",
    "k =2\n",
    "stack = []\n",
    "y = ''\n",
    "for x in s:\n",
    "    y = y+''.join(str(ord(x)-96))\n",
    "    stack.append(ord(x)-96)\n",
    "print(y)\n",
    "print(stack)\n",
    "print(n)\n",
    "for i in range(k):\n",
    "    num = sum(stack)\n",
    "    print(num)\n",
    "    stack = []\n",
    "    num1 = num\n",
    "    for j in range(len(str(num))):\n",
    "        num1,rem = divmod(num1,10)\n",
    "#        print(num1)\n",
    "        stack.append(rem)\n",
    "        stack = stack[::-1]\n",
    "#    print(stack)\n",
    "print(num)"
   ]
  },
  {
   "cell_type": "code",
   "execution_count": null,
   "id": "d0704cb2",
   "metadata": {},
   "outputs": [],
   "source": [
    "stack = [9,9,9,9]\n",
    "k = 2\n",
    "for i in range(1):\n",
    "    num = sum(stack)\n",
    "#    print(num)\n",
    "    stack = []\n",
    "    num1 = num\n",
    "    for j in range(len(str(num))):\n",
    "        num1,rem = divmod(num1,10)\n",
    "#        print(num1)\n",
    "        stack.append(rem)\n",
    "        stack = stack[::-1]\n",
    "#    print(stack)\n",
    "print(num)\n"
   ]
  },
  {
   "cell_type": "code",
   "execution_count": null,
   "id": "a8a6dc42",
   "metadata": {},
   "outputs": [],
   "source": [
    "num1 = 36\n",
    "num1,rem = divmod(num1,10)\n",
    "print(num1)\n",
    "print(rem)"
   ]
  },
  {
   "cell_type": "code",
   "execution_count": null,
   "id": "b4a03c87",
   "metadata": {},
   "outputs": [],
   "source": [
    "s = \"iiii\"\n",
    "k = 1\n",
    "s =\"leetcode\"\n",
    "k =2\n",
    "y = ''\n",
    "stack = []\n",
    "for x in s:\n",
    "    y = y+''.join(str(ord(x)-96))\n",
    "    stack.append(str(ord(x)-96))\n",
    "z = ''.join(stack)\n",
    "print(z)\n",
    "print(stack)\n",
    "for i in range(k):\n",
    "    num1 = sum(int(str(z)))\n",
    "    print(num1)\n",
    "    y = ''\n",
    "    for j in range(len(z)):\n",
    "        num1,rem = divmod(num1,10)\n",
    "#        print(num1)\n",
    "        y = y+''.join(str(rem))\n",
    "        y = y[::-1]\n",
    "print(y)"
   ]
  },
  {
   "cell_type": "code",
   "execution_count": null,
   "id": "c83f8f64",
   "metadata": {},
   "outputs": [],
   "source": [
    "s = '12552031545'\n",
    "num1 = int(str(s))\n",
    "print(num1)"
   ]
  },
  {
   "cell_type": "code",
   "execution_count": null,
   "id": "d5ec4752",
   "metadata": {},
   "outputs": [],
   "source": [
    "word = \"uaieouu\"\n",
    "vowels = {\"a\", \"e\", \"i\", \"o\", \"u\"}        \n",
    "res = 0\n",
    "for i in range(len(word) - 4):\n",
    "    j = i\n",
    "    seen = set()\n",
    "    while j < len(word):\n",
    "        if word[j] in vowels:\n",
    "            seen.add(word[j])\n",
    "            j += 1\n",
    "            if len(seen) == 5:\n",
    "                res += 1\n",
    "        else:\n",
    "            break\n",
    "print(res) "
   ]
  },
  {
   "cell_type": "code",
   "execution_count": null,
   "id": "f2465a07",
   "metadata": {},
   "outputs": [],
   "source": [
    "word = \"uaieouu\"\n",
    "vowels = {\"a\", \"e\", \"i\", \"o\", \"u\"}  \n",
    "res = 0\n",
    "for i in range(len(word)-4):\n",
    "    j = i\n",
    "    seen = set()\n",
    "    while j <len(word):\n",
    "        if word[j] in vowels:\n",
    "            seen.add(word[j])\n",
    "            j = j+1\n",
    "            if len(seen) == 5:\n",
    "                res = res+1\n",
    "        else:\n",
    "            break\n",
    "print(res)"
   ]
  },
  {
   "cell_type": "code",
   "execution_count": null,
   "id": "5440e9b1",
   "metadata": {},
   "outputs": [],
   "source": [
    "import collections \n",
    "word1 = \"abcdeef\"\n",
    "word2 = \"abaaaacc\"\n",
    "word1=\"abcdeef\"\n",
    "word2=\"abaaacc\"\n",
    "word = set(word1+word2)\n",
    "x = collections.Counter(word1)\n",
    "y = collections.Counter(word2)\n",
    "for w in word:\n",
    "    if x.get(w) is None:\n",
    "        a = 0\n",
    "    else: \n",
    "        a = x.get(w)\n",
    "    if y.get(w) is None:\n",
    "        b = 0\n",
    "    else:\n",
    "        b = y.get(w)\n",
    "    if abs(a-b)>3:\n",
    "        print(False)\n",
    "        break\n",
    "print(True)"
   ]
  },
  {
   "cell_type": "code",
   "execution_count": null,
   "id": "46b85504",
   "metadata": {},
   "outputs": [],
   "source": [
    "s = \"aaabbba\"\n",
    "flag = 0\n",
    "for x in s:\n",
    "    if x != 'a':\n",
    "        flag = 1\n",
    "    if flag == 1 and x=='a':\n",
    "        print(False)\n",
    "        break\n",
    "print(True)\n",
    "        "
   ]
  },
  {
   "cell_type": "code",
   "execution_count": null,
   "id": "aa6ac1ca",
   "metadata": {},
   "outputs": [],
   "source": [
    "sentences = [\"alice and bob love leetcode\", \"i think so too\", \"this is great thanks very much\"]\n",
    "stack = []\n",
    "for sentence in sentences:\n",
    "    stack.append(len(sentence.split()))\n",
    "print(max(stack))"
   ]
  },
  {
   "cell_type": "code",
   "execution_count": null,
   "id": "684cb0b3",
   "metadata": {},
   "outputs": [],
   "source": [
    "s = \"leeetcode\"\n",
    "s = \"aaabaaaa\"\n",
    "s = \"aab\"\n",
    "s = \"a\"\n",
    "i = 0\n",
    "stack = []\n",
    "while i < len(s)-2:\n",
    "    a = s[i]\n",
    "    b = s[i+1]\n",
    "    c = s[i+2]\n",
    "    if a != b or b !=c:\n",
    "        i = i+1\n",
    "        stack.append(a)\n",
    "    else:\n",
    "        i = i+1\n",
    "if len(s)>2:         \n",
    "    stack.append(s[-2])\n",
    "    stack.append(s[-1])\n",
    "else:\n",
    "    print(s)\n",
    "print(''.join(stack))\n",
    "        \n"
   ]
  },
  {
   "cell_type": "code",
   "execution_count": null,
   "id": "05168b72",
   "metadata": {},
   "outputs": [],
   "source": [
    "s = \"xyzzaz\"\n",
    "s = \"aababcabc\"\n",
    "i = 0\n",
    "stack = []\n",
    "while i < len(s)-2:\n",
    "    flag = 0\n",
    "    for y in s[i:i+3]:\n",
    "        if s[i:i+3].count(y) !=1:\n",
    "            flag = 1\n",
    "            break\n",
    "    if flag==0:\n",
    "        stack.append(s[i:i+3])\n",
    "    i = i+1\n",
    "    \n",
    "        \n",
    "print(len(stack))"
   ]
  },
  {
   "cell_type": "code",
   "execution_count": null,
   "id": "1df3904f",
   "metadata": {},
   "outputs": [],
   "source": [
    "text = \"  this   is  a sentence \"\n",
    "text = \" practice   makes   perfect\"\n",
    "text = \"a\"\n",
    "\n",
    "text = \"  hello\"\n",
    "list1 = text.split()\n",
    "count = 0\n",
    "for x in text:\n",
    "    if x ==\" \":\n",
    "        count=count+1\n",
    "print(count)\n",
    "print(len(list1))\n",
    "#print(count//(len(list1)-1))\n",
    "try: \n",
    "    k = count//(len(list1)-1)\n",
    "    m = \" \"*k\n",
    "    if k*(len(list1)-1) < count:\n",
    "        l = count-(k*(len(list1)-1))\n",
    "        print(m.join(list1)+\" \"*l)\n",
    "    else:\n",
    "        print(m.join(list1))\n",
    "except ZeroDivisionError:\n",
    "    print(text.replace(\" \",\"\")+\" \"*count)"
   ]
  },
  {
   "cell_type": "code",
   "execution_count": null,
   "id": "ca6a5686",
   "metadata": {},
   "outputs": [],
   "source": [
    "allowed = \"ab\"\n",
    "words = [\"ad\",\"bd\",\"aaab\",\"baa\",\"badab\"]\n",
    "allowed = \"abc\"\n",
    "words = [\"a\",\"b\",\"c\",\"ab\",\"ac\",\"bc\",\"abc\"]\n",
    "allowed = \"cad\"\n",
    "words = [\"cc\",\"acd\",\"b\",\"ba\",\"bac\",\"bad\",\"ac\",\"d\"]\n",
    "stack = []\n",
    "for word in words:\n",
    "    flag = 0\n",
    "    for x in word:\n",
    "        if x not in allowed:\n",
    "            flag = 1\n",
    "    if flag ==0:\n",
    "        stack.append(word)\n",
    "print(len(stack))"
   ]
  },
  {
   "cell_type": "code",
   "execution_count": null,
   "id": "d0319591",
   "metadata": {},
   "outputs": [],
   "source": [
    "s = \"a1c1e1\"\n",
    "s = \"a1b2c3d4e\"\n",
    "x = \"\"\n",
    "i = 0\n",
    "while i < len(s):\n",
    "    if i%2==0:\n",
    "        x=x+s[i]\n",
    "    else:\n",
    "        y = s[i-1]\n",
    "        x=x+(chr(ord(y)+int(s[i])))\n",
    "    i = i+1\n",
    "print(x)        \n",
    "        \n"
   ]
  },
  {
   "cell_type": "code",
   "execution_count": null,
   "id": "61ba7ba3",
   "metadata": {},
   "outputs": [],
   "source": [
    "items = [[\"phone\",\"blue\",\"pixel\"],[\"computer\",\"silver\",\"lenovo\"],\n",
    "         [\"phone\",\"gold\",\"iphone\"]]\n",
    "ruleKey = \"color\"\n",
    "ruleValue = \"silver\"\n",
    "items = [[\"phone\",\"blue\",\"pixel\"],[\"computer\",\"silver\",\"phone\"],[\"phone\",\"gold\",\"iphone\"]]\n",
    "ruleKey = \"type\"\n",
    "ruleValue = \"phone\"\n",
    "items = [[\"qqqq\",\"qqqq\",\"qqqq\"],[\"qqqq\",\"qqqq\",\"qqqq\"],[\"qqqq\",\"qqqq\",\"qqqq\"],[\"qqqq\",\"qqqq\",\"qqqq\"],[\"qqqq\",\"qqqq\",\"qqqq\"],[\"qqqq\",\"qqqq\",\"qqqq\"],[\"qqqq\",\"qqqq\",\"qqqq\"]]\n",
    "ruleKey = \"name\"\n",
    "ruleValue = \"qqqq\"\n",
    "count = 0\n",
    "for item in items:\n",
    "    type1 =  item[0]\n",
    "    color1 = item[1]\n",
    "    value1 = item[2]\n",
    "    if ruleKey == 'type'and ruleValue == type1:\n",
    "        count = count+1\n",
    "    elif ruleKey == 'color' and ruleValue == color1:\n",
    "        count = count+1\n",
    "    elif ruleKey == 'name' and ruleValue == value1:\n",
    "        count = count+1  \n",
    "print(count)\n",
    "\n"
   ]
  },
  {
   "cell_type": "code",
   "execution_count": null,
   "id": "43355bee",
   "metadata": {},
   "outputs": [],
   "source": [
    "sentence = \"thequickbrownfoxjumpsoverthelazydog\"\n",
    "if len(sentence)<26:\n",
    "    print(False)\n",
    "else:\n",
    "    stack = set()\n",
    "    for x in sentence:\n",
    "        stack.add(x)\n",
    "    if len(stack)==26:\n",
    "        print(True)\n",
    "    else:\n",
    "        print(False)"
   ]
  },
  {
   "cell_type": "code",
   "execution_count": null,
   "id": "f0fbf14d",
   "metadata": {},
   "outputs": [],
   "source": [
    "operations = [\"--X\",\"X++\",\"X++\"]\n",
    "operations = [\"++X\",\"++X\",\"X++\"]\n",
    "operations = [\"X++\",\"++X\",\"--X\",\"X--\"]\n",
    "X = 0\n",
    "for operation in operations:\n",
    "    if operation == \"++X\" or operation == \"X++\":\n",
    "        X = X+1\n",
    "    if operation == \"--X\" or operation == \"X--\":\n",
    "        X = X-1\n",
    "print(X)"
   ]
  },
  {
   "cell_type": "code",
   "execution_count": null,
   "id": "402d1805",
   "metadata": {},
   "outputs": [],
   "source": [
    "word1 = [\"ab\", \"c\"]\n",
    "word2 = [\"a\", \"bc\"]\n",
    "word1 = [\"a\", \"cb\"]\n",
    "word2 = [\"ab\", \"c\"]\n",
    "word1  = [\"abc\", \"d\", \"defg\"]\n",
    "word2 = [\"abcddefg\"]\n",
    "if ''.join(word1) == ''.join(word2):\n",
    "    print(True)\n",
    "else:\n",
    "    print(False)"
   ]
  },
  {
   "cell_type": "code",
   "execution_count": null,
   "id": "b6d613ec",
   "metadata": {},
   "outputs": [],
   "source": [
    "address = \"1.1.1.1\"\n",
    "address = \"255.100.50.0\"\n",
    "y = ''\n",
    "for x in address:\n",
    "    if x.isdigit():\n",
    "        y = y+x\n",
    "    else:\n",
    "        y = y+'[.]'\n",
    "print(y)"
   ]
  },
  {
   "cell_type": "code",
   "execution_count": null,
   "id": "86596baf",
   "metadata": {},
   "outputs": [],
   "source": [
    "s = \"codeleet\"\n",
    "indices = [4,5,6,7,0,2,1,3]\n",
    "s = \"abc\"\n",
    "indices = [0,1,2]\n",
    "stack = []\n",
    "for i in range(len(s)):\n",
    "    stack.append(s[indices.index(i)])\n",
    "print(''.join(stack))"
   ]
  },
  {
   "cell_type": "code",
   "execution_count": null,
   "id": "b9f4dfeb",
   "metadata": {},
   "outputs": [],
   "source": [
    "import collections\n",
    "s = \"abacbc\"\n",
    "s = \"aaabb\"\n",
    "y = collections.Counter(s)\n",
    "temp = y.get(s[0])\n",
    "for x in y:\n",
    "    if y.get(x) != temp:\n",
    "        print(False)\n",
    "print(True)"
   ]
  },
  {
   "cell_type": "code",
   "execution_count": null,
   "id": "187c58ce",
   "metadata": {},
   "outputs": [],
   "source": [
    "coordinates = \"h8\"\n",
    "#coordinates = \"h3\"\n",
    "coordinates = \"c2\"\n",
    "if ((ord(coordinates[0])-97)%2 ==0 and int(coordinates[1])%2 ==0) or ((ord(coordinates[0])-97)%2 !=0 and int(coordinates[1])%2 !=0):\n",
    "    print(True)\n",
    "else:\n",
    "    print(False)\n",
    "    \n",
    "    "
   ]
  },
  {
   "cell_type": "code",
   "execution_count": null,
   "id": "d683a8bf",
   "metadata": {},
   "outputs": [],
   "source": [
    "word = \"abc\"\n",
    "word = \"abc\"\n",
    "current =  ord('a')\n",
    "res = 0\n",
    "for w in word:\n",
    "    temp = abs(current-ord(w))%26\n",
    "    count = min(temp,26-temp)\n",
    "    res = res + count+1\n",
    "    current = ord(w)\n",
    "print(res)"
   ]
  },
  {
   "cell_type": "code",
   "execution_count": null,
   "id": "acaaf172",
   "metadata": {},
   "outputs": [],
   "source": [
    "ord('b')\n",
    "ord('b')-ord('z')"
   ]
  },
  {
   "cell_type": "code",
   "execution_count": null,
   "id": "c42d77cd",
   "metadata": {},
   "outputs": [],
   "source": [
    "paths = [[\"London\",\"New York\"],[\"New York\",\"Lima\"],[\"Lima\",\"Sao Paulo\"]]\n",
    "stack = []\n",
    "stack = [x for path in paths for x in path]\n",
    "for x in stack:\n",
    "    i = 0\n",
    "    while i < len(paths):\n",
    "        if stack.count(x) ==1 and paths[i][1] == x:\n",
    "            print(x)\n",
    "            break\n",
    "        i = i+1\n",
    "    \n",
    "        \n",
    "    "
   ]
  },
  {
   "cell_type": "code",
   "execution_count": null,
   "id": "67bccaa1",
   "metadata": {},
   "outputs": [],
   "source": [
    "paths[2][1]\n",
    "len(paths)"
   ]
  },
  {
   "cell_type": "code",
   "execution_count": null,
   "id": "0d88151b",
   "metadata": {},
   "outputs": [],
   "source": [
    "firstWord = \"acb\"\n",
    "secondWord = \"cba\"\n",
    "targetWord = \"cdb\"\n",
    "s1=''\n",
    "s2=''\n",
    "s3=''\n",
    "for x in firstWord:\n",
    "    s1= s1+str(ord(x)-97)\n",
    "for x in secondWord:\n",
    "    s2= s2+str(ord(x)-97)\n",
    "for x in targetWord:\n",
    "    s3= s3+str(ord(x)-97)\n",
    "if (int(s1)+int(s2)) == int(s3):\n",
    "    print(True)\n",
    "else:\n",
    "    print(False)"
   ]
  },
  {
   "cell_type": "code",
   "execution_count": null,
   "id": "6de68c1c",
   "metadata": {},
   "outputs": [],
   "source": [
    "n = 9\n",
    "if n%2==0:\n",
    "    print((n-1)*'a'+'b')\n",
    "else:\n",
    "    print('a'*n)"
   ]
  },
  {
   "cell_type": "code",
   "execution_count": null,
   "id": "fafc4989",
   "metadata": {},
   "outputs": [],
   "source": [
    "s = \"10#11#12\"\n",
    "s = \"1326#\"\n",
    "\n",
    "i = 0\n",
    "res = ''\n",
    "while i < len(s):\n",
    "    x = ''\n",
    "    if i < len(s)-2 and s[i+2]=='#':\n",
    "        x = x+s[i]+s[i+1]\n",
    "        res=res+chr(96+int(x))\n",
    "        i = i+3\n",
    "    else:\n",
    "        x = x+s[i]\n",
    "        res = res+chr(96+int(x))\n",
    "        i = i+1\n",
    "print(res)"
   ]
  },
  {
   "cell_type": "code",
   "execution_count": null,
   "id": "79cef4d1",
   "metadata": {},
   "outputs": [],
   "source": [
    "s = \"aaaba\"\n",
    "length = len(s)\n",
    "for "
   ]
  },
  {
   "cell_type": "code",
   "execution_count": null,
   "id": "26e47775",
   "metadata": {},
   "outputs": [],
   "source": [
    "chr(96+10)"
   ]
  },
  {
   "cell_type": "code",
   "execution_count": null,
   "id": "f4c9747d",
   "metadata": {},
   "outputs": [],
   "source": [
    "s = \"Hello, my name is John\"\n",
    "s = s.split()\n",
    "len(s)"
   ]
  },
  {
   "cell_type": "code",
   "execution_count": null,
   "id": "1af86f92",
   "metadata": {},
   "outputs": [],
   "source": [
    "word = \"internationalization\"\n",
    "abbr = \"i12iz4n\"\n",
    "stack = []\n",
    "temp = ''\n",
    "while i < len(word):\n",
    "    if abbr[i].isalpha() and word[i]==abbr[i]:\n",
    "        i = i+1\n",
    "        temp = ''\n",
    "    elif abbr[i].isdigit():\n",
    "        temp = temp+abbr[i]"
   ]
  },
  {
   "cell_type": "code",
   "execution_count": null,
   "id": "2ebd292f",
   "metadata": {},
   "outputs": [],
   "source": [
    "s = \"000111000\"\n",
    "s = \"00011111222\"\n",
    "s = \"011100022233\"\n",
    "s = \"66666666666677722\"\n",
    "s = \"1\"\n",
    "stack = []\n",
    "i = 0\n",
    "while i < len(s):\n",
    "    if len(s)==1:\n",
    "        print(False)\n",
    "    if s[0] != s[1] or s[-2]!=s[-1]:\n",
    "        print(False)\n",
    "    if i < (len(s)-2) and s[i] == s[i+1] and s[i+1]== s[i+2]:\n",
    "        stack.append(s[i]+s[i+1]+s[i+2])\n",
    "        i = i+3\n",
    "    elif i < (len(s)-2) and s[i] == s[i+1] and s[i+1]!= s[i+2]:\n",
    "        stack.append(s[i]+s[i+1])\n",
    "        i = i+2\n",
    "    elif i < (len(s)-1) and s[i] == s[i+1]:\n",
    "        stack.append(s[i]+s[i+1])\n",
    "        i = i+2\n",
    "    else:\n",
    "        i = i+1\n",
    "        print(\"inside else\")\n",
    "        print(False)\n",
    "count = 0\n",
    "for x in stack:\n",
    "    if len(x) == 2:\n",
    "        count = count+1\n",
    "if count ==1:\n",
    "    print(True)\n",
    "else:\n",
    "    print(False)\n",
    "print(stack)"
   ]
  },
  {
   "cell_type": "code",
   "execution_count": null,
   "id": "f5a8bbfa",
   "metadata": {},
   "outputs": [],
   "source": [
    "number = \"1-23-45 6\"\n",
    "number = \"123 4-567\"\n",
    "number = \"123 4-5678\"\n",
    "number = number.replace(' ','')\n",
    "number = number.replace('-','')\n",
    "i = 0\n",
    "stack = []\n",
    "while len(number)> 0:\n",
    "    if len(number) > 4:\n",
    "        stack.append(number[0:3])\n",
    "        number=number[3:]\n",
    "    elif len(number) == 4:\n",
    "        stack.append(number[0:2])\n",
    "        stack.append(number[2:4])\n",
    "        number=number[4:]\n",
    "    elif len(number)<4:\n",
    "        stack.append(number[0:])\n",
    "        number=''\n",
    "print('-'.join(stack))"
   ]
  },
  {
   "cell_type": "code",
   "execution_count": null,
   "id": "e93fa343",
   "metadata": {},
   "outputs": [],
   "source": [
    "number=''\n",
    "len(number)"
   ]
  },
  {
   "cell_type": "code",
   "execution_count": null,
   "id": "54a0cdd0",
   "metadata": {},
   "outputs": [],
   "source": [
    "paragraph = \"Bob hit a ball, the hit BALL flew far after it was hit.\"\n",
    "banned = [\"hit\"]\n",
    "paragraph = \"Bob!\"\n",
    "banned = [\"hit\"]\n",
    "#paragraph = \"a, a, a, a, b,b,b,c, c\"\n",
    "#banned=[\"a\"]\n",
    "import collections\n",
    "stack=[]\n",
    "for x in paragraph.split():\n",
    "    if x.isalnum():\n",
    "        stack.append(x.lower())\n",
    "    else:\n",
    "        temp =''\n",
    "        for y in x:\n",
    "            if y.isalpha():\n",
    "                temp = temp+y\n",
    "            else:\n",
    "                break\n",
    "        stack.append(temp.lower())\n",
    "\n",
    "y = (collections.Counter(stack))\n",
    "for x in banned:\n",
    "    if x in y:\n",
    "        y.pop(x)\n",
    "print(y.most_common(1)[0][0])\n"
   ]
  },
  {
   "cell_type": "code",
   "execution_count": null,
   "id": "b7511962",
   "metadata": {},
   "outputs": [],
   "source": [
    "s = \"PPALLP\"\n",
    "s = \"PPALLL\"\n",
    "absent = 0\n",
    "late = 0\n",
    "for x in s:\n",
    "    if x =='A':\n",
    "        late = 0\n",
    "        absent = absent+1\n",
    "        if absent > 2:\n",
    "            print(False)\n",
    "            break\n",
    "    if x == 'L':\n",
    "        absent = 0\n",
    "        late = late+1\n",
    "        if late>2:\n",
    "            print(False)\n",
    "    if x =='P':\n",
    "        absent = 0\n",
    "        late = 0\n",
    "print(True)\n",
    "        \n",
    "    "
   ]
  },
  {
   "cell_type": "code",
   "execution_count": null,
   "id": "1547e8e2",
   "metadata": {},
   "outputs": [],
   "source": [
    "num = \"69\"\n",
    "num = \"88\"\n",
    "num = \"962\"\n",
    "dict1 = {'6':'9','9':'6','8':'8','1':'1','0':'0'}\n",
    "stack = []\n",
    "for x in num:\n",
    "    if dict1.get(x) is not None:\n",
    "        stack.append(dict1.get(x))\n",
    "    else:\n",
    "        print(False)\n",
    "if ''.join(stack)==num[::-1]:\n",
    "    print(True)\n",
    "else:\n",
    "    print(False)"
   ]
  },
  {
   "cell_type": "code",
   "execution_count": null,
   "id": "09cf880e",
   "metadata": {},
   "outputs": [],
   "source": [
    "word = \"internationalization\"\n",
    "abbr = \"i12iz4n\"\n",
    "#word = \"apple\"\n",
    "#abbr = \"a2e\"\n",
    "\n",
    "#word =\"internationalization\"\n",
    "#abbr =\"i5a11o1\"\n",
    "word = 'a'\n",
    "abbr = '01'\n",
    "\n",
    "stack = []\n",
    "i = 0\n",
    "temp = ''\n",
    "\n",
    "while i < len(abbr):\n",
    "    if abbr[i].isalpha():\n",
    "        stack.append(abbr[i])\n",
    "        temp = ''\n",
    "    elif temp=='' and abbr[i]=='0':\n",
    "        print(False)\n",
    "        break\n",
    "    elif abbr[i].isdigit():\n",
    "        temp = temp+abbr[i]\n",
    "        if i < (len(abbr)-1) and not abbr[i+1].isdigit():\n",
    "            stack.append(temp)\n",
    "        elif i == (len(abbr)-1):\n",
    "            stack.append(temp)\n",
    "    i = i+1\n",
    "j =0\n",
    "temp =''\n",
    "i =0\n",
    "print(stack)\n",
    "while i < len(stack):\n",
    "    if stack[i].isalpha():\n",
    "        temp = temp+stack[i]\n",
    "        j = j+1\n",
    "        i = i+1\n",
    "    elif stack[i].isdigit():\n",
    "        if (len(word[j:j+int(stack[i])])) == (int(stack[i])):\n",
    "            temp = temp+word[j:j+int(stack[i])]\n",
    "            j = j+int(stack[i])\n",
    "            i = i+1\n",
    "        else:\n",
    "            print(False)\n",
    "            break\n",
    "if temp == word:\n",
    "    print(True)\n",
    "else:\n",
    "    print(False)\n",
    "        "
   ]
  },
  {
   "cell_type": "code",
   "execution_count": null,
   "id": "ec7a6e49",
   "metadata": {},
   "outputs": [],
   "source": [
    "s = \"00110011\"\n",
    "res = 0\n",
    "prev = 0\n",
    "tmp = 1\n",
    "for i in range(1, len(s)):\n",
    "    if s[i] != s[i-1]:\n",
    "        res += min(prev, tmp)\n",
    "        prev = tmp\n",
    "        tmp = 1\n",
    "    else:\n",
    "        tmp += 1\n",
    "res += min(prev, tmp)\n",
    "print(res)"
   ]
  },
  {
   "cell_type": "code",
   "execution_count": null,
   "id": "e08164ad",
   "metadata": {},
   "outputs": [],
   "source": [
    "s = 'a'\n",
    "if s[1:2]!='':\n",
    "    print(\"inside\")\n"
   ]
  },
  {
   "cell_type": "code",
   "execution_count": null,
   "id": "7c4f0df8",
   "metadata": {},
   "outputs": [],
   "source": [
    "s = \"1101\"\n",
    "s = \"111000\"\n",
    "s ='1'\n",
    "o =[]\n",
    "z =[]\n",
    "one = 0\n",
    "zero = 0\n",
    "i =0\n",
    "while i < len(s):\n",
    "    if s[i] =='1':\n",
    "        one = one+1\n",
    "        if (i < (len(s)-1) and s[i+1] != '1') or i == len(s)-1:\n",
    "            o.append(one)\n",
    "            one = 0\n",
    "        i = i+1\n",
    "    elif s[i] == '0':\n",
    "        zero= zero+1\n",
    "        if (i < (len(s)-1) and s[i+1] != '0') or i == len(s)-1:\n",
    "            z.append(zero)\n",
    "            zero = 0\n",
    "        i = i+1\n",
    "if not o:\n",
    "    print(True)\n",
    "elif max(o)>max(z):\n",
    "    print(True)\n",
    "else:\n",
    "    print(False)"
   ]
  },
  {
   "cell_type": "code",
   "execution_count": null,
   "id": "f4cfeed4",
   "metadata": {},
   "outputs": [],
   "source": [
    "n = 1987\n",
    "if len(str(n))<4:\n",
    "    print(n)\n",
    "else:\n",
    "    i = 1\n",
    "    stack = []\n",
    "    n = str(n)\n",
    "    while len(n)> 3:\n",
    "        stack.append(n[-3:])\n",
    "        n = n[:-3]\n",
    "    if len(n)<= 3:\n",
    "        stack.append(n)\n",
    "        print(n)\n",
    "    print('.'.join(stack[::-1]))"
   ]
  },
  {
   "cell_type": "code",
   "execution_count": null,
   "id": "0d29f389",
   "metadata": {},
   "outputs": [],
   "source": [
    "words = [\"mass\",\"as\",\"hero\",\"superhero\"]\n",
    "res = set()\n",
    "for i in range(len(words)):\n",
    "    for j in range(len(words)):\n",
    "        if words[i] in words[j] and i != j:\n",
    "            res.add(words[i])\n",
    "print(res)"
   ]
  },
  {
   "cell_type": "code",
   "execution_count": null,
   "id": "5014f03f",
   "metadata": {},
   "outputs": [],
   "source": [
    "import collections\n",
    "licensePlate = \"1s3 PSt\"\n",
    "words = [\"step\",\"steps\",\"stripe\",\"stepple\"]\n",
    "letter = [x.lower() for x in licensePlate if x.isalpha()]\n",
    "char = collections.Counter(letter)\n",
    "stack =[]\n",
    "for word in words:\n",
    "    flag = 0\n",
    "    for c in char:\n",
    "        if c not in word or char.get(c) > word.count(c):\n",
    "            flag = 1\n",
    "    if flag == 0:\n",
    "        stack.append(word)\n",
    "print(stack)              \n",
    "            "
   ]
  },
  {
   "cell_type": "code",
   "execution_count": null,
   "id": "63f04d1c",
   "metadata": {},
   "outputs": [],
   "source": [
    "digits = [1,2,3]\n",
    "digits = [4,3,2,1]\n",
    "digits = [9]\n",
    "y ='' \n",
    "for x in digits:\n",
    "    y = y+str(x)\n",
    "print(list(str(int(y)+1)))"
   ]
  },
  {
   "cell_type": "code",
   "execution_count": null,
   "id": "1ffaba0b",
   "metadata": {},
   "outputs": [],
   "source": [
    "num = [1,2,0,0]\n",
    "k = 34\n",
    "y = ''\n",
    "for x in num:\n",
    "    y = y+str(x)\n",
    "print(list(str(int(y)+k)))"
   ]
  },
  {
   "cell_type": "code",
   "execution_count": null,
   "id": "cbb0d768",
   "metadata": {},
   "outputs": [],
   "source": [
    "n = 2\n",
    "stack = []\n",
    "sum1 = 0\n",
    "while n != 1:\n",
    "    sum1 =0\n",
    "    for x in str(n):\n",
    "        sum1 = sum1+pow(int(x),2)\n",
    "    n = sum1\n",
    "    if n in stack:\n",
    "        print(False)\n",
    "        break\n",
    "    stack.append(sum1)\n",
    "print(True)\n",
    "\n",
    "\n",
    "    "
   ]
  },
  {
   "cell_type": "code",
   "execution_count": null,
   "id": "1a7e6a2f",
   "metadata": {},
   "outputs": [],
   "source": [
    "num = 38\n",
    "while len(str(num)) !=1:\n",
    "    sum1 = 0\n",
    "    for x in str(num):\n",
    "        sum1 = sum1+int(x)\n",
    "    num = sum1\n",
    "print(sum1)"
   ]
  },
  {
   "cell_type": "code",
   "execution_count": null,
   "id": "e07a0098",
   "metadata": {},
   "outputs": [],
   "source": [
    "n = 379\n",
    "dict1 = {'1':'1','0':'0','6':'9','9':'6','8':'8'}\n",
    "stack = []\n",
    "for x in str(n):\n",
    "    if x in dict1 and dict1.get(x):\n",
    "        stack.append(dict1.get(x))\n",
    "    else:\n",
    "        print(False)\n",
    "        break\n",
    "if int(''.join(stack)) != n:\n",
    "    print(True)\n",
    "else:\n",
    "    print(False)"
   ]
  },
  {
   "cell_type": "code",
   "execution_count": null,
   "id": "0224bd0f",
   "metadata": {},
   "outputs": [],
   "source": [
    "n = 20\n",
    "dict1 = {'1':'1','0':'0','6':'9','9':'6','8':'8'}\n",
    "stack= []\n",
    "for x in range(2,n):\n",
    "    z = ''\n",
    "    #print(\"x: {}\".format(x))\n",
    "    for indx,y in enumerate(str(x)):\n",
    "        if y in dict1:\n",
    "            z = z+dict1.get(y)\n",
    "    if len(str(x))-1 == indx and len(z) == len(str(x)):\n",
    "        if str(x)!=z[::-1]:\n",
    "            #print(\"z : {}\".format(z))\n",
    "            #print(\"x: {}\".format(x))\n",
    "            stack.append(z)\n",
    "print(stack)\n",
    "            \n",
    "            \n",
    "        "
   ]
  },
  {
   "cell_type": "code",
   "execution_count": null,
   "id": "b2a1824c",
   "metadata": {},
   "outputs": [],
   "source": [
    "n = 0\n",
    "res = 0\n",
    "i = 0\n",
    "if n <= 0:\n",
    "    print(False)\n",
    "while res !=n:\n",
    "    if res > n:\n",
    "        print(False)\n",
    "        break\n",
    "    res = pow(2,i)\n",
    "    i = i+1\n",
    "#print(i-1)\n",
    "print(True)\n",
    "    "
   ]
  },
  {
   "cell_type": "code",
   "execution_count": null,
   "id": "3f44e21d",
   "metadata": {},
   "outputs": [],
   "source": [
    "n =1011\n",
    "print(bin(n).count('1'))\n"
   ]
  },
  {
   "cell_type": "code",
   "execution_count": null,
   "id": "e26ca692",
   "metadata": {},
   "outputs": [],
   "source": [
    "n = 2\n",
    "res = 0\n",
    "i = 0\n",
    "if n <0:\n",
    "    print(False)\n",
    "while res != n:\n",
    "    if res>n:\n",
    "        print(False)\n",
    "        break\n",
    "    res = pow(3,i)\n",
    "    i = i+1\n",
    "print(i-1)\n",
    "print(True)"
   ]
  },
  {
   "cell_type": "code",
   "execution_count": null,
   "id": "27baeb67",
   "metadata": {},
   "outputs": [],
   "source": [
    "n = 1\n",
    "res = 0\n",
    "i=0\n",
    "if n <=0:\n",
    "    print(False)\n",
    "while res != n:\n",
    "    if res>n:\n",
    "        print(False)\n",
    "        break\n",
    "    res = pow(4,i)\n",
    "    i=i+1\n",
    "print(i-1)\n",
    "print(True)"
   ]
  },
  {
   "cell_type": "code",
   "execution_count": null,
   "id": "2a5029e8",
   "metadata": {},
   "outputs": [],
   "source": [
    "n = 43261596\n",
    "n = str(n)\n",
    "print(bin(int(n)))\n"
   ]
  },
  {
   "cell_type": "code",
   "execution_count": null,
   "id": "7ae9726e",
   "metadata": {},
   "outputs": [],
   "source": [
    "x = 1\n",
    "y = 4\n",
    "x = 3\n",
    "y = 1\n",
    "a = bin(x)[2:]\n",
    "b = bin(y)[2:]\n",
    "len1 = len(a)\n",
    "len2 = len(b)\n",
    "max_len = max(len1,len2)+1\n",
    "a = '0'*(max_len-len1)+a\n",
    "b = '0'*(max_len-len2)+b\n",
    "count = 0\n",
    "i =0\n",
    "while i < max_len:\n",
    "    if a[i]!=b[i]:\n",
    "        count = count+1\n",
    "    i = i+1\n",
    "print(count)\n"
   ]
  },
  {
   "cell_type": "code",
   "execution_count": null,
   "id": "b6fb2ee0",
   "metadata": {},
   "outputs": [],
   "source": [
    "n = 4\n",
    "n = bin(n)[2:]\n",
    "print(n)\n",
    "count = 0\n",
    "for x in n:\n",
    "    if x is '1':\n",
    "        count = count+1\n",
    "    else:\n",
    "        count = count -1\n",
    "    if count > 1 or count <0:\n",
    "        print(False)\n",
    "        break\n",
    "print(True)"
   ]
  },
  {
   "cell_type": "code",
   "execution_count": null,
   "id": "68aaa3d0",
   "metadata": {},
   "outputs": [],
   "source": [
    "left = 6\n",
    "right = 10\n",
    "n = 10\n",
    "left = 10\n",
    "right = 15\n",
    "count = 0\n",
    "for x in range(left,right+1,1):\n",
    "    flag = 0\n",
    "    binary = bin(x)[2:].count('1')\n",
    "    for i in range(2,binary//2):\n",
    "        y , rem = divmod(binary,i)\n",
    "        if rem == 0:\n",
    "            flag = 1\n",
    "            break\n",
    "    if binary !=4 and flag ==0 and binary!=1:\n",
    "        count= count+1\n",
    "        print(binary)\n",
    "        print(\"prime\")\n",
    "print(count)"
   ]
  },
  {
   "cell_type": "code",
   "execution_count": null,
   "id": "6decc97d",
   "metadata": {},
   "outputs": [],
   "source": [
    "x , rem = divmod(21,2)\n",
    "print(x)\n",
    "print(rem)"
   ]
  },
  {
   "cell_type": "code",
   "execution_count": null,
   "id": "34acec1e",
   "metadata": {},
   "outputs": [],
   "source": [
    "for x in range(left,right+1,1):\n",
    "    print(x)"
   ]
  },
  {
   "cell_type": "code",
   "execution_count": null,
   "id": "adda3ecf",
   "metadata": {},
   "outputs": [],
   "source": [
    "nums = [1,2,1,3,2,5]\n",
    "num = [x for x in nums if nums.count(x) == 1]\n",
    "print(num)\n",
    "        "
   ]
  },
  {
   "cell_type": "code",
   "execution_count": null,
   "id": "cf043401",
   "metadata": {},
   "outputs": [],
   "source": [
    "nums = [3,10,5,25,2,8]\n",
    "nums = [14,70,53,83,49,91,36,80,92,51,66,70]\n",
    "print(nums)\n",
    "res = []\n",
    "for x in nums:\n",
    "    if x not in res:\n",
    "        res.append(x)\n",
    "print(res)\n",
    "stack = []\n",
    "for i in range(len(res)):\n",
    "    for j in range(i+1,len(res)):\n",
    "        print(\"nums[i] {}\".format(res[i]))\n",
    "        print(\"nums[j] {}\".format(res[j]))\n",
    "        print(\"nums[i]^nums[j] {}\".format(res[i]^res[j]))\n",
    "        stack.append(res[i]^res[j])\n",
    "if not stack:\n",
    "    print(0)\n",
    "else:\n",
    "    print(max(stack))\n",
    "    print(stack)\n"
   ]
  },
  {
   "cell_type": "code",
   "execution_count": null,
   "id": "d1db0fd9",
   "metadata": {},
   "outputs": [],
   "source": [
    "nums = [2,2,3,2]\n",
    "for x in nums:\n",
    "    if nums.count(x)==1:\n",
    "        print(x)\n",
    "        break\n"
   ]
  },
  {
   "cell_type": "code",
   "execution_count": null,
   "id": "fed9578f",
   "metadata": {},
   "outputs": [],
   "source": [
    "pushed = [1,2,3,4,5]\n",
    "popped = [4,5,3,2,1]\n",
    "pushed = [1,2,3,4,5]\n",
    "popped = [4,3,5,1,2]\n",
    "stack = []\n",
    "i = 0\n",
    "j =0\n",
    "while i<len(popped):\n",
    "    while not stack or stack[-1]!=popped[j] and i < len(pushed):\n",
    "        stack.append(pushed[i])\n",
    "        i = i+1\n",
    "        print(stack)\n",
    "        print(i)\n",
    "    while stack and stack[-1]==popped[j]:\n",
    "        stack.pop()\n",
    "        j = j+1\n",
    "        print(stack)\n",
    "if not stack:\n",
    "    print(True)\n",
    "else:\n",
    "    print(False)"
   ]
  },
  {
   "cell_type": "code",
   "execution_count": null,
   "id": "3857d06a",
   "metadata": {},
   "outputs": [],
   "source": [
    "grid = [[1,1,1,-1,-1],[1,1,1,-1,-1],[-1,-1,-1,1,1],[1,1,1,1,-1],[-1,-1,-1,-1,-1]]\n",
    "for g in grid:\n",
    "    while i < len(g):\n",
    "        if g[i] > g[i+1] and g[i]+g[i+1] == 0:\n",
    "            \n",
    "            \n",
    "            \n"
   ]
  },
  {
   "cell_type": "code",
   "execution_count": null,
   "id": "9e0ede0a",
   "metadata": {},
   "outputs": [],
   "source": [
    "n = 5\n",
    "stack=[]\n",
    "for x in range(1,(n//2+1)):\n",
    "        stack.append(x)\n",
    "        stack.append(x*-1)\n",
    "if n%2 == 0:\n",
    "    print(stack)\n",
    "else:\n",
    "    stack.append(0)\n",
    "    print(stack)\n"
   ]
  },
  {
   "cell_type": "code",
   "execution_count": null,
   "id": "3cfe965e",
   "metadata": {},
   "outputs": [],
   "source": [
    "num = 14\n",
    "num = 8\n",
    "num =123\n",
    "i = 0\n",
    "while num !=0:\n",
    "    if num%2 == 0:\n",
    "        num = num//2\n",
    "        i = i+1\n",
    "    else:\n",
    "        num = num-1\n",
    "        i = i+1\n",
    "        \n",
    "print(i)\n",
    "    "
   ]
  },
  {
   "cell_type": "code",
   "execution_count": null,
   "id": "88d8ca09",
   "metadata": {},
   "outputs": [],
   "source": [
    "n = 12\n",
    "while n!=0:\n",
    "    if n%3 == 1:\n",
    "        n = n-1\n",
    "    elif n%3 == 0:\n",
    "        n = n/3\n",
    "    else:\n",
    "        print(False)\n",
    "print(True)"
   ]
  },
  {
   "cell_type": "code",
   "execution_count": null,
   "id": "133d0ac7",
   "metadata": {},
   "outputs": [],
   "source": [
    "n = 6\n",
    "n%2 == 0"
   ]
  },
  {
   "cell_type": "code",
   "execution_count": null,
   "id": "82259bac",
   "metadata": {},
   "outputs": [],
   "source": [
    "n = 28\n",
    "s = set()\n",
    "sum1 = 0\n",
    "for x in range(1,int(n**0.5)+1):\n",
    "    if n%x == 0 and x not in s:\n",
    "        sum1 = sum1+x\n",
    "    if n%x == 0:\n",
    "        s.add(x)\n",
    "if sum1 == n:\n",
    "    print(True)\n",
    "else:\n",
    "    print(False)\n",
    "print(sum1)\n",
    "print()\n",
    "    \n"
   ]
  },
  {
   "cell_type": "code",
   "execution_count": null,
   "id": "8e6ede04",
   "metadata": {},
   "outputs": [],
   "source": [
    "num = 28\n",
    "int(num**0.5)"
   ]
  },
  {
   "cell_type": "code",
   "execution_count": null,
   "id": "a83810a7",
   "metadata": {},
   "outputs": [],
   "source": [
    "n = 23\n",
    "for i in range(1,n):\n",
    "    str1,str2 = str(i),str(n-i)\n",
    "    if str1.find('0') == -1 and str2.find('0') == -1:\n",
    "        print(i)\n",
    "        print(n-i)"
   ]
  },
  {
   "cell_type": "code",
   "execution_count": null,
   "id": "ab5017f5",
   "metadata": {},
   "outputs": [],
   "source": [
    "n = 13\n",
    "n = 2\n",
    "from collections import defaultdict\n",
    "dict1 = defaultdict(list)\n",
    "for x in range(1,n+1):\n",
    "    y =list(str(x))\n",
    "    sum1 = 0\n",
    "    for z in y:\n",
    "        sum1 = sum1+int(z)\n",
    "    dict1[sum1].append(x)\n",
    "print(dict1)\n",
    "max_length = max([len(dict1.get(x)) for x in dict1])\n",
    "print(max_length)\n",
    "count = sum(len(dict1.get(x)) == max_length for x in dict1)\n",
    "print(count)\n"
   ]
  },
  {
   "cell_type": "code",
   "execution_count": 13,
   "id": "58b2fb4e",
   "metadata": {},
   "outputs": [
    {
     "name": "stdout",
     "output_type": "stream",
     "text": [
      "[-1, 3, -1]\n"
     ]
    }
   ],
   "source": [
    "nums1 = [4,1,2]\n",
    "nums2 = [1,3,4,2]\n",
    "#nums1 = [2,4]\n",
    "#nums2 = [1,2,3,4]\n",
    "#nums1 = [1,3,5,2,4]\n",
    "#nums2 = [6,5,4,3,2,1,7]\n",
    "val = []\n",
    "for x in nums1:\n",
    "    idx = nums2.index(x)\n",
    "    #print(x)\n",
    "    #print(idx)\n",
    "    while idx < len(nums2):\n",
    "        #print(\"idx {}\".format(idx))\n",
    "        if x < nums2[idx]:\n",
    "            #print(nums2[idx])\n",
    "            #print(x)\n",
    "            val.append(nums2[idx])\n",
    "            break;\n",
    "        elif idx == len(nums2)-1:\n",
    "            val.append(-1)\n",
    "        idx = idx+1\n",
    "            \n",
    "        \n",
    "print(val)"
   ]
  },
  {
   "cell_type": "code",
   "execution_count": 31,
   "id": "462f2626",
   "metadata": {},
   "outputs": [
    {
     "name": "stdout",
     "output_type": "stream",
     "text": [
      "[3, 2, 0, 1]\n"
     ]
    }
   ],
   "source": [
    "s = \"IDID\"\n",
    "s = \"III\"\n",
    "s = \"DDI\"\n",
    "length = len(s)\n",
    "i = 0\n",
    "stack = []\n",
    "for x in s:\n",
    "    if x == 'I':\n",
    "        stack.append(i)\n",
    "        i = i+1\n",
    "    elif x == 'D':\n",
    "        stack.append(length)\n",
    "        length = length-1\n",
    "    if len(s) == len(stack):\n",
    "        if x == 'I':\n",
    "            stack.append(i)\n",
    "        else:\n",
    "            stack.append(length)\n",
    "print(stack)"
   ]
  },
  {
   "cell_type": "code",
   "execution_count": 63,
   "id": "c35f198f",
   "metadata": {},
   "outputs": [
    {
     "name": "stdout",
     "output_type": "stream",
     "text": [
      "aaaccc\n"
     ]
    }
   ],
   "source": [
    "s = \"tree\"\n",
    "s = \"cccaaa\"\n",
    "l =set(s)\n",
    "from collections import defaultdict\n",
    "dict1 = defaultdict(list)\n",
    "for x in l:\n",
    "    dict1[s.count(x)].append(x)\n",
    "#print(dict1)\n",
    "y = sorted(dict1,reverse=True)\n",
    "#print(y)\n",
    "res = ''\n",
    "for x in y:\n",
    "    val = sorted(dict1.get(x))\n",
    "    #print(val)\n",
    "    for m in val:\n",
    "        res = res+''.join(m*x)\n",
    "print(res)\n",
    "        "
   ]
  },
  {
   "cell_type": "code",
   "execution_count": 92,
   "id": "1bd5b886",
   "metadata": {},
   "outputs": [
    {
     "name": "stdout",
     "output_type": "stream",
     "text": [
      "{1, 2, 3}\n",
      "1\n",
      "2\n",
      "3\n",
      "y [3, 2, 1]\n",
      "defaultdict(<class 'list'>, {3: [1], 2: [2], 1: [3]})\n",
      "[1, 2]\n"
     ]
    }
   ],
   "source": [
    "nums = [1,1,1,2,2,3]\n",
    "\n",
    "k = 2\n",
    "#nums = [1]\n",
    "#k = 1\n",
    "#nums = [4,1,-1,2,-1,2,3]\n",
    "#k = 2\n",
    "\n",
    "num = set(nums)\n",
    "print(num)\n",
    "from collections import defaultdict\n",
    "dict1 = defaultdict(list)\n",
    "for x in num:\n",
    "    print(x)\n",
    "    dict1[nums.count(x)].append(x)\n",
    "y = sorted(dict1,reverse=True)\n",
    "print(\"y {}\".format(y))\n",
    "print(dict1)\n",
    "stack = []\n",
    "for i in y:\n",
    "    for j in dict1.get(i):\n",
    "        stack.append(j)\n",
    "print(stack[:k])\n",
    "    "
   ]
  },
  {
   "cell_type": "code",
   "execution_count": 127,
   "id": "22803de1",
   "metadata": {},
   "outputs": [
    {
     "name": "stdout",
     "output_type": "stream",
     "text": [
      "defaultdict(<class 'list'>, {2: [1], 3: [2], 1: [3]})\n",
      "[1, 2, 3]\n",
      "[3, 1, 1, 2, 2, 2]\n"
     ]
    }
   ],
   "source": [
    "nums = [1,1,2,2,2,3]\n",
    "#nums = [2,3,1,3,2]\n",
    "#nums = [-1,1,-6,4,5,-6,1,4,1]\n",
    "\n",
    "from collections import defaultdict\n",
    "dict1 = defaultdict(list)\n",
    "\n",
    "num = set(nums)\n",
    "for x in num:\n",
    "    dict1[nums.count(x)].append(x)\n",
    "print(dict1)\n",
    "y = sorted(dict1)\n",
    "print(y)\n",
    "stack = [i for x in y for i in sorted(dict1.get(x),reverse=True) for j in range(x)]\n",
    "print(stack)\n",
    "\n"
   ]
  },
  {
   "cell_type": "code",
   "execution_count": 169,
   "id": "2c4b3a14",
   "metadata": {},
   "outputs": [
    {
     "name": "stdout",
     "output_type": "stream",
     "text": [
      "[2, -1, 2]\n"
     ]
    }
   ],
   "source": [
    "nums = [1,2,1]\n",
    "#nums = [1,2,3,4,3]\n",
    "#nums = [5,4,3,2,1]\n",
    "stack = []\n",
    "for i in range(len(nums)):\n",
    "    for j in range(i,len(nums)):\n",
    "        flag = 0 \n",
    "        if j <len(nums)-1 and  nums[i] < nums[j+1]:\n",
    "            stack.append(nums[j+1])\n",
    "            flag = 1\n",
    "            break\n",
    "    if flag == 0:\n",
    "        for k in range(i+1):\n",
    "            if k < len(nums)-1  and  nums[i] < nums[k]:\n",
    "                stack.append(nums[k])\n",
    "                break\n",
    "            elif k == i:\n",
    "                stack.append(-1)\n",
    "            \n",
    "    \n",
    "        \n",
    "print(stack)"
   ]
  },
  {
   "cell_type": "code",
   "execution_count": 211,
   "id": "8db7f93a",
   "metadata": {},
   "outputs": [
    {
     "name": "stdout",
     "output_type": "stream",
     "text": [
      "[69, 71, 72, 73, 74, 75, 76]\n",
      "{69: 71, 71: 72, 72: 73, 73: 74, 74: 75, 75: 76, 76: 0}\n",
      "i 0\n",
      "t 74\n",
      "i 1\n",
      "t 75\n",
      "i 2\n",
      "t 76\n",
      "i 3\n",
      "t 72\n",
      "i 4\n",
      "t 71\n",
      "i 5\n",
      "t 73\n",
      "i 6\n",
      "t 0\n",
      "i 7\n",
      "t 74\n",
      "[1, 1, 4, 2, 0, 2, 0, 0]\n"
     ]
    }
   ],
   "source": [
    "temperatures = [73,74,75,71,69,72,76,73]\n",
    "temperatures = [30,40,50,60]\n",
    "temperatures = [30,60,90]\n",
    "temperatures = [34,34,47,47,34,34,34,47,34,47,47,47,34,34,34,47,47,34,47,47,34,34,34,34,47,34,34,47,34,34,34,47,47,47,47,47,47,34,34,34,47,34,34,47,34,47,47,47,34,47,47,34,47,34,47,47,34,47,47,34,34,47,47,47,34,34,47,47,47,34,34,47,34,34,34,47,47,34,34,47,47,47,47,47,34,34,34,47,47,34,47,34,47,34,34,47,34,47,47,47,47,47,47,34,34,34,47,34,47,34,47,34,34,34,34,47,34,34,34,34,34,34,34,47,34,34,47,47,34,47,47,47,47,47,47,47,34,34,47,34,47,34,47,34,34,34,47,34,34,47,34,47,47,34,47,47,47,47,34,34,34,34,47,47,34,34,34,47,34,34,47,34,34,47,34,34,34,34,47,34,34,34,47,34,34,47,47,34,47,47,34,34,34,34,34,34,47,47,34,47,34,47,34,47,47,47,34,47,34,34,34,34,34,47,47,47,47,47,47,34,47,34,47,34,34,34,47,47,47,34,47,47,34,47,47,47,34,47,47,34,47,47,34,47,34,34,47,47,34,34,34,34,47,34,34,47,47,34,47,47,34,34,34,34,47,47,34,34,47,47,34,47,34,47,34,47,47,47,47,34,34,47,47,34,34,34,47,34,47,47,47,34,47,47,34,34,34,34,34,47,47,34,47,47,34,34,47,34,47,47,34,47,47,47,47,47,47,47,34,34,34,34,47,47,34,47,34,47,47,34,47,47,34,34,34,47,47,47,34,47,34,47,47,47,34,34,34,34,34,34,34,47,34,34,34,34,47,47,34,34,47,34,47,47,34,47,34,34,47,47,47,47,47,47,34,34,47,34,34,47,34,47,47,47,47,47,34,34,34,47,47,34,47,34,34,47,47,47,34,34,47,47,47,34,34,47,47,34,34,47,47,47,47,34,34,34,47,34,34,47,47,34,34,34,47,34,34,47,34,34,34,34,47,34,47,34,47,47,47,34,34,47,47,47,47,47,34,47,34,34,34,34,34,47,47,34,34,47,47,34,34,47,34,47,34,47,34,47,47,47,47,47,47,47,47,47,34,47,47,47,34,47,47,34,34,47,34,47,34,34,47,47,47,47,34,47,34,34,34,47,47,47,34,34,47,47,34,34,34,34,47,47,34,47,34,34,47,47,34,47,34,47,34,47,34,34,47,34,47,34,47,34,47,47,47,47,47,34,34,47,47,34,34,34,47,34,34,34,34,34,47,47,47,34,47,47,47,47,47,47,47,47,34,34,34,34,47,34,47,34,47,47,47,34,34,34,34,47,34,47,34,47,34,47,34,34,34,47,34,47,34,34,47,34,34,47,34,34,47,47,47,34,47,47,47,34,34,34,34,34,34,34,47,34,34,47,34,47,34,47,34,34,34,34,47,47,47,47,34,47,34,34,34,47,34,47,47,47,34,34,47,34,47,47,34,47,34,34,34,47,34,34,34,47,34,34,34,34,34,34,47,47,47,47,34,47,47,34,47,34,47,34,47,34,47,34,34,47,34,47,34,47,34,34,34,34,34,47,47,47,47,47,47,47,47,47,34,47,47,34,34,34,47,34,34,47,47,34,47,47,47,47,47,47,47,34,47,34,47,47,47,47,47,47,34,47,47,34,34,34,47,47,47,47,34,34,47,47,34,34,34,34,34,47,34,34,34,34,47,47,34,47,47,47,47,47,47,47,34,34,47,34,47,34,47,47,47,47,34,47,47,47,34,34,34,34,34,34,47,47,47,34,34,34,47,47,34,47,34,47,47,47,34,47,47,47,47,47,47,47,34,47,47,47,34,34,47,47,34,47,47,34,34,34,47,34,47,34,34,47,34,47,34,34,34,34,47,47,47,34,47,34,47,47,34,47,34,47,34,47,34,47,47,47,34,34,47,34,47,34,47,47,47,47,47,34,47,34,47,34,47,34,34,47,47,47,47,47,34,47,34,47,47,47,47,47,47,47,34,47,47,47,34,34,34,47,34,47,47,47,47,34,47,47,34,47,34,34,47,47,34,34,47,34,47,47,47,47,34,47,47,34,34,34,47,47,34,34,47,34,47,34,47,34,47,47,47,47,34,47,47,34,34,34,47,34,47,34,47,34,34,34,47,34,34,34,34,34,34,47,47,47,34,47,47,47,34,34,34,34,47,34,34,47,34,34,47,47,34,34,47,34,34,47,34,34,47,34,47,47,34,47,47,34,34,47,47,34,34,47,34,34,47,47,34,47,34,34,47,47,47,34,34,47,47,34,34,34,47,47,34,47,34,47,47,34,34,34,47,47,47,47,34,47,47,34,47,47,34,47,34,47,34,47,47,34,34,47,47,47,34,47,47,47,34,34,34,47,47,47,47,34,47,47,34,34,34,34,34,34,34,34,47,34,47,47,34,47,47,34,47,47,47,47,47,34,47,34,34,34,34,47,47,47,47,34,34,34,47,34,34,34,47,47,34,47,47,34,47,34,34,34,47,34,47,47,47,34,34,34,34,47,47,47,34,47,47,47,34,47,34,47,34,34,47,47,47,47,34,47,34,47,34,47,34,34,34,47,34,34,34,47,34,34,47,34,47,34,47,47,34,34,47,34,47,47,47,34,47,34,47,34,47,47,47,47,34,34,34,34,34,34,34,47,47,47,47,34,47,34,34,47,34,47,34,34,34,47,47,34,34,34,47,34,47,47,47,34,34,47,47,47,47,34,34,34,47,47,34,47,34,34,34,34,34,47,47,47,47,47,34,34,34,34,47,47,34,47,47,47,34,34,47,34,34,34,34,34,34,34,47,47,34,47,34,47,47,34,47,47,47,34,34,47,47,34,34,34,47,47,47,34,34,34,34,47,34,47,34,34,47,47,47,47,34,47,34,47,47,47,47,34,34,47,47,47,34,47,34,47,34,34,47,34,47,47,47,34,34,34,34,47,47,47,34,34,47,47,47,34,34,47,34,47,34,47,34,47,34,34,47,47,47,34,47,34,47,47,47,34,34,34,34,34,47,34,47,47,47,47,34,47,47,47,47,34,34,47,47,47,34,34,34,34,34,47,34,47,47,34,47,47,47,34,47,34,47,47,34,47,34,47,34,34,47,34,34,47,34,34,34,34,34,47,34,47,34,47,47,34,47,47,34,34,47,34,34,47,34,34,47,47,34,47,34,34,47,47,47,47,47,34,47,47,47,47,34,34,34,47,47,34,34,34,47,34,34,47,47,34,34,47,34,34,34,47,47,47,34,34,34,47,47,47,34,47,47,34,47,34,34,47,47,47,34,47,34,47,34,34,47,34,34,47,47,34,34,47,47,34,34,47,47,47,34,34,47,34,34,47,47,47,34,34,47,34,34,34,47,47,47,34,34,47,47,34,34,47,47,34,34,47,47,47,47,47,34,47,47,47,34,47,47,34,34,47,34,47,34,34,34,47,47,47,47,47,47,34,34,47,47,47,34,34,34,34,34,34,34,34,47,34,34,34,34,34,47,34,34,34,47,47,34,34,34,47,34,47,47,34,47,34,34,34,47,47,34,47,34,47,34,34,47,34,47,34,34,47,47,34,34,34,47,34,34,34,34,47,34,47,47,34,34,34,47,47,34,34,34,47,47,47,34,34,47,34,47,34,47,34,34,34,47,34,47,34,34,34,47,47,34,34,47,34,47,34,34,34,34,47,47,47,47,47,34,47,47,34,47,34,34,34,34,34,34,34,47,47,34,34,47,47,47,34,34,34,47,34,34,34,34,34,47,34,47,47,34,47,47,34,34,34,34,47,34,34,47,47,34,34,34,34,47,47,47,47,34,47,34,47,47,34,34,47,34,47,47,34,34,34,34,34,34,34,47,34,34,34,47,34,34,34,34,34,47,47,47,47,34,47,47,34,34,47,34,47,47,34,34,34,47,47,34,47,47,47,47,47,34,47,34,34,47,47,34,34,34,47,47,34,34,47,34,34,34,47,34,34,47,47,34,47,34,34,47,47,47,47,34,34,34,34,34,34,34,47,47,47,34,34,47,47,47,34,47,34,47,34,34,47,47,47,47,34,47,34,47,47,34,34,34,34,47,47,47,47,34,34,47,34,34,47,34,34,47,34,47,34,34,47,34,34,34,47,34,34,34,47,47,47,34,47,34,34,47,47,47,34,34,47,34,47,47,34,47,47,47,47,47,34,34,34,47,34,34,34,34,47,34,34,47,34,34,34,34,47,47,34,47,47,34,47,34,34,47,34,47,47,47,34,47,34,34,34,47,47,47,47,34,47,47,34,34,47,47,34,47,47,34,47,34,34,47,34,34,34,34,34,34,47,47,47,34,47,34,34,34,47,47,34,47,34,47,34,47,34,34,47,34,34,34,47,34,34,47,34,34,47,47,47,34,47,47,34,34,47,47,34,34,34,34,34,34,47,47,34,34,47,34,34,47,34,47,47,34,47,47,34,47,34,34,34,47,34,34,47,34,34,34,34,47,47,34,47,34,34,34,47,47,47,34,34,34,47,34,47,34,34,34,34,47,34,34,34,34,34,47,34,34,34,47,47,34,34,34,47,34,34,47,34,34,34,34,47,34,47,34,34,47,34,34,47,47,47,47,47,34,47,34,47,47,47,47,47,47,47,47,47,34,34,34,34,47,47,47,34,47,47,34,47,47,47,47,34,47,34,34,34,47,34,34,47,47,34,47,47,34,34,34,47,34,34,47,47,47,47,47,34,47,34,34,34,47,47,47,47,47,47,34,47,47,47,47,34,47,34,34,34,34,34,34,47,47,34,34,34,34,47,34,47,47,47,34,34,47,47,47,34,47,34,47,47,34,47,47,34,47,47,34,34,47,47,47,47,34,47,47,47,34,47,47,34,34,34,34,34,34,47,34,47,47,47,47,34,34,34,34,47,47,34,47,34,47,47,34,47,34,34,34,47,34,34,47,47,47,47,47,34,34,34,47,34,47,47,34,34,47,34,34,34,47,34,47,34,47,34,47,47,47,34,34,34,34,34,34,47,47,47,47,34,34,47,47,34,34,47,47,47,34,34,34,47,34,34,34,34,34,47,34,34,34,34,34,34,47,34,47,34,34,47,47,47,47,34,34,34,34,47,47,34,47,34,47,34,34,47,34,47,47,47,34,34,34,34,47,34,47,34,47,47,47,34,34,47,47,47,47,34,34,34,47,34,47,47,34,47,34,47,34,47,47,47,47,34,34,47,47,47,47,47,47,47,34,47,34,34,47,47,47,34,47,34,34,47,34,47,47,34,47,47,34,34,34,34,34,47,34,34,34,34,47,34,47,34,34,47,47,47,47,47,34,34,34,47,34,34,47,47,47,47,34,34,34,47,34,34,47,34,47,34,34,47,47,47,34,34,34,47,34,47,47,47,47,34,47,34,47,34,47,34,47,34,34,47,34,47,34,47,47,47,34,34,47,47,34,34,34,47,47,34,34,34,34,34,34,47,34,34,34,47,34,34,34,47,47,34,34,47,47,34,47,47,34,47,34,47,47,47,47,34,34,47,34,34,47,34,34,47,47,34,47,34,34,34,34,34,34,34,47,34,34,47,47,34,47,34,34,34,47,34,34,34,47,47,47,47,47,47,47,47,47,47,34,47,47,47,34,47,34,34,47,34,47,34,47,47,47,34,34,47,34,34,34,47,34,47,34,34,34,47,34,34,47,34,34,34,34,47,47,34,47,34,47,34,47,47,47,34,34,47,34,34,34,47,47,34,34,34,47,47,47,47,34,34,47,47,47,47,34,34,47,47,47,34,34,47,34,47,34,34,34,47,34,34,34,47,34,47,47,34,47,34,34,34,34,47,34,47,34,47,47,47,47,47,34,34,34,47,47,34,34,34,47,47,34,34,34,47,47,47,47,47,34,34,47,47,34,34,47,34,47,47,47,47,47,34,34,47,47,34,34,47,34,34,47,34,34,47,47,47,47,34,34,47,34,34,34,34,34,47,34,47,47,47,47,47,47,34,34,47,34,34,34,47,47,34,47,34,34,34,34,47,34,47,47,34,34,34,34,34,34,47,47,47,47,34,34,47,34,47,34,47,47,34,34,34,34,34,47,34,47,34,34,47,34,47,47,47,34,34,34,34,47,34,47,34,47,47,34,34,47,34,34,34,34,34,47,47,34,47,47,34,47,47,34,34,47,47,47,47,34,47,47,34,34,34,34,34,34,47,34,47,34,47,34,47,34,47,34,47,34,34,47,47,47,47,34,47,34,47,34,34,34,34,47,47,34,34,47,34,34,47,47,34,34,47,47,34,34,34,34,47,47,47,34,47,47,34,47,34,47,47,47,34,47,47,34,47,34,34,34,34,34,34,34,34,47,47,34,34,34,34,47,34,47,47,47,47,47,34,47,47,47,34,47,47,47,47,47,34,47,34,34,47,47,34,47,34,34,34,47,47,34,34,47,47,47,47,34,47,34,47,47,34,34,34,47,47,47,47,34,34,34,47,47,34,34,34,47,34,47,47,47,34,47,34,34,47,34,47,47,34,34,34,34,47,47,47,34,34,34,34,47,47,34,47,47,47,34,34,34,47,47,34,47,34,47,34,47,34,47,47,47,34,34,34,34,34,47,34,47,47,47,47,34,47,34,34,47,34,34,34,47,34,47,34,34,47,47,47,47,34,34,47,34,47,34,34,34,34,34,34,34,47,47,47,34,47,47,34,47,47,34,34,34,34,47,34,47,47,34,34,47,34,47,34,34,34,47,34,47,34,34,34,47,34,34,47,34,47,34,47,34,47,47,34,34,34,34,47,47,34,34,34,34,34,34,34,47,47,34,34,47,47,47,47,34,34,47,34,34,47,34,47,34,34,47,47,47,34,34,47,34,34,34,47,47,47,34,34,47,34,34,34,47,34,34,34,47,34,34,47,34,34,47,34,47,34,34,34,34,47,34,34,34,34,47,34,47,47,47,34,34,34,34,34,47,47,47,47,34,34,47,47,34,47,47,34,34,34,47,34,47,34,47,47,34,34,34,47,47,47,34,47,34,47,34,47,47,47,34,34,47,34,34,47,34,34,47,34,47,34,47,34,34,47,34,34,34,47,34,34,34,47,34,34,47,34,47,34,47,34,34,34,34,47,34,34,47,47,47,47,47,47,34,47,47,34,47,34,34,34,47,34,34,47,47,47,34,34,34,47,34,47,47,47,47,47,47,47,34,34,47,34,47,34,34,47,34,34,47,47,34,34,47,47,47,34,34,34,47,47,34,47,47,34,34,34,47,34,47,47,47,47,47,47,47,47,34,47,34,34,47,47,34,34,34,34,47,34,47,47,34,47,34,47,47,47,34,34,47,34,47,47,47,47,34,34,47,34,34,47,47,34,47,47,47,47,34,47,47,47,47,47,47,47,34,34,47,47,47,34,47,47,34,34,47,47,34,47,34,47,47,47,34,47,47,47,47,47,34,47,47,47,47,34,47,34,34,47,34,47,34,34,34,34,34,34,34,34,34,47,47,34,47,34,47,47,47,34,34,47,34,47,34,47,47,47,47,47,34,34,34,34,34,34,47,47,47,34,34,34,47,47,34,34,47,47,34,47,34,34,47,34,34,34,47,47,34,34,34,47,47,34,47,34,47,47,34,47,34,34,34,34,47,47,47,34,47,47,47,47,47,47,47,47,47,34,47,34,47,34,47,47,34,34,34,34,34,47,47,47,34,34,47,34,47,34,47,34,34,47,34,47,47,47,34,47,34,47,34,34,34,34,47,34,47,47,34,34,34,34,47,34,47,47,47,34,47,47,34,34,47,34,34,34,47,47,47,34,47,47,34,34,34,47,34,47,34,47,47,47,34,34,47,34,34,47,34,34,34,47,34,47,47,47,47,47,47,34,34,34,47,47,47,34,47,47,47,34,47,34,34,34,34,47,47,47,47,34,34,34,34,34,47,47,34,47,34,34,47,34,34,47,34,47,47,34,47,34,34,47,34,34,34,47,47,34,47,34,34,47,47,47,34,47,34,47,47,34,34,47,47,47,47,47,47,47,34,34,47,34,34,47,47,47,47,47,47,47,34,47,47,47,34,34,47,34,47,47,34,34,34,34,47,47,34,34,34,34,34,34,34,34,34,34,47,34,47,47,34,34,34,47,47,47,34,34,34,34,47,34,47,47,34,47,47,47,34,34,34,34,34,47,34,47,47,34,34,34,47,34,34,47,47,47,47,47,34,34,47,47,34,47,34,34,47,34,47,34,47,34,47,47,34,34,34,34,34,47,34,34,34,47,47,47,34,34,47,47,47,47,34,34,34,34,47,47,47,34,34,34,47,47,34,47,34,47,34,47,47,47,47,34,34,47,47,34,34,47,34,47,47,34,47,34,47,47,47,47,34,34,47,47,34,34,47,34,47,34,34,34,47,47,47,47,34,34,47,47,47,34,47,34,34,47,47,34,34,34,47,34,34,47,47,34,47,47,34,34,47,34,47,34,47,34,47,34,47,47,34,47,47,34,47,34,34,34,34,47,47,47,34,47,47,47,47,47,34,47,34,34,47,34,47,34,34,34,34,47,47,47,47,34,47,34,34,34,34,34,47,47,34,34,47,47,34,34,34,34,47,34,34,47,47,34,47,34,47,34,34,47,47,47,47,34,47,34,34,34,34,34,34,34,34,47,47,34,47,34,47,47,47,34,47,34,47,47,34,34,34,47,34,47,34,34,34,34,47,47,34,34,34,47,34,34,34,34,34,47,34,47,47,47,47,34,34,47,47,34,34,47,47,34,47,47,47,34,34,47,34,47,34,47,34,34,47,47,47,47,34,34,34,47,34,47,34,34,47,47,47,34,47,47,47,47,47,47,34,47,47,47,47,47,34,47,34,47,34,34,34,34,47,34,47,34,34,47,34,34,34,34,47,47,47,47,47,47,47,47,34,47,34,34,47,34,47,34,47,47,47,34,47,34,47,34,34,47,47,47,47,47,47,34,34,34,47,47,47,47,34,34,47,34,34,34,34,47,34,34,34,34,34,47,47,47,47,47,47,47,47,47,47,34,47,47,34,47,47,47,34,34,34,47,47,47,47,47,34,47,47,47,47,34,34,34,47,34,34,47,47,34,47,34,34,47,47,47,34,47,47,47,34,34,34,34,34,47,47,47,47,34,47,34,47,47,34,34,34,34,34,47,34,47,34,47,34,34,47,47,47,47,47,34,34,47,47,47,34,47,34,34,47,47,47,47,34,34,34,34,34,34,47,47,34,34,34,34,34,34,47,47,34,47,47,34,34,47,34,47,34,47,34,47,47,34,34,47,47,34,47,34,47,34,47,34,34,34,34,34,34,47,47,34,34,34,47,47,34,34,34,34,47,34,34,34,47,47,34,47,34,34,34,47,47,47,34,47,34,34,47,34,34,47,47,47,47,47,34,34,34,34,47,34,47,34,47,34,34,47,34,47,34,47,34,34,47,47,47,47,34,47,47,47,47,47,47,47,34,47,47,34,47,47,47,34,47,47,47,34,34,47,47,34,47,34,47,47,34,47,47,47,47,34,47,47,47,34,34,47,47,47,34,34,34,34,47,34,47,34,47,34,47,47,34,47,47,34,34,34,47,34,34,34,47,34,34,34,47,34,47,47,34,34,34,47,34,47,47,34,34,47,34,34,47,47,34,34,34,34,47,34,47,34,47,47,34,47,34,34,47,47,47,34,47,47,34,34,47,47,47,34,34,47,34,47,47,47,47,47,34,47,47,34,47,47,47,47,47,47,47,34,34,47,47,47,47,34,34,47,47,47,47,34,47,47,34,34,34,47,34,34,34,34,34,47,34,47,34,34,47,34,47,47,34,34,34,47,34,47,34,47,34,47,34,47,34,47,47,47,34,47,47,34,34,34,34,47,34,34,47,47,34,47,34,34,47,47,34,47,47,34,34,47,34,34,34,47,34,47,47,47,34,47,34,47,47,34,47,34,47,34,47,47,47,34,47,47,47,47,47,34,34,47,47,34,34,34,47,47,47,34,47,34,47,34,47,47,47,34,47,34,47,34,47,34,34,47,47,34,34,47,47,47,34,34,34,47,34,47,34,34,34,47,34,34,47,34,47,47,34,34,34,34,47,47,47,47,47,47,34,47,34,34,47,47,47,34,47,47,47,34,34,34,34,34,47,47,47,47,34,34,47,47,47,47,47,34,34,47,34,47,47,47,34,34,34,34,47,47,34,47,34,47,34,34,34,47,34,47,47,47,34,34,34,47,47,34,34,34,34,47,47,47,47,47,34,34,47,47,34,34,34,34,47,47,47,34,34,34,34,34,34,34,34,47,34,47,34,34,34,47,47,34,34,47,34,47,47,34,34,47,47,47,34,47,34,47,34,34,34,47,47,47,47,47,34,34,34,47,47,47,34,34,34,47,34,34,47,34,34,47,47,34,34,34,34,34,47,47,47,34,47,47,47,34,34,47,34,47,34,34,34,47,34,47,47,34,47,47,47,47,47,47,47,47,47,47,34,34,47,47,47,47,34,47,47,34,47,34,34,47,47,34,47,47,34,47,34,34,34,34,47,47,34,47,34,47,34,47,47,34,47,34,47,34,47,34,47,47,34,47,47,47,47,47,47,34,47,47,34,34,34,34,47,34,47,47,47,34,34,47,34,47,34,34,47,34,34,34,34,34,34,34,47,47,47,47,47,34,34,47,47,47,47,34,34,47,34,34,34,47,47,34,47,47,34,34,47,47,34,47,34,47,34,47,47,47,47,34,34,34,47,34,47,34,34,47,47,34,47,34,34,34,34,47,47,47,34,47,47,47,47,47,47,47,34,34,34,34,34,34,34,34,47,34,34,47,34,47,34,47,34,34,47,47,47,34,47,47,34,47,47,34,47,34,34,47,34,47,34,34,47,34,34,34,34,34,47,47,47,47,47,47,47,34,34,47,47,47,34,47,47,34,47,34,34,34,47,34,34,47,34,47,47,34,47,47,47,47,47,34,34,47,34,34,34,34,47,47,47,47,34,34,34,34,34,34,47,34,34,34,47,34,47,47,34,34,34,47,34,34,34,47,34,47,34,47,34,47,47,34,47,47,34,47,47,47,47,34,34,47,47,47,34,34,47,34,34,34,47,34,34,34,47,47,34,47,47,34,34,34,34,47,47,47,47,47,47,34,34,34,47,34,34,34,34,34,47,34,34,47,34,34,34,47,47,34,47,47,47,47,34,34,47,34,34,47,47,34,47,34,34,47,34,47,34,47,34,47,34,34,34,34,34,34,47,34,34,47,47,34,34,34,47,34,34,34,34,47,34,34,47,47,47,47,34,34,34,47,34,47,34,34,47,47,34,47,47,34,47,47,34,34,34,34,47,47,47,34,34,47,47,47,34,34,47,47,34,47,34,34,34,47,47,47,34,34,34,34,34,34,47,34,47,34,34,34,34,47,47,47,34,47,47,34,47,34,47,47,34,34,47,47,47,34,47,47,34,34,34,34,34,47,34,47,34,47,47,34,34,47,47,34,47,47,34,47,47,34,47,47,47,34,47,34,47,34,34,47,47,47,34,47,34,47,47,47,47,47,47,47,34,34,34,47,47,47,34,47,47,34,47,34,47,47,47,34,47,47,34,47,47,47,47,47,34,34,47,47,34,47,47,34,47,34,34,47,34,34,34,34,34,47,34,34,47,34,34,47,34,47,47,47,34,34,34,47,34,47,34,34,47,47,34,34,34,34,34,34,34,34,47,34,47,47,34,47,34,47,34,34,34,47,34,47,34,47,47,34,47,47,47,47,47,34,34,34,47,34,34,34,47,34,47,47,34,34,34,34,34,34,34,47,47,47,34,34,47,34,34,47,47,47,47,34,47,34,47,34,47,34,47,47,47,47,47,47,47,47,47,47,47,34,47,34,34,34,47,34,34,47,47,47,34,34,47,34,34,34,34,34,47,34,47,47,34,34,34,47,47,47,47,47,47,34,47,34,34,47,47,34,47,47,34,47,34,34,34,34,34,47,34,34,47,34,34,34,34,47,34,34,34,34,47,34,47,34,34,47,47,47,47,47,34,47,34,47,34,34,34,47,34,47,47,47,34,47,34,34,47,34,34,47,47,47,34,34,34,47,34,47,47,47,34,47,47,34,34,34,34,34,34,34,34,34,47,34,47,34,34,34,34,47,47,34,47,34,34,34,47,47,47,47,47,34,34,34,47,34,47,47,47,47,34,47,34,34,34,34,47,47,34,47,34,47,47,47,34,34,34,34,34,47,47,47,47,34,34,34,47,47,47,34,47,47,47,34,47,34,34,47,47,47,34,47,34,34,34,47,34,34,47,47,47,34,34,47,34,34,34,47,47,34,34,34,47,34,47,34,34,47,34,34,34,47,47,47,34,34,34,47,47,34,47,47,34,47,34,47,47,47,34,47,47,34,34,34,47,34,34,34,34,34,34,47,47,34,34,47,34,34,34,34,34,47,34,47,34,47,34,34,47,34,47,47,34,47,34,34,47,34,34,47,47,47,34,47,34,47,47,47,47,34,34,47,47,34,34,34,34,34,47,34,47,34,34,34,47,47,34,34,47,47,34,47,34,47,34,34,47,34,34,47,34,47,34,47,34,47,47,47,34,34,34,34,34,34,47,47,34,34,34,34,34,34,34,34,34,47,34,47,47,34,47,34,47,34,34,47,47,47,34,34,47,34,47,47,34,47,34,34,34,47,34,34,34,47,47,34,34,47,34,34,34,47,34,47,34,34,34,47,47,34,34,47,34,34,34,47,47,34,34,47,34,34,47,34,47,34,47,47,34,47,47,34,34,34,47,34,47,47,47,47,47,47,34,47,34,47,34,34,34,47,47,34,34,47,34,34,47,34,34,47,34,34,34,34,47,34,34,34,34,34,47,47,47,34,47,47,47,34,34,34,34,47,34,34,47,47,34,34,34,47,34,47,47,34,47,47,34,47,34,34,34,47,34,47,47,34,47,34,34,47,47,34,34,47,34,47,47,47,47,34,47,47,34,34,47,47,47,47,47,47,47,47,47,47,47,34,47,34,47,47,47,47,47,34,47,47,34,34,34,34,34,47,34,47,47,34,34,47,34,47,34,34,47,47,34,47,47,47,47,34,47,34,47,34,34,47,47,34,34,34,34,47,47,47,47,34,34,34,47,34,34,47,47,34,47,34,47,34,47,47,34,47,47,47,34,47,34,47,34,34,47,47,47,34,47,47,47,47,47,34,47,47,47,34,34,47,47,47,47,34,34,47,34,34,47,47,34,34,47,34,47,47,34,34,47,34,47,47,47,34,34,47,47,47,34,34,47,34,34,34,47,47,47,47,47,47,34,34,47,34,34,34,34,47,34,34,47,34,47,47,34,47,34,47,47,34,47,47,34,34,47,34,47,34,47,34,47,47,34,47,47,34,47,34,47,34,47,34,34,34,47,47,47,34,34,47,34,34,47,47,47,47,47,47,47,34,34,47,34,34,34,47,34,34,34,47,34,47,34,34,34,47,34,47,47,47,47,34,47,47,34,47,47,47,34,47,34,34,34,47,34,34,34,34,34,47,34,47,47,34,47,47,47,47,34,47,47,47,47,34,47,47,47,47,34,47,47,47,47,47,34,34,34,47,34,34,47,34,47,47,34,47,47,34,34,47,34,34,47,34,47,47,34,34,34,47,47,47,47,34,34,34,47,34,47,47,34,34,47,34,34,47,34,47,47,34,47,47,34,34,34,47,47,47,34,34,47,34,47,47,34,34,47,47,34,47,47,47,47,47,47,47,34,47,47,47,34,34,34,34,47,47,34,47,34,34,47,34,34,34,47,34,34,34,47,34,34,34,47,34,34,34,47,47,34,47,47,34,47,34,47,47,34,34,34,47,34,47,34,47,47,47,34,47,47,47,47,47,34,47,34,47,47,34,34,34,47,34,34,47,47,34,34,34,34,47,47,47,47,47,34,34,47,47,34,47,34,34,34,47,34,34,34,47,34,34,34,34,34,47,47,47,34,47,34,34,34,47,34,34,47,34,47,34,47,34,47,47,34,34,47,34,47,34,34,47,47,34,47,47,34,34,47,47,34,34,34,47,34,34,47,34,47,34,34,47,47,34,34,47,47,47,34,47,47,47,47,47,34,47,34,34,47,34,34,47,47,34,47,34,34,47,34,34,47,47,34,47,34,47,34,47,47,47,47,34,34,47,47,34,47,34,47,34,34,47,34,47,47,47,47,34,34,47,47,47,47,34,47,47,47,47,34,34,47,34,47,47,47,34,34,34,34,34,34,47,47,47,34,34,47,47,47,34,34,34,34,47,34,47,34,47,34,34,34,34,47,47,47,34,47,34,47,34,34,47,47,34,34,47,47,47,34,34,34,34,47,47,47,34,34,47,47,47,47,47,47,34,34,47,47,47,47,34,34,47,34,34,34,34,34,34,47,47,47,47,34,47,34,47,34,34,47,47,47,34,34,47,47,47,34,47,34,47,34,34,47,34,34,34,34,34,34,34,34,34,34,34,47,47,47,34,34,34,47,47,34,34,34,47,47,47,34,47,34,34,34,34,34,34,34,47,34,34,47,47,47,47,34,47,34,34,47,34,34,47,34,34,47,47,47,47,47,47,47,34,34,34,34,47,34,34,34,34,47,34,47,47,34,47,34,34,47,34,47,34,47,47,47,34,34,47,47,47,47,47,47,34,47,34,34,47,34,34,47,47,47,47,47,47,34,47,34,34,34,34,47,47,34,34,47,34,34,47,47,47,34,34,47,34,34,34,34,34,47,34,47,34,47,34,34,34,47,34,34,34,34,47,47,47,47,47,34,34,47,34,34,47,34,34,34,34,47,34,34,47,47,47,47,47,34,34,47,47,34,47,34,34,34,34,47,34,34,47,47,47,47,47,34,34,34,47,34,34,34,34,34,47,47,47,34,47,34,47,34,47,47,47,34,47,47,47,47,47,34,34,34,47,34,47,34,47,47,47,34,47,34,34,47,34,34,34,47,47,47,47,34,34,47,34,47,34,47,34,34,34,34,34,34,47,47,34,34,47,34,34,47,34,34,47,34,34,47,47,47,34,34,34,47,47,47,47,34,47,47,47,34,47,34,47,47,47,34,47,34,34,47,34,47,47,47,47,34,47,47,34,47,34,47,47,47,34,47,47,47,47,47,34,47,47,34,34,47,34,47,34,34,34,47,47,34,47,34,47,34,34,34,47,47,47,34,47,34,34,47,34,34,34,47,47,47,47,47,47,47,34,47,34,34,47,34,34,47,47,34,47,34,34,34,34,47,34,47,34,47,47,47,47,47,34,47,47,47,34,34,47,47,34,34,47,47,47,34,47,47,34,34,34,47,47,47,34,34,34,47,34,47,47,34,47,47,47,34,47,47,34,47,47,34,47,47,34,34,34,47,47,47,34,47,34,34,47,34,47,34,47,47,34,47,47,47,47,47,34,47,34,47,47,34,34,34,47,47,34,34,47,47,47,47,47,34,34,34,47,47,34,47,47,47,34,34,34,34,47,47,34,34,47,47,47,47,47,34,34,34,47,47,34,47,47,47,34,34,47,34,34,47,34,47,34,47,34,34,47,34,47,47,34,34,47,34,34,34,34,47,34,34,47,47,47,47,47,47,47,34,34,34,34,34,34,34,34,47,47,34,34,47,47,47,47,34,47,47,47,34,34,47,47,34,34,34,34,47,34,34,47,47,34,34,47,47,34,34,34,34,34,34,47,47,34,47,47,34,34,47,34,34,34,34,47,34,34,34,34,34,34,47,47,47,47,34,47,34,34,34,34,47,47,34,34,47,47,47,47,47,34,34,47,47,47,47,47,47,47,47,47,34,34,47,34,47,47,34,47,47,47,34,34,47,47,34,34,47,47,47,34,34,47,34,34,34,34,34,34,47,47,47,47,34,47,47,34,34,47,34,47,34,34,34,47,34,34,47,34,34,34,34,34,47,34,34,47,47,34,34,34,47,47,34,47,47,47,47,47,34,47,34,47,34,34,34,34,47,34,47,34,34,47,47,34,34,47,34,34,34,34,47,47,34,47,34,34,34,34,47,47,47,47,47,47,34,34,47,47,34,34,34,34,34,34,47,34,47,47,34,47,34,47,34,34,34,47,34,34,34,34,34,34,47,47,34,34,47,34,34,47,47,34,34,47,34,34,47,47,34,34,34,34,34,47,34,47,47,47,47,47,34,47,47,34,47,47,34,47,47,34,34,47,34,47,47,47,47,34,47,34,47,34,47,34,47,47,34,47,47,47,47,47,34,34,34,47,47,34,47,47,47,47,34,34,47,47,34,47,34,47,34,34,34,47,34,47,47,34,47,47,34,34,34,47,47,34,34,34,47,47,34,47,47,34,34,34,34,34,47,34,47,34,47,47,34,34,47,34,47,34,34,34,34,47,47,34,47,34,47,34,34,47,34,47,34,34,34,47,47,47,47,34,34,47,47,47,47,34,34,47,47,34,34,47,34,34,47,34,47,47,34,47,34,34,47,47,47,34,47,47,47,47,34,47,34,34,34,34,34,34,34,34,47,34,34,34,34,47,47,47,47,34,47,34,34,34,47,34,34,34,47,34,47,34,34,34,34,47,34,34,34,47,34,47,47,47,34,34,47,47,47,47,47,34,47,47,47,47,34,34,47,34,34,47,34,47,34,47,34,34,47,47,47,34,47,47,34,34,34,47,34,34,47,47,47,34,47,34,34,47,47,47,47,34,34,47,34,47,34,47,34,47,34,34,47,47,47,34,34,34,34,47,34,47,47,47,47,47,34,47,47,47,34,34,47,47,34,47,34,34,34,34,47,34,34,47,34,47,34,47,47,34,34,47,47,34,34,47,34,47,47,34,47,47,34,34,34,34,47,34,47,47,47,34,47,34,34,34,34,34,47,47,34,47,47,47,34,34,47,34,47,34,34,47,34,34,47,47,47,34,47,34,34,34,47,34,34,34,47,47,47,34,34,34,47,47,47,34,34,34,34,34,34,47,34,47,34,34,47,34,34,47,34,47,47,34,47,47,34,47,34,34,47,34,34,34,47,34,47,47,47,34,47,34,47,47,34,47,34,34,47,47,34,34,47,47,47,34,47,47,47,34,34,47,47,34,34,47,34,47,34,34,34,34,47,47,34,47,47,47,47,34,34,47,34,34,34,47,47,34,34,34,47,34,47,34,34,34,47,47,47,47,34,34,47,47,34,47,47,47,47,34,34,47,47,47,34,47,47,47,47,47,47,34,34,47,47,34,34,34,34,47,47,47,34,34,47,47,47,47,47,34,47,34,47,47,34,34,34,47,34,34,34,34,47,47,34,47,47,34,34,47,34,34,47,34,34,34,47,47,34,34,47,34,34,47,47,47,34,34,47,34,47,34,34,34,47,34,47,47,34,34,34,34,34,47,34,47,47,47,47,47,34,34,34,34,47,34,47,34,47,47,34,34,34,47,47,47,47,47,47,34,47,47,47,47,47,34,47,34,34,34,34,47,34,34,34,34,47,47,34,47,34,47,34,47,47,34,34,34,47,34,47,47,47,34,47,34,47,47,34,47,34,47,47,34,47,47,47,47,34,47,34,47,47,47,34,34,47,47,34,47,34,34,34,34,47,34,47,34,47,34,34,34,34,34,47,34,47,47,34,34,34,47,34,34,34,47,47,47,47,34,34,47,34,34,47,47,47,34,47,34,34,47,47,47,34,34,34,34,34,34,47,34,34,34,47,47,47,34,34,34,34,47,47,47,34,34,47,47,47,47,47,34,47,34,34,34,47,34,34,47,47,34,34,47,34,34,47,47,47,34,47,34,47,34,47,47,47,34,47,47,47,34,47,34,47,47,34,47,34,34,47,34,47,34,34,47,47,47,34,47,34,34,47,47,47,47,47,34,47,47,47,34,34,34,34,47,34,47,34,34,34,34,34,34,34,47,47,47,47,34,47,47,47,47,47,34,34,34,47,47,47,47,47,34,34,47,47,34,34,47,47,34,34,47,34,34,34,34,34,47,47,34,34,47,34,34,34,47,47,47,47,47,34,34,34,47,34,34,47,34,47,47,47,47,47,47,34,34,47,47,47,34,34,47,47,47,34,47,34,34,34,47,47,47,47,47,47,47,34,47,34,34,34,34,47,47,34,47,47,34,47,47,34,34,47,47,34,47,47,47,34,34,34,34,34,34,34,34,34,34,47,34,47,34,47,34,34,34,34,47,34,34,34,34,34,34,47,34,47,34,34,34,47,47,34,47,47,34,34,47,34,47,34,47,34,34,47,47,47,34,47,34,47,34,47,47,34,47,34,47,47,34,34,34,34,47,34,47,34,34,34,34,34,34,34,47,47,34,47,34,47,47,34,47,34,34,34,47,47,34,34,47,34,47,47,34,47,34,47,47,34,34,47,47,34,34,34,47,34,34,34,47,47,34,34,47,47,34,47,34,47,34,47,47,34,34,47,34,47,34,47,47,34,47,47,34,47,47,34,34,47,34,34,34,34,47,47,47,34,34,34,47,34,47,47,34,34,34,34,47,34,34,47,47,47,47,47,34,34,34,47,34,47,34,47,34,34,34,34,47,47,47,47,47,34,47,47,34,34,34,47,34,47,34,47,34,47,34,47,34,34,34,47,47,47,34,34,34,47,34,34,34,47,47,47,34,47,34,47,34,34,47,34,47,34,34,34,34,34,47,47,47,47,34,34,34,34,47,34,47,47,34,47,34,34,47,47,47,34,34,47,47,34,47,34,34,34,34,34,34,34,47,47,34,34,47,34,34,34,47,47,47,34,34,34,47,47,34,34,47,34,47,47,34,47,47,47,47,34,34,47,47,47,47,34,34,47,34,47,47,47,47,34,34,34,47,47,34,34,47,34,47,34,47,34,47,47,47,34,47,47,34,47,34,34,34,34,47,34,34,47,34,34,47,47,34,47,34,34,47,47,47,47,34,47,47,34,34,34,34,47,34,34,34,34,47,47,34,34,47,47,34,34,34,47,47,34,34,47,34,47,47,47,47,47,34,34,47,34,47,34,47,47,47,47,47,47,47,34,47,34,47,47,47,47,47,47,47,47,34,34,34,47,47,34,47,34,47,34,34,47,47,47,47,47,34,47,34,47,34,34,47,47,47,47,34,34,34,34,47,34,34,34,34,47,34,47,34,34,47,34,34,47,47,34,34,47,47,47,47,47,34,34,47,34,34,34,34,47,47,34,47,47,47,47,47,47,34,47,47,47,47,47,47,47,47,47,47,34,47,47,34,34,47,47,47,34,47,34,34,34,34,34,34,47,47,47,34,34,34,47,34,34,34,34,47,47,34,34,47,47,47,47,34,47,34,47,47,47,47,47,34,34,34,47,34,34,47,47,34,47,34,34,47,34,47,47,47,34,34,47,34,34,47,34,34,47,47,47,47,47,47,47,47,47,34,47,34,34,34,47,47,34,34,47,34,47,34,34,34,47,47,47,34,47,47,34,34,47,47,34,34,34,47,47,47,47,34,47,47,47,34,34,47,47,34,34,47,47,47,47,47,47,34,34,34,47,34,34,34,47,34,47,47,34,34,47,47,34,47,34,47,47,47,34,34,47,47,34,34,34,34,47,47,47,47,34,34,34,34,34,47,34,34,47,34,47,34,34,34,47,47,47,34,47,34,34,34,47,34,34,47,47,47,47,47,47,34,47,47,34,47,47,34,47,47,34,47,47,47,34,34,47,47,34,34,34,34,34,34,47,34,34,47,34,34,34,34,47,47,47,34,34,47,34,34,34,34,47,34,34,34,47,34,47,47,34,47,34,34,34,47,34,34,34,47,34,47,34,34,47,34,47,47,34,47,47,34,34,34,34,34,34,47,47,47,47,47,34,47,34,34,47,47,34,47,47,34,47,47,47,34,34,47,47,47,34,34,47,34,47,47,47,34,34,34,47,47,47,47,47,47,34,47,47,47,47,47,34,34,34,47,34,34,47,47,47,47,34,47,34,34,34,47,47,34,34,47,47,47,47,47,47,34,47,34,47,47,34,34,47,34,34,34,47,34,47,47,47,34,47,47,34,47,34,34,47,34,34,47,47,47,47,47,34,34,34,47,34,34,34,47,34,47,47,47,47,47,34,47,34,47,47,47,47,34,47,34,47,47,47,47,47,47,47,34,34,34,34,34,47,34,34,47,34,47,34,34,47,47,47,47,47,47,47,34,47,47,47,47,34,34,47,47,34,34,34,47,47,34,34,34,47,34,47,34,34,34,34,47,34,47,47,34,47,47,47,47,47,47,47,47,47,34,47,47,34,47,47,47,47,47,34,47,34,34,34,47,34,34,47,47,47,34,47,34,34,34,47,47,34,34,34,47,47,34,34,47,34,34,47,34,34,34,47,34,34,34,34,34,47,47,47,34,47,47,34,47,47,34,34,47,34,34,34,47,34,34,47,34,34,47,34,34,34,34,34,34,34,34,47,47,47,47,34,34,34,34,47,34,47,47,47,47,47,34,34,34,34,47,47,47,34,47,34,34,47,47,47,47,34,47,34,47,47,47,34,34,34,47,34,47,47,34,34,34,34,34,47,47,34,34,47,47,47,47,34,47,47,34,47,47,34,47,34,34,34,47,34,34,47,34,34,47,34,47,47,34,47,34,47,34,34,34,34,47,34,47,34,34,34,47,47,47,47,47,47,47,34,34,47,34,34,34,47,47,47,34,47,34,34,47,34,47,47,47,47,34,47,47,47,34,34,47,47,47,34,34,47,34,47,34,34,47,34,34,47,34,34,34,47,47,47,34,34,34,47,34,47,34,47,34,34,47,34,34,47,34,47,47,47,34,34,34,47,47,34,47,34,47,34,47,34,34,34,47,47,47,47,34,47,47,34,47,34,34,34,34,34,34,34,34,47,47,34,34,34,34,34,47,34,34,47,47,34,47,34,34,47,47,34,47,34,34,34,34,34,34,47,47,34,34,34,47,47,47,47,47,47,47,34,34,34,47,34,34,47,47,47,47,34,47,47,34,34,47,47,34,47,47,34,34,47,47,47,47,47,34,34,34,34,47,34,47,34,34,47,34,47,47,47,34,34,47,47,47,47,34,47,34,34,47,34,34,47,34,47,47,34,47,34,47,47,47,47,47,47,47,34,34,34,34,34,34,34,34,34,47,34,47,47,47,47,47,47,47,47,34,47,47,47,47,47,47,34,47,47,47,47,34,34,34,47,47,34,47,47,47,47,47,47,34,47,34,34,34,34,34,34,34,47,34,34,47,34,47,47,34,47,34,34,34,47,34,34,34,34,34,47,47,34,34,34,47,47,47,47,47,34,47,47,34,47,34,47,47,47,34,47,34,34,47,47,47,34,47,47,47,47,47,34,47,34,34,47,34,34,47,34,34,47,34,34,47,47,34,34,47,47,47,34,47,47,47,34,47,34,34,47,47,34,34,34,47,34,34,34,34,47,34,34,47,34,34,47,34,47,47,34,47,47,34,34,47,34,34,34,47,34,47,34,34,34,34,34,47,34,34,47,34,34,34,47,34,47,34,47,47,34,34,34,34,34,47,34,47,34,34,47,47,47,34,47,34,34,47,47,47,34,34,34,34,34,34,47,47,34,47,47,47,34,34,34,34,34,34,47,47,47,47,34,34,47,47,47,47,34,34,34,34,34,47,34,47,34,34,47,47,47,47,47,34,34,34,34,47,34,34,34,34,34,34,47,34,47,34,34,47,47,34,34,47,34,47,34,34,34,47,47,34,34,47,47,47,47,34,34,34,47,34,47,47,34,47,34,34,47,34,47,47,34,47,34,34,47,47,47,47,34,47,47,47,34,47,34,34,47,34,34,47,34,47,47,47,34,34,47,34,47,34,34,34,34,47,47,34,34,34,47,34,47,34,47,34,34,34,47,34,34,47,34,34,34,47,34,34,34,47,34,47,47,47,34,47,34,34,47,47,34,47,47,47,47,47,47,47,47,34,34,47,34,34,34,34,34,47,47,47,34,34,34,47,47,34,47,34,34,34,47,47,47,47,34,34,34,34,47,47,47,34,47,34,34,47,47,47,34,47,47,34,34,47,47,34,47,47,47,34,47,47,47,34,47,34,47,47,34,34,34,47,34,47,47,47,34,47,47,47,47,34,34,34,47,34,34,47,47,34,34,34,34,34,47,34,34,47,47,34,34,47,34,34,34,34,47,47,47,47,47,47,34,34,34,34,47,34,34,34,47,47,34,34,47,47,47,47,47,47,47,34,47,47,47,47,34,34,34,34,34,34,34,34,47,34,34,34,47,47,34,34,47,34,34,34,34,47,47,47,47,47,47,34,34,47,47,34,47,47,34,47,47,34,47,34,47,34,47,47,34,47,34,34,47,34,47,34,34,34,47,47,34,34,34,47,34,47,34,34,34,47,34,47,34,47,34,47,47,34,34,47,47,47,34,47,47,47,34,34,47,34,47,47,47,47,34,47,34,47,34,34,47,34,34,47,47,47,47,47,34,47,47,47,47,47,34,47,34,47,34,34,34,47,47,47,34,47,34,34,34,47,47,47,34,47,47,34,34,34,34,34,47,47,47,47,47,47,34,47,34,47,34,34,34,34,47,47,47,47,47,34,34,47,34,47,34,34,34,34]\n",
    "temperatures = [34,34,47,47,34,34,34,47,34,47,47,47,34,34,34,47,47,34,47,47,34,34,34,34,47,34,34,47,34,34,34,47,47,47,47,47,47,34,34,34,47,34,34,47,34,47,47,47,34,47,47,34,47,34,47,47,34,47,47,34,34,47,47,47,34,34,47,47,47,34,34,47,34,34,34,47,47,34,34,47,47,47,47,47,34,34,34,47,47,34,47,34,47,34,34,47,34,47,47,47,47,47,47,34,34,34,47,34,47,34,47,34,34,34,34,47,34,34,34,34,34,34,34,47,34,34,47,47,34,47,47,47,47,47,47,47,34,34,47,34,47,34,47,34,34,34,47,34,34,47,34,47,47,34,47,47,47,47,34,34,34,34,47,47,34,34,34,47,34,34,47,34,34,47,34,34,34,34,47,34,34,34,47,34,34,47,47,34,47,47,34,34,34,34,34,34,47,47,34,47,34,47,34,47,47,47,34,47,34,34,34,34,34,47,47,47,47,47,47,34,47,34,47,34,34,34,47,47,47,34,47,47,34,47,47,47,34,47,47,34,47,47,34,47,34,34,47,47,34,34,34,34,47,34,34,47,47,34,47,47,34,34,34,34,47,47,34,34,47,47,34,47,34,47,34,47,47,47,47,34,34,47,47,34,34,34,47,34,47,47,47,34,47,47,34,34,34,34,34,47,47,34,47,47,34,34,47,34,47,47,34,47,47,47,47,47,47,47,34,34,34,34,47,47,34,47,34,47,47,34,47,47,34,34,34,47,47,47,34,47,34,47,47,47,34,34,34,34,34,34,34,47,34,34,34,34,47,47,34,34,47,34,47,47,34,47,34,34,47,47,47,47,47,47,34,34,47,34,34,47,34,47,47,47,47,47,34,34,34,47,47,34,47,34,34,47,47,47,34,34,47,47,47,34,34,47,47,34,34,47,47,47,47,34,34,34,47,34,34,47,47,34,34,34,47,34,34,47,34,34,34,34,47,34,47,34,47,47,47,34,34,47,47,47,47,47,34,47,34,34,34,34,34,47,47,34,34,47,47,34,34,47,34,47,34,47,34,47,47,47,47,47,47,47,47,47,34,47,47,47,34,47,47,34,34,47,34,47,34,34,47,47,47,47,34,47,34,34,34,47,47,47,34,34,47,47,34,34,34,34,47,47,34,47,34,34,47,47,34,47,34,47,34,47,34,34,47,34,47,34,47,34,47,47,47,47,47,34,34,47,47,34,34,34,47,34,34,34,34,34,47,47,47,34,47,47,47,47,47,47,47,47,34,34,34,34,47,34,47,34,47,47,47,34,34,34,34,47,34,47,34,47,34,47,34,34,34,47,34,47,34,34,47,34,34,47,34,34,47,47,47,34,47,47,47,34,34,34,34,34,34,34,47,34,34,47,34,47,34,47,34,34,34,34,47,47,47,47,34,47,34,34,34,47,34,47,47,47,34,34,47,34,47,47,34,47,34,34,34,47,34,34,34,47,34,34,34,34,34,34,47,47,47,47,34,47,47,34,47,34,47,34,47,34,47,34,34,47,34,47,34,47,34,34,34,34,34,47,47,47,47,47,47,47,47,47,34,47,47,34,34,34,47,34,34,47,47,34,47,47,47,47,47,47,47,34,47,34,47,47,47,47,47,47,34,47,47,34,34,34,47,47,47,47,34,34,47,47,34,34,34,34,34,47,34,34,34,34,47,47,34,47,47,47,47,47,47,47,34,34,47,34,47,34,47,47,47,47,34,47,47,47,34,34,34,34,34,34,47,47,47,34,34,34,47,47,34,47,34,47,47,47,34,47,47,47,47,47,47,47,34,47,47,47,34,34,47,47,34,47,47,34,34,34,47,34,47,34,34,47,34,47,34,34,34,34,47,47,47,34,47,34,47,47,34,47,34,47,34,47,34,47,47,47,34,34,47,34,47,34,47,47,47,47,47,34,47,34,47,34,47,34,34,47,47,47,47,47,34,47,34,47,47,47,47,47,47,47,34,47,47,47,34,34,34,47,34,47,47,47,47,34,47,47,34,47,34,34,47,47,34,34,47,34,47,47,47,47,34,47,47,34,34,34,47,47,34,34,47,34,47,34,47,34,47,47,47,47,34,47,47,34,34,34,47,34,47,34,47,34,34,34,47,34,34,34,34,34,34,47,47,47,34,47,47,47,34,34,34,34,47,34,34,47,34,34,47,47,34,34,47,34,34,47,34,34,47,34,47,47,34,47,47,34,34,47,47,34,34,47,34,34,47,47,34,47,34,34,47,47,47,34,34,47,47,34,34,34,47,47,34,47,34,47,47,34,34,34,47,47,47,47,34,47,47,34,47,47,34,47,34,47,34,47,47,34,34,47,47,47,34,47,47,47,34,34,34,47,47,47,47,34,47,47,34,34,34,34,34,34,34,34,47,34,47,47,34,47,47,34,47,47,47,47,47,34,47,34,34,34,34,47,47,47,47,34,34,34,47,34,34,34,47,47,34,47,47,34,47,34,34,34,47,34,47,47,47,34,34,34,34,47,47,47,34,47,47,47,34,47,34,47,34,34,47,47,47,47,34,47,34,47,34,47,34,34,34,47,34,34,34,47,34,34,47,34,47,34,47,47,34,34,47,34,47,47,47,34,47,34,47,34,47,47,47,47,34,34,34,34,34,34,34,47,47,47,47,34,47,34,34,47,34,47,34,34,34,47,47,34,34,34,47,34,47,47,47,34,34,47,47,47,47,34,34,34,47,47,34,47,34,34,34,34,34,47,47,47,47,47,34,34,34,34,47,47,34,47,47,47,34,34,47,34,34,34,34,34,34,34,47,47,34,47,34,47,47,34,47,47,47,34,34,47,47,34,34,34,47,47,47,34,34,34,34,47,34,47,34,34,47,47,47,47,34,47,34,47,47,47,47,34,34,47,47,47,34,47,34,47,34,34,47,34,47,47,47,34,34,34,34,47,47,47,34,34,47,47,47,34,34,47,34,47,34,47,34,47,34,34,47,47,47,34,47,34,47,47,47,34,34,34,34,34,47,34,47,47,47,47,34,47,47,47,47,34,34,47,47,47,34,34,34,34,34,47,34,47,47,34,47,47,47,34,47,34,47,47,34,47,34,47,34,34,47,34,34,47,34,34,34,34,34,47,34,47,34,47,47,34,47,47,34,34,47,34,34,47,34,34,47,47,34,47,34,34,47,47,47,47,47,34,47,47,47,47,34,34,34,47,47,34,34,34,47,34,34,47,47,34,34,47,34,34,34,47,47,47,34,34,34,47,47,47,34,47,47,34,47,34,34,47,47,47,34,47,34,47,34,34,47,34,34,47,47,34,34,47,47,34,34,47,47,47,34,34,47,34,34,47,47,47,34,34,47,34,34,34,47,47,47,34,34,47,47,34,34,47,47,34,34,47,47,47,47,47,34,47,47,47,34,47,47,34,34,47,34,47,34,34,34,47,47,47,47,47,47,34,34,47,47,47,34,34,34,34,34,34,34,34,47,34,34,34,34,34,47,34,34,34,47,47,34,34,34,47,34,47,47,34,47,34,34,34,47,47,34,47,34,47,34,34,47,34,47,34,34,47,47,34,34,34,47,34,34,34,34,47,34,47,47,34,34,34,47,47,34,34,34,47,47,47,34,34,47,34,47,34,47,34,34,34,47,34,47,34,34,34,47,47,34,34,47,34,47,34,34,34,34,47,47,47,47,47,34,47,47,34,47,34,34,34,34,34,34,34,47,47,34,34,47,47,47,34,34,34,47,34,34,34,34,34,47,34,47,47,34,47,47,34,34,34,34,47,34,34,47,47,34,34,34,34,47,47,47,47,34,47,34,47,47,34,34,47,34,47,47,34,34,34,34,34,34,34,47,34,34,34,47,34,34,34,34,34,47,47,47,47,34,47,47,34,34,47,34,47,47,34,34,34,47,47,34,47,47,47,47,47,34,47,34,34,47,47,34,34,34,47,47,34,34,47,34,34,34,47,34,34,47,47,34,47,34,34,47,47,47,47,34,34,34,34,34,34,34,47,47,47,34,34,47,47,47,34,47,34,47,34,34,47,47,47,47,34,47,34,47,47,34,34,34,34,47,47,47,47,34,34,47,34,34,47,34,34,47,34,47,34,34,47,34,34,34,47,34,34,34,47,47,47,34,47,34,34,47,47,47,34,34,47,34,47,47,34,47,47,47,47,47,34,34,34,47,34,34,34,34,47,34,34,47,34,34,34,34,47,47,34,47,47,34,47,34,34,47,34,47,47,47,34,47,34,34,34,47,47,47,47,34,47,47,34,34,47,47,34,47,47,34,47,34,34,47,34,34,34,34,34,34,47,47,47,34,47,34,34,34,47,47,34,47,34,47,34,47,34,34,47,34,34,34,47,34,34,47,34,34,47,47,47,34,47,47,34,34,47,47,34,34,34,34,34,34,47,47,34,34,47,34,34,47,34,47,47,34,47,47,34,47,34,34,34,47,34,34,47,34,34,34,34,47,47,34,47,34,34,34,47,47,47,34,34,34,47,34,47,34,34,34,34,47,34,34,34,34,34,47,34,34,34,47,47,34,34,34,47,34,34,47,34,34,34,34,47,34,47,34,34,47,34,34,47,47,47,47,47,34,47,34,47,47,47,47,47,47,47,47,47,34,34,34,34,47,47,47,34,47,47,34,47,47,47,47,34,47,34,34,34,47,34,34,47,47,34,47,47,34,34,34,47,34,34,47,47,47,47,47,34,47,34,34,34,47,47,47,47,47,47,34,47,47,47,47,34,47,34,34,34,34,34,34,47,47,34,34,34,34,47,34,47,47,47,34,34,47,47,47,34,47,34,47,47,34,47,47,34,47,47,34,34,47,47,47,47,34,47,47,47,34,47,47,34,34,34,34,34,34,47,34,47,47,47,47,34,34,34,34,47,47,34,47,34,47,47,34,47,34,34,34,47,34,34,47,47,47,47,47,34,34,34,47,34,47,47,34,34,47,34,34,34,47,34,47,34,47,34,47,47,47,34,34,34,34,34,34,47,47,47,47,34,34,47,47,34,34,47,47,47,34,34,34,47,34,34,34,34,34,47,34,34,34,34,34,34,47,34,47,34,34,47,47,47,47,34,34,34,34,47,47,34,47,34,47,34,34,47,34,47,47,47,34,34,34,34,47,34,47,34,47,47,47,34,34,47,47,47,47,34,34,34,47,34,47,47,34,47,34,47,34,47,47,47,47,34,34,47,47,47,47,47,47,47,34,47,34,34,47,47,47,34,47,34,34,47,34,47,47,34,47,47,34,34,34,34,34,47,34,34,34,34,47,34,47,34,34,47,47,47,47,47,34,34,34,47,34,34,47,47,47,47,34,34,34,47,34,34,47,34,47,34,34,47,47,47,34,34,34,47,34,47,47,47,47,34,47,34,47,34,47,34,47,34,34,47,34,47,34,47,47,47,34,34,47,47,34,34,34,47,47,34,34,34,34,34,34,47,34,34,34,47,34,34,34,47,47,34,34,47,47,34,47,47,34,47,34,47,47,47,47,34,34,47,34,34,47,34,34,47,47,34,47,34,34,34,34,34,34,34,47,34,34,47,47,34,47,34,34,34,47,34,34,34,47,47,47,47,47,47,47,47,47,47,34,47,47,47,34,47,34,34,47,34,47,34,47,47,47,34,34,47,34,34,34,47,34,47,34,34,34,47,34,34,47,34,34,34,34,47,47,34,47,34,47,34,47,47,47,34,34,47,34,34,34,47,47,34,34,34,47,47,47,47,34,34,47,47,47,47,34,34,47,47,47,34,34,47,34,47,34,34,34,47,34,34,34,47,34,47,47,34,47,34,34,34,34,47,34,47,34,47,47,47,47,47,34,34,34,47,47,34,34,34,47,47,34,34,34,47,47,47,47,47,34,34,47,47,34,34,47,34,47,47,47,47,47,34,34,47,47,34,34,47,34,34,47,34,34,47,47,47,47,34,34,47,34,34,34,34,34,47,34,47,47,47,47,47,47,34,34,47,34,34,34,47,47,34,47,34,34,34,34,47,34,47,47,34,34,34,34,34,34,47,47,47,47,34,34,47,34,47,34,47,47,34,34,34,34,34,47,34,47,34,34,47,34,47,47,47,34,34,34,34,47,34,47,34,47,47,34,34,47,34,34,34,34,34,47,47,34,47,47,34,47,47,34,34,47,47,47,47,34,47,47,34,34,34,34,34,34,47,34,47,34,47,34,47,34,47,34,47,34,34,47,47,47,47,34,47,34,47,34,34,34,34,47,47,34,34,47,34,34,47,47,34,34,47,47,34,34,34,34,47,47,47,34,47,47,34,47,34,47,47,47,34,47,47,34,47,34,34,34,34,34,34,34,34,47,47,34,34,34,34,47,34,47,47,47,47,47,34,47,47,47,34,47,47,47,47,47,34,47,34,34,47,47,34,47,34,34,34,47,47,34,34,47,47,47,47,34,47,34,47,47,34,34,34,47,47,47,47,34,34,34,47,47,34,34,34,47,34,47,47,47,34,47,34,34,47,34,47,47,34,34,34,34,47,47,47,34,34,34,34,47,47,34,47,47,47,34,34,34,47,47,34,47,34,47,34,47,34,47,47,47,34,34,34,34,34,47,34,47,47,47,47,34,47,34,34,47,34,34,34,47,34,47,34,34,47,47,47,47,34,34,47,34,47,34,34,34,34,34,34,34,47,47,47,34,47,47,34,47,47,34,34,34,34,47,34,47,47,34,34,47,34,47,34,34,34,47,34,47,34,34,34,47,34,34,47,34,47,34,47,34,47,47,34,34,34,34,47,47,34,34,34,34,34,34,34,47,47,34,34,47,47,47,47,34,34,47,34,34,47,34,47,34,34,47,47,47,34,34,47,34,34,34,47,47,47,34,34,47,34,34,34,47,34,34,34,47,34,34,47,34,34,47,34,47,34,34,34,34,47,34,34,34,34,47,34,47,47,47,34,34,34,34,34,47,47,47,47,34,34,47,47,34,47,47,34,34,34,47,34,47,34,47,47,34,34,34,47,47,47,34,47,34,47,34,47,47,47,34,34,47,34,34,47,34,34,47,34,47,34,47,34,34,47,34,34,34,47,34,34,34,47,34,34,47,34,47,34,47,34,34,34,34,47,34,34,47,47,47,47,47,47,34,47,47,34,47,34,34,34,47,34,34,47,47,47,34,34,34,47,34,47,47,47,47,47,47,47,34,34,47,34,47,34,34,47,34,34,47,47,34,34,47,47,47,34,34,34,47,47,34,47,47,34,34,34,47,34,47,47,47,47,47,47,47,47,34,47,34,34,47,47,34,34,34,34,47,34,47,47,34,47,34,47,47,47,34,34,47,34,47,47,47,47,34,34,47,34,34,47,47,34,47,47,47,47,34,47,47,47,47,47,47,47,34,34,47,47,47,34,47,47,34,34,47,47,34,47,34,47,47,47,34,47,47,47,47,47,34,47,47,47,47,34,47,34,34,47,34,47,34,34,34,34,34,34,34,34,34,47,47,34,47,34,47,47,47,34,34,47,34,47,34,47,47,47,47,47,34,34,34,34,34,34,47,47,47,34,34,34,47,47,34,34,47,47,34,47,34,34,47,34,34,34,47,47,34,34,34,47,47,34,47,34,47,47,34,47,34,34,34,34,47,47,47,34,47,47,47,47,47,47,47,47,47,34,47,34,47,34,47,47,34,34,34,34,34,47,47,47,34,34,47,34,47,34,47,34,34,47,34,47,47,47,34,47,34,47,34,34,34,34,47,34,47,47,34,34,34,34,47,34,47,47,47,34,47,47,34,34,47,34,34,34,47,47,47,34,47,47,34,34,34,47,34,47,34,47,47,47,34,34,47,34,34,47,34,34,34,47,34,47,47,47,47,47,47,34,34,34,47,47,47,34,47,47,47,34,47,34,34,34,34,47,47,47,47,34,34,34,34,34,47,47,34,47,34,34,47,34,34,47,34,47,47,34,47,34,34,47,34,34,34,47,47,34,47,34,34,47,47,47,34,47,34,47,47,34,34,47,47,47,47,47,47,47,34,34,47,34,34,47,47,47,47,47,47,47,34,47,47,47,34,34,47,34,47,47,34,34,34,34,47,47,34,34,34,34,34,34,34,34,34,34,47,34,47,47,34,34,34,47,47,47,34,34,34,34,47,34,47,47,34,47,47,47,34,34,34,34,34,47,34,47,47,34,34,34,47,34,34,47,47,47,47,47,34,34,47,47,34,47,34,34,47,34,47,34,47,34,47,47,34,34,34,34,34,47,34,34,34,47,47,47,34,34,47,47,47,47,34,34,34,34,47,47,47,34,34,34,47,47,34,47,34,47,34,47,47,47,47,34,34,47,47,34,34,47,34,47,47,34,47,34,47,47,47,47,34,34,47,47,34,34,47,34,47,34,34,34,47,47,47,47,34,34,47,47,47,34,47,34,34,47,47,34,34,34,47,34,34,47,47,34,47,47,34,34,47,34,47,34,47,34,47,34,47,47,34,47,47,34,47,34,34,34,34,47,47,47,34,47,47,47,47,47,34,47,34,34,47,34,47,34,34,34,34,47,47,47,47,34,47,34,34,34,34,34,47,47,34,34,47,47,34,34,34,34,47,34,34,47,47,34,47,34,47,34,34,47,47,47,47,34,47,34,34,34,34,34,34,34,34,47,47,34,47,34,47,47,47,34,47,34,47,47,34,34,34,47,34,47,34,34,34,34,47,47,34,34,34,47,34,34,34,34,34,47,34,47,47,47,47,34,34,47,47,34,34,47,47,34,47,47,47,34,34,47,34,47,34,47,34,34,47,47,47,47,34,34,34,47,34,47,34,34,47,47,47,34,47,47,47,47,47,47,34,47,47,47,47,47,34,47,34,47,34,34,34,34,47,34,47,34,34,47,34,34,34,34,47,47,47,47,47,47,47,47,34,47,34,34,47,34,47,34,47,47,47,34,47,34,47,34,34,47,47,47,47,47,47,34,34,34,47,47,47,47,34,34,47,34,34,34,34,47,34,34,34,34,34,47,47,47,47,47,47,47,47,47,47,34,47,47,34,47,47,47,34,34,34,47,47,47,47,47,34,47,47,47,47,34,34,34,47,34,34,47,47,34,47,34,34,47,47,47,34,47,47,47,34,34,34,34,34,47,47,47,47,34,47,34,47,47,34,34,34,34,34,47,34,47,34,47,34,34,47,47,47,47,47,34,34,47,47,47,34,47,34,34,47,47,47,47,34,34,34,34,34,34,47,47,34,34,34,34,34,34,47,47,34,47,47,34,34,47,34,47,34,47,34,47,47,34,34,47,47,34,47,34,47,34,47,34,34,34,34,34,34,47,47,34,34,34,47,47,34,34,34,34,47,34,34,34,47,47,34,47,34,34,34,47,47,47,34,47,34,34,47,34,34,47,47,47,47,47,34,34,34,34,47,34,47,34,47,34,34,47,34,47,34,47,34,34,47,47,47,47,34,47,47,47,47,47,47,47,34,47,47,34,47,47,47,34,47,47,47,34,34,47,47,34,47,34,47,47,34,47,47,47,47,34,47,47,47,34,34,47,47,47,34,34,34,34,47,34,47,34,47,34,47,47,34,47,47,34,34,34,47,34,34,34,47,34,34,34,47,34,47,47,34,34,34,47,34,47,47,34,34,47,34,34,47,47,34,34,34,34,47,34,47,34,47,47,34,47,34,34,47,47,47,34,47,47,34,34,47,47,47,34,34,47,34,47,47,47,47,47,34,47,47,34,47,47,47,47,47,47,47,34,34,47,47,47,47,34,34,47,47,47,47,34,47,47,34,34,34,47,34,34,34,34,34,47,34,47,34,34,47,34,47,47,34,34,34,47,34,47,34,47,34,47,34,47,34,47,47,47,34,47,47,34,34,34,34,47,34,34,47,47,34,47,34,34,47,47,34,47,47,34,34,47,34,34,34,47,34,47,47,47,34,47,34,47,47,34,47,34,47,34,47,47,47,34,47,47,47,47,47,34,34,47,47,34,34,34,47,47,47,34,47,34,47,34,47,47,47,34,47,34,47,34,47,34,34,47,47,34,34,47,47,47,34,34,34,47,34,47,34,34,34,47,34,34,47,34,47,47,34,34,34,34,47,47,47,47,47,47,34,47,34,34,47,47,47,34,47,47,47,34,34,34,34,34,47,47,47,47,34,34,47,47,47,47,47,34,34,47,34,47,47,47,34,34,34,34,47,47,34,47,34,47,34,34,34,47,34,47,47,47,34,34,34,47,47,34,34,34,34,47,47,47,47,47,34,34,47,47,34,34,34,34,47,47,47,34,34,34,34,34,34,34,34,47,34,47,34,34,34,47,47,34,34,47,34,47,47,34,34,47,47,47,34,47,34,47,34,34,34,47,47,47,47,47,34,34,34,47,47,47,34,34,34,47,34,34,47,34,34,47,47,34,34,34,34,34,47,47,47,34,47,47,47,34,34,47,34,47,34,34,34,47,34,47,47,34,47,47,47,47,47,47,47,47,47,47,34,34,47,47,47,47,34,47,47,34,47,34,34,47,47,34,47,47,34,47,34,34,34,34,47,47,34,47,34,47,34,47,47,34,47,34,47,34,47,34,47,47,34,47,47,47,47,47,47,34,47,47,34,34,34,34,47,34,47,47,47,34,34,47,34,47,34,34,47,34,34,34,34,34,34,34,47,47,47,47,47,34,34,47,47,47,47,34,34,47,34,34,34,47,47,34,47,47,34,34,47,47,34,47,34,47,34,47,47,47,47,34,34,34,47,34,47,34,34,47,47,34,47,34,34,34,34,47,47,47,34,47,47,47,47,47,47,47,34,34,34,34,34,34,34,34,47,34,34,47,34,47,34,47,34,34,47,47,47,34,47,47,34,47,47,34,47,34,34,47,34,47,34,34,47,34,34,34,34,34,47,47,47,47,47,47,47,34,34,47,47,47,34,47,47,34,47,34,34,34,47,34,34,47,34,47,47,34,47,47,47,47,47,34,34,47,34,34,34,34,47,47,47,47,34,34,34,34,34,34,47,34,34,34,47,34,47,47,34,34,34,47,34,34,34,47,34,47,34,47,34,47,47,34,47,47,34,47,47,47,47,34,34,47,47,47,34,34,47,34,34,34,47,34,34,34,47,47,34,47,47,34,34,34,34,47,47,47,47,47,47,34,34,34,47,34,34,34,34,34,47,34,34,47,34,34,34,47,47,34,47,47,47,47,34,34,47,34,34,47,47,34,47,34,34,47,34,47,34,47,34,47,34,34,34,34,34,34,47,34,34,47,47,34,34,34,47,34,34,34,34,47,34,34,47,47,47,47,34,34,34,47,34,47,34,34,47,47,34,47,47,34,47,47,34,34,34,34,47,47,47,34,34,47,47,47,34,34,47,47,34,47,34,34,34,47,47,47,34,34,34,34,34,34,47,34,47,34,34,34,34,47,47,47,34,47,47,34,47,34,47,47,34,34,47,47,47,34,47,47,34,34,34,34,34,47,34,47,34,47,47,34,34,47,47,34,47,47,34,47,47,34,47,47,47,34,47,34,47,34,34,47,47,47,34,47,34,47,47,47,47,47,47,47,34,34,34,47,47,47,34,47,47,34,47,34,47,47,47,34,47,47,34,47,47,47,47,47,34,34,47,47,34,47,47,34,47,34,34,47,34,34,34,34,34,47,34,34,47,34,34,47,34,47,47,47,34,34,34,47,34,47,34,34,47,47,34,34,34,34,34,34,34,34,47,34,47,47,34,47,34,47,34,34,34,47,34,47,34,47,47,34,47,47,47,47,47,34,34,34,47,34,34,34,47,34,47,47,34,34,34,34,34,34,34,47,47,47,34,34,47,34,34,47,47,47,47,34,47,34,47,34,47,34,47,47,47,47,47,47,47,47,47,47,47,34,47,34,34,34,47,34,34,47,47,47,34,34,47,34,34,34,34,34,47,34,47,47,34,34,34,47,47,47,47,47,47,34,47,34,34,47,47,34,47,47,34,47,34,34,34,34,34,47,34,34,47,34,34,34,34,47,34,34,34,34,47,34,47,34,34,47,47,47,47,47,34,47,34,47,34,34,34,47,34,47,47,47,34,47,34,34,47,34,34,47,47,47,34,34,34,47,34,47,47,47,34,47,47,34,34,34,34,34,34,34,34,34,47,34,47,34,34,34,34,47,47,34,47,34,34,34,47,47,47,47,47,34,34,34,47,34,47,47,47,47,34,47,34,34,34,34,47,47,34,47,34,47,47,47,34,34,34,34,34,47,47,47,47,34,34,34,47,47,47,34,47,47,47,34,47,34,34,47,47,47,34,47,34,34,34,47,34,34,47,47,47,34,34,47,34,34,34,47,47,34,34,34,47,34,47,34,34,47,34,34,34,47,47,47,34,34,34,47,47,34,47,47,34,47,34,47,47,47,34,47,47,34,34,34,47,34,34,34,34,34,34,47,47,34,34,47,34,34,34,34,34,47,34,47,34,47,34,34,47,34,47,47,34,47,34,34,47,34,34,47,47,47,34,47,34,47,47,47,47,34,34,47,47,34,34,34,34,34,47,34,47,34,34,34,47,47,34,34,47,47,34,47,34,47,34,34,47,34,34,47,34,47,34,47,34,47,47,47,34,34,34,34,34,34,47,47,34,34,34,34,34,34,34,34,34,47,34,47,47,34,47,34,47,34,34,47,47,47,34,34,47,34,47,47,34,47,34,34,34,47,34,34,34,47,47,34,34,47,34,34,34,47,34,47,34,34,34,47,47,34,34,47,34,34,34,47,47,34,34,47,34,34,47,34,47,34,47,47,34,47,47,34,34,34,47,34,47,47,47,47,47,47,34,47,34,47,34,34,34,47,47,34,34,47,34,34,47,34,34,47,34,34,34,34,47,34,34,34,34,34,47,47,47,34,47,47,47,34,34,34,34,47,34,34,47,47,34,34,34,47,34,47,47,34,47,47,34,47,34,34,34,47,34,47,47,34,47,34,34,47,47,34,34,47,34,47,47,47,47,34,47,47,34,34,47,47,47,47,47,47,47,47,47,47,47,34,47,34,47,47,47,47,47,34,47,47,34,34,34,34,34,47,34,47,47,34,34,47,34,47,34,34,47,47,34,47,47,47,47,34,47,34,47,34,34,47,47,34,34,34,34,47,47,47,47,34,34,34,47,34,34,47,47,34,47,34,47,34,47,47,34,47,47,47,34,47,34,47,34,34,47,47,47,34,47,47,47,47,47,34,47,47,47,34,34,47,47,47,47,34,34,47,34,34,47,47,34,34,47,34,47,47,34,34,47,34,47,47,47,34,34,47,47,47,34,34,47,34,34,34,47,47,47,47,47,47,34,34,47,34,34,34,34,47,34,34,47,34,47,47,34,47,34,47,47,34,47,47,34,34,47,34,47,34,47,34,47,47,34,47,47,34,47,34,47,34,47,34,34,34,47,47,47,34,34,47,34,34,47,47,47,47,47,47,47,34,34,47,34,34,34,47,34,34,34,47,34,47,34,34,34,47,34,47,47,47,47,34,47,47,34,47,47,47,34,47,34,34,34,47,34,34,34,34,34,47,34,47,47,34,47,47,47,47,34,47,47,47,47,34,47,47,47,47,34,47,47,47,47,47,34,34,34,47,34,34,47,34,47,47,34,47,47,34,34,47,34,34,47,34,47,47,34,34,34,47,47,47,47,34,34,34,47,34,47,47,34,34,47,34,34,47,34,47,47,34,47,47,34,34,34,47,47,47,34,34,47,34,47,47,34,34,47,47,34,47,47,47,47,47,47,47,34,47,47,47,34,34,34,34,47,47,34,47,34,34,47,34,34,34,47,34,34,34,47,34,34,34,47,34,34,34,47,47,34,47,47,34,47,34,47,47,34,34,34,47,34,47,34,47,47,47,34,47,47,47,47,47,34,47,34,47,47,34,34,34,47,34,34,47,47,34,34,34,34,47,47,47,47,47,34,34,47,47,34,47,34,34,34,47,34,34,34,47,34,34,34,34,34,47,47,47,34,47,34,34,34,47,34,34,47,34,47,34,47,34,47,47,34,34,47,34,47,34,34,47,47,34,47,47,34,34,47,47,34,34,34,47,34,34,47,34,47,34,34,47,47,34,34,47,47,47,34,47,47,47,47,47,34,47,34,34,47,34,34,47,47,34,47,34,34,47,34,34,47,47,34,47,34,47,34,47,47,47,47,34,34,47,47,34,47,34,47,34,34,47,34,47,47,47,47,34,34,47,47,47,47,34,47,47,47,47,34,34,47,34,47,47,47,34,34,34,34,34,34,47,47,47,34,34,47,47,47,34,34,34,34,47,34,47,34,47,34,34,34,34,47,47,47,34,47,34,47,34,34,47,47,34,34,47,47,47,34,34,34,34,47,47,47,34,34,47,47,47,47,47,47,34,34,47,47,47,47,34,34,47,34,34,34,34,34,34,47,47,47,47,34,47,34,47,34,34,47,47,47,34,34,47,47,47,34,47,34,47,34,34,47,34,34,34,34,34,34,34,34,34,34,34,47,47,47,34,34,34,47,47,34,34,34,47,47,47,34,47,34,34,34,34,34,34,34,47,34,34,47,47,47,47,34,47,34,34,47,34,34,47,34,34,47,47,47,47,47,47,47,34,34,34,34,47,34,34,34,34,47,34,47,47,34,47,34,34,47,34,47,34,47,47,47,34,34,47,47,47,47,47,47,34,47,34,34,47,34,34,47,47,47,47,47,47,34,47,34,34,34,34,47,47,34,34,47,34,34,47,47,47,34,34,47,34,34,34,34,34,47,34,47,34,47,34,34,34,47,34,34,34,34,47,47,47,47,47,34,34,47,34,34,47,34,34,34,34,47,34,34,47,47,47,47,47,34,34,47,47,34,47,34,34,34,34,47,34,34,47,47,47,47,47,34,34,34,47,34,34,34,34,34,47,47,47,34,47,34,47,34,47,47,47,34,47,47,47,47,47,34,34,34,47,34,47,34,47,47,47,34,47,34,34,47,34,34,34,47,47,47,47,34,34,47,34,47,34,47,34,34,34,34,34,34,47,47,34,34,47,34,34,47,34,34,47,34,34,47,47,47,34,34,34,47,47,47,47,34,47,47,47,34,47,34,47,47,47,34,47,34,34,47,34,47,47,47,47,34,47,47,34,47,34,47,47,47,34,47,47,47,47,47,34,47,47,34,34,47,34,47,34,34,34,47,47,34,47,34,47,34,34,34,47,47,47,34,47,34,34,47,34,34,34,47,47,47,47,47,47,47,34,47,34,34,47,34,34,47,47,34,47,34,34,34,34,47,34,47,34,47,47,47,47,47,34,47,47,47,34,34,47,47,34,34,47,47,47,34,47,47,34,34,34,47,47,47,34,34,34,47,34,47,47,34,47,47,47,34,47,47,34,47,47,34,47,47,34,34,34,47,47,47,34,47,34,34,47,34,47,34,47,47,34,47,47,47,47,47,34,47,34,47,47,34,34,34,47,47,34,34,47,47,47,47,47,34,34,34,47,47,34,47,47,47,34,34,34,34,47,47,34,34,47,47,47,47,47,34,34,34,47,47,34,47,47,47,34,34,47,34,34,47,34,47,34,47,34,34,47,34,47,47,34,34,47,34,34,34,34,47,34,34,47,47,47,47,47,47,47,34,34,34,34,34,34,34,34,47,47,34,34,47,47,47,47,34,47,47,47,34,34,47,47,34,34,34,34,47,34,34,47,47,34,34,47,47,34,34,34,34,34,34,47,47,34,47,47,34,34,47,34,34,34,34,47,34,34,34,34,34,34,47,47,47,47,34,47,34,34,34,34,47,47,34,34,47,47,47,47,47,34,34,47,47,47,47,47,47,47,47,47,34,34,47,34,47,47,34,47,47,47,34,34,47,47,34,34,47,47,47,34,34,47,34,34,34,34,34,34,47,47,47,47,34,47,47,34,34,47,34,47,34,34,34,47,34,34,47,34,34,34,34,34,47,34,34,47,47,34,34,34,47,47,34,47,47,47,47,47,34,47,34,47,34,34,34,34,47,34,47,34,34,47,47,34,34,47,34,34,34,34,47,47,34,47,34,34,34,34,47,47,47,47,47,47,34,34,47,47,34,34,34,34,34,34,47,34,47,47,34,47,34,47,34,34,34,47,34,34,34,34,34,34,47,47,34,34,47,34,34,47,47,34,34,47,34,34,47,47,34,34,34,34,34,47,34,47,47,47,47,47,34,47,47,34,47,47,34,47,47,34,34,47,34,47,47,47,47,34,47,34,47,34,47,34,47,47,34,47,47,47,47,47,34,34,34,47,47,34,47,47,47,47,34,34,47,47,34,47,34,47,34,34,34,47,34,47,47,34,47,47,34,34,34,47,47,34,34,34,47,47,34,47,47,34,34,34,34,34,47,34,47,34,47,47,34,34,47,34,47,34,34,34,34,47,47,34,47,34,47,34,34,47,34,47,34,34,34,47,47,47,47,34,34,47,47,47,47,34,34,47,47,34,34,47,34,34,47,34,47,47,34,47,34,34,47,47,47,34,47,47,47,47,34,47,34,34,34,34,34,34,34,34,47,34,34,34,34,47,47,47,47,34,47,34,34,34,47,34,34,34,47,34,47,34,34,34,34,47,34,34,34,47,34,47,47,47,34,34,47,47,47,47,47,34,47,47,47,47,34,34,47,34,34,47,34,47,34,47,34,34,47,47,47,34,47,47,34,34,34,47,34,34,47,47,47,34,47,34,34,47,47,47,47,34,34,47,34,47,34,47,34,47,34,34,47,47,47,34,34,34,34,47,34,47,47,47,47,47,34,47,47,47,34,34,47,47,34,47,34,34,34,34,47,34,34,47,34,47,34,47,47,34,34,47,47,34,34,47,34,47,47,34,47,47,34,34,34,34,47,34,47,47,47,34,47,34,34,34,34,34,47,47,34,47,47,47,34,34,47,34,47,34,34,47,34,34,47,47,47,34,47,34,34,34,47,34,34,34,47,47,47,34,34,34,47,47,47,34,34,34,34,34,34,47,34,47,34,34,47,34,34,47,34,47,47,34,47,47,34,47,34,34,47,34,34,34,47,34,47,47,47,34,47,34,47,47,34,47,34,34,47,47,34,34,47,47,47,34,47,47,47,34,34,47,47,34,34,47,34,47,34,34,34,34,47,47,34,47,47,47,47,34,34,47,34,34,34,47,47,34,34,34,47,34,47,34,34,34,47,47,47,47,34,34,47,47,34,47,47,47,47,34,34,47,47,47,34,47,47,47,47,47,47,34,34,47,47,34,34,34,34,47,47,47,34,34,47,47,47,47,47,34,47,34,47,47,34,34,34,47,34,34,34,34,47,47,34,47,47,34,34,47,34,34,47,34,34,34,47,47,34,34,47,34,34,47,47,47,34,34,47,34,47,34,34,34,47,34,47,47,34,34,34,34,34,47,34,47,47,47,47,47,34,34,34,34,47,34,47,34,47,47,34,34,34,47,47,47,47,47,47,34,47,47,47,47,47,34,47,34,34,34,34,47,34,34,34,34,47,47,34,47,34,47,34,47,47,34,34,34,47,34,47,47,47,34,47,34,47,47,34,47,34,47,47,34,47,47,47,47,34,47,34,47,47,47,34,34,47,47,34,47,34,34,34,34,47,34,47,34,47,34,34,34,34,34,47,34,47,47,34,34,34,47,34,34,34,47,47,47,47,34,34,47,34,34,47,47,47,34,47,34,34,47,47,47,34,34,34,34,34,34,47,34,34,34,47,47,47,34,34,34,34,47,47,47,34,34,47,47,47,47,47,34,47,34,34,34,47,34,34,47,47,34,34,47,34,34,47,47,47,34,47,34,47,34,47,47,47,34,47,47,47,34,47,34,47,47,34,47,34,34,47,34,47,34,34,47,47,47,34,47,34,34,47,47,47,47,47,34,47,47,47,34,34,34,34,47,34,47,34,34,34,34,34,34,34,47,47,47,47,34,47,47,47,47,47,34,34,34,47,47,47,47,47,34,34,47,47,34,34,47,47,34,34,47,34,34,34,34,34,47,47,34,34,47,34,34,34,47,47,47,47,47,34,34,34,47,34,34,47,34,47,47,47,47,47,47,34,34,47,47,47,34,34,47,47,47,34,47,34,34,34,47,47,47,47,47,47,47,34,47,34,34,34,34,47,47,34,47,47,34,47,47,34,34,47,47,34,47,47,47,34,34,34,34,34,34,34,34,34,34,47,34,47,34,47,34,34,34,34,47,34,34,34,34,34,34,47,34,47,34,34,34,47,47,34,47,47,34,34,47,34,47,34,47,34,34,47,47,47,34,47,34,47,34,47,47,34,47,34,47,47,34,34,34,34,47,34,47,34,34,34,34,34,34,34,47,47,34,47,34,47,47,34,47,34,34,34,47,47,34,34,47,34,47,47,34,47,34,47,47,34,34,47,47,34,34,34,47,34,34,34,47,47,34,34,47,47,34,47,34,47,34,47,47,34,34,47,34,47,34,47,47,34,47,47,34,47,47,34,34,47,34,34,34,34,47,47,47,34,34,34,47,34,47,47,34,34,34,34,47,34,34,47,47,47,47,47,34,34,34,47,34,47,34,47,34,34,34,34,47,47,47,47,47,34,47,47,34,34,34,47,34,47,34,47,34,47,34,47,34,34,34,47,47,47,34,34,34,47,34,34,34,47,47,47,34,47,34,47,34,34,47,34,47,34,34,34,34,34,47,47,47,47,34,34,34,34,47,34,47,47,34,47,34,34,47,47,47,34,34,47,47,34,47,34,34,34,34,34,34,34,47,47,34,34,47,34,34,34,47,47,47,34,34,34,47,47,34,34,47,34,47,47,34,47,47,47,47,34,34,47,47,47,47,34,34,47,34,47,47,47,47,34,34,34,47,47,34,34,47,34,47,34,47,34,47,47,47,34,47,47,34,47,34,34,34,34,47,34,34,47,34,34,47,47,34,47,34,34,47,47,47,47,34,47,47,34,34,34,34,47,34,34,34,34,47,47,34,34,47,47,34,34,34,47,47,34,34,47,34,47,47,47,47,47,34,34,47,34,47,34,47,47,47,47,47,47,47,34,47,34,47,47,47,47,47,47,47,47,34,34,34,47,47,34,47,34,47,34,34,47,47,47,47,47,34,47,34,47,34,34,47,47,47,47,34,34,34,34,47,34,34,34,34,47,34,47,34,34,47,34,34,47,47,34,34,47,47,47,47,47,34,34,47,34,34,34,34,47,47,34,47,47,47,47,47,47,34,47,47,47,47,47,47,47,47,47,47,34,47,47,34,34,47,47,47,34,47,34,34,34,34,34,34,47,47,47,34,34,34,47,34,34,34,34,47,47,34,34,47,47,47,47,34,47,34,47,47,47,47,47,34,34,34,47,34,34,47,47,34,47,34,34,47,34,47,47,47,34,34,47,34,34,47,34,34,47,47,47,47,47,47,47,47,47,34,47,34,34,34,47,47,34,34,47,34,47,34,34,34,47,47,47,34,47,47,34,34,47,47,34,34,34,47,47,47,47,34,47,47,47,34,34,47,47,34,34,47,47,47,47,47,47,34,34,34,47,34,34,34,47,34,47,47,34,34,47,47,34,47,34,47,47,47,34,34,47,47,34,34,34,34,47,47,47,47,34,34,34,34,34,47,34,34,47,34,47,34,34,34,47,47,47,34,47,34,34,34,47,34,34,47,47,47,47,47,47,34,47,47,34,47,47,34,47,47,34,47,47,47,34,34,47,47,34,34,34,34,34,34,47,34,34,47,34,34,34,34,47,47,47,34,34,47,34,34,34,34,47,34,34,34,47,34,47,47,34,47,34,34,34,47,34,34,34,47,34,47,34,34,47,34,47,47,34,47,47,34,34,34,34,34,34,47,47,47,47,47,34,47,34,34,47,47,34,47,47,34,47,47,47,34,34,47,47,47,34,34,47,34,47,47,47,34,34,34,47,47,47,47,47,47,34,47,47,47,47,47,34,34,34,47,34,34,47,47,47,47,34,47,34,34,34,47,47,34,34,47,47,47,47,47,47,34,47,34,47,47,34,34,47,34,34,34,47,34,47,47,47,34,47,47,34,47,34,34,47,34,34,47,47,47,47,47,34,34,34,47,34,34,34,47,34,47,47,47,47,47,34,47,34,47,47,47,47,34,47,34,47,47,47,47,47,47,47,34,34,34,34,34,47,34,34,47,34,47,34,34,47,47,47,47,47,47,47,34,47,47,47,47,34,34,47,47,34,34,34,47,47,34,34,34,47,34,47,34,34,34,34,47,34,47,47,34,47,47,47,47,47,47,47,47,47,34,47,47,34,47,47,47,47,47,34,47,34,34,34,47,34,34,47,47,47,34,47,34,34,34,47,47,34,34,34,47,47,34,34,47,34,34,47,34,34,34,47,34,34,34,34,34,47,47,47,34,47,47,34,47,47,34,34,47,34,34,34,47,34,34,47,34,34,47,34,34,34,34,34,34,34,34,47,47,47,47,34,34,34,34,47,34,47,47,47,47,47,34,34,34,34,47,47,47,34,47,34,34,47,47,47,47,34,47,34,47,47,47,34,34,34,47,34,47,47,34,34,34,34,34,47,47,34,34,47,47,47,47,34,47,47,34,47,47,34,47,34,34,34,47,34,34,47,34,34,47,34,47,47,34,47,34,47,34,34,34,34,47,34,47,34,34,34,47,47,47,47,47,47,47,34,34,47,34,34,34,47,47,47,34,47,34,34,47,34,47,47,47,47,34,47,47,47,34,34,47,47,47,34,34,47,34,47,34,34,47,34,34,47,34,34,34,47,47,47,34,34,34,47,34,47,34,47,34,34,47,34,34,47,34,47,47,47,34,34,34,47,47,34,47,34,47,34,47,34,34,34,47,47,47,47,34,47,47,34,47,34,34,34,34,34,34,34,34,47,47,34,34,34,34,34,47,34,34,47,47,34,47,34,34,47,47,34,47,34,34,34,34,34,34,47,47,34,34,34,47,47,47,47,47,47,47,34,34,34,47,34,34,47,47,47,47,34,47,47,34,34,47,47,34,47,47,34,34,47,47,47,47,47,34,34,34,34,47,34,47,34,34,47,34,47,47,47,34,34,47,47,47,47,34,47,34,34,47,34,34,47,34,47,47,34,47,34,47,47,47,47,47,47,47,34,34,34,34,34,34,34,34,34,47,34,47,47,47,47,47,47,47,47,34,47,47,47,47,47,47,34,47,47,47,47,34,34,34,47,47,34,47,47,47,47,47,47,34,47,34,34,34,34,34,34,34,47,34,34,47,34,47,47,34,47,34,34,34,47,34,34,34,34,34,47,47,34,34,34,47,47,47,47,47,34,47,47,34,47,34,47,47,47,34,47,34,34,47,47,47,34,47,47,47,47,47,34,47,34,34,47,34,34,47,34,34,47,34,34,47,47,34,34,47,47,47,34,47,47,47,34,47,34,34,47,47,34,34,34,47,34,34,34,34,47,34,34,47,34,34,47,34,47,47,34,47,47,34,34,47,34,34,34,47,34,47,34,34,34,34,34,47,34,34,47,34,34,34,47,34,47,34,47,47,34,34,34,34,34,47,34,47,34,34,47,47,47,34,47,34,34,47,47,47,34,34,34,34,34,34,47,47,34,47,47,47,34,34,34,34,34,34,47,47,47,47,34,34,47,47,47,47,34,34,34,34,34,47,34,47,34,34,47,47,47,47,47,34,34,34,34,47,34,34,34,34,34,34,47,34,47,34,34,47,47,34,34,47,34,47,34,34,34,47,47,34,34,47,47,47,47,34,34,34,47,34,47,47,34,47,34,34,47,34,47,47,34,47,34,34,47,47,47,47,34,47,47,47,34,47,34,34,47,34,34,47,34,47,47,47,34,34,47,34,47,34,34,34,34,47,47,34,34,34,47,34,47,34,47,34,34,34,47,34,34,47,34,34,34,47,34,34,34,47,34,47,47,47,34,47,34,34,47,47,34,47,47,47,47,47,47,47,47,34,34,47,34,34,34,34,34,47,47,47,34,34,34,47,47,34,47,34,34,34,47,47,47,47,34,34,34,34,47,47,47,34,47,34,34,47,47,47,34,47,47,34,34,47,47,34,47,47,47,34,47,47,47,34,47,34,47,47,34,34,34,47,34,47,47,47,34,47,47,47,47,34,34,34,47,34,34,47,47,34,34,34,34,34,47,34,34,47,47,34,34,47,34,34,34,34,47,47,47,47,47,47,34,34,34,34,47,34,34,34,47,47,34,34,47,47,47,47,47,47,47,34,47,47,47,47,34,34,34,34,34,34,34,34,47,34,34,34,47,47,34,34,47,34,34,34,34,47,47,47,47,47,47,34,34,47,47,34,47,47,34,47,47,34,47,34,47,34,47,47,34,47,34,34,47,34,47,34,34,34,47,47,34,34,34,47,34,47,34,34,34,47,34,47,34,47,34,47,47,34,34,47,47,47,34,47,47,47,34,34,47,34,47,47,47,47,34,47,34,47,34,34,47,34,34,47,47,47,47,47,34,47,47,47,47,47,34,47,34,47,34,34,34,47,47,47,34,47,34,34,34,47,47,47,34,47,47,34,34,34,34,34,47,47,47,47,47,47,34,47,34,47,34,34,34,34,47,47,47,47,47,34,34,47,34,47,34,34,34,34]\n",
    "temperatures = [34,34,47,47,34,34,34,47,34,47,47,47,34,34,34,47,47,34,47,47,34,34,34,34,47,34,34,47,34,34,34,47,47,47,47,47,47,34,34,34,47,34,34,47,34,47,47,47,34,47,47,34,47,34,47,47,34,47,47,34,34,47,47,47,34,34,47,47,47,34,34,47,34,34,34,47,47,34,34,47,47,47,47,47,34,34,34,47,47,34,47,34,47,34,34,47,34,47,47,47,47,47,47,34,34,34,47,34,47,34,47,34,34,34,34,47,34,34,34,34,34,34,34,47,34,34,47,47,34,47,47,47,47,47,47,47,34,34,47,34,47,34,47,34,34,34,47,34,34,47,34,47,47,34,47,47,47,47,34,34,34,34,47,47,34,34,34,47,34,34,47,34,34,47,34,34,34,34,47,34,34,34,47,34,34,47,47,34,47,47,34,34,34,34,34,34,47,47,34,47,34,47,34,47,47,47,34,47,34,34,34,34,34,47,47,47,47,47,47,34,47,34,47,34,34,34,47,47,47,34,47,47,34,47,47,47,34,47,47,34,47,47,34,47,34,34,47,47,34,34,34,34,47,34,34,47,47,34,47,47,34,34,34,34,47,47,34,34,47,47,34,47,34,47,34,47,47,47,47,34,34,47,47,34,34,34,47,34,47,47,47,34,47,47,34,34,34,34,34,47,47,34,47,47,34,34,47,34,47,47,34,47,47,47,47,47,47,47,34,34,34,34,47,47,34,47,34,47,47,34,47,47,34,34,34,47,47,47,34,47,34,47,47,47,34,34,34,34,34,34,34,47,34,34,34,34,47,47,34,34,47,34,47,47,34,47,34,34,47,47,47,47,47,47,34,34,47,34,34,47,34,47,47,47,47,47,34,34,34,47,47,34,47,34,34,47,47,47,34,34,47,47,47,34,34,47,47,34,34,47,47,47,47,34,34,34,47,34,34,47,47,34,34,34,47,34,34,47,34,34,34,34,47,34,47,34,47,47,47,34,34,47,47,47,47,47,34,47,34,34,34,34,34,47,47,34,34,47,47,34,34,47,34,47,34,47,34,47,47,47,47,47,47,47,47,47,34,47,47,47,34,47,47,34,34,47,34,47,34,34,47,47,47,47,34,47,34,34,34,47,47,47,34,34,47,47,34,34,34,34,47,47,34,47,34,34,47,47,34,47,34,47,34,47,34,34,47,34,47,34,47,34,47,47,47,47,47,34,34,47,47,34,34,34,47,34,34,34,34,34,47,47,47,34,47,47,47,47,47,47,47,47,34,34,34,34,47,34,47,34,47,47,47,34,34,34,34,47,34,47,34,47,34,47,34,34,34,47,34,47,34,34,47,34,34,47,34,34,47,47,47,34,47,47,47,34,34,34,34,34,34,34,47,34,34,47,34,47,34,47,34,34,34,34,47,47,47,47,34,47,34,34,34,47,34,47,47,47,34,34,47,34,47,47,34,47,34,34,34,47,34,34,34,47,34,34,34,34,34,34,47,47,47,47,34,47,47,34,47,34,47,34,47,34,47,34,34,47,34,47,34,47,34,34,34,34,34,47,47,47,47,47,47,47,47,47,34,47,47,34,34,34,47,34,34,47,47,34,47,47,47,47,47,47,47,34,47,34,47,47,47,47,47,47,34,47,47,34,34,34,47,47,47,47,34,34,47,47,34,34,34,34,34,47,34,34,34,34,47,47,34,47,47,47,47,47,47,47,34,34,47,34,47,34,47,47,47,47,34,47,47,47,34,34,34,34,34,34,47,47,47,34,34,34,47,47,34,47,34,47,47,47,34,47,47,47,47,47,47,47,34,47,47,47,34,34,47,47,34,47,47,34,34,34,47,34,47,34,34,47,34,47,34,34,34,34,47,47,47,34,47,34,47,47,34,47,34,47,34,47,34,47,47,47,34,34,47,34,47,34,47,47,47,47,47,34,47,34,47,34,47,34,34,47,47,47,47,47,34,47,34,47,47,47,47,47,47,47,34,47,47,47,34,34,34,47,34,47,47,47,47,34,47,47,34,47,34,34,47,47,34,34,47,34,47,47,47,47,34,47,47,34,34,34,47,47,34,34,47,34,47,34,47,34,47,47,47,47,34,47,47,34,34,34,47,34,47,34,47,34,34,34,47,34,34,34,34,34,34,47,47,47,34,47,47,47,34,34,34,34,47,34,34,47,34,34,47,47,34,34,47,34,34,47,34,34,47,34,47,47,34,47,47,34,34,47,47,34,34,47,34,34,47,47,34,47,34,34,47,47,47,34,34,47,47,34,34,34,47,47,34,47,34,47,47,34,34,34,47,47,47,47,34,47,47,34,47,47,34,47,34,47,34,47,47,34,34,47,47,47,34,47,47,47,34,34,34,47,47,47,47,34,47,47,34,34,34,34,34,34,34,34,47,34,47,47,34,47,47,34,47,47,47,47,47,34,47,34,34,34,34,47,47,47,47,34,34,34,47,34,34,34,47,47,34,47,47,34,47,34,34,34,47,34,47,47,47,34,34,34,34,47,47,47,34,47,47,47,34,47,34,47,34,34,47,47,47,47,34,47,34,47,34,47,34,34,34,47,34,34,34,47,34,34,47,34,47,34,47,47,34,34,47,34,47,47,47,34,47,34,47,34,47,47,47,47,34,34,34,34,34,34,34,47,47,47,47,34,47,34,34,47,34,47,34,34,34,47,47,34,34,34,47,34,47,47,47,34,34,47,47,47,47,34,34,34,47,47,34,47,34,34,34,34,34,47,47,47,47,47,34,34,34,34,47,47,34,47,47,47,34,34,47,34,34,34,34,34,34,34,47,47,34,47,34,47,47,34,47,47,47,34,34,47,47,34,34,34,47,47,47,34,34,34,34,47,34,47,34,34,47,47,47,47,34,47,34,47,47,47,47,34,34,47,47,47,34,47,34,47,34,34,47,34,47,47,47,34,34,34,34,47,47,47,34,34,47,47,47,34,34,47,34,47,34,47,34,47,34,34,47,47,47,34,47,34,47,47,47,34,34,34,34,34,47,34,47,47,47,47,34,47,47,47,47,34,34,47,47,47,34,34,34,34,34,47,34,47,47,34,47,47,47,34,47,34,47,47,34,47,34,47,34,34,47,34,34,47,34,34,34,34,34,47,34,47,34,47,47,34,47,47,34,34,47,34,34,47,34,34,47,47,34,47,34,34,47,47,47,47,47,34,47,47,47,47,34,34,34,47,47,34,34,34,47,34,34,47,47,34,34,47,34,34,34,47,47,47,34,34,34,47,47,47,34,47,47,34,47,34,34,47,47,47,34,47,34,47,34,34,47,34,34,47,47,34,34,47,47,34,34,47,47,47,34,34,47,34,34,47,47,47,34,34,47,34,34,34,47,47,47,34,34,47,47,34,34,47,47,34,34,47,47,47,47,47,34,47,47,47,34,47,47,34,34,47,34,47,34,34,34,47,47,47,47,47,47,34,34,47,47,47,34,34,34,34,34,34,34,34,47,34,34,34,34,34,47,34,34,34,47,47,34,34,34,47,34,47,47,34,47,34,34,34,47,47,34,47,34,47,34,34,47,34,47,34,34,47,47,34,34,34,47,34,34,34,34,47,34,47,47,34,34,34,47,47,34,34,34,47,47,47,34,34,47,34,47,34,47,34,34,34,47,34,47,34,34,34,47,47,34,34,47,34,47,34,34,34,34,47,47,47,47,47,34,47,47,34,47,34,34,34,34,34,34,34,47,47,34,34,47,47,47,34,34,34,47,34,34,34,34,34,47,34,47,47,34,47,47,34,34,34,34,47,34,34,47,47,34,34,34,34,47,47,47,47,34,47,34,47,47,34,34,47,34,47,47,34,34,34,34,34,34,34,47,34,34,34,47,34,34,34,34,34,47,47,47,47,34,47,47,34,34,47,34,47,47,34,34,34,47,47,34,47,47,47,47,47,34,47,34,34,47,47,34,34,34,47,47,34,34,47,34,34,34,47,34,34,47,47,34,47,34,34,47,47,47,47,34,34,34,34,34,34,34,47,47,47,34,34,47,47,47,34,47,34,47,34,34,47,47,47,47,34,47,34,47,47,34,34,34,34,47,47,47,47,34,34,47,34,34,47,34,34,47,34,47,34,34,47,34,34,34,47,34,34,34,47,47,47,34,47,34,34,47,47,47,34,34,47,34,47,47,34,47,47,47,47,47,34,34,34,47,34,34,34,34,47,34,34,47,34,34,34,34,47,47,34,47,47,34,47,34,34,47,34,47,47,47,34,47,34,34,34,47,47,47,47,34,47,47,34,34,47,47,34,47,47,34,47,34,34,47,34,34,34,34,34,34,47,47,47,34,47,34,34,34,47,47,34,47,34,47,34,47,34,34,47,34,34,34,47,34,34,47,34,34,47,47,47,34,47,47,34,34,47,47,34,34,34,34,34,34,47,47,34,34,47,34,34,47,34,47,47,34,47,47,34,47,34,34,34,47,34,34,47,34,34,34,34,47,47,34,47,34,34,34,47,47,47,34,34,34,47,34,47,34,34,34,34,47,34,34,34,34,34,47,34,34,34,47,47,34,34,34,47,34,34,47,34,34,34,34,47,34,47,34,34,47,34,34,47,47,47,47,47,34,47,34,47,47,47,47,47,47,47,47,47,34,34,34,34,47,47,47,34,47,47,34,47,47,47,47,34,47,34,34,34,47,34,34,47,47,34,47,47,34,34,34,47,34,34,47,47,47,47,47,34,47,34,34,34,47,47,47,47,47,47,34,47,47,47,47,34,47,34,34,34,34,34,34,47,47,34,34,34,34,47,34,47,47,47,34,34,47,47,47,34,47,34,47,47,34,47,47,34,47,47,34,34,47,47,47,47,34,47,47,47,34,47,47,34,34,34,34,34,34,47,34,47,47,47,47,34,34,34,34,47,47,34,47,34,47,47,34,47,34,34,34,47,34,34,47,47,47,47,47,34,34,34,47,34,47,47,34,34,47,34,34,34,47,34,47,34,47,34,47,47,47,34,34,34,34,34,34,47,47,47,47,34,34,47,47,34,34,47,47,47,34,34,34,47,34,34,34,34,34,47,34,34,34,34,34,34,47,34,47,34,34,47,47,47,47,34,34,34,34,47,47,34,47,34,47,34,34,47,34,47,47,47,34,34,34,34,47,34,47,34,47,47,47,34,34,47,47,47,47,34,34,34,47,34,47,47,34,47,34,47,34,47,47,47,47,34,34,47,47,47,47,47,47,47,34,47,34,34,47,47,47,34,47,34,34,47,34,47,47,34,47,47,34,34,34,34,34,47,34,34,34,34,47,34,47,34,34,47,47,47,47,47,34,34,34,47,34,34,47,47,47,47,34,34,34,47,34,34,47,34,47,34,34,47,47,47,34,34,34,47,34,47,47,47,47,34,47,34,47,34,47,34,47,34,34,47,34,47,34,47,47,47,34,34,47,47,34,34,34,47,47,34,34,34,34,34,34,47,34,34,34,47,34,34,34,47,47,34,34,47,47,34,47,47,34,47,34,47,47,47,47,34,34,47,34,34,47,34,34,47,47,34,47,34,34,34,34,34,34,34,47,34,34,47,47,34,47,34,34,34,47,34,34,34,47,47,47,47,47,47,47,47,47,47,34,47,47,47,34,47,34,34,47,34,47,34,47,47,47,34,34,47,34,34,34,47,34,47,34,34,34,47,34,34,47,34,34,34,34,47,47,34,47,34,47,34,47,47,47,34,34,47,34,34,34,47,47,34,34,34,47,47,47,47,34,34,47,47,47,47,34,34,47,47,47,34,34,47,34,47,34,34,34,47,34,34,34,47,34,47,47,34,47,34,34,34,34,47,34,47,34,47,47,47,47,47,34,34,34,47,47,34,34,34,47,47,34,34,34,47,47,47,47,47,34,34,47,47,34,34,47,34,47,47,47,47,47,34,34,47,47,34,34,47,34,34,47,34,34,47,47,47,47,34,34,47,34,34,34,34,34,47,34,47,47,47,47,47,47,34,34,47,34,34,34,47,47,34,47,34,34,34,34,47,34,47,47,34,34,34,34,34,34,47,47,47,47,34,34,47,34,47,34,47,47,34,34,34,34,34,47,34,47,34,34,47,34,47,47,47,34,34,34,34,47,34,47,34,47,47,34,34,47,34,34,34,34,34,47,47,34,47,47,34,47,47,34,34,47,47,47,47,34,47,47,34,34,34,34,34,34,47,34,47,34,47,34,47,34,47,34,47,34,34,47,47,47,47,34,47,34,47,34,34,34,34,47,47,34,34,47,34,34,47,47,34,34,47,47,34,34,34,34,47,47,47,34,47,47,34,47,34,47,47,47,34,47,47,34,47,34,34,34,34,34,34,34,34,47,47,34,34,34,34,47,34,47,47,47,47,47,34,47,47,47,34,47,47,47,47,47,34,47,34,34,47,47,34,47,34,34,34,47,47,34,34,47,47,47,47,34,47,34,47,47,34,34,34,47,47,47,47,34,34,34,47,47,34,34,34,47,34,47,47,47,34,47,34,34,47,34,47,47,34,34,34,34,47,47,47,34,34,34,34,47,47,34,47,47,47,34,34,34,47,47,34,47,34,47,34,47,34,47,47,47,34,34,34,34,34,47,34,47,47,47,47,34,47,34,34,47,34,34,34,47,34,47,34,34,47,47,47,47,34,34,47,34,47,34,34,34,34,34,34,34,47,47,47,34,47,47,34,47,47,34,34,34,34,47,34,47,47,34,34,47,34,47,34,34,34,47,34,47,34,34,34,47,34,34,47,34,47,34,47,34,47,47,34,34,34,34,47,47,34,34,34,34,34,34,34,47,47,34,34,47,47,47,47,34,34,47,34,34,47,34,47,34,34,47,47,47,34,34,47,34,34,34,47,47,47,34,34,47,34,34,34,47,34,34,34,47,34,34,47,34,34,47,34,47,34,34,34,34,47,34,34,34,34,47,34,47,47,47,34,34,34,34,34,47,47,47,47,34,34,47,47,34,47,47,34,34,34,47,34,47,34,47,47,34,34,34,47,47,47,34,47,34,47,34,47,47,47,34,34,47,34,34,47,34,34,47,34,47,34,47,34,34,47,34,34,34,47,34,34,34,47,34,34,47,34,47,34,47,34,34,34,34,47,34,34,47,47,47,47,47,47,34,47,47,34,47,34,34,34,47,34,34,47,47,47,34,34,34,47,34,47,47,47,47,47,47,47,34,34,47,34,47,34,34,47,34,34,47,47,34,34,47,47,47,34,34,34,47,47,34,47,47,34,34,34,47,34,47,47,47,47,47,47,47,47,34,47,34,34,47,47,34,34,34,34,47,34,47,47,34,47,34,47,47,47,34,34,47,34,47,47,47,47,34,34,47,34,34,47,47,34,47,47,47,47,34,47,47,47,47,47,47,47,34,34,47,47,47,34,47,47,34,34,47,47,34,47,34,47,47,47,34,47,47,47,47,47,34,47,47,47,47,34,47,34,34,47,34,47,34,34,34,34,34,34,34,34,34,47,47,34,47,34,47,47,47,34,34,47,34,47,34,47,47,47,47,47,34,34,34,34,34,34,47,47,47,34,34,34,47,47,34,34,47,47,34,47,34,34,47,34,34,34,47,47,34,34,34,47,47,34,47,34,47,47,34,47,34,34,34,34,47,47,47,34,47,47,47,47,47,47,47,47,47,34,47,34,47,34,47,47,34,34,34,34,34,47,47,47,34,34,47,34,47,34,47,34,34,47,34,47,47,47,34,47,34,47,34,34,34,34,47,34,47,47,34,34,34,34,47,34,47,47,47,34,47,47,34,34,47,34,34,34,47,47,47,34,47,47,34,34,34,47,34,47,34,47,47,47,34,34,47,34,34,47,34,34,34,47,34,47,47,47,47,47,47,34,34,34,47,47,47,34,47,47,47,34,47,34,34,34,34,47,47,47,47,34,34,34,34,34,47,47,34,47,34,34,47,34,34,47,34,47,47,34,47,34,34,47,34,34,34,47,47,34,47,34,34,47,47,47,34,47,34,47,47,34,34,47,47,47,47,47,47,47,34,34,47,34,34,47,47,47,47,47,47,47,34,47,47,47,34,34,47,34,47,47,34,34,34,34,47,47,34,34,34,34,34,34,34,34,34,34,47,34,47,47,34,34,34,47,47,47,34,34,34,34,47,34,47,47,34,47,47,47,34,34,34,34,34,47,34,47,47,34,34,34,47,34,34,47,47,47,47,47,34,34,47,47,34,47,34,34,47,34,47,34,47,34,47,47,34,34,34,34,34,47,34,34,34,47,47,47,34,34,47,47,47,47,34,34,34,34,47,47,47,34,34,34,47,47,34,47,34,47,34,47,47,47,47,34,34,47,47,34,34,47,34,47,47,34,47,34,47,47,47,47,34,34,47,47,34,34,47,34,47,34,34,34,47,47,47,47,34,34,47,47,47,34,47,34,34,47,47,34,34,34,47,34,34,47,47,34,47,47,34,34,47,34,47,34,47,34,47,34,47,47,34,47,47,34,47,34,34,34,34,47,47,47,34,47,47,47,47,47,34,47,34,34,47,34,47,34,34,34,34,47,47,47,47,34,47,34,34,34,34,34,47,47,34,34,47,47,34,34,34,34,47,34,34,47,47,34,47,34,47,34,34,47,47,47,47,34,47,34,34,34,34,34,34,34,34,47,47,34,47,34,47,47,47,34,47,34,47,47,34,34,34,47,34,47,34,34,34,34,47,47,34,34,34,47,34,34,34,34,34,47,34,47,47,47,47,34,34,47,47,34,34,47,47,34,47,47,47,34,34,47,34,47,34,47,34,34,47,47,47,47,34,34,34,47,34,47,34,34,47,47,47,34,47,47,47,47,47,47,34,47,47,47,47,47,34,47,34,47,34,34,34,34,47,34,47,34,34,47,34,34,34,34,47,47,47,47,47,47,47,47,34,47,34,34,47,34,47,34,47,47,47,34,47,34,47,34,34,47,47,47,47,47,47,34,34,34,47,47,47,47,34,34,47,34,34,34,34,47,34,34,34,34,34,47,47,47,47,47,47,47,47,47,47,34,47,47,34,47,47,47,34,34,34,47,47,47,47,47,34,47,47,47,47,34,34,34,47,34,34,47,47,34,47,34,34,47,47,47,34,47,47,47,34,34,34,34,34,47,47,47,47,34,47,34,47,47,34,34,34,34,34,47,34,47,34,47,34,34,47,47,47,47,47,34,34,47,47,47,34,47,34,34,47,47,47,47,34,34,34,34,34,34,47,47,34,34,34,34,34,34,47,47,34,47,47,34,34,47,34,47,34,47,34,47,47,34,34,47,47,34,47,34,47,34,47,34,34,34,34,34,34,47,47,34,34,34,47,47,34,34,34,34,47,34,34,34,47,47,34,47,34,34,34,47,47,47,34,47,34,34,47,34,34,47,47,47,47,47,34,34,34,34,47,34,47,34,47,34,34,47,34,47,34,47,34,34,47,47,47,47,34,47,47,47,47,47,47,47,34,47,47,34,47,47,47,34,47,47,47,34,34,47,47,34,47,34,47,47,34,47,47,47,47,34,47,47,47,34,34,47,47,47,34,34,34,34,47,34,47,34,47,34,47,47,34,47,47,34,34,34,47,34,34,34,47,34,34,34,47,34,47,47,34,34,34,47,34,47,47,34,34,47,34,34,47,47,34,34,34,34,47,34,47,34,47,47,34,47,34,34,47,47,47,34,47,47,34,34,47,47,47,34,34,47,34,47,47,47,47,47,34,47,47,34,47,47,47,47,47,47,47,34,34,47,47,47,47,34,34,47,47,47,47,34,47,47,34,34,34,47,34,34,34,34,34,47,34,47,34,34,47,34,47,47,34,34,34,47,34,47,34,47,34,47,34,47,34,47,47,47,34,47,47,34,34,34,34,47,34,34,47,47,34,47,34,34,47,47,34,47,47,34,34,47,34,34,34,47,34,47,47,47,34,47,34,47,47,34,47,34,47,34,47,47,47,34,47,47,47,47,47,34,34,47,47,34,34,34,47,47,47,34,47,34,47,34,47,47,47,34,47,34,47,34,47,34,34,47,47,34,34,47,47,47,34,34,34,47,34,47,34,34,34,47,34,34,47,34,47,47,34,34,34,34,47,47,47,47,47,47,34,47,34,34,47,47,47,34,47,47,47,34,34,34,34,34,47,47,47,47,34,34,47,47,47,47,47,34,34,47,34,47,47,47,34,34,34,34,47,47,34,47,34,47,34,34,34,47,34,47,47,47,34,34,34,47,47,34,34,34,34,47,47,47,47,47,34,34,47,47,34,34,34,34,47,47,47,34,34,34,34,34,34,34,34,47,34,47,34,34,34,47,47,34,34,47,34,47,47,34,34,47,47,47,34,47,34,47,34,34,34,47,47,47,47,47,34,34,34,47,47,47,34,34,34,47,34,34,47,34,34,47,47,34,34,34,34,34,47,47,47,34,47,47,47,34,34,47,34,47,34,34,34,47,34,47,47,34,47,47,47,47,47,47,47,47,47,47,34,34,47,47,47,47,34,47,47,34,47,34,34,47,47,34,47,47,34,47,34,34,34,34,47,47,34,47,34,47,34,47,47,34,47,34,47,34,47,34,47,47,34,47,47,47,47,47,47,34,47,47,34,34,34,34,47,34,47,47,47,34,34,47,34,47,34,34,47,34,34,34,34,34,34,34,47,47,47,47,47,34,34,47,47,47,47,34,34,47,34,34,34,47,47,34,47,47,34,34,47,47,34,47,34,47,34,47,47,47,47,34,34,34,47,34,47,34,34,47,47,34,47,34,34,34,34,47,47,47,34,47,47,47,47,47,47,47,34,34,34,34,34,34,34,34,47,34,34,47,34,47,34,47,34,34,47,47,47,34,47,47,34,47,47,34,47,34,34,47,34,47,34,34,47,34,34,34,34,34,47,47,47,47,47,47,47,34,34,47,47,47,34,47,47,34,47,34,34,34,47,34,34,47,34,47,47,34,47,47,47,47,47,34,34,47,34,34,34,34,47,47,47,47,34,34,34,34,34,34,47,34,34,34,47,34,47,47,34,34,34,47,34,34,34,47,34,47,34,47,34,47,47,34,47,47,34,47,47,47,47,34,34,47,47,47,34,34,47,34,34,34,47,34,34,34,47,47,34,47,47,34,34,34,34,47,47,47,47,47,47,34,34,34,47,34,34,34,34,34,47,34,34,47,34,34,34,47,47,34,47,47,47,47,34,34,47,34,34,47,47,34,47,34,34,47,34,47,34,47,34,47,34,34,34,34,34,34,47,34,34,47,47,34,34,34,47,34,34,34,34,47,34,34,47,47,47,47,34,34,34,47,34,47,34,34,47,47,34,47,47,34,47,47,34,34,34,34,47,47,47,34,34,47,47,47,34,34,47,47,34,47,34,34,34,47,47,47,34,34,34,34,34,34,47,34,47,34,34,34,34,47,47,47,34,47,47,34,47,34,47,47,34,34,47,47,47,34,47,47,34,34,34,34,34,47,34,47,34,47,47,34,34,47,47,34,47,47,34,47,47,34,47,47,47,34,47,34,47,34,34,47,47,47,34,47,34,47,47,47,47,47,47,47,34,34,34,47,47,47,34,47,47,34,47,34,47,47,47,34,47,47,34,47,47,47,47,47,34,34,47,47,34,47,47,34,47,34,34,47,34,34,34,34,34,47,34,34,47,34,34,47,34,47,47,47,34,34,34,47,34,47,34,34,47,47,34,34,34,34,34,34,34,34,47,34,47,47,34,47,34,47,34,34,34,47,34,47,34,47,47,34,47,47,47,47,47,34,34,34,47,34,34,34,47,34,47,47,34,34,34,34,34,34,34,47,47,47,34,34,47,34,34,47,47,47,47,34,47,34,47,34,47,34,47,47,47,47,47,47,47,47,47,47,47,34,47,34,34,34,47,34,34,47,47,47,34,34,47,34,34,34,34,34,47,34,47,47,34,34,34,47,47,47,47,47,47,34,47,34,34,47,47,34,47,47,34,47,34,34,34,34,34,47,34,34,47,34,34,34,34,47,34,34,34,34,47,34,47,34,34,47,47,47,47,47,34,47,34,47,34,34,34,47,34,47,47,47,34,47,34,34,47,34,34,47,47,47,34,34,34,47,34,47,47,47,34,47,47,34,34,34,34,34,34,34,34,34,47,34,47,34,34,34,34,47,47,34,47,34,34,34,47,47,47,47,47,34,34,34,47,34,47,47,47,47,34,47,34,34,34,34,47,47,34,47,34,47,47,47,34,34,34,34,34,47,47,47,47,34,34,34,47,47,47,34,47,47,47,34,47,34,34,47,47,47,34,47,34,34,34,47,34,34,47,47,47,34,34,47,34,34,34,47,47,34,34,34,47,34,47,34,34,47,34,34,34,47,47,47,34,34,34,47,47,34,47,47,34,47,34,47,47,47,34,47,47,34,34,34,47,34,34,34,34,34,34,47,47,34,34,47,34,34,34,34,34,47,34,47,34,47,34,34,47,34,47,47,34,47,34,34,47,34,34,47,47,47,34,47,34,47,47,47,47,34,34,47,47,34,34,34,34,34,47,34,47,34,34,34,47,47,34,34,47,47,34,47,34,47,34,34,47,34,34,47,34,47,34,47,34,47,47,47,34,34,34,34,34,34,47,47,34,34,34,34,34,34,34,34,34,47,34,47,47,34,47,34,47,34,34,47,47,47,34,34,47,34,47,47,34,47,34,34,34,47,34,34,34,47,47,34,34,47,34,34,34,47,34,47,34,34,34,47,47,34,34,47,34,34,34,47,47,34,34,47,34,34,47,34,47,34,47,47,34,47,47,34,34,34,47,34,47,47,47,47,47,47,34,47,34,47,34,34,34,47,47,34,34,47,34,34,47,34,34,47,34,34,34,34,47,34,34,34,34,34,47,47,47,34,47,47,47,34,34,34,34,47,34,34,47,47,34,34,34,47,34,47,47,34,47,47,34,47,34,34,34,47,34,47,47,34,47,34,34,47,47,34,34,47,34,47,47,47,47,34,47,47,34,34,47,47,47,47,47,47,47,47,47,47,47,34,47,34,47,47,47,47,47,34,47,47,34,34,34,34,34,47,34,47,47,34,34,47,34,47,34,34,47,47,34,47,47,47,47,34,47,34,47,34,34,47,47,34,34,34,34,47,47,47,47,34,34,34,47,34,34,47,47,34,47,34,47,34,47,47,34,47,47,47,34,47,34,47,34,34,47,47,47,34,47,47,47,47,47,34,47,47,47,34,34,47,47,47,47,34,34,47,34,34,47,47,34,34,47,34,47,47,34,34,47,34,47,47,47,34,34,47,47,47,34,34,47,34,34,34,47,47,47,47,47,47,34,34,47,34,34,34,34,47,34,34,47,34,47,47,34,47,34,47,47,34,47,47,34,34,47,34,47,34,47,34,47,47,34,47,47,34,47,34,47,34,47,34,34,34,47,47,47,34,34,47,34,34,47,47,47,47,47,47,47,34,34,47,34,34,34,47,34,34,34,47,34,47,34,34,34,47,34,47,47,47,47,34,47,47,34,47,47,47,34,47,34,34,34,47,34,34,34,34,34,47,34,47,47,34,47,47,47,47,34,47,47,47,47,34,47,47,47,47,34,47,47,47,47,47,34,34,34,47,34,34,47,34,47,47,34,47,47,34,34,47,34,34,47,34,47,47,34,34,34,47,47,47,47,34,34,34,47,34,47,47,34,34,47,34,34,47,34,47,47,34,47,47,34,34,34,47,47,47,34,34,47,34,47,47,34,34,47,47,34,47,47,47,47,47,47,47,34,47,47,47,34,34,34,34,47,47,34,47,34,34,47,34,34,34,47,34,34,34,47,34,34,34,47,34,34,34,47,47,34,47,47,34,47,34,47,47,34,34,34,47,34,47,34,47,47,47,34,47,47,47,47,47,34,47,34,47,47,34,34,34,47,34,34,47,47,34,34,34,34,47,47,47,47,47,34,34,47,47,34,47,34,34,34,47,34,34,34,47,34,34,34,34,34,47,47,47,34,47,34,34,34,47,34,34,47,34,47,34,47,34,47,47,34,34,47,34,47,34,34,47,47,34,47,47,34,34,47,47,34,34,34,47,34,34,47,34,47,34,34,47,47,34,34,47,47,47,34,47,47,47,47,47,34,47,34,34,47,34,34,47,47,34,47,34,34,47,34,34,47,47,34,47,34,47,34,47,47,47,47,34,34,47,47,34,47,34,47,34,34,47,34,47,47,47,47,34,34,47,47,47,47,34,47,47,47,47,34,34,47,34,47,47,47,34,34,34,34,34,34,47,47,47,34,34,47,47,47,34,34,34,34,47,34,47,34,47,34,34,34,34,47,47,47,34,47,34,47,34,34,47,47,34,34,47,47,47,34,34,34,34,47,47,47,34,34,47,47,47,47,47,47,34,34,47,47,47,47,34,34,47,34,34,34,34,34,34,47,47,47,47,34,47,34,47,34,34,47,47,47,34,34,47,47,47,34,47,34,47,34,34,47,34,34,34,34,34,34,34,34,34,34,34,47,47,47,34,34,34,47,47,34,34,34,47,47,47,34,47,34,34,34,34,34,34,34,47,34,34,47,47,47,47,34,47,34,34,47,34,34,47,34,34,47,47,47,47,47,47,47,34,34,34,34,47,34,34,34,34,47,34,47,47,34,47,34,34,47,34,47,34,47,47,47,34,34,47,47,47,47,47,47,34,47,34,34,47,34,34,47,47,47,47,47,47,34,47,34,34,34,34,47,47,34,34,47,34,34,47,47,47,34,34,47,34,34,34,34,34,47,34,47,34,47,34,34,34,47,34,34,34,34,47,47,47,47,47,34,34,47,34,34,47,34,34,34,34,47,34,34,47,47,47,47,47,34,34,47,47,34,47,34,34,34,34,47,34,34,47,47,47,47,47,34,34,34,47,34,34,34,34,34,47,47,47,34,47,34,47,34,47,47,47,34,47,47,47,47,47,34,34,34,47,34,47,34,47,47,47,34,47,34,34,47,34,34,34,47,47,47,47,34,34,47,34,47,34,47,34,34,34,34,34,34,47,47,34,34,47,34,34,47,34,34,47,34,34,47,47,47,34,34,34,47,47,47,47,34,47,47,47,34,47,34,47,47,47,34,47,34,34,47,34,47,47,47,47,34,47,47,34,47,34,47,47,47,34,47,47,47,47,47,34,47,47,34,34,47,34,47,34,34,34,47,47,34,47,34,47,34,34,34,47,47,47,34,47,34,34,47,34,34,34,47,47,47,47,47,47,47,34,47,34,34,47,34,34,47,47,34,47,34,34,34,34,47,34,47,34,47,47,47,47,47,34,47,47,47,34,34,47,47,34,34,47,47,47,34,47,47,34,34,34,47,47,47,34,34,34,47,34,47,47,34,47,47,47,34,47,47,34,47,47,34,47,47,34,34,34,47,47,47,34,47,34,34,47,34,47,34,47,47,34,47,47,47,47,47,34,47,34,47,47,34,34,34,47,47,34,34,47,47,47,47,47,34,34,34,47,47,34,47,47,47,34,34,34,34,47,47,34,34,47,47,47,47,47,34,34,34,47,47,34,47,47,47,34,34,47,34,34,47,34,47,34,47,34,34,47,34,47,47,34,34,47,34,34,34,34,47,34,34,47,47,47,47,47,47,47,34,34,34,34,34,34,34,34,47,47,34,34,47,47,47,47,34,47,47,47,34,34,47,47,34,34,34,34,47,34,34,47,47,34,34,47,47,34,34,34,34,34,34,47,47,34,47,47,34,34,47,34,34,34,34,47,34,34,34,34,34,34,47,47,47,47,34,47,34,34,34,34,47,47,34,34,47,47,47,47,47,34,34,47,47,47,47,47,47,47,47,47,34,34,47,34,47,47,34,47,47,47,34,34,47,47,34,34,47,47,47,34,34,47,34,34,34,34,34,34,47,47,47,47,34,47,47,34,34,47,34,47,34,34,34,47,34,34,47,34,34,34,34,34,47,34,34,47,47,34,34,34,47,47,34,47,47,47,47,47,34,47,34,47,34,34,34,34,47,34,47,34,34,47,47,34,34,47,34,34,34,34,47,47,34,47,34,34,34,34,47,47,47,47,47,47,34,34,47,47,34,34,34,34,34,34,47,34,47,47,34,47,34,47,34,34,34,47,34,34,34,34,34,34,47,47,34,34,47,34,34,47,47,34,34,47,34,34,47,47,34,34,34,34,34,47,34,47,47,47,47,47,34,47,47,34,47,47,34,47,47,34,34,47,34,47,47,47,47,34,47,34,47,34,47,34,47,47,34,47,47,47,47,47,34,34,34,47,47,34,47,47,47,47,34,34,47,47,34,47,34,47,34,34,34,47,34,47,47,34,47,47,34,34,34,47,47,34,34,34,47,47,34,47,47,34,34,34,34,34,47,34,47,34,47,47,34,34,47,34,47,34,34,34,34,47,47,34,47,34,47,34,34,47,34,47,34,34,34,47,47,47,47,34,34,47,47,47,47,34,34,47,47,34,34,47,34,34,47,34,47,47,34,47,34,34,47,47,47,34,47,47,47,47,34,47,34,34,34,34,34,34,34,34,47,34,34,34,34,47,47,47,47,34,47,34,34,34,47,34,34,34,47,34,47,34,34,34,34,47,34,34,34,47,34,47,47,47,34,34,47,47,47,47,47,34,47,47,47,47,34,34,47,34,34,47,34,47,34,47,34,34,47,47,47,34,47,47,34,34,34,47,34,34,47,47,47,34,47,34,34,47,47,47,47,34,34,47,34,47,34,47,34,47,34,34,47,47,47,34,34,34,34,47,34,47,47,47,47,47,34,47,47,47,34,34,47,47,34,47,34,34,34,34,47,34,34,47,34,47,34,47,47,34,34,47,47,34,34,47,34,47,47,34,47,47,34,34,34,34,47,34,47,47,47,34,47,34,34,34,34,34,47,47,34,47,47,47,34,34,47,34,47,34,34,47,34,34,47,47,47,34,47,34,34,34,47,34,34,34,47,47,47,34,34,34,47,47,47,34,34,34,34,34,34,47,34,47,34,34,47,34,34,47,34,47,47,34,47,47,34,47,34,34,47,34,34,34,47,34,47,47,47,34,47,34,47,47,34,47,34,34,47,47,34,34,47,47,47,34,47,47,47,34,34,47,47,34,34,47,34,47,34,34,34,34,47,47,34,47,47,47,47,34,34,47,34,34,34,47,47,34,34,34,47,34,47,34,34,34,47,47,47,47,34,34,47,47,34,47,47,47,47,34,34,47,47,47,34,47,47,47,47,47,47,34,34,47,47,34,34,34,34,47,47,47,34,34,47,47,47,47,47,34,47,34,47,47,34,34,34,47,34,34,34,34,47,47,34,47,47,34,34,47,34,34,47,34,34,34,47,47,34,34,47,34,34,47,47,47,34,34,47,34,47,34,34,34,47,34,47,47,34,34,34,34,34,47,34,47,47,47,47,47,34,34,34,34,47,34,47,34,47,47,34,34,34,47,47,47,47,47,47,34,47,47,47,47,47,34,47,34,34,34,34,47,34,34,34,34,47,47,34,47,34,47,34,47,47,34,34,34,47,34,47,47,47,34,47,34,47,47,34,47,34,47,47,34,47,47,47,47,34,47,34,47,47,47,34,34,47,47,34,47,34,34,34,34,47,34,47,34,47,34,34,34,34,34,47,34,47,47,34,34,34,47,34,34,34,47,47,47,47,34,34,47,34,34,47,47,47,34,47,34,34,47,47,47,34,34,34,34,34,34,47,34,34,34,47,47,47,34,34,34,34,47,47,47,34,34,47,47,47,47,47,34,47,34,34,34,47,34,34,47,47,34,34,47,34,34,47,47,47,34,47,34,47,34,47,47,47,34,47,47,47,34,47,34,47,47,34,47,34,34,47,34,47,34,34,47,47,47,34,47,34,34,47,47,47,47,47,34,47,47,47,34,34,34,34,47,34,47,34,34,34,34,34,34,34,47,47,47,47,34,47,47,47,47,47,34,34,34,47,47,47,47,47,34,34,47,47,34,34,47,47,34,34,47,34,34,34,34,34,47,47,34,34,47,34,34,34,47,47,47,47,47,34,34,34,47,34,34,47,34,47,47,47,47,47,47,34,34,47,47,47,34,34,47,47,47,34,47,34,34,34,47,47,47,47,47,47,47,34,47,34,34,34,34,47,47,34,47,47,34,47,47,34,34,47,47,34,47,47,47,34,34,34,34,34,34,34,34,34,34,47,34,47,34,47,34,34,34,34,47,34,34,34,34,34,34,47,34,47,34,34,34,47,47,34,47,47,34,34,47,34,47,34,47,34,34,47,47,47,34,47,34,47,34,47,47,34,47,34,47,47,34,34,34,34,47,34,47,34,34,34,34,34,34,34,47,47,34,47,34,47,47,34,47,34,34,34,47,47,34,34,47,34,47,47,34,47,34,47,47,34,34,47,47,34,34,34,47,34,34,34,47,47,34,34,47,47,34,47,34,47,34,47,47,34,34,47,34,47,34,47,47,34,47,47,34,47,47,34,34,47,34,34,34,34,47,47,47,34,34,34,47,34,47,47,34,34,34,34,47,34,34,47,47,47,47,47,34,34,34,47,34,47,34,47,34,34,34,34,47,47,47,47,47,34,47,47,34,34,34,47,34,47,34,47,34,47,34,47,34,34,34,47,47,47,34,34,34,47,34,34,34,47,47,47,34,47,34,47,34,34,47,34,47,34,34,34,34,34,47,47,47,47,34,34,34,34,47,34,47,47,34,47,34,34,47,47,47,34,34,47,47,34,47,34,34,34,34,34,34,34,47,47,34,34,47,34,34,34,47,47,47,34,34,34,47,47,34,34,47,34,47,47,34,47,47,47,47,34,34,47,47,47,47,34,34,47,34,47,47,47,47,34,34,34,47,47,34,34,47,34,47,34,47,34,47,47,47,34,47,47,34,47,34,34,34,34,47,34,34,47,34,34,47,47,34,47,34,34,47,47,47,47,34,47,47,34,34,34,34,47,34,34,34,34,47,47,34,34,47,47,34,34,34,47,47,34,34,47,34,47,47,47,47,47,34,34,47,34,47,34,47,47,47,47,47,47,47,34,47,34,47,47,47,47,47,47,47,47,34,34,34,47,47,34,47,34,47,34,34,47,47,47,47,47,34,47,34,47,34,34,47,47,47,47,34,34,34,34,47,34,34,34,34,47,34,47,34,34,47,34,34,47,47,34,34,47,47,47,47,47,34,34,47,34,34,34,34,47,47,34,47,47,47,47,47,47,34,47,47,47,47,47,47,47,47,47,47,34,47,47,34,34,47,47,47,34,47,34,34,34,34,34,34,47,47,47,34,34,34,47,34,34,34,34,47,47,34,34,47,47,47,47,34,47,34,47,47,47,47,47,34,34,34,47,34,34,47,47,34,47,34,34,47,34,47,47,47,34,34,47,34,34,47,34,34,47,47,47,47,47,47,47,47,47,34,47,34,34,34,47,47,34,34,47,34,47,34,34,34,47,47,47,34,47,47,34,34,47,47,34,34,34,47,47,47,47,34,47,47,47,34,34,47,47,34,34,47,47,47,47,47,47,34,34,34,47,34,34,34,47,34,47,47,34,34,47,47,34,47,34,47,47,47,34,34,47,47,34,34,34,34,47,47,47,47,34,34,34,34,34,47,34,34,47,34,47,34,34,34,47,47,47,34,47,34,34,34,47,34,34,47,47,47,47,47,47,34,47,47,34,47,47,34,47,47,34,47,47,47,34,34,47,47,34,34,34,34,34,34,47,34,34,47,34,34,34,34,47,47,47,34,34,47,34,34,34,34,47,34,34,34,47,34,47,47,34,47,34,34,34,47,34,34,34,47,34,47,34,34,47,34,47,47,34,47,47,34,34,34,34,34,34,47,47,47,47,47,34,47,34,34,47,47,34,47,47,34,47,47,47,34,34,47,47,47,34,34,47,34,47,47,47,34,34,34,47,47,47,47,47,47,34,47,47,47,47,47,34,34,34,47,34,34,47,47,47,47,34,47,34,34,34,47,47,34,34,47,47,47,47,47,47,34,47,34,47,47,34,34,47,34,34,34,47,34,47,47,47,34,47,47,34,47,34,34,47,34,34,47,47,47,47,47,34,34,34,47,34,34,34,47,34,47,47,47,47,47,34,47,34,47,47,47,47,34,47,34,47,47,47,47,47,47,47,34,34,34,34,34,47,34,34,47,34,47,34,34,47,47,47,47,47,47,47,34,47,47,47,47,34,34,47,47,34,34,34,47,47,34,34,34,47,34,47,34,34,34,34,47,34,47,47,34,47,47,47,47,47,47,47,47,47,34,47,47,34,47,47,47,47,47,34,47,34,34,34,47,34,34,47,47,47,34,47,34,34,34,47,47,34,34,34,47,47,34,34,47,34,34,47,34,34,34,47,34,34,34,34,34,47,47,47,34,47,47,34,47,47,34,34,47,34,34,34,47,34,34,47,34,34,47,34,34,34,34,34,34,34,34,47,47,47,47,34,34,34,34,47,34,47,47,47,47,47,34,34,34,34,47,47,47,34,47,34,34,47,47,47,47,34,47,34,47,47,47,34,34,34,47,34,47,47,34,34,34,34,34,47,47,34,34,47,47,47,47,34,47,47,34,47,47,34,47,34,34,34,47,34,34,47,34,34,47,34,47,47,34,47,34,47,34,34,34,34,47,34,47,34,34,34,47,47,47,47,47,47,47,34,34,47,34,34,34,47,47,47,34,47,34,34,47,34,47,47,47,47,34,47,47,47,34,34,47,47,47,34,34,47,34,47,34,34,47,34,34,47,34,34,34,47,47,47,34,34,34,47,34,47,34,47,34,34,47,34,34,47,34,47,47,47,34,34,34,47,47,34,47,34,47,34,47,34,34,34,47,47,47,47,34,47,47,34,47,34,34,34,34,34,34,34,34,47,47,34,34,34,34,34,47,34,34,47,47,34,47,34,34,47,47,34,47,34,34,34,34,34,34,47,47,34,34,34,47,47,47,47,47,47,47,34,34,34,47,34,34,47,47,47,47,34,47,47,34,34,47,47,34,47,47,34,34,47,47,47,47,47,34,34,34,34,47,34,47,34,34,47,34,47,47,47,34,34,47,47,47,47,34,47,34,34,47,34,34,47,34,47,47,34,47,34,47,47,47,47,47,47,47,34,34,34,34,34,34,34,34,34,47,34,47,47,47,47,47,47,47,47,34,47,47,47,47,47,47,34,47,47,47,47,34,34,34,47,47,34,47,47,47,47,47,47,34,47,34,34,34,34,34,34,34,47,34,34,47,34,47,47,34,47,34,34,34,47,34,34,34,34,34,47,47,34,34,34,47,47,47,47,47,34,47,47,34,47,34,47,47,47,34,47,34,34,47,47,47,34,47,47,47,47,47,34,47,34,34,47,34,34,47,34,34,47,34,34,47,47,34,34,47,47,47,34,47,47,47,34,47,34,34,47,47,34,34,34,47,34,34,34,34,47,34,34,47,34,34,47,34,47,47,34,47,47,34,34,47,34,34,34,47,34,47,34,34,34,34,34,47,34,34,47,34,34,34,47,34,47,34,47,47,34,34,34,34,34,47,34,47,34,34,47,47,47,34,47,34,34,47,47,47,34,34,34,34,34,34,47,47,34,47,47,47,34,34,34,34,34,34,47,47,47,47,34,34,47,47,47,47,34,34,34,34,34,47,34,47,34,34,47,47,47,47,47,34,34,34,34,47,34,34,34,34,34,34,47,34,47,34,34,47,47,34,34,47,34,47,34,34,34,47,47,34,34,47,47,47,47,34,34,34,47,34,47,47,34,47,34,34,47,34,47,47,34,47,34,34,47,47,47,47,34,47,47,47,34,47,34,34,47,34,34,47,34,47,47,47,34,34,47,34,47,34,34,34,34,47,47,34,34,34,47,34,47,34,47,34,34,34,47,34,34,47,34,34,34,47,34,34,34,47,34,47,47,47,34,47,34,34,47,47,34,47,47,47,47,47,47,47,47,34,34,47,34,34,34,34,34,47,47,47,34,34,34,47,47,34,47,34,34,34,47,47,47,47,34,34,34,34,47,47,47,34,47,34,34,47,47,47,34,47,47,34,34,47,47,34,47,47,47,34,47,47,47,34,47,34,47,47,34,34,34,47,34,47,47,47,34,47,47,47,47,34,34,34,47,34,34,47,47,34,34,34,34,34,47,34,34,47,47,34,34,47,34,34,34,34,47,47,47,47,47,47,34,34,34,34,47,34,34,34,47,47,34,34,47,47,47,47,47,47,47,34,47,47,47,47,34,34,34,34,34,34,34,34,47,34,34,34,47,47,34,34,47,34,34,34,34,47,47,47,47,47,47,34,34,47,47,34,47,47,34,47,47,34,47,34,47,34,47,47,34,47,34,34,47,34,47,34,34,34,47,47,34,34,34,47,34,47,34,34,34,47,34,47,34,47,34,47,47,34,34,47,47,47,34,47,47,47,34,34,47,34,47,47,47,47,34,47,34,47,34,34,47,34,34,47,47,47,47,47,34,47,47,47,47,47,34,47,34,47,34,34,34,47,47,47,34,47,34,34,34,47,47,47,34,47,47,34,34,34,34,34,47,47,47,47,47,47,34,47,34,47,34,34,34,34,47,47,47,47,47,34,34,47,34,47,34,34,34,34]\n",
    "temperatures = [73,74,75,71,69,72,76,73]\n",
    "temp = set(temperatures)\n",
    "temp = sorted(temp)\n",
    "print(temp)\n",
    "dict1 = dict()\n",
    "for i in range(len(temp)):\n",
    "    if i < len(temp)-1:\n",
    "        dict1[temp[i]]=temp[i+1]\n",
    "    else:\n",
    "        dict1[temp[i]]=0\n",
    "print(dict1)   \n",
    "stack =[]\n",
    "for i in range(len(temperatures)):\n",
    "    t = dict1.get(temperatures[i])\n",
    "    print('i {}'.format(i))\n",
    "    print('t {}'.format(t))\n",
    "    try:\n",
    "        if t != 0 and i < len(temperatures):\n",
    "            indx = temperatures.index(t,i)\n",
    "            stack.append(indx-i)\n",
    "        else:\n",
    "            stack.append(t)\n",
    "    except ValueError:\n",
    "        stack.append(0)\n",
    "    #print(t)\n",
    "print(stack)\n",
    "    "
   ]
  },
  {
   "cell_type": "code",
   "execution_count": null,
   "id": "2a6b2c2a",
   "metadata": {},
   "outputs": [],
   "source": [
    "for i in range(len(temperatures)):\n",
    "    for j in range(i,len(temperatures)):\n",
    "        if j < len(temperatures)-1 and temperatures[i]< temperatures[j+1]:\n",
    "            stack.append((j+1)-i)\n",
    "            break\n",
    "        elif j == len(temperatures)-1:\n",
    "            stack.append(0)\n",
    "        \n",
    "print(stack)\n"
   ]
  },
  {
   "cell_type": "code",
   "execution_count": 202,
   "id": "2078baa7",
   "metadata": {},
   "outputs": [
    {
     "ename": "ValueError",
     "evalue": "'cat' is not in list",
     "output_type": "error",
     "traceback": [
      "\u001b[0;31m---------------------------------------------------------------------------\u001b[0m",
      "\u001b[0;31mValueError\u001b[0m                                Traceback (most recent call last)",
      "\u001b[0;32m/var/folders/mv/r3kxcjmn4zz7jtgbs5_cf11w0000gn/T/ipykernel_38349/93832204.py\u001b[0m in \u001b[0;36m<module>\u001b[0;34m\u001b[0m\n\u001b[1;32m      4\u001b[0m \u001b[0;31m# Will print index of 'cat' in sublist\u001b[0m\u001b[0;34m\u001b[0m\u001b[0;34m\u001b[0m\u001b[0;34m\u001b[0m\u001b[0m\n\u001b[1;32m      5\u001b[0m \u001b[0;31m# having index from 2 to 6\u001b[0m\u001b[0;34m\u001b[0m\u001b[0;34m\u001b[0m\u001b[0;34m\u001b[0m\u001b[0m\n\u001b[0;32m----> 6\u001b[0;31m \u001b[0mprint\u001b[0m\u001b[0;34m(\u001b[0m\u001b[0mlist2\u001b[0m\u001b[0;34m.\u001b[0m\u001b[0mindex\u001b[0m\u001b[0;34m(\u001b[0m\u001b[0;34m'cat'\u001b[0m\u001b[0;34m,\u001b[0m \u001b[0;36m4\u001b[0m\u001b[0;34m,\u001b[0m \u001b[0;36m7\u001b[0m \u001b[0;34m)\u001b[0m\u001b[0;34m)\u001b[0m\u001b[0;34m\u001b[0m\u001b[0;34m\u001b[0m\u001b[0m\n\u001b[0m",
      "\u001b[0;31mValueError\u001b[0m: 'cat' is not in list"
     ]
    }
   ],
   "source": [
    "list2 = ['cat', 'bat', 'mat', 'cat', \n",
    "         'get', 'cam', 'sat', 'pet']\n",
    "  \n",
    "# Will print index of 'cat' in sublist\n",
    "# having index from 2 to 6\n",
    "print(list2.index('cat', 4, 7 ))"
   ]
  },
  {
   "cell_type": "code",
   "execution_count": 244,
   "id": "1d9c365b",
   "metadata": {},
   "outputs": [
    {
     "name": "stdout",
     "output_type": "stream",
     "text": [
      "3\n"
     ]
    }
   ],
   "source": [
    "low = 6\n",
    "high = 11\n",
    "count = 0\n",
    "if high%2 != 0 and low%2 !=0:\n",
    "     print((((high+1)-low)//2)+1)\n",
    "else:\n",
    "    print(((high+1)-low)//2)"
   ]
  },
  {
   "cell_type": "code",
   "execution_count": 257,
   "id": "43bcd4c1",
   "metadata": {},
   "outputs": [
    {
     "name": "stdout",
     "output_type": "stream",
     "text": [
      "defaultdict(<class 'list'>, {10: [19, 28], 2: [20], 3: [21], 4: [22], 5: [23], 6: [24], 7: [25], 8: [26], 9: [27]})\n",
      "2\n"
     ]
    }
   ],
   "source": [
    "lowLimit = 1\n",
    "highLimit = 10\n",
    "lowLimit = 5\n",
    "highLimit = 15\n",
    "lowLimit = 19\n",
    "highLimit = 28\n",
    "dict1 = defaultdict(list)\n",
    "for x in range(lowLimit,highLimit+1):\n",
    "    sum1 = 0\n",
    "    for y in str(x):\n",
    "        sum1 = sum1+int(y)\n",
    "    dict1[sum1].append(x)\n",
    "print(dict1)\n",
    "max_length = max([len(dict1.get(x)) for x in dict1])\n",
    "#stack = sum(1 for x in dict1 if len(dict1.get(x)) == max_length)\n",
    "print(max_length)"
   ]
  },
  {
   "cell_type": "code",
   "execution_count": 273,
   "id": "a418619c",
   "metadata": {},
   "outputs": [
    {
     "name": "stdout",
     "output_type": "stream",
     "text": [
      "12\n"
     ]
    }
   ],
   "source": [
    "deliciousness = [1,3,5,7,9]\n",
    "deliciousness = [1,1,7,3,3,3,3]\n",
    "deliciousness = [149,107,1,63,0,1,6867,1325,5611,2581,39,89,46,18,12,20,22,234]\n",
    "deliciousness= sorted(deliciousness)\n",
    "temp = deliciousness[len(deliciousness)-1]+deliciousness[len(deliciousness)-2]\n",
    "p = 0\n",
    "i = 0\n",
    "stack = []\n",
    "while p < temp:\n",
    "    p = pow(2,i)\n",
    "    stack.append(p)\n",
    "    i = i+1\n",
    "count = 0\n",
    "for i in range(len(deliciousness)):\n",
    "    for j in range(i+1,len(deliciousness)):\n",
    "        if deliciousness[i]+deliciousness[j] in stack:\n",
    "                count = count+1\n",
    "print(count)"
   ]
  },
  {
   "cell_type": "code",
   "execution_count": 289,
   "id": "79c9ded4",
   "metadata": {},
   "outputs": [
    {
     "name": "stdout",
     "output_type": "stream",
     "text": [
      "58\n"
     ]
    }
   ],
   "source": [
    "arr = [1,4,2,5,3]\n",
    "stack = []\n",
    "sum1 = 0\n",
    "for i in range(1, len(arr)+1):\n",
    "    if i%2 !=0:\n",
    "        for j in range(len(arr)):\n",
    "            if i+j <= len(arr):\n",
    "                stack.append(sum(arr[j:i+j]))\n",
    "print(sum(stack))"
   ]
  },
  {
   "cell_type": "code",
   "execution_count": 292,
   "id": "b171a828",
   "metadata": {},
   "outputs": [
    {
     "name": "stdout",
     "output_type": "stream",
     "text": [
      "0\n"
     ]
    }
   ],
   "source": [
    "gain = [-5,1,5,0,-7]\n",
    "gain = [-4,-3,-2,-1,4,3,2]\n",
    "temp = 0\n",
    "stack = []\n",
    "stack.append(temp)\n",
    "for x in gain: \n",
    "    temp = temp +x\n",
    "    stack.append(temp)\n",
    "print(max(stack))\n",
    "    \n",
    "    "
   ]
  },
  {
   "cell_type": "code",
   "execution_count": 298,
   "id": "706dd8e4",
   "metadata": {},
   "outputs": [
    {
     "name": "stdout",
     "output_type": "stream",
     "text": [
      "0\n"
     ]
    }
   ],
   "source": [
    "nums = [1,2,3,1,1,3]\n",
    "nums = [1,1,1,1]\n",
    "nums = [1,2,3]\n",
    "\n",
    "stack = []\n",
    "for i in range(len(nums)):\n",
    "    for j in range(i+1,len(nums)):\n",
    "        if i < j and nums[i]==nums[j]:\n",
    "            stack.append([i,j])\n",
    "print(len(stack))"
   ]
  },
  {
   "cell_type": "code",
   "execution_count": 310,
   "id": "fde94ae8",
   "metadata": {},
   "outputs": [
    {
     "name": "stdout",
     "output_type": "stream",
     "text": [
      "6\n",
      "3\n",
      "19\n"
     ]
    }
   ],
   "source": [
    "numBottles = 9\n",
    "numExchange = 3\n",
    "numBottles = 15\n",
    "numExchange = 4\n",
    "\n",
    "sum1 = numBottles\n",
    "while numBottles >= numExchange:\n",
    "    q, rem = divmod(numBottles,numExchange)\n",
    "    numBottles = q+rem \n",
    "    sum1 = sum1+q\n",
    "    print(numBottles)\n",
    "print(sum1)"
   ]
  },
  {
   "cell_type": "code",
   "execution_count": 323,
   "id": "5721238d",
   "metadata": {},
   "outputs": [
    {
     "name": "stdout",
     "output_type": "stream",
     "text": [
      "0\n"
     ]
    }
   ],
   "source": [
    "nums = [34,23,1,24,75,33,54,8]\n",
    "#nums = [99,77,33,66,55]\n",
    "minimum = min(nums)\n",
    "sum1 = 0\n",
    "for x in str(minimum):\n",
    "    sum1 = sum1+int(x)\n",
    "if sum1%2 ==0:\n",
    "    print(1)\n",
    "else:\n",
    "    print(0)"
   ]
  },
  {
   "cell_type": "code",
   "execution_count": null,
   "id": "e75128b1",
   "metadata": {},
   "outputs": [],
   "source": []
  }
 ],
 "metadata": {
  "kernelspec": {
   "display_name": "Python 3 (ipykernel)",
   "language": "python",
   "name": "python3"
  },
  "language_info": {
   "codemirror_mode": {
    "name": "ipython",
    "version": 3
   },
   "file_extension": ".py",
   "mimetype": "text/x-python",
   "name": "python",
   "nbconvert_exporter": "python",
   "pygments_lexer": "ipython3",
   "version": "3.7.6"
  }
 },
 "nbformat": 4,
 "nbformat_minor": 5
}
